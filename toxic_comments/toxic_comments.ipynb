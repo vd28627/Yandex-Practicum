{
 "cells": [
  {
   "cell_type": "markdown",
   "metadata": {},
   "source": [
    "## Подготовка"
   ]
  },
  {
   "cell_type": "code",
   "execution_count": 2,
   "metadata": {},
   "outputs": [
    {
     "name": "stderr",
     "output_type": "stream",
     "text": [
      "[nltk_data] Downloading package wordnet to /home/jovyan/nltk_data...\n",
      "[nltk_data]   Package wordnet is already up-to-date!\n",
      "[nltk_data] Downloading package averaged_perceptron_tagger to\n",
      "[nltk_data]     /home/jovyan/nltk_data...\n",
      "[nltk_data]   Unzipping taggers/averaged_perceptron_tagger.zip.\n",
      "[nltk_data] Downloading package stopwords to /home/jovyan/nltk_data...\n",
      "[nltk_data]   Package stopwords is already up-to-date!\n"
     ]
    }
   ],
   "source": [
    "import matplotlib.pyplot as plt\n",
    "import nltk\n",
    "import numpy as np\n",
    "import pandas as pd\n",
    "import pymorphy2\n",
    "import re\n",
    "import warnings\n",
    "import spacy\n",
    "import en_core_web_sm\n",
    "\n",
    "warnings.filterwarnings('ignore')\n",
    "nltk.download('wordnet')\n",
    "nltk.download('averaged_perceptron_tagger')\n",
    "nltk.download('stopwords')\n",
    "from nltk.tokenize import word_tokenize\n",
    "from nltk.stem import WordNetLemmatizer\n",
    "from nltk.corpus import wordnet\n",
    "from nltk.corpus import stopwords\n",
    "from sklearn.feature_extraction.text import TfidfVectorizer\n",
    "from sklearn.model_selection import train_test_split, GridSearchCV\n",
    "from sklearn.svm import LinearSVC\n",
    "from sklearn.linear_model import LogisticRegression\n",
    "from sklearn.metrics import f1_score"
   ]
  },
  {
   "cell_type": "markdown",
   "metadata": {},
   "source": [
    "Загрузим данные и посмотрим содержимое"
   ]
  },
  {
   "cell_type": "code",
   "execution_count": 3,
   "metadata": {},
   "outputs": [
    {
     "data": {
      "text/html": [
       "<div>\n",
       "<style scoped>\n",
       "    .dataframe tbody tr th:only-of-type {\n",
       "        vertical-align: middle;\n",
       "    }\n",
       "\n",
       "    .dataframe tbody tr th {\n",
       "        vertical-align: top;\n",
       "    }\n",
       "\n",
       "    .dataframe thead th {\n",
       "        text-align: right;\n",
       "    }\n",
       "</style>\n",
       "<table border=\"1\" class=\"dataframe\">\n",
       "  <thead>\n",
       "    <tr style=\"text-align: right;\">\n",
       "      <th></th>\n",
       "      <th>text</th>\n",
       "      <th>toxic</th>\n",
       "    </tr>\n",
       "  </thead>\n",
       "  <tbody>\n",
       "    <tr>\n",
       "      <th>0</th>\n",
       "      <td>Explanation\\nWhy the edits made under my usern...</td>\n",
       "      <td>0</td>\n",
       "    </tr>\n",
       "    <tr>\n",
       "      <th>1</th>\n",
       "      <td>D'aww! He matches this background colour I'm s...</td>\n",
       "      <td>0</td>\n",
       "    </tr>\n",
       "    <tr>\n",
       "      <th>2</th>\n",
       "      <td>Hey man, I'm really not trying to edit war. It...</td>\n",
       "      <td>0</td>\n",
       "    </tr>\n",
       "    <tr>\n",
       "      <th>3</th>\n",
       "      <td>\"\\nMore\\nI can't make any real suggestions on ...</td>\n",
       "      <td>0</td>\n",
       "    </tr>\n",
       "    <tr>\n",
       "      <th>4</th>\n",
       "      <td>You, sir, are my hero. Any chance you remember...</td>\n",
       "      <td>0</td>\n",
       "    </tr>\n",
       "  </tbody>\n",
       "</table>\n",
       "</div>"
      ],
      "text/plain": [
       "                                                text  toxic\n",
       "0  Explanation\\nWhy the edits made under my usern...      0\n",
       "1  D'aww! He matches this background colour I'm s...      0\n",
       "2  Hey man, I'm really not trying to edit war. It...      0\n",
       "3  \"\\nMore\\nI can't make any real suggestions on ...      0\n",
       "4  You, sir, are my hero. Any chance you remember...      0"
      ]
     },
     "metadata": {},
     "output_type": "display_data"
    },
    {
     "data": {
      "text/html": [
       "<div>\n",
       "<style scoped>\n",
       "    .dataframe tbody tr th:only-of-type {\n",
       "        vertical-align: middle;\n",
       "    }\n",
       "\n",
       "    .dataframe tbody tr th {\n",
       "        vertical-align: top;\n",
       "    }\n",
       "\n",
       "    .dataframe thead th {\n",
       "        text-align: right;\n",
       "    }\n",
       "</style>\n",
       "<table border=\"1\" class=\"dataframe\">\n",
       "  <thead>\n",
       "    <tr style=\"text-align: right;\">\n",
       "      <th></th>\n",
       "      <th>text</th>\n",
       "      <th>toxic</th>\n",
       "    </tr>\n",
       "  </thead>\n",
       "  <tbody>\n",
       "    <tr>\n",
       "      <th>159446</th>\n",
       "      <td>\":::::And for the second time of asking, when ...</td>\n",
       "      <td>0</td>\n",
       "    </tr>\n",
       "    <tr>\n",
       "      <th>159447</th>\n",
       "      <td>You should be ashamed of yourself \\n\\nThat is ...</td>\n",
       "      <td>0</td>\n",
       "    </tr>\n",
       "    <tr>\n",
       "      <th>159448</th>\n",
       "      <td>Spitzer \\n\\nUmm, theres no actual article for ...</td>\n",
       "      <td>0</td>\n",
       "    </tr>\n",
       "    <tr>\n",
       "      <th>159449</th>\n",
       "      <td>And it looks like it was actually you who put ...</td>\n",
       "      <td>0</td>\n",
       "    </tr>\n",
       "    <tr>\n",
       "      <th>159450</th>\n",
       "      <td>\"\\nAnd ... I really don't think you understand...</td>\n",
       "      <td>0</td>\n",
       "    </tr>\n",
       "  </tbody>\n",
       "</table>\n",
       "</div>"
      ],
      "text/plain": [
       "                                                     text  toxic\n",
       "159446  \":::::And for the second time of asking, when ...      0\n",
       "159447  You should be ashamed of yourself \\n\\nThat is ...      0\n",
       "159448  Spitzer \\n\\nUmm, theres no actual article for ...      0\n",
       "159449  And it looks like it was actually you who put ...      0\n",
       "159450  \"\\nAnd ... I really don't think you understand...      0"
      ]
     },
     "metadata": {},
     "output_type": "display_data"
    }
   ],
   "source": [
    "data = pd.read_csv('/datasets/toxic_comments.csv', index_col=0)\n",
    "display(data.head(5))\n",
    "display(data.tail(5))"
   ]
  },
  {
   "cell_type": "code",
   "execution_count": 4,
   "metadata": {},
   "outputs": [
    {
     "name": "stdout",
     "output_type": "stream",
     "text": [
      "<class 'pandas.core.frame.DataFrame'>\n",
      "Int64Index: 159292 entries, 0 to 159450\n",
      "Data columns (total 2 columns):\n",
      " #   Column  Non-Null Count   Dtype \n",
      "---  ------  --------------   ----- \n",
      " 0   text    159292 non-null  object\n",
      " 1   toxic   159292 non-null  int64 \n",
      "dtypes: int64(1), object(1)\n",
      "memory usage: 3.6+ MB\n"
     ]
    }
   ],
   "source": [
    "data.info()"
   ]
  },
  {
   "cell_type": "markdown",
   "metadata": {},
   "source": [
    "Проверим дисбалланас классов"
   ]
  },
  {
   "cell_type": "code",
   "execution_count": 6,
   "metadata": {
    "scrolled": true
   },
   "outputs": [
    {
     "data": {
      "text/plain": [
       "16186"
      ]
     },
     "metadata": {},
     "output_type": "display_data"
    },
    {
     "data": {
      "text/plain": [
       "143106"
      ]
     },
     "metadata": {},
     "output_type": "display_data"
    },
    {
     "data": {
      "text/plain": [
       "<AxesSubplot:>"
      ]
     },
     "execution_count": 6,
     "metadata": {},
     "output_type": "execute_result"
    },
    {
     "data": {
      "image/png": "[encoded data removed]",
      "text/plain": [
       "<Figure size 720x360 with 1 Axes>"
      ]
     },
     "metadata": {
      "needs_background": "light"
     },
     "output_type": "display_data"
    }
   ],
   "source": [
    "display(data[data['toxic'] == 1].shape[0])\n",
    "display(data[data['toxic'] == 0].shape[0])\n",
    "data['toxic'].value_counts().plot(kind='bar', figsize=(10, 5))"
   ]
  },
  {
   "cell_type": "markdown",
   "metadata": {},
   "source": [
    "Дисбаланс большой, учтем это при обучении модели в дальнейшем."
   ]
  },
  {
   "cell_type": "markdown",
   "metadata": {},
   "source": [
    "**Лемматизация и очистка**"
   ]
  },
  {
   "cell_type": "markdown",
   "metadata": {},
   "source": [
    "Сделаем лемматизацию с помощью SpaCy, переведем текст к нижнему регистру."
   ]
  },
  {
   "cell_type": "code",
   "execution_count": 8,
   "metadata": {},
   "outputs": [
    {
     "data": {
      "text/html": [
       "<div>\n",
       "<style scoped>\n",
       "    .dataframe tbody tr th:only-of-type {\n",
       "        vertical-align: middle;\n",
       "    }\n",
       "\n",
       "    .dataframe tbody tr th {\n",
       "        vertical-align: top;\n",
       "    }\n",
       "\n",
       "    .dataframe thead th {\n",
       "        text-align: right;\n",
       "    }\n",
       "</style>\n",
       "<table border=\"1\" class=\"dataframe\">\n",
       "  <thead>\n",
       "    <tr style=\"text-align: right;\">\n",
       "      <th></th>\n",
       "      <th>text</th>\n",
       "      <th>toxic</th>\n",
       "    </tr>\n",
       "  </thead>\n",
       "  <tbody>\n",
       "    <tr>\n",
       "      <th>0</th>\n",
       "      <td>explanation why the edits made under my userna...</td>\n",
       "      <td>0</td>\n",
       "    </tr>\n",
       "    <tr>\n",
       "      <th>1</th>\n",
       "      <td>daww he matches this background colour im seem...</td>\n",
       "      <td>0</td>\n",
       "    </tr>\n",
       "    <tr>\n",
       "      <th>2</th>\n",
       "      <td>hey man im really not trying to edit war its j...</td>\n",
       "      <td>0</td>\n",
       "    </tr>\n",
       "    <tr>\n",
       "      <th>3</th>\n",
       "      <td>more i cant make any real suggestions on impro...</td>\n",
       "      <td>0</td>\n",
       "    </tr>\n",
       "    <tr>\n",
       "      <th>4</th>\n",
       "      <td>you sir are my hero any chance you remember wh...</td>\n",
       "      <td>0</td>\n",
       "    </tr>\n",
       "  </tbody>\n",
       "</table>\n",
       "</div>"
      ],
      "text/plain": [
       "                                                text  toxic\n",
       "0  explanation why the edits made under my userna...      0\n",
       "1  daww he matches this background colour im seem...      0\n",
       "2  hey man im really not trying to edit war its j...      0\n",
       "3  more i cant make any real suggestions on impro...      0\n",
       "4  you sir are my hero any chance you remember wh...      0"
      ]
     },
     "metadata": {},
     "output_type": "display_data"
    }
   ],
   "source": [
    "data['text'] = data['text'].str.lower()\n",
    "def clean_text(string):\n",
    "    string = re.sub(r\"[\\n\\r]\", \" \", string)\n",
    "    string = re.sub(r\"[^a-zA-Z ]+\", \"\", string)\n",
    "    return string.strip()\n",
    "\n",
    "data['text'] = data['text'].apply(clean_text)\n",
    "display(data.head(5))"
   ]
  },
  {
   "cell_type": "code",
   "execution_count": 9,
   "metadata": {},
   "outputs": [],
   "source": [
    "nlp = spacy.load('en_core_web_sm', disable=['parser', 'ner'])"
   ]
  },
  {
   "cell_type": "code",
   "execution_count": 10,
   "metadata": {},
   "outputs": [],
   "source": [
    "def lemmatize(string):\n",
    "    result = []\n",
    "    for token in nlp(string):\n",
    "        if token.is_stop == False:\n",
    "            result.append(token.lemma_)\n",
    "    return ' '.join(result)"
   ]
  },
  {
   "cell_type": "code",
   "execution_count": 11,
   "metadata": {
    "scrolled": false
   },
   "outputs": [
    {
     "data": {
      "text/html": [
       "<div>\n",
       "<style scoped>\n",
       "    .dataframe tbody tr th:only-of-type {\n",
       "        vertical-align: middle;\n",
       "    }\n",
       "\n",
       "    .dataframe tbody tr th {\n",
       "        vertical-align: top;\n",
       "    }\n",
       "\n",
       "    .dataframe thead th {\n",
       "        text-align: right;\n",
       "    }\n",
       "</style>\n",
       "<table border=\"1\" class=\"dataframe\">\n",
       "  <thead>\n",
       "    <tr style=\"text-align: right;\">\n",
       "      <th></th>\n",
       "      <th>text</th>\n",
       "      <th>toxic</th>\n",
       "      <th>lemma</th>\n",
       "    </tr>\n",
       "  </thead>\n",
       "  <tbody>\n",
       "    <tr>\n",
       "      <th>0</th>\n",
       "      <td>explanation why the edits made under my userna...</td>\n",
       "      <td>0</td>\n",
       "      <td>explanation edit username hardcore metallica f...</td>\n",
       "    </tr>\n",
       "    <tr>\n",
       "      <th>1</th>\n",
       "      <td>daww he matches this background colour im seem...</td>\n",
       "      <td>0</td>\n",
       "      <td>daww match background colour m seemingly stuck...</td>\n",
       "    </tr>\n",
       "    <tr>\n",
       "      <th>2</th>\n",
       "      <td>hey man im really not trying to edit war its j...</td>\n",
       "      <td>0</td>\n",
       "      <td>hey man m try edit war guy constantly remove r...</td>\n",
       "    </tr>\n",
       "    <tr>\n",
       "      <th>3</th>\n",
       "      <td>more i cant make any real suggestions on impro...</td>\n",
       "      <td>0</td>\n",
       "      <td>not real suggestion improvement   wonder secti...</td>\n",
       "    </tr>\n",
       "    <tr>\n",
       "      <th>4</th>\n",
       "      <td>you sir are my hero any chance you remember wh...</td>\n",
       "      <td>0</td>\n",
       "      <td>sir hero chance remember page s</td>\n",
       "    </tr>\n",
       "  </tbody>\n",
       "</table>\n",
       "</div>"
      ],
      "text/plain": [
       "                                                text  toxic  \\\n",
       "0  explanation why the edits made under my userna...      0   \n",
       "1  daww he matches this background colour im seem...      0   \n",
       "2  hey man im really not trying to edit war its j...      0   \n",
       "3  more i cant make any real suggestions on impro...      0   \n",
       "4  you sir are my hero any chance you remember wh...      0   \n",
       "\n",
       "                                               lemma  \n",
       "0  explanation edit username hardcore metallica f...  \n",
       "1  daww match background colour m seemingly stuck...  \n",
       "2  hey man m try edit war guy constantly remove r...  \n",
       "3  not real suggestion improvement   wonder secti...  \n",
       "4                    sir hero chance remember page s  "
      ]
     },
     "metadata": {},
     "output_type": "display_data"
    }
   ],
   "source": [
    "data['lemma'] = data['text'].apply(lemmatize)\n",
    "display(data.head(5))"
   ]
  },
  {
   "cell_type": "markdown",
   "metadata": {},
   "source": [
    "**Создание выборок**"
   ]
  },
  {
   "cell_type": "markdown",
   "metadata": {},
   "source": [
    "Создадим обучающую и тестовую выборку, используем аргумент stratify, чтобы значения целевого признака были равномерно распределены в разных выборках."
   ]
  },
  {
   "cell_type": "code",
   "execution_count": 14,
   "metadata": {},
   "outputs": [
    {
     "data": {
      "text/plain": [
       "119469"
      ]
     },
     "metadata": {},
     "output_type": "display_data"
    },
    {
     "data": {
      "text/plain": [
       "39823"
      ]
     },
     "metadata": {},
     "output_type": "display_data"
    }
   ],
   "source": [
    "features = data['lemma']\n",
    "target = data['toxic']\n",
    "features_train, features_test, target_train, target_test = train_test_split(features, target, test_size=0.25,\n",
    "                                                                            random_state=12345, stratify=data['toxic'])\n",
    "display(features_train.shape[0])\n",
    "display(features_test.shape[0])"
   ]
  },
  {
   "cell_type": "markdown",
   "metadata": {},
   "source": [
    "**Векторизация**"
   ]
  },
  {
   "cell_type": "code",
   "execution_count": 15,
   "metadata": {},
   "outputs": [],
   "source": [
    "stop_words = set(stopwords.words('english'))\n",
    "count_tf_idf = TfidfVectorizer(stop_words=stop_words) \n",
    "count_tf_idf.fit(features_train) \n",
    "features_train = count_tf_idf.transform(features_train)\n",
    "features_test = count_tf_idf.transform(features_test)"
   ]
  },
  {
   "cell_type": "markdown",
   "metadata": {},
   "source": [
    "**Выводы:**\n",
    "\n",
    "1) Импортировали билиотеки\n",
    "\n",
    "2) Загрузили данные\n",
    "\n",
    "3) Изучили содержимое, удалили лишний столбец\n",
    "\n",
    "4) Провели лемматизацию, очистку и векторизацию."
   ]
  },
  {
   "cell_type": "markdown",
   "metadata": {},
   "source": [
    "## Обучение"
   ]
  },
  {
   "cell_type": "markdown",
   "metadata": {},
   "source": [
    "Попробуем обучить модели:\n",
    "\n",
    "1) LogisticRegression\n",
    "\n",
    "2) LinearSVC"
   ]
  },
  {
   "cell_type": "markdown",
   "metadata": {},
   "source": [
    "**LogisticRegression**"
   ]
  },
  {
   "cell_type": "code",
   "execution_count": 16,
   "metadata": {},
   "outputs": [
    {
     "name": "stdout",
     "output_type": "stream",
     "text": [
      "Fitting 3 folds for each of 2 candidates, totalling 6 fits\n"
     ]
    },
    {
     "data": {
      "text/plain": [
       "GridSearchCV(cv=3,\n",
       "             estimator=LogisticRegression(class_weight='balanced',\n",
       "                                          random_state=12345),\n",
       "             n_jobs=-1, param_grid=[{'C': [1, 10]}], scoring='f1',\n",
       "             verbose=True)"
      ]
     },
     "execution_count": 16,
     "metadata": {},
     "output_type": "execute_result"
    }
   ],
   "source": [
    "model_LR = LogisticRegression(random_state=12345, class_weight='balanced')\n",
    "parameters_grid = [{'C': [1, 10]}]\n",
    "\n",
    "LR_model_gscv = GridSearchCV(model_LR, param_grid=parameters_grid, scoring='f1', n_jobs=-1, verbose=True, cv=3)\n",
    "LR_model_gscv.fit(features_train, target_train)\n"
   ]
  },
  {
   "cell_type": "code",
   "execution_count": 17,
   "metadata": {
    "scrolled": true
   },
   "outputs": [
    {
     "data": {
      "text/plain": [
       "{'C': 10}"
      ]
     },
     "metadata": {},
     "output_type": "display_data"
    },
    {
     "data": {
      "text/plain": [
       "0.7653744412876691"
      ]
     },
     "metadata": {},
     "output_type": "display_data"
    }
   ],
   "source": [
    "display(LR_model_gscv.best_params_)\n",
    "display(LR_model_gscv.best_score_)\n",
    "results_LR=pd.DataFrame(LR_model_gscv.cv_results_)"
   ]
  },
  {
   "cell_type": "markdown",
   "metadata": {},
   "source": [
    "**LinearSVC**"
   ]
  },
  {
   "cell_type": "code",
   "execution_count": 18,
   "metadata": {},
   "outputs": [
    {
     "data": {
      "text/plain": [
       "GridSearchCV(cv=3,\n",
       "             estimator=LinearSVC(class_weight='balanced', random_state=12345),\n",
       "             param_grid={'C': [1, 5]}, scoring='f1')"
      ]
     },
     "execution_count": 18,
     "metadata": {},
     "output_type": "execute_result"
    }
   ],
   "source": [
    "parametrs_grid = {'C': [1, 5]}\n",
    "SVC_model = LinearSVC(random_state=12345, class_weight='balanced')\n",
    "\n",
    "SVC_model_gscv = GridSearchCV(SVC_model, param_grid=parametrs_grid, scoring='f1', cv=3)\n",
    "\n",
    "SVC_model_gscv.fit(features_train, target_train)"
   ]
  },
  {
   "cell_type": "code",
   "execution_count": 19,
   "metadata": {},
   "outputs": [
    {
     "data": {
      "text/plain": [
       "{'C': 1}"
      ]
     },
     "metadata": {},
     "output_type": "display_data"
    },
    {
     "data": {
      "text/plain": [
       "0.7595471147901417"
      ]
     },
     "metadata": {},
     "output_type": "display_data"
    }
   ],
   "source": [
    "display(SVC_model_gscv.best_params_)\n",
    "display(SVC_model_gscv.best_score_)\n",
    "results_SVC=pd.DataFrame(SVC_model_gscv.cv_results_)"
   ]
  },
  {
   "cell_type": "markdown",
   "metadata": {},
   "source": [
    "Лучший результат показала модель LinearRegression. Проверим ее на тестовой выборке."
   ]
  },
  {
   "cell_type": "code",
   "execution_count": 20,
   "metadata": {},
   "outputs": [
    {
     "data": {
      "text/plain": [
       "'F1: 0.7646'"
      ]
     },
     "metadata": {},
     "output_type": "display_data"
    }
   ],
   "source": [
    "model_LR = LogisticRegression(random_state=12345, class_weight='balanced', C=10)\n",
    "model_LR.fit(features_train, target_train)\n",
    "predictions=model_LR.predict(features_test)\n",
    "display('F1: {:.4f}'.format(f1_score(target_test, predictions)))"
   ]
  },
  {
   "cell_type": "markdown",
   "metadata": {},
   "source": [
    "**Выводы**\n",
    "\n",
    "1) Обучили две модели\n",
    "\n",
    "2) Лучшая модель- LogisticRegression\n",
    "\n",
    "3) Проверили модель на тестовой выборке, результат выше целевого: F1: 0.7646"
   ]
  },
  {
   "cell_type": "markdown",
   "metadata": {},
   "source": [
    "## Выводы"
   ]
  },
  {
   "cell_type": "markdown",
   "metadata": {},
   "source": [
    "1) Импортировали необходимые библиотеки, загрузили данные\n",
    "\n",
    "2) Изучили данные, обнаружили дисбаланс классов\n",
    "\n",
    "3) Провели очистку данных, после чего- их лемматизацию и векторизацию\n",
    "\n",
    "4) Обучили модели, нашли модель с наибольшей точностью- LinearRegression\n",
    "\n",
    "5) Хотя модель LinearRegression и точнее, модель LinearSVC- быстрее:"
   ]
  },
  {
   "cell_type": "code",
   "execution_count": 21,
   "metadata": {},
   "outputs": [
    {
     "data": {
      "text/plain": [
       "'Время обучения SVC'"
      ]
     },
     "metadata": {},
     "output_type": "display_data"
    },
    {
     "data": {
      "text/plain": [
       "1.5098605155944824"
      ]
     },
     "metadata": {},
     "output_type": "display_data"
    },
    {
     "data": {
      "text/plain": [
       "'Время предсказания SVC'"
      ]
     },
     "metadata": {},
     "output_type": "display_data"
    },
    {
     "data": {
      "text/plain": [
       "0.013874292373657227"
      ]
     },
     "metadata": {},
     "output_type": "display_data"
    },
    {
     "data": {
      "text/plain": [
       "'Время обучения LR'"
      ]
     },
     "metadata": {},
     "output_type": "display_data"
    },
    {
     "data": {
      "text/plain": [
       "44.955573638280235"
      ]
     },
     "metadata": {},
     "output_type": "display_data"
    },
    {
     "data": {
      "text/plain": [
       "'Время предсказания LR'"
      ]
     },
     "metadata": {},
     "output_type": "display_data"
    },
    {
     "data": {
      "text/plain": [
       "0.04329450925191244"
      ]
     },
     "metadata": {},
     "output_type": "display_data"
    }
   ],
   "source": [
    "display('Время обучения SVC', results_SVC.loc[results_SVC['rank_test_score'] == 1]['mean_fit_time'].values[0])\n",
    "display('Время предсказания SVC', results_SVC.loc[results_SVC['rank_test_score'] == 1]['mean_score_time'].values[0])\n",
    "\n",
    "display('Время обучения LR', results_LR.loc[results_LR['rank_test_score'] == 1]['mean_fit_time'].values[0])\n",
    "display('Время предсказания LR', results_LR.loc[results_LR['rank_test_score'] == 1]['mean_score_time'].values[0])"
   ]
  },
  {
   "cell_type": "markdown",
   "metadata": {},
   "source": [
    "Поэтому, если точность для нас отходит на второй план (разница между моделями невелика), то можно сделать выбор и в пользу модели LinearSVC."
   ]
  },
  {
   "cell_type": "markdown",
   "metadata": {},
   "source": [
    "6) Обе модели показали результат выше целевого."
   ]
  },
  {
   "cell_type": "code",
   "execution_count": null,
   "metadata": {},
   "outputs": [],
   "source": []
  }
 ],
 "metadata": {
  "ExecuteTimeLog": [
   {
    "duration": 370,
    "start_time": "2022-11-24T09:59:00.533Z"
   },
   {
    "duration": 130,
    "start_time": "2022-11-24T09:59:29.992Z"
   },
   {
    "duration": 12,
    "start_time": "2022-11-24T09:59:41.299Z"
   },
   {
    "duration": 34,
    "start_time": "2022-11-24T10:00:10.288Z"
   },
   {
    "duration": 2571,
    "start_time": "2022-11-24T10:01:14.482Z"
   },
   {
    "duration": 29,
    "start_time": "2022-11-24T10:04:14.018Z"
   },
   {
    "duration": 927,
    "start_time": "2022-11-24T10:07:14.434Z"
   },
   {
    "duration": 7,
    "start_time": "2022-11-24T10:09:52.395Z"
   },
   {
    "duration": 25,
    "start_time": "2022-11-24T10:10:02.052Z"
   },
   {
    "duration": 12,
    "start_time": "2022-11-24T10:14:13.049Z"
   },
   {
    "duration": 6,
    "start_time": "2022-11-24T10:14:23.585Z"
   },
   {
    "duration": 15,
    "start_time": "2022-11-24T10:16:00.634Z"
   },
   {
    "duration": 3,
    "start_time": "2022-11-24T10:32:25.368Z"
   },
   {
    "duration": 2212,
    "start_time": "2022-11-24T10:38:46.955Z"
   },
   {
    "duration": 73,
    "start_time": "2022-11-24T10:40:42.817Z"
   },
   {
    "duration": 3,
    "start_time": "2022-11-24T10:40:49.889Z"
   },
   {
    "duration": 11,
    "start_time": "2022-11-24T10:41:04.747Z"
   },
   {
    "duration": 12,
    "start_time": "2022-11-24T10:41:12.202Z"
   },
   {
    "duration": 5,
    "start_time": "2022-11-24T10:41:20.699Z"
   },
   {
    "duration": 34,
    "start_time": "2022-11-24T10:41:43.424Z"
   },
   {
    "duration": 10,
    "start_time": "2022-11-24T10:47:24.080Z"
   },
   {
    "duration": 6,
    "start_time": "2022-11-24T10:47:34.782Z"
   },
   {
    "duration": 28,
    "start_time": "2022-11-24T10:50:43.817Z"
   },
   {
    "duration": 10,
    "start_time": "2022-11-24T10:50:45.780Z"
   },
   {
    "duration": 123036,
    "start_time": "2022-11-24T10:51:46.983Z"
   },
   {
    "duration": 2403,
    "start_time": "2022-11-24T10:57:42.408Z"
   },
   {
    "duration": 2404,
    "start_time": "2022-11-24T10:57:44.815Z"
   },
   {
    "duration": 29,
    "start_time": "2022-11-24T10:57:47.221Z"
   },
   {
    "duration": 24,
    "start_time": "2022-11-24T10:57:47.252Z"
   },
   {
    "duration": 9,
    "start_time": "2022-11-24T10:57:47.278Z"
   },
   {
    "duration": 12,
    "start_time": "2022-11-24T10:57:47.288Z"
   },
   {
    "duration": 2580,
    "start_time": "2022-11-24T10:58:02.619Z"
   },
   {
    "duration": 2369,
    "start_time": "2022-11-24T10:58:05.202Z"
   },
   {
    "duration": 32,
    "start_time": "2022-11-24T10:58:07.573Z"
   },
   {
    "duration": 17,
    "start_time": "2022-11-24T10:58:07.607Z"
   },
   {
    "duration": 18,
    "start_time": "2022-11-24T10:58:07.626Z"
   },
   {
    "duration": 10,
    "start_time": "2022-11-24T10:58:07.646Z"
   },
   {
    "duration": 19,
    "start_time": "2022-11-24T10:58:07.658Z"
   },
   {
    "duration": 6,
    "start_time": "2022-11-24T10:58:07.679Z"
   },
   {
    "duration": 121082,
    "start_time": "2022-11-24T10:58:07.686Z"
   },
   {
    "duration": 2484,
    "start_time": "2022-11-24T19:41:11.575Z"
   },
   {
    "duration": 2365,
    "start_time": "2022-11-24T19:41:14.062Z"
   },
   {
    "duration": 34,
    "start_time": "2022-11-24T19:41:16.428Z"
   },
   {
    "duration": 21,
    "start_time": "2022-11-24T19:41:16.463Z"
   },
   {
    "duration": 15,
    "start_time": "2022-11-24T19:41:16.486Z"
   },
   {
    "duration": 23,
    "start_time": "2022-11-24T19:41:16.502Z"
   },
   {
    "duration": 1979,
    "start_time": "2022-11-24T19:41:16.526Z"
   },
   {
    "duration": 11,
    "start_time": "2022-11-24T19:41:18.507Z"
   },
   {
    "duration": 118,
    "start_time": "2022-11-24T19:41:18.519Z"
   },
   {
    "duration": 10,
    "start_time": "2022-11-24T19:41:49.231Z"
   },
   {
    "duration": 4,
    "start_time": "2022-11-24T19:41:58.696Z"
   },
   {
    "duration": 1900,
    "start_time": "2022-11-24T19:42:25.989Z"
   },
   {
    "duration": 843,
    "start_time": "2022-11-24T19:42:27.891Z"
   },
   {
    "duration": 46,
    "start_time": "2022-11-24T19:42:28.736Z"
   },
   {
    "duration": 18,
    "start_time": "2022-11-24T19:42:28.784Z"
   },
   {
    "duration": 13,
    "start_time": "2022-11-24T19:42:28.804Z"
   },
   {
    "duration": 12,
    "start_time": "2022-11-24T19:42:28.818Z"
   },
   {
    "duration": 10,
    "start_time": "2022-11-24T19:42:28.832Z"
   },
   {
    "duration": 120272,
    "start_time": "2022-11-24T19:42:28.843Z"
   },
   {
    "duration": 129,
    "start_time": "2022-11-24T19:44:45.650Z"
   },
   {
    "duration": 17,
    "start_time": "2022-11-24T19:44:55.527Z"
   },
   {
    "duration": 5,
    "start_time": "2022-11-24T19:44:58.216Z"
   },
   {
    "duration": 2023,
    "start_time": "2022-11-24T19:45:38.473Z"
   },
   {
    "duration": 5,
    "start_time": "2022-11-24T19:45:43.022Z"
   },
   {
    "duration": 3,
    "start_time": "2022-11-24T19:46:04.618Z"
   },
   {
    "duration": 9,
    "start_time": "2022-11-24T19:46:10.731Z"
   },
   {
    "duration": 8,
    "start_time": "2022-11-24T19:46:29.046Z"
   },
   {
    "duration": 27,
    "start_time": "2022-11-24T19:47:09.638Z"
   },
   {
    "duration": 4,
    "start_time": "2022-11-24T19:47:52.385Z"
   },
   {
    "duration": 11,
    "start_time": "2022-11-24T19:51:18.633Z"
   },
   {
    "duration": 3,
    "start_time": "2022-11-24T19:51:21.566Z"
   },
   {
    "duration": 120964,
    "start_time": "2022-11-24T19:51:23.253Z"
   },
   {
    "duration": 3,
    "start_time": "2022-11-24T19:55:19.468Z"
   },
   {
    "duration": 4022,
    "start_time": "2022-11-24T19:56:23.041Z"
   },
   {
    "duration": 2719,
    "start_time": "2022-11-25T04:47:59.087Z"
   },
   {
    "duration": 3112,
    "start_time": "2022-11-25T04:48:01.808Z"
   },
   {
    "duration": 32,
    "start_time": "2022-11-25T04:48:04.921Z"
   },
   {
    "duration": 17,
    "start_time": "2022-11-25T04:48:04.955Z"
   },
   {
    "duration": 13,
    "start_time": "2022-11-25T04:48:04.973Z"
   },
   {
    "duration": 5,
    "start_time": "2022-11-25T04:48:04.987Z"
   },
   {
    "duration": 115341,
    "start_time": "2022-11-25T04:48:04.993Z"
   },
   {
    "duration": 3,
    "start_time": "2022-11-25T04:50:00.336Z"
   },
   {
    "duration": 3931,
    "start_time": "2022-11-25T04:50:00.341Z"
   },
   {
    "duration": 27314,
    "start_time": "2022-11-25T04:53:32.422Z"
   },
   {
    "duration": 4,
    "start_time": "2022-11-25T04:54:49.580Z"
   },
   {
    "duration": 1881,
    "start_time": "2022-11-25T07:22:47.785Z"
   },
   {
    "duration": 787,
    "start_time": "2022-11-25T07:22:49.669Z"
   },
   {
    "duration": 33,
    "start_time": "2022-11-25T07:22:50.457Z"
   },
   {
    "duration": 36,
    "start_time": "2022-11-25T07:22:50.492Z"
   },
   {
    "duration": 22,
    "start_time": "2022-11-25T07:22:50.530Z"
   },
   {
    "duration": 18,
    "start_time": "2022-11-25T07:22:50.553Z"
   },
   {
    "duration": 124667,
    "start_time": "2022-11-25T07:22:50.573Z"
   },
   {
    "duration": 3,
    "start_time": "2022-11-25T07:24:55.242Z"
   },
   {
    "duration": 4304,
    "start_time": "2022-11-25T07:24:55.247Z"
   },
   {
    "duration": 28871,
    "start_time": "2022-11-25T07:24:59.553Z"
   },
   {
    "duration": 1967,
    "start_time": "2022-11-25T07:34:00.197Z"
   },
   {
    "duration": 771,
    "start_time": "2022-11-25T07:34:02.166Z"
   },
   {
    "duration": 32,
    "start_time": "2022-11-25T07:34:02.939Z"
   },
   {
    "duration": 31,
    "start_time": "2022-11-25T07:34:02.973Z"
   },
   {
    "duration": 39,
    "start_time": "2022-11-25T07:34:03.007Z"
   },
   {
    "duration": 61,
    "start_time": "2022-11-25T07:34:03.047Z"
   },
   {
    "duration": 4,
    "start_time": "2022-11-25T07:34:03.109Z"
   },
   {
    "duration": 126846,
    "start_time": "2022-11-25T07:34:03.114Z"
   },
   {
    "duration": 3,
    "start_time": "2022-11-25T07:36:09.961Z"
   },
   {
    "duration": 4350,
    "start_time": "2022-11-25T07:36:09.966Z"
   },
   {
    "duration": 28014,
    "start_time": "2022-11-25T07:36:14.317Z"
   },
   {
    "duration": 5,
    "start_time": "2022-11-25T07:39:49.581Z"
   },
   {
    "duration": 4,
    "start_time": "2022-11-25T07:40:08.180Z"
   },
   {
    "duration": 5,
    "start_time": "2022-11-25T07:40:14.050Z"
   },
   {
    "duration": 5,
    "start_time": "2022-11-25T07:40:19.880Z"
   },
   {
    "duration": 1922,
    "start_time": "2022-11-25T08:10:45.162Z"
   },
   {
    "duration": 754,
    "start_time": "2022-11-25T08:10:47.086Z"
   },
   {
    "duration": 33,
    "start_time": "2022-11-25T08:10:47.842Z"
   },
   {
    "duration": 30,
    "start_time": "2022-11-25T08:10:47.877Z"
   },
   {
    "duration": 17,
    "start_time": "2022-11-25T08:10:47.909Z"
   },
   {
    "duration": 43,
    "start_time": "2022-11-25T08:10:47.928Z"
   },
   {
    "duration": 3,
    "start_time": "2022-11-25T08:10:47.973Z"
   },
   {
    "duration": 120548,
    "start_time": "2022-11-25T08:10:47.977Z"
   },
   {
    "duration": 2,
    "start_time": "2022-11-25T08:12:48.527Z"
   },
   {
    "duration": 4063,
    "start_time": "2022-11-25T08:12:48.531Z"
   },
   {
    "duration": 28070,
    "start_time": "2022-11-25T08:12:52.596Z"
   },
   {
    "duration": 853380,
    "start_time": "2022-11-25T08:13:20.667Z"
   },
   {
    "duration": 4,
    "start_time": "2022-11-25T08:35:24.298Z"
   },
   {
    "duration": 16,
    "start_time": "2022-11-25T08:36:16.712Z"
   },
   {
    "duration": 5,
    "start_time": "2022-11-25T08:36:23.039Z"
   },
   {
    "duration": 13,
    "start_time": "2022-11-25T08:40:15.864Z"
   },
   {
    "duration": 27,
    "start_time": "2022-11-25T08:40:46.986Z"
   },
   {
    "duration": 11,
    "start_time": "2022-11-25T08:40:52.602Z"
   },
   {
    "duration": 13,
    "start_time": "2022-11-25T08:41:05.521Z"
   },
   {
    "duration": 4443651,
    "start_time": "2022-11-25T08:41:26.551Z"
   },
   {
    "duration": 6,
    "start_time": "2022-11-25T09:55:30.204Z"
   },
   {
    "duration": 0,
    "start_time": "2022-11-25T09:55:30.258Z"
   },
   {
    "duration": 0,
    "start_time": "2022-11-25T09:55:30.259Z"
   },
   {
    "duration": 12,
    "start_time": "2022-11-25T10:21:41.947Z"
   },
   {
    "duration": 6,
    "start_time": "2022-11-25T10:22:47.530Z"
   },
   {
    "duration": 387264,
    "start_time": "2022-11-25T10:26:25.197Z"
   },
   {
    "duration": 62,
    "start_time": "2022-11-25T10:37:32.312Z"
   },
   {
    "duration": 2585,
    "start_time": "2022-11-25T10:38:27.319Z"
   },
   {
    "duration": 3348,
    "start_time": "2022-11-25T10:38:29.906Z"
   },
   {
    "duration": 33,
    "start_time": "2022-11-25T10:38:33.256Z"
   },
   {
    "duration": 18,
    "start_time": "2022-11-25T10:38:33.292Z"
   },
   {
    "duration": 19,
    "start_time": "2022-11-25T10:38:33.312Z"
   },
   {
    "duration": 37,
    "start_time": "2022-11-25T10:38:33.333Z"
   },
   {
    "duration": 4,
    "start_time": "2022-11-25T10:38:33.371Z"
   },
   {
    "duration": 129758,
    "start_time": "2022-11-25T10:38:33.377Z"
   },
   {
    "duration": 3,
    "start_time": "2022-11-25T10:40:43.136Z"
   },
   {
    "duration": 4361,
    "start_time": "2022-11-25T10:40:43.141Z"
   },
   {
    "duration": 30533,
    "start_time": "2022-11-25T10:40:47.504Z"
   },
   {
    "duration": 1928,
    "start_time": "2022-11-25T10:45:35.123Z"
   },
   {
    "duration": 800,
    "start_time": "2022-11-25T10:45:37.053Z"
   },
   {
    "duration": 34,
    "start_time": "2022-11-25T10:45:37.855Z"
   },
   {
    "duration": 38,
    "start_time": "2022-11-25T10:45:37.891Z"
   },
   {
    "duration": 12,
    "start_time": "2022-11-25T10:45:37.931Z"
   },
   {
    "duration": 35,
    "start_time": "2022-11-25T10:45:37.945Z"
   },
   {
    "duration": 4,
    "start_time": "2022-11-25T10:45:37.982Z"
   },
   {
    "duration": 129667,
    "start_time": "2022-11-25T10:45:37.988Z"
   },
   {
    "duration": 3,
    "start_time": "2022-11-25T10:47:47.657Z"
   },
   {
    "duration": 4597,
    "start_time": "2022-11-25T10:47:47.662Z"
   },
   {
    "duration": 31379,
    "start_time": "2022-11-25T10:47:52.262Z"
   },
   {
    "duration": 955615,
    "start_time": "2022-11-25T10:48:23.643Z"
   },
   {
    "duration": 16,
    "start_time": "2022-11-25T11:04:19.260Z"
   },
   {
    "duration": 971,
    "start_time": "2022-11-25T11:12:54.508Z"
   },
   {
    "duration": 2100,
    "start_time": "2022-11-25T11:13:11.058Z"
   },
   {
    "duration": 3620,
    "start_time": "2022-11-25T11:13:13.160Z"
   },
   {
    "duration": 37,
    "start_time": "2022-11-25T11:13:16.782Z"
   },
   {
    "duration": 31,
    "start_time": "2022-11-25T11:13:16.821Z"
   },
   {
    "duration": 19,
    "start_time": "2022-11-25T11:13:16.855Z"
   },
   {
    "duration": 62,
    "start_time": "2022-11-25T11:13:16.876Z"
   },
   {
    "duration": 4,
    "start_time": "2022-11-25T11:13:16.941Z"
   },
   {
    "duration": 138969,
    "start_time": "2022-11-25T11:13:16.948Z"
   },
   {
    "duration": 3,
    "start_time": "2022-11-25T11:15:35.921Z"
   },
   {
    "duration": 4596,
    "start_time": "2022-11-25T11:15:35.926Z"
   },
   {
    "duration": 32832,
    "start_time": "2022-11-25T11:15:40.524Z"
   },
   {
    "duration": 2724,
    "start_time": "2022-11-25T11:28:00.539Z"
   },
   {
    "duration": 3333,
    "start_time": "2022-11-25T11:28:03.265Z"
   },
   {
    "duration": 37,
    "start_time": "2022-11-25T11:28:06.599Z"
   },
   {
    "duration": 18,
    "start_time": "2022-11-25T11:28:06.638Z"
   },
   {
    "duration": 12,
    "start_time": "2022-11-25T11:28:06.659Z"
   },
   {
    "duration": 63,
    "start_time": "2022-11-25T11:28:06.672Z"
   },
   {
    "duration": 3,
    "start_time": "2022-11-25T11:28:06.737Z"
   },
   {
    "duration": 134528,
    "start_time": "2022-11-25T11:28:06.742Z"
   },
   {
    "duration": 4,
    "start_time": "2022-11-25T11:30:21.272Z"
   },
   {
    "duration": 4298,
    "start_time": "2022-11-25T11:30:21.277Z"
   },
   {
    "duration": 32289,
    "start_time": "2022-11-25T11:30:25.578Z"
   },
   {
    "duration": 46355,
    "start_time": "2022-11-25T11:31:05.935Z"
   },
   {
    "duration": 6,
    "start_time": "2022-11-25T11:32:06.077Z"
   },
   {
    "duration": 127,
    "start_time": "2022-11-25T11:33:20.876Z"
   },
   {
    "duration": 18179,
    "start_time": "2022-11-25T11:33:45.387Z"
   },
   {
    "duration": 7,
    "start_time": "2022-11-25T11:34:32.743Z"
   },
   {
    "duration": 936773,
    "start_time": "2022-11-25T11:35:35.144Z"
   },
   {
    "duration": 8,
    "start_time": "2022-11-25T11:53:20.808Z"
   },
   {
    "duration": 12,
    "start_time": "2022-11-25T11:57:29.356Z"
   },
   {
    "duration": 3532948,
    "start_time": "2022-11-25T11:58:01.051Z"
   },
   {
    "duration": 227710,
    "start_time": "2022-11-25T12:59:15.786Z"
   },
   {
    "duration": 5,
    "start_time": "2022-11-25T13:03:21.758Z"
   },
   {
    "duration": 191220,
    "start_time": "2022-11-25T13:03:37.049Z"
   },
   {
    "duration": 6,
    "start_time": "2022-11-25T13:08:03.659Z"
   },
   {
    "duration": 85967,
    "start_time": "2022-11-25T13:08:28.806Z"
   },
   {
    "duration": 7,
    "start_time": "2022-11-25T13:10:09.681Z"
   },
   {
    "duration": 4,
    "start_time": "2022-11-25T13:15:19.084Z"
   },
   {
    "duration": 137383,
    "start_time": "2022-11-25T13:18:36.414Z"
   },
   {
    "duration": 14,
    "start_time": "2022-11-25T13:22:32.990Z"
   },
   {
    "duration": 4,
    "start_time": "2022-11-25T13:24:57.447Z"
   },
   {
    "duration": 8,
    "start_time": "2022-11-25T13:25:19.176Z"
   },
   {
    "duration": 2018,
    "start_time": "2022-11-25T13:26:05.889Z"
   },
   {
    "duration": 848,
    "start_time": "2022-11-25T13:26:07.909Z"
   },
   {
    "duration": 46,
    "start_time": "2022-11-25T13:26:08.760Z"
   },
   {
    "duration": 37,
    "start_time": "2022-11-25T13:26:08.807Z"
   },
   {
    "duration": 18,
    "start_time": "2022-11-25T13:26:08.847Z"
   },
   {
    "duration": 33,
    "start_time": "2022-11-25T13:26:08.867Z"
   },
   {
    "duration": 12,
    "start_time": "2022-11-25T13:26:08.922Z"
   },
   {
    "duration": 145448,
    "start_time": "2022-11-25T13:26:08.936Z"
   },
   {
    "duration": 4,
    "start_time": "2022-11-25T13:28:34.386Z"
   },
   {
    "duration": 4937,
    "start_time": "2022-11-25T13:28:34.392Z"
   },
   {
    "duration": 32468,
    "start_time": "2022-11-25T13:28:39.330Z"
   },
   {
    "duration": 921248,
    "start_time": "2022-11-25T13:29:11.799Z"
   },
   {
    "duration": 6,
    "start_time": "2022-11-25T13:44:33.048Z"
   },
   {
    "duration": 98507,
    "start_time": "2022-11-25T13:44:33.056Z"
   },
   {
    "duration": 5,
    "start_time": "2022-11-25T13:46:11.565Z"
   },
   {
    "duration": 14,
    "start_time": "2022-11-25T13:46:11.572Z"
   },
   {
    "duration": 190,
    "start_time": "2022-11-25T13:46:11.589Z"
   },
   {
    "duration": 129462,
    "start_time": "2022-11-25T13:54:45.766Z"
   },
   {
    "duration": 126141,
    "start_time": "2022-11-25T13:57:28.769Z"
   },
   {
    "duration": 4,
    "start_time": "2022-11-25T14:01:37.406Z"
   },
   {
    "duration": 6,
    "start_time": "2022-11-25T14:01:49.127Z"
   },
   {
    "duration": 2070,
    "start_time": "2022-11-25T14:11:04.136Z"
   },
   {
    "duration": 834,
    "start_time": "2022-11-25T14:11:06.208Z"
   },
   {
    "duration": 33,
    "start_time": "2022-11-25T14:11:07.044Z"
   },
   {
    "duration": 24,
    "start_time": "2022-11-25T14:11:07.079Z"
   },
   {
    "duration": 22,
    "start_time": "2022-11-25T14:11:07.106Z"
   },
   {
    "duration": 16,
    "start_time": "2022-11-25T14:11:07.130Z"
   },
   {
    "duration": 144,
    "start_time": "2022-11-25T14:11:12.276Z"
   },
   {
    "duration": 100,
    "start_time": "2022-11-25T14:11:37.866Z"
   },
   {
    "duration": 350,
    "start_time": "2022-11-25T14:11:45.554Z"
   },
   {
    "duration": 133,
    "start_time": "2022-11-25T14:12:27.045Z"
   },
   {
    "duration": 28,
    "start_time": "2022-11-25T14:13:37.170Z"
   },
   {
    "duration": 7329,
    "start_time": "2022-11-25T14:13:45.966Z"
   },
   {
    "duration": 23360,
    "start_time": "2022-11-25T14:14:03.332Z"
   },
   {
    "duration": 1260,
    "start_time": "2022-11-25T14:17:10.355Z"
   },
   {
    "duration": 1985,
    "start_time": "2022-11-25T14:17:31.512Z"
   },
   {
    "duration": 865,
    "start_time": "2022-11-25T14:17:33.499Z"
   },
   {
    "duration": 37,
    "start_time": "2022-11-25T14:17:34.366Z"
   },
   {
    "duration": 40,
    "start_time": "2022-11-25T14:17:34.404Z"
   },
   {
    "duration": 2,
    "start_time": "2022-11-25T14:17:34.446Z"
   },
   {
    "duration": 5,
    "start_time": "2022-11-25T14:17:34.450Z"
   },
   {
    "duration": 22633,
    "start_time": "2022-11-25T14:17:34.456Z"
   },
   {
    "duration": 38,
    "start_time": "2022-11-25T14:18:58.432Z"
   },
   {
    "duration": 133,
    "start_time": "2022-11-25T14:24:18.151Z"
   },
   {
    "duration": 9339,
    "start_time": "2022-11-25T14:24:31.022Z"
   },
   {
    "duration": 5,
    "start_time": "2022-11-25T14:24:55.647Z"
   },
   {
    "duration": 10,
    "start_time": "2022-11-25T14:25:10.735Z"
   },
   {
    "duration": 30490,
    "start_time": "2022-11-25T14:26:58.548Z"
   },
   {
    "duration": 14,
    "start_time": "2022-11-25T14:28:26.943Z"
   },
   {
    "duration": 357611,
    "start_time": "2022-11-25T14:28:52.333Z"
   },
   {
    "duration": 5,
    "start_time": "2022-11-25T14:34:57.102Z"
   },
   {
    "duration": 34237,
    "start_time": "2022-11-25T14:35:03.144Z"
   },
   {
    "duration": 5,
    "start_time": "2022-11-25T14:35:44.438Z"
   },
   {
    "duration": 48822,
    "start_time": "2022-11-25T14:36:51.712Z"
   },
   {
    "duration": 17,
    "start_time": "2022-11-25T14:42:33.141Z"
   },
   {
    "duration": 8,
    "start_time": "2022-11-25T14:43:01.591Z"
   },
   {
    "duration": 4,
    "start_time": "2022-11-25T14:43:34.797Z"
   },
   {
    "duration": 7,
    "start_time": "2022-11-25T14:44:30.267Z"
   },
   {
    "duration": 2069,
    "start_time": "2022-11-25T14:46:43.375Z"
   },
   {
    "duration": 831,
    "start_time": "2022-11-25T14:46:45.447Z"
   },
   {
    "duration": 58,
    "start_time": "2022-11-25T14:46:46.279Z"
   },
   {
    "duration": 20,
    "start_time": "2022-11-25T14:46:46.339Z"
   },
   {
    "duration": 10,
    "start_time": "2022-11-25T14:46:46.361Z"
   },
   {
    "duration": 9,
    "start_time": "2022-11-25T14:46:46.373Z"
   },
   {
    "duration": 22951,
    "start_time": "2022-11-25T14:46:46.384Z"
   },
   {
    "duration": 35,
    "start_time": "2022-11-25T14:47:09.338Z"
   },
   {
    "duration": 9921,
    "start_time": "2022-11-25T14:47:09.375Z"
   },
   {
    "duration": 7,
    "start_time": "2022-11-25T14:47:19.300Z"
   },
   {
    "duration": 317900,
    "start_time": "2022-11-25T14:47:19.328Z"
   },
   {
    "duration": 222,
    "start_time": "2022-11-25T14:52:37.230Z"
   },
   {
    "duration": 0,
    "start_time": "2022-11-25T14:52:37.455Z"
   },
   {
    "duration": 0,
    "start_time": "2022-11-25T14:52:37.456Z"
   },
   {
    "duration": 0,
    "start_time": "2022-11-25T14:52:37.457Z"
   },
   {
    "duration": 0,
    "start_time": "2022-11-25T14:52:37.459Z"
   },
   {
    "duration": 10,
    "start_time": "2022-11-25T14:54:44.277Z"
   },
   {
    "duration": 32282,
    "start_time": "2022-11-25T14:54:59.565Z"
   },
   {
    "duration": 7,
    "start_time": "2022-11-25T14:55:43.407Z"
   },
   {
    "duration": 50383,
    "start_time": "2022-11-25T14:55:58.866Z"
   },
   {
    "duration": 11,
    "start_time": "2022-11-25T14:58:53.169Z"
   },
   {
    "duration": 15,
    "start_time": "2022-11-25T14:59:27.010Z"
   },
   {
    "duration": 1579,
    "start_time": "2022-11-25T15:06:20.090Z"
   },
   {
    "duration": 873,
    "start_time": "2022-11-25T15:06:21.672Z"
   },
   {
    "duration": 34,
    "start_time": "2022-11-25T15:06:22.546Z"
   },
   {
    "duration": 19,
    "start_time": "2022-11-25T15:06:22.582Z"
   },
   {
    "duration": 3,
    "start_time": "2022-11-25T15:06:22.622Z"
   },
   {
    "duration": 8,
    "start_time": "2022-11-25T15:06:22.626Z"
   },
   {
    "duration": 20580,
    "start_time": "2022-11-25T15:06:22.636Z"
   },
   {
    "duration": 34,
    "start_time": "2022-11-25T15:06:43.218Z"
   },
   {
    "duration": 9441,
    "start_time": "2022-11-25T15:06:43.254Z"
   },
   {
    "duration": 6,
    "start_time": "2022-11-25T15:06:52.698Z"
   },
   {
    "duration": 293917,
    "start_time": "2022-11-25T15:06:52.706Z"
   },
   {
    "duration": 9,
    "start_time": "2022-11-25T15:11:46.625Z"
   },
   {
    "duration": 30473,
    "start_time": "2022-11-25T15:11:46.636Z"
   },
   {
    "duration": 11,
    "start_time": "2022-11-25T15:12:17.111Z"
   },
   {
    "duration": 47012,
    "start_time": "2022-11-25T15:12:17.124Z"
   },
   {
    "duration": 23,
    "start_time": "2022-11-25T15:13:04.139Z"
   },
   {
    "duration": 1599,
    "start_time": "2022-11-25T15:18:21.327Z"
   },
   {
    "duration": 830,
    "start_time": "2022-11-25T15:18:22.928Z"
   },
   {
    "duration": 35,
    "start_time": "2022-11-25T15:18:23.760Z"
   },
   {
    "duration": 45,
    "start_time": "2022-11-25T15:18:23.797Z"
   },
   {
    "duration": 21166,
    "start_time": "2022-11-25T15:18:23.844Z"
   },
   {
    "duration": 38,
    "start_time": "2022-11-25T15:18:45.012Z"
   },
   {
    "duration": 9292,
    "start_time": "2022-11-25T15:18:45.052Z"
   },
   {
    "duration": 327283,
    "start_time": "2022-11-25T15:18:54.347Z"
   },
   {
    "duration": 8,
    "start_time": "2022-11-25T15:24:21.632Z"
   },
   {
    "duration": 32158,
    "start_time": "2022-11-25T15:24:21.646Z"
   },
   {
    "duration": 18,
    "start_time": "2022-11-25T15:24:53.806Z"
   },
   {
    "duration": 51307,
    "start_time": "2022-11-25T15:24:53.826Z"
   },
   {
    "duration": 106,
    "start_time": "2022-11-25T15:25:45.135Z"
   },
   {
    "duration": 57,
    "start_time": "2022-11-25T15:43:41.003Z"
   },
   {
    "duration": 2455,
    "start_time": "2022-11-25T15:43:47.393Z"
   },
   {
    "duration": 3161,
    "start_time": "2022-11-25T15:43:49.851Z"
   },
   {
    "duration": 33,
    "start_time": "2022-11-25T15:43:53.014Z"
   },
   {
    "duration": 19,
    "start_time": "2022-11-25T15:43:53.049Z"
   },
   {
    "duration": 21184,
    "start_time": "2022-11-25T15:43:53.233Z"
   },
   {
    "duration": 453,
    "start_time": "2022-11-25T15:44:14.419Z"
   },
   {
    "duration": 412,
    "start_time": "2022-11-25T15:44:18.645Z"
   },
   {
    "duration": 333,
    "start_time": "2022-11-25T15:44:41.112Z"
   },
   {
    "duration": 7,
    "start_time": "2022-11-25T15:45:02.099Z"
   },
   {
    "duration": 5,
    "start_time": "2022-11-25T15:45:26.620Z"
   },
   {
    "duration": 16,
    "start_time": "2022-11-25T15:46:03.154Z"
   },
   {
    "duration": 5,
    "start_time": "2022-11-25T15:46:05.602Z"
   },
   {
    "duration": 1347,
    "start_time": "2022-11-25T15:46:18.277Z"
   },
   {
    "duration": 1605,
    "start_time": "2022-11-25T15:46:22.894Z"
   },
   {
    "duration": 3,
    "start_time": "2022-11-25T15:46:35.613Z"
   },
   {
    "duration": 6,
    "start_time": "2022-11-25T15:46:41.962Z"
   },
   {
    "duration": 5,
    "start_time": "2022-11-25T15:47:52.486Z"
   },
   {
    "duration": 11,
    "start_time": "2022-11-25T15:48:20.762Z"
   },
   {
    "duration": 1287,
    "start_time": "2022-11-25T15:48:28.940Z"
   },
   {
    "duration": 1359,
    "start_time": "2022-11-25T15:49:09.547Z"
   },
   {
    "duration": 8,
    "start_time": "2022-11-25T15:49:16.093Z"
   },
   {
    "duration": 8,
    "start_time": "2022-11-25T15:50:24.075Z"
   },
   {
    "duration": 9,
    "start_time": "2022-11-25T15:50:33.081Z"
   },
   {
    "duration": 5,
    "start_time": "2022-11-25T15:57:14.295Z"
   },
   {
    "duration": 742,
    "start_time": "2022-11-25T15:57:16.592Z"
   },
   {
    "duration": 32,
    "start_time": "2022-11-25T15:57:18.705Z"
   },
   {
    "duration": 17,
    "start_time": "2022-11-25T15:57:20.890Z"
   },
   {
    "duration": 1588,
    "start_time": "2022-11-25T15:57:29.226Z"
   },
   {
    "duration": 10,
    "start_time": "2022-11-25T15:57:33.315Z"
   },
   {
    "duration": 6,
    "start_time": "2022-11-25T15:57:37.636Z"
   },
   {
    "duration": 4,
    "start_time": "2022-11-25T15:57:47.509Z"
   },
   {
    "duration": 7,
    "start_time": "2022-11-25T15:57:50.389Z"
   },
   {
    "duration": 1256,
    "start_time": "2022-11-25T15:58:12.370Z"
   },
   {
    "duration": 6,
    "start_time": "2022-11-25T15:58:33.426Z"
   },
   {
    "duration": 11,
    "start_time": "2022-11-25T15:58:58.127Z"
   },
   {
    "duration": 3,
    "start_time": "2022-11-25T15:59:10.079Z"
   },
   {
    "duration": 6,
    "start_time": "2022-11-25T15:59:13.295Z"
   },
   {
    "duration": 13,
    "start_time": "2022-11-25T15:59:17.007Z"
   },
   {
    "duration": 11,
    "start_time": "2022-11-25T15:59:38.394Z"
   },
   {
    "duration": 10,
    "start_time": "2022-11-25T16:01:56.170Z"
   },
   {
    "duration": 3367,
    "start_time": "2022-11-25T16:35:04.069Z"
   },
   {
    "duration": 228,
    "start_time": "2022-11-25T16:42:43.580Z"
   },
   {
    "duration": 806,
    "start_time": "2022-11-25T16:42:46.250Z"
   },
   {
    "duration": 438,
    "start_time": "2022-11-25T16:44:21.270Z"
   },
   {
    "duration": 6,
    "start_time": "2022-11-25T16:44:35.918Z"
   },
   {
    "duration": 10537,
    "start_time": "2022-11-25T16:45:00.655Z"
   },
   {
    "duration": 77,
    "start_time": "2022-11-25T16:45:16.216Z"
   },
   {
    "duration": 73,
    "start_time": "2022-11-25T16:45:29.541Z"
   },
   {
    "duration": 70,
    "start_time": "2022-11-25T16:46:09.322Z"
   },
   {
    "duration": 547,
    "start_time": "2022-11-25T16:46:50.875Z"
   },
   {
    "duration": 70,
    "start_time": "2022-11-25T16:50:21.582Z"
   },
   {
    "duration": 838,
    "start_time": "2022-11-25T16:52:09.429Z"
   },
   {
    "duration": 2159,
    "start_time": "2022-11-25T17:02:22.036Z"
   },
   {
    "duration": 3395,
    "start_time": "2022-11-25T17:02:27.689Z"
   },
   {
    "duration": 6,
    "start_time": "2022-11-25T17:05:48.671Z"
   },
   {
    "duration": 119,
    "start_time": "2022-11-25T17:06:34.546Z"
   },
   {
    "duration": 311,
    "start_time": "2022-11-25T17:06:43.292Z"
   },
   {
    "duration": 8,
    "start_time": "2022-11-25T17:07:19.907Z"
   },
   {
    "duration": 4,
    "start_time": "2022-11-25T17:08:01.599Z"
   },
   {
    "duration": 307,
    "start_time": "2022-11-25T17:08:04.394Z"
   },
   {
    "duration": 4,
    "start_time": "2022-11-25T17:08:41.134Z"
   },
   {
    "duration": 394,
    "start_time": "2022-11-25T17:08:43.900Z"
   },
   {
    "duration": 169,
    "start_time": "2022-11-25T17:10:32.523Z"
   },
   {
    "duration": 6,
    "start_time": "2022-11-25T17:10:53.848Z"
   },
   {
    "duration": 415,
    "start_time": "2022-11-25T17:10:56.571Z"
   },
   {
    "duration": 337,
    "start_time": "2022-11-25T17:12:54.873Z"
   },
   {
    "duration": 602,
    "start_time": "2022-11-25T17:13:21.669Z"
   },
   {
    "duration": 98883,
    "start_time": "2022-11-25T17:13:35.876Z"
   },
   {
    "duration": 11806,
    "start_time": "2022-11-25T17:28:14.041Z"
   },
   {
    "duration": 4508,
    "start_time": "2022-11-25T17:28:36.330Z"
   },
   {
    "duration": 23,
    "start_time": "2022-11-25T17:31:43.736Z"
   },
   {
    "duration": 7,
    "start_time": "2022-11-25T17:31:57.430Z"
   },
   {
    "duration": 804,
    "start_time": "2022-11-25T17:32:11.706Z"
   },
   {
    "duration": 34,
    "start_time": "2022-11-25T17:32:15.722Z"
   },
   {
    "duration": 74,
    "start_time": "2022-11-25T17:32:38.973Z"
   },
   {
    "duration": 479,
    "start_time": "2022-11-25T17:32:46.817Z"
   },
   {
    "duration": 9,
    "start_time": "2022-11-25T17:34:37.324Z"
   },
   {
    "duration": 55,
    "start_time": "2022-11-25T17:35:28.756Z"
   },
   {
    "duration": 7,
    "start_time": "2022-11-25T17:37:22.547Z"
   },
   {
    "duration": 4,
    "start_time": "2022-11-25T17:38:10.261Z"
   },
   {
    "duration": 45,
    "start_time": "2022-11-25T17:38:27.557Z"
   },
   {
    "duration": 394370,
    "start_time": "2022-11-25T17:41:32.488Z"
   },
   {
    "duration": 2294,
    "start_time": "2022-11-25T17:48:45.136Z"
   },
   {
    "duration": 11071,
    "start_time": "2022-11-25T17:56:47.050Z"
   },
   {
    "duration": 4163,
    "start_time": "2022-11-25T17:56:58.123Z"
   },
   {
    "duration": 781,
    "start_time": "2022-11-25T17:57:02.288Z"
   },
   {
    "duration": 32,
    "start_time": "2022-11-25T17:57:03.071Z"
   },
   {
    "duration": 17,
    "start_time": "2022-11-25T17:57:03.106Z"
   },
   {
    "duration": 5,
    "start_time": "2022-11-25T17:57:03.125Z"
   },
   {
    "duration": 2342,
    "start_time": "2022-11-25T17:57:03.131Z"
   },
   {
    "duration": 552,
    "start_time": "2022-11-25T17:57:05.474Z"
   },
   {
    "duration": 3,
    "start_time": "2022-11-25T17:57:06.027Z"
   },
   {
    "duration": 111089,
    "start_time": "2022-11-25T17:57:06.031Z"
   },
   {
    "duration": 0,
    "start_time": "2022-11-25T17:58:57.122Z"
   },
   {
    "duration": 1,
    "start_time": "2022-11-25T17:58:57.124Z"
   },
   {
    "duration": 0,
    "start_time": "2022-11-25T17:58:57.125Z"
   },
   {
    "duration": 0,
    "start_time": "2022-11-25T17:58:57.126Z"
   },
   {
    "duration": 0,
    "start_time": "2022-11-25T17:58:57.127Z"
   },
   {
    "duration": 0,
    "start_time": "2022-11-25T17:58:57.128Z"
   },
   {
    "duration": 0,
    "start_time": "2022-11-25T17:58:57.129Z"
   },
   {
    "duration": 0,
    "start_time": "2022-11-25T17:58:57.130Z"
   },
   {
    "duration": 0,
    "start_time": "2022-11-25T17:58:57.131Z"
   },
   {
    "duration": 10704,
    "start_time": "2022-11-25T17:59:12.145Z"
   },
   {
    "duration": 4612,
    "start_time": "2022-11-25T17:59:22.852Z"
   },
   {
    "duration": 823,
    "start_time": "2022-11-25T17:59:27.466Z"
   },
   {
    "duration": 44,
    "start_time": "2022-11-25T17:59:28.291Z"
   },
   {
    "duration": 7,
    "start_time": "2022-11-25T17:59:28.339Z"
   },
   {
    "duration": 15,
    "start_time": "2022-11-25T17:59:28.348Z"
   },
   {
    "duration": 2474,
    "start_time": "2022-11-25T17:59:28.366Z"
   },
   {
    "duration": 525,
    "start_time": "2022-11-25T17:59:30.841Z"
   },
   {
    "duration": 3,
    "start_time": "2022-11-25T17:59:31.368Z"
   },
   {
    "duration": 544228,
    "start_time": "2022-11-25T17:59:31.372Z"
   },
   {
    "duration": 0,
    "start_time": "2022-11-25T18:08:35.603Z"
   },
   {
    "duration": 0,
    "start_time": "2022-11-25T18:08:35.606Z"
   },
   {
    "duration": 0,
    "start_time": "2022-11-25T18:08:35.608Z"
   },
   {
    "duration": 0,
    "start_time": "2022-11-25T18:08:35.609Z"
   },
   {
    "duration": 0,
    "start_time": "2022-11-25T18:08:35.611Z"
   },
   {
    "duration": 0,
    "start_time": "2022-11-25T18:08:35.613Z"
   },
   {
    "duration": 0,
    "start_time": "2022-11-25T18:08:35.614Z"
   },
   {
    "duration": 0,
    "start_time": "2022-11-25T18:08:35.617Z"
   },
   {
    "duration": 1,
    "start_time": "2022-11-25T18:08:35.617Z"
   },
   {
    "duration": 10466,
    "start_time": "2022-11-25T18:09:05.743Z"
   },
   {
    "duration": 4515,
    "start_time": "2022-11-25T18:09:16.213Z"
   },
   {
    "duration": 781,
    "start_time": "2022-11-25T18:09:20.730Z"
   },
   {
    "duration": 47,
    "start_time": "2022-11-25T18:09:21.513Z"
   },
   {
    "duration": 2,
    "start_time": "2022-11-25T18:09:21.564Z"
   },
   {
    "duration": 7,
    "start_time": "2022-11-25T18:09:21.568Z"
   },
   {
    "duration": 2355,
    "start_time": "2022-11-25T18:09:21.577Z"
   },
   {
    "duration": 579,
    "start_time": "2022-11-25T18:09:23.933Z"
   },
   {
    "duration": 9,
    "start_time": "2022-11-25T18:09:24.514Z"
   },
   {
    "duration": 1037264,
    "start_time": "2022-11-25T18:09:24.525Z"
   },
   {
    "duration": 434,
    "start_time": "2022-11-25T18:26:41.792Z"
   },
   {
    "duration": 0,
    "start_time": "2022-11-25T18:26:42.229Z"
   },
   {
    "duration": 0,
    "start_time": "2022-11-25T18:26:42.231Z"
   },
   {
    "duration": 0,
    "start_time": "2022-11-25T18:26:42.232Z"
   },
   {
    "duration": 0,
    "start_time": "2022-11-25T18:26:42.233Z"
   },
   {
    "duration": 0,
    "start_time": "2022-11-25T18:26:42.235Z"
   },
   {
    "duration": 0,
    "start_time": "2022-11-25T18:26:42.236Z"
   },
   {
    "duration": 0,
    "start_time": "2022-11-25T18:26:42.237Z"
   },
   {
    "duration": 0,
    "start_time": "2022-11-25T18:26:42.238Z"
   },
   {
    "duration": 4,
    "start_time": "2022-11-25T18:29:15.834Z"
   },
   {
    "duration": 10502,
    "start_time": "2022-11-25T18:34:49.467Z"
   },
   {
    "duration": 4258,
    "start_time": "2022-11-25T18:34:59.972Z"
   },
   {
    "duration": 885,
    "start_time": "2022-11-25T18:35:04.233Z"
   },
   {
    "duration": 45,
    "start_time": "2022-11-25T18:35:05.122Z"
   },
   {
    "duration": 3,
    "start_time": "2022-11-25T18:35:05.170Z"
   },
   {
    "duration": 6,
    "start_time": "2022-11-25T18:35:05.175Z"
   },
   {
    "duration": 2569,
    "start_time": "2022-11-25T18:35:05.184Z"
   },
   {
    "duration": 467,
    "start_time": "2022-11-25T18:35:07.755Z"
   },
   {
    "duration": 3,
    "start_time": "2022-11-25T18:35:08.224Z"
   },
   {
    "duration": 1030447,
    "start_time": "2022-11-25T18:35:08.229Z"
   },
   {
    "duration": 5,
    "start_time": "2022-11-25T18:52:18.678Z"
   },
   {
    "duration": 53,
    "start_time": "2022-11-25T18:52:18.684Z"
   },
   {
    "duration": 6678,
    "start_time": "2022-11-25T18:52:18.738Z"
   },
   {
    "duration": 333818,
    "start_time": "2022-11-25T18:52:25.418Z"
   },
   {
    "duration": 10,
    "start_time": "2022-11-25T18:57:59.323Z"
   },
   {
    "duration": 26892,
    "start_time": "2022-11-25T18:57:59.335Z"
   },
   {
    "duration": 8,
    "start_time": "2022-11-25T18:58:26.229Z"
   },
   {
    "duration": 53468,
    "start_time": "2022-11-25T18:58:26.239Z"
   },
   {
    "duration": 0,
    "start_time": "2022-11-25T18:59:19.709Z"
   },
   {
    "duration": 49,
    "start_time": "2022-11-25T19:05:39.318Z"
   },
   {
    "duration": 10742,
    "start_time": "2022-11-25T19:06:21.611Z"
   },
   {
    "duration": 4158,
    "start_time": "2022-11-25T19:06:32.355Z"
   },
   {
    "duration": 770,
    "start_time": "2022-11-25T19:06:36.515Z"
   },
   {
    "duration": 42,
    "start_time": "2022-11-25T19:06:37.287Z"
   },
   {
    "duration": 2,
    "start_time": "2022-11-25T19:06:37.331Z"
   },
   {
    "duration": 6,
    "start_time": "2022-11-25T19:06:37.334Z"
   },
   {
    "duration": 2513,
    "start_time": "2022-11-25T19:06:37.342Z"
   },
   {
    "duration": 470,
    "start_time": "2022-11-25T19:06:39.856Z"
   },
   {
    "duration": 3,
    "start_time": "2022-11-25T19:06:40.328Z"
   },
   {
    "duration": 1008241,
    "start_time": "2022-11-25T19:06:40.334Z"
   },
   {
    "duration": 3,
    "start_time": "2022-11-25T19:23:28.577Z"
   },
   {
    "duration": 45,
    "start_time": "2022-11-25T19:23:28.581Z"
   },
   {
    "duration": 7630,
    "start_time": "2022-11-25T19:23:28.627Z"
   },
   {
    "duration": 301265,
    "start_time": "2022-11-25T19:23:36.258Z"
   },
   {
    "duration": 7,
    "start_time": "2022-11-25T19:28:37.525Z"
   },
   {
    "duration": 24723,
    "start_time": "2022-11-25T19:28:37.535Z"
   },
   {
    "duration": 8,
    "start_time": "2022-11-25T19:29:02.260Z"
   },
   {
    "duration": 47557,
    "start_time": "2022-11-25T19:29:02.270Z"
   },
   {
    "duration": 42,
    "start_time": "2022-11-25T19:29:49.829Z"
   },
   {
    "duration": 90,
    "start_time": "2022-11-25T19:38:55.908Z"
   },
   {
    "duration": 10273,
    "start_time": "2022-11-25T19:39:08.321Z"
   },
   {
    "duration": 4345,
    "start_time": "2022-11-25T19:39:18.597Z"
   },
   {
    "duration": 772,
    "start_time": "2022-11-25T19:39:22.944Z"
   },
   {
    "duration": 36,
    "start_time": "2022-11-25T19:39:23.721Z"
   },
   {
    "duration": 4,
    "start_time": "2022-11-25T19:39:23.759Z"
   },
   {
    "duration": 7,
    "start_time": "2022-11-25T19:39:23.764Z"
   },
   {
    "duration": 2787,
    "start_time": "2022-11-25T19:39:23.772Z"
   },
   {
    "duration": 444,
    "start_time": "2022-11-25T19:39:26.561Z"
   },
   {
    "duration": 4,
    "start_time": "2022-11-25T19:39:27.006Z"
   },
   {
    "duration": 992230,
    "start_time": "2022-11-25T19:39:27.012Z"
   },
   {
    "duration": 3,
    "start_time": "2022-11-25T19:55:59.244Z"
   },
   {
    "duration": 84,
    "start_time": "2022-11-25T19:55:59.248Z"
   },
   {
    "duration": 8260,
    "start_time": "2022-11-25T19:55:59.341Z"
   },
   {
    "duration": 296023,
    "start_time": "2022-11-25T19:56:07.603Z"
   },
   {
    "duration": 18,
    "start_time": "2022-11-25T20:01:03.628Z"
   },
   {
    "duration": 25044,
    "start_time": "2022-11-25T20:01:03.648Z"
   },
   {
    "duration": 7,
    "start_time": "2022-11-25T20:01:28.693Z"
   },
   {
    "duration": 52028,
    "start_time": "2022-11-25T20:01:28.702Z"
   },
   {
    "duration": 17,
    "start_time": "2022-11-25T20:02:20.736Z"
   },
   {
    "duration": 75,
    "start_time": "2022-11-25T20:18:07.142Z"
   },
   {
    "duration": 42,
    "start_time": "2022-11-25T20:37:52.463Z"
   },
   {
    "duration": 19,
    "start_time": "2022-11-25T20:43:31.873Z"
   },
   {
    "duration": 858,
    "start_time": "2022-11-25T20:43:46.158Z"
   },
   {
    "duration": 18,
    "start_time": "2022-11-25T20:44:03.475Z"
   },
   {
    "duration": 9,
    "start_time": "2022-11-25T20:44:12.370Z"
   },
   {
    "duration": 37,
    "start_time": "2022-11-25T20:44:25.958Z"
   },
   {
    "duration": 375,
    "start_time": "2022-11-25T20:46:29.992Z"
   },
   {
    "duration": 165,
    "start_time": "2022-11-25T20:46:33.756Z"
   },
   {
    "duration": 42,
    "start_time": "2022-11-25T20:50:12.802Z"
   },
   {
    "duration": 18,
    "start_time": "2022-11-25T20:50:14.602Z"
   },
   {
    "duration": 55,
    "start_time": "2022-11-25T20:51:23.987Z"
   },
   {
    "duration": 61,
    "start_time": "2022-11-25T20:51:37.399Z"
   },
   {
    "duration": 22,
    "start_time": "2022-11-25T20:51:40.428Z"
   },
   {
    "duration": 38,
    "start_time": "2022-11-25T20:51:53.154Z"
   },
   {
    "duration": 1352,
    "start_time": "2022-11-25T20:52:15.163Z"
   },
   {
    "duration": 22397,
    "start_time": "2022-11-25T20:52:23.225Z"
   },
   {
    "duration": 9831,
    "start_time": "2022-11-25T20:55:30.502Z"
   },
   {
    "duration": 4293,
    "start_time": "2022-11-25T20:55:40.335Z"
   },
   {
    "duration": 773,
    "start_time": "2022-11-25T20:55:44.630Z"
   },
   {
    "duration": 44,
    "start_time": "2022-11-25T20:55:45.405Z"
   },
   {
    "duration": 17,
    "start_time": "2022-11-25T20:55:45.450Z"
   },
   {
    "duration": 155,
    "start_time": "2022-11-25T20:55:45.468Z"
   },
   {
    "duration": 2,
    "start_time": "2022-11-25T20:55:45.625Z"
   },
   {
    "duration": 2457,
    "start_time": "2022-11-25T20:55:45.629Z"
   },
   {
    "duration": 438,
    "start_time": "2022-11-25T20:55:48.088Z"
   },
   {
    "duration": 3,
    "start_time": "2022-11-25T20:55:48.528Z"
   },
   {
    "duration": 972455,
    "start_time": "2022-11-25T20:55:48.533Z"
   },
   {
    "duration": 2,
    "start_time": "2022-11-25T21:12:00.990Z"
   },
   {
    "duration": 73,
    "start_time": "2022-11-25T21:12:00.994Z"
   },
   {
    "duration": 12,
    "start_time": "2022-11-25T21:12:01.069Z"
   },
   {
    "duration": 1374,
    "start_time": "2022-11-25T21:12:01.082Z"
   },
   {
    "duration": 98767,
    "start_time": "2022-11-25T21:12:02.458Z"
   },
   {
    "duration": 8,
    "start_time": "2022-11-25T21:13:41.226Z"
   },
   {
    "duration": 1169,
    "start_time": "2022-11-25T21:13:41.236Z"
   },
   {
    "duration": 16,
    "start_time": "2022-11-25T21:13:42.407Z"
   },
   {
    "duration": 25302,
    "start_time": "2022-11-25T21:13:42.424Z"
   },
   {
    "duration": 18,
    "start_time": "2022-11-25T21:14:07.728Z"
   },
   {
    "duration": 12486,
    "start_time": "2022-11-26T03:43:39.199Z"
   },
   {
    "duration": 5070,
    "start_time": "2022-11-26T03:43:51.687Z"
   },
   {
    "duration": 2336,
    "start_time": "2022-11-26T03:43:56.759Z"
   },
   {
    "duration": 25,
    "start_time": "2022-11-26T03:43:59.097Z"
   },
   {
    "duration": 2,
    "start_time": "2022-11-26T03:43:59.124Z"
   },
   {
    "duration": 146,
    "start_time": "2022-11-26T03:43:59.128Z"
   },
   {
    "duration": 2,
    "start_time": "2022-11-26T03:43:59.276Z"
   },
   {
    "duration": 2581,
    "start_time": "2022-11-26T03:43:59.280Z"
   },
   {
    "duration": 596,
    "start_time": "2022-11-26T03:44:01.863Z"
   },
   {
    "duration": 2,
    "start_time": "2022-11-26T03:44:02.462Z"
   },
   {
    "duration": 25,
    "start_time": "2022-11-26T03:44:35.253Z"
   },
   {
    "duration": 52,
    "start_time": "2022-11-26T04:30:47.250Z"
   },
   {
    "duration": 11341,
    "start_time": "2022-11-26T04:34:25.885Z"
   },
   {
    "duration": 5366,
    "start_time": "2022-11-26T04:34:37.229Z"
   },
   {
    "duration": 2314,
    "start_time": "2022-11-26T04:34:42.597Z"
   },
   {
    "duration": 30,
    "start_time": "2022-11-26T04:34:44.913Z"
   },
   {
    "duration": 4,
    "start_time": "2022-11-26T04:34:44.945Z"
   },
   {
    "duration": 160,
    "start_time": "2022-11-26T04:34:44.951Z"
   },
   {
    "duration": 3,
    "start_time": "2022-11-26T04:34:45.113Z"
   },
   {
    "duration": 2926,
    "start_time": "2022-11-26T04:34:45.118Z"
   },
   {
    "duration": 504,
    "start_time": "2022-11-26T04:34:48.046Z"
   },
   {
    "duration": 4,
    "start_time": "2022-11-26T04:34:48.552Z"
   },
   {
    "duration": 963403,
    "start_time": "2022-11-26T04:34:48.557Z"
   },
   {
    "duration": 3,
    "start_time": "2022-11-26T04:50:51.962Z"
   },
   {
    "duration": 9,
    "start_time": "2022-11-26T04:50:51.967Z"
   },
   {
    "duration": 84,
    "start_time": "2022-11-26T04:50:51.978Z"
   },
   {
    "duration": 7418,
    "start_time": "2022-11-26T04:50:52.064Z"
   },
   {
    "duration": 281977,
    "start_time": "2022-11-26T04:50:59.483Z"
   },
   {
    "duration": 6,
    "start_time": "2022-11-26T04:55:41.462Z"
   },
   {
    "duration": 17255,
    "start_time": "2022-11-26T04:55:41.469Z"
   },
   {
    "duration": 6,
    "start_time": "2022-11-26T04:55:58.726Z"
   },
   {
    "duration": 49927,
    "start_time": "2022-11-26T04:55:58.734Z"
   },
   {
    "duration": 16,
    "start_time": "2022-11-26T04:56:48.662Z"
   }
  ],
  "kernelspec": {
   "display_name": "Python 3 (ipykernel)",
   "language": "python",
   "name": "python3"
  },
  "language_info": {
   "codemirror_mode": {
    "name": "ipython",
    "version": 3
   },
   "file_extension": ".py",
   "mimetype": "text/x-python",
   "name": "python",
   "nbconvert_exporter": "python",
   "pygments_lexer": "ipython3",
   "version": "3.9.15"
  },
  "toc": {
   "base_numbering": 1,
   "nav_menu": {},
   "number_sections": true,
   "sideBar": true,
   "skip_h1_title": true,
   "title_cell": "Содержание",
   "title_sidebar": "Contents",
   "toc_cell": true,
   "toc_position": {
    "height": "calc(100% - 180px)",
    "left": "10px",
    "top": "150px",
    "width": "302.391px"
   },
   "toc_section_display": true,
   "toc_window_display": false
  }
 },
 "nbformat": 4,
 "nbformat_minor": 2
}
