{
 "cells": [
  {
   "cell_type": "markdown",
   "metadata": {},
   "source": [
    "# Изучение данных\n",
    "Импортируем библиотеки, загрузим датафрейм, посмотрим содержимое"
   ]
  },
  {
   "cell_type": "code",
   "execution_count": 1,
   "metadata": {},
   "outputs": [
    {
     "data": {
      "text/html": [
       "<div>\n",
       "<style scoped>\n",
       "    .dataframe tbody tr th:only-of-type {\n",
       "        vertical-align: middle;\n",
       "    }\n",
       "\n",
       "    .dataframe tbody tr th {\n",
       "        vertical-align: top;\n",
       "    }\n",
       "\n",
       "    .dataframe thead th {\n",
       "        text-align: right;\n",
       "    }\n",
       "</style>\n",
       "<table border=\"1\" class=\"dataframe\">\n",
       "  <thead>\n",
       "    <tr style=\"text-align: right;\">\n",
       "      <th></th>\n",
       "      <th>Name</th>\n",
       "      <th>Platform</th>\n",
       "      <th>Year_of_Release</th>\n",
       "      <th>Genre</th>\n",
       "      <th>NA_sales</th>\n",
       "      <th>EU_sales</th>\n",
       "      <th>JP_sales</th>\n",
       "      <th>Other_sales</th>\n",
       "      <th>Critic_Score</th>\n",
       "      <th>User_Score</th>\n",
       "      <th>Rating</th>\n",
       "    </tr>\n",
       "  </thead>\n",
       "  <tbody>\n",
       "    <tr>\n",
       "      <th>0</th>\n",
       "      <td>Wii Sports</td>\n",
       "      <td>Wii</td>\n",
       "      <td>2006.0</td>\n",
       "      <td>Sports</td>\n",
       "      <td>41.36</td>\n",
       "      <td>28.96</td>\n",
       "      <td>3.77</td>\n",
       "      <td>8.45</td>\n",
       "      <td>76.0</td>\n",
       "      <td>8</td>\n",
       "      <td>E</td>\n",
       "    </tr>\n",
       "    <tr>\n",
       "      <th>1</th>\n",
       "      <td>Super Mario Bros.</td>\n",
       "      <td>NES</td>\n",
       "      <td>1985.0</td>\n",
       "      <td>Platform</td>\n",
       "      <td>29.08</td>\n",
       "      <td>3.58</td>\n",
       "      <td>6.81</td>\n",
       "      <td>0.77</td>\n",
       "      <td>NaN</td>\n",
       "      <td>NaN</td>\n",
       "      <td>NaN</td>\n",
       "    </tr>\n",
       "    <tr>\n",
       "      <th>2</th>\n",
       "      <td>Mario Kart Wii</td>\n",
       "      <td>Wii</td>\n",
       "      <td>2008.0</td>\n",
       "      <td>Racing</td>\n",
       "      <td>15.68</td>\n",
       "      <td>12.76</td>\n",
       "      <td>3.79</td>\n",
       "      <td>3.29</td>\n",
       "      <td>82.0</td>\n",
       "      <td>8.3</td>\n",
       "      <td>E</td>\n",
       "    </tr>\n",
       "    <tr>\n",
       "      <th>3</th>\n",
       "      <td>Wii Sports Resort</td>\n",
       "      <td>Wii</td>\n",
       "      <td>2009.0</td>\n",
       "      <td>Sports</td>\n",
       "      <td>15.61</td>\n",
       "      <td>10.93</td>\n",
       "      <td>3.28</td>\n",
       "      <td>2.95</td>\n",
       "      <td>80.0</td>\n",
       "      <td>8</td>\n",
       "      <td>E</td>\n",
       "    </tr>\n",
       "    <tr>\n",
       "      <th>4</th>\n",
       "      <td>Pokemon Red/Pokemon Blue</td>\n",
       "      <td>GB</td>\n",
       "      <td>1996.0</td>\n",
       "      <td>Role-Playing</td>\n",
       "      <td>11.27</td>\n",
       "      <td>8.89</td>\n",
       "      <td>10.22</td>\n",
       "      <td>1.00</td>\n",
       "      <td>NaN</td>\n",
       "      <td>NaN</td>\n",
       "      <td>NaN</td>\n",
       "    </tr>\n",
       "    <tr>\n",
       "      <th>...</th>\n",
       "      <td>...</td>\n",
       "      <td>...</td>\n",
       "      <td>...</td>\n",
       "      <td>...</td>\n",
       "      <td>...</td>\n",
       "      <td>...</td>\n",
       "      <td>...</td>\n",
       "      <td>...</td>\n",
       "      <td>...</td>\n",
       "      <td>...</td>\n",
       "      <td>...</td>\n",
       "    </tr>\n",
       "    <tr>\n",
       "      <th>16710</th>\n",
       "      <td>Samurai Warriors: Sanada Maru</td>\n",
       "      <td>PS3</td>\n",
       "      <td>2016.0</td>\n",
       "      <td>Action</td>\n",
       "      <td>0.00</td>\n",
       "      <td>0.00</td>\n",
       "      <td>0.01</td>\n",
       "      <td>0.00</td>\n",
       "      <td>NaN</td>\n",
       "      <td>NaN</td>\n",
       "      <td>NaN</td>\n",
       "    </tr>\n",
       "    <tr>\n",
       "      <th>16711</th>\n",
       "      <td>LMA Manager 2007</td>\n",
       "      <td>X360</td>\n",
       "      <td>2006.0</td>\n",
       "      <td>Sports</td>\n",
       "      <td>0.00</td>\n",
       "      <td>0.01</td>\n",
       "      <td>0.00</td>\n",
       "      <td>0.00</td>\n",
       "      <td>NaN</td>\n",
       "      <td>NaN</td>\n",
       "      <td>NaN</td>\n",
       "    </tr>\n",
       "    <tr>\n",
       "      <th>16712</th>\n",
       "      <td>Haitaka no Psychedelica</td>\n",
       "      <td>PSV</td>\n",
       "      <td>2016.0</td>\n",
       "      <td>Adventure</td>\n",
       "      <td>0.00</td>\n",
       "      <td>0.00</td>\n",
       "      <td>0.01</td>\n",
       "      <td>0.00</td>\n",
       "      <td>NaN</td>\n",
       "      <td>NaN</td>\n",
       "      <td>NaN</td>\n",
       "    </tr>\n",
       "    <tr>\n",
       "      <th>16713</th>\n",
       "      <td>Spirits &amp; Spells</td>\n",
       "      <td>GBA</td>\n",
       "      <td>2003.0</td>\n",
       "      <td>Platform</td>\n",
       "      <td>0.01</td>\n",
       "      <td>0.00</td>\n",
       "      <td>0.00</td>\n",
       "      <td>0.00</td>\n",
       "      <td>NaN</td>\n",
       "      <td>NaN</td>\n",
       "      <td>NaN</td>\n",
       "    </tr>\n",
       "    <tr>\n",
       "      <th>16714</th>\n",
       "      <td>Winning Post 8 2016</td>\n",
       "      <td>PSV</td>\n",
       "      <td>2016.0</td>\n",
       "      <td>Simulation</td>\n",
       "      <td>0.00</td>\n",
       "      <td>0.00</td>\n",
       "      <td>0.01</td>\n",
       "      <td>0.00</td>\n",
       "      <td>NaN</td>\n",
       "      <td>NaN</td>\n",
       "      <td>NaN</td>\n",
       "    </tr>\n",
       "  </tbody>\n",
       "</table>\n",
       "<p>16715 rows × 11 columns</p>\n",
       "</div>"
      ],
      "text/plain": [
       "                                Name Platform  Year_of_Release         Genre  \\\n",
       "0                         Wii Sports      Wii           2006.0        Sports   \n",
       "1                  Super Mario Bros.      NES           1985.0      Platform   \n",
       "2                     Mario Kart Wii      Wii           2008.0        Racing   \n",
       "3                  Wii Sports Resort      Wii           2009.0        Sports   \n",
       "4           Pokemon Red/Pokemon Blue       GB           1996.0  Role-Playing   \n",
       "...                              ...      ...              ...           ...   \n",
       "16710  Samurai Warriors: Sanada Maru      PS3           2016.0        Action   \n",
       "16711               LMA Manager 2007     X360           2006.0        Sports   \n",
       "16712        Haitaka no Psychedelica      PSV           2016.0     Adventure   \n",
       "16713               Spirits & Spells      GBA           2003.0      Platform   \n",
       "16714            Winning Post 8 2016      PSV           2016.0    Simulation   \n",
       "\n",
       "       NA_sales  EU_sales  JP_sales  Other_sales  Critic_Score User_Score  \\\n",
       "0         41.36     28.96      3.77         8.45          76.0          8   \n",
       "1         29.08      3.58      6.81         0.77           NaN        NaN   \n",
       "2         15.68     12.76      3.79         3.29          82.0        8.3   \n",
       "3         15.61     10.93      3.28         2.95          80.0          8   \n",
       "4         11.27      8.89     10.22         1.00           NaN        NaN   \n",
       "...         ...       ...       ...          ...           ...        ...   \n",
       "16710      0.00      0.00      0.01         0.00           NaN        NaN   \n",
       "16711      0.00      0.01      0.00         0.00           NaN        NaN   \n",
       "16712      0.00      0.00      0.01         0.00           NaN        NaN   \n",
       "16713      0.01      0.00      0.00         0.00           NaN        NaN   \n",
       "16714      0.00      0.00      0.01         0.00           NaN        NaN   \n",
       "\n",
       "      Rating  \n",
       "0          E  \n",
       "1        NaN  \n",
       "2          E  \n",
       "3          E  \n",
       "4        NaN  \n",
       "...      ...  \n",
       "16710    NaN  \n",
       "16711    NaN  \n",
       "16712    NaN  \n",
       "16713    NaN  \n",
       "16714    NaN  \n",
       "\n",
       "[16715 rows x 11 columns]"
      ]
     },
     "metadata": {},
     "output_type": "display_data"
    }
   ],
   "source": [
    "import pandas as pd\n",
    "import seaborn as sns\n",
    "import matplotlib.pyplot as plt\n",
    "import numpy as np\n",
    "from scipy import stats as st\n",
    "data = pd.read_csv('/datasets/games.csv')#запишем содержимое в переменную data\n",
    "display(data)"
   ]
  },
  {
   "cell_type": "markdown",
   "metadata": {},
   "source": [
    "Видим, что в названиях столбцов есть большие буквы, сделаем их маленькими"
   ]
  },
  {
   "cell_type": "code",
   "execution_count": 2,
   "metadata": {},
   "outputs": [
    {
     "data": {
      "text/html": [
       "<div>\n",
       "<style scoped>\n",
       "    .dataframe tbody tr th:only-of-type {\n",
       "        vertical-align: middle;\n",
       "    }\n",
       "\n",
       "    .dataframe tbody tr th {\n",
       "        vertical-align: top;\n",
       "    }\n",
       "\n",
       "    .dataframe thead th {\n",
       "        text-align: right;\n",
       "    }\n",
       "</style>\n",
       "<table border=\"1\" class=\"dataframe\">\n",
       "  <thead>\n",
       "    <tr style=\"text-align: right;\">\n",
       "      <th></th>\n",
       "      <th>name</th>\n",
       "      <th>platform</th>\n",
       "      <th>year_of_release</th>\n",
       "      <th>genre</th>\n",
       "      <th>na_sales</th>\n",
       "      <th>eu_sales</th>\n",
       "      <th>jp_sales</th>\n",
       "      <th>other_sales</th>\n",
       "      <th>critic_score</th>\n",
       "      <th>user_score</th>\n",
       "      <th>rating</th>\n",
       "    </tr>\n",
       "  </thead>\n",
       "  <tbody>\n",
       "    <tr>\n",
       "      <th>0</th>\n",
       "      <td>Wii Sports</td>\n",
       "      <td>Wii</td>\n",
       "      <td>2006.0</td>\n",
       "      <td>Sports</td>\n",
       "      <td>41.36</td>\n",
       "      <td>28.96</td>\n",
       "      <td>3.77</td>\n",
       "      <td>8.45</td>\n",
       "      <td>76.0</td>\n",
       "      <td>8</td>\n",
       "      <td>E</td>\n",
       "    </tr>\n",
       "    <tr>\n",
       "      <th>1</th>\n",
       "      <td>Super Mario Bros.</td>\n",
       "      <td>NES</td>\n",
       "      <td>1985.0</td>\n",
       "      <td>Platform</td>\n",
       "      <td>29.08</td>\n",
       "      <td>3.58</td>\n",
       "      <td>6.81</td>\n",
       "      <td>0.77</td>\n",
       "      <td>NaN</td>\n",
       "      <td>NaN</td>\n",
       "      <td>NaN</td>\n",
       "    </tr>\n",
       "    <tr>\n",
       "      <th>2</th>\n",
       "      <td>Mario Kart Wii</td>\n",
       "      <td>Wii</td>\n",
       "      <td>2008.0</td>\n",
       "      <td>Racing</td>\n",
       "      <td>15.68</td>\n",
       "      <td>12.76</td>\n",
       "      <td>3.79</td>\n",
       "      <td>3.29</td>\n",
       "      <td>82.0</td>\n",
       "      <td>8.3</td>\n",
       "      <td>E</td>\n",
       "    </tr>\n",
       "    <tr>\n",
       "      <th>3</th>\n",
       "      <td>Wii Sports Resort</td>\n",
       "      <td>Wii</td>\n",
       "      <td>2009.0</td>\n",
       "      <td>Sports</td>\n",
       "      <td>15.61</td>\n",
       "      <td>10.93</td>\n",
       "      <td>3.28</td>\n",
       "      <td>2.95</td>\n",
       "      <td>80.0</td>\n",
       "      <td>8</td>\n",
       "      <td>E</td>\n",
       "    </tr>\n",
       "    <tr>\n",
       "      <th>4</th>\n",
       "      <td>Pokemon Red/Pokemon Blue</td>\n",
       "      <td>GB</td>\n",
       "      <td>1996.0</td>\n",
       "      <td>Role-Playing</td>\n",
       "      <td>11.27</td>\n",
       "      <td>8.89</td>\n",
       "      <td>10.22</td>\n",
       "      <td>1.00</td>\n",
       "      <td>NaN</td>\n",
       "      <td>NaN</td>\n",
       "      <td>NaN</td>\n",
       "    </tr>\n",
       "  </tbody>\n",
       "</table>\n",
       "</div>"
      ],
      "text/plain": [
       "                       name platform  year_of_release         genre  na_sales  \\\n",
       "0                Wii Sports      Wii           2006.0        Sports     41.36   \n",
       "1         Super Mario Bros.      NES           1985.0      Platform     29.08   \n",
       "2            Mario Kart Wii      Wii           2008.0        Racing     15.68   \n",
       "3         Wii Sports Resort      Wii           2009.0        Sports     15.61   \n",
       "4  Pokemon Red/Pokemon Blue       GB           1996.0  Role-Playing     11.27   \n",
       "\n",
       "   eu_sales  jp_sales  other_sales  critic_score user_score rating  \n",
       "0     28.96      3.77         8.45          76.0          8      E  \n",
       "1      3.58      6.81         0.77           NaN        NaN    NaN  \n",
       "2     12.76      3.79         3.29          82.0        8.3      E  \n",
       "3     10.93      3.28         2.95          80.0          8      E  \n",
       "4      8.89     10.22         1.00           NaN        NaN    NaN  "
      ]
     },
     "metadata": {},
     "output_type": "display_data"
    }
   ],
   "source": [
    "data.columns = data.columns.str.lower()\n",
    "\n",
    "display(data.head(5))#проверим результат"
   ]
  },
  {
   "cell_type": "markdown",
   "metadata": {},
   "source": [
    "Посмотрим инфо о таблице"
   ]
  },
  {
   "cell_type": "code",
   "execution_count": 3,
   "metadata": {},
   "outputs": [
    {
     "name": "stdout",
     "output_type": "stream",
     "text": [
      "<class 'pandas.core.frame.DataFrame'>\n",
      "RangeIndex: 16715 entries, 0 to 16714\n",
      "Data columns (total 11 columns):\n",
      " #   Column           Non-Null Count  Dtype  \n",
      "---  ------           --------------  -----  \n",
      " 0   name             16713 non-null  object \n",
      " 1   platform         16715 non-null  object \n",
      " 2   year_of_release  16446 non-null  float64\n",
      " 3   genre            16713 non-null  object \n",
      " 4   na_sales         16715 non-null  float64\n",
      " 5   eu_sales         16715 non-null  float64\n",
      " 6   jp_sales         16715 non-null  float64\n",
      " 7   other_sales      16715 non-null  float64\n",
      " 8   critic_score     8137 non-null   float64\n",
      " 9   user_score       10014 non-null  object \n",
      " 10  rating           9949 non-null   object \n",
      "dtypes: float64(6), object(5)\n",
      "memory usage: 1.4+ MB\n"
     ]
    },
    {
     "data": {
      "text/plain": [
       "None"
      ]
     },
     "metadata": {},
     "output_type": "display_data"
    }
   ],
   "source": [
    "data.info()"
   ]
  },
  {
   "cell_type": "markdown",
   "metadata": {},
   "source": [
    "Итог: в таблице есть пропуски. Необходимо провести предобработку данных"
   ]
  },
  {
   "cell_type": "markdown",
   "metadata": {},
   "source": [
    "# Предобработка данных\n",
    "В таблице есть пропуски. В столбцах name и genre по два пропуска. Возможно, это пропуски в одних и тех же столбцах. Проверим."
   ]
  },
  {
   "cell_type": "code",
   "execution_count": 4,
   "metadata": {},
   "outputs": [
    {
     "data": {
      "text/html": [
       "<div>\n",
       "<style scoped>\n",
       "    .dataframe tbody tr th:only-of-type {\n",
       "        vertical-align: middle;\n",
       "    }\n",
       "\n",
       "    .dataframe tbody tr th {\n",
       "        vertical-align: top;\n",
       "    }\n",
       "\n",
       "    .dataframe thead th {\n",
       "        text-align: right;\n",
       "    }\n",
       "</style>\n",
       "<table border=\"1\" class=\"dataframe\">\n",
       "  <thead>\n",
       "    <tr style=\"text-align: right;\">\n",
       "      <th></th>\n",
       "      <th>name</th>\n",
       "      <th>platform</th>\n",
       "      <th>year_of_release</th>\n",
       "      <th>genre</th>\n",
       "      <th>na_sales</th>\n",
       "      <th>eu_sales</th>\n",
       "      <th>jp_sales</th>\n",
       "      <th>other_sales</th>\n",
       "      <th>critic_score</th>\n",
       "      <th>user_score</th>\n",
       "      <th>rating</th>\n",
       "    </tr>\n",
       "  </thead>\n",
       "  <tbody>\n",
       "    <tr>\n",
       "      <th>659</th>\n",
       "      <td>NaN</td>\n",
       "      <td>GEN</td>\n",
       "      <td>1993.0</td>\n",
       "      <td>NaN</td>\n",
       "      <td>1.78</td>\n",
       "      <td>0.53</td>\n",
       "      <td>0.00</td>\n",
       "      <td>0.08</td>\n",
       "      <td>NaN</td>\n",
       "      <td>NaN</td>\n",
       "      <td>NaN</td>\n",
       "    </tr>\n",
       "    <tr>\n",
       "      <th>14244</th>\n",
       "      <td>NaN</td>\n",
       "      <td>GEN</td>\n",
       "      <td>1993.0</td>\n",
       "      <td>NaN</td>\n",
       "      <td>0.00</td>\n",
       "      <td>0.00</td>\n",
       "      <td>0.03</td>\n",
       "      <td>0.00</td>\n",
       "      <td>NaN</td>\n",
       "      <td>NaN</td>\n",
       "      <td>NaN</td>\n",
       "    </tr>\n",
       "  </tbody>\n",
       "</table>\n",
       "</div>"
      ],
      "text/plain": [
       "      name platform  year_of_release genre  na_sales  eu_sales  jp_sales  \\\n",
       "659    NaN      GEN           1993.0   NaN      1.78      0.53      0.00   \n",
       "14244  NaN      GEN           1993.0   NaN      0.00      0.00      0.03   \n",
       "\n",
       "       other_sales  critic_score user_score rating  \n",
       "659           0.08           NaN        NaN    NaN  \n",
       "14244         0.00           NaN        NaN    NaN  "
      ]
     },
     "metadata": {},
     "output_type": "display_data"
    }
   ],
   "source": [
    "display(data[data['name'].isna()])"
   ]
  },
  {
   "cell_type": "markdown",
   "metadata": {},
   "source": [
    "Да, в двух строках есть пропуски. Восстановить их значения невозможно, в общем объеме данных две строки- ничтожно мало, удалим эти пропуски"
   ]
  },
  {
   "cell_type": "code",
   "execution_count": 5,
   "metadata": {},
   "outputs": [
    {
     "name": "stdout",
     "output_type": "stream",
     "text": [
      "<class 'pandas.core.frame.DataFrame'>\n",
      "RangeIndex: 16713 entries, 0 to 16712\n",
      "Data columns (total 11 columns):\n",
      " #   Column           Non-Null Count  Dtype  \n",
      "---  ------           --------------  -----  \n",
      " 0   name             16713 non-null  object \n",
      " 1   platform         16713 non-null  object \n",
      " 2   year_of_release  16444 non-null  float64\n",
      " 3   genre            16713 non-null  object \n",
      " 4   na_sales         16713 non-null  float64\n",
      " 5   eu_sales         16713 non-null  float64\n",
      " 6   jp_sales         16713 non-null  float64\n",
      " 7   other_sales      16713 non-null  float64\n",
      " 8   critic_score     8137 non-null   float64\n",
      " 9   user_score       10014 non-null  object \n",
      " 10  rating           9949 non-null   object \n",
      "dtypes: float64(6), object(5)\n",
      "memory usage: 1.4+ MB\n"
     ]
    },
    {
     "data": {
      "text/plain": [
       "None"
      ]
     },
     "metadata": {},
     "output_type": "display_data"
    }
   ],
   "source": [
    "data = data.dropna(subset=['name']).reset_index(drop=True)\n",
    "display(data.info())#проверим результат"
   ]
  },
  {
   "cell_type": "markdown",
   "metadata": {},
   "source": [
    "Кроеме того, есть пропуски в столбце \"year_of_release\"- около 300 штук, и пропуски в столбцах \"critic_score\", \"user_score\" и \"rating\", там их до половины от общего объема значений.\n",
    "Проверим столбец с годами релиза"
   ]
  },
  {
   "cell_type": "code",
   "execution_count": 6,
   "metadata": {},
   "outputs": [
    {
     "data": {
      "text/html": [
       "<div>\n",
       "<style scoped>\n",
       "    .dataframe tbody tr th:only-of-type {\n",
       "        vertical-align: middle;\n",
       "    }\n",
       "\n",
       "    .dataframe tbody tr th {\n",
       "        vertical-align: top;\n",
       "    }\n",
       "\n",
       "    .dataframe thead th {\n",
       "        text-align: right;\n",
       "    }\n",
       "</style>\n",
       "<table border=\"1\" class=\"dataframe\">\n",
       "  <thead>\n",
       "    <tr style=\"text-align: right;\">\n",
       "      <th></th>\n",
       "      <th>name</th>\n",
       "      <th>platform</th>\n",
       "      <th>year_of_release</th>\n",
       "      <th>genre</th>\n",
       "      <th>na_sales</th>\n",
       "      <th>eu_sales</th>\n",
       "      <th>jp_sales</th>\n",
       "      <th>other_sales</th>\n",
       "      <th>critic_score</th>\n",
       "      <th>user_score</th>\n",
       "      <th>rating</th>\n",
       "    </tr>\n",
       "  </thead>\n",
       "  <tbody>\n",
       "    <tr>\n",
       "      <th>183</th>\n",
       "      <td>Madden NFL 2004</td>\n",
       "      <td>PS2</td>\n",
       "      <td>NaN</td>\n",
       "      <td>Sports</td>\n",
       "      <td>4.26</td>\n",
       "      <td>0.26</td>\n",
       "      <td>0.01</td>\n",
       "      <td>0.71</td>\n",
       "      <td>94.0</td>\n",
       "      <td>8.5</td>\n",
       "      <td>E</td>\n",
       "    </tr>\n",
       "    <tr>\n",
       "      <th>377</th>\n",
       "      <td>FIFA Soccer 2004</td>\n",
       "      <td>PS2</td>\n",
       "      <td>NaN</td>\n",
       "      <td>Sports</td>\n",
       "      <td>0.59</td>\n",
       "      <td>2.36</td>\n",
       "      <td>0.04</td>\n",
       "      <td>0.51</td>\n",
       "      <td>84.0</td>\n",
       "      <td>6.4</td>\n",
       "      <td>E</td>\n",
       "    </tr>\n",
       "    <tr>\n",
       "      <th>456</th>\n",
       "      <td>LEGO Batman: The Videogame</td>\n",
       "      <td>Wii</td>\n",
       "      <td>NaN</td>\n",
       "      <td>Action</td>\n",
       "      <td>1.80</td>\n",
       "      <td>0.97</td>\n",
       "      <td>0.00</td>\n",
       "      <td>0.29</td>\n",
       "      <td>74.0</td>\n",
       "      <td>7.9</td>\n",
       "      <td>E10+</td>\n",
       "    </tr>\n",
       "    <tr>\n",
       "      <th>475</th>\n",
       "      <td>wwe Smackdown vs. Raw 2006</td>\n",
       "      <td>PS2</td>\n",
       "      <td>NaN</td>\n",
       "      <td>Fighting</td>\n",
       "      <td>1.57</td>\n",
       "      <td>1.02</td>\n",
       "      <td>0.00</td>\n",
       "      <td>0.41</td>\n",
       "      <td>NaN</td>\n",
       "      <td>NaN</td>\n",
       "      <td>NaN</td>\n",
       "    </tr>\n",
       "    <tr>\n",
       "      <th>609</th>\n",
       "      <td>Space Invaders</td>\n",
       "      <td>2600</td>\n",
       "      <td>NaN</td>\n",
       "      <td>Shooter</td>\n",
       "      <td>2.36</td>\n",
       "      <td>0.14</td>\n",
       "      <td>0.00</td>\n",
       "      <td>0.03</td>\n",
       "      <td>NaN</td>\n",
       "      <td>NaN</td>\n",
       "      <td>NaN</td>\n",
       "    </tr>\n",
       "    <tr>\n",
       "      <th>...</th>\n",
       "      <td>...</td>\n",
       "      <td>...</td>\n",
       "      <td>...</td>\n",
       "      <td>...</td>\n",
       "      <td>...</td>\n",
       "      <td>...</td>\n",
       "      <td>...</td>\n",
       "      <td>...</td>\n",
       "      <td>...</td>\n",
       "      <td>...</td>\n",
       "      <td>...</td>\n",
       "    </tr>\n",
       "    <tr>\n",
       "      <th>16371</th>\n",
       "      <td>PDC World Championship Darts 2008</td>\n",
       "      <td>PSP</td>\n",
       "      <td>NaN</td>\n",
       "      <td>Sports</td>\n",
       "      <td>0.01</td>\n",
       "      <td>0.00</td>\n",
       "      <td>0.00</td>\n",
       "      <td>0.00</td>\n",
       "      <td>43.0</td>\n",
       "      <td>tbd</td>\n",
       "      <td>E10+</td>\n",
       "    </tr>\n",
       "    <tr>\n",
       "      <th>16403</th>\n",
       "      <td>Freaky Flyers</td>\n",
       "      <td>GC</td>\n",
       "      <td>NaN</td>\n",
       "      <td>Racing</td>\n",
       "      <td>0.01</td>\n",
       "      <td>0.00</td>\n",
       "      <td>0.00</td>\n",
       "      <td>0.00</td>\n",
       "      <td>69.0</td>\n",
       "      <td>6.5</td>\n",
       "      <td>T</td>\n",
       "    </tr>\n",
       "    <tr>\n",
       "      <th>16446</th>\n",
       "      <td>Inversion</td>\n",
       "      <td>PC</td>\n",
       "      <td>NaN</td>\n",
       "      <td>Shooter</td>\n",
       "      <td>0.01</td>\n",
       "      <td>0.00</td>\n",
       "      <td>0.00</td>\n",
       "      <td>0.00</td>\n",
       "      <td>59.0</td>\n",
       "      <td>6.7</td>\n",
       "      <td>M</td>\n",
       "    </tr>\n",
       "    <tr>\n",
       "      <th>16456</th>\n",
       "      <td>Hakuouki: Shinsengumi Kitan</td>\n",
       "      <td>PS3</td>\n",
       "      <td>NaN</td>\n",
       "      <td>Adventure</td>\n",
       "      <td>0.01</td>\n",
       "      <td>0.00</td>\n",
       "      <td>0.00</td>\n",
       "      <td>0.00</td>\n",
       "      <td>NaN</td>\n",
       "      <td>NaN</td>\n",
       "      <td>NaN</td>\n",
       "    </tr>\n",
       "    <tr>\n",
       "      <th>16520</th>\n",
       "      <td>Virtua Quest</td>\n",
       "      <td>GC</td>\n",
       "      <td>NaN</td>\n",
       "      <td>Role-Playing</td>\n",
       "      <td>0.01</td>\n",
       "      <td>0.00</td>\n",
       "      <td>0.00</td>\n",
       "      <td>0.00</td>\n",
       "      <td>55.0</td>\n",
       "      <td>5.5</td>\n",
       "      <td>T</td>\n",
       "    </tr>\n",
       "  </tbody>\n",
       "</table>\n",
       "<p>269 rows × 11 columns</p>\n",
       "</div>"
      ],
      "text/plain": [
       "                                    name platform  year_of_release  \\\n",
       "183                      Madden NFL 2004      PS2              NaN   \n",
       "377                     FIFA Soccer 2004      PS2              NaN   \n",
       "456           LEGO Batman: The Videogame      Wii              NaN   \n",
       "475           wwe Smackdown vs. Raw 2006      PS2              NaN   \n",
       "609                       Space Invaders     2600              NaN   \n",
       "...                                  ...      ...              ...   \n",
       "16371  PDC World Championship Darts 2008      PSP              NaN   \n",
       "16403                      Freaky Flyers       GC              NaN   \n",
       "16446                          Inversion       PC              NaN   \n",
       "16456        Hakuouki: Shinsengumi Kitan      PS3              NaN   \n",
       "16520                       Virtua Quest       GC              NaN   \n",
       "\n",
       "              genre  na_sales  eu_sales  jp_sales  other_sales  critic_score  \\\n",
       "183          Sports      4.26      0.26      0.01         0.71          94.0   \n",
       "377          Sports      0.59      2.36      0.04         0.51          84.0   \n",
       "456          Action      1.80      0.97      0.00         0.29          74.0   \n",
       "475        Fighting      1.57      1.02      0.00         0.41           NaN   \n",
       "609         Shooter      2.36      0.14      0.00         0.03           NaN   \n",
       "...             ...       ...       ...       ...          ...           ...   \n",
       "16371        Sports      0.01      0.00      0.00         0.00          43.0   \n",
       "16403        Racing      0.01      0.00      0.00         0.00          69.0   \n",
       "16446       Shooter      0.01      0.00      0.00         0.00          59.0   \n",
       "16456     Adventure      0.01      0.00      0.00         0.00           NaN   \n",
       "16520  Role-Playing      0.01      0.00      0.00         0.00          55.0   \n",
       "\n",
       "      user_score rating  \n",
       "183          8.5      E  \n",
       "377          6.4      E  \n",
       "456          7.9   E10+  \n",
       "475          NaN    NaN  \n",
       "609          NaN    NaN  \n",
       "...          ...    ...  \n",
       "16371        tbd   E10+  \n",
       "16403        6.5      T  \n",
       "16446        6.7      M  \n",
       "16456        NaN    NaN  \n",
       "16520        5.5      T  \n",
       "\n",
       "[269 rows x 11 columns]"
      ]
     },
     "metadata": {},
     "output_type": "display_data"
    }
   ],
   "source": [
    "display(data[data['year_of_release'].isna()])"
   ]
  },
  {
   "cell_type": "markdown",
   "metadata": {},
   "source": [
    "Видим, что пропуски есть в строках с самыми разными платформами. Для консолей, можно было бы заполнить данные медианным годом (за период, когда для платформы выходили игры), но для ПК это было бы абсолютно некорректно, игры для этой платформы выходят не одно десятилетие. В связи с этим, будет разумно также удалить такие данные из таблицы, их в общей доле тоже не очень много."
   ]
  },
  {
   "cell_type": "code",
   "execution_count": 7,
   "metadata": {},
   "outputs": [
    {
     "name": "stdout",
     "output_type": "stream",
     "text": [
      "<class 'pandas.core.frame.DataFrame'>\n",
      "RangeIndex: 16444 entries, 0 to 16443\n",
      "Data columns (total 11 columns):\n",
      " #   Column           Non-Null Count  Dtype  \n",
      "---  ------           --------------  -----  \n",
      " 0   name             16444 non-null  object \n",
      " 1   platform         16444 non-null  object \n",
      " 2   year_of_release  16444 non-null  float64\n",
      " 3   genre            16444 non-null  object \n",
      " 4   na_sales         16444 non-null  float64\n",
      " 5   eu_sales         16444 non-null  float64\n",
      " 6   jp_sales         16444 non-null  float64\n",
      " 7   other_sales      16444 non-null  float64\n",
      " 8   critic_score     7983 non-null   float64\n",
      " 9   user_score       9839 non-null   object \n",
      " 10  rating           9768 non-null   object \n",
      "dtypes: float64(6), object(5)\n",
      "memory usage: 1.4+ MB\n"
     ]
    },
    {
     "data": {
      "text/plain": [
       "None"
      ]
     },
     "metadata": {},
     "output_type": "display_data"
    }
   ],
   "source": [
    "data = data.dropna(subset=['year_of_release']).reset_index(drop=True)\n",
    "display(data.info())#проверим результат"
   ]
  },
  {
   "cell_type": "markdown",
   "metadata": {},
   "source": [
    "Остались пропуски в оценках игр. Имеем три разных столбца, с разными типами данных, попробуем разобраться, чем они отличаются."
   ]
  },
  {
   "cell_type": "code",
   "execution_count": 8,
   "metadata": {},
   "outputs": [
    {
     "data": {
      "text/plain": [
       "array([76., nan, 82., 80., 89., 58., 87., 91., 61., 97., 95., 77., 88.,\n",
       "       83., 94., 93., 85., 86., 98., 96., 90., 84., 73., 74., 78., 92.,\n",
       "       71., 72., 68., 62., 49., 67., 81., 66., 56., 79., 70., 59., 64.,\n",
       "       75., 60., 63., 69., 50., 25., 42., 44., 55., 48., 57., 29., 47.,\n",
       "       65., 54., 20., 53., 37., 38., 33., 52., 30., 32., 43., 45., 51.,\n",
       "       40., 46., 39., 34., 41., 36., 31., 27., 35., 26., 19., 28., 23.,\n",
       "       24., 21., 17., 13.])"
      ]
     },
     "metadata": {},
     "output_type": "display_data"
    },
    {
     "data": {
      "text/plain": [
       "array(['8', nan, '8.3', '8.5', '6.6', '8.4', '8.6', '7.7', '6.3', '7.4',\n",
       "       '8.2', '9', '7.9', '8.1', '8.7', '7.1', '3.4', '5.3', '4.8', '3.2',\n",
       "       '8.9', '6.4', '7.8', '7.5', '2.6', '7.2', '9.2', '7', '7.3', '4.3',\n",
       "       '7.6', '5.7', '5', '9.1', '6.5', 'tbd', '8.8', '6.9', '9.4', '6.8',\n",
       "       '6.1', '6.7', '5.4', '4', '4.9', '4.5', '9.3', '6.2', '4.2', '6',\n",
       "       '3.7', '4.1', '5.8', '5.6', '5.5', '4.4', '4.6', '5.9', '3.9',\n",
       "       '3.1', '2.9', '5.2', '3.3', '4.7', '5.1', '3.5', '2.5', '1.9', '3',\n",
       "       '2.7', '2.2', '2', '9.5', '2.1', '3.6', '2.8', '1.8', '3.8', '0',\n",
       "       '1.6', '9.6', '2.4', '1.7', '1.1', '0.3', '1.5', '0.7', '1.2',\n",
       "       '2.3', '0.5', '1.3', '0.2', '0.6', '1.4', '0.9', '1', '9.7'],\n",
       "      dtype=object)"
      ]
     },
     "metadata": {},
     "output_type": "display_data"
    },
    {
     "data": {
      "text/plain": [
       "array(['E', nan, 'M', 'T', 'E10+', 'K-A', 'AO', 'EC', 'RP'], dtype=object)"
      ]
     },
     "metadata": {},
     "output_type": "display_data"
    }
   ],
   "source": [
    "display(data['critic_score'].unique())\n",
    "display(data['user_score'].unique())\n",
    "display(data['rating'].unique())"
   ]
  },
  {
   "cell_type": "markdown",
   "metadata": {},
   "source": [
    "Оценка критиков- целочисленное значение, по 100-бальной шкале.\n",
    "Оценка пользователей- дробное число, по десятибальной шкале.\n",
    "Рейтинг- тут лежат оценки, не являющиеся числами.\n",
    "Оценки, с большой вероятностью, отсутствуют либо для очень старых, либо для не очень популярных игр. Попробуем это проверить."
   ]
  },
  {
   "cell_type": "code",
   "execution_count": 9,
   "metadata": {},
   "outputs": [
    {
     "data": {
      "text/html": [
       "<div>\n",
       "<style scoped>\n",
       "    .dataframe tbody tr th:only-of-type {\n",
       "        vertical-align: middle;\n",
       "    }\n",
       "\n",
       "    .dataframe tbody tr th {\n",
       "        vertical-align: top;\n",
       "    }\n",
       "\n",
       "    .dataframe thead th {\n",
       "        text-align: right;\n",
       "    }\n",
       "</style>\n",
       "<table border=\"1\" class=\"dataframe\">\n",
       "  <thead>\n",
       "    <tr style=\"text-align: right;\">\n",
       "      <th></th>\n",
       "      <th>name</th>\n",
       "      <th>platform</th>\n",
       "      <th>year_of_release</th>\n",
       "      <th>genre</th>\n",
       "      <th>na_sales</th>\n",
       "      <th>eu_sales</th>\n",
       "      <th>jp_sales</th>\n",
       "      <th>other_sales</th>\n",
       "      <th>critic_score</th>\n",
       "      <th>user_score</th>\n",
       "      <th>rating</th>\n",
       "    </tr>\n",
       "  </thead>\n",
       "  <tbody>\n",
       "    <tr>\n",
       "      <th>1</th>\n",
       "      <td>Super Mario Bros.</td>\n",
       "      <td>NES</td>\n",
       "      <td>1985.0</td>\n",
       "      <td>Platform</td>\n",
       "      <td>29.08</td>\n",
       "      <td>3.58</td>\n",
       "      <td>6.81</td>\n",
       "      <td>0.77</td>\n",
       "      <td>NaN</td>\n",
       "      <td>NaN</td>\n",
       "      <td>NaN</td>\n",
       "    </tr>\n",
       "    <tr>\n",
       "      <th>4</th>\n",
       "      <td>Pokemon Red/Pokemon Blue</td>\n",
       "      <td>GB</td>\n",
       "      <td>1996.0</td>\n",
       "      <td>Role-Playing</td>\n",
       "      <td>11.27</td>\n",
       "      <td>8.89</td>\n",
       "      <td>10.22</td>\n",
       "      <td>1.00</td>\n",
       "      <td>NaN</td>\n",
       "      <td>NaN</td>\n",
       "      <td>NaN</td>\n",
       "    </tr>\n",
       "    <tr>\n",
       "      <th>5</th>\n",
       "      <td>Tetris</td>\n",
       "      <td>GB</td>\n",
       "      <td>1989.0</td>\n",
       "      <td>Puzzle</td>\n",
       "      <td>23.20</td>\n",
       "      <td>2.26</td>\n",
       "      <td>4.22</td>\n",
       "      <td>0.58</td>\n",
       "      <td>NaN</td>\n",
       "      <td>NaN</td>\n",
       "      <td>NaN</td>\n",
       "    </tr>\n",
       "    <tr>\n",
       "      <th>9</th>\n",
       "      <td>Duck Hunt</td>\n",
       "      <td>NES</td>\n",
       "      <td>1984.0</td>\n",
       "      <td>Shooter</td>\n",
       "      <td>26.93</td>\n",
       "      <td>0.63</td>\n",
       "      <td>0.28</td>\n",
       "      <td>0.47</td>\n",
       "      <td>NaN</td>\n",
       "      <td>NaN</td>\n",
       "      <td>NaN</td>\n",
       "    </tr>\n",
       "    <tr>\n",
       "      <th>10</th>\n",
       "      <td>Nintendogs</td>\n",
       "      <td>DS</td>\n",
       "      <td>2005.0</td>\n",
       "      <td>Simulation</td>\n",
       "      <td>9.05</td>\n",
       "      <td>10.95</td>\n",
       "      <td>1.93</td>\n",
       "      <td>2.74</td>\n",
       "      <td>NaN</td>\n",
       "      <td>NaN</td>\n",
       "      <td>NaN</td>\n",
       "    </tr>\n",
       "    <tr>\n",
       "      <th>...</th>\n",
       "      <td>...</td>\n",
       "      <td>...</td>\n",
       "      <td>...</td>\n",
       "      <td>...</td>\n",
       "      <td>...</td>\n",
       "      <td>...</td>\n",
       "      <td>...</td>\n",
       "      <td>...</td>\n",
       "      <td>...</td>\n",
       "      <td>...</td>\n",
       "      <td>...</td>\n",
       "    </tr>\n",
       "    <tr>\n",
       "      <th>16439</th>\n",
       "      <td>Samurai Warriors: Sanada Maru</td>\n",
       "      <td>PS3</td>\n",
       "      <td>2016.0</td>\n",
       "      <td>Action</td>\n",
       "      <td>0.00</td>\n",
       "      <td>0.00</td>\n",
       "      <td>0.01</td>\n",
       "      <td>0.00</td>\n",
       "      <td>NaN</td>\n",
       "      <td>NaN</td>\n",
       "      <td>NaN</td>\n",
       "    </tr>\n",
       "    <tr>\n",
       "      <th>16440</th>\n",
       "      <td>LMA Manager 2007</td>\n",
       "      <td>X360</td>\n",
       "      <td>2006.0</td>\n",
       "      <td>Sports</td>\n",
       "      <td>0.00</td>\n",
       "      <td>0.01</td>\n",
       "      <td>0.00</td>\n",
       "      <td>0.00</td>\n",
       "      <td>NaN</td>\n",
       "      <td>NaN</td>\n",
       "      <td>NaN</td>\n",
       "    </tr>\n",
       "    <tr>\n",
       "      <th>16441</th>\n",
       "      <td>Haitaka no Psychedelica</td>\n",
       "      <td>PSV</td>\n",
       "      <td>2016.0</td>\n",
       "      <td>Adventure</td>\n",
       "      <td>0.00</td>\n",
       "      <td>0.00</td>\n",
       "      <td>0.01</td>\n",
       "      <td>0.00</td>\n",
       "      <td>NaN</td>\n",
       "      <td>NaN</td>\n",
       "      <td>NaN</td>\n",
       "    </tr>\n",
       "    <tr>\n",
       "      <th>16442</th>\n",
       "      <td>Spirits &amp; Spells</td>\n",
       "      <td>GBA</td>\n",
       "      <td>2003.0</td>\n",
       "      <td>Platform</td>\n",
       "      <td>0.01</td>\n",
       "      <td>0.00</td>\n",
       "      <td>0.00</td>\n",
       "      <td>0.00</td>\n",
       "      <td>NaN</td>\n",
       "      <td>NaN</td>\n",
       "      <td>NaN</td>\n",
       "    </tr>\n",
       "    <tr>\n",
       "      <th>16443</th>\n",
       "      <td>Winning Post 8 2016</td>\n",
       "      <td>PSV</td>\n",
       "      <td>2016.0</td>\n",
       "      <td>Simulation</td>\n",
       "      <td>0.00</td>\n",
       "      <td>0.00</td>\n",
       "      <td>0.01</td>\n",
       "      <td>0.00</td>\n",
       "      <td>NaN</td>\n",
       "      <td>NaN</td>\n",
       "      <td>NaN</td>\n",
       "    </tr>\n",
       "  </tbody>\n",
       "</table>\n",
       "<p>8461 rows × 11 columns</p>\n",
       "</div>"
      ],
      "text/plain": [
       "                                name platform  year_of_release         genre  \\\n",
       "1                  Super Mario Bros.      NES           1985.0      Platform   \n",
       "4           Pokemon Red/Pokemon Blue       GB           1996.0  Role-Playing   \n",
       "5                             Tetris       GB           1989.0        Puzzle   \n",
       "9                          Duck Hunt      NES           1984.0       Shooter   \n",
       "10                        Nintendogs       DS           2005.0    Simulation   \n",
       "...                              ...      ...              ...           ...   \n",
       "16439  Samurai Warriors: Sanada Maru      PS3           2016.0        Action   \n",
       "16440               LMA Manager 2007     X360           2006.0        Sports   \n",
       "16441        Haitaka no Psychedelica      PSV           2016.0     Adventure   \n",
       "16442               Spirits & Spells      GBA           2003.0      Platform   \n",
       "16443            Winning Post 8 2016      PSV           2016.0    Simulation   \n",
       "\n",
       "       na_sales  eu_sales  jp_sales  other_sales  critic_score user_score  \\\n",
       "1         29.08      3.58      6.81         0.77           NaN        NaN   \n",
       "4         11.27      8.89     10.22         1.00           NaN        NaN   \n",
       "5         23.20      2.26      4.22         0.58           NaN        NaN   \n",
       "9         26.93      0.63      0.28         0.47           NaN        NaN   \n",
       "10         9.05     10.95      1.93         2.74           NaN        NaN   \n",
       "...         ...       ...       ...          ...           ...        ...   \n",
       "16439      0.00      0.00      0.01         0.00           NaN        NaN   \n",
       "16440      0.00      0.01      0.00         0.00           NaN        NaN   \n",
       "16441      0.00      0.00      0.01         0.00           NaN        NaN   \n",
       "16442      0.01      0.00      0.00         0.00           NaN        NaN   \n",
       "16443      0.00      0.00      0.01         0.00           NaN        NaN   \n",
       "\n",
       "      rating  \n",
       "1        NaN  \n",
       "4        NaN  \n",
       "5        NaN  \n",
       "9        NaN  \n",
       "10       NaN  \n",
       "...      ...  \n",
       "16439    NaN  \n",
       "16440    NaN  \n",
       "16441    NaN  \n",
       "16442    NaN  \n",
       "16443    NaN  \n",
       "\n",
       "[8461 rows x 11 columns]"
      ]
     },
     "metadata": {},
     "output_type": "display_data"
    }
   ],
   "source": [
    "display(data[data['critic_score'].isna()])\n"
   ]
  },
  {
   "cell_type": "markdown",
   "metadata": {},
   "source": [
    "Очень похоже, что так. Есть популярные игры, но очень старые- в те времена еще не существовало систем оценивания, из которых взяты данные. Напротив, игры с современными годами выпуска, но без оценок, имеют очень низкие продажи. Видимо, их системы оценивания попросту проигнорировали.\n",
    "Увы, восстановить пропуски тут невозможно. Подборка игр достаточно специфична, чтобы ни медианная, ни средняя арифметическая оценка не подошли. Рейтинг же и вовсе восстановлению не подлежит. Будем работать с тем, что есть. Заменим пропуски нулями в столбце critic_score: нулевых значений в этом столбце нет, поэтому 0 можно будет приравнять к пропуску.\n",
    "В столбце user_score, есть значение tbd. Это значит to be determined- то есть, оценки пока нет, но возможно, что она появится в будущем. Для исследования, по сути, это значение можно приравнять к пропуску- восстановить \"правильный\" результат все равно не удастся.\n",
    "Заменим типы данных в таблице."
   ]
  },
  {
   "cell_type": "code",
   "execution_count": 10,
   "metadata": {},
   "outputs": [],
   "source": [
    "data['critic_score'] = data['critic_score'].fillna(0)"
   ]
  },
  {
   "cell_type": "markdown",
   "metadata": {},
   "source": [
    "Заменим типы данных в таблице."
   ]
  },
  {
   "cell_type": "code",
   "execution_count": 11,
   "metadata": {},
   "outputs": [
    {
     "name": "stdout",
     "output_type": "stream",
     "text": [
      "<class 'pandas.core.frame.DataFrame'>\n",
      "RangeIndex: 16444 entries, 0 to 16443\n",
      "Data columns (total 11 columns):\n",
      " #   Column           Non-Null Count  Dtype  \n",
      "---  ------           --------------  -----  \n",
      " 0   name             16444 non-null  object \n",
      " 1   platform         16444 non-null  object \n",
      " 2   year_of_release  16444 non-null  int64  \n",
      " 3   genre            16444 non-null  object \n",
      " 4   na_sales         16444 non-null  float64\n",
      " 5   eu_sales         16444 non-null  float64\n",
      " 6   jp_sales         16444 non-null  float64\n",
      " 7   other_sales      16444 non-null  float64\n",
      " 8   critic_score     16444 non-null  int64  \n",
      " 9   user_score       7463 non-null   float64\n",
      " 10  rating           9768 non-null   object \n",
      "dtypes: float64(5), int64(2), object(4)\n",
      "memory usage: 1.4+ MB\n"
     ]
    },
    {
     "data": {
      "text/plain": [
       "None"
      ]
     },
     "metadata": {},
     "output_type": "display_data"
    }
   ],
   "source": [
    "data['user_score'] = pd.to_numeric(data['user_score'], errors='coerce')\n",
    "data['year_of_release'] = data['year_of_release'].astype(int)\n",
    "data['critic_score'] = data['critic_score'].astype(int)\n",
    "display(data.info())"
   ]
  },
  {
   "cell_type": "markdown",
   "metadata": {},
   "source": [
    "Осталось поискать дубликаты."
   ]
  },
  {
   "cell_type": "code",
   "execution_count": 12,
   "metadata": {},
   "outputs": [
    {
     "data": {
      "text/plain": [
       "0"
      ]
     },
     "metadata": {},
     "output_type": "display_data"
    }
   ],
   "source": [
    "display(data.duplicated().sum())"
   ]
  },
  {
   "cell_type": "markdown",
   "metadata": {},
   "source": [
    "Дубликатов нет. Осталось добавить столбце с общими продажами по платформам"
   ]
  },
  {
   "cell_type": "code",
   "execution_count": 13,
   "metadata": {},
   "outputs": [
    {
     "data": {
      "text/html": [
       "<div>\n",
       "<style scoped>\n",
       "    .dataframe tbody tr th:only-of-type {\n",
       "        vertical-align: middle;\n",
       "    }\n",
       "\n",
       "    .dataframe tbody tr th {\n",
       "        vertical-align: top;\n",
       "    }\n",
       "\n",
       "    .dataframe thead th {\n",
       "        text-align: right;\n",
       "    }\n",
       "</style>\n",
       "<table border=\"1\" class=\"dataframe\">\n",
       "  <thead>\n",
       "    <tr style=\"text-align: right;\">\n",
       "      <th></th>\n",
       "      <th>name</th>\n",
       "      <th>platform</th>\n",
       "      <th>year_of_release</th>\n",
       "      <th>genre</th>\n",
       "      <th>na_sales</th>\n",
       "      <th>eu_sales</th>\n",
       "      <th>jp_sales</th>\n",
       "      <th>other_sales</th>\n",
       "      <th>critic_score</th>\n",
       "      <th>user_score</th>\n",
       "      <th>rating</th>\n",
       "      <th>total_sales</th>\n",
       "    </tr>\n",
       "  </thead>\n",
       "  <tbody>\n",
       "    <tr>\n",
       "      <th>0</th>\n",
       "      <td>Wii Sports</td>\n",
       "      <td>Wii</td>\n",
       "      <td>2006</td>\n",
       "      <td>Sports</td>\n",
       "      <td>41.36</td>\n",
       "      <td>28.96</td>\n",
       "      <td>3.77</td>\n",
       "      <td>8.45</td>\n",
       "      <td>76</td>\n",
       "      <td>8.0</td>\n",
       "      <td>E</td>\n",
       "      <td>82.54</td>\n",
       "    </tr>\n",
       "    <tr>\n",
       "      <th>1</th>\n",
       "      <td>Super Mario Bros.</td>\n",
       "      <td>NES</td>\n",
       "      <td>1985</td>\n",
       "      <td>Platform</td>\n",
       "      <td>29.08</td>\n",
       "      <td>3.58</td>\n",
       "      <td>6.81</td>\n",
       "      <td>0.77</td>\n",
       "      <td>0</td>\n",
       "      <td>NaN</td>\n",
       "      <td>NaN</td>\n",
       "      <td>40.24</td>\n",
       "    </tr>\n",
       "    <tr>\n",
       "      <th>2</th>\n",
       "      <td>Mario Kart Wii</td>\n",
       "      <td>Wii</td>\n",
       "      <td>2008</td>\n",
       "      <td>Racing</td>\n",
       "      <td>15.68</td>\n",
       "      <td>12.76</td>\n",
       "      <td>3.79</td>\n",
       "      <td>3.29</td>\n",
       "      <td>82</td>\n",
       "      <td>8.3</td>\n",
       "      <td>E</td>\n",
       "      <td>35.52</td>\n",
       "    </tr>\n",
       "    <tr>\n",
       "      <th>3</th>\n",
       "      <td>Wii Sports Resort</td>\n",
       "      <td>Wii</td>\n",
       "      <td>2009</td>\n",
       "      <td>Sports</td>\n",
       "      <td>15.61</td>\n",
       "      <td>10.93</td>\n",
       "      <td>3.28</td>\n",
       "      <td>2.95</td>\n",
       "      <td>80</td>\n",
       "      <td>8.0</td>\n",
       "      <td>E</td>\n",
       "      <td>32.77</td>\n",
       "    </tr>\n",
       "    <tr>\n",
       "      <th>4</th>\n",
       "      <td>Pokemon Red/Pokemon Blue</td>\n",
       "      <td>GB</td>\n",
       "      <td>1996</td>\n",
       "      <td>Role-Playing</td>\n",
       "      <td>11.27</td>\n",
       "      <td>8.89</td>\n",
       "      <td>10.22</td>\n",
       "      <td>1.00</td>\n",
       "      <td>0</td>\n",
       "      <td>NaN</td>\n",
       "      <td>NaN</td>\n",
       "      <td>31.38</td>\n",
       "    </tr>\n",
       "    <tr>\n",
       "      <th>...</th>\n",
       "      <td>...</td>\n",
       "      <td>...</td>\n",
       "      <td>...</td>\n",
       "      <td>...</td>\n",
       "      <td>...</td>\n",
       "      <td>...</td>\n",
       "      <td>...</td>\n",
       "      <td>...</td>\n",
       "      <td>...</td>\n",
       "      <td>...</td>\n",
       "      <td>...</td>\n",
       "      <td>...</td>\n",
       "    </tr>\n",
       "    <tr>\n",
       "      <th>16439</th>\n",
       "      <td>Samurai Warriors: Sanada Maru</td>\n",
       "      <td>PS3</td>\n",
       "      <td>2016</td>\n",
       "      <td>Action</td>\n",
       "      <td>0.00</td>\n",
       "      <td>0.00</td>\n",
       "      <td>0.01</td>\n",
       "      <td>0.00</td>\n",
       "      <td>0</td>\n",
       "      <td>NaN</td>\n",
       "      <td>NaN</td>\n",
       "      <td>0.01</td>\n",
       "    </tr>\n",
       "    <tr>\n",
       "      <th>16440</th>\n",
       "      <td>LMA Manager 2007</td>\n",
       "      <td>X360</td>\n",
       "      <td>2006</td>\n",
       "      <td>Sports</td>\n",
       "      <td>0.00</td>\n",
       "      <td>0.01</td>\n",
       "      <td>0.00</td>\n",
       "      <td>0.00</td>\n",
       "      <td>0</td>\n",
       "      <td>NaN</td>\n",
       "      <td>NaN</td>\n",
       "      <td>0.01</td>\n",
       "    </tr>\n",
       "    <tr>\n",
       "      <th>16441</th>\n",
       "      <td>Haitaka no Psychedelica</td>\n",
       "      <td>PSV</td>\n",
       "      <td>2016</td>\n",
       "      <td>Adventure</td>\n",
       "      <td>0.00</td>\n",
       "      <td>0.00</td>\n",
       "      <td>0.01</td>\n",
       "      <td>0.00</td>\n",
       "      <td>0</td>\n",
       "      <td>NaN</td>\n",
       "      <td>NaN</td>\n",
       "      <td>0.01</td>\n",
       "    </tr>\n",
       "    <tr>\n",
       "      <th>16442</th>\n",
       "      <td>Spirits &amp; Spells</td>\n",
       "      <td>GBA</td>\n",
       "      <td>2003</td>\n",
       "      <td>Platform</td>\n",
       "      <td>0.01</td>\n",
       "      <td>0.00</td>\n",
       "      <td>0.00</td>\n",
       "      <td>0.00</td>\n",
       "      <td>0</td>\n",
       "      <td>NaN</td>\n",
       "      <td>NaN</td>\n",
       "      <td>0.01</td>\n",
       "    </tr>\n",
       "    <tr>\n",
       "      <th>16443</th>\n",
       "      <td>Winning Post 8 2016</td>\n",
       "      <td>PSV</td>\n",
       "      <td>2016</td>\n",
       "      <td>Simulation</td>\n",
       "      <td>0.00</td>\n",
       "      <td>0.00</td>\n",
       "      <td>0.01</td>\n",
       "      <td>0.00</td>\n",
       "      <td>0</td>\n",
       "      <td>NaN</td>\n",
       "      <td>NaN</td>\n",
       "      <td>0.01</td>\n",
       "    </tr>\n",
       "  </tbody>\n",
       "</table>\n",
       "<p>16444 rows × 12 columns</p>\n",
       "</div>"
      ],
      "text/plain": [
       "                                name platform  year_of_release         genre  \\\n",
       "0                         Wii Sports      Wii             2006        Sports   \n",
       "1                  Super Mario Bros.      NES             1985      Platform   \n",
       "2                     Mario Kart Wii      Wii             2008        Racing   \n",
       "3                  Wii Sports Resort      Wii             2009        Sports   \n",
       "4           Pokemon Red/Pokemon Blue       GB             1996  Role-Playing   \n",
       "...                              ...      ...              ...           ...   \n",
       "16439  Samurai Warriors: Sanada Maru      PS3             2016        Action   \n",
       "16440               LMA Manager 2007     X360             2006        Sports   \n",
       "16441        Haitaka no Psychedelica      PSV             2016     Adventure   \n",
       "16442               Spirits & Spells      GBA             2003      Platform   \n",
       "16443            Winning Post 8 2016      PSV             2016    Simulation   \n",
       "\n",
       "       na_sales  eu_sales  jp_sales  other_sales  critic_score  user_score  \\\n",
       "0         41.36     28.96      3.77         8.45            76         8.0   \n",
       "1         29.08      3.58      6.81         0.77             0         NaN   \n",
       "2         15.68     12.76      3.79         3.29            82         8.3   \n",
       "3         15.61     10.93      3.28         2.95            80         8.0   \n",
       "4         11.27      8.89     10.22         1.00             0         NaN   \n",
       "...         ...       ...       ...          ...           ...         ...   \n",
       "16439      0.00      0.00      0.01         0.00             0         NaN   \n",
       "16440      0.00      0.01      0.00         0.00             0         NaN   \n",
       "16441      0.00      0.00      0.01         0.00             0         NaN   \n",
       "16442      0.01      0.00      0.00         0.00             0         NaN   \n",
       "16443      0.00      0.00      0.01         0.00             0         NaN   \n",
       "\n",
       "      rating  total_sales  \n",
       "0          E        82.54  \n",
       "1        NaN        40.24  \n",
       "2          E        35.52  \n",
       "3          E        32.77  \n",
       "4        NaN        31.38  \n",
       "...      ...          ...  \n",
       "16439    NaN         0.01  \n",
       "16440    NaN         0.01  \n",
       "16441    NaN         0.01  \n",
       "16442    NaN         0.01  \n",
       "16443    NaN         0.01  \n",
       "\n",
       "[16444 rows x 12 columns]"
      ]
     },
     "metadata": {},
     "output_type": "display_data"
    }
   ],
   "source": [
    "data['total_sales'] = data['na_sales'] + data['eu_sales'] + data['jp_sales'] + data['other_sales']\n",
    "display(data)"
   ]
  },
  {
   "cell_type": "markdown",
   "metadata": {},
   "source": [
    "Итоги:\n",
    "1) Поработали с пропусками, частично удалили данные из таблицы, частично заменили.\n",
    "2) Изменили типы данных\n",
    "3) Изменили названия столбцов\n",
    "4) Дубликатов обнаружено не было\n",
    "5) Добавили столбец с суммарными продажами по всем платформам."
   ]
  },
  {
   "cell_type": "markdown",
   "metadata": {},
   "source": [
    "# Анализ данных"
   ]
  },
  {
   "cell_type": "markdown",
   "metadata": {},
   "source": [
    "Посчитаем продажи игр за разные годы. Для этого проще всего использовать сводную таблицу"
   ]
  },
  {
   "cell_type": "code",
   "execution_count": 14,
   "metadata": {},
   "outputs": [
    {
     "data": {
      "text/html": [
       "<div>\n",
       "<style scoped>\n",
       "    .dataframe tbody tr th:only-of-type {\n",
       "        vertical-align: middle;\n",
       "    }\n",
       "\n",
       "    .dataframe tbody tr th {\n",
       "        vertical-align: top;\n",
       "    }\n",
       "\n",
       "    .dataframe thead th {\n",
       "        text-align: right;\n",
       "    }\n",
       "</style>\n",
       "<table border=\"1\" class=\"dataframe\">\n",
       "  <thead>\n",
       "    <tr style=\"text-align: right;\">\n",
       "      <th></th>\n",
       "      <th>name</th>\n",
       "    </tr>\n",
       "    <tr>\n",
       "      <th>year_of_release</th>\n",
       "      <th></th>\n",
       "    </tr>\n",
       "  </thead>\n",
       "  <tbody>\n",
       "    <tr>\n",
       "      <th>1980</th>\n",
       "      <td>9</td>\n",
       "    </tr>\n",
       "    <tr>\n",
       "      <th>1981</th>\n",
       "      <td>46</td>\n",
       "    </tr>\n",
       "    <tr>\n",
       "      <th>1982</th>\n",
       "      <td>36</td>\n",
       "    </tr>\n",
       "    <tr>\n",
       "      <th>1983</th>\n",
       "      <td>17</td>\n",
       "    </tr>\n",
       "    <tr>\n",
       "      <th>1984</th>\n",
       "      <td>14</td>\n",
       "    </tr>\n",
       "    <tr>\n",
       "      <th>1985</th>\n",
       "      <td>14</td>\n",
       "    </tr>\n",
       "    <tr>\n",
       "      <th>1986</th>\n",
       "      <td>21</td>\n",
       "    </tr>\n",
       "    <tr>\n",
       "      <th>1987</th>\n",
       "      <td>16</td>\n",
       "    </tr>\n",
       "    <tr>\n",
       "      <th>1988</th>\n",
       "      <td>15</td>\n",
       "    </tr>\n",
       "    <tr>\n",
       "      <th>1989</th>\n",
       "      <td>17</td>\n",
       "    </tr>\n",
       "    <tr>\n",
       "      <th>1990</th>\n",
       "      <td>16</td>\n",
       "    </tr>\n",
       "    <tr>\n",
       "      <th>1991</th>\n",
       "      <td>41</td>\n",
       "    </tr>\n",
       "    <tr>\n",
       "      <th>1992</th>\n",
       "      <td>43</td>\n",
       "    </tr>\n",
       "    <tr>\n",
       "      <th>1993</th>\n",
       "      <td>60</td>\n",
       "    </tr>\n",
       "    <tr>\n",
       "      <th>1994</th>\n",
       "      <td>121</td>\n",
       "    </tr>\n",
       "    <tr>\n",
       "      <th>1995</th>\n",
       "      <td>219</td>\n",
       "    </tr>\n",
       "    <tr>\n",
       "      <th>1996</th>\n",
       "      <td>263</td>\n",
       "    </tr>\n",
       "    <tr>\n",
       "      <th>1997</th>\n",
       "      <td>289</td>\n",
       "    </tr>\n",
       "    <tr>\n",
       "      <th>1998</th>\n",
       "      <td>379</td>\n",
       "    </tr>\n",
       "    <tr>\n",
       "      <th>1999</th>\n",
       "      <td>338</td>\n",
       "    </tr>\n",
       "    <tr>\n",
       "      <th>2000</th>\n",
       "      <td>350</td>\n",
       "    </tr>\n",
       "    <tr>\n",
       "      <th>2001</th>\n",
       "      <td>482</td>\n",
       "    </tr>\n",
       "    <tr>\n",
       "      <th>2002</th>\n",
       "      <td>829</td>\n",
       "    </tr>\n",
       "    <tr>\n",
       "      <th>2003</th>\n",
       "      <td>775</td>\n",
       "    </tr>\n",
       "    <tr>\n",
       "      <th>2004</th>\n",
       "      <td>762</td>\n",
       "    </tr>\n",
       "    <tr>\n",
       "      <th>2005</th>\n",
       "      <td>939</td>\n",
       "    </tr>\n",
       "    <tr>\n",
       "      <th>2006</th>\n",
       "      <td>1006</td>\n",
       "    </tr>\n",
       "    <tr>\n",
       "      <th>2007</th>\n",
       "      <td>1197</td>\n",
       "    </tr>\n",
       "    <tr>\n",
       "      <th>2008</th>\n",
       "      <td>1427</td>\n",
       "    </tr>\n",
       "    <tr>\n",
       "      <th>2009</th>\n",
       "      <td>1426</td>\n",
       "    </tr>\n",
       "    <tr>\n",
       "      <th>2010</th>\n",
       "      <td>1255</td>\n",
       "    </tr>\n",
       "    <tr>\n",
       "      <th>2011</th>\n",
       "      <td>1136</td>\n",
       "    </tr>\n",
       "    <tr>\n",
       "      <th>2012</th>\n",
       "      <td>653</td>\n",
       "    </tr>\n",
       "    <tr>\n",
       "      <th>2013</th>\n",
       "      <td>544</td>\n",
       "    </tr>\n",
       "    <tr>\n",
       "      <th>2014</th>\n",
       "      <td>581</td>\n",
       "    </tr>\n",
       "    <tr>\n",
       "      <th>2015</th>\n",
       "      <td>606</td>\n",
       "    </tr>\n",
       "    <tr>\n",
       "      <th>2016</th>\n",
       "      <td>502</td>\n",
       "    </tr>\n",
       "  </tbody>\n",
       "</table>\n",
       "</div>"
      ],
      "text/plain": [
       "                 name\n",
       "year_of_release      \n",
       "1980                9\n",
       "1981               46\n",
       "1982               36\n",
       "1983               17\n",
       "1984               14\n",
       "1985               14\n",
       "1986               21\n",
       "1987               16\n",
       "1988               15\n",
       "1989               17\n",
       "1990               16\n",
       "1991               41\n",
       "1992               43\n",
       "1993               60\n",
       "1994              121\n",
       "1995              219\n",
       "1996              263\n",
       "1997              289\n",
       "1998              379\n",
       "1999              338\n",
       "2000              350\n",
       "2001              482\n",
       "2002              829\n",
       "2003              775\n",
       "2004              762\n",
       "2005              939\n",
       "2006             1006\n",
       "2007             1197\n",
       "2008             1427\n",
       "2009             1426\n",
       "2010             1255\n",
       "2011             1136\n",
       "2012              653\n",
       "2013              544\n",
       "2014              581\n",
       "2015              606\n",
       "2016              502"
      ]
     },
     "metadata": {},
     "output_type": "display_data"
    }
   ],
   "source": [
    "games_in_years_pivot = data.pivot_table(index = 'year_of_release', values = 'name', aggfunc = 'count')\n",
    "display(games_in_years_pivot)"
   ]
  },
  {
   "cell_type": "markdown",
   "metadata": {},
   "source": [
    "Построим гистограмму для наглядности"
   ]
  },
  {
   "cell_type": "code",
   "execution_count": 15,
   "metadata": {},
   "outputs": [
    {
     "data": {
      "text/plain": [
       "[Text(0.5, 0, 'год'), Text(0, 0.5, 'Количество игр')]"
      ]
     },
     "metadata": {},
     "output_type": "display_data"
    },
    {
     "data": {
      "image/png": "[encoded data removed]",
      "text/plain": [
       "<Figure size 1080x360 with 1 Axes>"
      ]
     },
     "metadata": {
      "needs_background": "light"
     },
     "output_type": "display_data"
    }
   ],
   "source": [
    "#для количества корзин- посчиатем количество лет, за которые есть данные\n",
    "display(data['year_of_release'].hist(bins = len(data['year_of_release'].unique()), figsize=(15,5)).set(xlabel='год', ylabel='Количество игр'))"
   ]
  },
  {
   "cell_type": "markdown",
   "metadata": {},
   "source": [
    "Как видим, количество игр, выходивших в разные годы, крайне неравномерно. Начиная с 1994 года, есть быстрый в рост, пик пришелся на 2005-2010 годы, затем был спад. Попробуем соотнести эти данные с продажами."
   ]
  },
  {
   "cell_type": "code",
   "execution_count": 16,
   "metadata": {},
   "outputs": [
    {
     "data": {
      "text/plain": [
       "[Text(0.5, 0, 'год'), Text(0, 0.5, 'Продажи, $ млн.')]"
      ]
     },
     "metadata": {},
     "output_type": "display_data"
    },
    {
     "data": {
      "image/png": "[encoded data removed]",
      "text/plain": [
       "<Figure size 1080x360 with 1 Axes>"
      ]
     },
     "metadata": {
      "needs_background": "light"
     },
     "output_type": "display_data"
    }
   ],
   "source": [
    "sales_in_year_pivot = data.pivot_table(index='year_of_release', values='total_sales', aggfunc=['sum'])\n",
    "display(sales_in_year_pivot.plot(style='o-',figsize=(15,5), c='g', grid=True, legend=False).set(xlabel='год', ylabel='Продажи, $ млн.'))"
   ]
  },
  {
   "cell_type": "markdown",
   "metadata": {},
   "source": [
    "Можно заметить, что по годам, график довольно похож на предыдущий- после 1995 видим быстрый рост, пик в периоде 2005-2010, и затем быстрый спад.\n",
    "Посчитаем объем продаж по годам, для разных платформ."
   ]
  },
  {
   "cell_type": "code",
   "execution_count": 17,
   "metadata": {},
   "outputs": [
    {
     "data": {
      "text/html": [
       "<div>\n",
       "<style scoped>\n",
       "    .dataframe tbody tr th:only-of-type {\n",
       "        vertical-align: middle;\n",
       "    }\n",
       "\n",
       "    .dataframe tbody tr th {\n",
       "        vertical-align: top;\n",
       "    }\n",
       "\n",
       "    .dataframe thead th {\n",
       "        text-align: right;\n",
       "    }\n",
       "</style>\n",
       "<table border=\"1\" class=\"dataframe\">\n",
       "  <thead>\n",
       "    <tr style=\"text-align: right;\">\n",
       "      <th>year_of_release</th>\n",
       "      <th>1980</th>\n",
       "      <th>1981</th>\n",
       "      <th>1982</th>\n",
       "      <th>1983</th>\n",
       "      <th>1984</th>\n",
       "      <th>1985</th>\n",
       "      <th>1986</th>\n",
       "      <th>1987</th>\n",
       "      <th>1988</th>\n",
       "      <th>1989</th>\n",
       "      <th>...</th>\n",
       "      <th>2007</th>\n",
       "      <th>2008</th>\n",
       "      <th>2009</th>\n",
       "      <th>2010</th>\n",
       "      <th>2011</th>\n",
       "      <th>2012</th>\n",
       "      <th>2013</th>\n",
       "      <th>2014</th>\n",
       "      <th>2015</th>\n",
       "      <th>2016</th>\n",
       "    </tr>\n",
       "    <tr>\n",
       "      <th>platform</th>\n",
       "      <th></th>\n",
       "      <th></th>\n",
       "      <th></th>\n",
       "      <th></th>\n",
       "      <th></th>\n",
       "      <th></th>\n",
       "      <th></th>\n",
       "      <th></th>\n",
       "      <th></th>\n",
       "      <th></th>\n",
       "      <th></th>\n",
       "      <th></th>\n",
       "      <th></th>\n",
       "      <th></th>\n",
       "      <th></th>\n",
       "      <th></th>\n",
       "      <th></th>\n",
       "      <th></th>\n",
       "      <th></th>\n",
       "      <th></th>\n",
       "      <th></th>\n",
       "    </tr>\n",
       "  </thead>\n",
       "  <tbody>\n",
       "    <tr>\n",
       "      <th>2600</th>\n",
       "      <td>11.38</td>\n",
       "      <td>35.68</td>\n",
       "      <td>28.88</td>\n",
       "      <td>5.84</td>\n",
       "      <td>0.27</td>\n",
       "      <td>0.45</td>\n",
       "      <td>0.67</td>\n",
       "      <td>1.94</td>\n",
       "      <td>0.74</td>\n",
       "      <td>0.63</td>\n",
       "      <td>...</td>\n",
       "      <td>NaN</td>\n",
       "      <td>NaN</td>\n",
       "      <td>NaN</td>\n",
       "      <td>NaN</td>\n",
       "      <td>NaN</td>\n",
       "      <td>NaN</td>\n",
       "      <td>NaN</td>\n",
       "      <td>NaN</td>\n",
       "      <td>NaN</td>\n",
       "      <td>NaN</td>\n",
       "    </tr>\n",
       "    <tr>\n",
       "      <th>3DO</th>\n",
       "      <td>NaN</td>\n",
       "      <td>NaN</td>\n",
       "      <td>NaN</td>\n",
       "      <td>NaN</td>\n",
       "      <td>NaN</td>\n",
       "      <td>NaN</td>\n",
       "      <td>NaN</td>\n",
       "      <td>NaN</td>\n",
       "      <td>NaN</td>\n",
       "      <td>NaN</td>\n",
       "      <td>...</td>\n",
       "      <td>NaN</td>\n",
       "      <td>NaN</td>\n",
       "      <td>NaN</td>\n",
       "      <td>NaN</td>\n",
       "      <td>NaN</td>\n",
       "      <td>NaN</td>\n",
       "      <td>NaN</td>\n",
       "      <td>NaN</td>\n",
       "      <td>NaN</td>\n",
       "      <td>NaN</td>\n",
       "    </tr>\n",
       "    <tr>\n",
       "      <th>3DS</th>\n",
       "      <td>NaN</td>\n",
       "      <td>NaN</td>\n",
       "      <td>NaN</td>\n",
       "      <td>NaN</td>\n",
       "      <td>NaN</td>\n",
       "      <td>NaN</td>\n",
       "      <td>NaN</td>\n",
       "      <td>NaN</td>\n",
       "      <td>NaN</td>\n",
       "      <td>NaN</td>\n",
       "      <td>...</td>\n",
       "      <td>NaN</td>\n",
       "      <td>NaN</td>\n",
       "      <td>NaN</td>\n",
       "      <td>NaN</td>\n",
       "      <td>63.20</td>\n",
       "      <td>51.36</td>\n",
       "      <td>56.57</td>\n",
       "      <td>43.76</td>\n",
       "      <td>27.78</td>\n",
       "      <td>15.14</td>\n",
       "    </tr>\n",
       "    <tr>\n",
       "      <th>DC</th>\n",
       "      <td>NaN</td>\n",
       "      <td>NaN</td>\n",
       "      <td>NaN</td>\n",
       "      <td>NaN</td>\n",
       "      <td>NaN</td>\n",
       "      <td>NaN</td>\n",
       "      <td>NaN</td>\n",
       "      <td>NaN</td>\n",
       "      <td>NaN</td>\n",
       "      <td>NaN</td>\n",
       "      <td>...</td>\n",
       "      <td>0.02</td>\n",
       "      <td>0.04</td>\n",
       "      <td>NaN</td>\n",
       "      <td>NaN</td>\n",
       "      <td>NaN</td>\n",
       "      <td>NaN</td>\n",
       "      <td>NaN</td>\n",
       "      <td>NaN</td>\n",
       "      <td>NaN</td>\n",
       "      <td>NaN</td>\n",
       "    </tr>\n",
       "    <tr>\n",
       "      <th>DS</th>\n",
       "      <td>NaN</td>\n",
       "      <td>NaN</td>\n",
       "      <td>NaN</td>\n",
       "      <td>NaN</td>\n",
       "      <td>NaN</td>\n",
       "      <td>0.02</td>\n",
       "      <td>NaN</td>\n",
       "      <td>NaN</td>\n",
       "      <td>NaN</td>\n",
       "      <td>NaN</td>\n",
       "      <td>...</td>\n",
       "      <td>146.94</td>\n",
       "      <td>145.31</td>\n",
       "      <td>119.54</td>\n",
       "      <td>85.02</td>\n",
       "      <td>26.18</td>\n",
       "      <td>11.01</td>\n",
       "      <td>1.54</td>\n",
       "      <td>NaN</td>\n",
       "      <td>NaN</td>\n",
       "      <td>NaN</td>\n",
       "    </tr>\n",
       "    <tr>\n",
       "      <th>GB</th>\n",
       "      <td>NaN</td>\n",
       "      <td>NaN</td>\n",
       "      <td>NaN</td>\n",
       "      <td>NaN</td>\n",
       "      <td>NaN</td>\n",
       "      <td>NaN</td>\n",
       "      <td>NaN</td>\n",
       "      <td>NaN</td>\n",
       "      <td>1.43</td>\n",
       "      <td>64.97</td>\n",
       "      <td>...</td>\n",
       "      <td>NaN</td>\n",
       "      <td>NaN</td>\n",
       "      <td>NaN</td>\n",
       "      <td>NaN</td>\n",
       "      <td>NaN</td>\n",
       "      <td>NaN</td>\n",
       "      <td>NaN</td>\n",
       "      <td>NaN</td>\n",
       "      <td>NaN</td>\n",
       "      <td>NaN</td>\n",
       "    </tr>\n",
       "    <tr>\n",
       "      <th>GBA</th>\n",
       "      <td>NaN</td>\n",
       "      <td>NaN</td>\n",
       "      <td>NaN</td>\n",
       "      <td>NaN</td>\n",
       "      <td>NaN</td>\n",
       "      <td>NaN</td>\n",
       "      <td>NaN</td>\n",
       "      <td>NaN</td>\n",
       "      <td>NaN</td>\n",
       "      <td>NaN</td>\n",
       "      <td>...</td>\n",
       "      <td>3.40</td>\n",
       "      <td>NaN</td>\n",
       "      <td>NaN</td>\n",
       "      <td>NaN</td>\n",
       "      <td>NaN</td>\n",
       "      <td>NaN</td>\n",
       "      <td>NaN</td>\n",
       "      <td>NaN</td>\n",
       "      <td>NaN</td>\n",
       "      <td>NaN</td>\n",
       "    </tr>\n",
       "    <tr>\n",
       "      <th>GC</th>\n",
       "      <td>NaN</td>\n",
       "      <td>NaN</td>\n",
       "      <td>NaN</td>\n",
       "      <td>NaN</td>\n",
       "      <td>NaN</td>\n",
       "      <td>NaN</td>\n",
       "      <td>NaN</td>\n",
       "      <td>NaN</td>\n",
       "      <td>NaN</td>\n",
       "      <td>NaN</td>\n",
       "      <td>...</td>\n",
       "      <td>0.27</td>\n",
       "      <td>NaN</td>\n",
       "      <td>NaN</td>\n",
       "      <td>NaN</td>\n",
       "      <td>NaN</td>\n",
       "      <td>NaN</td>\n",
       "      <td>NaN</td>\n",
       "      <td>NaN</td>\n",
       "      <td>NaN</td>\n",
       "      <td>NaN</td>\n",
       "    </tr>\n",
       "    <tr>\n",
       "      <th>GEN</th>\n",
       "      <td>NaN</td>\n",
       "      <td>NaN</td>\n",
       "      <td>NaN</td>\n",
       "      <td>NaN</td>\n",
       "      <td>NaN</td>\n",
       "      <td>NaN</td>\n",
       "      <td>NaN</td>\n",
       "      <td>NaN</td>\n",
       "      <td>NaN</td>\n",
       "      <td>NaN</td>\n",
       "      <td>...</td>\n",
       "      <td>NaN</td>\n",
       "      <td>NaN</td>\n",
       "      <td>NaN</td>\n",
       "      <td>NaN</td>\n",
       "      <td>NaN</td>\n",
       "      <td>NaN</td>\n",
       "      <td>NaN</td>\n",
       "      <td>NaN</td>\n",
       "      <td>NaN</td>\n",
       "      <td>NaN</td>\n",
       "    </tr>\n",
       "    <tr>\n",
       "      <th>GG</th>\n",
       "      <td>NaN</td>\n",
       "      <td>NaN</td>\n",
       "      <td>NaN</td>\n",
       "      <td>NaN</td>\n",
       "      <td>NaN</td>\n",
       "      <td>NaN</td>\n",
       "      <td>NaN</td>\n",
       "      <td>NaN</td>\n",
       "      <td>NaN</td>\n",
       "      <td>NaN</td>\n",
       "      <td>...</td>\n",
       "      <td>NaN</td>\n",
       "      <td>NaN</td>\n",
       "      <td>NaN</td>\n",
       "      <td>NaN</td>\n",
       "      <td>NaN</td>\n",
       "      <td>NaN</td>\n",
       "      <td>NaN</td>\n",
       "      <td>NaN</td>\n",
       "      <td>NaN</td>\n",
       "      <td>NaN</td>\n",
       "    </tr>\n",
       "    <tr>\n",
       "      <th>N64</th>\n",
       "      <td>NaN</td>\n",
       "      <td>NaN</td>\n",
       "      <td>NaN</td>\n",
       "      <td>NaN</td>\n",
       "      <td>NaN</td>\n",
       "      <td>NaN</td>\n",
       "      <td>NaN</td>\n",
       "      <td>NaN</td>\n",
       "      <td>NaN</td>\n",
       "      <td>NaN</td>\n",
       "      <td>...</td>\n",
       "      <td>NaN</td>\n",
       "      <td>NaN</td>\n",
       "      <td>NaN</td>\n",
       "      <td>NaN</td>\n",
       "      <td>NaN</td>\n",
       "      <td>NaN</td>\n",
       "      <td>NaN</td>\n",
       "      <td>NaN</td>\n",
       "      <td>NaN</td>\n",
       "      <td>NaN</td>\n",
       "    </tr>\n",
       "    <tr>\n",
       "      <th>NES</th>\n",
       "      <td>NaN</td>\n",
       "      <td>NaN</td>\n",
       "      <td>NaN</td>\n",
       "      <td>10.96</td>\n",
       "      <td>50.08</td>\n",
       "      <td>53.44</td>\n",
       "      <td>36.41</td>\n",
       "      <td>19.76</td>\n",
       "      <td>45.01</td>\n",
       "      <td>7.85</td>\n",
       "      <td>...</td>\n",
       "      <td>NaN</td>\n",
       "      <td>NaN</td>\n",
       "      <td>NaN</td>\n",
       "      <td>NaN</td>\n",
       "      <td>NaN</td>\n",
       "      <td>NaN</td>\n",
       "      <td>NaN</td>\n",
       "      <td>NaN</td>\n",
       "      <td>NaN</td>\n",
       "      <td>NaN</td>\n",
       "    </tr>\n",
       "    <tr>\n",
       "      <th>NG</th>\n",
       "      <td>NaN</td>\n",
       "      <td>NaN</td>\n",
       "      <td>NaN</td>\n",
       "      <td>NaN</td>\n",
       "      <td>NaN</td>\n",
       "      <td>NaN</td>\n",
       "      <td>NaN</td>\n",
       "      <td>NaN</td>\n",
       "      <td>NaN</td>\n",
       "      <td>NaN</td>\n",
       "      <td>...</td>\n",
       "      <td>NaN</td>\n",
       "      <td>NaN</td>\n",
       "      <td>NaN</td>\n",
       "      <td>NaN</td>\n",
       "      <td>NaN</td>\n",
       "      <td>NaN</td>\n",
       "      <td>NaN</td>\n",
       "      <td>NaN</td>\n",
       "      <td>NaN</td>\n",
       "      <td>NaN</td>\n",
       "    </tr>\n",
       "    <tr>\n",
       "      <th>PC</th>\n",
       "      <td>NaN</td>\n",
       "      <td>NaN</td>\n",
       "      <td>NaN</td>\n",
       "      <td>NaN</td>\n",
       "      <td>NaN</td>\n",
       "      <td>0.04</td>\n",
       "      <td>NaN</td>\n",
       "      <td>NaN</td>\n",
       "      <td>0.03</td>\n",
       "      <td>NaN</td>\n",
       "      <td>...</td>\n",
       "      <td>9.28</td>\n",
       "      <td>12.42</td>\n",
       "      <td>16.91</td>\n",
       "      <td>24.28</td>\n",
       "      <td>35.03</td>\n",
       "      <td>23.22</td>\n",
       "      <td>12.38</td>\n",
       "      <td>13.28</td>\n",
       "      <td>8.52</td>\n",
       "      <td>5.25</td>\n",
       "    </tr>\n",
       "    <tr>\n",
       "      <th>PCFX</th>\n",
       "      <td>NaN</td>\n",
       "      <td>NaN</td>\n",
       "      <td>NaN</td>\n",
       "      <td>NaN</td>\n",
       "      <td>NaN</td>\n",
       "      <td>NaN</td>\n",
       "      <td>NaN</td>\n",
       "      <td>NaN</td>\n",
       "      <td>NaN</td>\n",
       "      <td>NaN</td>\n",
       "      <td>...</td>\n",
       "      <td>NaN</td>\n",
       "      <td>NaN</td>\n",
       "      <td>NaN</td>\n",
       "      <td>NaN</td>\n",
       "      <td>NaN</td>\n",
       "      <td>NaN</td>\n",
       "      <td>NaN</td>\n",
       "      <td>NaN</td>\n",
       "      <td>NaN</td>\n",
       "      <td>NaN</td>\n",
       "    </tr>\n",
       "    <tr>\n",
       "      <th>PS</th>\n",
       "      <td>NaN</td>\n",
       "      <td>NaN</td>\n",
       "      <td>NaN</td>\n",
       "      <td>NaN</td>\n",
       "      <td>NaN</td>\n",
       "      <td>NaN</td>\n",
       "      <td>NaN</td>\n",
       "      <td>NaN</td>\n",
       "      <td>NaN</td>\n",
       "      <td>NaN</td>\n",
       "      <td>...</td>\n",
       "      <td>NaN</td>\n",
       "      <td>NaN</td>\n",
       "      <td>NaN</td>\n",
       "      <td>NaN</td>\n",
       "      <td>NaN</td>\n",
       "      <td>NaN</td>\n",
       "      <td>NaN</td>\n",
       "      <td>NaN</td>\n",
       "      <td>NaN</td>\n",
       "      <td>NaN</td>\n",
       "    </tr>\n",
       "    <tr>\n",
       "      <th>PS2</th>\n",
       "      <td>NaN</td>\n",
       "      <td>NaN</td>\n",
       "      <td>NaN</td>\n",
       "      <td>NaN</td>\n",
       "      <td>NaN</td>\n",
       "      <td>NaN</td>\n",
       "      <td>NaN</td>\n",
       "      <td>NaN</td>\n",
       "      <td>NaN</td>\n",
       "      <td>NaN</td>\n",
       "      <td>...</td>\n",
       "      <td>75.99</td>\n",
       "      <td>53.90</td>\n",
       "      <td>26.40</td>\n",
       "      <td>5.64</td>\n",
       "      <td>0.45</td>\n",
       "      <td>NaN</td>\n",
       "      <td>NaN</td>\n",
       "      <td>NaN</td>\n",
       "      <td>NaN</td>\n",
       "      <td>NaN</td>\n",
       "    </tr>\n",
       "    <tr>\n",
       "      <th>PS3</th>\n",
       "      <td>NaN</td>\n",
       "      <td>NaN</td>\n",
       "      <td>NaN</td>\n",
       "      <td>NaN</td>\n",
       "      <td>NaN</td>\n",
       "      <td>NaN</td>\n",
       "      <td>NaN</td>\n",
       "      <td>NaN</td>\n",
       "      <td>NaN</td>\n",
       "      <td>NaN</td>\n",
       "      <td>...</td>\n",
       "      <td>73.19</td>\n",
       "      <td>118.52</td>\n",
       "      <td>130.93</td>\n",
       "      <td>142.17</td>\n",
       "      <td>156.78</td>\n",
       "      <td>107.36</td>\n",
       "      <td>113.25</td>\n",
       "      <td>47.76</td>\n",
       "      <td>16.82</td>\n",
       "      <td>3.60</td>\n",
       "    </tr>\n",
       "    <tr>\n",
       "      <th>PS4</th>\n",
       "      <td>NaN</td>\n",
       "      <td>NaN</td>\n",
       "      <td>NaN</td>\n",
       "      <td>NaN</td>\n",
       "      <td>NaN</td>\n",
       "      <td>NaN</td>\n",
       "      <td>NaN</td>\n",
       "      <td>NaN</td>\n",
       "      <td>NaN</td>\n",
       "      <td>NaN</td>\n",
       "      <td>...</td>\n",
       "      <td>NaN</td>\n",
       "      <td>NaN</td>\n",
       "      <td>NaN</td>\n",
       "      <td>NaN</td>\n",
       "      <td>NaN</td>\n",
       "      <td>NaN</td>\n",
       "      <td>25.99</td>\n",
       "      <td>100.00</td>\n",
       "      <td>118.90</td>\n",
       "      <td>69.25</td>\n",
       "    </tr>\n",
       "    <tr>\n",
       "      <th>PSP</th>\n",
       "      <td>NaN</td>\n",
       "      <td>NaN</td>\n",
       "      <td>NaN</td>\n",
       "      <td>NaN</td>\n",
       "      <td>NaN</td>\n",
       "      <td>NaN</td>\n",
       "      <td>NaN</td>\n",
       "      <td>NaN</td>\n",
       "      <td>NaN</td>\n",
       "      <td>NaN</td>\n",
       "      <td>...</td>\n",
       "      <td>46.93</td>\n",
       "      <td>34.55</td>\n",
       "      <td>37.78</td>\n",
       "      <td>35.04</td>\n",
       "      <td>17.82</td>\n",
       "      <td>7.69</td>\n",
       "      <td>3.14</td>\n",
       "      <td>0.24</td>\n",
       "      <td>0.12</td>\n",
       "      <td>NaN</td>\n",
       "    </tr>\n",
       "    <tr>\n",
       "      <th>PSV</th>\n",
       "      <td>NaN</td>\n",
       "      <td>NaN</td>\n",
       "      <td>NaN</td>\n",
       "      <td>NaN</td>\n",
       "      <td>NaN</td>\n",
       "      <td>NaN</td>\n",
       "      <td>NaN</td>\n",
       "      <td>NaN</td>\n",
       "      <td>NaN</td>\n",
       "      <td>NaN</td>\n",
       "      <td>...</td>\n",
       "      <td>NaN</td>\n",
       "      <td>NaN</td>\n",
       "      <td>NaN</td>\n",
       "      <td>NaN</td>\n",
       "      <td>4.63</td>\n",
       "      <td>16.19</td>\n",
       "      <td>10.59</td>\n",
       "      <td>11.90</td>\n",
       "      <td>6.25</td>\n",
       "      <td>4.25</td>\n",
       "    </tr>\n",
       "    <tr>\n",
       "      <th>SAT</th>\n",
       "      <td>NaN</td>\n",
       "      <td>NaN</td>\n",
       "      <td>NaN</td>\n",
       "      <td>NaN</td>\n",
       "      <td>NaN</td>\n",
       "      <td>NaN</td>\n",
       "      <td>NaN</td>\n",
       "      <td>NaN</td>\n",
       "      <td>NaN</td>\n",
       "      <td>NaN</td>\n",
       "      <td>...</td>\n",
       "      <td>NaN</td>\n",
       "      <td>NaN</td>\n",
       "      <td>NaN</td>\n",
       "      <td>NaN</td>\n",
       "      <td>NaN</td>\n",
       "      <td>NaN</td>\n",
       "      <td>NaN</td>\n",
       "      <td>NaN</td>\n",
       "      <td>NaN</td>\n",
       "      <td>NaN</td>\n",
       "    </tr>\n",
       "    <tr>\n",
       "      <th>SCD</th>\n",
       "      <td>NaN</td>\n",
       "      <td>NaN</td>\n",
       "      <td>NaN</td>\n",
       "      <td>NaN</td>\n",
       "      <td>NaN</td>\n",
       "      <td>NaN</td>\n",
       "      <td>NaN</td>\n",
       "      <td>NaN</td>\n",
       "      <td>NaN</td>\n",
       "      <td>NaN</td>\n",
       "      <td>...</td>\n",
       "      <td>NaN</td>\n",
       "      <td>NaN</td>\n",
       "      <td>NaN</td>\n",
       "      <td>NaN</td>\n",
       "      <td>NaN</td>\n",
       "      <td>NaN</td>\n",
       "      <td>NaN</td>\n",
       "      <td>NaN</td>\n",
       "      <td>NaN</td>\n",
       "      <td>NaN</td>\n",
       "    </tr>\n",
       "    <tr>\n",
       "      <th>SNES</th>\n",
       "      <td>NaN</td>\n",
       "      <td>NaN</td>\n",
       "      <td>NaN</td>\n",
       "      <td>NaN</td>\n",
       "      <td>NaN</td>\n",
       "      <td>NaN</td>\n",
       "      <td>NaN</td>\n",
       "      <td>NaN</td>\n",
       "      <td>NaN</td>\n",
       "      <td>NaN</td>\n",
       "      <td>...</td>\n",
       "      <td>NaN</td>\n",
       "      <td>NaN</td>\n",
       "      <td>NaN</td>\n",
       "      <td>NaN</td>\n",
       "      <td>NaN</td>\n",
       "      <td>NaN</td>\n",
       "      <td>NaN</td>\n",
       "      <td>NaN</td>\n",
       "      <td>NaN</td>\n",
       "      <td>NaN</td>\n",
       "    </tr>\n",
       "    <tr>\n",
       "      <th>TG16</th>\n",
       "      <td>NaN</td>\n",
       "      <td>NaN</td>\n",
       "      <td>NaN</td>\n",
       "      <td>NaN</td>\n",
       "      <td>NaN</td>\n",
       "      <td>NaN</td>\n",
       "      <td>NaN</td>\n",
       "      <td>NaN</td>\n",
       "      <td>NaN</td>\n",
       "      <td>NaN</td>\n",
       "      <td>...</td>\n",
       "      <td>NaN</td>\n",
       "      <td>NaN</td>\n",
       "      <td>NaN</td>\n",
       "      <td>NaN</td>\n",
       "      <td>NaN</td>\n",
       "      <td>NaN</td>\n",
       "      <td>NaN</td>\n",
       "      <td>NaN</td>\n",
       "      <td>NaN</td>\n",
       "      <td>NaN</td>\n",
       "    </tr>\n",
       "    <tr>\n",
       "      <th>WS</th>\n",
       "      <td>NaN</td>\n",
       "      <td>NaN</td>\n",
       "      <td>NaN</td>\n",
       "      <td>NaN</td>\n",
       "      <td>NaN</td>\n",
       "      <td>NaN</td>\n",
       "      <td>NaN</td>\n",
       "      <td>NaN</td>\n",
       "      <td>NaN</td>\n",
       "      <td>NaN</td>\n",
       "      <td>...</td>\n",
       "      <td>NaN</td>\n",
       "      <td>NaN</td>\n",
       "      <td>NaN</td>\n",
       "      <td>NaN</td>\n",
       "      <td>NaN</td>\n",
       "      <td>NaN</td>\n",
       "      <td>NaN</td>\n",
       "      <td>NaN</td>\n",
       "      <td>NaN</td>\n",
       "      <td>NaN</td>\n",
       "    </tr>\n",
       "    <tr>\n",
       "      <th>Wii</th>\n",
       "      <td>NaN</td>\n",
       "      <td>NaN</td>\n",
       "      <td>NaN</td>\n",
       "      <td>NaN</td>\n",
       "      <td>NaN</td>\n",
       "      <td>NaN</td>\n",
       "      <td>NaN</td>\n",
       "      <td>NaN</td>\n",
       "      <td>NaN</td>\n",
       "      <td>NaN</td>\n",
       "      <td>...</td>\n",
       "      <td>152.77</td>\n",
       "      <td>171.32</td>\n",
       "      <td>206.97</td>\n",
       "      <td>127.95</td>\n",
       "      <td>59.65</td>\n",
       "      <td>21.71</td>\n",
       "      <td>8.59</td>\n",
       "      <td>3.75</td>\n",
       "      <td>1.14</td>\n",
       "      <td>0.18</td>\n",
       "    </tr>\n",
       "    <tr>\n",
       "      <th>WiiU</th>\n",
       "      <td>NaN</td>\n",
       "      <td>NaN</td>\n",
       "      <td>NaN</td>\n",
       "      <td>NaN</td>\n",
       "      <td>NaN</td>\n",
       "      <td>NaN</td>\n",
       "      <td>NaN</td>\n",
       "      <td>NaN</td>\n",
       "      <td>NaN</td>\n",
       "      <td>NaN</td>\n",
       "      <td>...</td>\n",
       "      <td>NaN</td>\n",
       "      <td>NaN</td>\n",
       "      <td>NaN</td>\n",
       "      <td>NaN</td>\n",
       "      <td>NaN</td>\n",
       "      <td>17.56</td>\n",
       "      <td>21.65</td>\n",
       "      <td>22.03</td>\n",
       "      <td>16.35</td>\n",
       "      <td>4.60</td>\n",
       "    </tr>\n",
       "    <tr>\n",
       "      <th>X360</th>\n",
       "      <td>NaN</td>\n",
       "      <td>NaN</td>\n",
       "      <td>NaN</td>\n",
       "      <td>NaN</td>\n",
       "      <td>NaN</td>\n",
       "      <td>NaN</td>\n",
       "      <td>NaN</td>\n",
       "      <td>NaN</td>\n",
       "      <td>NaN</td>\n",
       "      <td>NaN</td>\n",
       "      <td>...</td>\n",
       "      <td>95.41</td>\n",
       "      <td>135.26</td>\n",
       "      <td>120.29</td>\n",
       "      <td>170.03</td>\n",
       "      <td>143.84</td>\n",
       "      <td>99.74</td>\n",
       "      <td>88.58</td>\n",
       "      <td>34.74</td>\n",
       "      <td>11.96</td>\n",
       "      <td>1.52</td>\n",
       "    </tr>\n",
       "    <tr>\n",
       "      <th>XB</th>\n",
       "      <td>NaN</td>\n",
       "      <td>NaN</td>\n",
       "      <td>NaN</td>\n",
       "      <td>NaN</td>\n",
       "      <td>NaN</td>\n",
       "      <td>NaN</td>\n",
       "      <td>NaN</td>\n",
       "      <td>NaN</td>\n",
       "      <td>NaN</td>\n",
       "      <td>NaN</td>\n",
       "      <td>...</td>\n",
       "      <td>0.55</td>\n",
       "      <td>0.18</td>\n",
       "      <td>NaN</td>\n",
       "      <td>NaN</td>\n",
       "      <td>NaN</td>\n",
       "      <td>NaN</td>\n",
       "      <td>NaN</td>\n",
       "      <td>NaN</td>\n",
       "      <td>NaN</td>\n",
       "      <td>NaN</td>\n",
       "    </tr>\n",
       "    <tr>\n",
       "      <th>XOne</th>\n",
       "      <td>NaN</td>\n",
       "      <td>NaN</td>\n",
       "      <td>NaN</td>\n",
       "      <td>NaN</td>\n",
       "      <td>NaN</td>\n",
       "      <td>NaN</td>\n",
       "      <td>NaN</td>\n",
       "      <td>NaN</td>\n",
       "      <td>NaN</td>\n",
       "      <td>NaN</td>\n",
       "      <td>...</td>\n",
       "      <td>NaN</td>\n",
       "      <td>NaN</td>\n",
       "      <td>NaN</td>\n",
       "      <td>NaN</td>\n",
       "      <td>NaN</td>\n",
       "      <td>NaN</td>\n",
       "      <td>18.96</td>\n",
       "      <td>54.07</td>\n",
       "      <td>60.14</td>\n",
       "      <td>26.15</td>\n",
       "    </tr>\n",
       "  </tbody>\n",
       "</table>\n",
       "<p>31 rows × 37 columns</p>\n",
       "</div>"
      ],
      "text/plain": [
       "year_of_release   1980   1981   1982   1983   1984   1985   1986   1987  \\\n",
       "platform                                                                  \n",
       "2600             11.38  35.68  28.88   5.84   0.27   0.45   0.67   1.94   \n",
       "3DO                NaN    NaN    NaN    NaN    NaN    NaN    NaN    NaN   \n",
       "3DS                NaN    NaN    NaN    NaN    NaN    NaN    NaN    NaN   \n",
       "DC                 NaN    NaN    NaN    NaN    NaN    NaN    NaN    NaN   \n",
       "DS                 NaN    NaN    NaN    NaN    NaN   0.02    NaN    NaN   \n",
       "GB                 NaN    NaN    NaN    NaN    NaN    NaN    NaN    NaN   \n",
       "GBA                NaN    NaN    NaN    NaN    NaN    NaN    NaN    NaN   \n",
       "GC                 NaN    NaN    NaN    NaN    NaN    NaN    NaN    NaN   \n",
       "GEN                NaN    NaN    NaN    NaN    NaN    NaN    NaN    NaN   \n",
       "GG                 NaN    NaN    NaN    NaN    NaN    NaN    NaN    NaN   \n",
       "N64                NaN    NaN    NaN    NaN    NaN    NaN    NaN    NaN   \n",
       "NES                NaN    NaN    NaN  10.96  50.08  53.44  36.41  19.76   \n",
       "NG                 NaN    NaN    NaN    NaN    NaN    NaN    NaN    NaN   \n",
       "PC                 NaN    NaN    NaN    NaN    NaN   0.04    NaN    NaN   \n",
       "PCFX               NaN    NaN    NaN    NaN    NaN    NaN    NaN    NaN   \n",
       "PS                 NaN    NaN    NaN    NaN    NaN    NaN    NaN    NaN   \n",
       "PS2                NaN    NaN    NaN    NaN    NaN    NaN    NaN    NaN   \n",
       "PS3                NaN    NaN    NaN    NaN    NaN    NaN    NaN    NaN   \n",
       "PS4                NaN    NaN    NaN    NaN    NaN    NaN    NaN    NaN   \n",
       "PSP                NaN    NaN    NaN    NaN    NaN    NaN    NaN    NaN   \n",
       "PSV                NaN    NaN    NaN    NaN    NaN    NaN    NaN    NaN   \n",
       "SAT                NaN    NaN    NaN    NaN    NaN    NaN    NaN    NaN   \n",
       "SCD                NaN    NaN    NaN    NaN    NaN    NaN    NaN    NaN   \n",
       "SNES               NaN    NaN    NaN    NaN    NaN    NaN    NaN    NaN   \n",
       "TG16               NaN    NaN    NaN    NaN    NaN    NaN    NaN    NaN   \n",
       "WS                 NaN    NaN    NaN    NaN    NaN    NaN    NaN    NaN   \n",
       "Wii                NaN    NaN    NaN    NaN    NaN    NaN    NaN    NaN   \n",
       "WiiU               NaN    NaN    NaN    NaN    NaN    NaN    NaN    NaN   \n",
       "X360               NaN    NaN    NaN    NaN    NaN    NaN    NaN    NaN   \n",
       "XB                 NaN    NaN    NaN    NaN    NaN    NaN    NaN    NaN   \n",
       "XOne               NaN    NaN    NaN    NaN    NaN    NaN    NaN    NaN   \n",
       "\n",
       "year_of_release   1988   1989  ...    2007    2008    2009    2010    2011  \\\n",
       "platform                       ...                                           \n",
       "2600              0.74   0.63  ...     NaN     NaN     NaN     NaN     NaN   \n",
       "3DO                NaN    NaN  ...     NaN     NaN     NaN     NaN     NaN   \n",
       "3DS                NaN    NaN  ...     NaN     NaN     NaN     NaN   63.20   \n",
       "DC                 NaN    NaN  ...    0.02    0.04     NaN     NaN     NaN   \n",
       "DS                 NaN    NaN  ...  146.94  145.31  119.54   85.02   26.18   \n",
       "GB                1.43  64.97  ...     NaN     NaN     NaN     NaN     NaN   \n",
       "GBA                NaN    NaN  ...    3.40     NaN     NaN     NaN     NaN   \n",
       "GC                 NaN    NaN  ...    0.27     NaN     NaN     NaN     NaN   \n",
       "GEN                NaN    NaN  ...     NaN     NaN     NaN     NaN     NaN   \n",
       "GG                 NaN    NaN  ...     NaN     NaN     NaN     NaN     NaN   \n",
       "N64                NaN    NaN  ...     NaN     NaN     NaN     NaN     NaN   \n",
       "NES              45.01   7.85  ...     NaN     NaN     NaN     NaN     NaN   \n",
       "NG                 NaN    NaN  ...     NaN     NaN     NaN     NaN     NaN   \n",
       "PC                0.03    NaN  ...    9.28   12.42   16.91   24.28   35.03   \n",
       "PCFX               NaN    NaN  ...     NaN     NaN     NaN     NaN     NaN   \n",
       "PS                 NaN    NaN  ...     NaN     NaN     NaN     NaN     NaN   \n",
       "PS2                NaN    NaN  ...   75.99   53.90   26.40    5.64    0.45   \n",
       "PS3                NaN    NaN  ...   73.19  118.52  130.93  142.17  156.78   \n",
       "PS4                NaN    NaN  ...     NaN     NaN     NaN     NaN     NaN   \n",
       "PSP                NaN    NaN  ...   46.93   34.55   37.78   35.04   17.82   \n",
       "PSV                NaN    NaN  ...     NaN     NaN     NaN     NaN    4.63   \n",
       "SAT                NaN    NaN  ...     NaN     NaN     NaN     NaN     NaN   \n",
       "SCD                NaN    NaN  ...     NaN     NaN     NaN     NaN     NaN   \n",
       "SNES               NaN    NaN  ...     NaN     NaN     NaN     NaN     NaN   \n",
       "TG16               NaN    NaN  ...     NaN     NaN     NaN     NaN     NaN   \n",
       "WS                 NaN    NaN  ...     NaN     NaN     NaN     NaN     NaN   \n",
       "Wii                NaN    NaN  ...  152.77  171.32  206.97  127.95   59.65   \n",
       "WiiU               NaN    NaN  ...     NaN     NaN     NaN     NaN     NaN   \n",
       "X360               NaN    NaN  ...   95.41  135.26  120.29  170.03  143.84   \n",
       "XB                 NaN    NaN  ...    0.55    0.18     NaN     NaN     NaN   \n",
       "XOne               NaN    NaN  ...     NaN     NaN     NaN     NaN     NaN   \n",
       "\n",
       "year_of_release    2012    2013    2014    2015   2016  \n",
       "platform                                                \n",
       "2600                NaN     NaN     NaN     NaN    NaN  \n",
       "3DO                 NaN     NaN     NaN     NaN    NaN  \n",
       "3DS               51.36   56.57   43.76   27.78  15.14  \n",
       "DC                  NaN     NaN     NaN     NaN    NaN  \n",
       "DS                11.01    1.54     NaN     NaN    NaN  \n",
       "GB                  NaN     NaN     NaN     NaN    NaN  \n",
       "GBA                 NaN     NaN     NaN     NaN    NaN  \n",
       "GC                  NaN     NaN     NaN     NaN    NaN  \n",
       "GEN                 NaN     NaN     NaN     NaN    NaN  \n",
       "GG                  NaN     NaN     NaN     NaN    NaN  \n",
       "N64                 NaN     NaN     NaN     NaN    NaN  \n",
       "NES                 NaN     NaN     NaN     NaN    NaN  \n",
       "NG                  NaN     NaN     NaN     NaN    NaN  \n",
       "PC                23.22   12.38   13.28    8.52   5.25  \n",
       "PCFX                NaN     NaN     NaN     NaN    NaN  \n",
       "PS                  NaN     NaN     NaN     NaN    NaN  \n",
       "PS2                 NaN     NaN     NaN     NaN    NaN  \n",
       "PS3              107.36  113.25   47.76   16.82   3.60  \n",
       "PS4                 NaN   25.99  100.00  118.90  69.25  \n",
       "PSP                7.69    3.14    0.24    0.12    NaN  \n",
       "PSV               16.19   10.59   11.90    6.25   4.25  \n",
       "SAT                 NaN     NaN     NaN     NaN    NaN  \n",
       "SCD                 NaN     NaN     NaN     NaN    NaN  \n",
       "SNES                NaN     NaN     NaN     NaN    NaN  \n",
       "TG16                NaN     NaN     NaN     NaN    NaN  \n",
       "WS                  NaN     NaN     NaN     NaN    NaN  \n",
       "Wii               21.71    8.59    3.75    1.14   0.18  \n",
       "WiiU              17.56   21.65   22.03   16.35   4.60  \n",
       "X360              99.74   88.58   34.74   11.96   1.52  \n",
       "XB                  NaN     NaN     NaN     NaN    NaN  \n",
       "XOne                NaN   18.96   54.07   60.14  26.15  \n",
       "\n",
       "[31 rows x 37 columns]"
      ]
     },
     "metadata": {},
     "output_type": "display_data"
    }
   ],
   "source": [
    "sales_per_platform = data.pivot_table(index='platform', columns='year_of_release', values='total_sales', aggfunc='sum')\n",
    "display(sales_per_platform)"
   ]
  },
  {
   "cell_type": "markdown",
   "metadata": {},
   "source": [
    "Теперь определим топ платформ по продажам"
   ]
  },
  {
   "cell_type": "code",
   "execution_count": 18,
   "metadata": {},
   "outputs": [
    {
     "data": {
      "text/plain": [
       "platform\n",
       "PS2     1233.56\n",
       "X360     961.24\n",
       "PS3      931.34\n",
       "Wii      891.18\n",
       "DS       802.78\n",
       "PS       727.58\n",
       "PS4      314.14\n",
       "GBA      312.88\n",
       "PSP      289.53\n",
       "3DS      257.81\n",
       "PC       255.76\n",
       "GB       254.43\n",
       "XB       251.57\n",
       "NES      251.05\n",
       "N64      218.01\n",
       "SNES     200.04\n",
       "GC       196.73\n",
       "XOne     159.32\n",
       "2600      86.48\n",
       "WiiU      82.19\n",
       "Name: total_sales, dtype: float64"
      ]
     },
     "metadata": {},
     "output_type": "display_data"
    }
   ],
   "source": [
    "top_platforms = data.groupby('platform')['total_sales'].sum().sort_values(ascending=False).head(20)\n",
    "display(top_platforms)"
   ]
  },
  {
   "cell_type": "markdown",
   "metadata": {},
   "source": [
    "Не все эти платформы важны для исследования- некоторые из них уже прошли свой пик популярности, или совсем устарели.\n",
    "Нужно посмотреть динамику продаж по годам. Построим график."
   ]
  },
  {
   "cell_type": "code",
   "execution_count": 19,
   "metadata": {},
   "outputs": [
    {
     "data": {
      "image/png": "[encoded data removed]",
      "text/plain": [
       "<Figure size 1224x432 with 1 Axes>"
      ]
     },
     "metadata": {
      "needs_background": "light"
     },
     "output_type": "display_data"
    }
   ],
   "source": [
    "top_platforms_names = [i for i in top_platforms.index] #создадим список популярных платформ\n",
    "top_platform_per_years = (data.query('platform == @top_platforms_names')\n",
    "                           .pivot_table(index='year_of_release', columns='platform', values='total_sales', aggfunc='sum')\n",
    "                           .plot(style='o-', grid= True, legend=True, figsize=(17,6))\n",
    "                           .set(xlabel='Год', ylabel='Продажи, $ млн.', title='Продажи каждой платформы по годам')\n",
    "                            )"
   ]
  },
  {
   "cell_type": "markdown",
   "metadata": {},
   "source": [
    "У всех популярных платформ можно выделить период набора популярности, и период спада. Динамика может отличаться, но у большинства платформ, пик популярности приходится на 4-5 год, после чего начинается спад, который также длится 4-5 лет. Итого, для 2017 года, будут актуальны платформы, вышедшие не более 5 лет назад, то есть, начиная с 2012 года (предполагаем, что в первый год спада, платформа остается достаточно популярной)."
   ]
  },
  {
   "cell_type": "markdown",
   "metadata": {},
   "source": [
    "Определим характерный жизненный срок платформы."
   ]
  },
  {
   "cell_type": "code",
   "execution_count": 21,
   "metadata": {},
   "outputs": [
    {
     "data": {
      "text/html": [
       "<div>\n",
       "<style scoped>\n",
       "    .dataframe tbody tr th:only-of-type {\n",
       "        vertical-align: middle;\n",
       "    }\n",
       "\n",
       "    .dataframe tbody tr th {\n",
       "        vertical-align: top;\n",
       "    }\n",
       "\n",
       "    .dataframe thead th {\n",
       "        text-align: right;\n",
       "    }\n",
       "</style>\n",
       "<table border=\"1\" class=\"dataframe\">\n",
       "  <thead>\n",
       "    <tr style=\"text-align: right;\">\n",
       "      <th></th>\n",
       "      <th>year_of_release</th>\n",
       "    </tr>\n",
       "    <tr>\n",
       "      <th>platform</th>\n",
       "      <th></th>\n",
       "    </tr>\n",
       "  </thead>\n",
       "  <tbody>\n",
       "    <tr>\n",
       "      <th>2600</th>\n",
       "      <td>10</td>\n",
       "    </tr>\n",
       "    <tr>\n",
       "      <th>3DS</th>\n",
       "      <td>6</td>\n",
       "    </tr>\n",
       "    <tr>\n",
       "      <th>DS</th>\n",
       "      <td>11</td>\n",
       "    </tr>\n",
       "    <tr>\n",
       "      <th>GB</th>\n",
       "      <td>13</td>\n",
       "    </tr>\n",
       "    <tr>\n",
       "      <th>GBA</th>\n",
       "      <td>8</td>\n",
       "    </tr>\n",
       "    <tr>\n",
       "      <th>GC</th>\n",
       "      <td>7</td>\n",
       "    </tr>\n",
       "    <tr>\n",
       "      <th>N64</th>\n",
       "      <td>7</td>\n",
       "    </tr>\n",
       "    <tr>\n",
       "      <th>NES</th>\n",
       "      <td>12</td>\n",
       "    </tr>\n",
       "    <tr>\n",
       "      <th>PC</th>\n",
       "      <td>26</td>\n",
       "    </tr>\n",
       "    <tr>\n",
       "      <th>PS</th>\n",
       "      <td>10</td>\n",
       "    </tr>\n",
       "    <tr>\n",
       "      <th>PS2</th>\n",
       "      <td>12</td>\n",
       "    </tr>\n",
       "    <tr>\n",
       "      <th>PS3</th>\n",
       "      <td>11</td>\n",
       "    </tr>\n",
       "    <tr>\n",
       "      <th>PS4</th>\n",
       "      <td>4</td>\n",
       "    </tr>\n",
       "    <tr>\n",
       "      <th>PSP</th>\n",
       "      <td>12</td>\n",
       "    </tr>\n",
       "    <tr>\n",
       "      <th>SNES</th>\n",
       "      <td>10</td>\n",
       "    </tr>\n",
       "    <tr>\n",
       "      <th>Wii</th>\n",
       "      <td>11</td>\n",
       "    </tr>\n",
       "    <tr>\n",
       "      <th>WiiU</th>\n",
       "      <td>5</td>\n",
       "    </tr>\n",
       "    <tr>\n",
       "      <th>X360</th>\n",
       "      <td>12</td>\n",
       "    </tr>\n",
       "    <tr>\n",
       "      <th>XB</th>\n",
       "      <td>9</td>\n",
       "    </tr>\n",
       "    <tr>\n",
       "      <th>XOne</th>\n",
       "      <td>4</td>\n",
       "    </tr>\n",
       "  </tbody>\n",
       "</table>\n",
       "</div>"
      ],
      "text/plain": [
       "          year_of_release\n",
       "platform                 \n",
       "2600                   10\n",
       "3DS                     6\n",
       "DS                     11\n",
       "GB                     13\n",
       "GBA                     8\n",
       "GC                      7\n",
       "N64                     7\n",
       "NES                    12\n",
       "PC                     26\n",
       "PS                     10\n",
       "PS2                    12\n",
       "PS3                    11\n",
       "PS4                     4\n",
       "PSP                    12\n",
       "SNES                   10\n",
       "Wii                    11\n",
       "WiiU                    5\n",
       "X360                   12\n",
       "XB                      9\n",
       "XOne                    4"
      ]
     },
     "metadata": {},
     "output_type": "display_data"
    },
    {
     "data": {
      "text/plain": [
       "'медианный срок жизни платформы'"
      ]
     },
     "metadata": {},
     "output_type": "display_data"
    },
    {
     "data": {
      "text/plain": [
       "year_of_release    10.0\n",
       "dtype: float64"
      ]
     },
     "metadata": {},
     "output_type": "display_data"
    }
   ],
   "source": [
    "platform_years = (data.query('platform == @top_platforms_names')                        \n",
    "                       .pivot_table(index=['platform','year_of_release'], values='total_sales', aggfunc='sum'))\n",
    "platform_years.reset_index(inplace=True)\n",
    "platform_years = platform_years.pivot_table(index='platform', values='year_of_release', aggfunc='count')\n",
    "display(platform_years)\n",
    "display('медианный срок жизни платформы', platform_years.median())"
   ]
  },
  {
   "cell_type": "code",
   "execution_count": 22,
   "metadata": {},
   "outputs": [
    {
     "data": {
      "text/plain": [
       "2012"
      ]
     },
     "metadata": {},
     "output_type": "display_data"
    }
   ],
   "source": [
    "release_after = 2012\n",
    "display(release_after)"
   ]
  },
  {
   "cell_type": "markdown",
   "metadata": {},
   "source": [
    "В среднем, платформа живет 10 лет. Это дополняет предыдущий вывод о 5-летнем периоде набора популярности и 5-летнем спаде.\n",
    "Построим график, чтобы посмотреть продажи на существующих платформах, в актуальном периоде. Последним учитываемым годом, будем считать 2015, т.к. за 2016 у нас неполные данные."
   ]
  },
  {
   "cell_type": "code",
   "execution_count": 23,
   "metadata": {},
   "outputs": [
    {
     "data": {
      "image/png": "[encoded data removed]",
      "text/plain": [
       "<Figure size 1080x720 with 1 Axes>"
      ]
     },
     "metadata": {
      "needs_background": "light"
     },
     "output_type": "display_data"
    }
   ],
   "source": [
    "(data.query('year_of_release >= @release_after and year_of_release < 2016 ')\n",
    "   .pivot_table(index='year_of_release', columns='platform', values='total_sales', aggfunc='sum')\n",
    "   .plot(style='o-', grid= True, legend=True, figsize=(15,10))\n",
    "   .set(xlabel='Год', ylabel='Продажи, $ млн.', title='Продажи каждой платформы по годам')\n",
    ");"
   ]
  },
  {
   "cell_type": "markdown",
   "metadata": {},
   "source": [
    "Восходящий тренд у двух платформ- PS4 и XOne. Остальные либо держатся на одном уровне, либо падают. Посчитаем продажи по платформам в 2015 году."
   ]
  },
  {
   "cell_type": "code",
   "execution_count": 24,
   "metadata": {},
   "outputs": [
    {
     "data": {
      "text/html": [
       "<div>\n",
       "<style scoped>\n",
       "    .dataframe tbody tr th:only-of-type {\n",
       "        vertical-align: middle;\n",
       "    }\n",
       "\n",
       "    .dataframe tbody tr th {\n",
       "        vertical-align: top;\n",
       "    }\n",
       "\n",
       "    .dataframe thead th {\n",
       "        text-align: right;\n",
       "    }\n",
       "</style>\n",
       "<table border=\"1\" class=\"dataframe\">\n",
       "  <thead>\n",
       "    <tr style=\"text-align: right;\">\n",
       "      <th></th>\n",
       "      <th>total_sales</th>\n",
       "    </tr>\n",
       "    <tr>\n",
       "      <th>platform</th>\n",
       "      <th></th>\n",
       "    </tr>\n",
       "  </thead>\n",
       "  <tbody>\n",
       "    <tr>\n",
       "      <th>PS4</th>\n",
       "      <td>118.90</td>\n",
       "    </tr>\n",
       "    <tr>\n",
       "      <th>XOne</th>\n",
       "      <td>60.14</td>\n",
       "    </tr>\n",
       "    <tr>\n",
       "      <th>3DS</th>\n",
       "      <td>27.78</td>\n",
       "    </tr>\n",
       "    <tr>\n",
       "      <th>PS3</th>\n",
       "      <td>16.82</td>\n",
       "    </tr>\n",
       "    <tr>\n",
       "      <th>WiiU</th>\n",
       "      <td>16.35</td>\n",
       "    </tr>\n",
       "    <tr>\n",
       "      <th>X360</th>\n",
       "      <td>11.96</td>\n",
       "    </tr>\n",
       "    <tr>\n",
       "      <th>PC</th>\n",
       "      <td>8.52</td>\n",
       "    </tr>\n",
       "    <tr>\n",
       "      <th>PSV</th>\n",
       "      <td>6.25</td>\n",
       "    </tr>\n",
       "    <tr>\n",
       "      <th>Wii</th>\n",
       "      <td>1.14</td>\n",
       "    </tr>\n",
       "    <tr>\n",
       "      <th>PSP</th>\n",
       "      <td>0.12</td>\n",
       "    </tr>\n",
       "  </tbody>\n",
       "</table>\n",
       "</div>"
      ],
      "text/plain": [
       "          total_sales\n",
       "platform             \n",
       "PS4            118.90\n",
       "XOne            60.14\n",
       "3DS             27.78\n",
       "PS3             16.82\n",
       "WiiU            16.35\n",
       "X360            11.96\n",
       "PC               8.52\n",
       "PSV              6.25\n",
       "Wii              1.14\n",
       "PSP              0.12"
      ]
     },
     "metadata": {},
     "output_type": "display_data"
    }
   ],
   "source": [
    "sales_2015 = (data.query('year_of_release == 2015')\n",
    "                   .pivot_table(index='platform', values='total_sales', aggfunc='sum')\n",
    "                   .sort_values(by='total_sales', ascending=False))\n",
    "display(sales_2015)"
   ]
  },
  {
   "cell_type": "markdown",
   "metadata": {},
   "source": [
    "Продажи по последним двум платформам ничтожно малы, так что их можно не учитывать. Составим список платформ, которые могут быть актуальны в 2017 году."
   ]
  },
  {
   "cell_type": "code",
   "execution_count": 25,
   "metadata": {},
   "outputs": [
    {
     "data": {
      "text/plain": [
       "'Предположительно актуальные платформы 2017 года'"
      ]
     },
     "metadata": {},
     "output_type": "display_data"
    },
    {
     "data": {
      "text/plain": [
       "['PS4', 'XOne', '3DS', 'PS3', 'WiiU', 'X360', 'PC', 'PSV']"
      ]
     },
     "metadata": {},
     "output_type": "display_data"
    }
   ],
   "source": [
    "actual_platform = [i for i in sales_2015[:8].index]\n",
    "display('Предположительно актуальные платформы 2017 года', actual_platform)"
   ]
  },
  {
   "cell_type": "markdown",
   "metadata": {},
   "source": [
    "Теперь построим график \"Ящик с усами\", по продажам игр для разных платформ. Для начала- создадим таблицу с разбивкой по продажам каждой игры на разных платформах, и подсчетом суммы проданных копий для каждой игры."
   ]
  },
  {
   "cell_type": "code",
   "execution_count": 26,
   "metadata": {},
   "outputs": [
    {
     "data": {
      "text/html": [
       "<div>\n",
       "<style scoped>\n",
       "    .dataframe tbody tr th:only-of-type {\n",
       "        vertical-align: middle;\n",
       "    }\n",
       "\n",
       "    .dataframe tbody tr th {\n",
       "        vertical-align: top;\n",
       "    }\n",
       "\n",
       "    .dataframe thead th {\n",
       "        text-align: right;\n",
       "    }\n",
       "</style>\n",
       "<table border=\"1\" class=\"dataframe\">\n",
       "  <thead>\n",
       "    <tr style=\"text-align: right;\">\n",
       "      <th>platform</th>\n",
       "      <th>3DS</th>\n",
       "      <th>PC</th>\n",
       "      <th>PS3</th>\n",
       "      <th>PS4</th>\n",
       "      <th>PSV</th>\n",
       "      <th>WiiU</th>\n",
       "      <th>X360</th>\n",
       "      <th>XOne</th>\n",
       "      <th>game_platforms_total</th>\n",
       "    </tr>\n",
       "    <tr>\n",
       "      <th>name</th>\n",
       "      <th></th>\n",
       "      <th></th>\n",
       "      <th></th>\n",
       "      <th></th>\n",
       "      <th></th>\n",
       "      <th></th>\n",
       "      <th></th>\n",
       "      <th></th>\n",
       "      <th></th>\n",
       "    </tr>\n",
       "  </thead>\n",
       "  <tbody>\n",
       "    <tr>\n",
       "      <th>Grand Theft Auto V</th>\n",
       "      <td>NaN</td>\n",
       "      <td>1.17</td>\n",
       "      <td>21.05</td>\n",
       "      <td>12.62</td>\n",
       "      <td>NaN</td>\n",
       "      <td>NaN</td>\n",
       "      <td>16.27</td>\n",
       "      <td>5.47</td>\n",
       "      <td>56.58</td>\n",
       "    </tr>\n",
       "    <tr>\n",
       "      <th>Call of Duty: Black Ops II</th>\n",
       "      <td>NaN</td>\n",
       "      <td>1.52</td>\n",
       "      <td>13.79</td>\n",
       "      <td>NaN</td>\n",
       "      <td>NaN</td>\n",
       "      <td>0.41</td>\n",
       "      <td>13.68</td>\n",
       "      <td>NaN</td>\n",
       "      <td>29.40</td>\n",
       "    </tr>\n",
       "    <tr>\n",
       "      <th>Call of Duty: Ghosts</th>\n",
       "      <td>NaN</td>\n",
       "      <td>0.69</td>\n",
       "      <td>9.36</td>\n",
       "      <td>3.83</td>\n",
       "      <td>NaN</td>\n",
       "      <td>0.35</td>\n",
       "      <td>10.24</td>\n",
       "      <td>2.92</td>\n",
       "      <td>27.39</td>\n",
       "    </tr>\n",
       "    <tr>\n",
       "      <th>Call of Duty: Black Ops 3</th>\n",
       "      <td>NaN</td>\n",
       "      <td>0.26</td>\n",
       "      <td>1.69</td>\n",
       "      <td>14.63</td>\n",
       "      <td>NaN</td>\n",
       "      <td>NaN</td>\n",
       "      <td>1.70</td>\n",
       "      <td>7.39</td>\n",
       "      <td>25.67</td>\n",
       "    </tr>\n",
       "    <tr>\n",
       "      <th>Minecraft</th>\n",
       "      <td>NaN</td>\n",
       "      <td>NaN</td>\n",
       "      <td>5.27</td>\n",
       "      <td>4.32</td>\n",
       "      <td>1.96</td>\n",
       "      <td>0.67</td>\n",
       "      <td>9.18</td>\n",
       "      <td>2.76</td>\n",
       "      <td>24.16</td>\n",
       "    </tr>\n",
       "    <tr>\n",
       "      <th>...</th>\n",
       "      <td>...</td>\n",
       "      <td>...</td>\n",
       "      <td>...</td>\n",
       "      <td>...</td>\n",
       "      <td>...</td>\n",
       "      <td>...</td>\n",
       "      <td>...</td>\n",
       "      <td>...</td>\n",
       "      <td>...</td>\n",
       "    </tr>\n",
       "    <tr>\n",
       "      <th>Pac-Man Championship Edition 2 + Arcade Game Series</th>\n",
       "      <td>NaN</td>\n",
       "      <td>NaN</td>\n",
       "      <td>NaN</td>\n",
       "      <td>NaN</td>\n",
       "      <td>NaN</td>\n",
       "      <td>NaN</td>\n",
       "      <td>NaN</td>\n",
       "      <td>0.01</td>\n",
       "      <td>0.01</td>\n",
       "    </tr>\n",
       "    <tr>\n",
       "      <th>Hitotsu Tobashi Renai V</th>\n",
       "      <td>NaN</td>\n",
       "      <td>NaN</td>\n",
       "      <td>NaN</td>\n",
       "      <td>NaN</td>\n",
       "      <td>0.01</td>\n",
       "      <td>NaN</td>\n",
       "      <td>NaN</td>\n",
       "      <td>NaN</td>\n",
       "      <td>0.01</td>\n",
       "    </tr>\n",
       "    <tr>\n",
       "      <th>Horse Life 4: My Horse, My Friend, My Champion</th>\n",
       "      <td>0.01</td>\n",
       "      <td>NaN</td>\n",
       "      <td>NaN</td>\n",
       "      <td>NaN</td>\n",
       "      <td>NaN</td>\n",
       "      <td>NaN</td>\n",
       "      <td>NaN</td>\n",
       "      <td>NaN</td>\n",
       "      <td>0.01</td>\n",
       "    </tr>\n",
       "    <tr>\n",
       "      <th>Hyakka Yakou</th>\n",
       "      <td>NaN</td>\n",
       "      <td>NaN</td>\n",
       "      <td>NaN</td>\n",
       "      <td>NaN</td>\n",
       "      <td>0.01</td>\n",
       "      <td>NaN</td>\n",
       "      <td>NaN</td>\n",
       "      <td>NaN</td>\n",
       "      <td>0.01</td>\n",
       "    </tr>\n",
       "    <tr>\n",
       "      <th>Crows: Burning Edge</th>\n",
       "      <td>NaN</td>\n",
       "      <td>NaN</td>\n",
       "      <td>NaN</td>\n",
       "      <td>0.01</td>\n",
       "      <td>NaN</td>\n",
       "      <td>NaN</td>\n",
       "      <td>NaN</td>\n",
       "      <td>NaN</td>\n",
       "      <td>0.01</td>\n",
       "    </tr>\n",
       "  </tbody>\n",
       "</table>\n",
       "<p>1506 rows × 9 columns</p>\n",
       "</div>"
      ],
      "text/plain": [
       "platform                                             3DS    PC    PS3    PS4  \\\n",
       "name                                                                           \n",
       "Grand Theft Auto V                                   NaN  1.17  21.05  12.62   \n",
       "Call of Duty: Black Ops II                           NaN  1.52  13.79    NaN   \n",
       "Call of Duty: Ghosts                                 NaN  0.69   9.36   3.83   \n",
       "Call of Duty: Black Ops 3                            NaN  0.26   1.69  14.63   \n",
       "Minecraft                                            NaN   NaN   5.27   4.32   \n",
       "...                                                  ...   ...    ...    ...   \n",
       "Pac-Man Championship Edition 2 + Arcade Game Se...   NaN   NaN    NaN    NaN   \n",
       "Hitotsu Tobashi Renai V                              NaN   NaN    NaN    NaN   \n",
       "Horse Life 4: My Horse, My Friend, My Champion      0.01   NaN    NaN    NaN   \n",
       "Hyakka Yakou                                         NaN   NaN    NaN    NaN   \n",
       "Crows: Burning Edge                                  NaN   NaN    NaN   0.01   \n",
       "\n",
       "platform                                             PSV  WiiU   X360  XOne  \\\n",
       "name                                                                          \n",
       "Grand Theft Auto V                                   NaN   NaN  16.27  5.47   \n",
       "Call of Duty: Black Ops II                           NaN  0.41  13.68   NaN   \n",
       "Call of Duty: Ghosts                                 NaN  0.35  10.24  2.92   \n",
       "Call of Duty: Black Ops 3                            NaN   NaN   1.70  7.39   \n",
       "Minecraft                                           1.96  0.67   9.18  2.76   \n",
       "...                                                  ...   ...    ...   ...   \n",
       "Pac-Man Championship Edition 2 + Arcade Game Se...   NaN   NaN    NaN  0.01   \n",
       "Hitotsu Tobashi Renai V                             0.01   NaN    NaN   NaN   \n",
       "Horse Life 4: My Horse, My Friend, My Champion       NaN   NaN    NaN   NaN   \n",
       "Hyakka Yakou                                        0.01   NaN    NaN   NaN   \n",
       "Crows: Burning Edge                                  NaN   NaN    NaN   NaN   \n",
       "\n",
       "platform                                            game_platforms_total  \n",
       "name                                                                      \n",
       "Grand Theft Auto V                                                 56.58  \n",
       "Call of Duty: Black Ops II                                         29.40  \n",
       "Call of Duty: Ghosts                                               27.39  \n",
       "Call of Duty: Black Ops 3                                          25.67  \n",
       "Minecraft                                                          24.16  \n",
       "...                                                                  ...  \n",
       "Pac-Man Championship Edition 2 + Arcade Game Se...                  0.01  \n",
       "Hitotsu Tobashi Renai V                                             0.01  \n",
       "Horse Life 4: My Horse, My Friend, My Champion                      0.01  \n",
       "Hyakka Yakou                                                        0.01  \n",
       "Crows: Burning Edge                                                 0.01  \n",
       "\n",
       "[1506 rows x 9 columns]"
      ]
     },
     "metadata": {},
     "output_type": "display_data"
    }
   ],
   "source": [
    "# сделаем выьорку- год релиза начиная с 2011, и платформа из списка.\n",
    "actual_platform_sales = (data.query('year_of_release >= @release_after and platform == @actual_platform')\n",
    "                     .pivot_table(index='name', columns='platform', values='total_sales', aggfunc='sum')\n",
    "                  )\n",
    "\n",
    "actual_platform_sales['game_platforms_total'] = actual_platform_sales.sum(axis=1)\n",
    "display(actual_platform_sales.sort_values(by='game_platforms_total', ascending=False))"
   ]
  },
  {
   "cell_type": "markdown",
   "metadata": {},
   "source": [
    "Сразу видим, что самые большие продажи делают мультиплатформенные игры, при этом, количество проданных копий на разных платформах может сильно отличаться. Построим график."
   ]
  },
  {
   "cell_type": "code",
   "execution_count": 27,
   "metadata": {},
   "outputs": [
    {
     "data": {
      "image/png": "[encoded data removed]",
      "text/plain": [
       "<Figure size 1080x720 with 1 Axes>"
      ]
     },
     "metadata": {
      "needs_background": "light"
     },
     "output_type": "display_data"
    }
   ],
   "source": [
    "plt.figure(figsize=(15,10))\n",
    "sns.boxplot(data=actual_platform_sales, orient='v');"
   ]
  },
  {
   "cell_type": "markdown",
   "metadata": {},
   "source": [
    "Судя по графику, рекорды продаж чаще ставили игры на пралтформах PS3, PS4, X360, 3DS. \n",
    "Посмотрим подробнее данные для каждой платформы."
   ]
  },
  {
   "cell_type": "code",
   "execution_count": 28,
   "metadata": {},
   "outputs": [
    {
     "data": {
      "text/html": [
       "<div>\n",
       "<style scoped>\n",
       "    .dataframe tbody tr th:only-of-type {\n",
       "        vertical-align: middle;\n",
       "    }\n",
       "\n",
       "    .dataframe tbody tr th {\n",
       "        vertical-align: top;\n",
       "    }\n",
       "\n",
       "    .dataframe thead th {\n",
       "        text-align: right;\n",
       "    }\n",
       "</style>\n",
       "<table border=\"1\" class=\"dataframe\">\n",
       "  <thead>\n",
       "    <tr style=\"text-align: right;\">\n",
       "      <th>platform</th>\n",
       "      <th>3DS</th>\n",
       "      <th>PC</th>\n",
       "      <th>PS3</th>\n",
       "      <th>PS4</th>\n",
       "      <th>PSV</th>\n",
       "      <th>WiiU</th>\n",
       "      <th>X360</th>\n",
       "      <th>XOne</th>\n",
       "      <th>game_platforms_total</th>\n",
       "    </tr>\n",
       "  </thead>\n",
       "  <tbody>\n",
       "    <tr>\n",
       "      <th>count</th>\n",
       "      <td>396.000000</td>\n",
       "      <td>250.00000</td>\n",
       "      <td>492.000000</td>\n",
       "      <td>392.000000</td>\n",
       "      <td>411.000000</td>\n",
       "      <td>147.000000</td>\n",
       "      <td>292.000000</td>\n",
       "      <td>247.000000</td>\n",
       "      <td>1506.000000</td>\n",
       "    </tr>\n",
       "    <tr>\n",
       "      <th>mean</th>\n",
       "      <td>0.491439</td>\n",
       "      <td>0.25060</td>\n",
       "      <td>0.586972</td>\n",
       "      <td>0.801378</td>\n",
       "      <td>0.119659</td>\n",
       "      <td>0.559116</td>\n",
       "      <td>0.810068</td>\n",
       "      <td>0.645020</td>\n",
       "      <td>0.921262</td>\n",
       "    </tr>\n",
       "    <tr>\n",
       "      <th>std</th>\n",
       "      <td>1.387161</td>\n",
       "      <td>0.49464</td>\n",
       "      <td>1.464141</td>\n",
       "      <td>1.609456</td>\n",
       "      <td>0.203011</td>\n",
       "      <td>1.058836</td>\n",
       "      <td>1.712069</td>\n",
       "      <td>1.036139</td>\n",
       "      <td>2.743623</td>\n",
       "    </tr>\n",
       "    <tr>\n",
       "      <th>min</th>\n",
       "      <td>0.010000</td>\n",
       "      <td>0.01000</td>\n",
       "      <td>0.010000</td>\n",
       "      <td>0.010000</td>\n",
       "      <td>0.010000</td>\n",
       "      <td>0.010000</td>\n",
       "      <td>0.010000</td>\n",
       "      <td>0.010000</td>\n",
       "      <td>0.010000</td>\n",
       "    </tr>\n",
       "    <tr>\n",
       "      <th>25%</th>\n",
       "      <td>0.040000</td>\n",
       "      <td>0.03000</td>\n",
       "      <td>0.050000</td>\n",
       "      <td>0.060000</td>\n",
       "      <td>0.020000</td>\n",
       "      <td>0.080000</td>\n",
       "      <td>0.100000</td>\n",
       "      <td>0.060000</td>\n",
       "      <td>0.040000</td>\n",
       "    </tr>\n",
       "    <tr>\n",
       "      <th>50%</th>\n",
       "      <td>0.110000</td>\n",
       "      <td>0.08000</td>\n",
       "      <td>0.200000</td>\n",
       "      <td>0.200000</td>\n",
       "      <td>0.050000</td>\n",
       "      <td>0.220000</td>\n",
       "      <td>0.310000</td>\n",
       "      <td>0.220000</td>\n",
       "      <td>0.150000</td>\n",
       "    </tr>\n",
       "    <tr>\n",
       "      <th>75%</th>\n",
       "      <td>0.312500</td>\n",
       "      <td>0.24000</td>\n",
       "      <td>0.610000</td>\n",
       "      <td>0.730000</td>\n",
       "      <td>0.120000</td>\n",
       "      <td>0.525000</td>\n",
       "      <td>0.870000</td>\n",
       "      <td>0.685000</td>\n",
       "      <td>0.640000</td>\n",
       "    </tr>\n",
       "    <tr>\n",
       "      <th>max</th>\n",
       "      <td>14.600000</td>\n",
       "      <td>5.14000</td>\n",
       "      <td>21.050000</td>\n",
       "      <td>14.630000</td>\n",
       "      <td>1.960000</td>\n",
       "      <td>7.090000</td>\n",
       "      <td>16.270000</td>\n",
       "      <td>7.390000</td>\n",
       "      <td>56.580000</td>\n",
       "    </tr>\n",
       "  </tbody>\n",
       "</table>\n",
       "</div>"
      ],
      "text/plain": [
       "platform         3DS         PC         PS3         PS4         PSV  \\\n",
       "count     396.000000  250.00000  492.000000  392.000000  411.000000   \n",
       "mean        0.491439    0.25060    0.586972    0.801378    0.119659   \n",
       "std         1.387161    0.49464    1.464141    1.609456    0.203011   \n",
       "min         0.010000    0.01000    0.010000    0.010000    0.010000   \n",
       "25%         0.040000    0.03000    0.050000    0.060000    0.020000   \n",
       "50%         0.110000    0.08000    0.200000    0.200000    0.050000   \n",
       "75%         0.312500    0.24000    0.610000    0.730000    0.120000   \n",
       "max        14.600000    5.14000   21.050000   14.630000    1.960000   \n",
       "\n",
       "platform        WiiU        X360        XOne  game_platforms_total  \n",
       "count     147.000000  292.000000  247.000000           1506.000000  \n",
       "mean        0.559116    0.810068    0.645020              0.921262  \n",
       "std         1.058836    1.712069    1.036139              2.743623  \n",
       "min         0.010000    0.010000    0.010000              0.010000  \n",
       "25%         0.080000    0.100000    0.060000              0.040000  \n",
       "50%         0.220000    0.310000    0.220000              0.150000  \n",
       "75%         0.525000    0.870000    0.685000              0.640000  \n",
       "max         7.090000   16.270000    7.390000             56.580000  "
      ]
     },
     "metadata": {},
     "output_type": "display_data"
    }
   ],
   "source": [
    "display(actual_platform_sales.describe())"
   ]
  },
  {
   "cell_type": "markdown",
   "metadata": {},
   "source": [
    "Рекорд проданных копий- на PS3. Лучшая медиана и среднее арифметическое- у PS3, PS4, WiiU, X360, XOne."
   ]
  },
  {
   "cell_type": "markdown",
   "metadata": {},
   "source": [
    "Определим, как влияют на продажи отзывы критиков и игроков. Согласно заданию, нам надо посчитать корреляцию для одной популярной платформы. Попробуем определить самую популярную платформу в актуальном периоде."
   ]
  },
  {
   "cell_type": "code",
   "execution_count": 29,
   "metadata": {},
   "outputs": [
    {
     "data": {
      "text/html": [
       "<div>\n",
       "<style scoped>\n",
       "    .dataframe tbody tr th:only-of-type {\n",
       "        vertical-align: middle;\n",
       "    }\n",
       "\n",
       "    .dataframe tbody tr th {\n",
       "        vertical-align: top;\n",
       "    }\n",
       "\n",
       "    .dataframe thead th {\n",
       "        text-align: right;\n",
       "    }\n",
       "</style>\n",
       "<table border=\"1\" class=\"dataframe\">\n",
       "  <thead>\n",
       "    <tr style=\"text-align: right;\">\n",
       "      <th></th>\n",
       "      <th>total_sales</th>\n",
       "    </tr>\n",
       "    <tr>\n",
       "      <th>platform</th>\n",
       "      <th></th>\n",
       "    </tr>\n",
       "  </thead>\n",
       "  <tbody>\n",
       "    <tr>\n",
       "      <th>PS4</th>\n",
       "      <td>314.14</td>\n",
       "    </tr>\n",
       "    <tr>\n",
       "      <th>PS3</th>\n",
       "      <td>288.79</td>\n",
       "    </tr>\n",
       "    <tr>\n",
       "      <th>X360</th>\n",
       "      <td>236.54</td>\n",
       "    </tr>\n",
       "    <tr>\n",
       "      <th>3DS</th>\n",
       "      <td>194.61</td>\n",
       "    </tr>\n",
       "    <tr>\n",
       "      <th>XOne</th>\n",
       "      <td>159.32</td>\n",
       "    </tr>\n",
       "    <tr>\n",
       "      <th>WiiU</th>\n",
       "      <td>82.19</td>\n",
       "    </tr>\n",
       "    <tr>\n",
       "      <th>PC</th>\n",
       "      <td>62.65</td>\n",
       "    </tr>\n",
       "    <tr>\n",
       "      <th>PSV</th>\n",
       "      <td>49.18</td>\n",
       "    </tr>\n",
       "    <tr>\n",
       "      <th>Wii</th>\n",
       "      <td>35.37</td>\n",
       "    </tr>\n",
       "    <tr>\n",
       "      <th>DS</th>\n",
       "      <td>12.55</td>\n",
       "    </tr>\n",
       "    <tr>\n",
       "      <th>PSP</th>\n",
       "      <td>11.19</td>\n",
       "    </tr>\n",
       "  </tbody>\n",
       "</table>\n",
       "</div>"
      ],
      "text/plain": [
       "          total_sales\n",
       "platform             \n",
       "PS4            314.14\n",
       "PS3            288.79\n",
       "X360           236.54\n",
       "3DS            194.61\n",
       "XOne           159.32\n",
       "WiiU            82.19\n",
       "PC              62.65\n",
       "PSV             49.18\n",
       "Wii             35.37\n",
       "DS              12.55\n",
       "PSP             11.19"
      ]
     },
     "metadata": {},
     "output_type": "display_data"
    }
   ],
   "source": [
    "display(data.query('year_of_release >= @release_after')\n",
    "  .pivot_table(index='platform', values='total_sales', aggfunc='sum')\n",
    "  .sort_values(by='total_sales', ascending=False)\n",
    ")"
   ]
  },
  {
   "cell_type": "markdown",
   "metadata": {},
   "source": [
    "Поскольку у PS3 и X360 пик популярности уже явно позади, возьмем для расчетов PS4. Посмотрим корреляцию отзывов и оценок с продажами, а также построим матрицу корреляции."
   ]
  },
  {
   "cell_type": "code",
   "execution_count": 30,
   "metadata": {},
   "outputs": [
    {
     "data": {
      "image/png": "[encoded data removed]",
      "text/plain": [
       "<Figure size 1200x400 with 2 Axes>"
      ]
     },
     "metadata": {
      "needs_background": "light"
     },
     "output_type": "display_data"
    },
    {
     "data": {
      "image/png": "[encoded data removed]",
      "text/plain": [
       "<Figure size 1080x648 with 9 Axes>"
      ]
     },
     "metadata": {
      "needs_background": "light"
     },
     "output_type": "display_data"
    }
   ],
   "source": [
    "ps4_score_sales = (data.query('year_of_release >= @release_after & platform == \"PS4\" & critic_score != 0 ')\n",
    "                     .loc[:, ['name', 'critic_score', 'user_score', 'total_sales']])\n",
    "plt.figure(figsize=(15,5), dpi= 80)\n",
    "sns.heatmap(ps4_score_sales.corr(), xticklabels=ps4_score_sales.corr().columns, yticklabels=ps4_score_sales.corr().columns, cmap='RdYlGn', center=0, annot=True)\n",
    "plt.title('Корреляция продаж от отзывов', fontsize=15)\n",
    "plt.xticks(fontsize=9)\n",
    "plt.yticks(fontsize=9)\n",
    "plt.show()\n",
    "\n",
    "pd.plotting.scatter_matrix(ps4_score_sales, figsize=(15, 9), alpha=1, c='b');"
   ]
  },
  {
   "cell_type": "markdown",
   "metadata": {},
   "source": [
    "Оценка критиков и продажи, коррелируют довольно слабо. Оценки игроков и продажи, не коррелируют вовсе. Оценки игроков и критиков коррелируют средне, но они не всегда сходятся во мнении. Проверим ситуацию на остальных платформах."
   ]
  },
  {
   "cell_type": "code",
   "execution_count": 31,
   "metadata": {},
   "outputs": [
    {
     "data": {
      "text/plain": [
       "Text(0.5, 1.0, 'Взаимосвязь между общими продажами и оценками')"
      ]
     },
     "metadata": {},
     "output_type": "display_data"
    },
    {
     "data": {
      "image/png": "[encoded data removed]",
      "text/plain": [
       "<Figure size 1200x400 with 2 Axes>"
      ]
     },
     "metadata": {
      "needs_background": "light"
     },
     "output_type": "display_data"
    }
   ],
   "source": [
    "other_platforms = (data.query('year_of_release >= @release_after & critic_score != 0 & platform != \"PS4\"')\n",
    "                     .loc[:, ['name', 'critic_score', 'user_score', 'total_sales']])\n",
    "plt.figure(figsize=(15, 5), dpi= 80)\n",
    "sns.heatmap(other_platforms.corr(), xticklabels=other_platforms.corr().columns,\\\n",
    "            yticklabels=other_platforms.corr().columns, cmap='RdYlGn', center=0, annot=True)\n",
    "display(plt.title('Взаимосвязь между общими продажами и оценками'))"
   ]
  },
  {
   "cell_type": "markdown",
   "metadata": {},
   "source": [
    "Результат немного отличается, но принципиально выводы не меняет. Определим теперь распределение игр по жанрам."
   ]
  },
  {
   "cell_type": "code",
   "execution_count": 33,
   "metadata": {},
   "outputs": [
    {
     "data": {
      "text/html": [
       "<div>\n",
       "<style scoped>\n",
       "    .dataframe tbody tr th:only-of-type {\n",
       "        vertical-align: middle;\n",
       "    }\n",
       "\n",
       "    .dataframe tbody tr th {\n",
       "        vertical-align: top;\n",
       "    }\n",
       "\n",
       "    .dataframe thead th {\n",
       "        text-align: right;\n",
       "    }\n",
       "</style>\n",
       "<table border=\"1\" class=\"dataframe\">\n",
       "  <thead>\n",
       "    <tr style=\"text-align: right;\">\n",
       "      <th></th>\n",
       "      <th>genre</th>\n",
       "      <th>Продажи, $ млн.</th>\n",
       "      <th>Количество игр, шт.</th>\n",
       "      <th>Медианные продажи, $ млн.</th>\n",
       "    </tr>\n",
       "  </thead>\n",
       "  <tbody>\n",
       "    <tr>\n",
       "      <th>8</th>\n",
       "      <td>Shooter</td>\n",
       "      <td>304.73</td>\n",
       "      <td>235</td>\n",
       "      <td>0.440</td>\n",
       "    </tr>\n",
       "    <tr>\n",
       "      <th>10</th>\n",
       "      <td>Sports</td>\n",
       "      <td>181.07</td>\n",
       "      <td>268</td>\n",
       "      <td>0.240</td>\n",
       "    </tr>\n",
       "    <tr>\n",
       "      <th>4</th>\n",
       "      <td>Platform</td>\n",
       "      <td>61.00</td>\n",
       "      <td>85</td>\n",
       "      <td>0.210</td>\n",
       "    </tr>\n",
       "    <tr>\n",
       "      <th>7</th>\n",
       "      <td>Role-Playing</td>\n",
       "      <td>192.80</td>\n",
       "      <td>370</td>\n",
       "      <td>0.140</td>\n",
       "    </tr>\n",
       "    <tr>\n",
       "      <th>6</th>\n",
       "      <td>Racing</td>\n",
       "      <td>53.50</td>\n",
       "      <td>115</td>\n",
       "      <td>0.140</td>\n",
       "    </tr>\n",
       "    <tr>\n",
       "      <th>2</th>\n",
       "      <td>Fighting</td>\n",
       "      <td>44.49</td>\n",
       "      <td>109</td>\n",
       "      <td>0.130</td>\n",
       "    </tr>\n",
       "    <tr>\n",
       "      <th>0</th>\n",
       "      <td>Action</td>\n",
       "      <td>441.12</td>\n",
       "      <td>1031</td>\n",
       "      <td>0.120</td>\n",
       "    </tr>\n",
       "    <tr>\n",
       "      <th>3</th>\n",
       "      <td>Misc</td>\n",
       "      <td>85.04</td>\n",
       "      <td>192</td>\n",
       "      <td>0.120</td>\n",
       "    </tr>\n",
       "    <tr>\n",
       "      <th>9</th>\n",
       "      <td>Simulation</td>\n",
       "      <td>35.12</td>\n",
       "      <td>80</td>\n",
       "      <td>0.120</td>\n",
       "    </tr>\n",
       "    <tr>\n",
       "      <th>11</th>\n",
       "      <td>Strategy</td>\n",
       "      <td>13.34</td>\n",
       "      <td>71</td>\n",
       "      <td>0.080</td>\n",
       "    </tr>\n",
       "    <tr>\n",
       "      <th>5</th>\n",
       "      <td>Puzzle</td>\n",
       "      <td>4.89</td>\n",
       "      <td>28</td>\n",
       "      <td>0.045</td>\n",
       "    </tr>\n",
       "    <tr>\n",
       "      <th>1</th>\n",
       "      <td>Adventure</td>\n",
       "      <td>29.43</td>\n",
       "      <td>302</td>\n",
       "      <td>0.030</td>\n",
       "    </tr>\n",
       "  </tbody>\n",
       "</table>\n",
       "</div>"
      ],
      "text/plain": [
       "           genre  Продажи, $ млн.  Количество игр, шт.  \\\n",
       "8        Shooter           304.73                  235   \n",
       "10        Sports           181.07                  268   \n",
       "4       Platform            61.00                   85   \n",
       "7   Role-Playing           192.80                  370   \n",
       "6         Racing            53.50                  115   \n",
       "2       Fighting            44.49                  109   \n",
       "0         Action           441.12                 1031   \n",
       "3           Misc            85.04                  192   \n",
       "9     Simulation            35.12                   80   \n",
       "11      Strategy            13.34                   71   \n",
       "5         Puzzle             4.89                   28   \n",
       "1      Adventure            29.43                  302   \n",
       "\n",
       "    Медианные продажи, $ млн.  \n",
       "8                       0.440  \n",
       "10                      0.240  \n",
       "4                       0.210  \n",
       "7                       0.140  \n",
       "6                       0.140  \n",
       "2                       0.130  \n",
       "0                       0.120  \n",
       "3                       0.120  \n",
       "9                       0.120  \n",
       "11                      0.080  \n",
       "5                       0.045  \n",
       "1                       0.030  "
      ]
     },
     "metadata": {},
     "output_type": "display_data"
    }
   ],
   "source": [
    "sales_genre = (data.query('year_of_release >= @release_after')\n",
    "                    .pivot_table(index='genre', values='total_sales', aggfunc=['sum', 'count', 'median']))\n",
    "sales_genre.columns = ['Продажи, $ млн.', 'Количество игр, шт.', 'Медианные продажи, $ млн.']\n",
    "sales_genre.reset_index(inplace=True)\n",
    "sales_genre.sort_values(by='Медианные продажи, $ млн.', inplace=True, ascending=False)\n",
    "display(sales_genre)"
   ]
  },
  {
   "cell_type": "markdown",
   "metadata": {},
   "source": [
    "Разные жанры оличаются не только продажами, но и количеством игр этих жанров.\n",
    "Самый популярный жанр- Action. Самый непопулярный- Puzzle."
   ]
  },
  {
   "cell_type": "markdown",
   "metadata": {},
   "source": [
    "Выводы по исследованию данных:\n",
    "1) Срок жизни платформы- около 10 лет.\n",
    "2) Самая популярная из актуальных платформ- PS4. Также в восходящем тренде- XOne.\n",
    "3) Потенциально прибыльные платформы PS4, XOne, 3DS, PS3, WiiU, X360, PC, PSV\n",
    "4) Отзывы игроков, судя по всему, не влияют на продажи. Отзывы критиков имеют небольшой вес.\n",
    "5) Самые популярные жанры- Action, Shooter, Role-Playing, Sports."
   ]
  },
  {
   "cell_type": "markdown",
   "metadata": {},
   "source": [
    "# Портреты пользователей разных регионов"
   ]
  },
  {
   "cell_type": "markdown",
   "metadata": {},
   "source": [
    "Согласно заданию- нам надо произвести одинаковые расчеты для трех разных регионов. Следовательно, мы можем создать функцию, которая сделает нам все необходимые расчеты, и вызвать ее для каждого из регионов."
   ]
  },
  {
   "cell_type": "code",
   "execution_count": 34,
   "metadata": {},
   "outputs": [],
   "source": [
    "def top_5(data, column):\n",
    "    #сгруппируем данные по топ-5 самых популярных платформ\n",
    "    top_5_platforms = data.groupby('platform')[column].sum().sort_values(ascending=False).head()\n",
    "    #выведем график\n",
    "    display(top_5_platforms.plot(autopct='%1.1f%%', kind='pie', title='Доля продаж по платформам', legend=False, figsize=(7, 7)).set(ylabel=''))\n",
    "    #создадим сводную таблицу с данными по соотношению рейтинга игры и продаж        \n",
    "    sales_per_rating = data.pivot_table(index='rating', values=column, aggfunc=['sum', 'count'])\n",
    "    sales_per_rating.columns = ['Продажи, $ млн.', 'Количество игр, шт.']\n",
    "    sales_per_rating.reset_index(inplace=True)\n",
    "    sales_per_rating.sort_values(by='Продажи, $ млн.', inplace=True)\n",
    "    #выведем график\n",
    "    x = sales_per_rating['rating']\n",
    "    y1 = sales_per_rating['Продажи, $ млн.']\n",
    "    y2 = sales_per_rating['Количество игр, шт.']\n",
    "\n",
    "    fig, ax1 = plt.subplots(1,1,figsize=(15,5), dpi= 80)\n",
    "    ax1.plot(x, y1, color='tab:red')\n",
    "\n",
    "    ax2 = ax1.twinx()\n",
    "    ax2.plot(x, y2, color='tab:blue')\n",
    "#выведем график о продажах\n",
    "    ax1.set_xlabel('Рейтинг ESRB', fontsize=20)\n",
    "    ax1.tick_params(axis='x', rotation=0, labelsize=12)\n",
    "    ax1.set_ylabel('Продажи, $ млн.', color='tab:red', fontsize=20)\n",
    "    ax1.tick_params(axis='y', rotation=0, labelcolor='tab:red' )\n",
    "    ax1.grid(alpha=.4)\n",
    "#выведем график о количестве игр\n",
    "    ax2.set_ylabel('Количество игр, шт.', color='tab:blue', fontsize=20)\n",
    "    ax2.tick_params(axis='y', labelcolor='tab:blue')\n",
    "    ax2.set_title('Влияние рейтинга ESRB на продажи', fontsize=22)\n",
    "\n",
    "    plt.show()\n",
    "    \n",
    "    top_5_genres = data.groupby('genre')[column].sum().sort_values(ascending=False).head()\n",
    "    \n",
    "    top_5_genres.plot(autopct='%1.1f%%', kind='pie', title='Доля продаж по жанрам', legend=False, figsize=(7, 7)).set(ylabel='')\n",
    "    return\n"
   ]
  },
  {
   "cell_type": "markdown",
   "metadata": {},
   "source": [
    "Теперь по очереди применим функцию к выборкам данных по разным регионам. Начнем с NA:"
   ]
  },
  {
   "cell_type": "code",
   "execution_count": 35,
   "metadata": {},
   "outputs": [
    {
     "data": {
      "text/plain": [
       "[Text(0, 0.5, '')]"
      ]
     },
     "metadata": {},
     "output_type": "display_data"
    },
    {
     "data": {
      "image/png": "[encoded data removed]",
      "text/plain": [
       "<Figure size 504x504 with 1 Axes>"
      ]
     },
     "metadata": {},
     "output_type": "display_data"
    },
    {
     "data": {
      "image/png": "[encoded data removed]",
      "text/plain": [
       "<Figure size 1200x400 with 2 Axes>"
      ]
     },
     "metadata": {
      "needs_background": "light"
     },
     "output_type": "display_data"
    },
    {
     "data": {
      "text/plain": [
       "None"
      ]
     },
     "metadata": {},
     "output_type": "display_data"
    },
    {
     "data": {
      "image/png": "[encoded data removed]",
      "text/plain": [
       "<Figure size 504x504 with 1 Axes>"
      ]
     },
     "metadata": {},
     "output_type": "display_data"
    }
   ],
   "source": [
    "region_na = (data.query('year_of_release >= @release_after & na_sales != 0 ').loc[:, ['name', 'platform', 'year_of_release', 'genre', 'na_sales', 'rating']])\n",
    "region_na['rating'] = region_na['rating'].fillna('without_rating')\n",
    "display(top_5(region_na, 'na_sales'))"
   ]
  },
  {
   "cell_type": "markdown",
   "metadata": {},
   "source": [
    "1) Ключевая платформа- X360\n",
    "2) Ключевые жанры- Action и Shooter\n",
    "3) Самый высокий по продажам рейтинг- M"
   ]
  },
  {
   "cell_type": "markdown",
   "metadata": {},
   "source": [
    "Повторим для региона EU:"
   ]
  },
  {
   "cell_type": "code",
   "execution_count": 36,
   "metadata": {},
   "outputs": [
    {
     "data": {
      "text/plain": [
       "[Text(0, 0.5, '')]"
      ]
     },
     "metadata": {},
     "output_type": "display_data"
    },
    {
     "data": {
      "image/png": "[encoded data removed]",
      "text/plain": [
       "<Figure size 504x504 with 1 Axes>"
      ]
     },
     "metadata": {},
     "output_type": "display_data"
    },
    {
     "data": {
      "image/png": "[encoded data removed]",
      "text/plain": [
       "<Figure size 1200x400 with 2 Axes>"
      ]
     },
     "metadata": {
      "needs_background": "light"
     },
     "output_type": "display_data"
    },
    {
     "data": {
      "text/plain": [
       "None"
      ]
     },
     "metadata": {},
     "output_type": "display_data"
    },
    {
     "data": {
      "image/png": "[encoded data removed]",
      "text/plain": [
       "<Figure size 504x504 with 1 Axes>"
      ]
     },
     "metadata": {},
     "output_type": "display_data"
    }
   ],
   "source": [
    "region_eu = (data.query('year_of_release >= @release_after & eu_sales != 0 ').loc[:, ['name', 'platform', 'year_of_release', 'genre', 'eu_sales', 'rating']])\n",
    "region_eu['rating'] = region_eu['rating'].fillna('without_rating')\n",
    "display(top_5(region_eu, 'eu_sales'))"
   ]
  },
  {
   "cell_type": "markdown",
   "metadata": {},
   "source": [
    "1) Ключевые платформы- PS3 и PS4\n",
    "2) Ключевой жанр- Action и Shooter\n",
    "3) Самые высокие продажи у игр с рейтингом M"
   ]
  },
  {
   "cell_type": "markdown",
   "metadata": {},
   "source": [
    "Повторим для региона JP"
   ]
  },
  {
   "cell_type": "code",
   "execution_count": 37,
   "metadata": {},
   "outputs": [
    {
     "data": {
      "text/plain": [
       "[Text(0, 0.5, '')]"
      ]
     },
     "metadata": {},
     "output_type": "display_data"
    },
    {
     "data": {
      "image/png": "[encoded data removed]",
      "text/plain": [
       "<Figure size 504x504 with 1 Axes>"
      ]
     },
     "metadata": {},
     "output_type": "display_data"
    },
    {
     "data": {
      "image/png": "[encoded data removed]",
      "text/plain": [
       "<Figure size 1200x400 with 2 Axes>"
      ]
     },
     "metadata": {
      "needs_background": "light"
     },
     "output_type": "display_data"
    },
    {
     "data": {
      "text/plain": [
       "None"
      ]
     },
     "metadata": {},
     "output_type": "display_data"
    },
    {
     "data": {
      "image/png": "[encoded data removed]",
      "text/plain": [
       "<Figure size 504x504 with 1 Axes>"
      ]
     },
     "metadata": {},
     "output_type": "display_data"
    }
   ],
   "source": [
    "region_jp = (data.query('year_of_release >= @release_after & jp_sales != 0 ').loc[:, ['name', 'platform', 'year_of_release', 'genre', 'jp_sales', 'rating']])\n",
    "region_jp['rating'] = region_jp['rating'].fillna('without_rating')\n",
    "display(top_5(region_jp, 'jp_sales'))"
   ]
  },
  {
   "cell_type": "markdown",
   "metadata": {},
   "source": [
    "1) Ключевая платформа- 3DS\n",
    "2) Ключевые жанры- Role-Playing и Action\n",
    "3) По количеству игр самый популярный рейтинг- M и T, по продажам- E"
   ]
  },
  {
   "cell_type": "markdown",
   "metadata": {},
   "source": [
    "Выводы:\n",
    "\n",
    "1) Жанр Action популярен во всех регионах. В EU и NA также популярен Shooter, однако в Японии ситуация совсем другая, там RPG и Action захватили почти 80% рынка.\n",
    "\n",
    "2) Во всех регионах популярностью пользуются разные платформы. В Японии вырывается вперед 3DS, малопопулярный в других регионах.\n",
    "\n",
    "3) В EU и NA популярны игры со взрослым рейтингом M. В Японии более популярен детский рейтинг E."
   ]
  },
  {
   "cell_type": "markdown",
   "metadata": {},
   "source": [
    "# Проверка гипотез"
   ]
  },
  {
   "cell_type": "markdown",
   "metadata": {},
   "source": [
    "Гипотеза 1: Средние пользовательские рейтинги платформ Xbox One и PC одинаковые"
   ]
  },
  {
   "cell_type": "markdown",
   "metadata": {},
   "source": [
    "Сформулируем нулевую гипотезу: средние рейтинги игр на двух платформах равны. Альтернативная гипотеза: средние рейтинги игр на двух платформах различаются. Проверим гипотезу:"
   ]
  },
  {
   "cell_type": "code",
   "execution_count": 38,
   "metadata": {},
   "outputs": [
    {
     "data": {
      "text/plain": [
       "'p-значение:'"
      ]
     },
     "metadata": {},
     "output_type": "display_data"
    },
    {
     "data": {
      "text/plain": [
       "0.6267602271422398"
      ]
     },
     "metadata": {},
     "output_type": "display_data"
    },
    {
     "data": {
      "text/plain": [
       "'Не получилось отвергнуть нулевую гипотезу'"
      ]
     },
     "metadata": {},
     "output_type": "display_data"
    }
   ],
   "source": [
    "xone_user_rating = data.query('year_of_release >= 2011 and platform == \"XOne\"')['user_score'].dropna()\n",
    "pc_user_rating = data.query('year_of_release >= 2011 and platform == \"PC\"')['user_score'].dropna()\n",
    "\n",
    "alpha = .05 # критический уровень статистической значимости, если p-value окажется меньше него - отвергнем гипотезу\n",
    "\n",
    "results = st.ttest_ind(xone_user_rating, pc_user_rating, equal_var = True)\n",
    "\n",
    "display('p-значение:', results.pvalue)\n",
    "\n",
    "if (results.pvalue < alpha):\n",
    "    display(\"Отвергаем нулевую гипотезу\")\n",
    "else:\n",
    "    display(\"Не получилось отвергнуть нулевую гипотезу\")"
   ]
  },
  {
   "cell_type": "markdown",
   "metadata": {},
   "source": [
    "Не получилось отвергнуть нулевую гипотезу, что говорит в пользу утверждения: средние пользовательские рейтинги игр на PC и XOne равны."
   ]
  },
  {
   "cell_type": "markdown",
   "metadata": {},
   "source": [
    "Гипотеза 2: Средние пользовательские рейтинги жанров Action и Sports разные."
   ]
  },
  {
   "cell_type": "markdown",
   "metadata": {},
   "source": [
    "Сформулируем нулевую гипотезу: средние рейтинги игр двух жанров равны. Алтернативная гипотеза: средние рейтинги игр двух жанорв различаются."
   ]
  },
  {
   "cell_type": "code",
   "execution_count": 39,
   "metadata": {},
   "outputs": [
    {
     "data": {
      "text/plain": [
       "'p-значение:'"
      ]
     },
     "metadata": {},
     "output_type": "display_data"
    },
    {
     "data": {
      "text/plain": [
       "5.1974550252152054e-24"
      ]
     },
     "metadata": {},
     "output_type": "display_data"
    },
    {
     "data": {
      "text/plain": [
       "'Отвергаем нулевую гипотезу'"
      ]
     },
     "metadata": {},
     "output_type": "display_data"
    }
   ],
   "source": [
    "action_user_rating = data.query('year_of_release >= 2011 and genre == \"Action\"')['user_score'].dropna()\n",
    "sports_user_rating = data.query('year_of_release >= 2011 and genre == \"Sports\"')['user_score'].dropna()\n",
    "alpha = .05 # критический уровень статистической значимости, если p-value окажется меньше него - отвергнем гипотезу\n",
    "\n",
    "results = st.ttest_ind(action_user_rating, sports_user_rating, equal_var = True)\n",
    "\n",
    "display('p-значение:', results.pvalue)\n",
    "\n",
    "if (results.pvalue < alpha):\n",
    "    display(\"Отвергаем нулевую гипотезу\")\n",
    "else:\n",
    "    display(\"Не получилось отвергнуть нулевую гипотезу\")"
   ]
  },
  {
   "cell_type": "markdown",
   "metadata": {},
   "source": [
    "Нулевая гипотеза отвергнута, что говорит в пользу утверждения: средние пользовательские рейтинги жанров Action и Sports- разные."
   ]
  },
  {
   "cell_type": "markdown",
   "metadata": {},
   "source": [
    "Вывод:\n",
    "1) Первая гипотеза, насколько мы можем судить, верна: на разных платформах рейтинги схожи.\n",
    "2) Вторая гипотеза также верна: рейтинги отличаются."
   ]
  },
  {
   "cell_type": "markdown",
   "metadata": {},
   "source": [
    "# Выводы"
   ]
  },
  {
   "cell_type": "markdown",
   "metadata": {},
   "source": [
    "1) Платформа достигает пика популярности на 4-5 год жизни. Спад происходит не сразу, поэтому платформу можно считать актуальной и на 6-й год жизни.\n",
    "\n",
    "2) Есть только две платформы, набирающие популярность- PS4 и XOne, причем PS4 заметно популярнее.\n",
    "\n",
    "3) Потенциально прибыльные платформы PS4, XOne, 3DS, PS3, WiiU, X360, PC, PSV\n",
    "\n",
    "4) Отзывы критиков немного влияют на продажи. Отзывы игроков на продажи не влияют.\n",
    "\n",
    "5) Самые высокие продажи в жанрах Action, Shooter, Role-Playing, Sports, низкие в Pazzle, Strategy, Adventure, Simulation\n",
    "\n",
    "6) Различия между разными регионами очень значительны. Различаются и предпочтения по платформам, и предпочтения по жанрам, и возраст аудитории.\n",
    "\n",
    "7) Лучше всего выпускать мультиплатформенные игры. Однако, можно предположить, что есть исключения. Например, в Японии крайне популярна платформа 3DS. Следовательно, выпуская игру жанра RPG, с детским рейтингом, что имеет сильно меньшую популярность в других регионах, мы можем ограничиться только этой одной платформой.\n",
    "\n",
    "8) Проверка гипотез показала, что они скорее всего, верны."
   ]
  },
  {
   "cell_type": "code",
   "execution_count": null,
   "metadata": {},
   "outputs": [],
   "source": []
  }
 ],
 "metadata": {
  "ExecuteTimeLog": [
   {
    "duration": 649,
    "start_time": "2022-06-06T07:39:25.996Z"
   },
   {
    "duration": 17,
    "start_time": "2022-06-06T07:59:47.402Z"
   },
   {
    "duration": 42,
    "start_time": "2022-06-06T08:04:26.543Z"
   },
   {
    "duration": 22,
    "start_time": "2022-06-06T08:07:41.161Z"
   },
   {
    "duration": 17,
    "start_time": "2022-06-06T08:07:57.150Z"
   },
   {
    "duration": 25,
    "start_time": "2022-06-06T08:09:29.771Z"
   },
   {
    "duration": 22,
    "start_time": "2022-06-06T08:10:11.367Z"
   },
   {
    "duration": 86,
    "start_time": "2022-06-06T08:10:26.382Z"
   },
   {
    "duration": 17,
    "start_time": "2022-06-06T08:10:40.026Z"
   },
   {
    "duration": 547,
    "start_time": "2022-06-06T11:44:14.056Z"
   },
   {
    "duration": 2,
    "start_time": "2022-06-06T11:44:14.605Z"
   },
   {
    "duration": 20,
    "start_time": "2022-06-06T11:44:27.122Z"
   },
   {
    "duration": 63,
    "start_time": "2022-06-08T10:38:04.983Z"
   },
   {
    "duration": 547,
    "start_time": "2022-06-08T10:38:07.564Z"
   },
   {
    "duration": 5,
    "start_time": "2022-06-08T10:38:12.055Z"
   },
   {
    "duration": 15,
    "start_time": "2022-06-08T10:38:16.257Z"
   },
   {
    "duration": 15,
    "start_time": "2022-06-08T10:41:43.876Z"
   },
   {
    "duration": 15,
    "start_time": "2022-06-08T10:41:53.612Z"
   },
   {
    "duration": 18,
    "start_time": "2022-06-08T10:42:32.942Z"
   },
   {
    "duration": 525,
    "start_time": "2022-07-12T13:34:55.308Z"
   },
   {
    "duration": 3,
    "start_time": "2022-07-12T13:36:23.492Z"
   },
   {
    "duration": 16,
    "start_time": "2022-07-12T13:37:53.563Z"
   },
   {
    "duration": 30,
    "start_time": "2022-07-12T13:42:48.075Z"
   },
   {
    "duration": 409,
    "start_time": "2022-07-12T13:43:41.082Z"
   },
   {
    "duration": 2,
    "start_time": "2022-07-12T13:43:41.493Z"
   },
   {
    "duration": 10,
    "start_time": "2022-07-12T13:43:41.497Z"
   },
   {
    "duration": 29,
    "start_time": "2022-07-12T13:43:41.509Z"
   },
   {
    "duration": 1873,
    "start_time": "2022-07-13T10:01:46.655Z"
   },
   {
    "duration": 15,
    "start_time": "2022-07-13T10:02:23.880Z"
   },
   {
    "duration": 18,
    "start_time": "2022-07-13T10:04:22.074Z"
   },
   {
    "duration": 18,
    "start_time": "2022-07-13T10:06:03.858Z"
   },
   {
    "duration": 16,
    "start_time": "2022-07-13T10:06:17.173Z"
   },
   {
    "duration": 8,
    "start_time": "2022-07-13T10:08:51.562Z"
   },
   {
    "duration": 115,
    "start_time": "2022-07-13T10:10:34.239Z"
   },
   {
    "duration": 15,
    "start_time": "2022-07-13T10:10:55.747Z"
   },
   {
    "duration": 22,
    "start_time": "2022-07-13T10:13:24.541Z"
   },
   {
    "duration": 167,
    "start_time": "2022-07-13T10:13:53.294Z"
   },
   {
    "duration": 31,
    "start_time": "2022-07-13T10:16:59.944Z"
   },
   {
    "duration": 34,
    "start_time": "2022-07-13T10:22:37.282Z"
   },
   {
    "duration": 24,
    "start_time": "2022-07-13T10:26:52.605Z"
   },
   {
    "duration": 70,
    "start_time": "2022-07-13T10:30:53.471Z"
   },
   {
    "duration": 16,
    "start_time": "2022-07-13T10:32:22.893Z"
   },
   {
    "duration": 26,
    "start_time": "2022-07-13T10:41:36.241Z"
   },
   {
    "duration": 17,
    "start_time": "2022-07-13T10:42:19.000Z"
   },
   {
    "duration": 34,
    "start_time": "2022-07-13T10:43:04.049Z"
   },
   {
    "duration": 22,
    "start_time": "2022-07-13T10:51:59.480Z"
   },
   {
    "duration": 19,
    "start_time": "2022-07-13T10:52:13.951Z"
   },
   {
    "duration": 4,
    "start_time": "2022-07-13T11:08:02.515Z"
   },
   {
    "duration": 25,
    "start_time": "2022-07-13T11:08:09.710Z"
   },
   {
    "duration": 24,
    "start_time": "2022-07-13T11:09:44.857Z"
   },
   {
    "duration": 14,
    "start_time": "2022-07-13T11:09:54.273Z"
   },
   {
    "duration": 10,
    "start_time": "2022-07-13T11:10:00.997Z"
   },
   {
    "duration": 29,
    "start_time": "2022-07-13T11:10:26.713Z"
   },
   {
    "duration": 1453,
    "start_time": "2022-07-13T11:29:11.922Z"
   },
   {
    "duration": 22,
    "start_time": "2022-07-13T11:29:13.378Z"
   },
   {
    "duration": 39,
    "start_time": "2022-07-13T11:29:13.403Z"
   },
   {
    "duration": 46,
    "start_time": "2022-07-13T11:29:13.445Z"
   },
   {
    "duration": 42,
    "start_time": "2022-07-13T11:29:13.493Z"
   },
   {
    "duration": 32,
    "start_time": "2022-07-13T11:29:13.541Z"
   },
   {
    "duration": 25,
    "start_time": "2022-07-13T11:29:13.575Z"
   },
   {
    "duration": 23,
    "start_time": "2022-07-13T11:29:13.601Z"
   },
   {
    "duration": 59,
    "start_time": "2022-07-13T11:29:13.628Z"
   },
   {
    "duration": 5,
    "start_time": "2022-07-13T11:29:13.689Z"
   },
   {
    "duration": 38,
    "start_time": "2022-07-13T11:29:13.696Z"
   },
   {
    "duration": 25,
    "start_time": "2022-07-13T11:29:13.735Z"
   },
   {
    "duration": 38,
    "start_time": "2022-07-13T11:32:50.321Z"
   },
   {
    "duration": 36,
    "start_time": "2022-07-13T11:36:31.761Z"
   },
   {
    "duration": 16,
    "start_time": "2022-07-13T11:36:47.182Z"
   },
   {
    "duration": 78,
    "start_time": "2022-07-13T11:39:21.810Z"
   },
   {
    "duration": 360,
    "start_time": "2022-07-13T11:39:32.379Z"
   },
   {
    "duration": 218,
    "start_time": "2022-07-13T11:39:48.348Z"
   },
   {
    "duration": 19,
    "start_time": "2022-07-13T11:42:54.560Z"
   },
   {
    "duration": 146,
    "start_time": "2022-07-13T11:43:03.656Z"
   },
   {
    "duration": 306,
    "start_time": "2022-07-13T11:44:06.284Z"
   },
   {
    "duration": 270,
    "start_time": "2022-07-13T11:44:51.296Z"
   },
   {
    "duration": 226,
    "start_time": "2022-07-13T11:45:16.964Z"
   },
   {
    "duration": 228,
    "start_time": "2022-07-13T11:45:26.951Z"
   },
   {
    "duration": 222,
    "start_time": "2022-07-13T11:45:36.753Z"
   },
   {
    "duration": 230,
    "start_time": "2022-07-13T11:46:43.459Z"
   },
   {
    "duration": 329,
    "start_time": "2022-07-13T11:47:02.362Z"
   },
   {
    "duration": 205,
    "start_time": "2022-07-13T11:50:32.352Z"
   },
   {
    "duration": 201,
    "start_time": "2022-07-13T11:50:45.468Z"
   },
   {
    "duration": 40,
    "start_time": "2022-07-14T12:02:13.003Z"
   },
   {
    "duration": 1458,
    "start_time": "2022-07-14T12:02:30.818Z"
   },
   {
    "duration": 12,
    "start_time": "2022-07-14T12:02:32.278Z"
   },
   {
    "duration": 18,
    "start_time": "2022-07-14T12:02:32.291Z"
   },
   {
    "duration": 10,
    "start_time": "2022-07-14T12:02:32.311Z"
   },
   {
    "duration": 21,
    "start_time": "2022-07-14T12:02:32.323Z"
   },
   {
    "duration": 17,
    "start_time": "2022-07-14T12:02:32.346Z"
   },
   {
    "duration": 16,
    "start_time": "2022-07-14T12:02:32.365Z"
   },
   {
    "duration": 8,
    "start_time": "2022-07-14T12:02:32.402Z"
   },
   {
    "duration": 17,
    "start_time": "2022-07-14T12:02:32.412Z"
   },
   {
    "duration": 4,
    "start_time": "2022-07-14T12:02:32.432Z"
   },
   {
    "duration": 23,
    "start_time": "2022-07-14T12:02:32.437Z"
   },
   {
    "duration": 41,
    "start_time": "2022-07-14T12:02:32.461Z"
   },
   {
    "duration": 21,
    "start_time": "2022-07-14T12:02:32.503Z"
   },
   {
    "duration": 12,
    "start_time": "2022-07-14T12:02:32.525Z"
   },
   {
    "duration": 210,
    "start_time": "2022-07-14T12:02:32.538Z"
   },
   {
    "duration": 165,
    "start_time": "2022-07-14T12:02:32.749Z"
   },
   {
    "duration": 10,
    "start_time": "2022-07-14T12:02:32.916Z"
   },
   {
    "duration": 10,
    "start_time": "2022-07-14T12:02:41.571Z"
   },
   {
    "duration": 11,
    "start_time": "2022-07-14T12:03:00.266Z"
   },
   {
    "duration": 9,
    "start_time": "2022-07-14T12:04:21.886Z"
   },
   {
    "duration": 13,
    "start_time": "2022-07-14T12:05:18.378Z"
   },
   {
    "duration": 1322,
    "start_time": "2022-07-14T15:22:04.028Z"
   },
   {
    "duration": 12,
    "start_time": "2022-07-14T15:22:05.352Z"
   },
   {
    "duration": 21,
    "start_time": "2022-07-14T15:22:05.365Z"
   },
   {
    "duration": 12,
    "start_time": "2022-07-14T15:22:05.388Z"
   },
   {
    "duration": 21,
    "start_time": "2022-07-14T15:22:05.402Z"
   },
   {
    "duration": 36,
    "start_time": "2022-07-14T15:22:05.424Z"
   },
   {
    "duration": 19,
    "start_time": "2022-07-14T15:22:05.462Z"
   },
   {
    "duration": 9,
    "start_time": "2022-07-14T15:22:05.483Z"
   },
   {
    "duration": 19,
    "start_time": "2022-07-14T15:22:05.494Z"
   },
   {
    "duration": 3,
    "start_time": "2022-07-14T15:22:05.515Z"
   },
   {
    "duration": 53,
    "start_time": "2022-07-14T15:22:05.520Z"
   },
   {
    "duration": 14,
    "start_time": "2022-07-14T15:22:05.575Z"
   },
   {
    "duration": 21,
    "start_time": "2022-07-14T15:22:05.590Z"
   },
   {
    "duration": 13,
    "start_time": "2022-07-14T15:22:05.613Z"
   },
   {
    "duration": 227,
    "start_time": "2022-07-14T15:22:05.627Z"
   },
   {
    "duration": 171,
    "start_time": "2022-07-14T15:22:05.855Z"
   },
   {
    "duration": 13,
    "start_time": "2022-07-14T15:22:06.028Z"
   },
   {
    "duration": 15,
    "start_time": "2022-07-14T15:22:10.320Z"
   },
   {
    "duration": 12,
    "start_time": "2022-07-14T15:22:26.361Z"
   },
   {
    "duration": 50,
    "start_time": "2022-07-14T15:23:31.098Z"
   },
   {
    "duration": 7,
    "start_time": "2022-07-14T15:25:49.719Z"
   },
   {
    "duration": 1395,
    "start_time": "2022-07-16T14:06:14.018Z"
   },
   {
    "duration": 14,
    "start_time": "2022-07-16T14:06:15.415Z"
   },
   {
    "duration": 22,
    "start_time": "2022-07-16T14:06:15.430Z"
   },
   {
    "duration": 19,
    "start_time": "2022-07-16T14:06:15.453Z"
   },
   {
    "duration": 34,
    "start_time": "2022-07-16T14:06:15.474Z"
   },
   {
    "duration": 20,
    "start_time": "2022-07-16T14:06:15.509Z"
   },
   {
    "duration": 19,
    "start_time": "2022-07-16T14:06:15.530Z"
   },
   {
    "duration": 11,
    "start_time": "2022-07-16T14:06:15.551Z"
   },
   {
    "duration": 51,
    "start_time": "2022-07-16T14:06:15.564Z"
   },
   {
    "duration": 4,
    "start_time": "2022-07-16T14:06:15.617Z"
   },
   {
    "duration": 33,
    "start_time": "2022-07-16T14:06:15.623Z"
   },
   {
    "duration": 14,
    "start_time": "2022-07-16T14:06:15.658Z"
   },
   {
    "duration": 41,
    "start_time": "2022-07-16T14:06:15.673Z"
   },
   {
    "duration": 12,
    "start_time": "2022-07-16T14:06:15.716Z"
   },
   {
    "duration": 218,
    "start_time": "2022-07-16T14:06:15.730Z"
   },
   {
    "duration": 180,
    "start_time": "2022-07-16T14:06:15.950Z"
   },
   {
    "duration": 50,
    "start_time": "2022-07-16T14:06:16.131Z"
   },
   {
    "duration": 8,
    "start_time": "2022-07-16T14:06:16.183Z"
   },
   {
    "duration": 8,
    "start_time": "2022-07-16T14:07:13.376Z"
   },
   {
    "duration": 1189,
    "start_time": "2022-07-16T14:35:55.056Z"
   },
   {
    "duration": 15,
    "start_time": "2022-07-16T14:35:56.247Z"
   },
   {
    "duration": 17,
    "start_time": "2022-07-16T14:35:56.263Z"
   },
   {
    "duration": 29,
    "start_time": "2022-07-16T14:35:56.282Z"
   },
   {
    "duration": 22,
    "start_time": "2022-07-16T14:35:56.313Z"
   },
   {
    "duration": 20,
    "start_time": "2022-07-16T14:35:56.336Z"
   },
   {
    "duration": 21,
    "start_time": "2022-07-16T14:35:56.358Z"
   },
   {
    "duration": 34,
    "start_time": "2022-07-16T14:35:56.381Z"
   },
   {
    "duration": 18,
    "start_time": "2022-07-16T14:35:56.417Z"
   },
   {
    "duration": 3,
    "start_time": "2022-07-16T14:35:56.436Z"
   },
   {
    "duration": 26,
    "start_time": "2022-07-16T14:35:56.441Z"
   },
   {
    "duration": 13,
    "start_time": "2022-07-16T14:35:56.469Z"
   },
   {
    "duration": 22,
    "start_time": "2022-07-16T14:35:56.510Z"
   },
   {
    "duration": 14,
    "start_time": "2022-07-16T14:35:56.534Z"
   },
   {
    "duration": 227,
    "start_time": "2022-07-16T14:35:56.549Z"
   },
   {
    "duration": 185,
    "start_time": "2022-07-16T14:35:56.778Z"
   },
   {
    "duration": 63,
    "start_time": "2022-07-16T14:35:56.964Z"
   },
   {
    "duration": 8,
    "start_time": "2022-07-16T14:35:57.028Z"
   },
   {
    "duration": 438,
    "start_time": "2022-07-16T14:44:56.238Z"
   },
   {
    "duration": 42,
    "start_time": "2022-07-16T14:51:31.275Z"
   },
   {
    "duration": 29,
    "start_time": "2022-07-16T14:52:15.258Z"
   },
   {
    "duration": 28,
    "start_time": "2022-07-16T14:52:51.343Z"
   },
   {
    "duration": 327,
    "start_time": "2022-07-16T14:56:43.052Z"
   },
   {
    "duration": 357,
    "start_time": "2022-07-16T15:02:21.135Z"
   },
   {
    "duration": 103,
    "start_time": "2022-07-16T15:05:14.255Z"
   },
   {
    "duration": 14,
    "start_time": "2022-07-16T15:05:27.815Z"
   },
   {
    "duration": 13,
    "start_time": "2022-07-16T15:08:10.107Z"
   },
   {
    "duration": 6,
    "start_time": "2022-07-16T15:08:23.863Z"
   },
   {
    "duration": 5,
    "start_time": "2022-07-16T15:08:33.694Z"
   },
   {
    "duration": 32,
    "start_time": "2022-07-16T15:11:50.709Z"
   },
   {
    "duration": 33,
    "start_time": "2022-07-16T15:12:06.472Z"
   },
   {
    "duration": 242,
    "start_time": "2022-07-16T15:16:12.022Z"
   },
   {
    "duration": 32,
    "start_time": "2022-07-16T15:18:46.556Z"
   },
   {
    "duration": 18,
    "start_time": "2022-07-16T15:24:47.892Z"
   },
   {
    "duration": 9,
    "start_time": "2022-07-16T15:27:38.567Z"
   },
   {
    "duration": 19,
    "start_time": "2022-07-16T15:28:34.865Z"
   },
   {
    "duration": 845,
    "start_time": "2022-07-16T15:28:57.351Z"
   },
   {
    "duration": 191,
    "start_time": "2022-07-16T15:36:26.577Z"
   },
   {
    "duration": 198,
    "start_time": "2022-07-16T15:36:44.687Z"
   },
   {
    "duration": 194,
    "start_time": "2022-07-16T15:38:34.322Z"
   },
   {
    "duration": 205,
    "start_time": "2022-07-16T15:38:52.774Z"
   },
   {
    "duration": 36,
    "start_time": "2022-07-16T15:41:05.875Z"
   },
   {
    "duration": 1392,
    "start_time": "2022-07-17T00:05:45.221Z"
   },
   {
    "duration": 13,
    "start_time": "2022-07-17T00:05:46.615Z"
   },
   {
    "duration": 20,
    "start_time": "2022-07-17T00:05:46.629Z"
   },
   {
    "duration": 12,
    "start_time": "2022-07-17T00:05:46.651Z"
   },
   {
    "duration": 50,
    "start_time": "2022-07-17T00:05:46.665Z"
   },
   {
    "duration": 19,
    "start_time": "2022-07-17T00:05:46.717Z"
   },
   {
    "duration": 27,
    "start_time": "2022-07-17T00:05:46.738Z"
   },
   {
    "duration": 10,
    "start_time": "2022-07-17T00:05:46.767Z"
   },
   {
    "duration": 34,
    "start_time": "2022-07-17T00:05:46.778Z"
   },
   {
    "duration": 3,
    "start_time": "2022-07-17T00:05:46.816Z"
   },
   {
    "duration": 25,
    "start_time": "2022-07-17T00:05:46.821Z"
   },
   {
    "duration": 13,
    "start_time": "2022-07-17T00:05:46.847Z"
   },
   {
    "duration": 21,
    "start_time": "2022-07-17T00:05:46.861Z"
   },
   {
    "duration": 35,
    "start_time": "2022-07-17T00:05:46.883Z"
   },
   {
    "duration": 219,
    "start_time": "2022-07-17T00:05:46.920Z"
   },
   {
    "duration": 193,
    "start_time": "2022-07-17T00:05:47.141Z"
   },
   {
    "duration": 52,
    "start_time": "2022-07-17T00:05:47.336Z"
   },
   {
    "duration": 8,
    "start_time": "2022-07-17T00:05:47.390Z"
   },
   {
    "duration": 479,
    "start_time": "2022-07-17T00:05:47.409Z"
   },
   {
    "duration": 29,
    "start_time": "2022-07-17T00:05:47.890Z"
   },
   {
    "duration": 364,
    "start_time": "2022-07-17T00:05:47.921Z"
   },
   {
    "duration": 23,
    "start_time": "2022-07-17T00:05:48.287Z"
   },
   {
    "duration": 5,
    "start_time": "2022-07-17T00:05:48.312Z"
   },
   {
    "duration": 35,
    "start_time": "2022-07-17T00:05:48.318Z"
   },
   {
    "duration": 248,
    "start_time": "2022-07-17T00:05:48.355Z"
   },
   {
    "duration": 35,
    "start_time": "2022-07-17T00:05:48.604Z"
   },
   {
    "duration": 14,
    "start_time": "2022-07-17T00:05:48.641Z"
   },
   {
    "duration": 893,
    "start_time": "2022-07-17T00:05:48.658Z"
   },
   {
    "duration": 201,
    "start_time": "2022-07-17T00:05:49.553Z"
   },
   {
    "duration": 22,
    "start_time": "2022-07-17T00:05:49.756Z"
   },
   {
    "duration": 1389,
    "start_time": "2022-07-18T01:11:56.811Z"
   },
   {
    "duration": 12,
    "start_time": "2022-07-18T01:11:58.202Z"
   },
   {
    "duration": 17,
    "start_time": "2022-07-18T01:11:58.216Z"
   },
   {
    "duration": 13,
    "start_time": "2022-07-18T01:11:58.235Z"
   },
   {
    "duration": 20,
    "start_time": "2022-07-18T01:11:58.251Z"
   },
   {
    "duration": 20,
    "start_time": "2022-07-18T01:11:58.273Z"
   },
   {
    "duration": 20,
    "start_time": "2022-07-18T01:11:58.294Z"
   },
   {
    "duration": 36,
    "start_time": "2022-07-18T01:11:58.315Z"
   },
   {
    "duration": 19,
    "start_time": "2022-07-18T01:11:58.353Z"
   },
   {
    "duration": 3,
    "start_time": "2022-07-18T01:11:58.373Z"
   },
   {
    "duration": 23,
    "start_time": "2022-07-18T01:11:58.378Z"
   },
   {
    "duration": 47,
    "start_time": "2022-07-18T01:11:58.403Z"
   },
   {
    "duration": 21,
    "start_time": "2022-07-18T01:11:58.451Z"
   },
   {
    "duration": 12,
    "start_time": "2022-07-18T01:11:58.474Z"
   },
   {
    "duration": 207,
    "start_time": "2022-07-18T01:11:58.488Z"
   },
   {
    "duration": 174,
    "start_time": "2022-07-18T01:11:58.696Z"
   },
   {
    "duration": 61,
    "start_time": "2022-07-18T01:11:58.872Z"
   },
   {
    "duration": 10,
    "start_time": "2022-07-18T01:11:58.945Z"
   },
   {
    "duration": 391,
    "start_time": "2022-07-18T01:11:58.957Z"
   },
   {
    "duration": 26,
    "start_time": "2022-07-18T01:11:59.350Z"
   },
   {
    "duration": 336,
    "start_time": "2022-07-18T01:11:59.377Z"
   },
   {
    "duration": 14,
    "start_time": "2022-07-18T01:11:59.715Z"
   },
   {
    "duration": 16,
    "start_time": "2022-07-18T01:11:59.731Z"
   },
   {
    "duration": 30,
    "start_time": "2022-07-18T01:11:59.749Z"
   },
   {
    "duration": 230,
    "start_time": "2022-07-18T01:11:59.780Z"
   },
   {
    "duration": 35,
    "start_time": "2022-07-18T01:12:00.011Z"
   },
   {
    "duration": 14,
    "start_time": "2022-07-18T01:12:00.048Z"
   },
   {
    "duration": 836,
    "start_time": "2022-07-18T01:12:00.063Z"
   },
   {
    "duration": 187,
    "start_time": "2022-07-18T01:12:00.901Z"
   },
   {
    "duration": 21,
    "start_time": "2022-07-18T01:12:01.090Z"
   },
   {
    "duration": 101,
    "start_time": "2022-07-18T01:19:08.280Z"
   },
   {
    "duration": 49,
    "start_time": "2022-07-18T01:21:07.845Z"
   },
   {
    "duration": 191,
    "start_time": "2022-07-18T01:21:45.785Z"
   },
   {
    "duration": 358,
    "start_time": "2022-07-18T01:22:03.114Z"
   },
   {
    "duration": 377,
    "start_time": "2022-07-18T01:22:55.205Z"
   },
   {
    "duration": 457,
    "start_time": "2022-07-18T01:24:44.835Z"
   },
   {
    "duration": 420,
    "start_time": "2022-07-18T01:26:14.626Z"
   },
   {
    "duration": 8,
    "start_time": "2022-07-18T01:32:12.401Z"
   },
   {
    "duration": 414,
    "start_time": "2022-07-18T01:34:00.502Z"
   },
   {
    "duration": 404,
    "start_time": "2022-07-18T01:34:27.764Z"
   },
   {
    "duration": 510,
    "start_time": "2022-07-18T01:40:18.236Z"
   },
   {
    "duration": 392,
    "start_time": "2022-07-18T01:43:25.283Z"
   },
   {
    "duration": 16,
    "start_time": "2022-07-18T01:59:54.489Z"
   },
   {
    "duration": 63,
    "start_time": "2022-07-18T02:00:51.120Z"
   },
   {
    "duration": 1210,
    "start_time": "2022-07-18T02:01:00.433Z"
   },
   {
    "duration": 14,
    "start_time": "2022-07-18T02:01:01.645Z"
   },
   {
    "duration": 45,
    "start_time": "2022-07-18T02:01:01.660Z"
   },
   {
    "duration": 18,
    "start_time": "2022-07-18T02:01:01.707Z"
   },
   {
    "duration": 44,
    "start_time": "2022-07-18T02:01:01.727Z"
   },
   {
    "duration": 34,
    "start_time": "2022-07-18T02:01:01.773Z"
   },
   {
    "duration": 43,
    "start_time": "2022-07-18T02:01:01.808Z"
   },
   {
    "duration": 21,
    "start_time": "2022-07-18T02:01:01.853Z"
   },
   {
    "duration": 43,
    "start_time": "2022-07-18T02:01:01.875Z"
   },
   {
    "duration": 4,
    "start_time": "2022-07-18T02:01:01.919Z"
   },
   {
    "duration": 55,
    "start_time": "2022-07-18T02:01:01.924Z"
   },
   {
    "duration": 30,
    "start_time": "2022-07-18T02:01:01.981Z"
   },
   {
    "duration": 24,
    "start_time": "2022-07-18T02:01:02.013Z"
   },
   {
    "duration": 29,
    "start_time": "2022-07-18T02:01:02.040Z"
   },
   {
    "duration": 214,
    "start_time": "2022-07-18T02:01:02.072Z"
   },
   {
    "duration": 167,
    "start_time": "2022-07-18T02:01:02.288Z"
   },
   {
    "duration": 49,
    "start_time": "2022-07-18T02:01:02.457Z"
   },
   {
    "duration": 22,
    "start_time": "2022-07-18T02:01:02.508Z"
   },
   {
    "duration": 424,
    "start_time": "2022-07-18T02:01:02.532Z"
   },
   {
    "duration": 26,
    "start_time": "2022-07-18T02:01:02.958Z"
   },
   {
    "duration": 339,
    "start_time": "2022-07-18T02:01:02.985Z"
   },
   {
    "duration": 21,
    "start_time": "2022-07-18T02:01:03.325Z"
   },
   {
    "duration": 5,
    "start_time": "2022-07-18T02:01:03.348Z"
   },
   {
    "duration": 46,
    "start_time": "2022-07-18T02:01:03.354Z"
   },
   {
    "duration": 235,
    "start_time": "2022-07-18T02:01:03.401Z"
   },
   {
    "duration": 36,
    "start_time": "2022-07-18T02:01:03.638Z"
   },
   {
    "duration": 14,
    "start_time": "2022-07-18T02:01:03.675Z"
   },
   {
    "duration": 868,
    "start_time": "2022-07-18T02:01:03.691Z"
   },
   {
    "duration": 188,
    "start_time": "2022-07-18T02:01:04.561Z"
   },
   {
    "duration": 23,
    "start_time": "2022-07-18T02:01:04.750Z"
   },
   {
    "duration": 8,
    "start_time": "2022-07-18T02:01:04.774Z"
   },
   {
    "duration": 424,
    "start_time": "2022-07-18T02:01:04.784Z"
   },
   {
    "duration": 418,
    "start_time": "2022-07-18T02:01:05.210Z"
   },
   {
    "duration": 512,
    "start_time": "2022-07-18T02:01:05.630Z"
   },
   {
    "duration": 12,
    "start_time": "2022-07-18T02:01:06.145Z"
   },
   {
    "duration": 13,
    "start_time": "2022-07-18T02:06:56.257Z"
   },
   {
    "duration": 45,
    "start_time": "2022-07-18T11:14:02.549Z"
   },
   {
    "duration": 1507,
    "start_time": "2022-07-18T11:14:05.031Z"
   },
   {
    "duration": 13,
    "start_time": "2022-07-18T11:14:06.540Z"
   },
   {
    "duration": 18,
    "start_time": "2022-07-18T11:14:06.554Z"
   },
   {
    "duration": 17,
    "start_time": "2022-07-18T11:14:06.575Z"
   },
   {
    "duration": 21,
    "start_time": "2022-07-18T11:14:06.593Z"
   },
   {
    "duration": 46,
    "start_time": "2022-07-18T11:14:06.616Z"
   },
   {
    "duration": 16,
    "start_time": "2022-07-18T11:14:06.664Z"
   },
   {
    "duration": 10,
    "start_time": "2022-07-18T11:14:06.682Z"
   },
   {
    "duration": 20,
    "start_time": "2022-07-18T11:14:06.693Z"
   },
   {
    "duration": 37,
    "start_time": "2022-07-18T11:14:06.716Z"
   },
   {
    "duration": 3,
    "start_time": "2022-07-18T11:14:06.755Z"
   },
   {
    "duration": 25,
    "start_time": "2022-07-18T11:14:06.759Z"
   },
   {
    "duration": 15,
    "start_time": "2022-07-18T11:14:06.786Z"
   },
   {
    "duration": 54,
    "start_time": "2022-07-18T11:14:06.803Z"
   },
   {
    "duration": 19,
    "start_time": "2022-07-18T11:14:06.859Z"
   },
   {
    "duration": 214,
    "start_time": "2022-07-18T11:14:06.880Z"
   },
   {
    "duration": 164,
    "start_time": "2022-07-18T11:14:07.095Z"
   },
   {
    "duration": 49,
    "start_time": "2022-07-18T11:14:07.260Z"
   },
   {
    "duration": 8,
    "start_time": "2022-07-18T11:14:07.310Z"
   },
   {
    "duration": 423,
    "start_time": "2022-07-18T11:14:07.319Z"
   },
   {
    "duration": 27,
    "start_time": "2022-07-18T11:14:07.744Z"
   },
   {
    "duration": 348,
    "start_time": "2022-07-18T11:14:07.773Z"
   },
   {
    "duration": 15,
    "start_time": "2022-07-18T11:14:08.122Z"
   },
   {
    "duration": 4,
    "start_time": "2022-07-18T11:14:08.153Z"
   },
   {
    "duration": 32,
    "start_time": "2022-07-18T11:14:08.159Z"
   },
   {
    "duration": 259,
    "start_time": "2022-07-18T11:14:08.192Z"
   },
   {
    "duration": 32,
    "start_time": "2022-07-18T11:14:08.453Z"
   },
   {
    "duration": 16,
    "start_time": "2022-07-18T11:14:08.489Z"
   },
   {
    "duration": 942,
    "start_time": "2022-07-18T11:14:08.507Z"
   },
   {
    "duration": 193,
    "start_time": "2022-07-18T11:14:09.452Z"
   },
   {
    "duration": 25,
    "start_time": "2022-07-18T11:14:09.646Z"
   },
   {
    "duration": 7,
    "start_time": "2022-07-18T11:14:09.672Z"
   },
   {
    "duration": 445,
    "start_time": "2022-07-18T11:14:09.681Z"
   },
   {
    "duration": 417,
    "start_time": "2022-07-18T11:14:10.128Z"
   },
   {
    "duration": 506,
    "start_time": "2022-07-18T11:14:10.551Z"
   },
   {
    "duration": 14,
    "start_time": "2022-07-18T11:14:11.059Z"
   },
   {
    "duration": 14,
    "start_time": "2022-07-18T11:14:11.075Z"
   },
   {
    "duration": 6,
    "start_time": "2022-07-18T11:14:17.398Z"
   },
   {
    "duration": 43,
    "start_time": "2022-07-18T11:31:15.461Z"
   },
   {
    "duration": 1360,
    "start_time": "2022-07-24T03:44:39.443Z"
   },
   {
    "duration": 20,
    "start_time": "2022-07-24T03:44:40.805Z"
   },
   {
    "duration": 21,
    "start_time": "2022-07-24T03:44:40.827Z"
   },
   {
    "duration": 12,
    "start_time": "2022-07-24T03:44:40.850Z"
   },
   {
    "duration": 22,
    "start_time": "2022-07-24T03:44:40.864Z"
   },
   {
    "duration": 43,
    "start_time": "2022-07-24T03:44:40.888Z"
   },
   {
    "duration": 18,
    "start_time": "2022-07-24T03:44:40.933Z"
   },
   {
    "duration": 12,
    "start_time": "2022-07-24T03:44:40.953Z"
   },
   {
    "duration": 54,
    "start_time": "2022-07-24T03:44:40.967Z"
   },
   {
    "duration": 4,
    "start_time": "2022-07-24T03:44:41.026Z"
   },
   {
    "duration": 28,
    "start_time": "2022-07-24T03:44:41.032Z"
   },
   {
    "duration": 14,
    "start_time": "2022-07-24T03:44:41.062Z"
   },
   {
    "duration": 49,
    "start_time": "2022-07-24T03:44:41.077Z"
   },
   {
    "duration": 13,
    "start_time": "2022-07-24T03:44:41.128Z"
   },
   {
    "duration": 228,
    "start_time": "2022-07-24T03:44:41.143Z"
   },
   {
    "duration": 234,
    "start_time": "2022-07-24T03:44:41.372Z"
   },
   {
    "duration": 57,
    "start_time": "2022-07-24T03:44:41.608Z"
   },
   {
    "duration": 7,
    "start_time": "2022-07-24T03:44:41.668Z"
   },
   {
    "duration": 443,
    "start_time": "2022-07-24T03:44:41.677Z"
   },
   {
    "duration": 29,
    "start_time": "2022-07-24T03:44:42.122Z"
   },
   {
    "duration": 2,
    "start_time": "2022-07-24T03:44:42.153Z"
   },
   {
    "duration": 127,
    "start_time": "2022-07-24T03:44:42.157Z"
   },
   {
    "duration": 0,
    "start_time": "2022-07-24T03:44:42.287Z"
   },
   {
    "duration": 0,
    "start_time": "2022-07-24T03:44:42.288Z"
   },
   {
    "duration": 0,
    "start_time": "2022-07-24T03:44:42.289Z"
   },
   {
    "duration": 0,
    "start_time": "2022-07-24T03:44:42.290Z"
   },
   {
    "duration": 0,
    "start_time": "2022-07-24T03:44:42.291Z"
   },
   {
    "duration": 0,
    "start_time": "2022-07-24T03:44:42.292Z"
   },
   {
    "duration": 0,
    "start_time": "2022-07-24T03:44:42.293Z"
   },
   {
    "duration": 0,
    "start_time": "2022-07-24T03:44:42.309Z"
   },
   {
    "duration": 0,
    "start_time": "2022-07-24T03:44:42.310Z"
   },
   {
    "duration": 0,
    "start_time": "2022-07-24T03:44:42.311Z"
   },
   {
    "duration": 0,
    "start_time": "2022-07-24T03:44:42.312Z"
   },
   {
    "duration": 0,
    "start_time": "2022-07-24T03:44:42.313Z"
   },
   {
    "duration": 0,
    "start_time": "2022-07-24T03:44:42.314Z"
   },
   {
    "duration": 0,
    "start_time": "2022-07-24T03:44:42.315Z"
   },
   {
    "duration": 0,
    "start_time": "2022-07-24T03:44:42.316Z"
   },
   {
    "duration": 0,
    "start_time": "2022-07-24T03:44:42.317Z"
   },
   {
    "duration": 0,
    "start_time": "2022-07-24T03:44:42.318Z"
   },
   {
    "duration": 4,
    "start_time": "2022-07-24T03:45:20.469Z"
   },
   {
    "duration": 31,
    "start_time": "2022-07-24T03:45:23.515Z"
   },
   {
    "duration": 3,
    "start_time": "2022-07-24T03:45:48.316Z"
   },
   {
    "duration": 31,
    "start_time": "2022-07-24T03:45:50.170Z"
   },
   {
    "duration": 3,
    "start_time": "2022-07-24T03:47:06.211Z"
   },
   {
    "duration": 45,
    "start_time": "2022-07-24T03:47:08.351Z"
   },
   {
    "duration": 4,
    "start_time": "2022-07-24T03:47:26.311Z"
   },
   {
    "duration": 29,
    "start_time": "2022-07-24T03:48:03.236Z"
   },
   {
    "duration": 31,
    "start_time": "2022-07-24T03:48:15.002Z"
   },
   {
    "duration": 318,
    "start_time": "2022-07-24T03:48:31.940Z"
   },
   {
    "duration": 304,
    "start_time": "2022-07-24T03:48:59.448Z"
   },
   {
    "duration": 342,
    "start_time": "2022-07-24T03:49:48.423Z"
   },
   {
    "duration": 1177,
    "start_time": "2022-07-24T03:51:12.652Z"
   },
   {
    "duration": 20,
    "start_time": "2022-07-24T03:51:13.831Z"
   },
   {
    "duration": 34,
    "start_time": "2022-07-24T03:51:13.853Z"
   },
   {
    "duration": 34,
    "start_time": "2022-07-24T03:51:13.889Z"
   },
   {
    "duration": 49,
    "start_time": "2022-07-24T03:51:13.926Z"
   },
   {
    "duration": 36,
    "start_time": "2022-07-24T03:51:13.978Z"
   },
   {
    "duration": 42,
    "start_time": "2022-07-24T03:51:14.017Z"
   },
   {
    "duration": 11,
    "start_time": "2022-07-24T03:51:14.061Z"
   },
   {
    "duration": 47,
    "start_time": "2022-07-24T03:51:14.074Z"
   },
   {
    "duration": 10,
    "start_time": "2022-07-24T03:51:14.124Z"
   },
   {
    "duration": 35,
    "start_time": "2022-07-24T03:51:14.136Z"
   },
   {
    "duration": 31,
    "start_time": "2022-07-24T03:51:14.172Z"
   },
   {
    "duration": 23,
    "start_time": "2022-07-24T03:51:14.205Z"
   },
   {
    "duration": 17,
    "start_time": "2022-07-24T03:51:14.231Z"
   },
   {
    "duration": 219,
    "start_time": "2022-07-24T03:51:14.250Z"
   },
   {
    "duration": 188,
    "start_time": "2022-07-24T03:51:14.471Z"
   },
   {
    "duration": 63,
    "start_time": "2022-07-24T03:51:14.661Z"
   },
   {
    "duration": 10,
    "start_time": "2022-07-24T03:51:14.725Z"
   },
   {
    "duration": 482,
    "start_time": "2022-07-24T03:51:14.738Z"
   },
   {
    "duration": 27,
    "start_time": "2022-07-24T03:51:15.222Z"
   },
   {
    "duration": 4,
    "start_time": "2022-07-24T03:51:15.250Z"
   },
   {
    "duration": 332,
    "start_time": "2022-07-24T03:51:15.255Z"
   },
   {
    "duration": 27,
    "start_time": "2022-07-24T03:51:15.589Z"
   },
   {
    "duration": 5,
    "start_time": "2022-07-24T03:51:15.618Z"
   },
   {
    "duration": 39,
    "start_time": "2022-07-24T03:51:15.625Z"
   },
   {
    "duration": 254,
    "start_time": "2022-07-24T03:51:15.665Z"
   },
   {
    "duration": 33,
    "start_time": "2022-07-24T03:51:15.921Z"
   },
   {
    "duration": 139,
    "start_time": "2022-07-24T03:51:15.957Z"
   },
   {
    "duration": 0,
    "start_time": "2022-07-24T03:51:16.097Z"
   },
   {
    "duration": 0,
    "start_time": "2022-07-24T03:51:16.099Z"
   },
   {
    "duration": 0,
    "start_time": "2022-07-24T03:51:16.110Z"
   },
   {
    "duration": 0,
    "start_time": "2022-07-24T03:51:16.115Z"
   },
   {
    "duration": 0,
    "start_time": "2022-07-24T03:51:16.117Z"
   },
   {
    "duration": 0,
    "start_time": "2022-07-24T03:51:16.118Z"
   },
   {
    "duration": 0,
    "start_time": "2022-07-24T03:51:16.119Z"
   },
   {
    "duration": 0,
    "start_time": "2022-07-24T03:51:16.120Z"
   },
   {
    "duration": 0,
    "start_time": "2022-07-24T03:51:16.123Z"
   },
   {
    "duration": 0,
    "start_time": "2022-07-24T03:51:16.124Z"
   },
   {
    "duration": 0,
    "start_time": "2022-07-24T03:51:16.125Z"
   },
   {
    "duration": 15,
    "start_time": "2022-07-24T03:51:29.865Z"
   },
   {
    "duration": 48,
    "start_time": "2022-07-24T03:51:39.668Z"
   },
   {
    "duration": 890,
    "start_time": "2022-07-24T03:51:55.786Z"
   },
   {
    "duration": 15,
    "start_time": "2022-07-24T03:52:20.871Z"
   },
   {
    "duration": 21,
    "start_time": "2022-07-24T03:52:51.595Z"
   },
   {
    "duration": 17,
    "start_time": "2022-07-24T03:53:42.893Z"
   },
   {
    "duration": 220,
    "start_time": "2022-07-24T03:53:58.712Z"
   },
   {
    "duration": 187,
    "start_time": "2022-07-24T03:54:46.256Z"
   },
   {
    "duration": 129,
    "start_time": "2022-07-24T03:56:00.022Z"
   },
   {
    "duration": 43,
    "start_time": "2022-07-24T03:56:18.222Z"
   },
   {
    "duration": 40,
    "start_time": "2022-07-24T03:56:21.582Z"
   },
   {
    "duration": 32,
    "start_time": "2022-07-24T03:57:37.057Z"
   },
   {
    "duration": 29,
    "start_time": "2022-07-24T03:58:03.149Z"
   },
   {
    "duration": 28,
    "start_time": "2022-07-24T03:58:55.030Z"
   },
   {
    "duration": 8,
    "start_time": "2022-07-24T04:01:07.487Z"
   },
   {
    "duration": 448,
    "start_time": "2022-07-24T04:01:44.380Z"
   },
   {
    "duration": 607,
    "start_time": "2022-07-24T04:02:11.313Z"
   },
   {
    "duration": 535,
    "start_time": "2022-07-24T04:03:13.061Z"
   },
   {
    "duration": 433,
    "start_time": "2022-07-24T04:03:18.806Z"
   },
   {
    "duration": 1539,
    "start_time": "2022-07-25T04:29:35.367Z"
   },
   {
    "duration": 14,
    "start_time": "2022-07-25T04:29:36.909Z"
   },
   {
    "duration": 40,
    "start_time": "2022-07-25T04:29:36.925Z"
   },
   {
    "duration": 14,
    "start_time": "2022-07-25T04:29:36.967Z"
   },
   {
    "duration": 27,
    "start_time": "2022-07-25T04:29:36.984Z"
   },
   {
    "duration": 32,
    "start_time": "2022-07-25T04:29:37.013Z"
   },
   {
    "duration": 24,
    "start_time": "2022-07-25T04:29:37.047Z"
   },
   {
    "duration": 10,
    "start_time": "2022-07-25T04:29:37.074Z"
   },
   {
    "duration": 56,
    "start_time": "2022-07-25T04:29:37.086Z"
   },
   {
    "duration": 4,
    "start_time": "2022-07-25T04:29:37.144Z"
   },
   {
    "duration": 26,
    "start_time": "2022-07-25T04:29:37.149Z"
   },
   {
    "duration": 14,
    "start_time": "2022-07-25T04:29:37.177Z"
   },
   {
    "duration": 57,
    "start_time": "2022-07-25T04:29:37.192Z"
   },
   {
    "duration": 16,
    "start_time": "2022-07-25T04:29:37.252Z"
   },
   {
    "duration": 274,
    "start_time": "2022-07-25T04:29:37.270Z"
   },
   {
    "duration": 195,
    "start_time": "2022-07-25T04:29:37.546Z"
   },
   {
    "duration": 51,
    "start_time": "2022-07-25T04:29:37.743Z"
   },
   {
    "duration": 8,
    "start_time": "2022-07-25T04:29:37.795Z"
   },
   {
    "duration": 493,
    "start_time": "2022-07-25T04:29:37.805Z"
   },
   {
    "duration": 442,
    "start_time": "2022-07-25T04:29:38.300Z"
   },
   {
    "duration": 43,
    "start_time": "2022-07-25T04:29:38.744Z"
   },
   {
    "duration": 5,
    "start_time": "2022-07-25T04:29:38.789Z"
   },
   {
    "duration": 414,
    "start_time": "2022-07-25T04:29:38.796Z"
   },
   {
    "duration": 24,
    "start_time": "2022-07-25T04:29:39.214Z"
   },
   {
    "duration": 10,
    "start_time": "2022-07-25T04:29:39.241Z"
   },
   {
    "duration": 34,
    "start_time": "2022-07-25T04:29:39.253Z"
   },
   {
    "duration": 287,
    "start_time": "2022-07-25T04:29:39.289Z"
   },
   {
    "duration": 49,
    "start_time": "2022-07-25T04:29:39.578Z"
   },
   {
    "duration": 20,
    "start_time": "2022-07-25T04:29:39.629Z"
   },
   {
    "duration": 1023,
    "start_time": "2022-07-25T04:29:39.651Z"
   },
   {
    "duration": 222,
    "start_time": "2022-07-25T04:29:40.676Z"
   },
   {
    "duration": 57,
    "start_time": "2022-07-25T04:29:40.899Z"
   },
   {
    "duration": 29,
    "start_time": "2022-07-25T04:29:40.958Z"
   },
   {
    "duration": 9,
    "start_time": "2022-07-25T04:29:40.988Z"
   },
   {
    "duration": 545,
    "start_time": "2022-07-25T04:29:40.998Z"
   },
   {
    "duration": 636,
    "start_time": "2022-07-25T04:29:41.545Z"
   },
   {
    "duration": 489,
    "start_time": "2022-07-25T04:29:42.183Z"
   },
   {
    "duration": 16,
    "start_time": "2022-07-25T04:29:42.674Z"
   },
   {
    "duration": 41,
    "start_time": "2022-07-25T04:29:42.692Z"
   }
  ],
  "kernelspec": {
   "display_name": "Python 3 (ipykernel)",
   "language": "python",
   "name": "python3"
  },
  "language_info": {
   "codemirror_mode": {
    "name": "ipython",
    "version": 3
   },
   "file_extension": ".py",
   "mimetype": "text/x-python",
   "name": "python",
   "nbconvert_exporter": "python",
   "pygments_lexer": "ipython3",
   "version": "3.9.5"
  },
  "toc": {
   "base_numbering": 1,
   "nav_menu": {},
   "number_sections": true,
   "sideBar": true,
   "skip_h1_title": true,
   "title_cell": "Table of Contents",
   "title_sidebar": "Contents",
   "toc_cell": false,
   "toc_position": {},
   "toc_section_display": true,
   "toc_window_display": false
  }
 },
 "nbformat": 4,
 "nbformat_minor": 2
}
