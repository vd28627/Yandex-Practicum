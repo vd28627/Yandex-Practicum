{
 "cells": [
  {
   "cell_type": "markdown",
   "metadata": {},
   "source": [
    "## Подготовка данных"
   ]
  },
  {
   "cell_type": "markdown",
   "metadata": {},
   "source": [
    "Импортируем библиотеки"
   ]
  },
  {
   "cell_type": "code",
   "execution_count": 1,
   "metadata": {},
   "outputs": [],
   "source": [
    "import pandas as pd\n",
    "import matplotlib.pyplot as plt\n",
    "import numpy as np\n",
    "import seaborn as sns\n",
    "import warnings\n",
    "import lightgbm as lgb\n",
    "\n",
    "warnings.filterwarnings('ignore')\n",
    "from catboost import CatBoostRegressor\n",
    "from pandas.api.types import CategoricalDtype\n",
    "from sklearn.dummy import DummyRegressor\n",
    "from sklearn.ensemble import RandomForestRegressor\n",
    "from sklearn.linear_model import SGDRegressor \n",
    "from sklearn.metrics import mean_squared_error as mse\n",
    "from sklearn.metrics import mean_absolute_error, make_scorer\n",
    "from sklearn.model_selection import train_test_split, cross_val_score, GridSearchCV\n",
    "from sklearn.preprocessing import StandardScaler, OrdinalEncoder"
   ]
  },
  {
   "cell_type": "markdown",
   "metadata": {},
   "source": [
    "Загрузим данные"
   ]
  },
  {
   "cell_type": "code",
   "execution_count": 2,
   "metadata": {},
   "outputs": [
    {
     "data": {
      "text/html": [
       "<div>\n",
       "<style scoped>\n",
       "    .dataframe tbody tr th:only-of-type {\n",
       "        vertical-align: middle;\n",
       "    }\n",
       "\n",
       "    .dataframe tbody tr th {\n",
       "        vertical-align: top;\n",
       "    }\n",
       "\n",
       "    .dataframe thead th {\n",
       "        text-align: right;\n",
       "    }\n",
       "</style>\n",
       "<table border=\"1\" class=\"dataframe\">\n",
       "  <thead>\n",
       "    <tr style=\"text-align: right;\">\n",
       "      <th></th>\n",
       "      <th>DateCrawled</th>\n",
       "      <th>Price</th>\n",
       "      <th>VehicleType</th>\n",
       "      <th>RegistrationYear</th>\n",
       "      <th>Gearbox</th>\n",
       "      <th>Power</th>\n",
       "      <th>Model</th>\n",
       "      <th>Kilometer</th>\n",
       "      <th>RegistrationMonth</th>\n",
       "      <th>FuelType</th>\n",
       "      <th>Brand</th>\n",
       "      <th>Repaired</th>\n",
       "      <th>DateCreated</th>\n",
       "      <th>NumberOfPictures</th>\n",
       "      <th>PostalCode</th>\n",
       "      <th>LastSeen</th>\n",
       "    </tr>\n",
       "  </thead>\n",
       "  <tbody>\n",
       "    <tr>\n",
       "      <th>0</th>\n",
       "      <td>2016-03-24 11:52:17</td>\n",
       "      <td>480</td>\n",
       "      <td>NaN</td>\n",
       "      <td>1993</td>\n",
       "      <td>manual</td>\n",
       "      <td>0</td>\n",
       "      <td>golf</td>\n",
       "      <td>150000</td>\n",
       "      <td>0</td>\n",
       "      <td>petrol</td>\n",
       "      <td>volkswagen</td>\n",
       "      <td>NaN</td>\n",
       "      <td>2016-03-24 00:00:00</td>\n",
       "      <td>0</td>\n",
       "      <td>70435</td>\n",
       "      <td>2016-04-07 03:16:57</td>\n",
       "    </tr>\n",
       "    <tr>\n",
       "      <th>1</th>\n",
       "      <td>2016-03-24 10:58:45</td>\n",
       "      <td>18300</td>\n",
       "      <td>coupe</td>\n",
       "      <td>2011</td>\n",
       "      <td>manual</td>\n",
       "      <td>190</td>\n",
       "      <td>NaN</td>\n",
       "      <td>125000</td>\n",
       "      <td>5</td>\n",
       "      <td>gasoline</td>\n",
       "      <td>audi</td>\n",
       "      <td>yes</td>\n",
       "      <td>2016-03-24 00:00:00</td>\n",
       "      <td>0</td>\n",
       "      <td>66954</td>\n",
       "      <td>2016-04-07 01:46:50</td>\n",
       "    </tr>\n",
       "    <tr>\n",
       "      <th>2</th>\n",
       "      <td>2016-03-14 12:52:21</td>\n",
       "      <td>9800</td>\n",
       "      <td>suv</td>\n",
       "      <td>2004</td>\n",
       "      <td>auto</td>\n",
       "      <td>163</td>\n",
       "      <td>grand</td>\n",
       "      <td>125000</td>\n",
       "      <td>8</td>\n",
       "      <td>gasoline</td>\n",
       "      <td>jeep</td>\n",
       "      <td>NaN</td>\n",
       "      <td>2016-03-14 00:00:00</td>\n",
       "      <td>0</td>\n",
       "      <td>90480</td>\n",
       "      <td>2016-04-05 12:47:46</td>\n",
       "    </tr>\n",
       "    <tr>\n",
       "      <th>3</th>\n",
       "      <td>2016-03-17 16:54:04</td>\n",
       "      <td>1500</td>\n",
       "      <td>small</td>\n",
       "      <td>2001</td>\n",
       "      <td>manual</td>\n",
       "      <td>75</td>\n",
       "      <td>golf</td>\n",
       "      <td>150000</td>\n",
       "      <td>6</td>\n",
       "      <td>petrol</td>\n",
       "      <td>volkswagen</td>\n",
       "      <td>no</td>\n",
       "      <td>2016-03-17 00:00:00</td>\n",
       "      <td>0</td>\n",
       "      <td>91074</td>\n",
       "      <td>2016-03-17 17:40:17</td>\n",
       "    </tr>\n",
       "    <tr>\n",
       "      <th>4</th>\n",
       "      <td>2016-03-31 17:25:20</td>\n",
       "      <td>3600</td>\n",
       "      <td>small</td>\n",
       "      <td>2008</td>\n",
       "      <td>manual</td>\n",
       "      <td>69</td>\n",
       "      <td>fabia</td>\n",
       "      <td>90000</td>\n",
       "      <td>7</td>\n",
       "      <td>gasoline</td>\n",
       "      <td>skoda</td>\n",
       "      <td>no</td>\n",
       "      <td>2016-03-31 00:00:00</td>\n",
       "      <td>0</td>\n",
       "      <td>60437</td>\n",
       "      <td>2016-04-06 10:17:21</td>\n",
       "    </tr>\n",
       "  </tbody>\n",
       "</table>\n",
       "</div>"
      ],
      "text/plain": [
       "           DateCrawled  Price VehicleType  RegistrationYear Gearbox  Power  \\\n",
       "0  2016-03-24 11:52:17    480         NaN              1993  manual      0   \n",
       "1  2016-03-24 10:58:45  18300       coupe              2011  manual    190   \n",
       "2  2016-03-14 12:52:21   9800         suv              2004    auto    163   \n",
       "3  2016-03-17 16:54:04   1500       small              2001  manual     75   \n",
       "4  2016-03-31 17:25:20   3600       small              2008  manual     69   \n",
       "\n",
       "   Model  Kilometer  RegistrationMonth  FuelType       Brand Repaired  \\\n",
       "0   golf     150000                  0    petrol  volkswagen      NaN   \n",
       "1    NaN     125000                  5  gasoline        audi      yes   \n",
       "2  grand     125000                  8  gasoline        jeep      NaN   \n",
       "3   golf     150000                  6    petrol  volkswagen       no   \n",
       "4  fabia      90000                  7  gasoline       skoda       no   \n",
       "\n",
       "           DateCreated  NumberOfPictures  PostalCode             LastSeen  \n",
       "0  2016-03-24 00:00:00                 0       70435  2016-04-07 03:16:57  \n",
       "1  2016-03-24 00:00:00                 0       66954  2016-04-07 01:46:50  \n",
       "2  2016-03-14 00:00:00                 0       90480  2016-04-05 12:47:46  \n",
       "3  2016-03-17 00:00:00                 0       91074  2016-03-17 17:40:17  \n",
       "4  2016-03-31 00:00:00                 0       60437  2016-04-06 10:17:21  "
      ]
     },
     "metadata": {},
     "output_type": "display_data"
    }
   ],
   "source": [
    "data = pd.read_csv('/datasets/autos.csv')\n",
    "display(data.head(5))"
   ]
  },
  {
   "cell_type": "markdown",
   "metadata": {},
   "source": [
    "Описание столбцов есть в условиях задачи:\n",
    "\n",
    "**Признаки:**\n",
    "\n",
    "DateCrawled — дата скачивания анкеты из базы\n",
    "\n",
    "VehicleType — тип автомобильного кузова\n",
    "\n",
    "RegistrationYear — год регистрации автомобиля\n",
    "\n",
    "Gearbox — тип коробки передач\n",
    "\n",
    "Power — мощность (л. с.)\n",
    "\n",
    "Model — модель автомобиля\n",
    "\n",
    "Kilometer — пробег (км)\n",
    "\n",
    "RegistrationMonth — месяц регистрации автомобиля\n",
    "\n",
    "FuelType — тип топлива\n",
    "\n",
    "Brand — марка автомобиля\n",
    "\n",
    "Repaired — была машина в ремонте или нет\n",
    "\n",
    "DateCreated — дата создания анкеты\n",
    "\n",
    "NumberOfPictures — количество фотографий автомобиля\n",
    "\n",
    "PostalCode — почтовый индекс владельца анкеты (пользователя)\n",
    "\n",
    "LastSeen — дата последней активности пользователя\n",
    "\n",
    "**Целевой признак:**\n",
    "\n",
    "Price — цена (евро)"
   ]
  },
  {
   "cell_type": "markdown",
   "metadata": {},
   "source": [
    "Посмотрим инфо:"
   ]
  },
  {
   "cell_type": "code",
   "execution_count": 3,
   "metadata": {},
   "outputs": [
    {
     "name": "stdout",
     "output_type": "stream",
     "text": [
      "<class 'pandas.core.frame.DataFrame'>\n",
      "RangeIndex: 354369 entries, 0 to 354368\n",
      "Data columns (total 16 columns):\n",
      " #   Column             Non-Null Count   Dtype \n",
      "---  ------             --------------   ----- \n",
      " 0   DateCrawled        354369 non-null  object\n",
      " 1   Price              354369 non-null  int64 \n",
      " 2   VehicleType        316879 non-null  object\n",
      " 3   RegistrationYear   354369 non-null  int64 \n",
      " 4   Gearbox            334536 non-null  object\n",
      " 5   Power              354369 non-null  int64 \n",
      " 6   Model              334664 non-null  object\n",
      " 7   Kilometer          354369 non-null  int64 \n",
      " 8   RegistrationMonth  354369 non-null  int64 \n",
      " 9   FuelType           321474 non-null  object\n",
      " 10  Brand              354369 non-null  object\n",
      " 11  Repaired           283215 non-null  object\n",
      " 12  DateCreated        354369 non-null  object\n",
      " 13  NumberOfPictures   354369 non-null  int64 \n",
      " 14  PostalCode         354369 non-null  int64 \n",
      " 15  LastSeen           354369 non-null  object\n",
      "dtypes: int64(7), object(9)\n",
      "memory usage: 43.3+ MB\n"
     ]
    }
   ],
   "source": [
    "data.info()"
   ]
  },
  {
   "cell_type": "markdown",
   "metadata": {},
   "source": [
    "В датафрейме точно есть пропуски. Однако, первым делом, попробуем разобраться, нет ли в нем лишних столбцов."
   ]
  },
  {
   "cell_type": "markdown",
   "metadata": {},
   "source": [
    "1) DateCrawled — дата скачивания анкеты из базы - такие данные точно не повлияют на цену автомобиля.\n",
    "\n",
    "2) LastSeen — дата последней активности пользователя - аналогично\n",
    "\n",
    "3) RegistrationMonth - также на цену никак повлиять не должен.\n",
    "\n",
    "4) PostalCode — почтовый индекс владельца анкеты (пользователя)- аналогично\n",
    "\n",
    "Удалим эти столбцы."
   ]
  },
  {
   "cell_type": "code",
   "execution_count": 4,
   "metadata": {},
   "outputs": [
    {
     "name": "stdout",
     "output_type": "stream",
     "text": [
      "<class 'pandas.core.frame.DataFrame'>\n",
      "RangeIndex: 354369 entries, 0 to 354368\n",
      "Data columns (total 12 columns):\n",
      " #   Column            Non-Null Count   Dtype \n",
      "---  ------            --------------   ----- \n",
      " 0   Price             354369 non-null  int64 \n",
      " 1   VehicleType       316879 non-null  object\n",
      " 2   RegistrationYear  354369 non-null  int64 \n",
      " 3   Gearbox           334536 non-null  object\n",
      " 4   Power             354369 non-null  int64 \n",
      " 5   Model             334664 non-null  object\n",
      " 6   Kilometer         354369 non-null  int64 \n",
      " 7   FuelType          321474 non-null  object\n",
      " 8   Brand             354369 non-null  object\n",
      " 9   Repaired          283215 non-null  object\n",
      " 10  DateCreated       354369 non-null  object\n",
      " 11  NumberOfPictures  354369 non-null  int64 \n",
      "dtypes: int64(5), object(7)\n",
      "memory usage: 32.4+ MB\n"
     ]
    }
   ],
   "source": [
    "data = data.drop(['DateCrawled','LastSeen', 'RegistrationMonth', 'PostalCode'], axis=1)\n",
    "data.info()"
   ]
  },
  {
   "cell_type": "markdown",
   "metadata": {},
   "source": [
    "Посмотрим на оставшиеся данные:"
   ]
  },
  {
   "cell_type": "code",
   "execution_count": 5,
   "metadata": {},
   "outputs": [
    {
     "data": {
      "text/html": [
       "<div>\n",
       "<style scoped>\n",
       "    .dataframe tbody tr th:only-of-type {\n",
       "        vertical-align: middle;\n",
       "    }\n",
       "\n",
       "    .dataframe tbody tr th {\n",
       "        vertical-align: top;\n",
       "    }\n",
       "\n",
       "    .dataframe thead th {\n",
       "        text-align: right;\n",
       "    }\n",
       "</style>\n",
       "<table border=\"1\" class=\"dataframe\">\n",
       "  <thead>\n",
       "    <tr style=\"text-align: right;\">\n",
       "      <th></th>\n",
       "      <th>Price</th>\n",
       "      <th>VehicleType</th>\n",
       "      <th>RegistrationYear</th>\n",
       "      <th>Gearbox</th>\n",
       "      <th>Power</th>\n",
       "      <th>Model</th>\n",
       "      <th>Kilometer</th>\n",
       "      <th>FuelType</th>\n",
       "      <th>Brand</th>\n",
       "      <th>Repaired</th>\n",
       "      <th>DateCreated</th>\n",
       "      <th>NumberOfPictures</th>\n",
       "    </tr>\n",
       "  </thead>\n",
       "  <tbody>\n",
       "    <tr>\n",
       "      <th>0</th>\n",
       "      <td>480</td>\n",
       "      <td>NaN</td>\n",
       "      <td>1993</td>\n",
       "      <td>manual</td>\n",
       "      <td>0</td>\n",
       "      <td>golf</td>\n",
       "      <td>150000</td>\n",
       "      <td>petrol</td>\n",
       "      <td>volkswagen</td>\n",
       "      <td>NaN</td>\n",
       "      <td>2016-03-24 00:00:00</td>\n",
       "      <td>0</td>\n",
       "    </tr>\n",
       "    <tr>\n",
       "      <th>1</th>\n",
       "      <td>18300</td>\n",
       "      <td>coupe</td>\n",
       "      <td>2011</td>\n",
       "      <td>manual</td>\n",
       "      <td>190</td>\n",
       "      <td>NaN</td>\n",
       "      <td>125000</td>\n",
       "      <td>gasoline</td>\n",
       "      <td>audi</td>\n",
       "      <td>yes</td>\n",
       "      <td>2016-03-24 00:00:00</td>\n",
       "      <td>0</td>\n",
       "    </tr>\n",
       "    <tr>\n",
       "      <th>2</th>\n",
       "      <td>9800</td>\n",
       "      <td>suv</td>\n",
       "      <td>2004</td>\n",
       "      <td>auto</td>\n",
       "      <td>163</td>\n",
       "      <td>grand</td>\n",
       "      <td>125000</td>\n",
       "      <td>gasoline</td>\n",
       "      <td>jeep</td>\n",
       "      <td>NaN</td>\n",
       "      <td>2016-03-14 00:00:00</td>\n",
       "      <td>0</td>\n",
       "    </tr>\n",
       "    <tr>\n",
       "      <th>3</th>\n",
       "      <td>1500</td>\n",
       "      <td>small</td>\n",
       "      <td>2001</td>\n",
       "      <td>manual</td>\n",
       "      <td>75</td>\n",
       "      <td>golf</td>\n",
       "      <td>150000</td>\n",
       "      <td>petrol</td>\n",
       "      <td>volkswagen</td>\n",
       "      <td>no</td>\n",
       "      <td>2016-03-17 00:00:00</td>\n",
       "      <td>0</td>\n",
       "    </tr>\n",
       "    <tr>\n",
       "      <th>4</th>\n",
       "      <td>3600</td>\n",
       "      <td>small</td>\n",
       "      <td>2008</td>\n",
       "      <td>manual</td>\n",
       "      <td>69</td>\n",
       "      <td>fabia</td>\n",
       "      <td>90000</td>\n",
       "      <td>gasoline</td>\n",
       "      <td>skoda</td>\n",
       "      <td>no</td>\n",
       "      <td>2016-03-31 00:00:00</td>\n",
       "      <td>0</td>\n",
       "    </tr>\n",
       "    <tr>\n",
       "      <th>5</th>\n",
       "      <td>650</td>\n",
       "      <td>sedan</td>\n",
       "      <td>1995</td>\n",
       "      <td>manual</td>\n",
       "      <td>102</td>\n",
       "      <td>3er</td>\n",
       "      <td>150000</td>\n",
       "      <td>petrol</td>\n",
       "      <td>bmw</td>\n",
       "      <td>yes</td>\n",
       "      <td>2016-04-04 00:00:00</td>\n",
       "      <td>0</td>\n",
       "    </tr>\n",
       "    <tr>\n",
       "      <th>6</th>\n",
       "      <td>2200</td>\n",
       "      <td>convertible</td>\n",
       "      <td>2004</td>\n",
       "      <td>manual</td>\n",
       "      <td>109</td>\n",
       "      <td>2_reihe</td>\n",
       "      <td>150000</td>\n",
       "      <td>petrol</td>\n",
       "      <td>peugeot</td>\n",
       "      <td>no</td>\n",
       "      <td>2016-04-01 00:00:00</td>\n",
       "      <td>0</td>\n",
       "    </tr>\n",
       "    <tr>\n",
       "      <th>7</th>\n",
       "      <td>0</td>\n",
       "      <td>sedan</td>\n",
       "      <td>1980</td>\n",
       "      <td>manual</td>\n",
       "      <td>50</td>\n",
       "      <td>other</td>\n",
       "      <td>40000</td>\n",
       "      <td>petrol</td>\n",
       "      <td>volkswagen</td>\n",
       "      <td>no</td>\n",
       "      <td>2016-03-21 00:00:00</td>\n",
       "      <td>0</td>\n",
       "    </tr>\n",
       "    <tr>\n",
       "      <th>8</th>\n",
       "      <td>14500</td>\n",
       "      <td>bus</td>\n",
       "      <td>2014</td>\n",
       "      <td>manual</td>\n",
       "      <td>125</td>\n",
       "      <td>c_max</td>\n",
       "      <td>30000</td>\n",
       "      <td>petrol</td>\n",
       "      <td>ford</td>\n",
       "      <td>NaN</td>\n",
       "      <td>2016-04-04 00:00:00</td>\n",
       "      <td>0</td>\n",
       "    </tr>\n",
       "    <tr>\n",
       "      <th>9</th>\n",
       "      <td>999</td>\n",
       "      <td>small</td>\n",
       "      <td>1998</td>\n",
       "      <td>manual</td>\n",
       "      <td>101</td>\n",
       "      <td>golf</td>\n",
       "      <td>150000</td>\n",
       "      <td>NaN</td>\n",
       "      <td>volkswagen</td>\n",
       "      <td>NaN</td>\n",
       "      <td>2016-03-17 00:00:00</td>\n",
       "      <td>0</td>\n",
       "    </tr>\n",
       "  </tbody>\n",
       "</table>\n",
       "</div>"
      ],
      "text/plain": [
       "   Price  VehicleType  RegistrationYear Gearbox  Power    Model  Kilometer  \\\n",
       "0    480          NaN              1993  manual      0     golf     150000   \n",
       "1  18300        coupe              2011  manual    190      NaN     125000   \n",
       "2   9800          suv              2004    auto    163    grand     125000   \n",
       "3   1500        small              2001  manual     75     golf     150000   \n",
       "4   3600        small              2008  manual     69    fabia      90000   \n",
       "5    650        sedan              1995  manual    102      3er     150000   \n",
       "6   2200  convertible              2004  manual    109  2_reihe     150000   \n",
       "7      0        sedan              1980  manual     50    other      40000   \n",
       "8  14500          bus              2014  manual    125    c_max      30000   \n",
       "9    999        small              1998  manual    101     golf     150000   \n",
       "\n",
       "   FuelType       Brand Repaired          DateCreated  NumberOfPictures  \n",
       "0    petrol  volkswagen      NaN  2016-03-24 00:00:00                 0  \n",
       "1  gasoline        audi      yes  2016-03-24 00:00:00                 0  \n",
       "2  gasoline        jeep      NaN  2016-03-14 00:00:00                 0  \n",
       "3    petrol  volkswagen       no  2016-03-17 00:00:00                 0  \n",
       "4  gasoline       skoda       no  2016-03-31 00:00:00                 0  \n",
       "5    petrol         bmw      yes  2016-04-04 00:00:00                 0  \n",
       "6    petrol     peugeot       no  2016-04-01 00:00:00                 0  \n",
       "7    petrol  volkswagen       no  2016-03-21 00:00:00                 0  \n",
       "8    petrol        ford      NaN  2016-04-04 00:00:00                 0  \n",
       "9       NaN  volkswagen      NaN  2016-03-17 00:00:00                 0  "
      ]
     },
     "metadata": {},
     "output_type": "display_data"
    }
   ],
   "source": [
    "display(data.head(10))"
   ]
  },
  {
   "cell_type": "markdown",
   "metadata": {},
   "source": [
    "Видим одни нули в столбце NumberOfPictures. Проверим, есть ли в этом столбце другие значения."
   ]
  },
  {
   "cell_type": "code",
   "execution_count": 6,
   "metadata": {},
   "outputs": [
    {
     "data": {
      "text/plain": [
       "array([0])"
      ]
     },
     "metadata": {},
     "output_type": "display_data"
    }
   ],
   "source": [
    "display(data['NumberOfPictures'].unique())"
   ]
  },
  {
   "cell_type": "markdown",
   "metadata": {},
   "source": [
    "В столбце одни нули. Возможно, эти данные в принципе не были занесены в исходный файл. Так или иначе, в таком виде столбец бесполезен, удалим и его."
   ]
  },
  {
   "cell_type": "code",
   "execution_count": 7,
   "metadata": {},
   "outputs": [
    {
     "name": "stdout",
     "output_type": "stream",
     "text": [
      "<class 'pandas.core.frame.DataFrame'>\n",
      "RangeIndex: 354369 entries, 0 to 354368\n",
      "Data columns (total 11 columns):\n",
      " #   Column            Non-Null Count   Dtype \n",
      "---  ------            --------------   ----- \n",
      " 0   Price             354369 non-null  int64 \n",
      " 1   VehicleType       316879 non-null  object\n",
      " 2   RegistrationYear  354369 non-null  int64 \n",
      " 3   Gearbox           334536 non-null  object\n",
      " 4   Power             354369 non-null  int64 \n",
      " 5   Model             334664 non-null  object\n",
      " 6   Kilometer         354369 non-null  int64 \n",
      " 7   FuelType          321474 non-null  object\n",
      " 8   Brand             354369 non-null  object\n",
      " 9   Repaired          283215 non-null  object\n",
      " 10  DateCreated       354369 non-null  object\n",
      "dtypes: int64(4), object(7)\n",
      "memory usage: 29.7+ MB\n"
     ]
    }
   ],
   "source": [
    "data = data.drop(['NumberOfPictures'], axis=1)\n",
    "data.info()"
   ]
  },
  {
   "cell_type": "markdown",
   "metadata": {},
   "source": [
    "Итак, у нас осталось 10 столбцов, и в них по-прежнему есть пропуски. Посчитаем, сколько есть пропусков, и в каких столбцах. Названия столбцов, в которых есть пропуски, соберем в переменную col_w_nan"
   ]
  },
  {
   "cell_type": "code",
   "execution_count": 8,
   "metadata": {},
   "outputs": [
    {
     "name": "stdout",
     "output_type": "stream",
     "text": [
      "В столбце VehicleType 37490 пропусков, что составляет 10.57936783409384 процентов\n",
      "В столбце Gearbox 19833 пропусков, что составляет 5.596708515699737 процентов\n",
      "В столбце Model 19705 пропусков, что составляет 5.560587974681758 процентов\n",
      "В столбце FuelType 32895 пропусков, что составляет 9.282696849893755 процентов\n",
      "В столбце Repaired 71154 пропусков, что составляет 20.079070121822166 процентов\n"
     ]
    }
   ],
   "source": [
    "col_w_nan = []\n",
    "for col in data.columns:\n",
    "    col_space = data[col].isna().sum()\n",
    "    if col_space > 0:\n",
    "        col_w_nan.append(col)\n",
    "        print('В столбце', col, col_space, 'пропусков, что составляет', col_space/data.shape[0]*100,'процентов')"
   ]
  },
  {
   "cell_type": "markdown",
   "metadata": {},
   "source": [
    "Как видим, в этих столбцах пропусков очень много, особенно- в столбце Repaired- каждое пятое значение пропущено. Изучим значения в каждом из этих столбцов, и подумаем, что с этим можно сделать."
   ]
  },
  {
   "cell_type": "markdown",
   "metadata": {},
   "source": [
    "Для начала, проверим, сколько в каждом из этих столбцов есть уникальных значений."
   ]
  },
  {
   "cell_type": "code",
   "execution_count": 9,
   "metadata": {},
   "outputs": [
    {
     "data": {
      "text/plain": [
       "array([nan, 'coupe', 'suv', 'small', 'sedan', 'convertible', 'bus',\n",
       "       'wagon', 'other'], dtype=object)"
      ]
     },
     "metadata": {},
     "output_type": "display_data"
    },
    {
     "data": {
      "text/plain": [
       "array(['manual', 'auto', nan], dtype=object)"
      ]
     },
     "metadata": {},
     "output_type": "display_data"
    },
    {
     "data": {
      "text/plain": [
       "array(['golf', nan, 'grand', 'fabia', '3er', '2_reihe', 'other', 'c_max',\n",
       "       '3_reihe', 'passat', 'navara', 'ka', 'polo', 'twingo', 'a_klasse',\n",
       "       'scirocco', '5er', 'meriva', 'arosa', 'c4', 'civic', 'transporter',\n",
       "       'punto', 'e_klasse', 'clio', 'kadett', 'kangoo', 'corsa', 'one',\n",
       "       'fortwo', '1er', 'b_klasse', 'signum', 'astra', 'a8', 'jetta',\n",
       "       'fiesta', 'c_klasse', 'micra', 'vito', 'sprinter', '156', 'escort',\n",
       "       'forester', 'xc_reihe', 'scenic', 'a4', 'a1', 'insignia', 'combo',\n",
       "       'focus', 'tt', 'a6', 'jazz', 'omega', 'slk', '7er', '80', '147',\n",
       "       '100', 'z_reihe', 'sportage', 'sorento', 'v40', 'ibiza', 'mustang',\n",
       "       'eos', 'touran', 'getz', 'a3', 'almera', 'megane', 'lupo', 'r19',\n",
       "       'zafira', 'caddy', 'mondeo', 'cordoba', 'colt', 'impreza',\n",
       "       'vectra', 'berlingo', 'tiguan', 'i_reihe', 'espace', 'sharan',\n",
       "       '6_reihe', 'panda', 'up', 'seicento', 'ceed', '5_reihe', 'yeti',\n",
       "       'octavia', 'mii', 'rx_reihe', '6er', 'modus', 'fox', 'matiz',\n",
       "       'beetle', 'c1', 'rio', 'touareg', 'logan', 'spider', 'cuore',\n",
       "       's_max', 'a2', 'galaxy', 'c3', 'viano', 's_klasse', '1_reihe',\n",
       "       'avensis', 'roomster', 'sl', 'kaefer', 'santa', 'cooper', 'leon',\n",
       "       '4_reihe', 'a5', '500', 'laguna', 'ptcruiser', 'clk', 'primera',\n",
       "       'x_reihe', 'exeo', '159', 'transit', 'juke', 'qashqai', 'carisma',\n",
       "       'accord', 'corolla', 'lanos', 'phaeton', 'verso', 'swift', 'rav',\n",
       "       'picanto', 'boxster', 'kalos', 'superb', 'stilo', 'alhambra',\n",
       "       'mx_reihe', 'roadster', 'ypsilon', 'cayenne', 'galant', 'justy',\n",
       "       '90', 'sirion', 'crossfire', 'agila', 'duster', 'cr_reihe', 'v50',\n",
       "       'c_reihe', 'v_klasse', 'm_klasse', 'yaris', 'c5', 'aygo', 'cc',\n",
       "       'carnival', 'fusion', '911', 'bora', 'forfour', 'm_reihe', 'cl',\n",
       "       'tigra', '300c', 'spark', 'v70', 'kuga', 'x_type', 'ducato',\n",
       "       's_type', 'x_trail', 'toledo', 'altea', 'voyager', 'calibra',\n",
       "       'bravo', 'antara', 'tucson', 'citigo', 'jimny', 'wrangler',\n",
       "       'lybra', 'q7', 'lancer', 'captiva', 'c2', 'discovery',\n",
       "       'freelander', 'sandero', 'note', '900', 'cherokee', 'clubman',\n",
       "       'samara', 'defender', '601', 'cx_reihe', 'legacy', 'pajero',\n",
       "       'auris', 'niva', 's60', 'nubira', 'vivaro', 'g_klasse', 'lodgy',\n",
       "       '850', 'range_rover', 'q3', 'serie_2', 'glk', 'charade', 'croma',\n",
       "       'outlander', 'doblo', 'musa', 'move', '9000', 'v60', '145', 'aveo',\n",
       "       '200', 'b_max', 'range_rover_sport', 'terios', 'rangerover', 'q5',\n",
       "       'range_rover_evoque', 'materia', 'delta', 'gl', 'kalina', 'amarok',\n",
       "       'elefantino', 'i3', 'kappa', 'serie_3', 'serie_1'], dtype=object)"
      ]
     },
     "metadata": {},
     "output_type": "display_data"
    },
    {
     "data": {
      "text/plain": [
       "array(['petrol', 'gasoline', nan, 'lpg', 'other', 'hybrid', 'cng',\n",
       "       'electric'], dtype=object)"
      ]
     },
     "metadata": {},
     "output_type": "display_data"
    },
    {
     "data": {
      "text/plain": [
       "array([nan, 'yes', 'no'], dtype=object)"
      ]
     },
     "metadata": {},
     "output_type": "display_data"
    }
   ],
   "source": [
    "for col in col_w_nan:\n",
    "    display(data[col].unique())"
   ]
  },
  {
   "cell_type": "markdown",
   "metadata": {},
   "source": [
    "Построим круговые диаграммы для каждого из этих столбцов, кроме моделей, и посмотрим распределение значений в них.\n",
    "Для моделей стоить диаграмму не будем, т.к. в этом столбце слишком много уникальных значений."
   ]
  },
  {
   "cell_type": "code",
   "execution_count": 10,
   "metadata": {},
   "outputs": [
    {
     "data": {
      "image/png": "[encoded data removed]",
      "text/plain": [
       "<Figure size 504x504 with 1 Axes>"
      ]
     },
     "metadata": {},
     "output_type": "display_data"
    },
    {
     "data": {
      "image/png": "[encoded data removed]",
      "text/plain": [
       "<Figure size 504x504 with 1 Axes>"
      ]
     },
     "metadata": {},
     "output_type": "display_data"
    },
    {
     "data": {
      "image/png": "[encoded data removed]",
      "text/plain": [
       "<Figure size 504x504 with 1 Axes>"
      ]
     },
     "metadata": {},
     "output_type": "display_data"
    },
    {
     "data": {
      "image/png": "[encoded data removed]",
      "text/plain": [
       "<Figure size 504x504 with 1 Axes>"
      ]
     },
     "metadata": {},
     "output_type": "display_data"
    }
   ],
   "source": [
    "col_w_nan = ['VehicleType', 'Gearbox', 'FuelType', 'Repaired']\n",
    "for col in col_w_nan:\n",
    "    plt.figure(figsize=(7, 7))\n",
    "    data[col].value_counts().plot(kind='pie', autopct='%1.0f%%', labeldistance=None, legend=True)\n",
    "    plt.show()"
   ]
  },
  {
   "cell_type": "markdown",
   "metadata": {},
   "source": [
    "1) 'VehicleType' - здесь есть значение other, что означает- другое. Как минимум, часть пропусков могла возникнуть из-за того, что владелец не смог выбрать подходящий тип кузова, и здесь \"другое\"- как раз то, что нужно.\n",
    "\n",
    "2) 'Gearbox'- 80% значений- ручная коробка передач. Пропусков тут всего 5%, так что можем заменить все прописки на Manual (ручная).\n",
    "\n",
    "3) 'FuelType'- 67%- авто на бензине, пропусков всего 5%- заменим их на 'petrol'(бензин)\n",
    "\n",
    "4) 'Repaired'- 87% авто не было в ремонте, и хотя пропусков примерно 20%, учитывая такой перевес, можем заменить пропуски на 'no'\n",
    "\n",
    "По моделям авто- посмотрим топ-10 моделей."
   ]
  },
  {
   "cell_type": "code",
   "execution_count": 11,
   "metadata": {},
   "outputs": [
    {
     "data": {
      "text/plain": [
       "golf        29232\n",
       "other       24421\n",
       "3er         19761\n",
       "polo        13066\n",
       "corsa       12570\n",
       "astra       10809\n",
       "passat      10146\n",
       "a4           9900\n",
       "c_klasse     8312\n",
       "5er          7868\n",
       "Name: Model, dtype: int64"
      ]
     },
     "metadata": {},
     "output_type": "display_data"
    }
   ],
   "source": [
    "display(data['Model'].value_counts().head(10))"
   ]
  },
  {
   "cell_type": "markdown",
   "metadata": {},
   "source": [
    "Как и в случае с типом кузова, у нас есть вариант 'other'. Логично предположить, что как и в случае с типом кузова, пропуски могли появляться из-за того, что владелец авто не находил подходящего варианта (вряд ли он мог не знать названия модели). Заменим пропуски на other."
   ]
  },
  {
   "cell_type": "code",
   "execution_count": 12,
   "metadata": {},
   "outputs": [
    {
     "name": "stdout",
     "output_type": "stream",
     "text": [
      "<class 'pandas.core.frame.DataFrame'>\n",
      "RangeIndex: 354369 entries, 0 to 354368\n",
      "Data columns (total 11 columns):\n",
      " #   Column            Non-Null Count   Dtype \n",
      "---  ------            --------------   ----- \n",
      " 0   Price             354369 non-null  int64 \n",
      " 1   VehicleType       354369 non-null  object\n",
      " 2   RegistrationYear  354369 non-null  int64 \n",
      " 3   Gearbox           354369 non-null  object\n",
      " 4   Power             354369 non-null  int64 \n",
      " 5   Model             354369 non-null  object\n",
      " 6   Kilometer         354369 non-null  int64 \n",
      " 7   FuelType          354369 non-null  object\n",
      " 8   Brand             354369 non-null  object\n",
      " 9   Repaired          354369 non-null  object\n",
      " 10  DateCreated       354369 non-null  object\n",
      "dtypes: int64(4), object(7)\n",
      "memory usage: 29.7+ MB\n"
     ]
    }
   ],
   "source": [
    "data['Repaired'] = data['Repaired'].fillna('no')\n",
    "data['VehicleType'] = data['VehicleType'].fillna('other')\n",
    "data['FuelType'] = data['FuelType'].fillna('petrol')\n",
    "data['Gearbox'] = data['Gearbox'].fillna('manual')\n",
    "data['Model'] = data['Model'].fillna('other')\n",
    "data.info()"
   ]
  },
  {
   "cell_type": "markdown",
   "metadata": {},
   "source": [
    "Пропуски победили, теперь проверим на дубликаты."
   ]
  },
  {
   "cell_type": "code",
   "execution_count": 13,
   "metadata": {},
   "outputs": [
    {
     "data": {
      "text/plain": [
       "15743"
      ]
     },
     "metadata": {},
     "output_type": "display_data"
    }
   ],
   "source": [
    "display(data.duplicated().sum())"
   ]
  },
  {
   "cell_type": "markdown",
   "metadata": {},
   "source": [
    "Удалим дубликаты."
   ]
  },
  {
   "cell_type": "code",
   "execution_count": 14,
   "metadata": {},
   "outputs": [
    {
     "name": "stdout",
     "output_type": "stream",
     "text": [
      "<class 'pandas.core.frame.DataFrame'>\n",
      "RangeIndex: 338626 entries, 0 to 338625\n",
      "Data columns (total 11 columns):\n",
      " #   Column            Non-Null Count   Dtype \n",
      "---  ------            --------------   ----- \n",
      " 0   Price             338626 non-null  int64 \n",
      " 1   VehicleType       338626 non-null  object\n",
      " 2   RegistrationYear  338626 non-null  int64 \n",
      " 3   Gearbox           338626 non-null  object\n",
      " 4   Power             338626 non-null  int64 \n",
      " 5   Model             338626 non-null  object\n",
      " 6   Kilometer         338626 non-null  int64 \n",
      " 7   FuelType          338626 non-null  object\n",
      " 8   Brand             338626 non-null  object\n",
      " 9   Repaired          338626 non-null  object\n",
      " 10  DateCreated       338626 non-null  object\n",
      "dtypes: int64(4), object(7)\n",
      "memory usage: 28.4+ MB\n"
     ]
    }
   ],
   "source": [
    "data = data.drop_duplicates().reset_index(drop=True)\n",
    "data.info()"
   ]
  },
  {
   "cell_type": "markdown",
   "metadata": {},
   "source": [
    "Используя сведения о дате создания объявления, и годе регистрации авто, создадим дополнительный столбец- возраст авто на момент создания объявления- один из ключевых критериев цены. После этого, столбец DateCreated можно будет удалить- сам по себе на цену он не влияет. Аналогично и со столбцом RegistrationYear- год регистрации в отрыве от года, когда было создано объявление, ни о чем не говорит. Для абсолютного большинства авто показателем является именно их возраст."
   ]
  },
  {
   "cell_type": "code",
   "execution_count": 15,
   "metadata": {},
   "outputs": [],
   "source": [
    "data['Age'] = pd.DatetimeIndex(data['DateCreated']).year - data['RegistrationYear']\n",
    "data = data.drop(['DateCreated', 'RegistrationYear'], axis=1)"
   ]
  },
  {
   "cell_type": "markdown",
   "metadata": {},
   "source": [
    "Осталось проверить данные на аномалии."
   ]
  },
  {
   "cell_type": "code",
   "execution_count": 16,
   "metadata": {},
   "outputs": [
    {
     "data": {
      "text/html": [
       "<div>\n",
       "<style scoped>\n",
       "    .dataframe tbody tr th:only-of-type {\n",
       "        vertical-align: middle;\n",
       "    }\n",
       "\n",
       "    .dataframe tbody tr th {\n",
       "        vertical-align: top;\n",
       "    }\n",
       "\n",
       "    .dataframe thead th {\n",
       "        text-align: right;\n",
       "    }\n",
       "</style>\n",
       "<table border=\"1\" class=\"dataframe\">\n",
       "  <thead>\n",
       "    <tr style=\"text-align: right;\">\n",
       "      <th></th>\n",
       "      <th>Price</th>\n",
       "      <th>Power</th>\n",
       "      <th>Kilometer</th>\n",
       "      <th>Age</th>\n",
       "    </tr>\n",
       "  </thead>\n",
       "  <tbody>\n",
       "    <tr>\n",
       "      <th>count</th>\n",
       "      <td>338626.000000</td>\n",
       "      <td>338626.000000</td>\n",
       "      <td>338626.000000</td>\n",
       "      <td>338626.000000</td>\n",
       "    </tr>\n",
       "    <tr>\n",
       "      <th>mean</th>\n",
       "      <td>4409.445125</td>\n",
       "      <td>110.120044</td>\n",
       "      <td>128113.656364</td>\n",
       "      <td>11.745578</td>\n",
       "    </tr>\n",
       "    <tr>\n",
       "      <th>std</th>\n",
       "      <td>4519.884913</td>\n",
       "      <td>192.861167</td>\n",
       "      <td>38005.480155</td>\n",
       "      <td>91.644288</td>\n",
       "    </tr>\n",
       "    <tr>\n",
       "      <th>min</th>\n",
       "      <td>0.000000</td>\n",
       "      <td>0.000000</td>\n",
       "      <td>5000.000000</td>\n",
       "      <td>-7983.000000</td>\n",
       "    </tr>\n",
       "    <tr>\n",
       "      <th>25%</th>\n",
       "      <td>1000.000000</td>\n",
       "      <td>69.000000</td>\n",
       "      <td>125000.000000</td>\n",
       "      <td>8.000000</td>\n",
       "    </tr>\n",
       "    <tr>\n",
       "      <th>50%</th>\n",
       "      <td>2700.000000</td>\n",
       "      <td>105.000000</td>\n",
       "      <td>150000.000000</td>\n",
       "      <td>13.000000</td>\n",
       "    </tr>\n",
       "    <tr>\n",
       "      <th>75%</th>\n",
       "      <td>6400.000000</td>\n",
       "      <td>141.000000</td>\n",
       "      <td>150000.000000</td>\n",
       "      <td>17.000000</td>\n",
       "    </tr>\n",
       "    <tr>\n",
       "      <th>max</th>\n",
       "      <td>20000.000000</td>\n",
       "      <td>20000.000000</td>\n",
       "      <td>150000.000000</td>\n",
       "      <td>1016.000000</td>\n",
       "    </tr>\n",
       "  </tbody>\n",
       "</table>\n",
       "</div>"
      ],
      "text/plain": [
       "               Price          Power      Kilometer            Age\n",
       "count  338626.000000  338626.000000  338626.000000  338626.000000\n",
       "mean     4409.445125     110.120044  128113.656364      11.745578\n",
       "std      4519.884913     192.861167   38005.480155      91.644288\n",
       "min         0.000000       0.000000    5000.000000   -7983.000000\n",
       "25%      1000.000000      69.000000  125000.000000       8.000000\n",
       "50%      2700.000000     105.000000  150000.000000      13.000000\n",
       "75%      6400.000000     141.000000  150000.000000      17.000000\n",
       "max     20000.000000   20000.000000  150000.000000    1016.000000"
      ]
     },
     "metadata": {},
     "output_type": "display_data"
    }
   ],
   "source": [
    "display(data.describe())"
   ]
  },
  {
   "cell_type": "markdown",
   "metadata": {},
   "source": [
    "У нас есть:\n",
    "\n",
    "1) Нулевая цена- вероятно, владельцы авто просто не указывали цену. Посмотрим, сколько таких объявлений.\n",
    "\n",
    "2) Аномально низкая и аномально высокая мощность двигателя.\n",
    "\n",
    "3) Аномальный возраст- получается, часть авто пришла из будущего.\n",
    "\n",
    "Посмотрим ситуацию на диаграммах:"
   ]
  },
  {
   "cell_type": "code",
   "execution_count": 17,
   "metadata": {},
   "outputs": [
    {
     "data": {
      "image/png": "[encoded data removed]",
      "text/plain": [
       "<Figure size 1080x216 with 1 Axes>"
      ]
     },
     "metadata": {
      "needs_background": "light"
     },
     "output_type": "display_data"
    },
    {
     "data": {
      "image/png": "[encoded data removed]",
      "text/plain": [
       "<Figure size 1080x216 with 1 Axes>"
      ]
     },
     "metadata": {
      "needs_background": "light"
     },
     "output_type": "display_data"
    },
    {
     "data": {
      "image/png": "[encoded data removed]",
      "text/plain": [
       "<Figure size 1080x216 with 1 Axes>"
      ]
     },
     "metadata": {
      "needs_background": "light"
     },
     "output_type": "display_data"
    },
    {
     "data": {
      "image/png": "[encoded data removed]",
      "text/plain": [
       "<Figure size 1080x216 with 1 Axes>"
      ]
     },
     "metadata": {
      "needs_background": "light"
     },
     "output_type": "display_data"
    }
   ],
   "source": [
    "for i in ['Price','Age','Power','Kilometer']:\n",
    "    plt.figure(figsize=(15,3))\n",
    "    ax = sns.distplot(data[i], rug=True);\n",
    "    plt.show()"
   ]
  },
  {
   "cell_type": "markdown",
   "metadata": {},
   "source": [
    "Подтверждаем выводы выше:\n",
    "\n",
    "1) По цене- есть объявления с нулевой ценой. Проверим, сколько их\n",
    "\n",
    "2) Возраст- есть выбросы как с очень большими, так и с очень малыми значениями. Избавимся от отрицательных значений, а также от аномально больших, и просто от чень старых авто (посмотрим, например, сколько есть авто старше 30 лет, если их немного- отсечем все такие данные)\n",
    "\n",
    "3) Мощность- также много выбросов. Даже у грузового авто мощность обычно не превышает 800л.с., и вряд ли есть авто с мощностью двигателя меньше 20л.с. посчитаем, сколько таких выбросов, если немного- удалим.\n",
    "\n",
    "4) Пробег- здесь аномалий не видно."
   ]
  },
  {
   "cell_type": "code",
   "execution_count": 18,
   "metadata": {},
   "outputs": [
    {
     "data": {
      "text/plain": [
       "10316"
      ]
     },
     "metadata": {},
     "output_type": "display_data"
    }
   ],
   "source": [
    "display(data.loc[data['Price'] == 0].shape[0])"
   ]
  },
  {
   "cell_type": "markdown",
   "metadata": {},
   "source": [
    "10316 объявлений с нулевой ценой. Вероятно, в объявлении цена не была указана. От общего количества это не так много, а ценность для обучения модели у таких данных отсутствует. Удалим их."
   ]
  },
  {
   "cell_type": "markdown",
   "metadata": {},
   "source": [
    "Также, посмотрим аноимально низкие цены."
   ]
  },
  {
   "cell_type": "code",
   "execution_count": 19,
   "metadata": {
    "scrolled": true
   },
   "outputs": [
    {
     "data": {
      "image/png": "[encoded data removed]",
      "text/plain": [
       "<Figure size 1080x21.6 with 1 Axes>"
      ]
     },
     "metadata": {
      "needs_background": "light"
     },
     "output_type": "display_data"
    },
    {
     "data": {
      "image/png": "[encoded data removed]",
      "text/plain": [
       "<Figure size 1080x216 with 1 Axes>"
      ]
     },
     "metadata": {
      "needs_background": "light"
     },
     "output_type": "display_data"
    }
   ],
   "source": [
    "plt.figure(figsize=(15,.3))\n",
    "sns.boxplot(data.loc[data['Price'] < 1000, 'Price']);\n",
    "plt.show()\n",
    "plt.figure(figsize=(15,3))\n",
    "sns.distplot(data.loc[data['Price'] < 1000, 'Price'], rug=True);\n",
    "plt.show()"
   ]
  },
  {
   "cell_type": "markdown",
   "metadata": {},
   "source": [
    "Большой всплеск количества объявлений видим на цене 500 евро. Можно  предположить, что авто с ценой ниже- это либо ультра-бюджетные предложения, либо ошибки или фейковые объявления. Посмотрим, сколько таких авто в сумме.</div>"
   ]
  },
  {
   "cell_type": "code",
   "execution_count": 20,
   "metadata": {},
   "outputs": [
    {
     "data": {
      "text/plain": [
       "35086"
      ]
     },
     "metadata": {},
     "output_type": "display_data"
    }
   ],
   "source": [
    "display(data.loc[data['Price'] < 500].shape[0])"
   ]
  },
  {
   "cell_type": "markdown",
   "metadata": {},
   "source": [
    "Получается не так много, удалим не только авто с нулевой ценой, но и авто с ценой ниже 500</div>"
   ]
  },
  {
   "cell_type": "code",
   "execution_count": 21,
   "metadata": {},
   "outputs": [],
   "source": [
    "data = data.loc[data['Price'] >= 500]"
   ]
  },
  {
   "cell_type": "markdown",
   "metadata": {},
   "source": [
    "Теперь разберемся с годом регистрации авто."
   ]
  },
  {
   "cell_type": "code",
   "execution_count": 22,
   "metadata": {},
   "outputs": [
    {
     "data": {
      "text/plain": [
       "12745"
      ]
     },
     "metadata": {},
     "output_type": "display_data"
    },
    {
     "data": {
      "text/plain": [
       "5100"
      ]
     },
     "metadata": {},
     "output_type": "display_data"
    }
   ],
   "source": [
    "display(data.loc[data['Age'] < 0].shape[0])\n",
    "display(data.loc[data['Age'] > 30].shape[0])"
   ]
  },
  {
   "cell_type": "markdown",
   "metadata": {},
   "source": [
    "13470 авто с отрицательным возрастом- получается, указанная для них дата регистрации была более поздней, чем дата создания анкеты, то есть, \"автомобиль из будущего\". Возраст авто- ключевой показатель, восстановить его не получится, поэтому удалим такие данные.\n",
    "\n",
    "5485 раритетных авто- тут количество уже относительно небольшое, меньше 2%, ценность таких данных невелика- явный кандидат на удаление."
   ]
  },
  {
   "cell_type": "code",
   "execution_count": 23,
   "metadata": {},
   "outputs": [],
   "source": [
    "data = data.query('Age >= 0 and Age <= 30')"
   ]
  },
  {
   "cell_type": "markdown",
   "metadata": {},
   "source": [
    "Аналогично посмотрим количество выбросов с мощностью двигателя."
   ]
  },
  {
   "cell_type": "code",
   "execution_count": 24,
   "metadata": {},
   "outputs": [
    {
     "data": {
      "text/plain": [
       "23394"
      ]
     },
     "metadata": {},
     "output_type": "display_data"
    },
    {
     "data": {
      "text/plain": [
       "246"
      ]
     },
     "metadata": {},
     "output_type": "display_data"
    }
   ],
   "source": [
    "display(data.loc[data['Power'] < 20].shape[0])\n",
    "display(data.loc[data['Power'] > 800].shape[0])"
   ]
  },
  {
   "cell_type": "markdown",
   "metadata": {},
   "source": [
    "278 аномально высоких значений- это немного, такие данные удалим.\n",
    "30420 низких- очень много, восстановить эти данные мы не сможем, но можем заменить их медианой."
   ]
  },
  {
   "cell_type": "code",
   "execution_count": 25,
   "metadata": {},
   "outputs": [],
   "source": [
    "data = data.loc[data['Power'] <= 800]"
   ]
  },
  {
   "cell_type": "markdown",
   "metadata": {},
   "source": [
    "Медианное значение посчитаем отдельно для разных моделей авто."
   ]
  },
  {
   "cell_type": "code",
   "execution_count": 26,
   "metadata": {},
   "outputs": [],
   "source": [
    "data.loc[(data['Power'] < 20), 'Power'] = None\n",
    "data['Power'] = data['Power'].fillna(data.groupby('Model')['Power'].transform('median'))"
   ]
  },
  {
   "cell_type": "markdown",
   "metadata": {},
   "source": [
    "Снова посмотрим диаграммы:"
   ]
  },
  {
   "cell_type": "code",
   "execution_count": 27,
   "metadata": {},
   "outputs": [
    {
     "data": {
      "image/png": "[encoded data removed]",
      "text/plain": [
       "<Figure size 1080x216 with 1 Axes>"
      ]
     },
     "metadata": {
      "needs_background": "light"
     },
     "output_type": "display_data"
    },
    {
     "data": {
      "image/png": "[encoded data removed]",
      "text/plain": [
       "<Figure size 1080x216 with 1 Axes>"
      ]
     },
     "metadata": {
      "needs_background": "light"
     },
     "output_type": "display_data"
    },
    {
     "data": {
      "image/png": "[encoded data removed]",
      "text/plain": [
       "<Figure size 1080x216 with 1 Axes>"
      ]
     },
     "metadata": {
      "needs_background": "light"
     },
     "output_type": "display_data"
    },
    {
     "data": {
      "image/png": "[encoded data removed]",
      "text/plain": [
       "<Figure size 1080x216 with 1 Axes>"
      ]
     },
     "metadata": {
      "needs_background": "light"
     },
     "output_type": "display_data"
    }
   ],
   "source": [
    "for i in ['Price','Age','Power','Kilometer']:\n",
    "    plt.figure(figsize=(15,3))\n",
    "    ax = sns.distplot(data[i], rug=True);\n",
    "    plt.show()"
   ]
  },
  {
   "cell_type": "markdown",
   "metadata": {},
   "source": [
    "От аномальных значений избавились."
   ]
  },
  {
   "cell_type": "markdown",
   "metadata": {},
   "source": [
    "**Вывод:**\n",
    "\n",
    "1) Импортировали библиотеки\n",
    "\n",
    "2) Загрузили данные\n",
    "\n",
    "3) Избавились от пропусков\n",
    "\n",
    "4) Избавились от дубликатов\n",
    "\n",
    "5) Удалили бесполезные для решения задачи признаки\n",
    "\n",
    "6) Удалили аномалии\n",
    "\n",
    "Можем приступать к обучению моделей."
   ]
  },
  {
   "cell_type": "markdown",
   "metadata": {},
   "source": [
    "## Обучение моделей"
   ]
  },
  {
   "cell_type": "markdown",
   "metadata": {},
   "source": [
    "Отделим признаки от целевого признака"
   ]
  },
  {
   "cell_type": "code",
   "execution_count": 29,
   "metadata": {},
   "outputs": [
    {
     "data": {
      "text/html": [
       "<div>\n",
       "<style scoped>\n",
       "    .dataframe tbody tr th:only-of-type {\n",
       "        vertical-align: middle;\n",
       "    }\n",
       "\n",
       "    .dataframe tbody tr th {\n",
       "        vertical-align: top;\n",
       "    }\n",
       "\n",
       "    .dataframe thead th {\n",
       "        text-align: right;\n",
       "    }\n",
       "</style>\n",
       "<table border=\"1\" class=\"dataframe\">\n",
       "  <thead>\n",
       "    <tr style=\"text-align: right;\">\n",
       "      <th></th>\n",
       "      <th>VehicleType</th>\n",
       "      <th>Gearbox</th>\n",
       "      <th>Power</th>\n",
       "      <th>Model</th>\n",
       "      <th>Kilometer</th>\n",
       "      <th>FuelType</th>\n",
       "      <th>Brand</th>\n",
       "      <th>Repaired</th>\n",
       "      <th>Age</th>\n",
       "    </tr>\n",
       "  </thead>\n",
       "  <tbody>\n",
       "    <tr>\n",
       "      <th>1</th>\n",
       "      <td>coupe</td>\n",
       "      <td>manual</td>\n",
       "      <td>190.0</td>\n",
       "      <td>other</td>\n",
       "      <td>125000</td>\n",
       "      <td>gasoline</td>\n",
       "      <td>audi</td>\n",
       "      <td>yes</td>\n",
       "      <td>5</td>\n",
       "    </tr>\n",
       "    <tr>\n",
       "      <th>2</th>\n",
       "      <td>suv</td>\n",
       "      <td>auto</td>\n",
       "      <td>163.0</td>\n",
       "      <td>grand</td>\n",
       "      <td>125000</td>\n",
       "      <td>gasoline</td>\n",
       "      <td>jeep</td>\n",
       "      <td>no</td>\n",
       "      <td>12</td>\n",
       "    </tr>\n",
       "    <tr>\n",
       "      <th>3</th>\n",
       "      <td>small</td>\n",
       "      <td>manual</td>\n",
       "      <td>75.0</td>\n",
       "      <td>golf</td>\n",
       "      <td>150000</td>\n",
       "      <td>petrol</td>\n",
       "      <td>volkswagen</td>\n",
       "      <td>no</td>\n",
       "      <td>15</td>\n",
       "    </tr>\n",
       "    <tr>\n",
       "      <th>4</th>\n",
       "      <td>small</td>\n",
       "      <td>manual</td>\n",
       "      <td>69.0</td>\n",
       "      <td>fabia</td>\n",
       "      <td>90000</td>\n",
       "      <td>gasoline</td>\n",
       "      <td>skoda</td>\n",
       "      <td>no</td>\n",
       "      <td>8</td>\n",
       "    </tr>\n",
       "    <tr>\n",
       "      <th>5</th>\n",
       "      <td>sedan</td>\n",
       "      <td>manual</td>\n",
       "      <td>102.0</td>\n",
       "      <td>3er</td>\n",
       "      <td>150000</td>\n",
       "      <td>petrol</td>\n",
       "      <td>bmw</td>\n",
       "      <td>yes</td>\n",
       "      <td>21</td>\n",
       "    </tr>\n",
       "  </tbody>\n",
       "</table>\n",
       "</div>"
      ],
      "text/plain": [
       "  VehicleType Gearbox  Power  Model  Kilometer  FuelType       Brand Repaired  \\\n",
       "1       coupe  manual  190.0  other     125000  gasoline        audi      yes   \n",
       "2         suv    auto  163.0  grand     125000  gasoline        jeep       no   \n",
       "3       small  manual   75.0   golf     150000    petrol  volkswagen       no   \n",
       "4       small  manual   69.0  fabia      90000  gasoline       skoda       no   \n",
       "5       sedan  manual  102.0    3er     150000    petrol         bmw      yes   \n",
       "\n",
       "   Age  \n",
       "1    5  \n",
       "2   12  \n",
       "3   15  \n",
       "4    8  \n",
       "5   21  "
      ]
     },
     "metadata": {},
     "output_type": "display_data"
    },
    {
     "data": {
      "text/plain": [
       "1    18300\n",
       "2     9800\n",
       "3     1500\n",
       "4     3600\n",
       "5      650\n",
       "Name: Price, dtype: int64"
      ]
     },
     "metadata": {},
     "output_type": "display_data"
    }
   ],
   "source": [
    "features = data.drop('Price',axis=1)\n",
    "target = data['Price']\n",
    "display(features.head(5))\n",
    "display(target.head(5))"
   ]
  },
  {
   "cell_type": "markdown",
   "metadata": {},
   "source": [
    "Нам надо сделать много разных выборок, создадим функцию. При необходимости, в нее можно добавлять дополнительные параметры, и получать еще больше различных возможных комбинаций.\n",
    "Под нашу задачу, сделаем три группы выборок:\n",
    "\n",
    "1) Для бустинговых моделей- без масштабирования и кодирования, дополнительно для LGBM- c заменой типа данных в столбцах с категориальными признаками. \n",
    "\n",
    "2) Для RandomForestRegressor- с кодированием без масштабирования\n",
    "    \n",
    "3) Для SGDRegressor-с кодированием и масштабированием. Данный метод требует масштабирования всех признаков, поэтому отмасштабируем все столбцы.\n",
    "\n",
    "В названиях выборок отразим, для какой они модели.\n",
    "\n",
    "Для выборок \"target\" менять каждый раз название не будем- они во всех случаях идентичны"
   ]
  },
  {
   "cell_type": "code",
   "execution_count": 31,
   "metadata": {},
   "outputs": [],
   "source": [
    "col_scale = ['Power', 'Kilometer', 'Age'] #столбцы для масштабирования\n",
    "col_oe = ['VehicleType', 'Gearbox', 'Model', 'FuelType', 'Brand', 'Repaired']#столбцы для кодирования"
   ]
  },
  {
   "cell_type": "code",
   "execution_count": 32,
   "metadata": {},
   "outputs": [],
   "source": [
    "def sc_enc_func(data_f, data_t, sc, enc, col_cat):\n",
    "    d_f, f_test, d_t, t_test = train_test_split(data_f, data_t, test_size=0.2, random_state=12345)\n",
    "    f_train, f_valid, t_train, t_valid = train_test_split(d_f, d_t, test_size=0.25, random_state=12345)\n",
    "    if enc==True:\n",
    "        encoder = OrdinalEncoder()\n",
    "        encoder.fit(f_train[col_oe])\n",
    "        f_train[col_oe] = encoder.transform(f_train[col_oe])\n",
    "        f_valid[col_oe] = encoder.transform(f_valid[col_oe])\n",
    "        f_test[col_oe] = encoder.transform(f_test[col_oe])\n",
    "    if sc==True:\n",
    "        scaler = StandardScaler()\n",
    "        scaler.fit(f_train)\n",
    "        f_train = pd.DataFrame(data = scaler.transform(f_train), columns = f_train.columns)\n",
    "        f_valid = pd.DataFrame(data = scaler.transform(f_valid), columns = f_train.columns)\n",
    "        f_test = pd.DataFrame(data = scaler.transform(f_test), columns = f_train.columns)\n",
    "    if col_cat==True:\n",
    "        f_train[col_oe] = f_train[col_oe].astype('category')\n",
    "        f_valid[col_oe] = f_valid[col_oe].astype('category')\n",
    "        f_test[col_oe] = f_test[col_oe].astype('category')\n",
    "    return f_train, f_valid, f_test, t_train, t_valid, t_test"
   ]
  },
  {
   "cell_type": "code",
   "execution_count": 33,
   "metadata": {},
   "outputs": [
    {
     "data": {
      "text/html": [
       "<div>\n",
       "<style scoped>\n",
       "    .dataframe tbody tr th:only-of-type {\n",
       "        vertical-align: middle;\n",
       "    }\n",
       "\n",
       "    .dataframe tbody tr th {\n",
       "        vertical-align: top;\n",
       "    }\n",
       "\n",
       "    .dataframe thead th {\n",
       "        text-align: right;\n",
       "    }\n",
       "</style>\n",
       "<table border=\"1\" class=\"dataframe\">\n",
       "  <thead>\n",
       "    <tr style=\"text-align: right;\">\n",
       "      <th></th>\n",
       "      <th>VehicleType</th>\n",
       "      <th>Gearbox</th>\n",
       "      <th>Power</th>\n",
       "      <th>Model</th>\n",
       "      <th>Kilometer</th>\n",
       "      <th>FuelType</th>\n",
       "      <th>Brand</th>\n",
       "      <th>Repaired</th>\n",
       "      <th>Age</th>\n",
       "    </tr>\n",
       "  </thead>\n",
       "  <tbody>\n",
       "    <tr>\n",
       "      <th>43808</th>\n",
       "      <td>coupe</td>\n",
       "      <td>manual</td>\n",
       "      <td>140.0</td>\n",
       "      <td>c_klasse</td>\n",
       "      <td>150000</td>\n",
       "      <td>petrol</td>\n",
       "      <td>mercedes_benz</td>\n",
       "      <td>no</td>\n",
       "      <td>15</td>\n",
       "    </tr>\n",
       "    <tr>\n",
       "      <th>30343</th>\n",
       "      <td>sedan</td>\n",
       "      <td>manual</td>\n",
       "      <td>109.0</td>\n",
       "      <td>i_reihe</td>\n",
       "      <td>80000</td>\n",
       "      <td>petrol</td>\n",
       "      <td>hyundai</td>\n",
       "      <td>no</td>\n",
       "      <td>5</td>\n",
       "    </tr>\n",
       "    <tr>\n",
       "      <th>87791</th>\n",
       "      <td>small</td>\n",
       "      <td>manual</td>\n",
       "      <td>75.0</td>\n",
       "      <td>one</td>\n",
       "      <td>60000</td>\n",
       "      <td>petrol</td>\n",
       "      <td>mini</td>\n",
       "      <td>no</td>\n",
       "      <td>4</td>\n",
       "    </tr>\n",
       "    <tr>\n",
       "      <th>218011</th>\n",
       "      <td>wagon</td>\n",
       "      <td>manual</td>\n",
       "      <td>90.0</td>\n",
       "      <td>doblo</td>\n",
       "      <td>150000</td>\n",
       "      <td>gasoline</td>\n",
       "      <td>fiat</td>\n",
       "      <td>no</td>\n",
       "      <td>9</td>\n",
       "    </tr>\n",
       "    <tr>\n",
       "      <th>59729</th>\n",
       "      <td>small</td>\n",
       "      <td>manual</td>\n",
       "      <td>75.0</td>\n",
       "      <td>sandero</td>\n",
       "      <td>20000</td>\n",
       "      <td>petrol</td>\n",
       "      <td>dacia</td>\n",
       "      <td>no</td>\n",
       "      <td>7</td>\n",
       "    </tr>\n",
       "  </tbody>\n",
       "</table>\n",
       "</div>"
      ],
      "text/plain": [
       "       VehicleType Gearbox  Power     Model  Kilometer  FuelType  \\\n",
       "43808        coupe  manual  140.0  c_klasse     150000    petrol   \n",
       "30343        sedan  manual  109.0   i_reihe      80000    petrol   \n",
       "87791        small  manual   75.0       one      60000    petrol   \n",
       "218011       wagon  manual   90.0     doblo     150000  gasoline   \n",
       "59729        small  manual   75.0   sandero      20000    petrol   \n",
       "\n",
       "                Brand Repaired  Age  \n",
       "43808   mercedes_benz       no   15  \n",
       "30343         hyundai       no    5  \n",
       "87791            mini       no    4  \n",
       "218011           fiat       no    9  \n",
       "59729           dacia       no    7  "
      ]
     },
     "metadata": {},
     "output_type": "display_data"
    },
    {
     "data": {
      "text/html": [
       "<div>\n",
       "<style scoped>\n",
       "    .dataframe tbody tr th:only-of-type {\n",
       "        vertical-align: middle;\n",
       "    }\n",
       "\n",
       "    .dataframe tbody tr th {\n",
       "        vertical-align: top;\n",
       "    }\n",
       "\n",
       "    .dataframe thead th {\n",
       "        text-align: right;\n",
       "    }\n",
       "</style>\n",
       "<table border=\"1\" class=\"dataframe\">\n",
       "  <thead>\n",
       "    <tr style=\"text-align: right;\">\n",
       "      <th></th>\n",
       "      <th>VehicleType</th>\n",
       "      <th>Gearbox</th>\n",
       "      <th>Power</th>\n",
       "      <th>Model</th>\n",
       "      <th>Kilometer</th>\n",
       "      <th>FuelType</th>\n",
       "      <th>Brand</th>\n",
       "      <th>Repaired</th>\n",
       "      <th>Age</th>\n",
       "    </tr>\n",
       "  </thead>\n",
       "  <tbody>\n",
       "    <tr>\n",
       "      <th>43808</th>\n",
       "      <td>coupe</td>\n",
       "      <td>manual</td>\n",
       "      <td>140.0</td>\n",
       "      <td>c_klasse</td>\n",
       "      <td>150000</td>\n",
       "      <td>petrol</td>\n",
       "      <td>mercedes_benz</td>\n",
       "      <td>no</td>\n",
       "      <td>15</td>\n",
       "    </tr>\n",
       "    <tr>\n",
       "      <th>30343</th>\n",
       "      <td>sedan</td>\n",
       "      <td>manual</td>\n",
       "      <td>109.0</td>\n",
       "      <td>i_reihe</td>\n",
       "      <td>80000</td>\n",
       "      <td>petrol</td>\n",
       "      <td>hyundai</td>\n",
       "      <td>no</td>\n",
       "      <td>5</td>\n",
       "    </tr>\n",
       "    <tr>\n",
       "      <th>87791</th>\n",
       "      <td>small</td>\n",
       "      <td>manual</td>\n",
       "      <td>75.0</td>\n",
       "      <td>one</td>\n",
       "      <td>60000</td>\n",
       "      <td>petrol</td>\n",
       "      <td>mini</td>\n",
       "      <td>no</td>\n",
       "      <td>4</td>\n",
       "    </tr>\n",
       "    <tr>\n",
       "      <th>218011</th>\n",
       "      <td>wagon</td>\n",
       "      <td>manual</td>\n",
       "      <td>90.0</td>\n",
       "      <td>doblo</td>\n",
       "      <td>150000</td>\n",
       "      <td>gasoline</td>\n",
       "      <td>fiat</td>\n",
       "      <td>no</td>\n",
       "      <td>9</td>\n",
       "    </tr>\n",
       "    <tr>\n",
       "      <th>59729</th>\n",
       "      <td>small</td>\n",
       "      <td>manual</td>\n",
       "      <td>75.0</td>\n",
       "      <td>sandero</td>\n",
       "      <td>20000</td>\n",
       "      <td>petrol</td>\n",
       "      <td>dacia</td>\n",
       "      <td>no</td>\n",
       "      <td>7</td>\n",
       "    </tr>\n",
       "  </tbody>\n",
       "</table>\n",
       "</div>"
      ],
      "text/plain": [
       "       VehicleType Gearbox  Power     Model  Kilometer  FuelType  \\\n",
       "43808        coupe  manual  140.0  c_klasse     150000    petrol   \n",
       "30343        sedan  manual  109.0   i_reihe      80000    petrol   \n",
       "87791        small  manual   75.0       one      60000    petrol   \n",
       "218011       wagon  manual   90.0     doblo     150000  gasoline   \n",
       "59729        small  manual   75.0   sandero      20000    petrol   \n",
       "\n",
       "                Brand Repaired  Age  \n",
       "43808   mercedes_benz       no   15  \n",
       "30343         hyundai       no    5  \n",
       "87791            mini       no    4  \n",
       "218011           fiat       no    9  \n",
       "59729           dacia       no    7  "
      ]
     },
     "metadata": {},
     "output_type": "display_data"
    },
    {
     "data": {
      "text/html": [
       "<div>\n",
       "<style scoped>\n",
       "    .dataframe tbody tr th:only-of-type {\n",
       "        vertical-align: middle;\n",
       "    }\n",
       "\n",
       "    .dataframe tbody tr th {\n",
       "        vertical-align: top;\n",
       "    }\n",
       "\n",
       "    .dataframe thead th {\n",
       "        text-align: right;\n",
       "    }\n",
       "</style>\n",
       "<table border=\"1\" class=\"dataframe\">\n",
       "  <thead>\n",
       "    <tr style=\"text-align: right;\">\n",
       "      <th></th>\n",
       "      <th>VehicleType</th>\n",
       "      <th>Gearbox</th>\n",
       "      <th>Power</th>\n",
       "      <th>Model</th>\n",
       "      <th>Kilometer</th>\n",
       "      <th>FuelType</th>\n",
       "      <th>Brand</th>\n",
       "      <th>Repaired</th>\n",
       "      <th>Age</th>\n",
       "    </tr>\n",
       "  </thead>\n",
       "  <tbody>\n",
       "    <tr>\n",
       "      <th>43808</th>\n",
       "      <td>2.0</td>\n",
       "      <td>1.0</td>\n",
       "      <td>140.0</td>\n",
       "      <td>59.0</td>\n",
       "      <td>150000</td>\n",
       "      <td>6.0</td>\n",
       "      <td>20.0</td>\n",
       "      <td>0.0</td>\n",
       "      <td>15</td>\n",
       "    </tr>\n",
       "    <tr>\n",
       "      <th>30343</th>\n",
       "      <td>4.0</td>\n",
       "      <td>1.0</td>\n",
       "      <td>109.0</td>\n",
       "      <td>119.0</td>\n",
       "      <td>80000</td>\n",
       "      <td>6.0</td>\n",
       "      <td>12.0</td>\n",
       "      <td>0.0</td>\n",
       "      <td>5</td>\n",
       "    </tr>\n",
       "    <tr>\n",
       "      <th>87791</th>\n",
       "      <td>5.0</td>\n",
       "      <td>1.0</td>\n",
       "      <td>75.0</td>\n",
       "      <td>165.0</td>\n",
       "      <td>60000</td>\n",
       "      <td>6.0</td>\n",
       "      <td>21.0</td>\n",
       "      <td>0.0</td>\n",
       "      <td>4</td>\n",
       "    </tr>\n",
       "    <tr>\n",
       "      <th>218011</th>\n",
       "      <td>7.0</td>\n",
       "      <td>1.0</td>\n",
       "      <td>90.0</td>\n",
       "      <td>92.0</td>\n",
       "      <td>150000</td>\n",
       "      <td>2.0</td>\n",
       "      <td>9.0</td>\n",
       "      <td>0.0</td>\n",
       "      <td>9</td>\n",
       "    </tr>\n",
       "    <tr>\n",
       "      <th>59729</th>\n",
       "      <td>5.0</td>\n",
       "      <td>1.0</td>\n",
       "      <td>75.0</td>\n",
       "      <td>196.0</td>\n",
       "      <td>20000</td>\n",
       "      <td>6.0</td>\n",
       "      <td>6.0</td>\n",
       "      <td>0.0</td>\n",
       "      <td>7</td>\n",
       "    </tr>\n",
       "  </tbody>\n",
       "</table>\n",
       "</div>"
      ],
      "text/plain": [
       "        VehicleType  Gearbox  Power  Model  Kilometer  FuelType  Brand  \\\n",
       "43808           2.0      1.0  140.0   59.0     150000       6.0   20.0   \n",
       "30343           4.0      1.0  109.0  119.0      80000       6.0   12.0   \n",
       "87791           5.0      1.0   75.0  165.0      60000       6.0   21.0   \n",
       "218011          7.0      1.0   90.0   92.0     150000       2.0    9.0   \n",
       "59729           5.0      1.0   75.0  196.0      20000       6.0    6.0   \n",
       "\n",
       "        Repaired  Age  \n",
       "43808        0.0   15  \n",
       "30343        0.0    5  \n",
       "87791        0.0    4  \n",
       "218011       0.0    9  \n",
       "59729        0.0    7  "
      ]
     },
     "metadata": {},
     "output_type": "display_data"
    },
    {
     "data": {
      "text/html": [
       "<div>\n",
       "<style scoped>\n",
       "    .dataframe tbody tr th:only-of-type {\n",
       "        vertical-align: middle;\n",
       "    }\n",
       "\n",
       "    .dataframe tbody tr th {\n",
       "        vertical-align: top;\n",
       "    }\n",
       "\n",
       "    .dataframe thead th {\n",
       "        text-align: right;\n",
       "    }\n",
       "</style>\n",
       "<table border=\"1\" class=\"dataframe\">\n",
       "  <thead>\n",
       "    <tr style=\"text-align: right;\">\n",
       "      <th></th>\n",
       "      <th>VehicleType</th>\n",
       "      <th>Gearbox</th>\n",
       "      <th>Power</th>\n",
       "      <th>Model</th>\n",
       "      <th>Kilometer</th>\n",
       "      <th>FuelType</th>\n",
       "      <th>Brand</th>\n",
       "      <th>Repaired</th>\n",
       "      <th>Age</th>\n",
       "    </tr>\n",
       "  </thead>\n",
       "  <tbody>\n",
       "    <tr>\n",
       "      <th>0</th>\n",
       "      <td>-1.042091</td>\n",
       "      <td>0.502828</td>\n",
       "      <td>0.329919</td>\n",
       "      <td>-0.722943</td>\n",
       "      <td>0.590486</td>\n",
       "      <td>0.690020</td>\n",
       "      <td>-0.047438</td>\n",
       "      <td>-0.305785</td>\n",
       "      <td>0.420633</td>\n",
       "    </tr>\n",
       "    <tr>\n",
       "      <th>1</th>\n",
       "      <td>-0.092493</td>\n",
       "      <td>0.502828</td>\n",
       "      <td>-0.257010</td>\n",
       "      <td>0.132674</td>\n",
       "      <td>-1.312497</td>\n",
       "      <td>0.690020</td>\n",
       "      <td>-0.645311</td>\n",
       "      <td>-0.305785</td>\n",
       "      <td>-1.348914</td>\n",
       "    </tr>\n",
       "    <tr>\n",
       "      <th>2</th>\n",
       "      <td>0.382306</td>\n",
       "      <td>0.502828</td>\n",
       "      <td>-0.900740</td>\n",
       "      <td>0.788647</td>\n",
       "      <td>-1.856206</td>\n",
       "      <td>0.690020</td>\n",
       "      <td>0.027296</td>\n",
       "      <td>-0.305785</td>\n",
       "      <td>-1.525869</td>\n",
       "    </tr>\n",
       "    <tr>\n",
       "      <th>3</th>\n",
       "      <td>1.331903</td>\n",
       "      <td>0.502828</td>\n",
       "      <td>-0.616742</td>\n",
       "      <td>-0.252353</td>\n",
       "      <td>0.590486</td>\n",
       "      <td>-1.467939</td>\n",
       "      <td>-0.869513</td>\n",
       "      <td>-0.305785</td>\n",
       "      <td>-0.641095</td>\n",
       "    </tr>\n",
       "    <tr>\n",
       "      <th>4</th>\n",
       "      <td>0.382306</td>\n",
       "      <td>0.502828</td>\n",
       "      <td>-0.900740</td>\n",
       "      <td>1.230716</td>\n",
       "      <td>-2.943625</td>\n",
       "      <td>0.690020</td>\n",
       "      <td>-1.093715</td>\n",
       "      <td>-0.305785</td>\n",
       "      <td>-0.995005</td>\n",
       "    </tr>\n",
       "  </tbody>\n",
       "</table>\n",
       "</div>"
      ],
      "text/plain": [
       "   VehicleType   Gearbox     Power     Model  Kilometer  FuelType     Brand  \\\n",
       "0    -1.042091  0.502828  0.329919 -0.722943   0.590486  0.690020 -0.047438   \n",
       "1    -0.092493  0.502828 -0.257010  0.132674  -1.312497  0.690020 -0.645311   \n",
       "2     0.382306  0.502828 -0.900740  0.788647  -1.856206  0.690020  0.027296   \n",
       "3     1.331903  0.502828 -0.616742 -0.252353   0.590486 -1.467939 -0.869513   \n",
       "4     0.382306  0.502828 -0.900740  1.230716  -2.943625  0.690020 -1.093715   \n",
       "\n",
       "   Repaired       Age  \n",
       "0 -0.305785  0.420633  \n",
       "1 -0.305785 -1.348914  \n",
       "2 -0.305785 -1.525869  \n",
       "3 -0.305785 -0.641095  \n",
       "4 -0.305785 -0.995005  "
      ]
     },
     "metadata": {},
     "output_type": "display_data"
    }
   ],
   "source": [
    "CB_train, CB_valid, CB_test, t_train, t_valid, t_test = sc_enc_func(features, target, sc=False, enc=False, col_cat=False)\n",
    "display(CB_train.head(5))\n",
    "\n",
    "LGBM_train, LGBM_valid, LGBM_test, t_train, t_valid, t_test = sc_enc_func(features, target, sc=False, enc=False, col_cat=True)\n",
    "display(LGBM_train.head(5))\n",
    "\n",
    "RF_train, RF_valid, RF_test, t_train, t_valid, t_test = sc_enc_func(features, target, sc=False, enc=True, col_cat=False)\n",
    "display(RF_train.head(5))\n",
    "\n",
    "SGD_train, SGD_valid, SGD_test, t_train, t_valid, t_test = sc_enc_func(features, target, sc=True, enc=True, col_cat=False)\n",
    "display(SGD_train.head(5))"
   ]
  },
  {
   "cell_type": "markdown",
   "metadata": {},
   "source": [
    "С подготовкой данных закончили, можем перейти к обучению моделей.\n",
    "\n",
    "Используем следующие модели:\n",
    "\n",
    "**RandomForestRegressor**\n",
    "\n",
    "**LightGBM**\n",
    "\n",
    "**CatBoostRegressot**\n",
    "\n",
    "**SGBRegressor**"
   ]
  },
  {
   "cell_type": "markdown",
   "metadata": {},
   "source": [
    "**Обучение модели RandomForestRegressor**"
   ]
  },
  {
   "cell_type": "markdown",
   "metadata": {},
   "source": [
    "Попробуем подобрать гипермараметры."
   ]
  },
  {
   "cell_type": "code",
   "execution_count": 35,
   "metadata": {},
   "outputs": [
    {
     "data": {
      "text/plain": [
       "{'max_depth': 20, 'n_estimators': 40}"
      ]
     },
     "metadata": {},
     "output_type": "display_data"
    },
    {
     "name": "stdout",
     "output_type": "stream",
     "text": [
      "CPU times: user 17min 37s, sys: 10.3 s, total: 17min 47s\n",
      "Wall time: 17min 47s\n"
     ]
    }
   ],
   "source": [
    "%%time\n",
    "model_RF = RandomForestRegressor(random_state=1234)\n",
    "parametrs_grid = {'n_estimators': range(10, 50, 10),'max_depth' : range(10, 50, 5)}\n",
    "grid_cv = GridSearchCV(model_RF, parametrs_grid, scoring='neg_root_mean_squared_error')\n",
    "grid_cv.fit(RF_train, t_train)\n",
    "display(grid_cv.best_params_)"
   ]
  },
  {
   "cell_type": "code",
   "execution_count": 36,
   "metadata": {},
   "outputs": [
    {
     "data": {
      "text/html": [
       "<div>\n",
       "<style scoped>\n",
       "    .dataframe tbody tr th:only-of-type {\n",
       "        vertical-align: middle;\n",
       "    }\n",
       "\n",
       "    .dataframe tbody tr th {\n",
       "        vertical-align: top;\n",
       "    }\n",
       "\n",
       "    .dataframe thead th {\n",
       "        text-align: right;\n",
       "    }\n",
       "</style>\n",
       "<table border=\"1\" class=\"dataframe\">\n",
       "  <thead>\n",
       "    <tr style=\"text-align: right;\">\n",
       "      <th></th>\n",
       "      <th>mean_fit_time</th>\n",
       "      <th>std_fit_time</th>\n",
       "      <th>mean_score_time</th>\n",
       "      <th>std_score_time</th>\n",
       "      <th>param_max_depth</th>\n",
       "      <th>param_n_estimators</th>\n",
       "      <th>params</th>\n",
       "      <th>split0_test_score</th>\n",
       "      <th>split1_test_score</th>\n",
       "      <th>split2_test_score</th>\n",
       "      <th>split3_test_score</th>\n",
       "      <th>split4_test_score</th>\n",
       "      <th>mean_test_score</th>\n",
       "      <th>std_test_score</th>\n",
       "      <th>rank_test_score</th>\n",
       "    </tr>\n",
       "  </thead>\n",
       "  <tbody>\n",
       "    <tr>\n",
       "      <th>11</th>\n",
       "      <td>10.396114</td>\n",
       "      <td>0.200625</td>\n",
       "      <td>0.388448</td>\n",
       "      <td>0.007505</td>\n",
       "      <td>20</td>\n",
       "      <td>40</td>\n",
       "      <td>{'max_depth': 20, 'n_estimators': 40}</td>\n",
       "      <td>-1607.037601</td>\n",
       "      <td>-1597.606298</td>\n",
       "      <td>-1627.605993</td>\n",
       "      <td>-1623.083801</td>\n",
       "      <td>-1586.958386</td>\n",
       "      <td>-1608.458416</td>\n",
       "      <td>15.24841</td>\n",
       "      <td>1</td>\n",
       "    </tr>\n",
       "  </tbody>\n",
       "</table>\n",
       "</div>"
      ],
      "text/plain": [
       "    mean_fit_time  std_fit_time  mean_score_time  std_score_time  \\\n",
       "11      10.396114      0.200625         0.388448        0.007505   \n",
       "\n",
       "   param_max_depth param_n_estimators                                 params  \\\n",
       "11              20                 40  {'max_depth': 20, 'n_estimators': 40}   \n",
       "\n",
       "    split0_test_score  split1_test_score  split2_test_score  \\\n",
       "11       -1607.037601       -1597.606298       -1627.605993   \n",
       "\n",
       "    split3_test_score  split4_test_score  mean_test_score  std_test_score  \\\n",
       "11       -1623.083801       -1586.958386     -1608.458416        15.24841   \n",
       "\n",
       "    rank_test_score  \n",
       "11                1  "
      ]
     },
     "metadata": {},
     "output_type": "display_data"
    },
    {
     "data": {
      "text/plain": [
       "10.39611382484436"
      ]
     },
     "metadata": {},
     "output_type": "display_data"
    },
    {
     "data": {
      "text/plain": [
       "0.38844804763793944"
      ]
     },
     "metadata": {},
     "output_type": "display_data"
    },
    {
     "data": {
      "text/plain": [
       "-1608.45841586049"
      ]
     },
     "metadata": {},
     "output_type": "display_data"
    }
   ],
   "source": [
    "results_RF=pd.DataFrame(grid_cv.cv_results_)\n",
    "best_score_RF=grid_cv.best_score_\n",
    "display(results_RF.loc[results_RF['rank_test_score'] == 1])\n",
    "display(results_RF.loc[results_RF['rank_test_score'] == 1]['mean_fit_time'].values[0])\n",
    "display(results_RF.loc[results_RF['rank_test_score'] == 1]['mean_score_time'].values[0])\n",
    "display(best_score_RF)"
   ]
  },
  {
   "cell_type": "markdown",
   "metadata": {},
   "source": [
    "Теперь сравним с другими моделями."
   ]
  },
  {
   "cell_type": "markdown",
   "metadata": {},
   "source": [
    "**Обучение модели LightGBM**"
   ]
  },
  {
   "cell_type": "code",
   "execution_count": 38,
   "metadata": {
    "scrolled": true
   },
   "outputs": [
    {
     "name": "stdout",
     "output_type": "stream",
     "text": [
      "Fitting 5 folds for each of 4 candidates, totalling 20 fits\n",
      "[CV 1/5; 1/4] START learning_rate=0.1, max_depth=2..............................\n",
      "[CV 1/5; 1/4] END ............learning_rate=0.1, max_depth=2; total time=  43.0s\n",
      "[CV 2/5; 1/4] START learning_rate=0.1, max_depth=2..............................\n",
      "[CV 2/5; 1/4] END ............learning_rate=0.1, max_depth=2; total time=  43.8s\n",
      "[CV 3/5; 1/4] START learning_rate=0.1, max_depth=2..............................\n",
      "[CV 3/5; 1/4] END ............learning_rate=0.1, max_depth=2; total time=  44.4s\n",
      "[CV 4/5; 1/4] START learning_rate=0.1, max_depth=2..............................\n",
      "[CV 4/5; 1/4] END ............learning_rate=0.1, max_depth=2; total time=  34.4s\n",
      "[CV 5/5; 1/4] START learning_rate=0.1, max_depth=2..............................\n",
      "[CV 5/5; 1/4] END ............learning_rate=0.1, max_depth=2; total time=   2.4s\n",
      "[CV 1/5; 2/4] START learning_rate=0.1, max_depth=10.............................\n",
      "[CV 1/5; 2/4] END ...........learning_rate=0.1, max_depth=10; total time=   4.4s\n",
      "[CV 2/5; 2/4] START learning_rate=0.1, max_depth=10.............................\n",
      "[CV 2/5; 2/4] END ...........learning_rate=0.1, max_depth=10; total time=   4.4s\n",
      "[CV 3/5; 2/4] START learning_rate=0.1, max_depth=10.............................\n",
      "[CV 3/5; 2/4] END ...........learning_rate=0.1, max_depth=10; total time=   4.0s\n",
      "[CV 4/5; 2/4] START learning_rate=0.1, max_depth=10.............................\n",
      "[CV 4/5; 2/4] END ...........learning_rate=0.1, max_depth=10; total time=   4.6s\n",
      "[CV 5/5; 2/4] START learning_rate=0.1, max_depth=10.............................\n",
      "[CV 5/5; 2/4] END ...........learning_rate=0.1, max_depth=10; total time=   4.2s\n",
      "[CV 1/5; 3/4] START learning_rate=0.8, max_depth=2..............................\n",
      "[CV 1/5; 3/4] END ............learning_rate=0.8, max_depth=2; total time=   1.8s\n",
      "[CV 2/5; 3/4] START learning_rate=0.8, max_depth=2..............................\n",
      "[CV 2/5; 3/4] END ............learning_rate=0.8, max_depth=2; total time=   1.7s\n",
      "[CV 3/5; 3/4] START learning_rate=0.8, max_depth=2..............................\n",
      "[CV 3/5; 3/4] END ............learning_rate=0.8, max_depth=2; total time=   1.7s\n",
      "[CV 4/5; 3/4] START learning_rate=0.8, max_depth=2..............................\n",
      "[CV 4/5; 3/4] END ............learning_rate=0.8, max_depth=2; total time=   1.9s\n",
      "[CV 5/5; 3/4] START learning_rate=0.8, max_depth=2..............................\n",
      "[CV 5/5; 3/4] END ............learning_rate=0.8, max_depth=2; total time=   1.6s\n",
      "[CV 1/5; 4/4] START learning_rate=0.8, max_depth=10.............................\n",
      "[CV 1/5; 4/4] END ...........learning_rate=0.8, max_depth=10; total time=   3.1s\n",
      "[CV 2/5; 4/4] START learning_rate=0.8, max_depth=10.............................\n",
      "[CV 2/5; 4/4] END ...........learning_rate=0.8, max_depth=10; total time=   3.2s\n",
      "[CV 3/5; 4/4] START learning_rate=0.8, max_depth=10.............................\n",
      "[CV 3/5; 4/4] END ...........learning_rate=0.8, max_depth=10; total time=   3.1s\n",
      "[CV 4/5; 4/4] START learning_rate=0.8, max_depth=10.............................\n",
      "[CV 4/5; 4/4] END ...........learning_rate=0.8, max_depth=10; total time=   3.0s\n",
      "[CV 5/5; 4/4] START learning_rate=0.8, max_depth=10.............................\n",
      "[CV 5/5; 4/4] END ...........learning_rate=0.8, max_depth=10; total time=   3.0s\n"
     ]
    },
    {
     "data": {
      "text/plain": [
       "'best params'"
      ]
     },
     "metadata": {},
     "output_type": "display_data"
    },
    {
     "data": {
      "text/plain": [
       "{'learning_rate': 0.1, 'max_depth': 10}"
      ]
     },
     "metadata": {},
     "output_type": "display_data"
    },
    {
     "name": "stdout",
     "output_type": "stream",
     "text": [
      "CPU times: user 3min 35s, sys: 1.21 s, total: 3min 36s\n",
      "Wall time: 3min 38s\n"
     ]
    }
   ],
   "source": [
    "%%time\n",
    "parametrs_grid = {'max_depth':[2,10],\n",
    "              'learning_rate': [0.1, 0.8]}\n",
    "model_LGB = lgb.LGBMRegressor(random_state=1234)\n",
    "grid_cv = GridSearchCV(estimator = model_LGB,\n",
    "                               param_grid = parametrs_grid,\n",
    "                               n_jobs=1,\n",
    "                               verbose=10,\n",
    "#                               cv=3,\n",
    "                               scoring='neg_root_mean_squared_error')\n",
    "\n",
    "grid_cv.fit(LGBM_train, t_train)\n",
    "display('best params', grid_cv.best_params_)"
   ]
  },
  {
   "cell_type": "code",
   "execution_count": 39,
   "metadata": {},
   "outputs": [
    {
     "data": {
      "text/html": [
       "<div>\n",
       "<style scoped>\n",
       "    .dataframe tbody tr th:only-of-type {\n",
       "        vertical-align: middle;\n",
       "    }\n",
       "\n",
       "    .dataframe tbody tr th {\n",
       "        vertical-align: top;\n",
       "    }\n",
       "\n",
       "    .dataframe thead th {\n",
       "        text-align: right;\n",
       "    }\n",
       "</style>\n",
       "<table border=\"1\" class=\"dataframe\">\n",
       "  <thead>\n",
       "    <tr style=\"text-align: right;\">\n",
       "      <th></th>\n",
       "      <th>mean_fit_time</th>\n",
       "      <th>std_fit_time</th>\n",
       "      <th>mean_score_time</th>\n",
       "      <th>std_score_time</th>\n",
       "      <th>param_learning_rate</th>\n",
       "      <th>param_max_depth</th>\n",
       "      <th>params</th>\n",
       "      <th>split0_test_score</th>\n",
       "      <th>split1_test_score</th>\n",
       "      <th>split2_test_score</th>\n",
       "      <th>split3_test_score</th>\n",
       "      <th>split4_test_score</th>\n",
       "      <th>mean_test_score</th>\n",
       "      <th>std_test_score</th>\n",
       "      <th>rank_test_score</th>\n",
       "    </tr>\n",
       "  </thead>\n",
       "  <tbody>\n",
       "    <tr>\n",
       "      <th>1</th>\n",
       "      <td>3.933282</td>\n",
       "      <td>0.174206</td>\n",
       "      <td>0.384657</td>\n",
       "      <td>0.035865</td>\n",
       "      <td>0.1</td>\n",
       "      <td>10</td>\n",
       "      <td>{'learning_rate': 0.1, 'max_depth': 10}</td>\n",
       "      <td>-1589.686995</td>\n",
       "      <td>-1566.475375</td>\n",
       "      <td>-1609.899976</td>\n",
       "      <td>-1589.446796</td>\n",
       "      <td>-1550.014016</td>\n",
       "      <td>-1581.104632</td>\n",
       "      <td>20.751203</td>\n",
       "      <td>1</td>\n",
       "    </tr>\n",
       "  </tbody>\n",
       "</table>\n",
       "</div>"
      ],
      "text/plain": [
       "   mean_fit_time  std_fit_time  mean_score_time  std_score_time  \\\n",
       "1       3.933282      0.174206         0.384657        0.035865   \n",
       "\n",
       "  param_learning_rate param_max_depth  \\\n",
       "1                 0.1              10   \n",
       "\n",
       "                                    params  split0_test_score  \\\n",
       "1  {'learning_rate': 0.1, 'max_depth': 10}       -1589.686995   \n",
       "\n",
       "   split1_test_score  split2_test_score  split3_test_score  split4_test_score  \\\n",
       "1       -1566.475375       -1609.899976       -1589.446796       -1550.014016   \n",
       "\n",
       "   mean_test_score  std_test_score  rank_test_score  \n",
       "1     -1581.104632       20.751203                1  "
      ]
     },
     "metadata": {},
     "output_type": "display_data"
    },
    {
     "data": {
      "text/plain": [
       "3.9332820892333986"
      ]
     },
     "metadata": {},
     "output_type": "display_data"
    },
    {
     "data": {
      "text/plain": [
       "0.3846573352813721"
      ]
     },
     "metadata": {},
     "output_type": "display_data"
    },
    {
     "data": {
      "text/plain": [
       "-1581.104631603846"
      ]
     },
     "metadata": {},
     "output_type": "display_data"
    }
   ],
   "source": [
    "results_LGBM=pd.DataFrame(grid_cv.cv_results_)\n",
    "best_score_LGBM=grid_cv.best_score_\n",
    "display(results_LGBM.loc[results_LGBM['rank_test_score'] == 1])\n",
    "display(results_LGBM.loc[results_LGBM['rank_test_score'] == 1]['mean_fit_time'].values[0])\n",
    "display(results_LGBM.loc[results_LGBM['rank_test_score'] == 1]['mean_score_time'].values[0])\n",
    "display(best_score_LGBM)"
   ]
  },
  {
   "cell_type": "markdown",
   "metadata": {},
   "source": [
    "Обучим модель с лучшими параметрами:"
   ]
  },
  {
   "cell_type": "markdown",
   "metadata": {},
   "source": [
    "У этой модели, по сравнению со случайным лесом, и RMSE лучше, и время обучения меньше."
   ]
  },
  {
   "cell_type": "markdown",
   "metadata": {},
   "source": [
    "**Обучение модели CatBoostRegressot**"
   ]
  },
  {
   "cell_type": "code",
   "execution_count": 41,
   "metadata": {},
   "outputs": [
    {
     "name": "stdout",
     "output_type": "stream",
     "text": [
      "0:\tlearn: 4443.4416816\ttotal: 98.6ms\tremaining: 9.76s\n",
      "1:\tlearn: 4363.3567825\ttotal: 131ms\tremaining: 6.43s\n",
      "2:\tlearn: 4287.6804618\ttotal: 172ms\tremaining: 5.56s\n",
      "3:\tlearn: 4213.8052079\ttotal: 203ms\tremaining: 4.87s\n",
      "4:\tlearn: 4144.5702165\ttotal: 234ms\tremaining: 4.44s\n",
      "5:\tlearn: 4076.2312862\ttotal: 273ms\tremaining: 4.28s\n",
      "6:\tlearn: 4011.6580994\ttotal: 305ms\tremaining: 4.05s\n",
      "7:\tlearn: 3944.3932271\ttotal: 337ms\tremaining: 3.88s\n",
      "8:\tlearn: 3882.9733851\ttotal: 367ms\tremaining: 3.71s\n",
      "9:\tlearn: 3822.8661946\ttotal: 396ms\tremaining: 3.56s\n",
      "10:\tlearn: 3765.2829310\ttotal: 424ms\tremaining: 3.43s\n",
      "11:\tlearn: 3709.3267949\ttotal: 454ms\tremaining: 3.33s\n",
      "12:\tlearn: 3653.5342209\ttotal: 484ms\tremaining: 3.24s\n",
      "13:\tlearn: 3601.5494282\ttotal: 515ms\tremaining: 3.16s\n",
      "14:\tlearn: 3551.8725155\ttotal: 552ms\tremaining: 3.13s\n",
      "15:\tlearn: 3505.4740881\ttotal: 583ms\tremaining: 3.06s\n",
      "16:\tlearn: 3459.9793296\ttotal: 616ms\tremaining: 3.01s\n",
      "17:\tlearn: 3413.1500232\ttotal: 646ms\tremaining: 2.94s\n",
      "18:\tlearn: 3370.1892268\ttotal: 674ms\tremaining: 2.87s\n",
      "19:\tlearn: 3325.4415331\ttotal: 706ms\tremaining: 2.82s\n",
      "20:\tlearn: 3282.8992777\ttotal: 737ms\tremaining: 2.77s\n",
      "21:\tlearn: 3243.3487995\ttotal: 770ms\tremaining: 2.73s\n",
      "22:\tlearn: 3203.3293862\ttotal: 800ms\tremaining: 2.68s\n",
      "23:\tlearn: 3165.9677295\ttotal: 830ms\tremaining: 2.63s\n",
      "24:\tlearn: 3131.3340924\ttotal: 860ms\tremaining: 2.58s\n",
      "25:\tlearn: 3095.1630520\ttotal: 890ms\tremaining: 2.53s\n",
      "26:\tlearn: 3063.7028966\ttotal: 921ms\tremaining: 2.49s\n",
      "27:\tlearn: 3031.3835697\ttotal: 950ms\tremaining: 2.44s\n",
      "28:\tlearn: 3000.6933348\ttotal: 979ms\tremaining: 2.4s\n",
      "29:\tlearn: 2970.9929018\ttotal: 1.01s\tremaining: 2.35s\n",
      "30:\tlearn: 2940.8591477\ttotal: 1.04s\tremaining: 2.31s\n",
      "31:\tlearn: 2912.3014551\ttotal: 1.06s\tremaining: 2.26s\n",
      "32:\tlearn: 2884.2990462\ttotal: 1.1s\tremaining: 2.23s\n",
      "33:\tlearn: 2858.6016550\ttotal: 1.13s\tremaining: 2.19s\n",
      "34:\tlearn: 2834.6259024\ttotal: 1.16s\tremaining: 2.16s\n",
      "35:\tlearn: 2810.4071731\ttotal: 1.19s\tremaining: 2.12s\n",
      "36:\tlearn: 2787.1811716\ttotal: 1.22s\tremaining: 2.08s\n",
      "37:\tlearn: 2764.1881783\ttotal: 1.25s\tremaining: 2.04s\n",
      "38:\tlearn: 2741.4546911\ttotal: 1.28s\tremaining: 2s\n",
      "39:\tlearn: 2718.7655340\ttotal: 1.31s\tremaining: 1.97s\n",
      "40:\tlearn: 2698.1204328\ttotal: 1.34s\tremaining: 1.93s\n",
      "41:\tlearn: 2678.2023918\ttotal: 1.37s\tremaining: 1.9s\n",
      "42:\tlearn: 2658.2358630\ttotal: 1.4s\tremaining: 1.86s\n",
      "43:\tlearn: 2639.4078402\ttotal: 1.43s\tremaining: 1.83s\n",
      "44:\tlearn: 2620.3732790\ttotal: 1.47s\tremaining: 1.79s\n",
      "45:\tlearn: 2602.4241347\ttotal: 1.5s\tremaining: 1.76s\n",
      "46:\tlearn: 2585.1352303\ttotal: 1.53s\tremaining: 1.72s\n",
      "47:\tlearn: 2568.4067963\ttotal: 1.56s\tremaining: 1.69s\n",
      "48:\tlearn: 2551.4645753\ttotal: 1.59s\tremaining: 1.65s\n",
      "49:\tlearn: 2536.0478699\ttotal: 1.62s\tremaining: 1.62s\n",
      "50:\tlearn: 2520.5476208\ttotal: 1.65s\tremaining: 1.59s\n",
      "51:\tlearn: 2506.0558161\ttotal: 1.68s\tremaining: 1.55s\n",
      "52:\tlearn: 2492.4892855\ttotal: 1.71s\tremaining: 1.52s\n",
      "53:\tlearn: 2476.8467884\ttotal: 1.75s\tremaining: 1.49s\n",
      "54:\tlearn: 2464.0881181\ttotal: 1.78s\tremaining: 1.45s\n",
      "55:\tlearn: 2450.7074370\ttotal: 1.81s\tremaining: 1.42s\n",
      "56:\tlearn: 2438.8338972\ttotal: 1.84s\tremaining: 1.39s\n",
      "57:\tlearn: 2426.0668050\ttotal: 1.87s\tremaining: 1.35s\n",
      "58:\tlearn: 2413.0149150\ttotal: 1.9s\tremaining: 1.32s\n",
      "59:\tlearn: 2402.0634790\ttotal: 1.93s\tremaining: 1.28s\n",
      "60:\tlearn: 2389.7835289\ttotal: 1.96s\tremaining: 1.25s\n",
      "61:\tlearn: 2379.0035552\ttotal: 1.99s\tremaining: 1.22s\n",
      "62:\tlearn: 2368.5129070\ttotal: 2.02s\tremaining: 1.19s\n",
      "63:\tlearn: 2357.4436001\ttotal: 2.05s\tremaining: 1.15s\n",
      "64:\tlearn: 2346.6304488\ttotal: 2.08s\tremaining: 1.12s\n",
      "65:\tlearn: 2337.5892411\ttotal: 2.12s\tremaining: 1.09s\n",
      "66:\tlearn: 2328.2947325\ttotal: 2.15s\tremaining: 1.06s\n",
      "67:\tlearn: 2317.4282019\ttotal: 2.19s\tremaining: 1.03s\n",
      "68:\tlearn: 2308.2983212\ttotal: 2.22s\tremaining: 998ms\n",
      "69:\tlearn: 2299.3635310\ttotal: 2.25s\tremaining: 966ms\n",
      "70:\tlearn: 2290.9110799\ttotal: 2.28s\tremaining: 933ms\n",
      "71:\tlearn: 2281.1833290\ttotal: 2.31s\tremaining: 900ms\n",
      "72:\tlearn: 2272.4521992\ttotal: 2.35s\tremaining: 868ms\n",
      "73:\tlearn: 2263.6627815\ttotal: 2.37s\tremaining: 834ms\n",
      "74:\tlearn: 2254.3908466\ttotal: 2.41s\tremaining: 804ms\n",
      "75:\tlearn: 2244.9152299\ttotal: 2.45s\tremaining: 774ms\n",
      "76:\tlearn: 2235.3241926\ttotal: 2.49s\tremaining: 743ms\n",
      "77:\tlearn: 2227.3519834\ttotal: 2.52s\tremaining: 711ms\n",
      "78:\tlearn: 2219.0968694\ttotal: 2.56s\tremaining: 679ms\n",
      "79:\tlearn: 2211.8760416\ttotal: 2.59s\tremaining: 647ms\n",
      "80:\tlearn: 2204.2591676\ttotal: 2.62s\tremaining: 615ms\n",
      "81:\tlearn: 2196.9463196\ttotal: 2.65s\tremaining: 582ms\n",
      "82:\tlearn: 2189.0413944\ttotal: 2.68s\tremaining: 550ms\n",
      "83:\tlearn: 2182.4182860\ttotal: 2.72s\tremaining: 517ms\n",
      "84:\tlearn: 2175.1698805\ttotal: 2.75s\tremaining: 486ms\n",
      "85:\tlearn: 2168.0796861\ttotal: 2.79s\tremaining: 454ms\n",
      "86:\tlearn: 2162.2892282\ttotal: 2.82s\tremaining: 422ms\n",
      "87:\tlearn: 2156.1096265\ttotal: 2.85s\tremaining: 389ms\n",
      "88:\tlearn: 2150.5178369\ttotal: 2.89s\tremaining: 357ms\n",
      "89:\tlearn: 2144.6347450\ttotal: 2.93s\tremaining: 325ms\n",
      "90:\tlearn: 2138.2659044\ttotal: 2.96s\tremaining: 293ms\n",
      "91:\tlearn: 2132.9960810\ttotal: 3s\tremaining: 261ms\n",
      "92:\tlearn: 2127.8513283\ttotal: 3.04s\tremaining: 229ms\n",
      "93:\tlearn: 2122.6951525\ttotal: 3.08s\tremaining: 196ms\n",
      "94:\tlearn: 2117.4043671\ttotal: 3.11s\tremaining: 164ms\n",
      "95:\tlearn: 2112.7091275\ttotal: 3.15s\tremaining: 131ms\n",
      "96:\tlearn: 2108.5600384\ttotal: 3.17s\tremaining: 98.2ms\n",
      "97:\tlearn: 2103.2009821\ttotal: 3.2s\tremaining: 65.4ms\n",
      "98:\tlearn: 2098.9686755\ttotal: 3.23s\tremaining: 32.7ms\n",
      "99:\tlearn: 2095.0048393\ttotal: 3.26s\tremaining: 0us\n",
      "0:\tlearn: 4464.7209013\ttotal: 36.6ms\tremaining: 3.62s\n",
      "1:\tlearn: 4385.3403049\ttotal: 67.1ms\tremaining: 3.29s\n",
      "2:\tlearn: 4310.1242373\ttotal: 104ms\tremaining: 3.37s\n",
      "3:\tlearn: 4236.5036933\ttotal: 135ms\tremaining: 3.23s\n",
      "4:\tlearn: 4167.1450215\ttotal: 164ms\tremaining: 3.12s\n",
      "5:\tlearn: 4098.3320487\ttotal: 201ms\tremaining: 3.15s\n",
      "6:\tlearn: 4029.9889810\ttotal: 232ms\tremaining: 3.08s\n",
      "7:\tlearn: 3965.7567563\ttotal: 261ms\tremaining: 3.01s\n",
      "8:\tlearn: 3904.3203998\ttotal: 295ms\tremaining: 2.98s\n",
      "9:\tlearn: 3843.6826177\ttotal: 327ms\tremaining: 2.94s\n",
      "10:\tlearn: 3783.9407892\ttotal: 355ms\tremaining: 2.87s\n",
      "11:\tlearn: 3727.5573960\ttotal: 385ms\tremaining: 2.82s\n",
      "12:\tlearn: 3674.8245618\ttotal: 414ms\tremaining: 2.77s\n",
      "13:\tlearn: 3620.6949157\ttotal: 444ms\tremaining: 2.73s\n",
      "14:\tlearn: 3571.1922389\ttotal: 474ms\tremaining: 2.69s\n",
      "15:\tlearn: 3518.5706883\ttotal: 506ms\tremaining: 2.66s\n",
      "16:\tlearn: 3471.8476141\ttotal: 539ms\tremaining: 2.63s\n",
      "17:\tlearn: 3427.1034190\ttotal: 568ms\tremaining: 2.59s\n",
      "18:\tlearn: 3380.1525568\ttotal: 597ms\tremaining: 2.54s\n",
      "19:\tlearn: 3338.6808245\ttotal: 626ms\tremaining: 2.5s\n",
      "20:\tlearn: 3295.4058649\ttotal: 655ms\tremaining: 2.46s\n",
      "21:\tlearn: 3256.5277697\ttotal: 684ms\tremaining: 2.42s\n",
      "22:\tlearn: 3218.9184554\ttotal: 713ms\tremaining: 2.39s\n",
      "23:\tlearn: 3183.0056806\ttotal: 745ms\tremaining: 2.36s\n",
      "24:\tlearn: 3145.7075672\ttotal: 774ms\tremaining: 2.32s\n",
      "25:\tlearn: 3112.4375070\ttotal: 805ms\tremaining: 2.29s\n",
      "26:\tlearn: 3077.5230873\ttotal: 834ms\tremaining: 2.25s\n",
      "27:\tlearn: 3044.9718208\ttotal: 863ms\tremaining: 2.22s\n",
      "28:\tlearn: 3013.7028970\ttotal: 892ms\tremaining: 2.18s\n",
      "29:\tlearn: 2982.8803999\ttotal: 925ms\tremaining: 2.16s\n",
      "30:\tlearn: 2953.6709117\ttotal: 954ms\tremaining: 2.12s\n",
      "31:\tlearn: 2925.8819651\ttotal: 984ms\tremaining: 2.09s\n",
      "32:\tlearn: 2898.4937348\ttotal: 1.01s\tremaining: 2.06s\n",
      "33:\tlearn: 2873.3634775\ttotal: 1.04s\tremaining: 2.03s\n",
      "34:\tlearn: 2847.5981019\ttotal: 1.07s\tremaining: 2s\n",
      "35:\tlearn: 2823.3813740\ttotal: 1.1s\tremaining: 1.97s\n",
      "36:\tlearn: 2800.4315127\ttotal: 1.14s\tremaining: 1.93s\n",
      "37:\tlearn: 2777.6268612\ttotal: 1.16s\tremaining: 1.9s\n",
      "38:\tlearn: 2755.4581428\ttotal: 1.19s\tremaining: 1.87s\n",
      "39:\tlearn: 2732.2330398\ttotal: 1.22s\tremaining: 1.83s\n",
      "40:\tlearn: 2710.2365814\ttotal: 1.25s\tremaining: 1.8s\n",
      "41:\tlearn: 2689.3823697\ttotal: 1.28s\tremaining: 1.77s\n",
      "42:\tlearn: 2667.7856526\ttotal: 1.32s\tremaining: 1.75s\n",
      "43:\tlearn: 2647.5164479\ttotal: 1.35s\tremaining: 1.71s\n",
      "44:\tlearn: 2628.9477816\ttotal: 1.38s\tremaining: 1.68s\n",
      "45:\tlearn: 2610.2831650\ttotal: 1.4s\tremaining: 1.65s\n",
      "46:\tlearn: 2592.2436358\ttotal: 1.43s\tremaining: 1.62s\n",
      "47:\tlearn: 2574.7367354\ttotal: 1.46s\tremaining: 1.58s\n",
      "48:\tlearn: 2557.4261691\ttotal: 1.49s\tremaining: 1.55s\n",
      "49:\tlearn: 2540.5517304\ttotal: 1.53s\tremaining: 1.53s\n",
      "50:\tlearn: 2525.3186559\ttotal: 1.56s\tremaining: 1.5s\n",
      "51:\tlearn: 2510.0545782\ttotal: 1.59s\tremaining: 1.47s\n",
      "52:\tlearn: 2495.1342026\ttotal: 1.62s\tremaining: 1.44s\n",
      "53:\tlearn: 2481.0062629\ttotal: 1.65s\tremaining: 1.41s\n",
      "54:\tlearn: 2467.1209418\ttotal: 1.68s\tremaining: 1.38s\n",
      "55:\tlearn: 2454.4594379\ttotal: 1.71s\tremaining: 1.34s\n",
      "56:\tlearn: 2441.8366641\ttotal: 1.74s\tremaining: 1.31s\n",
      "57:\tlearn: 2429.7231919\ttotal: 1.77s\tremaining: 1.28s\n",
      "58:\tlearn: 2418.0143883\ttotal: 1.8s\tremaining: 1.25s\n",
      "59:\tlearn: 2406.7189077\ttotal: 1.82s\tremaining: 1.22s\n",
      "60:\tlearn: 2394.1143089\ttotal: 1.85s\tremaining: 1.19s\n",
      "61:\tlearn: 2383.3328516\ttotal: 1.88s\tremaining: 1.15s\n",
      "62:\tlearn: 2373.2169286\ttotal: 1.91s\tremaining: 1.12s\n",
      "63:\tlearn: 2363.5313963\ttotal: 1.94s\tremaining: 1.09s\n",
      "64:\tlearn: 2352.1296519\ttotal: 1.97s\tremaining: 1.06s\n",
      "65:\tlearn: 2341.5751312\ttotal: 2s\tremaining: 1.03s\n",
      "66:\tlearn: 2330.8243207\ttotal: 2.03s\tremaining: 999ms\n",
      "67:\tlearn: 2319.9331338\ttotal: 2.06s\tremaining: 968ms\n",
      "68:\tlearn: 2311.0106338\ttotal: 2.08s\tremaining: 937ms\n",
      "69:\tlearn: 2302.2609946\ttotal: 2.11s\tremaining: 906ms\n",
      "70:\tlearn: 2292.5314670\ttotal: 2.14s\tremaining: 876ms\n",
      "71:\tlearn: 2283.0771849\ttotal: 2.17s\tremaining: 845ms\n",
      "72:\tlearn: 2272.8598442\ttotal: 2.2s\tremaining: 815ms\n",
      "73:\tlearn: 2264.1320047\ttotal: 2.23s\tremaining: 785ms\n",
      "74:\tlearn: 2255.9457976\ttotal: 2.26s\tremaining: 755ms\n",
      "75:\tlearn: 2248.3767573\ttotal: 2.29s\tremaining: 724ms\n",
      "76:\tlearn: 2239.4663817\ttotal: 2.33s\tremaining: 695ms\n",
      "77:\tlearn: 2232.4606823\ttotal: 2.35s\tremaining: 664ms\n",
      "78:\tlearn: 2223.7344566\ttotal: 2.38s\tremaining: 634ms\n",
      "79:\tlearn: 2215.0258055\ttotal: 2.41s\tremaining: 603ms\n",
      "80:\tlearn: 2206.7742640\ttotal: 2.44s\tremaining: 572ms\n",
      "81:\tlearn: 2199.3389968\ttotal: 2.47s\tremaining: 542ms\n",
      "82:\tlearn: 2192.3257480\ttotal: 2.5s\tremaining: 511ms\n",
      "83:\tlearn: 2184.5151963\ttotal: 2.52s\tremaining: 481ms\n",
      "84:\tlearn: 2177.5037909\ttotal: 2.56s\tremaining: 452ms\n",
      "85:\tlearn: 2171.1077072\ttotal: 2.59s\tremaining: 422ms\n",
      "86:\tlearn: 2164.0100815\ttotal: 2.63s\tremaining: 392ms\n",
      "87:\tlearn: 2158.7315377\ttotal: 2.66s\tremaining: 362ms\n",
      "88:\tlearn: 2153.0240236\ttotal: 2.69s\tremaining: 332ms\n",
      "89:\tlearn: 2148.0054323\ttotal: 2.72s\tremaining: 302ms\n",
      "90:\tlearn: 2141.6033838\ttotal: 2.75s\tremaining: 272ms\n",
      "91:\tlearn: 2136.8174663\ttotal: 2.79s\tremaining: 242ms\n",
      "92:\tlearn: 2130.9362653\ttotal: 2.82s\tremaining: 212ms\n",
      "93:\tlearn: 2126.6597932\ttotal: 2.85s\tremaining: 182ms\n",
      "94:\tlearn: 2121.6007078\ttotal: 2.88s\tremaining: 151ms\n",
      "95:\tlearn: 2116.2392187\ttotal: 2.91s\tremaining: 121ms\n",
      "96:\tlearn: 2110.9155133\ttotal: 2.94s\tremaining: 90.8ms\n",
      "97:\tlearn: 2105.7228536\ttotal: 2.96s\tremaining: 60.5ms\n",
      "98:\tlearn: 2101.4216356\ttotal: 2.99s\tremaining: 30.2ms\n",
      "99:\tlearn: 2096.7775976\ttotal: 3.02s\tremaining: 0us\n",
      "0:\tlearn: 4457.3110525\ttotal: 53.6ms\tremaining: 5.3s\n",
      "1:\tlearn: 4376.7909373\ttotal: 90.1ms\tremaining: 4.41s\n",
      "2:\tlearn: 4300.8330764\ttotal: 130ms\tremaining: 4.21s\n",
      "3:\tlearn: 4228.3374753\ttotal: 162ms\tremaining: 3.88s\n",
      "4:\tlearn: 4158.8319803\ttotal: 194ms\tremaining: 3.68s\n",
      "5:\tlearn: 4090.8599708\ttotal: 231ms\tremaining: 3.63s\n",
      "6:\tlearn: 4026.3942959\ttotal: 263ms\tremaining: 3.5s\n",
      "7:\tlearn: 3958.7786298\ttotal: 296ms\tremaining: 3.4s\n",
      "8:\tlearn: 3898.7835325\ttotal: 328ms\tremaining: 3.32s\n",
      "9:\tlearn: 3838.9872125\ttotal: 362ms\tremaining: 3.25s\n",
      "10:\tlearn: 3780.7562040\ttotal: 399ms\tremaining: 3.23s\n",
      "11:\tlearn: 3724.8702185\ttotal: 429ms\tremaining: 3.15s\n",
      "12:\tlearn: 3668.3903138\ttotal: 462ms\tremaining: 3.09s\n",
      "13:\tlearn: 3617.3538754\ttotal: 499ms\tremaining: 3.06s\n",
      "14:\tlearn: 3567.9518643\ttotal: 531ms\tremaining: 3.01s\n",
      "15:\tlearn: 3519.3705477\ttotal: 571ms\tremaining: 3s\n",
      "16:\tlearn: 3473.1600865\ttotal: 623ms\tremaining: 3.04s\n",
      "17:\tlearn: 3426.9598918\ttotal: 678ms\tremaining: 3.09s\n",
      "18:\tlearn: 3383.2040406\ttotal: 726ms\tremaining: 3.1s\n",
      "19:\tlearn: 3339.7286148\ttotal: 772ms\tremaining: 3.09s\n",
      "20:\tlearn: 3295.6351205\ttotal: 806ms\tremaining: 3.03s\n",
      "21:\tlearn: 3255.8087751\ttotal: 840ms\tremaining: 2.98s\n",
      "22:\tlearn: 3215.5933747\ttotal: 881ms\tremaining: 2.95s\n",
      "23:\tlearn: 3178.3756981\ttotal: 925ms\tremaining: 2.93s\n",
      "24:\tlearn: 3141.8225904\ttotal: 961ms\tremaining: 2.88s\n",
      "25:\tlearn: 3109.3487634\ttotal: 993ms\tremaining: 2.83s\n",
      "26:\tlearn: 3075.0781116\ttotal: 1.02s\tremaining: 2.77s\n",
      "27:\tlearn: 3044.3207359\ttotal: 1.05s\tremaining: 2.71s\n",
      "28:\tlearn: 3011.0039506\ttotal: 1.09s\tremaining: 2.66s\n",
      "29:\tlearn: 2981.7958444\ttotal: 1.12s\tremaining: 2.61s\n",
      "30:\tlearn: 2953.0689400\ttotal: 1.15s\tremaining: 2.56s\n",
      "31:\tlearn: 2923.3890344\ttotal: 1.18s\tremaining: 2.51s\n",
      "32:\tlearn: 2896.3507026\ttotal: 1.21s\tremaining: 2.46s\n",
      "33:\tlearn: 2869.8806226\ttotal: 1.24s\tremaining: 2.41s\n",
      "34:\tlearn: 2845.3008502\ttotal: 1.27s\tremaining: 2.36s\n",
      "35:\tlearn: 2821.0796176\ttotal: 1.31s\tremaining: 2.33s\n",
      "36:\tlearn: 2796.7534238\ttotal: 1.34s\tremaining: 2.28s\n",
      "37:\tlearn: 2774.8312569\ttotal: 1.37s\tremaining: 2.24s\n",
      "38:\tlearn: 2753.5203803\ttotal: 1.41s\tremaining: 2.2s\n",
      "39:\tlearn: 2733.2312156\ttotal: 1.44s\tremaining: 2.15s\n",
      "40:\tlearn: 2711.7038205\ttotal: 1.47s\tremaining: 2.11s\n",
      "41:\tlearn: 2691.1695899\ttotal: 1.5s\tremaining: 2.07s\n",
      "42:\tlearn: 2671.5228233\ttotal: 1.53s\tremaining: 2.03s\n",
      "43:\tlearn: 2652.2986479\ttotal: 1.57s\tremaining: 2s\n",
      "44:\tlearn: 2633.3556610\ttotal: 1.61s\tremaining: 1.96s\n",
      "45:\tlearn: 2615.7414422\ttotal: 1.64s\tremaining: 1.92s\n",
      "46:\tlearn: 2597.5406495\ttotal: 1.67s\tremaining: 1.88s\n",
      "47:\tlearn: 2579.7453164\ttotal: 1.7s\tremaining: 1.84s\n",
      "48:\tlearn: 2563.2637431\ttotal: 1.73s\tremaining: 1.8s\n",
      "49:\tlearn: 2547.1373341\ttotal: 1.76s\tremaining: 1.76s\n",
      "50:\tlearn: 2532.1121719\ttotal: 1.8s\tremaining: 1.73s\n",
      "51:\tlearn: 2518.1469865\ttotal: 1.83s\tremaining: 1.69s\n",
      "52:\tlearn: 2502.4881451\ttotal: 1.85s\tremaining: 1.65s\n",
      "53:\tlearn: 2487.3738569\ttotal: 1.89s\tremaining: 1.6s\n",
      "54:\tlearn: 2473.1455255\ttotal: 1.91s\tremaining: 1.57s\n",
      "55:\tlearn: 2459.6442325\ttotal: 1.94s\tremaining: 1.53s\n",
      "56:\tlearn: 2447.1950884\ttotal: 1.97s\tremaining: 1.49s\n",
      "57:\tlearn: 2434.6663128\ttotal: 2s\tremaining: 1.45s\n",
      "58:\tlearn: 2421.3533285\ttotal: 2.03s\tremaining: 1.41s\n",
      "59:\tlearn: 2407.8279542\ttotal: 2.06s\tremaining: 1.38s\n",
      "60:\tlearn: 2397.8648744\ttotal: 2.09s\tremaining: 1.34s\n",
      "61:\tlearn: 2385.8442533\ttotal: 2.12s\tremaining: 1.3s\n",
      "62:\tlearn: 2374.4455152\ttotal: 2.15s\tremaining: 1.26s\n",
      "63:\tlearn: 2363.0627578\ttotal: 2.2s\tremaining: 1.24s\n",
      "64:\tlearn: 2352.5061669\ttotal: 2.23s\tremaining: 1.2s\n",
      "65:\tlearn: 2341.3787740\ttotal: 2.26s\tremaining: 1.16s\n",
      "66:\tlearn: 2330.6714880\ttotal: 2.29s\tremaining: 1.13s\n",
      "67:\tlearn: 2321.0149442\ttotal: 2.32s\tremaining: 1.09s\n",
      "68:\tlearn: 2310.4159530\ttotal: 2.35s\tremaining: 1.06s\n",
      "69:\tlearn: 2302.4434571\ttotal: 2.38s\tremaining: 1.02s\n",
      "70:\tlearn: 2293.2941680\ttotal: 2.41s\tremaining: 986ms\n",
      "71:\tlearn: 2284.3890009\ttotal: 2.44s\tremaining: 950ms\n",
      "72:\tlearn: 2274.9839949\ttotal: 2.47s\tremaining: 915ms\n",
      "73:\tlearn: 2267.0278982\ttotal: 2.51s\tremaining: 881ms\n",
      "74:\tlearn: 2257.8383956\ttotal: 2.54s\tremaining: 846ms\n",
      "75:\tlearn: 2249.7223642\ttotal: 2.57s\tremaining: 812ms\n",
      "76:\tlearn: 2241.3244710\ttotal: 2.6s\tremaining: 778ms\n",
      "77:\tlearn: 2233.0461660\ttotal: 2.64s\tremaining: 744ms\n",
      "78:\tlearn: 2223.3595440\ttotal: 2.67s\tremaining: 710ms\n",
      "79:\tlearn: 2214.2009767\ttotal: 2.71s\tremaining: 677ms\n",
      "80:\tlearn: 2205.7616091\ttotal: 2.74s\tremaining: 643ms\n",
      "81:\tlearn: 2197.6374228\ttotal: 2.77s\tremaining: 608ms\n",
      "82:\tlearn: 2189.8864753\ttotal: 2.8s\tremaining: 574ms\n",
      "83:\tlearn: 2182.9941413\ttotal: 2.83s\tremaining: 540ms\n",
      "84:\tlearn: 2176.5667853\ttotal: 2.87s\tremaining: 506ms\n",
      "85:\tlearn: 2169.3711418\ttotal: 2.9s\tremaining: 472ms\n",
      "86:\tlearn: 2162.7292612\ttotal: 2.93s\tremaining: 438ms\n",
      "87:\tlearn: 2156.4515223\ttotal: 2.96s\tremaining: 404ms\n",
      "88:\tlearn: 2150.1132979\ttotal: 2.99s\tremaining: 370ms\n",
      "89:\tlearn: 2143.3185027\ttotal: 3.02s\tremaining: 336ms\n",
      "90:\tlearn: 2137.7220789\ttotal: 3.05s\tremaining: 302ms\n",
      "91:\tlearn: 2131.4926787\ttotal: 3.08s\tremaining: 268ms\n",
      "92:\tlearn: 2126.6194349\ttotal: 3.11s\tremaining: 234ms\n",
      "93:\tlearn: 2121.1384260\ttotal: 3.14s\tremaining: 201ms\n",
      "94:\tlearn: 2115.8117904\ttotal: 3.17s\tremaining: 167ms\n",
      "95:\tlearn: 2110.7567202\ttotal: 3.2s\tremaining: 133ms\n",
      "96:\tlearn: 2105.9272080\ttotal: 3.23s\tremaining: 99.9ms\n",
      "97:\tlearn: 2101.1296397\ttotal: 3.26s\tremaining: 66.5ms\n",
      "98:\tlearn: 2096.8927925\ttotal: 3.29s\tremaining: 33.2ms\n",
      "99:\tlearn: 2091.9948809\ttotal: 3.31s\tremaining: 0us\n",
      "0:\tlearn: 4461.9723201\ttotal: 35.9ms\tremaining: 3.55s\n",
      "1:\tlearn: 4381.3535352\ttotal: 64.5ms\tremaining: 3.16s\n",
      "2:\tlearn: 4305.2475365\ttotal: 99ms\tremaining: 3.2s\n",
      "3:\tlearn: 4232.4071324\ttotal: 128ms\tremaining: 3.06s\n",
      "4:\tlearn: 4162.7461648\ttotal: 156ms\tremaining: 2.96s\n",
      "5:\tlearn: 4093.6099559\ttotal: 190ms\tremaining: 2.97s\n",
      "6:\tlearn: 4028.1673258\ttotal: 218ms\tremaining: 2.9s\n",
      "7:\tlearn: 3960.0914920\ttotal: 247ms\tremaining: 2.84s\n",
      "8:\tlearn: 3899.5866210\ttotal: 276ms\tremaining: 2.79s\n",
      "9:\tlearn: 3839.0774121\ttotal: 307ms\tremaining: 2.77s\n",
      "10:\tlearn: 3781.2482969\ttotal: 335ms\tremaining: 2.71s\n",
      "11:\tlearn: 3725.0054113\ttotal: 364ms\tremaining: 2.67s\n",
      "12:\tlearn: 3668.5499866\ttotal: 393ms\tremaining: 2.63s\n",
      "13:\tlearn: 3616.8269414\ttotal: 422ms\tremaining: 2.59s\n",
      "14:\tlearn: 3567.0679894\ttotal: 450ms\tremaining: 2.55s\n",
      "15:\tlearn: 3516.5752545\ttotal: 479ms\tremaining: 2.51s\n",
      "16:\tlearn: 3467.7695075\ttotal: 509ms\tremaining: 2.48s\n",
      "17:\tlearn: 3420.5240404\ttotal: 539ms\tremaining: 2.45s\n",
      "18:\tlearn: 3375.6831112\ttotal: 568ms\tremaining: 2.42s\n",
      "19:\tlearn: 3330.6647360\ttotal: 596ms\tremaining: 2.38s\n",
      "20:\tlearn: 3289.1537219\ttotal: 624ms\tremaining: 2.35s\n",
      "21:\tlearn: 3249.1421895\ttotal: 658ms\tremaining: 2.33s\n",
      "22:\tlearn: 3208.7951734\ttotal: 693ms\tremaining: 2.32s\n",
      "23:\tlearn: 3171.9519014\ttotal: 722ms\tremaining: 2.29s\n",
      "24:\tlearn: 3135.7757329\ttotal: 751ms\tremaining: 2.25s\n",
      "25:\tlearn: 3099.3308112\ttotal: 782ms\tremaining: 2.22s\n",
      "26:\tlearn: 3067.5339996\ttotal: 811ms\tremaining: 2.19s\n",
      "27:\tlearn: 3035.2455862\ttotal: 839ms\tremaining: 2.16s\n",
      "28:\tlearn: 3004.7611176\ttotal: 868ms\tremaining: 2.12s\n",
      "29:\tlearn: 2976.9659983\ttotal: 906ms\tremaining: 2.11s\n",
      "30:\tlearn: 2948.6398546\ttotal: 936ms\tremaining: 2.08s\n",
      "31:\tlearn: 2920.3828661\ttotal: 967ms\tremaining: 2.05s\n",
      "32:\tlearn: 2893.2542669\ttotal: 1s\tremaining: 2.04s\n",
      "33:\tlearn: 2866.1611232\ttotal: 1.04s\tremaining: 2.02s\n",
      "34:\tlearn: 2841.2230068\ttotal: 1.08s\tremaining: 2.01s\n",
      "35:\tlearn: 2816.1311779\ttotal: 1.12s\tremaining: 2s\n",
      "36:\tlearn: 2792.9685458\ttotal: 1.16s\tremaining: 1.98s\n",
      "37:\tlearn: 2771.5770511\ttotal: 1.2s\tremaining: 1.96s\n",
      "38:\tlearn: 2748.7177870\ttotal: 1.24s\tremaining: 1.95s\n",
      "39:\tlearn: 2726.9097593\ttotal: 1.28s\tremaining: 1.92s\n",
      "40:\tlearn: 2706.7165973\ttotal: 1.31s\tremaining: 1.89s\n",
      "41:\tlearn: 2686.8165226\ttotal: 1.34s\tremaining: 1.85s\n",
      "42:\tlearn: 2666.8501437\ttotal: 1.37s\tremaining: 1.82s\n",
      "43:\tlearn: 2648.6550961\ttotal: 1.4s\tremaining: 1.78s\n",
      "44:\tlearn: 2631.4106605\ttotal: 1.43s\tremaining: 1.75s\n",
      "45:\tlearn: 2612.7552283\ttotal: 1.46s\tremaining: 1.71s\n",
      "46:\tlearn: 2595.1742870\ttotal: 1.49s\tremaining: 1.68s\n",
      "47:\tlearn: 2578.4543881\ttotal: 1.51s\tremaining: 1.64s\n",
      "48:\tlearn: 2561.6449470\ttotal: 1.54s\tremaining: 1.61s\n",
      "49:\tlearn: 2547.1002080\ttotal: 1.57s\tremaining: 1.57s\n",
      "50:\tlearn: 2531.2981797\ttotal: 1.6s\tremaining: 1.54s\n",
      "51:\tlearn: 2517.7173526\ttotal: 1.63s\tremaining: 1.51s\n",
      "52:\tlearn: 2502.8443110\ttotal: 1.66s\tremaining: 1.48s\n",
      "53:\tlearn: 2488.7282642\ttotal: 1.7s\tremaining: 1.45s\n",
      "54:\tlearn: 2473.8755627\ttotal: 1.73s\tremaining: 1.41s\n",
      "55:\tlearn: 2460.7607457\ttotal: 1.76s\tremaining: 1.38s\n",
      "56:\tlearn: 2446.9200224\ttotal: 1.78s\tremaining: 1.35s\n",
      "57:\tlearn: 2434.4936467\ttotal: 1.81s\tremaining: 1.31s\n",
      "58:\tlearn: 2422.1671906\ttotal: 1.84s\tremaining: 1.28s\n",
      "59:\tlearn: 2410.1281979\ttotal: 1.87s\tremaining: 1.25s\n",
      "60:\tlearn: 2396.6399154\ttotal: 1.9s\tremaining: 1.21s\n",
      "61:\tlearn: 2385.4010210\ttotal: 1.93s\tremaining: 1.18s\n",
      "62:\tlearn: 2374.4984000\ttotal: 1.96s\tremaining: 1.15s\n",
      "63:\tlearn: 2364.6733890\ttotal: 1.99s\tremaining: 1.12s\n",
      "64:\tlearn: 2353.5347693\ttotal: 2.02s\tremaining: 1.08s\n",
      "65:\tlearn: 2343.9868474\ttotal: 2.04s\tremaining: 1.05s\n",
      "66:\tlearn: 2333.2646230\ttotal: 2.07s\tremaining: 1.02s\n",
      "67:\tlearn: 2322.5093640\ttotal: 2.1s\tremaining: 989ms\n",
      "68:\tlearn: 2314.6195527\ttotal: 2.13s\tremaining: 958ms\n",
      "69:\tlearn: 2305.9242288\ttotal: 2.16s\tremaining: 927ms\n",
      "70:\tlearn: 2298.7489780\ttotal: 2.19s\tremaining: 896ms\n",
      "71:\tlearn: 2287.2906653\ttotal: 2.23s\tremaining: 866ms\n",
      "72:\tlearn: 2277.3078952\ttotal: 2.26s\tremaining: 835ms\n",
      "73:\tlearn: 2267.6105484\ttotal: 2.29s\tremaining: 803ms\n",
      "74:\tlearn: 2258.5799813\ttotal: 2.32s\tremaining: 773ms\n",
      "75:\tlearn: 2249.5226265\ttotal: 2.35s\tremaining: 742ms\n",
      "76:\tlearn: 2241.8204185\ttotal: 2.38s\tremaining: 711ms\n",
      "77:\tlearn: 2233.3319385\ttotal: 2.41s\tremaining: 680ms\n",
      "78:\tlearn: 2225.7901062\ttotal: 2.44s\tremaining: 649ms\n",
      "79:\tlearn: 2218.4951095\ttotal: 2.47s\tremaining: 618ms\n",
      "80:\tlearn: 2211.7007012\ttotal: 2.5s\tremaining: 587ms\n",
      "81:\tlearn: 2205.3912959\ttotal: 2.53s\tremaining: 556ms\n",
      "82:\tlearn: 2197.8114200\ttotal: 2.56s\tremaining: 525ms\n",
      "83:\tlearn: 2190.0800920\ttotal: 2.59s\tremaining: 494ms\n",
      "84:\tlearn: 2183.1559810\ttotal: 2.62s\tremaining: 463ms\n",
      "85:\tlearn: 2175.3491383\ttotal: 2.65s\tremaining: 432ms\n",
      "86:\tlearn: 2168.6054499\ttotal: 2.68s\tremaining: 401ms\n",
      "87:\tlearn: 2161.7605200\ttotal: 2.71s\tremaining: 370ms\n",
      "88:\tlearn: 2155.3177878\ttotal: 2.74s\tremaining: 339ms\n",
      "89:\tlearn: 2149.4310827\ttotal: 2.77s\tremaining: 308ms\n",
      "90:\tlearn: 2143.3554256\ttotal: 2.8s\tremaining: 277ms\n",
      "91:\tlearn: 2137.4762073\ttotal: 2.83s\tremaining: 246ms\n",
      "92:\tlearn: 2131.8435617\ttotal: 2.86s\tremaining: 216ms\n",
      "93:\tlearn: 2126.9440902\ttotal: 2.89s\tremaining: 185ms\n",
      "94:\tlearn: 2121.5149363\ttotal: 2.92s\tremaining: 154ms\n",
      "95:\tlearn: 2116.3950314\ttotal: 2.95s\tremaining: 123ms\n",
      "96:\tlearn: 2111.7284837\ttotal: 2.98s\tremaining: 92.2ms\n",
      "97:\tlearn: 2106.7309816\ttotal: 3.01s\tremaining: 61.5ms\n",
      "98:\tlearn: 2101.5338171\ttotal: 3.04s\tremaining: 30.7ms\n",
      "99:\tlearn: 2097.3046469\ttotal: 3.07s\tremaining: 0us\n",
      "0:\tlearn: 4462.8179179\ttotal: 41.7ms\tremaining: 4.13s\n",
      "1:\tlearn: 4382.3655652\ttotal: 78.3ms\tremaining: 3.84s\n",
      "2:\tlearn: 4307.4038138\ttotal: 112ms\tremaining: 3.61s\n",
      "3:\tlearn: 4232.3127007\ttotal: 148ms\tremaining: 3.55s\n",
      "4:\tlearn: 4160.4366939\ttotal: 178ms\tremaining: 3.39s\n",
      "5:\tlearn: 4092.6291479\ttotal: 208ms\tremaining: 3.26s\n",
      "6:\tlearn: 4026.6780865\ttotal: 238ms\tremaining: 3.17s\n",
      "7:\tlearn: 3964.1442571\ttotal: 269ms\tremaining: 3.1s\n",
      "8:\tlearn: 3899.6358019\ttotal: 301ms\tremaining: 3.05s\n",
      "9:\tlearn: 3840.7855854\ttotal: 332ms\tremaining: 2.98s\n",
      "10:\tlearn: 3785.6315524\ttotal: 362ms\tremaining: 2.93s\n",
      "11:\tlearn: 3729.7541124\ttotal: 392ms\tremaining: 2.87s\n",
      "12:\tlearn: 3673.1076689\ttotal: 420ms\tremaining: 2.81s\n",
      "13:\tlearn: 3618.9269835\ttotal: 449ms\tremaining: 2.76s\n",
      "14:\tlearn: 3569.1634317\ttotal: 479ms\tremaining: 2.71s\n",
      "15:\tlearn: 3519.3773767\ttotal: 508ms\tremaining: 2.67s\n",
      "16:\tlearn: 3471.7220929\ttotal: 538ms\tremaining: 2.63s\n",
      "17:\tlearn: 3426.3933393\ttotal: 569ms\tremaining: 2.59s\n",
      "18:\tlearn: 3382.1096476\ttotal: 598ms\tremaining: 2.55s\n",
      "19:\tlearn: 3339.1154563\ttotal: 628ms\tremaining: 2.51s\n",
      "20:\tlearn: 3299.3886682\ttotal: 663ms\tremaining: 2.49s\n",
      "21:\tlearn: 3257.8300406\ttotal: 694ms\tremaining: 2.46s\n",
      "22:\tlearn: 3219.6929137\ttotal: 724ms\tremaining: 2.42s\n",
      "23:\tlearn: 3183.3471752\ttotal: 756ms\tremaining: 2.4s\n",
      "24:\tlearn: 3148.8017684\ttotal: 788ms\tremaining: 2.36s\n",
      "25:\tlearn: 3113.0471770\ttotal: 819ms\tremaining: 2.33s\n",
      "26:\tlearn: 3079.7629900\ttotal: 850ms\tremaining: 2.3s\n",
      "27:\tlearn: 3047.4866871\ttotal: 880ms\tremaining: 2.26s\n",
      "28:\tlearn: 3016.0883241\ttotal: 912ms\tremaining: 2.23s\n",
      "29:\tlearn: 2986.8273343\ttotal: 945ms\tremaining: 2.21s\n",
      "30:\tlearn: 2956.8107816\ttotal: 977ms\tremaining: 2.17s\n",
      "31:\tlearn: 2927.8241677\ttotal: 1.01s\tremaining: 2.14s\n",
      "32:\tlearn: 2902.0072271\ttotal: 1.04s\tremaining: 2.1s\n",
      "33:\tlearn: 2876.6073304\ttotal: 1.07s\tremaining: 2.08s\n",
      "34:\tlearn: 2851.7294707\ttotal: 1.1s\tremaining: 2.04s\n",
      "35:\tlearn: 2826.1365630\ttotal: 1.13s\tremaining: 2.01s\n",
      "36:\tlearn: 2803.6053977\ttotal: 1.17s\tremaining: 1.98s\n",
      "37:\tlearn: 2781.4092983\ttotal: 1.19s\tremaining: 1.95s\n",
      "38:\tlearn: 2759.5160356\ttotal: 1.22s\tremaining: 1.91s\n",
      "39:\tlearn: 2738.8523086\ttotal: 1.25s\tremaining: 1.88s\n",
      "40:\tlearn: 2716.1828711\ttotal: 1.28s\tremaining: 1.84s\n",
      "41:\tlearn: 2694.5426337\ttotal: 1.31s\tremaining: 1.81s\n",
      "42:\tlearn: 2674.3414832\ttotal: 1.35s\tremaining: 1.78s\n",
      "43:\tlearn: 2655.5345760\ttotal: 1.38s\tremaining: 1.75s\n",
      "44:\tlearn: 2636.8973316\ttotal: 1.41s\tremaining: 1.72s\n",
      "45:\tlearn: 2617.7725653\ttotal: 1.44s\tremaining: 1.69s\n",
      "46:\tlearn: 2600.7834363\ttotal: 1.47s\tremaining: 1.65s\n",
      "47:\tlearn: 2583.5845838\ttotal: 1.49s\tremaining: 1.62s\n",
      "48:\tlearn: 2566.7231865\ttotal: 1.52s\tremaining: 1.58s\n",
      "49:\tlearn: 2551.5968606\ttotal: 1.55s\tremaining: 1.55s\n",
      "50:\tlearn: 2536.1853878\ttotal: 1.59s\tremaining: 1.53s\n",
      "51:\tlearn: 2520.8546905\ttotal: 1.63s\tremaining: 1.5s\n",
      "52:\tlearn: 2505.7126280\ttotal: 1.67s\tremaining: 1.48s\n",
      "53:\tlearn: 2491.5817141\ttotal: 1.7s\tremaining: 1.45s\n",
      "54:\tlearn: 2477.4996582\ttotal: 1.73s\tremaining: 1.41s\n",
      "55:\tlearn: 2464.3175325\ttotal: 1.76s\tremaining: 1.38s\n",
      "56:\tlearn: 2450.8408260\ttotal: 1.79s\tremaining: 1.35s\n",
      "57:\tlearn: 2438.6781500\ttotal: 1.82s\tremaining: 1.32s\n",
      "58:\tlearn: 2425.9972077\ttotal: 1.85s\tremaining: 1.29s\n",
      "59:\tlearn: 2414.3412022\ttotal: 1.88s\tremaining: 1.25s\n",
      "60:\tlearn: 2403.3372064\ttotal: 1.91s\tremaining: 1.22s\n",
      "61:\tlearn: 2391.2218957\ttotal: 1.94s\tremaining: 1.19s\n",
      "62:\tlearn: 2379.8859274\ttotal: 1.98s\tremaining: 1.16s\n",
      "63:\tlearn: 2367.8386472\ttotal: 2s\tremaining: 1.13s\n",
      "64:\tlearn: 2357.0352738\ttotal: 2.04s\tremaining: 1.1s\n",
      "65:\tlearn: 2347.2213958\ttotal: 2.07s\tremaining: 1.07s\n",
      "66:\tlearn: 2337.7779186\ttotal: 2.1s\tremaining: 1.04s\n",
      "67:\tlearn: 2328.8528634\ttotal: 2.13s\tremaining: 1s\n",
      "68:\tlearn: 2318.4415145\ttotal: 2.16s\tremaining: 972ms\n",
      "69:\tlearn: 2309.6957737\ttotal: 2.19s\tremaining: 941ms\n",
      "70:\tlearn: 2299.5242113\ttotal: 2.23s\tremaining: 910ms\n",
      "71:\tlearn: 2291.4298112\ttotal: 2.26s\tremaining: 878ms\n",
      "72:\tlearn: 2282.6129788\ttotal: 2.29s\tremaining: 845ms\n",
      "73:\tlearn: 2274.8250005\ttotal: 2.31s\tremaining: 814ms\n",
      "74:\tlearn: 2266.1814543\ttotal: 2.35s\tremaining: 782ms\n",
      "75:\tlearn: 2257.6359482\ttotal: 2.37s\tremaining: 750ms\n",
      "76:\tlearn: 2249.5910915\ttotal: 2.4s\tremaining: 718ms\n",
      "77:\tlearn: 2240.6250601\ttotal: 2.44s\tremaining: 688ms\n",
      "78:\tlearn: 2233.1265994\ttotal: 2.47s\tremaining: 656ms\n",
      "79:\tlearn: 2226.2108035\ttotal: 2.5s\tremaining: 624ms\n",
      "80:\tlearn: 2217.4051541\ttotal: 2.53s\tremaining: 593ms\n",
      "81:\tlearn: 2209.8134527\ttotal: 2.55s\tremaining: 561ms\n",
      "82:\tlearn: 2201.9937954\ttotal: 2.58s\tremaining: 529ms\n",
      "83:\tlearn: 2194.5614417\ttotal: 2.62s\tremaining: 498ms\n",
      "84:\tlearn: 2187.5740855\ttotal: 2.65s\tremaining: 467ms\n",
      "85:\tlearn: 2180.9453021\ttotal: 2.67s\tremaining: 435ms\n",
      "86:\tlearn: 2174.6890101\ttotal: 2.7s\tremaining: 404ms\n",
      "87:\tlearn: 2168.7833529\ttotal: 2.73s\tremaining: 373ms\n",
      "88:\tlearn: 2162.9018385\ttotal: 2.76s\tremaining: 341ms\n",
      "89:\tlearn: 2157.3846179\ttotal: 2.79s\tremaining: 310ms\n",
      "90:\tlearn: 2151.5261270\ttotal: 2.82s\tremaining: 279ms\n",
      "91:\tlearn: 2145.8436076\ttotal: 2.85s\tremaining: 248ms\n",
      "92:\tlearn: 2139.5105583\ttotal: 2.88s\tremaining: 217ms\n",
      "93:\tlearn: 2134.4643727\ttotal: 2.92s\tremaining: 186ms\n",
      "94:\tlearn: 2129.5470099\ttotal: 2.95s\tremaining: 155ms\n",
      "95:\tlearn: 2124.3329637\ttotal: 2.98s\tremaining: 124ms\n",
      "96:\tlearn: 2119.0185749\ttotal: 3s\tremaining: 93ms\n",
      "97:\tlearn: 2114.4899260\ttotal: 3.04s\tremaining: 62ms\n",
      "98:\tlearn: 2110.2380585\ttotal: 3.07s\tremaining: 31ms\n",
      "99:\tlearn: 2105.0406496\ttotal: 3.1s\tremaining: 0us\n",
      "0:\tlearn: 4251.9487763\ttotal: 34.7ms\tremaining: 3.43s\n",
      "1:\tlearn: 4017.9734586\ttotal: 63ms\tremaining: 3.09s\n",
      "2:\tlearn: 3809.0963433\ttotal: 99ms\tremaining: 3.2s\n",
      "3:\tlearn: 3610.1393479\ttotal: 127ms\tremaining: 3.06s\n",
      "4:\tlearn: 3451.5038421\ttotal: 157ms\tremaining: 2.98s\n",
      "5:\tlearn: 3309.0919350\ttotal: 191ms\tremaining: 3s\n",
      "6:\tlearn: 3175.2812958\ttotal: 224ms\tremaining: 2.97s\n",
      "7:\tlearn: 3050.0295047\ttotal: 255ms\tremaining: 2.93s\n",
      "8:\tlearn: 2941.1631799\ttotal: 284ms\tremaining: 2.87s\n",
      "9:\tlearn: 2847.4496385\ttotal: 312ms\tremaining: 2.81s\n",
      "10:\tlearn: 2768.3643265\ttotal: 346ms\tremaining: 2.8s\n",
      "11:\tlearn: 2698.6716069\ttotal: 377ms\tremaining: 2.76s\n",
      "12:\tlearn: 2631.8138291\ttotal: 408ms\tremaining: 2.73s\n",
      "13:\tlearn: 2567.6910287\ttotal: 437ms\tremaining: 2.69s\n",
      "14:\tlearn: 2512.0392981\ttotal: 467ms\tremaining: 2.64s\n",
      "15:\tlearn: 2465.4857706\ttotal: 495ms\tremaining: 2.6s\n",
      "16:\tlearn: 2420.8138088\ttotal: 523ms\tremaining: 2.55s\n",
      "17:\tlearn: 2383.7996668\ttotal: 552ms\tremaining: 2.52s\n",
      "18:\tlearn: 2345.9491908\ttotal: 580ms\tremaining: 2.47s\n",
      "19:\tlearn: 2313.0915076\ttotal: 608ms\tremaining: 2.43s\n",
      "20:\tlearn: 2279.2742565\ttotal: 638ms\tremaining: 2.4s\n",
      "21:\tlearn: 2249.0483443\ttotal: 669ms\tremaining: 2.37s\n",
      "22:\tlearn: 2222.6896828\ttotal: 698ms\tremaining: 2.34s\n",
      "23:\tlearn: 2196.9735878\ttotal: 730ms\tremaining: 2.31s\n",
      "24:\tlearn: 2173.5909254\ttotal: 758ms\tremaining: 2.27s\n",
      "25:\tlearn: 2148.8998614\ttotal: 789ms\tremaining: 2.24s\n",
      "26:\tlearn: 2128.7552156\ttotal: 817ms\tremaining: 2.21s\n",
      "27:\tlearn: 2111.8796567\ttotal: 846ms\tremaining: 2.17s\n",
      "28:\tlearn: 2095.7359582\ttotal: 874ms\tremaining: 2.14s\n",
      "29:\tlearn: 2078.0377843\ttotal: 904ms\tremaining: 2.11s\n",
      "30:\tlearn: 2065.2631691\ttotal: 933ms\tremaining: 2.08s\n",
      "31:\tlearn: 2050.6475831\ttotal: 962ms\tremaining: 2.04s\n",
      "32:\tlearn: 2038.6810433\ttotal: 991ms\tremaining: 2.01s\n",
      "33:\tlearn: 2028.8775268\ttotal: 1.02s\tremaining: 1.98s\n",
      "34:\tlearn: 2019.8463724\ttotal: 1.05s\tremaining: 1.94s\n",
      "35:\tlearn: 2011.7745618\ttotal: 1.07s\tremaining: 1.91s\n",
      "36:\tlearn: 2004.1491476\ttotal: 1.1s\tremaining: 1.88s\n",
      "37:\tlearn: 1998.0168363\ttotal: 1.13s\tremaining: 1.85s\n",
      "38:\tlearn: 1989.0508943\ttotal: 1.16s\tremaining: 1.82s\n",
      "39:\tlearn: 1979.9887001\ttotal: 1.19s\tremaining: 1.78s\n",
      "40:\tlearn: 1971.4757484\ttotal: 1.22s\tremaining: 1.75s\n",
      "41:\tlearn: 1966.7553452\ttotal: 1.24s\tremaining: 1.72s\n",
      "42:\tlearn: 1958.1277660\ttotal: 1.27s\tremaining: 1.68s\n",
      "43:\tlearn: 1951.6555044\ttotal: 1.3s\tremaining: 1.65s\n",
      "44:\tlearn: 1944.9557137\ttotal: 1.33s\tremaining: 1.62s\n",
      "45:\tlearn: 1939.9305210\ttotal: 1.36s\tremaining: 1.59s\n",
      "46:\tlearn: 1933.9037669\ttotal: 1.39s\tremaining: 1.56s\n",
      "47:\tlearn: 1928.3480226\ttotal: 1.41s\tremaining: 1.53s\n",
      "48:\tlearn: 1923.3305256\ttotal: 1.44s\tremaining: 1.5s\n",
      "49:\tlearn: 1919.2545080\ttotal: 1.47s\tremaining: 1.47s\n",
      "50:\tlearn: 1914.9509168\ttotal: 1.5s\tremaining: 1.44s\n",
      "51:\tlearn: 1910.3808085\ttotal: 1.53s\tremaining: 1.41s\n",
      "52:\tlearn: 1906.1770084\ttotal: 1.55s\tremaining: 1.38s\n",
      "53:\tlearn: 1903.7305885\ttotal: 1.58s\tremaining: 1.35s\n",
      "54:\tlearn: 1901.5165517\ttotal: 1.61s\tremaining: 1.32s\n",
      "55:\tlearn: 1898.1823837\ttotal: 1.64s\tremaining: 1.29s\n",
      "56:\tlearn: 1894.1336875\ttotal: 1.67s\tremaining: 1.26s\n",
      "57:\tlearn: 1891.7354258\ttotal: 1.7s\tremaining: 1.23s\n",
      "58:\tlearn: 1887.4242078\ttotal: 1.72s\tremaining: 1.2s\n",
      "59:\tlearn: 1884.2437345\ttotal: 1.75s\tremaining: 1.17s\n",
      "60:\tlearn: 1880.8146286\ttotal: 1.78s\tremaining: 1.14s\n",
      "61:\tlearn: 1876.9954755\ttotal: 1.81s\tremaining: 1.11s\n",
      "62:\tlearn: 1874.1587717\ttotal: 1.83s\tremaining: 1.08s\n",
      "63:\tlearn: 1872.4382956\ttotal: 1.86s\tremaining: 1.05s\n",
      "64:\tlearn: 1870.5348691\ttotal: 1.89s\tremaining: 1.02s\n",
      "65:\tlearn: 1868.2338947\ttotal: 1.91s\tremaining: 986ms\n",
      "66:\tlearn: 1863.0962918\ttotal: 1.94s\tremaining: 956ms\n",
      "67:\tlearn: 1859.4626504\ttotal: 1.97s\tremaining: 927ms\n",
      "68:\tlearn: 1854.8200817\ttotal: 2s\tremaining: 897ms\n",
      "69:\tlearn: 1851.5051436\ttotal: 2.02s\tremaining: 867ms\n",
      "70:\tlearn: 1849.6420268\ttotal: 2.05s\tremaining: 838ms\n",
      "71:\tlearn: 1847.2748279\ttotal: 2.08s\tremaining: 808ms\n",
      "72:\tlearn: 1844.2969103\ttotal: 2.11s\tremaining: 779ms\n",
      "73:\tlearn: 1841.8503263\ttotal: 2.13s\tremaining: 750ms\n",
      "74:\tlearn: 1839.4001968\ttotal: 2.16s\tremaining: 721ms\n",
      "75:\tlearn: 1837.8418296\ttotal: 2.19s\tremaining: 693ms\n",
      "76:\tlearn: 1836.0905054\ttotal: 2.22s\tremaining: 664ms\n",
      "77:\tlearn: 1834.4569097\ttotal: 2.25s\tremaining: 635ms\n",
      "78:\tlearn: 1832.8837898\ttotal: 2.28s\tremaining: 606ms\n",
      "79:\tlearn: 1831.3739104\ttotal: 2.31s\tremaining: 577ms\n",
      "80:\tlearn: 1828.3307859\ttotal: 2.33s\tremaining: 548ms\n",
      "81:\tlearn: 1825.0656188\ttotal: 2.37s\tremaining: 521ms\n",
      "82:\tlearn: 1822.8418563\ttotal: 2.4s\tremaining: 492ms\n",
      "83:\tlearn: 1820.7884705\ttotal: 2.43s\tremaining: 463ms\n",
      "84:\tlearn: 1818.2898676\ttotal: 2.46s\tremaining: 434ms\n",
      "85:\tlearn: 1816.0540863\ttotal: 2.49s\tremaining: 405ms\n",
      "86:\tlearn: 1814.5699246\ttotal: 2.52s\tremaining: 376ms\n",
      "87:\tlearn: 1812.7765409\ttotal: 2.54s\tremaining: 347ms\n",
      "88:\tlearn: 1810.9352613\ttotal: 2.57s\tremaining: 318ms\n",
      "89:\tlearn: 1809.1779580\ttotal: 2.61s\tremaining: 290ms\n",
      "90:\tlearn: 1806.6677915\ttotal: 2.63s\tremaining: 261ms\n",
      "91:\tlearn: 1805.1365883\ttotal: 2.66s\tremaining: 231ms\n",
      "92:\tlearn: 1803.0577569\ttotal: 2.69s\tremaining: 202ms\n",
      "93:\tlearn: 1801.8805226\ttotal: 2.72s\tremaining: 173ms\n",
      "94:\tlearn: 1800.3331542\ttotal: 2.75s\tremaining: 145ms\n",
      "95:\tlearn: 1798.7810595\ttotal: 2.78s\tremaining: 116ms\n",
      "96:\tlearn: 1797.5541476\ttotal: 2.81s\tremaining: 86.8ms\n",
      "97:\tlearn: 1796.3492345\ttotal: 2.83s\tremaining: 57.8ms\n",
      "98:\tlearn: 1794.8640336\ttotal: 2.86s\tremaining: 28.9ms\n",
      "99:\tlearn: 1793.5813898\ttotal: 2.89s\tremaining: 0us\n",
      "0:\tlearn: 4273.9771589\ttotal: 45.4ms\tremaining: 4.49s\n",
      "1:\tlearn: 4040.0367642\ttotal: 79.9ms\tremaining: 3.91s\n",
      "2:\tlearn: 3831.4917951\ttotal: 129ms\tremaining: 4.18s\n",
      "3:\tlearn: 3632.1642142\ttotal: 164ms\tremaining: 3.94s\n",
      "4:\tlearn: 3470.6224216\ttotal: 197ms\tremaining: 3.75s\n",
      "5:\tlearn: 3325.9187721\ttotal: 238ms\tremaining: 3.73s\n",
      "6:\tlearn: 3187.4551932\ttotal: 271ms\tremaining: 3.6s\n",
      "7:\tlearn: 3063.1566944\ttotal: 307ms\tremaining: 3.53s\n",
      "8:\tlearn: 2956.3352157\ttotal: 337ms\tremaining: 3.41s\n",
      "9:\tlearn: 2862.9822141\ttotal: 366ms\tremaining: 3.29s\n",
      "10:\tlearn: 2781.4933885\ttotal: 395ms\tremaining: 3.2s\n",
      "11:\tlearn: 2711.5774426\ttotal: 422ms\tremaining: 3.1s\n",
      "12:\tlearn: 2647.9001752\ttotal: 451ms\tremaining: 3.01s\n",
      "13:\tlearn: 2582.0285102\ttotal: 480ms\tremaining: 2.95s\n",
      "14:\tlearn: 2527.1122923\ttotal: 510ms\tremaining: 2.89s\n",
      "15:\tlearn: 2475.3660475\ttotal: 537ms\tremaining: 2.82s\n",
      "16:\tlearn: 2430.5693483\ttotal: 564ms\tremaining: 2.75s\n",
      "17:\tlearn: 2388.9056123\ttotal: 591ms\tremaining: 2.69s\n",
      "18:\tlearn: 2353.8179841\ttotal: 617ms\tremaining: 2.63s\n",
      "19:\tlearn: 2318.4450573\ttotal: 644ms\tremaining: 2.57s\n",
      "20:\tlearn: 2288.7960328\ttotal: 670ms\tremaining: 2.52s\n",
      "21:\tlearn: 2261.9588460\ttotal: 699ms\tremaining: 2.48s\n",
      "22:\tlearn: 2230.5854440\ttotal: 729ms\tremaining: 2.44s\n",
      "23:\tlearn: 2207.6293118\ttotal: 755ms\tremaining: 2.39s\n",
      "24:\tlearn: 2182.1617291\ttotal: 782ms\tremaining: 2.35s\n",
      "25:\tlearn: 2159.1554068\ttotal: 809ms\tremaining: 2.3s\n",
      "26:\tlearn: 2141.6912006\ttotal: 837ms\tremaining: 2.26s\n",
      "27:\tlearn: 2121.8111477\ttotal: 863ms\tremaining: 2.22s\n",
      "28:\tlearn: 2104.9946255\ttotal: 891ms\tremaining: 2.18s\n",
      "29:\tlearn: 2089.8790562\ttotal: 919ms\tremaining: 2.14s\n",
      "30:\tlearn: 2076.8992882\ttotal: 947ms\tremaining: 2.11s\n",
      "31:\tlearn: 2066.1236394\ttotal: 974ms\tremaining: 2.07s\n",
      "32:\tlearn: 2056.0974854\ttotal: 1s\tremaining: 2.03s\n",
      "33:\tlearn: 2044.3425467\ttotal: 1.03s\tremaining: 1.99s\n",
      "34:\tlearn: 2033.2458801\ttotal: 1.05s\tremaining: 1.96s\n",
      "35:\tlearn: 2023.6626839\ttotal: 1.08s\tremaining: 1.92s\n",
      "36:\tlearn: 2013.5980250\ttotal: 1.11s\tremaining: 1.89s\n",
      "37:\tlearn: 2004.2621049\ttotal: 1.14s\tremaining: 1.85s\n",
      "38:\tlearn: 1997.2987748\ttotal: 1.16s\tremaining: 1.82s\n",
      "39:\tlearn: 1988.9195326\ttotal: 1.19s\tremaining: 1.79s\n",
      "40:\tlearn: 1981.7373750\ttotal: 1.22s\tremaining: 1.76s\n",
      "41:\tlearn: 1974.6039435\ttotal: 1.25s\tremaining: 1.72s\n",
      "42:\tlearn: 1968.0040165\ttotal: 1.28s\tremaining: 1.69s\n",
      "43:\tlearn: 1961.2354394\ttotal: 1.3s\tremaining: 1.66s\n",
      "44:\tlearn: 1955.6844790\ttotal: 1.33s\tremaining: 1.63s\n",
      "45:\tlearn: 1947.9464897\ttotal: 1.36s\tremaining: 1.59s\n",
      "46:\tlearn: 1942.3869098\ttotal: 1.39s\tremaining: 1.56s\n",
      "47:\tlearn: 1938.3983585\ttotal: 1.42s\tremaining: 1.53s\n",
      "48:\tlearn: 1934.3431525\ttotal: 1.44s\tremaining: 1.5s\n",
      "49:\tlearn: 1929.1809886\ttotal: 1.48s\tremaining: 1.48s\n",
      "50:\tlearn: 1925.6619212\ttotal: 1.5s\tremaining: 1.44s\n",
      "51:\tlearn: 1920.2779395\ttotal: 1.53s\tremaining: 1.41s\n",
      "52:\tlearn: 1915.5706728\ttotal: 1.56s\tremaining: 1.38s\n",
      "53:\tlearn: 1912.7578300\ttotal: 1.59s\tremaining: 1.35s\n",
      "54:\tlearn: 1910.1358905\ttotal: 1.61s\tremaining: 1.32s\n",
      "55:\tlearn: 1906.9342210\ttotal: 1.64s\tremaining: 1.29s\n",
      "56:\tlearn: 1903.2746075\ttotal: 1.67s\tremaining: 1.26s\n",
      "57:\tlearn: 1901.0092629\ttotal: 1.7s\tremaining: 1.23s\n",
      "58:\tlearn: 1897.6306978\ttotal: 1.73s\tremaining: 1.2s\n",
      "59:\tlearn: 1895.2074324\ttotal: 1.75s\tremaining: 1.17s\n",
      "60:\tlearn: 1891.2440287\ttotal: 1.78s\tremaining: 1.14s\n",
      "61:\tlearn: 1888.9679256\ttotal: 1.81s\tremaining: 1.11s\n",
      "62:\tlearn: 1886.7040441\ttotal: 1.84s\tremaining: 1.08s\n",
      "63:\tlearn: 1883.8523931\ttotal: 1.87s\tremaining: 1.05s\n",
      "64:\tlearn: 1879.1760415\ttotal: 1.89s\tremaining: 1.02s\n",
      "65:\tlearn: 1873.2140482\ttotal: 1.92s\tremaining: 989ms\n",
      "66:\tlearn: 1869.8084338\ttotal: 1.95s\tremaining: 959ms\n",
      "67:\tlearn: 1865.7792189\ttotal: 1.97s\tremaining: 928ms\n",
      "68:\tlearn: 1862.6875432\ttotal: 2s\tremaining: 899ms\n",
      "69:\tlearn: 1861.2571892\ttotal: 2.03s\tremaining: 869ms\n",
      "70:\tlearn: 1858.9680515\ttotal: 2.05s\tremaining: 839ms\n",
      "71:\tlearn: 1857.0287499\ttotal: 2.08s\tremaining: 810ms\n",
      "72:\tlearn: 1854.3180972\ttotal: 2.11s\tremaining: 780ms\n",
      "73:\tlearn: 1852.8638252\ttotal: 2.14s\tremaining: 751ms\n",
      "74:\tlearn: 1850.1666619\ttotal: 2.16s\tremaining: 721ms\n",
      "75:\tlearn: 1846.6918310\ttotal: 2.19s\tremaining: 692ms\n",
      "76:\tlearn: 1844.4511151\ttotal: 2.22s\tremaining: 662ms\n",
      "77:\tlearn: 1842.0320643\ttotal: 2.24s\tremaining: 633ms\n",
      "78:\tlearn: 1840.4344257\ttotal: 2.27s\tremaining: 604ms\n",
      "79:\tlearn: 1839.1086066\ttotal: 2.3s\tremaining: 575ms\n",
      "80:\tlearn: 1836.9892124\ttotal: 2.33s\tremaining: 546ms\n",
      "81:\tlearn: 1834.7423858\ttotal: 2.35s\tremaining: 517ms\n",
      "82:\tlearn: 1833.2710467\ttotal: 2.38s\tremaining: 488ms\n",
      "83:\tlearn: 1831.0847037\ttotal: 2.41s\tremaining: 459ms\n",
      "84:\tlearn: 1829.6422703\ttotal: 2.44s\tremaining: 430ms\n",
      "85:\tlearn: 1827.4847143\ttotal: 2.47s\tremaining: 402ms\n",
      "86:\tlearn: 1825.9026287\ttotal: 2.5s\tremaining: 373ms\n",
      "87:\tlearn: 1824.7637180\ttotal: 2.52s\tremaining: 344ms\n",
      "88:\tlearn: 1822.8304245\ttotal: 2.55s\tremaining: 315ms\n",
      "89:\tlearn: 1821.1223114\ttotal: 2.58s\tremaining: 286ms\n",
      "90:\tlearn: 1819.9376816\ttotal: 2.6s\tremaining: 258ms\n",
      "91:\tlearn: 1818.9116871\ttotal: 2.63s\tremaining: 229ms\n",
      "92:\tlearn: 1816.9540428\ttotal: 2.66s\tremaining: 200ms\n",
      "93:\tlearn: 1815.4544985\ttotal: 2.68s\tremaining: 171ms\n",
      "94:\tlearn: 1814.4535850\ttotal: 2.71s\tremaining: 143ms\n",
      "95:\tlearn: 1812.7973807\ttotal: 2.74s\tremaining: 114ms\n",
      "96:\tlearn: 1810.7655018\ttotal: 2.76s\tremaining: 85.5ms\n",
      "97:\tlearn: 1809.3264656\ttotal: 2.79s\tremaining: 57ms\n",
      "98:\tlearn: 1807.8764053\ttotal: 2.83s\tremaining: 28.6ms\n",
      "99:\tlearn: 1805.3927147\ttotal: 2.86s\tremaining: 0us\n",
      "0:\tlearn: 4264.7711023\ttotal: 35.3ms\tremaining: 3.49s\n",
      "1:\tlearn: 4028.2442648\ttotal: 62.9ms\tremaining: 3.08s\n",
      "2:\tlearn: 3819.5127691\ttotal: 96.5ms\tremaining: 3.12s\n",
      "3:\tlearn: 3621.3205671\ttotal: 125ms\tremaining: 3s\n",
      "4:\tlearn: 3462.0933159\ttotal: 153ms\tremaining: 2.91s\n",
      "5:\tlearn: 3317.9289310\ttotal: 186ms\tremaining: 2.91s\n",
      "6:\tlearn: 3186.3338541\ttotal: 213ms\tremaining: 2.83s\n",
      "7:\tlearn: 3061.7852671\ttotal: 241ms\tremaining: 2.78s\n",
      "8:\tlearn: 2950.1843748\ttotal: 271ms\tremaining: 2.74s\n",
      "9:\tlearn: 2852.5814194\ttotal: 299ms\tremaining: 2.69s\n",
      "10:\tlearn: 2770.7844187\ttotal: 327ms\tremaining: 2.65s\n",
      "11:\tlearn: 2702.7679053\ttotal: 355ms\tremaining: 2.6s\n",
      "12:\tlearn: 2640.6409612\ttotal: 386ms\tremaining: 2.58s\n",
      "13:\tlearn: 2580.6851575\ttotal: 414ms\tremaining: 2.54s\n",
      "14:\tlearn: 2524.5884023\ttotal: 444ms\tremaining: 2.51s\n",
      "15:\tlearn: 2471.1843021\ttotal: 472ms\tremaining: 2.48s\n",
      "16:\tlearn: 2430.5629597\ttotal: 502ms\tremaining: 2.45s\n",
      "17:\tlearn: 2393.2557596\ttotal: 530ms\tremaining: 2.42s\n",
      "18:\tlearn: 2357.2662555\ttotal: 557ms\tremaining: 2.38s\n",
      "19:\tlearn: 2318.9634166\ttotal: 586ms\tremaining: 2.34s\n",
      "20:\tlearn: 2286.7889409\ttotal: 619ms\tremaining: 2.33s\n",
      "21:\tlearn: 2255.9424414\ttotal: 652ms\tremaining: 2.31s\n",
      "22:\tlearn: 2229.7149811\ttotal: 704ms\tremaining: 2.36s\n",
      "23:\tlearn: 2202.8719216\ttotal: 743ms\tremaining: 2.35s\n",
      "24:\tlearn: 2179.2808126\ttotal: 776ms\tremaining: 2.33s\n",
      "25:\tlearn: 2159.6894335\ttotal: 808ms\tremaining: 2.3s\n",
      "26:\tlearn: 2138.8234333\ttotal: 844ms\tremaining: 2.28s\n",
      "27:\tlearn: 2119.4381005\ttotal: 884ms\tremaining: 2.27s\n",
      "28:\tlearn: 2103.1869523\ttotal: 919ms\tremaining: 2.25s\n",
      "29:\tlearn: 2084.6626992\ttotal: 954ms\tremaining: 2.23s\n",
      "30:\tlearn: 2068.6240547\ttotal: 989ms\tremaining: 2.2s\n",
      "31:\tlearn: 2054.3175283\ttotal: 1.02s\tremaining: 2.18s\n",
      "32:\tlearn: 2040.3119343\ttotal: 1.06s\tremaining: 2.15s\n",
      "33:\tlearn: 2030.5167358\ttotal: 1.09s\tremaining: 2.12s\n",
      "34:\tlearn: 2019.2655962\ttotal: 1.13s\tremaining: 2.09s\n",
      "35:\tlearn: 2010.9834043\ttotal: 1.16s\tremaining: 2.06s\n",
      "36:\tlearn: 2001.9327773\ttotal: 1.19s\tremaining: 2.03s\n",
      "37:\tlearn: 1991.8878392\ttotal: 1.23s\tremaining: 2s\n",
      "38:\tlearn: 1984.0631482\ttotal: 1.26s\tremaining: 1.97s\n",
      "39:\tlearn: 1975.2998075\ttotal: 1.29s\tremaining: 1.94s\n",
      "40:\tlearn: 1970.1194860\ttotal: 1.32s\tremaining: 1.91s\n",
      "41:\tlearn: 1962.9947011\ttotal: 1.36s\tremaining: 1.88s\n",
      "42:\tlearn: 1957.1773117\ttotal: 1.39s\tremaining: 1.84s\n",
      "43:\tlearn: 1952.6128334\ttotal: 1.43s\tremaining: 1.82s\n",
      "44:\tlearn: 1946.0416017\ttotal: 1.46s\tremaining: 1.78s\n",
      "45:\tlearn: 1941.2531470\ttotal: 1.49s\tremaining: 1.75s\n",
      "46:\tlearn: 1936.0644259\ttotal: 1.52s\tremaining: 1.72s\n",
      "47:\tlearn: 1929.7804688\ttotal: 1.56s\tremaining: 1.69s\n",
      "48:\tlearn: 1924.1642667\ttotal: 1.59s\tremaining: 1.66s\n",
      "49:\tlearn: 1920.8138482\ttotal: 1.62s\tremaining: 1.62s\n",
      "50:\tlearn: 1917.3360068\ttotal: 1.65s\tremaining: 1.58s\n",
      "51:\tlearn: 1912.7945549\ttotal: 1.68s\tremaining: 1.55s\n",
      "52:\tlearn: 1907.8855718\ttotal: 1.7s\tremaining: 1.51s\n",
      "53:\tlearn: 1904.3208148\ttotal: 1.73s\tremaining: 1.48s\n",
      "54:\tlearn: 1901.5666701\ttotal: 1.76s\tremaining: 1.44s\n",
      "55:\tlearn: 1897.7880379\ttotal: 1.79s\tremaining: 1.4s\n",
      "56:\tlearn: 1894.6090479\ttotal: 1.81s\tremaining: 1.37s\n",
      "57:\tlearn: 1890.3313093\ttotal: 1.84s\tremaining: 1.33s\n",
      "58:\tlearn: 1887.8094629\ttotal: 1.87s\tremaining: 1.3s\n",
      "59:\tlearn: 1885.1939494\ttotal: 1.9s\tremaining: 1.27s\n",
      "60:\tlearn: 1881.2360460\ttotal: 1.93s\tremaining: 1.24s\n",
      "61:\tlearn: 1877.1470902\ttotal: 1.97s\tremaining: 1.2s\n",
      "62:\tlearn: 1874.2908897\ttotal: 1.99s\tremaining: 1.17s\n",
      "63:\tlearn: 1871.4364029\ttotal: 2.02s\tremaining: 1.14s\n",
      "64:\tlearn: 1868.7679287\ttotal: 2.05s\tremaining: 1.1s\n",
      "65:\tlearn: 1865.8742289\ttotal: 2.08s\tremaining: 1.07s\n",
      "66:\tlearn: 1863.4400759\ttotal: 2.1s\tremaining: 1.04s\n",
      "67:\tlearn: 1862.0381461\ttotal: 2.13s\tremaining: 1s\n",
      "68:\tlearn: 1859.2806994\ttotal: 2.17s\tremaining: 973ms\n",
      "69:\tlearn: 1857.6279817\ttotal: 2.19s\tremaining: 940ms\n",
      "70:\tlearn: 1855.3470864\ttotal: 2.22s\tremaining: 907ms\n",
      "71:\tlearn: 1854.1986147\ttotal: 2.25s\tremaining: 875ms\n",
      "72:\tlearn: 1849.8581868\ttotal: 2.28s\tremaining: 842ms\n",
      "73:\tlearn: 1844.8192242\ttotal: 2.3s\tremaining: 810ms\n",
      "74:\tlearn: 1842.1566260\ttotal: 2.33s\tremaining: 777ms\n",
      "75:\tlearn: 1838.0495045\ttotal: 2.36s\tremaining: 745ms\n",
      "76:\tlearn: 1834.6474841\ttotal: 2.38s\tremaining: 712ms\n",
      "77:\tlearn: 1832.7433909\ttotal: 2.41s\tremaining: 681ms\n",
      "78:\tlearn: 1829.7865822\ttotal: 2.44s\tremaining: 649ms\n",
      "79:\tlearn: 1828.3893283\ttotal: 2.47s\tremaining: 618ms\n",
      "80:\tlearn: 1826.8565520\ttotal: 2.5s\tremaining: 587ms\n",
      "81:\tlearn: 1824.5748291\ttotal: 2.54s\tremaining: 557ms\n",
      "82:\tlearn: 1821.9937131\ttotal: 2.56s\tremaining: 525ms\n",
      "83:\tlearn: 1819.5986006\ttotal: 2.6s\tremaining: 495ms\n",
      "84:\tlearn: 1818.1074214\ttotal: 2.63s\tremaining: 463ms\n",
      "85:\tlearn: 1816.0276324\ttotal: 2.66s\tremaining: 432ms\n",
      "86:\tlearn: 1814.3043353\ttotal: 2.69s\tremaining: 402ms\n",
      "87:\tlearn: 1812.9131089\ttotal: 2.72s\tremaining: 371ms\n",
      "88:\tlearn: 1810.8988339\ttotal: 2.75s\tremaining: 340ms\n",
      "89:\tlearn: 1809.8409506\ttotal: 2.78s\tremaining: 309ms\n",
      "90:\tlearn: 1808.6700371\ttotal: 2.81s\tremaining: 278ms\n",
      "91:\tlearn: 1807.1429657\ttotal: 2.84s\tremaining: 247ms\n",
      "92:\tlearn: 1805.7304367\ttotal: 2.87s\tremaining: 216ms\n",
      "93:\tlearn: 1804.6797455\ttotal: 2.9s\tremaining: 185ms\n",
      "94:\tlearn: 1802.7365495\ttotal: 2.93s\tremaining: 154ms\n",
      "95:\tlearn: 1801.3835690\ttotal: 2.97s\tremaining: 124ms\n",
      "96:\tlearn: 1799.9609823\ttotal: 3s\tremaining: 92.8ms\n",
      "97:\tlearn: 1798.4948978\ttotal: 3.03s\tremaining: 61.9ms\n",
      "98:\tlearn: 1797.0776946\ttotal: 3.06s\tremaining: 30.9ms\n",
      "99:\tlearn: 1796.2923878\ttotal: 3.09s\tremaining: 0us\n",
      "0:\tlearn: 4269.2127076\ttotal: 35.2ms\tremaining: 3.48s\n",
      "1:\tlearn: 4036.0032400\ttotal: 65.2ms\tremaining: 3.19s\n",
      "2:\tlearn: 3825.8762737\ttotal: 106ms\tremaining: 3.43s\n",
      "3:\tlearn: 3623.6955383\ttotal: 136ms\tremaining: 3.25s\n",
      "4:\tlearn: 3460.2183773\ttotal: 166ms\tremaining: 3.15s\n",
      "5:\tlearn: 3316.8369460\ttotal: 201ms\tremaining: 3.14s\n",
      "6:\tlearn: 3179.5367739\ttotal: 233ms\tremaining: 3.1s\n",
      "7:\tlearn: 3054.9727424\ttotal: 264ms\tremaining: 3.03s\n",
      "8:\tlearn: 2944.0232721\ttotal: 291ms\tremaining: 2.95s\n",
      "9:\tlearn: 2853.9220151\ttotal: 321ms\tremaining: 2.89s\n",
      "10:\tlearn: 2772.5584759\ttotal: 349ms\tremaining: 2.83s\n",
      "11:\tlearn: 2695.8320339\ttotal: 377ms\tremaining: 2.76s\n",
      "12:\tlearn: 2637.4841061\ttotal: 404ms\tremaining: 2.71s\n",
      "13:\tlearn: 2579.1042626\ttotal: 433ms\tremaining: 2.66s\n",
      "14:\tlearn: 2520.6047792\ttotal: 462ms\tremaining: 2.62s\n",
      "15:\tlearn: 2468.0435148\ttotal: 491ms\tremaining: 2.58s\n",
      "16:\tlearn: 2419.4181881\ttotal: 524ms\tremaining: 2.56s\n",
      "17:\tlearn: 2381.2317040\ttotal: 552ms\tremaining: 2.52s\n",
      "18:\tlearn: 2344.7718342\ttotal: 580ms\tremaining: 2.47s\n",
      "19:\tlearn: 2312.1716294\ttotal: 607ms\tremaining: 2.43s\n",
      "20:\tlearn: 2279.3796826\ttotal: 641ms\tremaining: 2.41s\n",
      "21:\tlearn: 2251.2642171\ttotal: 669ms\tremaining: 2.37s\n",
      "22:\tlearn: 2222.8606640\ttotal: 698ms\tremaining: 2.34s\n",
      "23:\tlearn: 2198.7782218\ttotal: 726ms\tremaining: 2.3s\n",
      "24:\tlearn: 2180.0113959\ttotal: 753ms\tremaining: 2.26s\n",
      "25:\tlearn: 2158.5376312\ttotal: 781ms\tremaining: 2.22s\n",
      "26:\tlearn: 2136.7202305\ttotal: 808ms\tremaining: 2.19s\n",
      "27:\tlearn: 2118.2256271\ttotal: 835ms\tremaining: 2.15s\n",
      "28:\tlearn: 2100.8897857\ttotal: 862ms\tremaining: 2.11s\n",
      "29:\tlearn: 2085.3691136\ttotal: 890ms\tremaining: 2.08s\n",
      "30:\tlearn: 2068.7711909\ttotal: 918ms\tremaining: 2.04s\n",
      "31:\tlearn: 2057.1164561\ttotal: 946ms\tremaining: 2.01s\n",
      "32:\tlearn: 2044.6861061\ttotal: 975ms\tremaining: 1.98s\n",
      "33:\tlearn: 2033.3394260\ttotal: 1s\tremaining: 1.95s\n",
      "34:\tlearn: 2021.5961179\ttotal: 1.03s\tremaining: 1.92s\n",
      "35:\tlearn: 2010.5257018\ttotal: 1.06s\tremaining: 1.89s\n",
      "36:\tlearn: 1999.6874188\ttotal: 1.09s\tremaining: 1.86s\n",
      "37:\tlearn: 1990.2781622\ttotal: 1.12s\tremaining: 1.83s\n",
      "38:\tlearn: 1981.2069708\ttotal: 1.15s\tremaining: 1.8s\n",
      "39:\tlearn: 1973.4954369\ttotal: 1.18s\tremaining: 1.77s\n",
      "40:\tlearn: 1966.6361032\ttotal: 1.21s\tremaining: 1.74s\n",
      "41:\tlearn: 1959.6493256\ttotal: 1.24s\tremaining: 1.71s\n",
      "42:\tlearn: 1952.8300105\ttotal: 1.27s\tremaining: 1.68s\n",
      "43:\tlearn: 1947.4587323\ttotal: 1.3s\tremaining: 1.65s\n",
      "44:\tlearn: 1942.6739781\ttotal: 1.33s\tremaining: 1.62s\n",
      "45:\tlearn: 1936.7918174\ttotal: 1.35s\tremaining: 1.59s\n",
      "46:\tlearn: 1932.1192467\ttotal: 1.38s\tremaining: 1.56s\n",
      "47:\tlearn: 1927.4767025\ttotal: 1.41s\tremaining: 1.53s\n",
      "48:\tlearn: 1922.1855964\ttotal: 1.44s\tremaining: 1.5s\n",
      "49:\tlearn: 1917.5566464\ttotal: 1.47s\tremaining: 1.47s\n",
      "50:\tlearn: 1913.8661048\ttotal: 1.5s\tremaining: 1.44s\n",
      "51:\tlearn: 1909.7814041\ttotal: 1.52s\tremaining: 1.41s\n",
      "52:\tlearn: 1906.9759796\ttotal: 1.55s\tremaining: 1.38s\n",
      "53:\tlearn: 1904.5413298\ttotal: 1.58s\tremaining: 1.35s\n",
      "54:\tlearn: 1900.4666419\ttotal: 1.61s\tremaining: 1.32s\n",
      "55:\tlearn: 1896.1622081\ttotal: 1.64s\tremaining: 1.29s\n",
      "56:\tlearn: 1892.4062925\ttotal: 1.67s\tremaining: 1.26s\n",
      "57:\tlearn: 1889.4187412\ttotal: 1.7s\tremaining: 1.23s\n",
      "58:\tlearn: 1886.2322630\ttotal: 1.73s\tremaining: 1.2s\n",
      "59:\tlearn: 1883.9799998\ttotal: 1.75s\tremaining: 1.17s\n",
      "60:\tlearn: 1881.8393640\ttotal: 1.78s\tremaining: 1.14s\n",
      "61:\tlearn: 1877.1573829\ttotal: 1.81s\tremaining: 1.11s\n",
      "62:\tlearn: 1875.4572904\ttotal: 1.84s\tremaining: 1.08s\n",
      "63:\tlearn: 1871.7827707\ttotal: 1.86s\tremaining: 1.05s\n",
      "64:\tlearn: 1869.4159069\ttotal: 1.9s\tremaining: 1.02s\n",
      "65:\tlearn: 1867.3167021\ttotal: 1.92s\tremaining: 990ms\n",
      "66:\tlearn: 1861.3017604\ttotal: 1.95s\tremaining: 960ms\n",
      "67:\tlearn: 1856.3309288\ttotal: 1.98s\tremaining: 930ms\n",
      "68:\tlearn: 1851.4366427\ttotal: 2s\tremaining: 901ms\n",
      "69:\tlearn: 1848.1521768\ttotal: 2.03s\tremaining: 871ms\n",
      "70:\tlearn: 1845.9915849\ttotal: 2.06s\tremaining: 842ms\n",
      "71:\tlearn: 1844.6825080\ttotal: 2.09s\tremaining: 815ms\n",
      "72:\tlearn: 1842.2296308\ttotal: 2.12s\tremaining: 785ms\n",
      "73:\tlearn: 1839.0678395\ttotal: 2.15s\tremaining: 755ms\n",
      "74:\tlearn: 1836.6179503\ttotal: 2.18s\tremaining: 726ms\n",
      "75:\tlearn: 1834.2074318\ttotal: 2.21s\tremaining: 697ms\n",
      "76:\tlearn: 1831.5298697\ttotal: 2.24s\tremaining: 668ms\n",
      "77:\tlearn: 1829.2313189\ttotal: 2.27s\tremaining: 639ms\n",
      "78:\tlearn: 1827.4298889\ttotal: 2.3s\tremaining: 610ms\n",
      "79:\tlearn: 1824.9748818\ttotal: 2.33s\tremaining: 582ms\n",
      "80:\tlearn: 1822.9171732\ttotal: 2.36s\tremaining: 553ms\n",
      "81:\tlearn: 1821.1419342\ttotal: 2.38s\tremaining: 523ms\n",
      "82:\tlearn: 1819.8760674\ttotal: 2.42s\tremaining: 495ms\n",
      "83:\tlearn: 1818.4358623\ttotal: 2.45s\tremaining: 467ms\n",
      "84:\tlearn: 1816.2894311\ttotal: 2.48s\tremaining: 439ms\n",
      "85:\tlearn: 1814.8633252\ttotal: 2.52s\tremaining: 410ms\n",
      "86:\tlearn: 1813.1884738\ttotal: 2.55s\tremaining: 382ms\n",
      "87:\tlearn: 1811.3188563\ttotal: 2.59s\tremaining: 353ms\n",
      "88:\tlearn: 1810.1835128\ttotal: 2.62s\tremaining: 324ms\n",
      "89:\tlearn: 1808.5056186\ttotal: 2.66s\tremaining: 295ms\n",
      "90:\tlearn: 1806.8173414\ttotal: 2.69s\tremaining: 266ms\n",
      "91:\tlearn: 1804.7596160\ttotal: 2.72s\tremaining: 236ms\n",
      "92:\tlearn: 1803.6080466\ttotal: 2.74s\tremaining: 207ms\n",
      "93:\tlearn: 1802.4631891\ttotal: 2.78s\tremaining: 177ms\n",
      "94:\tlearn: 1801.5010743\ttotal: 2.81s\tremaining: 148ms\n",
      "95:\tlearn: 1800.6983183\ttotal: 2.83s\tremaining: 118ms\n",
      "96:\tlearn: 1800.0656824\ttotal: 2.86s\tremaining: 88.4ms\n",
      "97:\tlearn: 1799.1748870\ttotal: 2.88s\tremaining: 58.9ms\n",
      "98:\tlearn: 1797.8788987\ttotal: 2.91s\tremaining: 29.4ms\n",
      "99:\tlearn: 1796.6284209\ttotal: 2.94s\tremaining: 0us\n",
      "0:\tlearn: 4276.5989339\ttotal: 34.6ms\tremaining: 3.43s\n",
      "1:\tlearn: 4034.5245677\ttotal: 69.4ms\tremaining: 3.4s\n",
      "2:\tlearn: 3822.7494204\ttotal: 98.4ms\tremaining: 3.18s\n",
      "3:\tlearn: 3625.4265982\ttotal: 136ms\tremaining: 3.26s\n",
      "4:\tlearn: 3463.5125412\ttotal: 166ms\tremaining: 3.15s\n",
      "5:\tlearn: 3306.5815874\ttotal: 193ms\tremaining: 3.03s\n",
      "6:\tlearn: 3177.2931804\ttotal: 221ms\tremaining: 2.93s\n",
      "7:\tlearn: 3061.3810737\ttotal: 250ms\tremaining: 2.87s\n",
      "8:\tlearn: 2956.0649936\ttotal: 277ms\tremaining: 2.8s\n",
      "9:\tlearn: 2867.1777270\ttotal: 306ms\tremaining: 2.75s\n",
      "10:\tlearn: 2782.5370704\ttotal: 333ms\tremaining: 2.7s\n",
      "11:\tlearn: 2706.7908471\ttotal: 363ms\tremaining: 2.66s\n",
      "12:\tlearn: 2636.7303171\ttotal: 390ms\tremaining: 2.61s\n",
      "13:\tlearn: 2575.5361098\ttotal: 418ms\tremaining: 2.57s\n",
      "14:\tlearn: 2521.3536802\ttotal: 447ms\tremaining: 2.53s\n",
      "15:\tlearn: 2474.0476831\ttotal: 479ms\tremaining: 2.52s\n",
      "16:\tlearn: 2431.8310419\ttotal: 507ms\tremaining: 2.47s\n",
      "17:\tlearn: 2387.5087791\ttotal: 534ms\tremaining: 2.43s\n",
      "18:\tlearn: 2351.8831685\ttotal: 561ms\tremaining: 2.39s\n",
      "19:\tlearn: 2318.1396352\ttotal: 589ms\tremaining: 2.36s\n",
      "20:\tlearn: 2282.7996880\ttotal: 617ms\tremaining: 2.32s\n",
      "21:\tlearn: 2255.2577797\ttotal: 645ms\tremaining: 2.29s\n",
      "22:\tlearn: 2226.5199836\ttotal: 677ms\tremaining: 2.27s\n",
      "23:\tlearn: 2203.6718148\ttotal: 709ms\tremaining: 2.25s\n",
      "24:\tlearn: 2179.1495193\ttotal: 738ms\tremaining: 2.21s\n",
      "25:\tlearn: 2155.3513641\ttotal: 769ms\tremaining: 2.19s\n",
      "26:\tlearn: 2135.9780664\ttotal: 798ms\tremaining: 2.16s\n",
      "27:\tlearn: 2116.3320123\ttotal: 826ms\tremaining: 2.12s\n",
      "28:\tlearn: 2101.2257294\ttotal: 854ms\tremaining: 2.09s\n",
      "29:\tlearn: 2086.7885685\ttotal: 884ms\tremaining: 2.06s\n",
      "30:\tlearn: 2072.9791331\ttotal: 911ms\tremaining: 2.03s\n",
      "31:\tlearn: 2060.6768191\ttotal: 940ms\tremaining: 2s\n",
      "32:\tlearn: 2049.2874201\ttotal: 969ms\tremaining: 1.97s\n",
      "33:\tlearn: 2038.6528830\ttotal: 999ms\tremaining: 1.94s\n",
      "34:\tlearn: 2029.7980997\ttotal: 1.03s\tremaining: 1.91s\n",
      "35:\tlearn: 2019.2216023\ttotal: 1.06s\tremaining: 1.88s\n",
      "36:\tlearn: 2008.8317947\ttotal: 1.09s\tremaining: 1.85s\n",
      "37:\tlearn: 1999.6147419\ttotal: 1.12s\tremaining: 1.83s\n",
      "38:\tlearn: 1991.1442717\ttotal: 1.15s\tremaining: 1.8s\n",
      "39:\tlearn: 1982.8117837\ttotal: 1.18s\tremaining: 1.77s\n",
      "40:\tlearn: 1973.9778780\ttotal: 1.21s\tremaining: 1.74s\n",
      "41:\tlearn: 1967.8752459\ttotal: 1.24s\tremaining: 1.71s\n",
      "42:\tlearn: 1960.9728126\ttotal: 1.27s\tremaining: 1.68s\n",
      "43:\tlearn: 1956.6050001\ttotal: 1.29s\tremaining: 1.65s\n",
      "44:\tlearn: 1952.3539913\ttotal: 1.32s\tremaining: 1.62s\n",
      "45:\tlearn: 1944.9495844\ttotal: 1.35s\tremaining: 1.59s\n",
      "46:\tlearn: 1940.1218930\ttotal: 1.38s\tremaining: 1.56s\n",
      "47:\tlearn: 1935.6069779\ttotal: 1.41s\tremaining: 1.53s\n",
      "48:\tlearn: 1930.6619657\ttotal: 1.44s\tremaining: 1.5s\n",
      "49:\tlearn: 1924.9847734\ttotal: 1.47s\tremaining: 1.47s\n",
      "50:\tlearn: 1920.3975410\ttotal: 1.5s\tremaining: 1.44s\n",
      "51:\tlearn: 1917.4934871\ttotal: 1.53s\tremaining: 1.41s\n",
      "52:\tlearn: 1912.3050483\ttotal: 1.55s\tremaining: 1.38s\n",
      "53:\tlearn: 1909.0040540\ttotal: 1.58s\tremaining: 1.35s\n",
      "54:\tlearn: 1905.0539347\ttotal: 1.61s\tremaining: 1.32s\n",
      "55:\tlearn: 1901.9761907\ttotal: 1.64s\tremaining: 1.29s\n",
      "56:\tlearn: 1899.4808090\ttotal: 1.67s\tremaining: 1.26s\n",
      "57:\tlearn: 1895.9274084\ttotal: 1.7s\tremaining: 1.23s\n",
      "58:\tlearn: 1892.2684498\ttotal: 1.73s\tremaining: 1.2s\n",
      "59:\tlearn: 1890.1985055\ttotal: 1.76s\tremaining: 1.17s\n",
      "60:\tlearn: 1887.5354340\ttotal: 1.78s\tremaining: 1.14s\n",
      "61:\tlearn: 1885.0286256\ttotal: 1.81s\tremaining: 1.11s\n",
      "62:\tlearn: 1882.7456027\ttotal: 1.84s\tremaining: 1.08s\n",
      "63:\tlearn: 1879.0210603\ttotal: 1.87s\tremaining: 1.05s\n",
      "64:\tlearn: 1876.7071871\ttotal: 1.9s\tremaining: 1.02s\n",
      "65:\tlearn: 1874.7609248\ttotal: 1.93s\tremaining: 992ms\n",
      "66:\tlearn: 1872.0440068\ttotal: 1.95s\tremaining: 962ms\n",
      "67:\tlearn: 1869.5312169\ttotal: 1.98s\tremaining: 932ms\n",
      "68:\tlearn: 1866.9772057\ttotal: 2.01s\tremaining: 903ms\n",
      "69:\tlearn: 1864.3001282\ttotal: 2.04s\tremaining: 874ms\n",
      "70:\tlearn: 1862.3030575\ttotal: 2.07s\tremaining: 845ms\n",
      "71:\tlearn: 1860.1990294\ttotal: 2.1s\tremaining: 816ms\n",
      "72:\tlearn: 1855.6085509\ttotal: 2.13s\tremaining: 788ms\n",
      "73:\tlearn: 1853.3395072\ttotal: 2.16s\tremaining: 759ms\n",
      "74:\tlearn: 1850.9779384\ttotal: 2.19s\tremaining: 730ms\n",
      "75:\tlearn: 1849.2373074\ttotal: 2.22s\tremaining: 700ms\n",
      "76:\tlearn: 1848.0726360\ttotal: 2.25s\tremaining: 671ms\n",
      "77:\tlearn: 1846.1647246\ttotal: 2.27s\tremaining: 642ms\n",
      "78:\tlearn: 1844.4262889\ttotal: 2.3s\tremaining: 612ms\n",
      "79:\tlearn: 1843.3772519\ttotal: 2.33s\tremaining: 583ms\n",
      "80:\tlearn: 1841.2088618\ttotal: 2.36s\tremaining: 554ms\n",
      "81:\tlearn: 1839.9976483\ttotal: 2.39s\tremaining: 525ms\n",
      "82:\tlearn: 1838.2775672\ttotal: 2.43s\tremaining: 497ms\n",
      "83:\tlearn: 1836.6717185\ttotal: 2.46s\tremaining: 469ms\n",
      "84:\tlearn: 1834.4831145\ttotal: 2.49s\tremaining: 439ms\n",
      "85:\tlearn: 1833.3685045\ttotal: 2.52s\tremaining: 410ms\n",
      "86:\tlearn: 1832.3153145\ttotal: 2.54s\tremaining: 380ms\n",
      "87:\tlearn: 1831.1219402\ttotal: 2.58s\tremaining: 351ms\n",
      "88:\tlearn: 1829.1142996\ttotal: 2.6s\tremaining: 322ms\n",
      "89:\tlearn: 1827.6230603\ttotal: 2.63s\tremaining: 293ms\n",
      "90:\tlearn: 1826.4658477\ttotal: 2.66s\tremaining: 263ms\n",
      "91:\tlearn: 1824.7429253\ttotal: 2.69s\tremaining: 234ms\n",
      "92:\tlearn: 1823.8665214\ttotal: 2.72s\tremaining: 205ms\n",
      "93:\tlearn: 1820.2137648\ttotal: 2.75s\tremaining: 175ms\n",
      "94:\tlearn: 1818.8966595\ttotal: 2.78s\tremaining: 146ms\n",
      "95:\tlearn: 1817.1892121\ttotal: 2.81s\tremaining: 117ms\n",
      "96:\tlearn: 1816.0608899\ttotal: 2.84s\tremaining: 87.7ms\n",
      "97:\tlearn: 1815.1672177\ttotal: 2.87s\tremaining: 58.5ms\n",
      "98:\tlearn: 1813.3758963\ttotal: 2.89s\tremaining: 29.2ms\n",
      "99:\tlearn: 1811.7081718\ttotal: 2.92s\tremaining: 0us\n",
      "0:\tlearn: 4427.5046718\ttotal: 74.4ms\tremaining: 7.37s\n",
      "1:\tlearn: 4332.3026942\ttotal: 149ms\tremaining: 7.28s\n",
      "2:\tlearn: 4240.1159268\ttotal: 211ms\tremaining: 6.81s\n",
      "3:\tlearn: 4150.1893697\ttotal: 278ms\tremaining: 6.67s\n",
      "4:\tlearn: 4064.5297942\ttotal: 340ms\tremaining: 6.46s\n",
      "5:\tlearn: 3981.7345394\ttotal: 402ms\tremaining: 6.3s\n",
      "6:\tlearn: 3902.5112122\ttotal: 462ms\tremaining: 6.14s\n",
      "7:\tlearn: 3825.9498512\ttotal: 526ms\tremaining: 6.05s\n",
      "8:\tlearn: 3752.6861267\ttotal: 587ms\tremaining: 5.94s\n",
      "9:\tlearn: 3680.0427183\ttotal: 650ms\tremaining: 5.85s\n",
      "10:\tlearn: 3610.0722436\ttotal: 710ms\tremaining: 5.75s\n",
      "11:\tlearn: 3544.4355673\ttotal: 775ms\tremaining: 5.68s\n",
      "12:\tlearn: 3479.2995861\ttotal: 844ms\tremaining: 5.65s\n",
      "13:\tlearn: 3417.4646157\ttotal: 905ms\tremaining: 5.56s\n",
      "14:\tlearn: 3357.0455633\ttotal: 967ms\tremaining: 5.48s\n",
      "15:\tlearn: 3299.9002813\ttotal: 1.03s\tremaining: 5.44s\n",
      "16:\tlearn: 3246.2645466\ttotal: 1.1s\tremaining: 5.37s\n",
      "17:\tlearn: 3191.9641502\ttotal: 1.16s\tremaining: 5.3s\n",
      "18:\tlearn: 3139.9099675\ttotal: 1.23s\tremaining: 5.23s\n",
      "19:\tlearn: 3090.9218436\ttotal: 1.29s\tremaining: 5.15s\n",
      "20:\tlearn: 3043.5327659\ttotal: 1.35s\tremaining: 5.08s\n",
      "21:\tlearn: 2998.1942389\ttotal: 1.41s\tremaining: 5.01s\n",
      "22:\tlearn: 2954.3869165\ttotal: 1.48s\tremaining: 4.94s\n",
      "23:\tlearn: 2912.5775185\ttotal: 1.54s\tremaining: 4.88s\n",
      "24:\tlearn: 2873.3550462\ttotal: 1.61s\tremaining: 4.83s\n",
      "25:\tlearn: 2834.0701622\ttotal: 1.67s\tremaining: 4.75s\n",
      "26:\tlearn: 2796.6104896\ttotal: 1.73s\tremaining: 4.69s\n",
      "27:\tlearn: 2760.7892388\ttotal: 1.8s\tremaining: 4.62s\n",
      "28:\tlearn: 2725.9035140\ttotal: 1.86s\tremaining: 4.55s\n",
      "29:\tlearn: 2691.5011179\ttotal: 1.92s\tremaining: 4.48s\n",
      "30:\tlearn: 2659.3862124\ttotal: 1.98s\tremaining: 4.41s\n",
      "31:\tlearn: 2627.4183023\ttotal: 2.04s\tremaining: 4.34s\n",
      "32:\tlearn: 2598.3750486\ttotal: 2.1s\tremaining: 4.28s\n",
      "33:\tlearn: 2569.0176571\ttotal: 2.17s\tremaining: 4.21s\n",
      "34:\tlearn: 2540.8689582\ttotal: 2.23s\tremaining: 4.14s\n",
      "35:\tlearn: 2514.3802763\ttotal: 2.29s\tremaining: 4.07s\n",
      "36:\tlearn: 2484.8729882\ttotal: 2.35s\tremaining: 4.01s\n",
      "37:\tlearn: 2456.8561372\ttotal: 2.41s\tremaining: 3.94s\n",
      "38:\tlearn: 2428.6650142\ttotal: 2.48s\tremaining: 3.87s\n",
      "39:\tlearn: 2401.9964908\ttotal: 2.54s\tremaining: 3.81s\n",
      "40:\tlearn: 2377.0432793\ttotal: 2.61s\tremaining: 3.75s\n",
      "41:\tlearn: 2352.5891914\ttotal: 2.67s\tremaining: 3.69s\n",
      "42:\tlearn: 2329.8708794\ttotal: 2.73s\tremaining: 3.62s\n",
      "43:\tlearn: 2307.5143096\ttotal: 2.81s\tremaining: 3.57s\n",
      "44:\tlearn: 2286.2260030\ttotal: 2.87s\tremaining: 3.51s\n",
      "45:\tlearn: 2265.3750370\ttotal: 2.93s\tremaining: 3.44s\n",
      "46:\tlearn: 2245.8782817\ttotal: 3s\tremaining: 3.38s\n",
      "47:\tlearn: 2227.7845440\ttotal: 3.06s\tremaining: 3.31s\n",
      "48:\tlearn: 2210.4582366\ttotal: 3.12s\tremaining: 3.25s\n",
      "49:\tlearn: 2193.0734327\ttotal: 3.19s\tremaining: 3.19s\n",
      "50:\tlearn: 2176.3525525\ttotal: 3.25s\tremaining: 3.13s\n",
      "51:\tlearn: 2160.7039394\ttotal: 3.32s\tremaining: 3.07s\n",
      "52:\tlearn: 2145.4963877\ttotal: 3.38s\tremaining: 3s\n",
      "53:\tlearn: 2130.6123541\ttotal: 3.45s\tremaining: 2.94s\n",
      "54:\tlearn: 2116.4221583\ttotal: 3.51s\tremaining: 2.87s\n",
      "55:\tlearn: 2102.9538234\ttotal: 3.58s\tremaining: 2.81s\n",
      "56:\tlearn: 2089.7137325\ttotal: 3.64s\tremaining: 2.75s\n",
      "57:\tlearn: 2077.5457732\ttotal: 3.7s\tremaining: 2.68s\n",
      "58:\tlearn: 2063.0868414\ttotal: 3.76s\tremaining: 2.61s\n",
      "59:\tlearn: 2049.4770638\ttotal: 3.82s\tremaining: 2.55s\n",
      "60:\tlearn: 2036.4824301\ttotal: 3.88s\tremaining: 2.48s\n",
      "61:\tlearn: 2024.6368148\ttotal: 3.95s\tremaining: 2.42s\n",
      "62:\tlearn: 2013.0608113\ttotal: 4.01s\tremaining: 2.35s\n",
      "63:\tlearn: 2001.9976035\ttotal: 4.07s\tremaining: 2.29s\n",
      "64:\tlearn: 1991.5877388\ttotal: 4.13s\tremaining: 2.22s\n",
      "65:\tlearn: 1981.3294993\ttotal: 4.19s\tremaining: 2.16s\n",
      "66:\tlearn: 1971.9223000\ttotal: 4.25s\tremaining: 2.09s\n",
      "67:\tlearn: 1962.5660351\ttotal: 4.31s\tremaining: 2.03s\n",
      "68:\tlearn: 1952.8070414\ttotal: 4.38s\tremaining: 1.97s\n",
      "69:\tlearn: 1944.2379884\ttotal: 4.44s\tremaining: 1.9s\n",
      "70:\tlearn: 1935.5948307\ttotal: 4.5s\tremaining: 1.84s\n",
      "71:\tlearn: 1927.5029071\ttotal: 4.57s\tremaining: 1.77s\n",
      "72:\tlearn: 1919.9855026\ttotal: 4.63s\tremaining: 1.71s\n",
      "73:\tlearn: 1912.9056379\ttotal: 4.69s\tremaining: 1.65s\n",
      "74:\tlearn: 1905.8251110\ttotal: 4.76s\tremaining: 1.59s\n",
      "75:\tlearn: 1898.8979920\ttotal: 4.83s\tremaining: 1.52s\n",
      "76:\tlearn: 1892.0282224\ttotal: 4.89s\tremaining: 1.46s\n",
      "77:\tlearn: 1885.9071675\ttotal: 4.96s\tremaining: 1.4s\n",
      "78:\tlearn: 1879.9876362\ttotal: 5.03s\tremaining: 1.34s\n",
      "79:\tlearn: 1873.9962015\ttotal: 5.1s\tremaining: 1.27s\n",
      "80:\tlearn: 1868.2307661\ttotal: 5.19s\tremaining: 1.22s\n",
      "81:\tlearn: 1862.8638673\ttotal: 5.28s\tremaining: 1.16s\n",
      "82:\tlearn: 1857.2864161\ttotal: 5.36s\tremaining: 1.1s\n",
      "83:\tlearn: 1852.3502843\ttotal: 5.44s\tremaining: 1.03s\n",
      "84:\tlearn: 1847.7516349\ttotal: 5.5s\tremaining: 971ms\n",
      "85:\tlearn: 1843.0824622\ttotal: 5.57s\tremaining: 906ms\n",
      "86:\tlearn: 1838.4986004\ttotal: 5.64s\tremaining: 842ms\n",
      "87:\tlearn: 1834.1496957\ttotal: 5.7s\tremaining: 778ms\n",
      "88:\tlearn: 1830.1733656\ttotal: 5.77s\tremaining: 713ms\n",
      "89:\tlearn: 1826.0558551\ttotal: 5.84s\tremaining: 648ms\n",
      "90:\tlearn: 1822.0975169\ttotal: 5.9s\tremaining: 584ms\n",
      "91:\tlearn: 1817.3094786\ttotal: 5.97s\tremaining: 519ms\n",
      "92:\tlearn: 1812.5132263\ttotal: 6.04s\tremaining: 454ms\n",
      "93:\tlearn: 1807.6513019\ttotal: 6.1s\tremaining: 390ms\n",
      "94:\tlearn: 1803.1317411\ttotal: 6.17s\tremaining: 325ms\n",
      "95:\tlearn: 1798.6582091\ttotal: 6.24s\tremaining: 260ms\n",
      "96:\tlearn: 1794.7670906\ttotal: 6.31s\tremaining: 195ms\n",
      "97:\tlearn: 1790.9072679\ttotal: 6.38s\tremaining: 130ms\n",
      "98:\tlearn: 1787.2206182\ttotal: 6.45s\tremaining: 65.1ms\n",
      "99:\tlearn: 1783.0877118\ttotal: 6.51s\tremaining: 0us\n",
      "0:\tlearn: 4448.5852596\ttotal: 65.6ms\tremaining: 6.49s\n",
      "1:\tlearn: 4352.7235817\ttotal: 129ms\tremaining: 6.34s\n",
      "2:\tlearn: 4260.8851519\ttotal: 192ms\tremaining: 6.2s\n",
      "3:\tlearn: 4171.5422539\ttotal: 251ms\tremaining: 6.03s\n",
      "4:\tlearn: 4086.3275990\ttotal: 314ms\tremaining: 5.96s\n",
      "5:\tlearn: 4002.6829695\ttotal: 382ms\tremaining: 5.98s\n",
      "6:\tlearn: 3922.1257314\ttotal: 441ms\tremaining: 5.86s\n",
      "7:\tlearn: 3842.9542380\ttotal: 511ms\tremaining: 5.88s\n",
      "8:\tlearn: 3768.3298327\ttotal: 571ms\tremaining: 5.78s\n",
      "9:\tlearn: 3696.3532773\ttotal: 631ms\tremaining: 5.68s\n",
      "10:\tlearn: 3625.9946513\ttotal: 691ms\tremaining: 5.59s\n",
      "11:\tlearn: 3559.0164857\ttotal: 751ms\tremaining: 5.51s\n",
      "12:\tlearn: 3494.4061808\ttotal: 811ms\tremaining: 5.43s\n",
      "13:\tlearn: 3430.9533726\ttotal: 873ms\tremaining: 5.36s\n",
      "14:\tlearn: 3371.3500517\ttotal: 933ms\tremaining: 5.29s\n",
      "15:\tlearn: 3313.2739971\ttotal: 993ms\tremaining: 5.21s\n",
      "16:\tlearn: 3258.4305789\ttotal: 1.05s\tremaining: 5.14s\n",
      "17:\tlearn: 3205.0998997\ttotal: 1.12s\tremaining: 5.09s\n",
      "18:\tlearn: 3153.7130603\ttotal: 1.18s\tremaining: 5.02s\n",
      "19:\tlearn: 3103.3907886\ttotal: 1.24s\tremaining: 4.95s\n",
      "20:\tlearn: 3054.6660316\ttotal: 1.3s\tremaining: 4.89s\n",
      "21:\tlearn: 3008.3847253\ttotal: 1.36s\tremaining: 4.82s\n",
      "22:\tlearn: 2964.5843856\ttotal: 1.42s\tremaining: 4.76s\n",
      "23:\tlearn: 2922.1867116\ttotal: 1.48s\tremaining: 4.69s\n",
      "24:\tlearn: 2882.0162149\ttotal: 1.54s\tremaining: 4.64s\n",
      "25:\tlearn: 2842.2664468\ttotal: 1.61s\tremaining: 4.58s\n",
      "26:\tlearn: 2804.5084835\ttotal: 1.67s\tremaining: 4.52s\n",
      "27:\tlearn: 2768.5826926\ttotal: 1.73s\tremaining: 4.45s\n",
      "28:\tlearn: 2734.5284517\ttotal: 1.79s\tremaining: 4.39s\n",
      "29:\tlearn: 2700.8531670\ttotal: 1.85s\tremaining: 4.32s\n",
      "30:\tlearn: 2669.2565455\ttotal: 1.91s\tremaining: 4.25s\n",
      "31:\tlearn: 2638.4800107\ttotal: 1.97s\tremaining: 4.19s\n",
      "32:\tlearn: 2608.9014544\ttotal: 2.04s\tremaining: 4.13s\n",
      "33:\tlearn: 2579.8984480\ttotal: 2.1s\tremaining: 4.07s\n",
      "34:\tlearn: 2548.2194739\ttotal: 2.16s\tremaining: 4.02s\n",
      "35:\tlearn: 2516.4477354\ttotal: 2.23s\tremaining: 3.97s\n",
      "36:\tlearn: 2486.5033474\ttotal: 2.31s\tremaining: 3.94s\n",
      "37:\tlearn: 2458.8871759\ttotal: 2.38s\tremaining: 3.88s\n",
      "38:\tlearn: 2431.5255307\ttotal: 2.44s\tremaining: 3.81s\n",
      "39:\tlearn: 2405.1962748\ttotal: 2.5s\tremaining: 3.76s\n",
      "40:\tlearn: 2380.0538503\ttotal: 2.58s\tremaining: 3.71s\n",
      "41:\tlearn: 2355.9584454\ttotal: 2.64s\tremaining: 3.64s\n",
      "42:\tlearn: 2332.2383738\ttotal: 2.7s\tremaining: 3.58s\n",
      "43:\tlearn: 2309.8234617\ttotal: 2.76s\tremaining: 3.52s\n",
      "44:\tlearn: 2288.6170418\ttotal: 2.83s\tremaining: 3.45s\n",
      "45:\tlearn: 2267.5445654\ttotal: 2.89s\tremaining: 3.39s\n",
      "46:\tlearn: 2247.8752791\ttotal: 2.95s\tremaining: 3.33s\n",
      "47:\tlearn: 2229.6217453\ttotal: 3.01s\tremaining: 3.26s\n",
      "48:\tlearn: 2211.2491759\ttotal: 3.07s\tremaining: 3.2s\n",
      "49:\tlearn: 2193.9950934\ttotal: 3.13s\tremaining: 3.13s\n",
      "50:\tlearn: 2177.8507420\ttotal: 3.19s\tremaining: 3.07s\n",
      "51:\tlearn: 2162.1544325\ttotal: 3.26s\tremaining: 3s\n",
      "52:\tlearn: 2147.3979077\ttotal: 3.32s\tremaining: 2.94s\n",
      "53:\tlearn: 2132.8164889\ttotal: 3.38s\tremaining: 2.88s\n",
      "54:\tlearn: 2118.9162678\ttotal: 3.44s\tremaining: 2.82s\n",
      "55:\tlearn: 2105.5672512\ttotal: 3.5s\tremaining: 2.75s\n",
      "56:\tlearn: 2092.6780170\ttotal: 3.57s\tremaining: 2.69s\n",
      "57:\tlearn: 2079.9203541\ttotal: 3.63s\tremaining: 2.63s\n",
      "58:\tlearn: 2066.9037367\ttotal: 3.69s\tremaining: 2.57s\n",
      "59:\tlearn: 2054.3429319\ttotal: 3.75s\tremaining: 2.5s\n",
      "60:\tlearn: 2041.8893598\ttotal: 3.81s\tremaining: 2.44s\n",
      "61:\tlearn: 2029.6026777\ttotal: 3.87s\tremaining: 2.37s\n",
      "62:\tlearn: 2017.7843935\ttotal: 3.93s\tremaining: 2.31s\n",
      "63:\tlearn: 2006.6419863\ttotal: 3.99s\tremaining: 2.25s\n",
      "64:\tlearn: 1996.0379266\ttotal: 4.05s\tremaining: 2.18s\n",
      "65:\tlearn: 1985.7087082\ttotal: 4.12s\tremaining: 2.12s\n",
      "66:\tlearn: 1976.4804456\ttotal: 4.18s\tremaining: 2.06s\n",
      "67:\tlearn: 1967.0914514\ttotal: 4.25s\tremaining: 2s\n",
      "68:\tlearn: 1957.9372759\ttotal: 4.31s\tremaining: 1.94s\n",
      "69:\tlearn: 1949.4340821\ttotal: 4.38s\tremaining: 1.88s\n",
      "70:\tlearn: 1941.0032262\ttotal: 4.44s\tremaining: 1.81s\n",
      "71:\tlearn: 1932.9906144\ttotal: 4.5s\tremaining: 1.75s\n",
      "72:\tlearn: 1925.0550684\ttotal: 4.57s\tremaining: 1.69s\n",
      "73:\tlearn: 1917.0375106\ttotal: 4.63s\tremaining: 1.63s\n",
      "74:\tlearn: 1910.2074386\ttotal: 4.69s\tremaining: 1.56s\n",
      "75:\tlearn: 1903.0446607\ttotal: 4.75s\tremaining: 1.5s\n",
      "76:\tlearn: 1896.5034822\ttotal: 4.82s\tremaining: 1.44s\n",
      "77:\tlearn: 1890.2857790\ttotal: 4.88s\tremaining: 1.38s\n",
      "78:\tlearn: 1884.4238481\ttotal: 4.94s\tremaining: 1.31s\n",
      "79:\tlearn: 1878.6692015\ttotal: 5s\tremaining: 1.25s\n",
      "80:\tlearn: 1873.2508942\ttotal: 5.07s\tremaining: 1.19s\n",
      "81:\tlearn: 1867.7051784\ttotal: 5.13s\tremaining: 1.13s\n",
      "82:\tlearn: 1862.7082268\ttotal: 5.2s\tremaining: 1.06s\n",
      "83:\tlearn: 1857.3729428\ttotal: 5.26s\tremaining: 1s\n",
      "84:\tlearn: 1852.7338474\ttotal: 5.32s\tremaining: 939ms\n",
      "85:\tlearn: 1848.0404240\ttotal: 5.39s\tremaining: 877ms\n",
      "86:\tlearn: 1843.5539780\ttotal: 5.45s\tremaining: 814ms\n",
      "87:\tlearn: 1838.6245010\ttotal: 5.52s\tremaining: 753ms\n",
      "88:\tlearn: 1833.6198540\ttotal: 5.6s\tremaining: 692ms\n",
      "89:\tlearn: 1828.4240941\ttotal: 5.66s\tremaining: 629ms\n",
      "90:\tlearn: 1822.8308849\ttotal: 5.72s\tremaining: 566ms\n",
      "91:\tlearn: 1817.9184434\ttotal: 5.79s\tremaining: 503ms\n",
      "92:\tlearn: 1813.5211814\ttotal: 5.85s\tremaining: 440ms\n",
      "93:\tlearn: 1808.4577531\ttotal: 5.91s\tremaining: 378ms\n",
      "94:\tlearn: 1804.6792621\ttotal: 5.98s\tremaining: 315ms\n",
      "95:\tlearn: 1800.3500957\ttotal: 6.05s\tremaining: 252ms\n",
      "96:\tlearn: 1796.4710674\ttotal: 6.12s\tremaining: 189ms\n",
      "97:\tlearn: 1792.8124629\ttotal: 6.18s\tremaining: 126ms\n",
      "98:\tlearn: 1788.3743835\ttotal: 6.25s\tremaining: 63.1ms\n",
      "99:\tlearn: 1784.8489409\ttotal: 6.31s\tremaining: 0us\n",
      "0:\tlearn: 4441.3281837\ttotal: 67.6ms\tremaining: 6.69s\n",
      "1:\tlearn: 4345.4858872\ttotal: 137ms\tremaining: 6.71s\n",
      "2:\tlearn: 4252.6507553\ttotal: 202ms\tremaining: 6.54s\n",
      "3:\tlearn: 4163.8058781\ttotal: 276ms\tremaining: 6.62s\n",
      "4:\tlearn: 4078.1955437\ttotal: 337ms\tremaining: 6.41s\n",
      "5:\tlearn: 3995.2158259\ttotal: 412ms\tremaining: 6.45s\n",
      "6:\tlearn: 3914.9439577\ttotal: 495ms\tremaining: 6.57s\n",
      "7:\tlearn: 3837.0520670\ttotal: 572ms\tremaining: 6.58s\n",
      "8:\tlearn: 3762.6888024\ttotal: 641ms\tremaining: 6.48s\n",
      "9:\tlearn: 3690.7728048\ttotal: 710ms\tremaining: 6.39s\n",
      "10:\tlearn: 3620.7205964\ttotal: 792ms\tremaining: 6.41s\n",
      "11:\tlearn: 3553.2904963\ttotal: 916ms\tremaining: 6.72s\n",
      "12:\tlearn: 3488.3506815\ttotal: 1.02s\tremaining: 6.86s\n",
      "13:\tlearn: 3425.7308279\ttotal: 1.16s\tremaining: 7.11s\n",
      "14:\tlearn: 3365.5098138\ttotal: 1.23s\tremaining: 6.99s\n",
      "15:\tlearn: 3308.5192813\ttotal: 1.3s\tremaining: 6.85s\n",
      "16:\tlearn: 3253.6980230\ttotal: 1.37s\tremaining: 6.68s\n",
      "17:\tlearn: 3200.8543243\ttotal: 1.43s\tremaining: 6.53s\n",
      "18:\tlearn: 3149.5003968\ttotal: 1.5s\tremaining: 6.39s\n",
      "19:\tlearn: 3098.7713724\ttotal: 1.56s\tremaining: 6.25s\n",
      "20:\tlearn: 3051.0342294\ttotal: 1.63s\tremaining: 6.12s\n",
      "21:\tlearn: 3005.9595929\ttotal: 1.69s\tremaining: 5.99s\n",
      "22:\tlearn: 2962.4500915\ttotal: 1.76s\tremaining: 5.89s\n",
      "23:\tlearn: 2919.8380974\ttotal: 1.82s\tremaining: 5.77s\n",
      "24:\tlearn: 2878.7783084\ttotal: 1.89s\tremaining: 5.67s\n",
      "25:\tlearn: 2838.7311191\ttotal: 1.95s\tremaining: 5.56s\n",
      "26:\tlearn: 2800.3329742\ttotal: 2.02s\tremaining: 5.46s\n",
      "27:\tlearn: 2765.0170265\ttotal: 2.08s\tremaining: 5.36s\n",
      "28:\tlearn: 2729.9943407\ttotal: 2.15s\tremaining: 5.28s\n",
      "29:\tlearn: 2696.6829901\ttotal: 2.23s\tremaining: 5.19s\n",
      "30:\tlearn: 2664.4276858\ttotal: 2.3s\tremaining: 5.11s\n",
      "31:\tlearn: 2633.7511093\ttotal: 2.36s\tremaining: 5.02s\n",
      "32:\tlearn: 2603.9933815\ttotal: 2.43s\tremaining: 4.93s\n",
      "33:\tlearn: 2575.0345773\ttotal: 2.49s\tremaining: 4.83s\n",
      "34:\tlearn: 2547.1565382\ttotal: 2.56s\tremaining: 4.76s\n",
      "35:\tlearn: 2520.9701570\ttotal: 2.63s\tremaining: 4.67s\n",
      "36:\tlearn: 2495.5083418\ttotal: 2.69s\tremaining: 4.58s\n",
      "37:\tlearn: 2466.8272627\ttotal: 2.76s\tremaining: 4.5s\n",
      "38:\tlearn: 2437.9973384\ttotal: 2.82s\tremaining: 4.42s\n",
      "39:\tlearn: 2411.7402457\ttotal: 2.89s\tremaining: 4.33s\n",
      "40:\tlearn: 2386.0403597\ttotal: 2.96s\tremaining: 4.25s\n",
      "41:\tlearn: 2360.5164550\ttotal: 3.02s\tremaining: 4.17s\n",
      "42:\tlearn: 2337.5861634\ttotal: 3.08s\tremaining: 4.08s\n",
      "43:\tlearn: 2314.9073690\ttotal: 3.14s\tremaining: 4s\n",
      "44:\tlearn: 2293.1943760\ttotal: 3.21s\tremaining: 3.92s\n",
      "45:\tlearn: 2272.1460106\ttotal: 3.27s\tremaining: 3.84s\n",
      "46:\tlearn: 2252.0164074\ttotal: 3.33s\tremaining: 3.76s\n",
      "47:\tlearn: 2233.3455434\ttotal: 3.4s\tremaining: 3.69s\n",
      "48:\tlearn: 2214.8739080\ttotal: 3.47s\tremaining: 3.61s\n",
      "49:\tlearn: 2196.8991149\ttotal: 3.53s\tremaining: 3.53s\n",
      "50:\tlearn: 2180.3686861\ttotal: 3.6s\tremaining: 3.46s\n",
      "51:\tlearn: 2164.4035265\ttotal: 3.67s\tremaining: 3.38s\n",
      "52:\tlearn: 2148.0934824\ttotal: 3.73s\tremaining: 3.31s\n",
      "53:\tlearn: 2133.0470870\ttotal: 3.81s\tremaining: 3.24s\n",
      "54:\tlearn: 2118.7932389\ttotal: 3.87s\tremaining: 3.17s\n",
      "55:\tlearn: 2104.9595273\ttotal: 3.94s\tremaining: 3.09s\n",
      "56:\tlearn: 2091.3132267\ttotal: 4s\tremaining: 3.02s\n",
      "57:\tlearn: 2078.9871081\ttotal: 4.07s\tremaining: 2.95s\n",
      "58:\tlearn: 2066.5323546\ttotal: 4.13s\tremaining: 2.87s\n",
      "59:\tlearn: 2052.7499889\ttotal: 4.19s\tremaining: 2.79s\n",
      "60:\tlearn: 2040.0329493\ttotal: 4.25s\tremaining: 2.72s\n",
      "61:\tlearn: 2027.7537685\ttotal: 4.32s\tremaining: 2.64s\n",
      "62:\tlearn: 2015.8248704\ttotal: 4.38s\tremaining: 2.57s\n",
      "63:\tlearn: 2004.8364854\ttotal: 4.45s\tremaining: 2.5s\n",
      "64:\tlearn: 1993.7924810\ttotal: 4.51s\tremaining: 2.43s\n",
      "65:\tlearn: 1983.4195139\ttotal: 4.58s\tremaining: 2.36s\n",
      "66:\tlearn: 1972.4749999\ttotal: 4.65s\tremaining: 2.29s\n",
      "67:\tlearn: 1962.9002017\ttotal: 4.72s\tremaining: 2.22s\n",
      "68:\tlearn: 1953.6819390\ttotal: 4.79s\tremaining: 2.15s\n",
      "69:\tlearn: 1945.1453862\ttotal: 4.86s\tremaining: 2.08s\n",
      "70:\tlearn: 1936.6079155\ttotal: 4.93s\tremaining: 2.01s\n",
      "71:\tlearn: 1928.2480068\ttotal: 4.99s\tremaining: 1.94s\n",
      "72:\tlearn: 1920.5866370\ttotal: 5.06s\tremaining: 1.87s\n",
      "73:\tlearn: 1913.0244848\ttotal: 5.12s\tremaining: 1.8s\n",
      "74:\tlearn: 1905.5780670\ttotal: 5.19s\tremaining: 1.73s\n",
      "75:\tlearn: 1899.0325486\ttotal: 5.27s\tremaining: 1.66s\n",
      "76:\tlearn: 1892.4103860\ttotal: 5.33s\tremaining: 1.59s\n",
      "77:\tlearn: 1885.6421149\ttotal: 5.4s\tremaining: 1.52s\n",
      "78:\tlearn: 1879.6100332\ttotal: 5.47s\tremaining: 1.45s\n",
      "79:\tlearn: 1873.6163636\ttotal: 5.54s\tremaining: 1.38s\n",
      "80:\tlearn: 1867.9326362\ttotal: 5.6s\tremaining: 1.31s\n",
      "81:\tlearn: 1862.6036721\ttotal: 5.66s\tremaining: 1.24s\n",
      "82:\tlearn: 1857.5595446\ttotal: 5.73s\tremaining: 1.17s\n",
      "83:\tlearn: 1852.5350447\ttotal: 5.79s\tremaining: 1.1s\n",
      "84:\tlearn: 1846.9702664\ttotal: 5.85s\tremaining: 1.03s\n",
      "85:\tlearn: 1842.3486045\ttotal: 5.92s\tremaining: 964ms\n",
      "86:\tlearn: 1837.8273254\ttotal: 5.99s\tremaining: 895ms\n",
      "87:\tlearn: 1833.3490364\ttotal: 6.05s\tremaining: 825ms\n",
      "88:\tlearn: 1828.9962254\ttotal: 6.12s\tremaining: 756ms\n",
      "89:\tlearn: 1824.6948821\ttotal: 6.18s\tremaining: 686ms\n",
      "90:\tlearn: 1819.3521161\ttotal: 6.24s\tremaining: 617ms\n",
      "91:\tlearn: 1814.5080257\ttotal: 6.3s\tremaining: 548ms\n",
      "92:\tlearn: 1809.3576615\ttotal: 6.37s\tremaining: 479ms\n",
      "93:\tlearn: 1804.5782121\ttotal: 6.43s\tremaining: 411ms\n",
      "94:\tlearn: 1800.6215892\ttotal: 6.5s\tremaining: 342ms\n",
      "95:\tlearn: 1796.6244223\ttotal: 6.57s\tremaining: 274ms\n",
      "96:\tlearn: 1792.7879615\ttotal: 6.64s\tremaining: 205ms\n",
      "97:\tlearn: 1789.0567049\ttotal: 6.7s\tremaining: 137ms\n",
      "98:\tlearn: 1785.4099737\ttotal: 6.77s\tremaining: 68.4ms\n",
      "99:\tlearn: 1781.0438483\ttotal: 6.83s\tremaining: 0us\n",
      "0:\tlearn: 4445.8474913\ttotal: 80.6ms\tremaining: 7.98s\n",
      "1:\tlearn: 4349.7935657\ttotal: 157ms\tremaining: 7.67s\n",
      "2:\tlearn: 4256.8523939\ttotal: 225ms\tremaining: 7.26s\n",
      "3:\tlearn: 4166.5674153\ttotal: 298ms\tremaining: 7.15s\n",
      "4:\tlearn: 4080.5074237\ttotal: 367ms\tremaining: 6.97s\n",
      "5:\tlearn: 3997.3447558\ttotal: 436ms\tremaining: 6.83s\n",
      "6:\tlearn: 3915.4347497\ttotal: 502ms\tremaining: 6.67s\n",
      "7:\tlearn: 3837.9751533\ttotal: 570ms\tremaining: 6.55s\n",
      "8:\tlearn: 3762.4068207\ttotal: 636ms\tremaining: 6.43s\n",
      "9:\tlearn: 3689.6240776\ttotal: 702ms\tremaining: 6.32s\n",
      "10:\tlearn: 3620.4547623\ttotal: 768ms\tremaining: 6.21s\n",
      "11:\tlearn: 3553.6046974\ttotal: 834ms\tremaining: 6.12s\n",
      "12:\tlearn: 3487.6920791\ttotal: 909ms\tremaining: 6.08s\n",
      "13:\tlearn: 3426.1626325\ttotal: 976ms\tremaining: 6s\n",
      "14:\tlearn: 3366.4912501\ttotal: 1.04s\tremaining: 5.89s\n",
      "15:\tlearn: 3308.3512610\ttotal: 1.1s\tremaining: 5.79s\n",
      "16:\tlearn: 3253.8817975\ttotal: 1.17s\tremaining: 5.72s\n",
      "17:\tlearn: 3201.2485570\ttotal: 1.24s\tremaining: 5.63s\n",
      "18:\tlearn: 3149.4738306\ttotal: 1.3s\tremaining: 5.54s\n",
      "19:\tlearn: 3100.2741505\ttotal: 1.36s\tremaining: 5.46s\n",
      "20:\tlearn: 3052.5992021\ttotal: 1.43s\tremaining: 5.37s\n",
      "21:\tlearn: 3006.6946628\ttotal: 1.5s\tremaining: 5.3s\n",
      "22:\tlearn: 2962.7220233\ttotal: 1.56s\tremaining: 5.21s\n",
      "23:\tlearn: 2920.5264699\ttotal: 1.62s\tremaining: 5.14s\n",
      "24:\tlearn: 2880.0155493\ttotal: 1.69s\tremaining: 5.07s\n",
      "25:\tlearn: 2840.5758066\ttotal: 1.76s\tremaining: 5.01s\n",
      "26:\tlearn: 2802.5414332\ttotal: 1.83s\tremaining: 4.95s\n",
      "27:\tlearn: 2766.1282180\ttotal: 1.9s\tremaining: 4.88s\n",
      "28:\tlearn: 2732.0785007\ttotal: 1.97s\tremaining: 4.81s\n",
      "29:\tlearn: 2698.6564007\ttotal: 2.03s\tremaining: 4.74s\n",
      "30:\tlearn: 2667.2354873\ttotal: 2.09s\tremaining: 4.66s\n",
      "31:\tlearn: 2636.2490888\ttotal: 2.16s\tremaining: 4.59s\n",
      "32:\tlearn: 2606.2120376\ttotal: 2.23s\tremaining: 4.53s\n",
      "33:\tlearn: 2578.6389395\ttotal: 2.3s\tremaining: 4.46s\n",
      "34:\tlearn: 2552.2787389\ttotal: 2.36s\tremaining: 4.39s\n",
      "35:\tlearn: 2525.8052717\ttotal: 2.43s\tremaining: 4.33s\n",
      "36:\tlearn: 2500.9695004\ttotal: 2.5s\tremaining: 4.26s\n",
      "37:\tlearn: 2473.0902445\ttotal: 2.56s\tremaining: 4.18s\n",
      "38:\tlearn: 2445.0278690\ttotal: 2.63s\tremaining: 4.11s\n",
      "39:\tlearn: 2417.7660602\ttotal: 2.69s\tremaining: 4.04s\n",
      "40:\tlearn: 2393.0848385\ttotal: 2.76s\tremaining: 3.97s\n",
      "41:\tlearn: 2367.7109010\ttotal: 2.83s\tremaining: 3.91s\n",
      "42:\tlearn: 2344.2647325\ttotal: 2.9s\tremaining: 3.84s\n",
      "43:\tlearn: 2321.7137200\ttotal: 2.96s\tremaining: 3.77s\n",
      "44:\tlearn: 2300.6323291\ttotal: 3.03s\tremaining: 3.7s\n",
      "45:\tlearn: 2279.1562195\ttotal: 3.09s\tremaining: 3.63s\n",
      "46:\tlearn: 2260.2078950\ttotal: 3.16s\tremaining: 3.56s\n",
      "47:\tlearn: 2241.1601508\ttotal: 3.25s\tremaining: 3.52s\n",
      "48:\tlearn: 2223.5761698\ttotal: 3.34s\tremaining: 3.48s\n",
      "49:\tlearn: 2206.4335911\ttotal: 3.42s\tremaining: 3.42s\n",
      "50:\tlearn: 2189.3657860\ttotal: 3.49s\tremaining: 3.35s\n",
      "51:\tlearn: 2173.6467884\ttotal: 3.56s\tremaining: 3.29s\n",
      "52:\tlearn: 2157.8583230\ttotal: 3.63s\tremaining: 3.22s\n",
      "53:\tlearn: 2142.8578368\ttotal: 3.7s\tremaining: 3.15s\n",
      "54:\tlearn: 2128.6207526\ttotal: 3.76s\tremaining: 3.08s\n",
      "55:\tlearn: 2112.4277305\ttotal: 3.82s\tremaining: 3s\n",
      "56:\tlearn: 2097.0853302\ttotal: 3.89s\tremaining: 2.93s\n",
      "57:\tlearn: 2083.2367192\ttotal: 3.95s\tremaining: 2.86s\n",
      "58:\tlearn: 2069.3822259\ttotal: 4.02s\tremaining: 2.79s\n",
      "59:\tlearn: 2056.8998892\ttotal: 4.08s\tremaining: 2.72s\n",
      "60:\tlearn: 2044.7118915\ttotal: 4.14s\tremaining: 2.65s\n",
      "61:\tlearn: 2032.8145510\ttotal: 4.2s\tremaining: 2.58s\n",
      "62:\tlearn: 2022.1927484\ttotal: 4.27s\tremaining: 2.51s\n",
      "63:\tlearn: 2010.7296068\ttotal: 4.34s\tremaining: 2.44s\n",
      "64:\tlearn: 2000.1833509\ttotal: 4.41s\tremaining: 2.37s\n",
      "65:\tlearn: 1989.8594535\ttotal: 4.47s\tremaining: 2.3s\n",
      "66:\tlearn: 1980.0211810\ttotal: 4.53s\tremaining: 2.23s\n",
      "67:\tlearn: 1970.7679118\ttotal: 4.6s\tremaining: 2.17s\n",
      "68:\tlearn: 1961.7333421\ttotal: 4.67s\tremaining: 2.1s\n",
      "69:\tlearn: 1952.8115980\ttotal: 4.74s\tremaining: 2.03s\n",
      "70:\tlearn: 1944.5624758\ttotal: 4.81s\tremaining: 1.96s\n",
      "71:\tlearn: 1936.3413366\ttotal: 4.87s\tremaining: 1.9s\n",
      "72:\tlearn: 1928.8590683\ttotal: 4.94s\tremaining: 1.83s\n",
      "73:\tlearn: 1921.2171851\ttotal: 5.01s\tremaining: 1.76s\n",
      "74:\tlearn: 1913.7987737\ttotal: 5.07s\tremaining: 1.69s\n",
      "75:\tlearn: 1906.5180953\ttotal: 5.13s\tremaining: 1.62s\n",
      "76:\tlearn: 1899.9775155\ttotal: 5.2s\tremaining: 1.55s\n",
      "77:\tlearn: 1893.6264447\ttotal: 5.26s\tremaining: 1.48s\n",
      "78:\tlearn: 1887.0521066\ttotal: 5.33s\tremaining: 1.42s\n",
      "79:\tlearn: 1881.1289029\ttotal: 5.4s\tremaining: 1.35s\n",
      "80:\tlearn: 1875.5177510\ttotal: 5.46s\tremaining: 1.28s\n",
      "81:\tlearn: 1870.2717219\ttotal: 5.53s\tremaining: 1.21s\n",
      "82:\tlearn: 1864.7149874\ttotal: 5.59s\tremaining: 1.15s\n",
      "83:\tlearn: 1858.5946682\ttotal: 5.66s\tremaining: 1.08s\n",
      "84:\tlearn: 1853.7328716\ttotal: 5.73s\tremaining: 1.01s\n",
      "85:\tlearn: 1848.6771934\ttotal: 5.8s\tremaining: 944ms\n",
      "86:\tlearn: 1844.3032213\ttotal: 5.87s\tremaining: 877ms\n",
      "87:\tlearn: 1840.0990255\ttotal: 5.93s\tremaining: 809ms\n",
      "88:\tlearn: 1834.6514028\ttotal: 6s\tremaining: 742ms\n",
      "89:\tlearn: 1829.3996147\ttotal: 6.07s\tremaining: 674ms\n",
      "90:\tlearn: 1823.5909103\ttotal: 6.13s\tremaining: 606ms\n",
      "91:\tlearn: 1818.6415813\ttotal: 6.2s\tremaining: 539ms\n",
      "92:\tlearn: 1813.6499186\ttotal: 6.26s\tremaining: 471ms\n",
      "93:\tlearn: 1808.8514421\ttotal: 6.33s\tremaining: 404ms\n",
      "94:\tlearn: 1803.8789152\ttotal: 6.39s\tremaining: 336ms\n",
      "95:\tlearn: 1799.2952850\ttotal: 6.45s\tremaining: 269ms\n",
      "96:\tlearn: 1795.0264540\ttotal: 6.51s\tremaining: 201ms\n",
      "97:\tlearn: 1790.7726698\ttotal: 6.58s\tremaining: 134ms\n",
      "98:\tlearn: 1787.1399254\ttotal: 6.64s\tremaining: 67.1ms\n",
      "99:\tlearn: 1783.2311534\ttotal: 6.71s\tremaining: 0us\n",
      "0:\tlearn: 4445.0909538\ttotal: 72.2ms\tremaining: 7.14s\n",
      "1:\tlearn: 4349.3678272\ttotal: 147ms\tremaining: 7.21s\n",
      "2:\tlearn: 4257.2382922\ttotal: 213ms\tremaining: 6.9s\n",
      "3:\tlearn: 4167.9480009\ttotal: 279ms\tremaining: 6.7s\n",
      "4:\tlearn: 4082.2120683\ttotal: 348ms\tremaining: 6.62s\n",
      "5:\tlearn: 3999.4555415\ttotal: 421ms\tremaining: 6.59s\n",
      "6:\tlearn: 3919.3213475\ttotal: 485ms\tremaining: 6.44s\n",
      "7:\tlearn: 3842.2598054\ttotal: 554ms\tremaining: 6.37s\n",
      "8:\tlearn: 3767.6687314\ttotal: 626ms\tremaining: 6.33s\n",
      "9:\tlearn: 3695.9721728\ttotal: 694ms\tremaining: 6.25s\n",
      "10:\tlearn: 3625.3706734\ttotal: 761ms\tremaining: 6.15s\n",
      "11:\tlearn: 3557.6420093\ttotal: 831ms\tremaining: 6.09s\n",
      "12:\tlearn: 3493.1885306\ttotal: 913ms\tremaining: 6.11s\n",
      "13:\tlearn: 3432.0264540\ttotal: 983ms\tremaining: 6.04s\n",
      "14:\tlearn: 3372.3230580\ttotal: 1.05s\tremaining: 5.96s\n",
      "15:\tlearn: 3314.7053456\ttotal: 1.12s\tremaining: 5.88s\n",
      "16:\tlearn: 3259.3009789\ttotal: 1.19s\tremaining: 5.83s\n",
      "17:\tlearn: 3205.4860221\ttotal: 1.27s\tremaining: 5.8s\n",
      "18:\tlearn: 3153.4142967\ttotal: 1.35s\tremaining: 5.74s\n",
      "19:\tlearn: 3103.8699395\ttotal: 1.41s\tremaining: 5.66s\n",
      "20:\tlearn: 3056.1409860\ttotal: 1.48s\tremaining: 5.57s\n",
      "21:\tlearn: 3010.5809188\ttotal: 1.55s\tremaining: 5.49s\n",
      "22:\tlearn: 2967.3974040\ttotal: 1.61s\tremaining: 5.4s\n",
      "23:\tlearn: 2925.2003881\ttotal: 1.68s\tremaining: 5.33s\n",
      "24:\tlearn: 2883.7489842\ttotal: 1.75s\tremaining: 5.24s\n",
      "25:\tlearn: 2845.0881014\ttotal: 1.81s\tremaining: 5.15s\n",
      "26:\tlearn: 2807.6174218\ttotal: 1.88s\tremaining: 5.09s\n",
      "27:\tlearn: 2771.3564913\ttotal: 1.95s\tremaining: 5.01s\n",
      "28:\tlearn: 2736.9010872\ttotal: 2.02s\tremaining: 4.94s\n",
      "29:\tlearn: 2702.6528101\ttotal: 2.1s\tremaining: 4.9s\n",
      "30:\tlearn: 2670.4420439\ttotal: 2.17s\tremaining: 4.82s\n",
      "31:\tlearn: 2639.7642051\ttotal: 2.23s\tremaining: 4.75s\n",
      "32:\tlearn: 2609.8362247\ttotal: 2.3s\tremaining: 4.67s\n",
      "33:\tlearn: 2580.5288388\ttotal: 2.37s\tremaining: 4.59s\n",
      "34:\tlearn: 2552.1090502\ttotal: 2.44s\tremaining: 4.52s\n",
      "35:\tlearn: 2521.3655978\ttotal: 2.5s\tremaining: 4.45s\n",
      "36:\tlearn: 2491.0037828\ttotal: 2.59s\tremaining: 4.41s\n",
      "37:\tlearn: 2462.2344344\ttotal: 2.65s\tremaining: 4.33s\n",
      "38:\tlearn: 2434.1858477\ttotal: 2.72s\tremaining: 4.25s\n",
      "39:\tlearn: 2407.5272946\ttotal: 2.79s\tremaining: 4.18s\n",
      "40:\tlearn: 2381.5406960\ttotal: 2.85s\tremaining: 4.1s\n",
      "41:\tlearn: 2357.1194384\ttotal: 2.92s\tremaining: 4.04s\n",
      "42:\tlearn: 2334.2930981\ttotal: 2.99s\tremaining: 3.96s\n",
      "43:\tlearn: 2311.9297681\ttotal: 3.06s\tremaining: 3.89s\n",
      "44:\tlearn: 2290.1901215\ttotal: 3.12s\tremaining: 3.82s\n",
      "45:\tlearn: 2269.1554962\ttotal: 3.19s\tremaining: 3.75s\n",
      "46:\tlearn: 2249.4002782\ttotal: 3.26s\tremaining: 3.68s\n",
      "47:\tlearn: 2230.8506084\ttotal: 3.33s\tremaining: 3.61s\n",
      "48:\tlearn: 2212.8234855\ttotal: 3.4s\tremaining: 3.54s\n",
      "49:\tlearn: 2195.4469137\ttotal: 3.48s\tremaining: 3.48s\n",
      "50:\tlearn: 2178.9796820\ttotal: 3.54s\tremaining: 3.41s\n",
      "51:\tlearn: 2163.2101825\ttotal: 3.62s\tremaining: 3.34s\n",
      "52:\tlearn: 2148.1108353\ttotal: 3.69s\tremaining: 3.27s\n",
      "53:\tlearn: 2133.8198016\ttotal: 3.75s\tremaining: 3.19s\n",
      "54:\tlearn: 2119.9028472\ttotal: 3.82s\tremaining: 3.12s\n",
      "55:\tlearn: 2106.6659855\ttotal: 3.89s\tremaining: 3.05s\n",
      "56:\tlearn: 2093.4730541\ttotal: 3.95s\tremaining: 2.98s\n",
      "57:\tlearn: 2080.6623435\ttotal: 4.03s\tremaining: 2.92s\n",
      "58:\tlearn: 2069.0021895\ttotal: 4.1s\tremaining: 2.85s\n",
      "59:\tlearn: 2055.3789457\ttotal: 4.17s\tremaining: 2.78s\n",
      "60:\tlearn: 2042.3758107\ttotal: 4.23s\tremaining: 2.71s\n",
      "61:\tlearn: 2030.2600929\ttotal: 4.3s\tremaining: 2.64s\n",
      "62:\tlearn: 2018.1554897\ttotal: 4.38s\tremaining: 2.57s\n",
      "63:\tlearn: 2007.1462964\ttotal: 4.44s\tremaining: 2.5s\n",
      "64:\tlearn: 1996.3062551\ttotal: 4.51s\tremaining: 2.43s\n",
      "65:\tlearn: 1986.1652584\ttotal: 4.58s\tremaining: 2.36s\n",
      "66:\tlearn: 1975.9964900\ttotal: 4.65s\tremaining: 2.29s\n",
      "67:\tlearn: 1966.5740814\ttotal: 4.72s\tremaining: 2.22s\n",
      "68:\tlearn: 1957.4286362\ttotal: 4.78s\tremaining: 2.15s\n",
      "69:\tlearn: 1948.3767468\ttotal: 4.85s\tremaining: 2.08s\n",
      "70:\tlearn: 1939.8642020\ttotal: 4.92s\tremaining: 2.01s\n",
      "71:\tlearn: 1932.1837440\ttotal: 4.99s\tremaining: 1.94s\n",
      "72:\tlearn: 1924.0148233\ttotal: 5.06s\tremaining: 1.87s\n",
      "73:\tlearn: 1916.9123265\ttotal: 5.14s\tremaining: 1.81s\n",
      "74:\tlearn: 1910.0161969\ttotal: 5.22s\tremaining: 1.74s\n",
      "75:\tlearn: 1902.9847114\ttotal: 5.28s\tremaining: 1.67s\n",
      "76:\tlearn: 1897.0600975\ttotal: 5.34s\tremaining: 1.6s\n",
      "77:\tlearn: 1890.7660060\ttotal: 5.42s\tremaining: 1.53s\n",
      "78:\tlearn: 1884.7638827\ttotal: 5.48s\tremaining: 1.46s\n",
      "79:\tlearn: 1878.7740532\ttotal: 5.55s\tremaining: 1.39s\n",
      "80:\tlearn: 1873.1637423\ttotal: 5.64s\tremaining: 1.32s\n",
      "81:\tlearn: 1867.2524430\ttotal: 5.74s\tremaining: 1.26s\n",
      "82:\tlearn: 1862.1389214\ttotal: 5.84s\tremaining: 1.2s\n",
      "83:\tlearn: 1857.0690288\ttotal: 5.92s\tremaining: 1.13s\n",
      "84:\tlearn: 1852.0530968\ttotal: 6s\tremaining: 1.06s\n",
      "85:\tlearn: 1847.5773203\ttotal: 6.08s\tremaining: 989ms\n",
      "86:\tlearn: 1842.9910774\ttotal: 6.15s\tremaining: 919ms\n",
      "87:\tlearn: 1837.8116819\ttotal: 6.21s\tremaining: 847ms\n",
      "88:\tlearn: 1833.3184385\ttotal: 6.28s\tremaining: 776ms\n",
      "89:\tlearn: 1828.6913330\ttotal: 6.35s\tremaining: 705ms\n",
      "90:\tlearn: 1824.2708515\ttotal: 6.41s\tremaining: 634ms\n",
      "91:\tlearn: 1818.8026583\ttotal: 6.48s\tremaining: 563ms\n",
      "92:\tlearn: 1814.3019282\ttotal: 6.54s\tremaining: 492ms\n",
      "93:\tlearn: 1810.4643446\ttotal: 6.61s\tremaining: 422ms\n",
      "94:\tlearn: 1805.9458002\ttotal: 6.67s\tremaining: 351ms\n",
      "95:\tlearn: 1802.4476909\ttotal: 6.74s\tremaining: 281ms\n",
      "96:\tlearn: 1798.7559264\ttotal: 6.81s\tremaining: 211ms\n",
      "97:\tlearn: 1794.8060470\ttotal: 6.87s\tremaining: 140ms\n",
      "98:\tlearn: 1791.6232781\ttotal: 6.93s\tremaining: 70.1ms\n",
      "99:\tlearn: 1788.3009282\ttotal: 7.01s\tremaining: 0us\n",
      "0:\tlearn: 4198.1328641\ttotal: 72.8ms\tremaining: 7.21s\n",
      "1:\tlearn: 3910.7514544\ttotal: 143ms\tremaining: 7.01s\n",
      "2:\tlearn: 3653.0900647\ttotal: 208ms\tremaining: 6.74s\n",
      "3:\tlearn: 3430.2210129\ttotal: 278ms\tremaining: 6.66s\n",
      "4:\tlearn: 3235.4180068\ttotal: 343ms\tremaining: 6.52s\n",
      "5:\tlearn: 3061.7951821\ttotal: 422ms\tremaining: 6.61s\n",
      "6:\tlearn: 2908.7732614\ttotal: 489ms\tremaining: 6.49s\n",
      "7:\tlearn: 2773.7027135\ttotal: 556ms\tremaining: 6.4s\n",
      "8:\tlearn: 2659.6420904\ttotal: 626ms\tremaining: 6.33s\n",
      "9:\tlearn: 2556.5838121\ttotal: 692ms\tremaining: 6.23s\n",
      "10:\tlearn: 2470.7334633\ttotal: 756ms\tremaining: 6.12s\n",
      "11:\tlearn: 2380.6118971\ttotal: 825ms\tremaining: 6.05s\n",
      "12:\tlearn: 2304.5694886\ttotal: 890ms\tremaining: 5.95s\n",
      "13:\tlearn: 2238.1702610\ttotal: 954ms\tremaining: 5.86s\n",
      "14:\tlearn: 2179.4824108\ttotal: 1.02s\tremaining: 5.79s\n",
      "15:\tlearn: 2129.6800409\ttotal: 1.09s\tremaining: 5.72s\n",
      "16:\tlearn: 2083.7416016\ttotal: 1.15s\tremaining: 5.63s\n",
      "17:\tlearn: 2036.7793690\ttotal: 1.22s\tremaining: 5.57s\n",
      "18:\tlearn: 1997.6463623\ttotal: 1.29s\tremaining: 5.5s\n",
      "19:\tlearn: 1961.3878785\ttotal: 1.36s\tremaining: 5.44s\n",
      "20:\tlearn: 1931.9515742\ttotal: 1.43s\tremaining: 5.36s\n",
      "21:\tlearn: 1906.4881224\ttotal: 1.49s\tremaining: 5.29s\n",
      "22:\tlearn: 1885.1038683\ttotal: 1.56s\tremaining: 5.22s\n",
      "23:\tlearn: 1866.3540111\ttotal: 1.63s\tremaining: 5.15s\n",
      "24:\tlearn: 1845.7371154\ttotal: 1.7s\tremaining: 5.09s\n",
      "25:\tlearn: 1828.3336947\ttotal: 1.76s\tremaining: 5.02s\n",
      "26:\tlearn: 1812.6926617\ttotal: 1.83s\tremaining: 4.95s\n",
      "27:\tlearn: 1798.7908163\ttotal: 1.9s\tremaining: 4.89s\n",
      "28:\tlearn: 1786.3267081\ttotal: 1.97s\tremaining: 4.81s\n",
      "29:\tlearn: 1773.6770871\ttotal: 2.03s\tremaining: 4.75s\n",
      "30:\tlearn: 1763.4614252\ttotal: 2.12s\tremaining: 4.71s\n",
      "31:\tlearn: 1755.4258064\ttotal: 2.21s\tremaining: 4.69s\n",
      "32:\tlearn: 1747.2579315\ttotal: 2.27s\tremaining: 4.62s\n",
      "33:\tlearn: 1740.5556018\ttotal: 2.34s\tremaining: 4.54s\n",
      "34:\tlearn: 1733.2439235\ttotal: 2.41s\tremaining: 4.47s\n",
      "35:\tlearn: 1727.4145191\ttotal: 2.47s\tremaining: 4.4s\n",
      "36:\tlearn: 1721.8473796\ttotal: 2.54s\tremaining: 4.32s\n",
      "37:\tlearn: 1715.9703086\ttotal: 2.6s\tremaining: 4.25s\n",
      "38:\tlearn: 1710.7813133\ttotal: 2.67s\tremaining: 4.17s\n",
      "39:\tlearn: 1705.2519940\ttotal: 2.73s\tremaining: 4.1s\n",
      "40:\tlearn: 1700.5381152\ttotal: 2.81s\tremaining: 4.05s\n",
      "41:\tlearn: 1695.8751546\ttotal: 2.88s\tremaining: 3.98s\n",
      "42:\tlearn: 1691.4053754\ttotal: 2.95s\tremaining: 3.91s\n",
      "43:\tlearn: 1687.2001271\ttotal: 3.02s\tremaining: 3.84s\n",
      "44:\tlearn: 1683.7708269\ttotal: 3.08s\tremaining: 3.77s\n",
      "45:\tlearn: 1679.8927438\ttotal: 3.15s\tremaining: 3.69s\n",
      "46:\tlearn: 1677.2058289\ttotal: 3.21s\tremaining: 3.62s\n",
      "47:\tlearn: 1673.8304336\ttotal: 3.28s\tremaining: 3.55s\n",
      "48:\tlearn: 1670.0901739\ttotal: 3.35s\tremaining: 3.48s\n",
      "49:\tlearn: 1666.8290508\ttotal: 3.43s\tremaining: 3.43s\n",
      "50:\tlearn: 1663.9580197\ttotal: 3.5s\tremaining: 3.36s\n",
      "51:\tlearn: 1661.8815050\ttotal: 3.56s\tremaining: 3.29s\n",
      "52:\tlearn: 1658.5988117\ttotal: 3.63s\tremaining: 3.22s\n",
      "53:\tlearn: 1656.4343723\ttotal: 3.69s\tremaining: 3.15s\n",
      "54:\tlearn: 1654.6584267\ttotal: 3.76s\tremaining: 3.07s\n",
      "55:\tlearn: 1652.3963818\ttotal: 3.82s\tremaining: 3s\n",
      "56:\tlearn: 1649.5953574\ttotal: 3.88s\tremaining: 2.93s\n",
      "57:\tlearn: 1648.3692503\ttotal: 3.95s\tremaining: 2.86s\n",
      "58:\tlearn: 1644.6815972\ttotal: 4.01s\tremaining: 2.79s\n",
      "59:\tlearn: 1642.9423390\ttotal: 4.08s\tremaining: 2.72s\n",
      "60:\tlearn: 1640.0837169\ttotal: 4.15s\tremaining: 2.65s\n",
      "61:\tlearn: 1638.7254608\ttotal: 4.23s\tremaining: 2.59s\n",
      "62:\tlearn: 1633.8697637\ttotal: 4.31s\tremaining: 2.53s\n",
      "63:\tlearn: 1630.4632874\ttotal: 4.38s\tremaining: 2.46s\n",
      "64:\tlearn: 1628.5736127\ttotal: 4.46s\tremaining: 2.4s\n",
      "65:\tlearn: 1626.7827918\ttotal: 4.53s\tremaining: 2.33s\n",
      "66:\tlearn: 1623.8855041\ttotal: 4.59s\tremaining: 2.26s\n",
      "67:\tlearn: 1622.0816051\ttotal: 4.67s\tremaining: 2.19s\n",
      "68:\tlearn: 1620.3712532\ttotal: 4.74s\tremaining: 2.13s\n",
      "69:\tlearn: 1619.2179503\ttotal: 4.8s\tremaining: 2.06s\n",
      "70:\tlearn: 1617.2384311\ttotal: 4.87s\tremaining: 1.99s\n",
      "71:\tlearn: 1614.9045547\ttotal: 4.93s\tremaining: 1.92s\n",
      "72:\tlearn: 1611.9186861\ttotal: 5s\tremaining: 1.85s\n",
      "73:\tlearn: 1609.3477681\ttotal: 5.08s\tremaining: 1.78s\n",
      "74:\tlearn: 1608.2640042\ttotal: 5.14s\tremaining: 1.71s\n",
      "75:\tlearn: 1605.5762133\ttotal: 5.21s\tremaining: 1.64s\n",
      "76:\tlearn: 1603.8305548\ttotal: 5.28s\tremaining: 1.58s\n",
      "77:\tlearn: 1603.8270599\ttotal: 5.3s\tremaining: 1.49s\n",
      "78:\tlearn: 1602.8113600\ttotal: 5.37s\tremaining: 1.43s\n",
      "79:\tlearn: 1600.9200399\ttotal: 5.44s\tremaining: 1.36s\n",
      "80:\tlearn: 1598.9678128\ttotal: 5.51s\tremaining: 1.29s\n",
      "81:\tlearn: 1596.4283329\ttotal: 5.58s\tremaining: 1.23s\n",
      "82:\tlearn: 1595.1039983\ttotal: 5.66s\tremaining: 1.16s\n",
      "83:\tlearn: 1592.4209070\ttotal: 5.72s\tremaining: 1.09s\n",
      "84:\tlearn: 1591.3585130\ttotal: 5.78s\tremaining: 1.02s\n",
      "85:\tlearn: 1588.8262856\ttotal: 5.86s\tremaining: 954ms\n",
      "86:\tlearn: 1587.1034111\ttotal: 5.93s\tremaining: 887ms\n",
      "87:\tlearn: 1585.8612263\ttotal: 6s\tremaining: 818ms\n",
      "88:\tlearn: 1583.9677187\ttotal: 6.06s\tremaining: 749ms\n",
      "89:\tlearn: 1582.3268265\ttotal: 6.13s\tremaining: 681ms\n",
      "90:\tlearn: 1581.0606576\ttotal: 6.19s\tremaining: 613ms\n",
      "91:\tlearn: 1579.3294350\ttotal: 6.26s\tremaining: 545ms\n",
      "92:\tlearn: 1578.0780073\ttotal: 6.33s\tremaining: 477ms\n",
      "93:\tlearn: 1576.6187004\ttotal: 6.39s\tremaining: 408ms\n",
      "94:\tlearn: 1575.3900772\ttotal: 6.47s\tremaining: 340ms\n",
      "95:\tlearn: 1573.7428970\ttotal: 6.53s\tremaining: 272ms\n",
      "96:\tlearn: 1572.4405908\ttotal: 6.6s\tremaining: 204ms\n",
      "97:\tlearn: 1570.0947197\ttotal: 6.67s\tremaining: 136ms\n",
      "98:\tlearn: 1569.1229680\ttotal: 6.75s\tremaining: 68.1ms\n",
      "99:\tlearn: 1568.4265452\ttotal: 6.81s\tremaining: 0us\n",
      "0:\tlearn: 4219.5103472\ttotal: 68.9ms\tremaining: 6.82s\n",
      "1:\tlearn: 3930.5960014\ttotal: 137ms\tremaining: 6.7s\n",
      "2:\tlearn: 3675.5754212\ttotal: 197ms\tremaining: 6.38s\n",
      "3:\tlearn: 3447.7778109\ttotal: 283ms\tremaining: 6.8s\n",
      "4:\tlearn: 3253.6337047\ttotal: 376ms\tremaining: 7.13s\n",
      "5:\tlearn: 3077.4058129\ttotal: 475ms\tremaining: 7.44s\n",
      "6:\tlearn: 2923.4863753\ttotal: 563ms\tremaining: 7.47s\n",
      "7:\tlearn: 2789.0030570\ttotal: 645ms\tremaining: 7.42s\n",
      "8:\tlearn: 2667.9525330\ttotal: 711ms\tremaining: 7.18s\n",
      "9:\tlearn: 2565.9456479\ttotal: 779ms\tremaining: 7.01s\n",
      "10:\tlearn: 2479.4541648\ttotal: 851ms\tremaining: 6.89s\n",
      "11:\tlearn: 2386.6322123\ttotal: 914ms\tremaining: 6.71s\n",
      "12:\tlearn: 2306.7470887\ttotal: 982ms\tremaining: 6.57s\n",
      "13:\tlearn: 2235.5489196\ttotal: 1.06s\tremaining: 6.51s\n",
      "14:\tlearn: 2174.3572030\ttotal: 1.12s\tremaining: 6.36s\n",
      "15:\tlearn: 2121.1186529\ttotal: 1.18s\tremaining: 6.22s\n",
      "16:\tlearn: 2076.4695858\ttotal: 1.25s\tremaining: 6.09s\n",
      "17:\tlearn: 2034.3423878\ttotal: 1.31s\tremaining: 5.96s\n",
      "18:\tlearn: 1994.7770275\ttotal: 1.38s\tremaining: 5.88s\n",
      "19:\tlearn: 1961.0737235\ttotal: 1.45s\tremaining: 5.79s\n",
      "20:\tlearn: 1931.7409745\ttotal: 1.51s\tremaining: 5.68s\n",
      "21:\tlearn: 1904.4391950\ttotal: 1.58s\tremaining: 5.59s\n",
      "22:\tlearn: 1883.0580882\ttotal: 1.65s\tremaining: 5.53s\n",
      "23:\tlearn: 1863.4628438\ttotal: 1.71s\tremaining: 5.42s\n",
      "24:\tlearn: 1847.2566371\ttotal: 1.78s\tremaining: 5.33s\n",
      "25:\tlearn: 1829.9614322\ttotal: 1.85s\tremaining: 5.26s\n",
      "26:\tlearn: 1816.1354109\ttotal: 1.92s\tremaining: 5.18s\n",
      "27:\tlearn: 1799.1575761\ttotal: 1.98s\tremaining: 5.09s\n",
      "28:\tlearn: 1788.3053722\ttotal: 2.06s\tremaining: 5.03s\n",
      "29:\tlearn: 1778.0435096\ttotal: 2.11s\tremaining: 4.93s\n",
      "30:\tlearn: 1769.1149967\ttotal: 2.17s\tremaining: 4.84s\n",
      "31:\tlearn: 1758.9802177\ttotal: 2.24s\tremaining: 4.75s\n",
      "32:\tlearn: 1750.6386304\ttotal: 2.3s\tremaining: 4.66s\n",
      "33:\tlearn: 1742.7005929\ttotal: 2.36s\tremaining: 4.59s\n",
      "34:\tlearn: 1736.4828789\ttotal: 2.44s\tremaining: 4.53s\n",
      "35:\tlearn: 1731.7002360\ttotal: 2.51s\tremaining: 4.46s\n",
      "36:\tlearn: 1724.4371007\ttotal: 2.58s\tremaining: 4.39s\n",
      "37:\tlearn: 1719.8104840\ttotal: 2.66s\tremaining: 4.33s\n",
      "38:\tlearn: 1714.1151577\ttotal: 2.72s\tremaining: 4.25s\n",
      "39:\tlearn: 1707.9295266\ttotal: 2.79s\tremaining: 4.18s\n",
      "40:\tlearn: 1703.4842533\ttotal: 2.87s\tremaining: 4.13s\n",
      "41:\tlearn: 1699.7907394\ttotal: 2.96s\tremaining: 4.09s\n",
      "42:\tlearn: 1696.1224700\ttotal: 3.04s\tremaining: 4.03s\n",
      "43:\tlearn: 1691.8339016\ttotal: 3.14s\tremaining: 4s\n",
      "44:\tlearn: 1685.6329286\ttotal: 3.21s\tremaining: 3.92s\n",
      "45:\tlearn: 1682.1941672\ttotal: 3.27s\tremaining: 3.84s\n",
      "46:\tlearn: 1679.4812835\ttotal: 3.34s\tremaining: 3.76s\n",
      "47:\tlearn: 1673.3912820\ttotal: 3.4s\tremaining: 3.69s\n",
      "48:\tlearn: 1670.1111243\ttotal: 3.47s\tremaining: 3.61s\n",
      "49:\tlearn: 1666.7996220\ttotal: 3.53s\tremaining: 3.53s\n",
      "50:\tlearn: 1662.5480825\ttotal: 3.6s\tremaining: 3.46s\n",
      "51:\tlearn: 1659.1159515\ttotal: 3.66s\tremaining: 3.38s\n",
      "52:\tlearn: 1655.9544364\ttotal: 3.73s\tremaining: 3.31s\n",
      "53:\tlearn: 1653.1122820\ttotal: 3.8s\tremaining: 3.24s\n",
      "54:\tlearn: 1650.2539667\ttotal: 3.88s\tremaining: 3.18s\n",
      "55:\tlearn: 1648.2622617\ttotal: 3.95s\tremaining: 3.1s\n",
      "56:\tlearn: 1644.2406059\ttotal: 4.02s\tremaining: 3.03s\n",
      "57:\tlearn: 1642.2020585\ttotal: 4.09s\tremaining: 2.96s\n",
      "58:\tlearn: 1638.8405432\ttotal: 4.16s\tremaining: 2.89s\n",
      "59:\tlearn: 1635.9642552\ttotal: 4.22s\tremaining: 2.82s\n",
      "60:\tlearn: 1633.5942308\ttotal: 4.29s\tremaining: 2.74s\n",
      "61:\tlearn: 1630.5635892\ttotal: 4.35s\tremaining: 2.67s\n",
      "62:\tlearn: 1628.4203499\ttotal: 4.41s\tremaining: 2.59s\n",
      "63:\tlearn: 1626.4311555\ttotal: 4.47s\tremaining: 2.52s\n",
      "64:\tlearn: 1624.1669199\ttotal: 4.55s\tremaining: 2.45s\n",
      "65:\tlearn: 1622.1302794\ttotal: 4.63s\tremaining: 2.39s\n",
      "66:\tlearn: 1620.5489454\ttotal: 4.69s\tremaining: 2.31s\n",
      "67:\tlearn: 1618.6991314\ttotal: 4.76s\tremaining: 2.24s\n",
      "68:\tlearn: 1616.0923578\ttotal: 4.82s\tremaining: 2.17s\n",
      "69:\tlearn: 1614.7113712\ttotal: 4.89s\tremaining: 2.09s\n",
      "70:\tlearn: 1612.9378963\ttotal: 4.95s\tremaining: 2.02s\n",
      "71:\tlearn: 1610.8256032\ttotal: 5.01s\tremaining: 1.95s\n",
      "72:\tlearn: 1607.2281254\ttotal: 5.08s\tremaining: 1.88s\n",
      "73:\tlearn: 1605.0873660\ttotal: 5.15s\tremaining: 1.81s\n",
      "74:\tlearn: 1603.4891894\ttotal: 5.21s\tremaining: 1.74s\n",
      "75:\tlearn: 1602.0478937\ttotal: 5.28s\tremaining: 1.67s\n",
      "76:\tlearn: 1600.6156614\ttotal: 5.35s\tremaining: 1.6s\n",
      "77:\tlearn: 1598.5618838\ttotal: 5.42s\tremaining: 1.53s\n",
      "78:\tlearn: 1596.5989439\ttotal: 5.49s\tremaining: 1.46s\n",
      "79:\tlearn: 1595.5133401\ttotal: 5.55s\tremaining: 1.39s\n",
      "80:\tlearn: 1594.4146392\ttotal: 5.62s\tremaining: 1.32s\n",
      "81:\tlearn: 1592.5478800\ttotal: 5.68s\tremaining: 1.25s\n",
      "82:\tlearn: 1590.8552291\ttotal: 5.75s\tremaining: 1.18s\n",
      "83:\tlearn: 1590.0320498\ttotal: 5.81s\tremaining: 1.11s\n",
      "84:\tlearn: 1588.8633391\ttotal: 5.88s\tremaining: 1.04s\n",
      "85:\tlearn: 1588.0224248\ttotal: 5.94s\tremaining: 968ms\n",
      "86:\tlearn: 1586.8357442\ttotal: 6.01s\tremaining: 898ms\n",
      "87:\tlearn: 1585.5415968\ttotal: 6.07s\tremaining: 828ms\n",
      "88:\tlearn: 1583.7544610\ttotal: 6.13s\tremaining: 758ms\n",
      "89:\tlearn: 1582.1169226\ttotal: 6.2s\tremaining: 689ms\n",
      "90:\tlearn: 1580.4884090\ttotal: 6.26s\tremaining: 619ms\n",
      "91:\tlearn: 1579.4645319\ttotal: 6.33s\tremaining: 550ms\n",
      "92:\tlearn: 1578.3377785\ttotal: 6.39s\tremaining: 481ms\n",
      "93:\tlearn: 1577.3857272\ttotal: 6.46s\tremaining: 412ms\n",
      "94:\tlearn: 1575.6543042\ttotal: 6.53s\tremaining: 344ms\n",
      "95:\tlearn: 1574.7253798\ttotal: 6.59s\tremaining: 275ms\n",
      "96:\tlearn: 1574.0481295\ttotal: 6.66s\tremaining: 206ms\n",
      "97:\tlearn: 1572.5656222\ttotal: 6.73s\tremaining: 137ms\n",
      "98:\tlearn: 1571.9895283\ttotal: 6.81s\tremaining: 68.8ms\n",
      "99:\tlearn: 1570.6733767\ttotal: 6.88s\tremaining: 0us\n",
      "0:\tlearn: 4210.7944261\ttotal: 70.8ms\tremaining: 7.01s\n",
      "1:\tlearn: 3921.8362607\ttotal: 144ms\tremaining: 7.03s\n",
      "2:\tlearn: 3666.8020547\ttotal: 213ms\tremaining: 6.9s\n",
      "3:\tlearn: 3440.2569915\ttotal: 289ms\tremaining: 6.93s\n",
      "4:\tlearn: 3243.8358668\ttotal: 364ms\tremaining: 6.91s\n",
      "5:\tlearn: 3066.8130227\ttotal: 432ms\tremaining: 6.76s\n",
      "6:\tlearn: 2912.1414156\ttotal: 497ms\tremaining: 6.61s\n",
      "7:\tlearn: 2778.8216977\ttotal: 562ms\tremaining: 6.46s\n",
      "8:\tlearn: 2659.4823630\ttotal: 628ms\tremaining: 6.34s\n",
      "9:\tlearn: 2561.0762505\ttotal: 692ms\tremaining: 6.23s\n",
      "10:\tlearn: 2455.6157301\ttotal: 760ms\tremaining: 6.15s\n",
      "11:\tlearn: 2366.2004068\ttotal: 820ms\tremaining: 6.01s\n",
      "12:\tlearn: 2286.6945183\ttotal: 883ms\tremaining: 5.91s\n",
      "13:\tlearn: 2220.1307631\ttotal: 943ms\tremaining: 5.79s\n",
      "14:\tlearn: 2162.2322271\ttotal: 1s\tremaining: 5.69s\n",
      "15:\tlearn: 2114.6130691\ttotal: 1.06s\tremaining: 5.58s\n",
      "16:\tlearn: 2070.5623276\ttotal: 1.13s\tremaining: 5.5s\n",
      "17:\tlearn: 2027.0442652\ttotal: 1.19s\tremaining: 5.43s\n",
      "18:\tlearn: 1988.8169218\ttotal: 1.25s\tremaining: 5.34s\n",
      "19:\tlearn: 1956.4817892\ttotal: 1.32s\tremaining: 5.27s\n",
      "20:\tlearn: 1927.9632090\ttotal: 1.38s\tremaining: 5.18s\n",
      "21:\tlearn: 1902.4677995\ttotal: 1.44s\tremaining: 5.1s\n",
      "22:\tlearn: 1878.3446068\ttotal: 1.5s\tremaining: 5.03s\n",
      "23:\tlearn: 1858.1355604\ttotal: 1.56s\tremaining: 4.95s\n",
      "24:\tlearn: 1839.2872860\ttotal: 1.63s\tremaining: 4.88s\n",
      "25:\tlearn: 1824.6318140\ttotal: 1.69s\tremaining: 4.8s\n",
      "26:\tlearn: 1808.2255253\ttotal: 1.75s\tremaining: 4.74s\n",
      "27:\tlearn: 1792.1684838\ttotal: 1.82s\tremaining: 4.67s\n",
      "28:\tlearn: 1780.2533958\ttotal: 1.88s\tremaining: 4.6s\n",
      "29:\tlearn: 1768.7743888\ttotal: 1.94s\tremaining: 4.52s\n",
      "30:\tlearn: 1759.5100263\ttotal: 2s\tremaining: 4.45s\n",
      "31:\tlearn: 1751.5462551\ttotal: 2.06s\tremaining: 4.37s\n",
      "32:\tlearn: 1742.5726253\ttotal: 2.12s\tremaining: 4.3s\n",
      "33:\tlearn: 1735.9540368\ttotal: 2.18s\tremaining: 4.23s\n",
      "34:\tlearn: 1729.2011838\ttotal: 2.24s\tremaining: 4.15s\n",
      "35:\tlearn: 1722.1633422\ttotal: 2.31s\tremaining: 4.11s\n",
      "36:\tlearn: 1716.3168857\ttotal: 2.37s\tremaining: 4.03s\n",
      "37:\tlearn: 1709.9786984\ttotal: 2.43s\tremaining: 3.96s\n",
      "38:\tlearn: 1703.2526180\ttotal: 2.49s\tremaining: 3.9s\n",
      "39:\tlearn: 1699.5091627\ttotal: 2.55s\tremaining: 3.83s\n",
      "40:\tlearn: 1695.2500182\ttotal: 2.61s\tremaining: 3.76s\n",
      "41:\tlearn: 1691.2702454\ttotal: 2.69s\tremaining: 3.72s\n",
      "42:\tlearn: 1686.8099405\ttotal: 2.79s\tremaining: 3.69s\n",
      "43:\tlearn: 1683.2275961\ttotal: 2.88s\tremaining: 3.66s\n",
      "44:\tlearn: 1679.6169144\ttotal: 2.95s\tremaining: 3.6s\n",
      "45:\tlearn: 1675.9954023\ttotal: 3.01s\tremaining: 3.53s\n",
      "46:\tlearn: 1672.4007769\ttotal: 3.07s\tremaining: 3.46s\n",
      "47:\tlearn: 1669.7810881\ttotal: 3.13s\tremaining: 3.4s\n",
      "48:\tlearn: 1666.4910502\ttotal: 3.19s\tremaining: 3.32s\n",
      "49:\tlearn: 1662.7530138\ttotal: 3.25s\tremaining: 3.25s\n",
      "50:\tlearn: 1660.4404652\ttotal: 3.31s\tremaining: 3.18s\n",
      "51:\tlearn: 1658.2409367\ttotal: 3.37s\tremaining: 3.11s\n",
      "52:\tlearn: 1655.5956680\ttotal: 3.43s\tremaining: 3.04s\n",
      "53:\tlearn: 1653.3207337\ttotal: 3.49s\tremaining: 2.98s\n",
      "54:\tlearn: 1651.2414965\ttotal: 3.55s\tremaining: 2.9s\n",
      "55:\tlearn: 1647.2241132\ttotal: 3.61s\tremaining: 2.84s\n",
      "56:\tlearn: 1644.9932984\ttotal: 3.67s\tremaining: 2.77s\n",
      "57:\tlearn: 1642.2288915\ttotal: 3.75s\tremaining: 2.71s\n",
      "58:\tlearn: 1638.8622747\ttotal: 3.81s\tremaining: 2.65s\n",
      "59:\tlearn: 1637.2721425\ttotal: 3.87s\tremaining: 2.58s\n",
      "60:\tlearn: 1632.5737494\ttotal: 3.93s\tremaining: 2.51s\n",
      "61:\tlearn: 1627.5345842\ttotal: 3.99s\tremaining: 2.45s\n",
      "62:\tlearn: 1623.6197854\ttotal: 4.05s\tremaining: 2.38s\n",
      "63:\tlearn: 1620.3608271\ttotal: 4.11s\tremaining: 2.31s\n",
      "64:\tlearn: 1617.9539315\ttotal: 4.17s\tremaining: 2.24s\n",
      "65:\tlearn: 1614.9551180\ttotal: 4.23s\tremaining: 2.18s\n",
      "66:\tlearn: 1612.2863759\ttotal: 4.29s\tremaining: 2.12s\n",
      "67:\tlearn: 1610.8834556\ttotal: 4.35s\tremaining: 2.05s\n",
      "68:\tlearn: 1609.1113711\ttotal: 4.42s\tremaining: 1.98s\n",
      "69:\tlearn: 1607.1978824\ttotal: 4.48s\tremaining: 1.92s\n",
      "70:\tlearn: 1604.3287694\ttotal: 4.54s\tremaining: 1.85s\n",
      "71:\tlearn: 1603.2529897\ttotal: 4.6s\tremaining: 1.79s\n",
      "72:\tlearn: 1601.4888869\ttotal: 4.66s\tremaining: 1.72s\n",
      "73:\tlearn: 1599.2809763\ttotal: 4.72s\tremaining: 1.66s\n",
      "74:\tlearn: 1597.0240843\ttotal: 4.78s\tremaining: 1.59s\n",
      "75:\tlearn: 1594.8027642\ttotal: 4.84s\tremaining: 1.53s\n",
      "76:\tlearn: 1592.6780799\ttotal: 4.9s\tremaining: 1.46s\n",
      "77:\tlearn: 1590.2895774\ttotal: 4.97s\tremaining: 1.4s\n",
      "78:\tlearn: 1588.4503866\ttotal: 5.03s\tremaining: 1.34s\n",
      "79:\tlearn: 1586.3419583\ttotal: 5.09s\tremaining: 1.27s\n",
      "80:\tlearn: 1584.8802805\ttotal: 5.17s\tremaining: 1.21s\n",
      "81:\tlearn: 1583.1427069\ttotal: 5.24s\tremaining: 1.15s\n",
      "82:\tlearn: 1582.1525964\ttotal: 5.33s\tremaining: 1.09s\n",
      "83:\tlearn: 1581.2397572\ttotal: 5.4s\tremaining: 1.03s\n",
      "84:\tlearn: 1579.5818520\ttotal: 5.47s\tremaining: 965ms\n",
      "85:\tlearn: 1578.7243264\ttotal: 5.53s\tremaining: 900ms\n",
      "86:\tlearn: 1577.6299934\ttotal: 5.59s\tremaining: 835ms\n",
      "87:\tlearn: 1576.7016570\ttotal: 5.65s\tremaining: 770ms\n",
      "88:\tlearn: 1575.3684583\ttotal: 5.71s\tremaining: 705ms\n",
      "89:\tlearn: 1574.5641856\ttotal: 5.77s\tremaining: 641ms\n",
      "90:\tlearn: 1573.5253383\ttotal: 5.83s\tremaining: 577ms\n",
      "91:\tlearn: 1572.2135752\ttotal: 5.9s\tremaining: 513ms\n",
      "92:\tlearn: 1570.5659645\ttotal: 5.96s\tremaining: 449ms\n",
      "93:\tlearn: 1568.5959367\ttotal: 6.03s\tremaining: 385ms\n",
      "94:\tlearn: 1567.7626748\ttotal: 6.1s\tremaining: 321ms\n",
      "95:\tlearn: 1566.2845259\ttotal: 6.17s\tremaining: 257ms\n",
      "96:\tlearn: 1565.2595475\ttotal: 6.24s\tremaining: 193ms\n",
      "97:\tlearn: 1564.0261780\ttotal: 6.31s\tremaining: 129ms\n",
      "98:\tlearn: 1562.8214535\ttotal: 6.38s\tremaining: 64.4ms\n",
      "99:\tlearn: 1561.8752642\ttotal: 6.44s\tremaining: 0us\n",
      "0:\tlearn: 4214.7550281\ttotal: 67.4ms\tremaining: 6.67s\n",
      "1:\tlearn: 3925.7992100\ttotal: 136ms\tremaining: 6.64s\n",
      "2:\tlearn: 3670.3794962\ttotal: 198ms\tremaining: 6.4s\n",
      "3:\tlearn: 3445.1444670\ttotal: 266ms\tremaining: 6.39s\n",
      "4:\tlearn: 3250.9693145\ttotal: 332ms\tremaining: 6.32s\n",
      "5:\tlearn: 3073.7660370\ttotal: 399ms\tremaining: 6.25s\n",
      "6:\tlearn: 2916.5950122\ttotal: 460ms\tremaining: 6.11s\n",
      "7:\tlearn: 2784.6053282\ttotal: 526ms\tremaining: 6.05s\n",
      "8:\tlearn: 2669.7357713\ttotal: 589ms\tremaining: 5.95s\n",
      "9:\tlearn: 2568.4583051\ttotal: 652ms\tremaining: 5.87s\n",
      "10:\tlearn: 2478.7339179\ttotal: 713ms\tremaining: 5.77s\n",
      "11:\tlearn: 2388.1355898\ttotal: 779ms\tremaining: 5.71s\n",
      "12:\tlearn: 2308.3851504\ttotal: 841ms\tremaining: 5.63s\n",
      "13:\tlearn: 2241.0883580\ttotal: 903ms\tremaining: 5.54s\n",
      "14:\tlearn: 2180.2506308\ttotal: 962ms\tremaining: 5.45s\n",
      "15:\tlearn: 2127.8154732\ttotal: 1.02s\tremaining: 5.36s\n",
      "16:\tlearn: 2080.9713924\ttotal: 1.09s\tremaining: 5.31s\n",
      "17:\tlearn: 2037.4714663\ttotal: 1.15s\tremaining: 5.23s\n",
      "18:\tlearn: 1998.8986178\ttotal: 1.21s\tremaining: 5.15s\n",
      "19:\tlearn: 1965.0193233\ttotal: 1.27s\tremaining: 5.07s\n",
      "20:\tlearn: 1936.1395915\ttotal: 1.33s\tremaining: 5.01s\n",
      "21:\tlearn: 1909.6788763\ttotal: 1.39s\tremaining: 4.94s\n",
      "22:\tlearn: 1886.1795491\ttotal: 1.45s\tremaining: 4.86s\n",
      "23:\tlearn: 1867.4054155\ttotal: 1.51s\tremaining: 4.8s\n",
      "24:\tlearn: 1844.2808865\ttotal: 1.58s\tremaining: 4.73s\n",
      "25:\tlearn: 1827.8609732\ttotal: 1.64s\tremaining: 4.66s\n",
      "26:\tlearn: 1811.2278916\ttotal: 1.71s\tremaining: 4.63s\n",
      "27:\tlearn: 1794.9575823\ttotal: 1.78s\tremaining: 4.58s\n",
      "28:\tlearn: 1783.2462804\ttotal: 1.84s\tremaining: 4.51s\n",
      "29:\tlearn: 1772.1826496\ttotal: 1.91s\tremaining: 4.45s\n",
      "30:\tlearn: 1760.9879660\ttotal: 1.97s\tremaining: 4.38s\n",
      "31:\tlearn: 1750.1339318\ttotal: 2.03s\tremaining: 4.31s\n",
      "32:\tlearn: 1740.7515146\ttotal: 2.09s\tremaining: 4.24s\n",
      "33:\tlearn: 1733.1327975\ttotal: 2.15s\tremaining: 4.17s\n",
      "34:\tlearn: 1726.4270680\ttotal: 2.21s\tremaining: 4.11s\n",
      "35:\tlearn: 1719.8152725\ttotal: 2.27s\tremaining: 4.04s\n",
      "36:\tlearn: 1712.9836736\ttotal: 2.34s\tremaining: 3.98s\n",
      "37:\tlearn: 1706.4764022\ttotal: 2.4s\tremaining: 3.92s\n",
      "38:\tlearn: 1701.9667774\ttotal: 2.47s\tremaining: 3.86s\n",
      "39:\tlearn: 1697.5215782\ttotal: 2.53s\tremaining: 3.79s\n",
      "40:\tlearn: 1692.7554297\ttotal: 2.59s\tremaining: 3.73s\n",
      "41:\tlearn: 1689.3356975\ttotal: 2.65s\tremaining: 3.66s\n",
      "42:\tlearn: 1684.9502840\ttotal: 2.71s\tremaining: 3.6s\n",
      "43:\tlearn: 1681.4815281\ttotal: 2.78s\tremaining: 3.53s\n",
      "44:\tlearn: 1678.5589087\ttotal: 2.84s\tremaining: 3.47s\n",
      "45:\tlearn: 1675.6490894\ttotal: 2.9s\tremaining: 3.4s\n",
      "46:\tlearn: 1673.1945766\ttotal: 2.96s\tremaining: 3.33s\n",
      "47:\tlearn: 1669.2745038\ttotal: 3.02s\tremaining: 3.27s\n",
      "48:\tlearn: 1666.1973884\ttotal: 3.09s\tremaining: 3.22s\n",
      "49:\tlearn: 1662.3552642\ttotal: 3.15s\tremaining: 3.15s\n",
      "50:\tlearn: 1659.8049542\ttotal: 3.21s\tremaining: 3.09s\n",
      "51:\tlearn: 1657.5467184\ttotal: 3.28s\tremaining: 3.03s\n",
      "52:\tlearn: 1654.4454836\ttotal: 3.34s\tremaining: 2.96s\n",
      "53:\tlearn: 1651.4810275\ttotal: 3.4s\tremaining: 2.9s\n",
      "54:\tlearn: 1648.1596938\ttotal: 3.47s\tremaining: 2.84s\n",
      "55:\tlearn: 1645.1274217\ttotal: 3.53s\tremaining: 2.78s\n",
      "56:\tlearn: 1642.3666422\ttotal: 3.59s\tremaining: 2.71s\n",
      "57:\tlearn: 1639.4626794\ttotal: 3.65s\tremaining: 2.65s\n",
      "58:\tlearn: 1637.0163262\ttotal: 3.72s\tremaining: 2.58s\n",
      "59:\tlearn: 1634.9688390\ttotal: 3.78s\tremaining: 2.52s\n",
      "60:\tlearn: 1633.1320186\ttotal: 3.84s\tremaining: 2.46s\n",
      "61:\tlearn: 1631.4602166\ttotal: 3.91s\tremaining: 2.39s\n",
      "62:\tlearn: 1630.3705437\ttotal: 3.97s\tremaining: 2.33s\n",
      "63:\tlearn: 1626.2080124\ttotal: 4.03s\tremaining: 2.27s\n",
      "64:\tlearn: 1622.7806011\ttotal: 4.09s\tremaining: 2.2s\n",
      "65:\tlearn: 1618.8531824\ttotal: 4.15s\tremaining: 2.14s\n",
      "66:\tlearn: 1615.5566345\ttotal: 4.21s\tremaining: 2.07s\n",
      "67:\tlearn: 1614.4489880\ttotal: 4.28s\tremaining: 2.01s\n",
      "68:\tlearn: 1611.1790985\ttotal: 4.33s\tremaining: 1.95s\n",
      "69:\tlearn: 1608.6529366\ttotal: 4.39s\tremaining: 1.88s\n",
      "70:\tlearn: 1606.6615356\ttotal: 4.46s\tremaining: 1.82s\n",
      "71:\tlearn: 1604.9811644\ttotal: 4.52s\tremaining: 1.76s\n",
      "72:\tlearn: 1602.7061317\ttotal: 4.58s\tremaining: 1.69s\n",
      "73:\tlearn: 1600.7106006\ttotal: 4.64s\tremaining: 1.63s\n",
      "74:\tlearn: 1599.2572138\ttotal: 4.71s\tremaining: 1.57s\n",
      "75:\tlearn: 1597.6297732\ttotal: 4.77s\tremaining: 1.51s\n",
      "76:\tlearn: 1595.6394065\ttotal: 4.83s\tremaining: 1.44s\n",
      "77:\tlearn: 1594.1808016\ttotal: 4.9s\tremaining: 1.38s\n",
      "78:\tlearn: 1591.8518088\ttotal: 4.96s\tremaining: 1.32s\n",
      "79:\tlearn: 1589.5354707\ttotal: 5.04s\tremaining: 1.26s\n",
      "80:\tlearn: 1588.4529006\ttotal: 5.11s\tremaining: 1.2s\n",
      "81:\tlearn: 1587.7043548\ttotal: 5.18s\tremaining: 1.14s\n",
      "82:\tlearn: 1585.9774833\ttotal: 5.25s\tremaining: 1.07s\n",
      "83:\tlearn: 1584.8197245\ttotal: 5.31s\tremaining: 1.01s\n",
      "84:\tlearn: 1583.0981969\ttotal: 5.39s\tremaining: 951ms\n",
      "85:\tlearn: 1580.8101982\ttotal: 5.48s\tremaining: 892ms\n",
      "86:\tlearn: 1579.8260412\ttotal: 5.57s\tremaining: 832ms\n",
      "87:\tlearn: 1578.7609639\ttotal: 5.66s\tremaining: 771ms\n",
      "88:\tlearn: 1578.0088211\ttotal: 5.73s\tremaining: 708ms\n",
      "89:\tlearn: 1577.0813326\ttotal: 5.79s\tremaining: 644ms\n",
      "90:\tlearn: 1575.8997284\ttotal: 5.86s\tremaining: 579ms\n",
      "91:\tlearn: 1574.9127101\ttotal: 5.92s\tremaining: 515ms\n",
      "92:\tlearn: 1574.8864749\ttotal: 5.95s\tremaining: 448ms\n",
      "93:\tlearn: 1572.9264123\ttotal: 6.01s\tremaining: 384ms\n",
      "94:\tlearn: 1571.9269315\ttotal: 6.08s\tremaining: 320ms\n",
      "95:\tlearn: 1570.4740833\ttotal: 6.14s\tremaining: 256ms\n",
      "96:\tlearn: 1569.5662099\ttotal: 6.2s\tremaining: 192ms\n",
      "97:\tlearn: 1568.4511189\ttotal: 6.26s\tremaining: 128ms\n",
      "98:\tlearn: 1567.3783143\ttotal: 6.33s\tremaining: 63.9ms\n",
      "99:\tlearn: 1565.9947942\ttotal: 6.39s\tremaining: 0us\n",
      "0:\tlearn: 4216.7902061\ttotal: 69.3ms\tremaining: 6.86s\n",
      "1:\tlearn: 3927.6560593\ttotal: 133ms\tremaining: 6.52s\n",
      "2:\tlearn: 3673.0710602\ttotal: 192ms\tremaining: 6.2s\n",
      "3:\tlearn: 3448.4131409\ttotal: 250ms\tremaining: 6s\n",
      "4:\tlearn: 3250.3131349\ttotal: 312ms\tremaining: 5.94s\n",
      "5:\tlearn: 3074.1436324\ttotal: 372ms\tremaining: 5.83s\n",
      "6:\tlearn: 2921.7075907\ttotal: 432ms\tremaining: 5.74s\n",
      "7:\tlearn: 2787.7284642\ttotal: 494ms\tremaining: 5.68s\n",
      "8:\tlearn: 2670.3288712\ttotal: 559ms\tremaining: 5.65s\n",
      "9:\tlearn: 2570.3675123\ttotal: 621ms\tremaining: 5.59s\n",
      "10:\tlearn: 2470.9383747\ttotal: 684ms\tremaining: 5.53s\n",
      "11:\tlearn: 2382.3098220\ttotal: 749ms\tremaining: 5.49s\n",
      "12:\tlearn: 2303.8928015\ttotal: 814ms\tremaining: 5.45s\n",
      "13:\tlearn: 2238.1154763\ttotal: 876ms\tremaining: 5.38s\n",
      "14:\tlearn: 2178.5520746\ttotal: 935ms\tremaining: 5.3s\n",
      "15:\tlearn: 2126.9973301\ttotal: 997ms\tremaining: 5.24s\n",
      "16:\tlearn: 2082.0096259\ttotal: 1.06s\tremaining: 5.16s\n",
      "17:\tlearn: 2042.2724553\ttotal: 1.12s\tremaining: 5.1s\n",
      "18:\tlearn: 2004.3058395\ttotal: 1.18s\tremaining: 5.03s\n",
      "19:\tlearn: 1968.9109879\ttotal: 1.25s\tremaining: 4.98s\n",
      "20:\tlearn: 1938.4307815\ttotal: 1.31s\tremaining: 4.95s\n",
      "21:\tlearn: 1911.7796378\ttotal: 1.39s\tremaining: 4.92s\n",
      "22:\tlearn: 1888.7581736\ttotal: 1.45s\tremaining: 4.86s\n",
      "23:\tlearn: 1867.8744567\ttotal: 1.51s\tremaining: 4.79s\n",
      "24:\tlearn: 1850.6892776\ttotal: 1.58s\tremaining: 4.74s\n",
      "25:\tlearn: 1836.2924844\ttotal: 1.64s\tremaining: 4.67s\n",
      "26:\tlearn: 1822.4865832\ttotal: 1.71s\tremaining: 4.61s\n",
      "27:\tlearn: 1808.0263217\ttotal: 1.77s\tremaining: 4.56s\n",
      "28:\tlearn: 1793.4947349\ttotal: 1.83s\tremaining: 4.49s\n",
      "29:\tlearn: 1782.3075802\ttotal: 1.9s\tremaining: 4.43s\n",
      "30:\tlearn: 1772.2938956\ttotal: 1.96s\tremaining: 4.37s\n",
      "31:\tlearn: 1762.4268525\ttotal: 2.02s\tremaining: 4.3s\n",
      "32:\tlearn: 1754.5730732\ttotal: 2.09s\tremaining: 4.24s\n",
      "33:\tlearn: 1747.9197399\ttotal: 2.15s\tremaining: 4.17s\n",
      "34:\tlearn: 1740.3857287\ttotal: 2.21s\tremaining: 4.1s\n",
      "35:\tlearn: 1733.3878400\ttotal: 2.27s\tremaining: 4.03s\n",
      "36:\tlearn: 1726.4930717\ttotal: 2.33s\tremaining: 3.96s\n",
      "37:\tlearn: 1720.7245137\ttotal: 2.39s\tremaining: 3.9s\n",
      "38:\tlearn: 1716.0110131\ttotal: 2.45s\tremaining: 3.83s\n",
      "39:\tlearn: 1711.5180911\ttotal: 2.51s\tremaining: 3.77s\n",
      "40:\tlearn: 1707.6831032\ttotal: 2.58s\tremaining: 3.71s\n",
      "41:\tlearn: 1703.6207966\ttotal: 2.64s\tremaining: 3.64s\n",
      "42:\tlearn: 1698.9742525\ttotal: 2.72s\tremaining: 3.6s\n",
      "43:\tlearn: 1694.9784049\ttotal: 2.79s\tremaining: 3.54s\n",
      "44:\tlearn: 1690.5914189\ttotal: 2.85s\tremaining: 3.49s\n",
      "45:\tlearn: 1683.7452456\ttotal: 2.92s\tremaining: 3.43s\n",
      "46:\tlearn: 1679.0235250\ttotal: 2.98s\tremaining: 3.36s\n",
      "47:\tlearn: 1672.2323072\ttotal: 3.05s\tremaining: 3.3s\n",
      "48:\tlearn: 1669.3083769\ttotal: 3.11s\tremaining: 3.24s\n",
      "49:\tlearn: 1665.7845186\ttotal: 3.17s\tremaining: 3.17s\n",
      "50:\tlearn: 1663.1253373\ttotal: 3.23s\tremaining: 3.1s\n",
      "51:\tlearn: 1659.3679821\ttotal: 3.29s\tremaining: 3.04s\n",
      "52:\tlearn: 1656.8891694\ttotal: 3.36s\tremaining: 2.98s\n",
      "53:\tlearn: 1653.8399754\ttotal: 3.42s\tremaining: 2.91s\n",
      "54:\tlearn: 1651.8693517\ttotal: 3.48s\tremaining: 2.85s\n",
      "55:\tlearn: 1650.3798843\ttotal: 3.54s\tremaining: 2.78s\n",
      "56:\tlearn: 1648.2857568\ttotal: 3.6s\tremaining: 2.71s\n",
      "57:\tlearn: 1643.7465480\ttotal: 3.66s\tremaining: 2.65s\n",
      "58:\tlearn: 1640.5755925\ttotal: 3.72s\tremaining: 2.58s\n",
      "59:\tlearn: 1638.2619473\ttotal: 3.78s\tremaining: 2.52s\n",
      "60:\tlearn: 1634.5996480\ttotal: 3.85s\tremaining: 2.46s\n",
      "61:\tlearn: 1632.2895574\ttotal: 3.91s\tremaining: 2.4s\n",
      "62:\tlearn: 1628.7848989\ttotal: 3.98s\tremaining: 2.33s\n",
      "63:\tlearn: 1626.2148312\ttotal: 4.04s\tremaining: 2.27s\n",
      "64:\tlearn: 1624.4079506\ttotal: 4.11s\tremaining: 2.21s\n",
      "65:\tlearn: 1622.2687138\ttotal: 4.17s\tremaining: 2.15s\n",
      "66:\tlearn: 1619.5704551\ttotal: 4.24s\tremaining: 2.09s\n",
      "67:\tlearn: 1618.3549573\ttotal: 4.3s\tremaining: 2.02s\n",
      "68:\tlearn: 1616.3302911\ttotal: 4.37s\tremaining: 1.96s\n",
      "69:\tlearn: 1614.8085626\ttotal: 4.44s\tremaining: 1.9s\n",
      "70:\tlearn: 1613.3188020\ttotal: 4.5s\tremaining: 1.84s\n",
      "71:\tlearn: 1611.8570182\ttotal: 4.57s\tremaining: 1.78s\n",
      "72:\tlearn: 1610.3873659\ttotal: 4.64s\tremaining: 1.72s\n",
      "73:\tlearn: 1608.4674604\ttotal: 4.71s\tremaining: 1.65s\n",
      "74:\tlearn: 1606.4107514\ttotal: 4.78s\tremaining: 1.59s\n",
      "75:\tlearn: 1604.2124594\ttotal: 4.84s\tremaining: 1.53s\n",
      "76:\tlearn: 1602.1420814\ttotal: 4.91s\tremaining: 1.47s\n",
      "77:\tlearn: 1600.0376052\ttotal: 4.97s\tremaining: 1.4s\n",
      "78:\tlearn: 1598.3748822\ttotal: 5.04s\tremaining: 1.34s\n",
      "79:\tlearn: 1596.9415371\ttotal: 5.1s\tremaining: 1.27s\n",
      "80:\tlearn: 1594.7077176\ttotal: 5.16s\tremaining: 1.21s\n",
      "81:\tlearn: 1593.3330441\ttotal: 5.23s\tremaining: 1.15s\n",
      "82:\tlearn: 1591.9383219\ttotal: 5.29s\tremaining: 1.08s\n",
      "83:\tlearn: 1590.5486072\ttotal: 5.36s\tremaining: 1.02s\n",
      "84:\tlearn: 1588.7977300\ttotal: 5.42s\tremaining: 957ms\n",
      "85:\tlearn: 1586.8840084\ttotal: 5.49s\tremaining: 894ms\n",
      "86:\tlearn: 1585.6904265\ttotal: 5.56s\tremaining: 831ms\n",
      "87:\tlearn: 1585.2203593\ttotal: 5.63s\tremaining: 767ms\n",
      "88:\tlearn: 1582.6650178\ttotal: 5.7s\tremaining: 704ms\n",
      "89:\tlearn: 1581.8057458\ttotal: 5.76s\tremaining: 640ms\n",
      "90:\tlearn: 1579.9061398\ttotal: 5.83s\tremaining: 577ms\n",
      "91:\tlearn: 1578.2104302\ttotal: 5.9s\tremaining: 513ms\n",
      "92:\tlearn: 1577.4862757\ttotal: 5.97s\tremaining: 449ms\n",
      "93:\tlearn: 1576.1777842\ttotal: 6.04s\tremaining: 385ms\n",
      "94:\tlearn: 1573.6653274\ttotal: 6.1s\tremaining: 321ms\n",
      "95:\tlearn: 1573.0375716\ttotal: 6.17s\tremaining: 257ms\n",
      "96:\tlearn: 1571.2224450\ttotal: 6.23s\tremaining: 193ms\n",
      "97:\tlearn: 1570.4549161\ttotal: 6.29s\tremaining: 128ms\n",
      "98:\tlearn: 1569.1717079\ttotal: 6.36s\tremaining: 64.2ms\n",
      "99:\tlearn: 1568.4297663\ttotal: 6.42s\tremaining: 0us\n",
      "0:\tlearn: 4212.3888961\ttotal: 86.8ms\tremaining: 8.59s\n",
      "1:\tlearn: 3919.5731367\ttotal: 171ms\tremaining: 8.39s\n",
      "2:\tlearn: 3663.1626166\ttotal: 249ms\tremaining: 8.04s\n",
      "3:\tlearn: 3436.7690605\ttotal: 329ms\tremaining: 7.89s\n",
      "4:\tlearn: 3240.9250851\ttotal: 408ms\tremaining: 7.75s\n",
      "5:\tlearn: 3064.8750050\ttotal: 490ms\tremaining: 7.68s\n",
      "6:\tlearn: 2913.1260915\ttotal: 568ms\tremaining: 7.54s\n",
      "7:\tlearn: 2780.0145930\ttotal: 659ms\tremaining: 7.58s\n",
      "8:\tlearn: 2665.0760631\ttotal: 740ms\tremaining: 7.49s\n",
      "9:\tlearn: 2564.8771300\ttotal: 822ms\tremaining: 7.4s\n",
      "10:\tlearn: 2475.4713512\ttotal: 907ms\tremaining: 7.34s\n",
      "11:\tlearn: 2384.5871488\ttotal: 992ms\tremaining: 7.28s\n",
      "12:\tlearn: 2306.0924352\ttotal: 1.1s\tremaining: 7.38s\n",
      "13:\tlearn: 2239.2787570\ttotal: 1.2s\tremaining: 7.36s\n",
      "14:\tlearn: 2181.2827348\ttotal: 1.29s\tremaining: 7.34s\n",
      "15:\tlearn: 2130.1510534\ttotal: 1.38s\tremaining: 7.24s\n",
      "16:\tlearn: 2082.9747578\ttotal: 1.46s\tremaining: 7.11s\n",
      "17:\tlearn: 2044.3172819\ttotal: 1.53s\tremaining: 6.99s\n",
      "18:\tlearn: 2004.2883594\ttotal: 1.61s\tremaining: 6.86s\n",
      "19:\tlearn: 1970.1292064\ttotal: 1.69s\tremaining: 6.78s\n",
      "20:\tlearn: 1939.2225713\ttotal: 1.78s\tremaining: 6.69s\n",
      "21:\tlearn: 1912.1697909\ttotal: 1.86s\tremaining: 6.59s\n",
      "22:\tlearn: 1889.7524475\ttotal: 1.94s\tremaining: 6.48s\n",
      "23:\tlearn: 1869.9322632\ttotal: 2.01s\tremaining: 6.37s\n",
      "24:\tlearn: 1853.5857109\ttotal: 2.09s\tremaining: 6.28s\n",
      "25:\tlearn: 1836.4009853\ttotal: 2.17s\tremaining: 6.18s\n",
      "26:\tlearn: 1817.7620677\ttotal: 2.25s\tremaining: 6.09s\n",
      "27:\tlearn: 1802.3641225\ttotal: 2.33s\tremaining: 5.99s\n",
      "28:\tlearn: 1787.9122067\ttotal: 2.41s\tremaining: 5.9s\n",
      "29:\tlearn: 1776.3860729\ttotal: 2.49s\tremaining: 5.8s\n",
      "30:\tlearn: 1765.8845985\ttotal: 2.57s\tremaining: 5.71s\n",
      "31:\tlearn: 1757.1170135\ttotal: 2.64s\tremaining: 5.62s\n",
      "32:\tlearn: 1748.3189044\ttotal: 2.73s\tremaining: 5.54s\n",
      "33:\tlearn: 1740.5254051\ttotal: 2.8s\tremaining: 5.44s\n",
      "34:\tlearn: 1734.3290932\ttotal: 2.88s\tremaining: 5.34s\n",
      "35:\tlearn: 1728.2067670\ttotal: 2.95s\tremaining: 5.25s\n",
      "36:\tlearn: 1722.1473141\ttotal: 3.03s\tremaining: 5.15s\n",
      "37:\tlearn: 1716.4827112\ttotal: 3.1s\tremaining: 5.07s\n",
      "38:\tlearn: 1711.6249409\ttotal: 3.18s\tremaining: 4.97s\n",
      "39:\tlearn: 1705.9934184\ttotal: 3.26s\tremaining: 4.88s\n",
      "40:\tlearn: 1702.2118450\ttotal: 3.33s\tremaining: 4.79s\n",
      "41:\tlearn: 1697.4872879\ttotal: 3.4s\tremaining: 4.7s\n",
      "42:\tlearn: 1693.1475276\ttotal: 3.48s\tremaining: 4.61s\n",
      "43:\tlearn: 1689.5564853\ttotal: 3.56s\tremaining: 4.53s\n",
      "44:\tlearn: 1685.9527911\ttotal: 3.64s\tremaining: 4.44s\n",
      "45:\tlearn: 1682.2963459\ttotal: 3.72s\tremaining: 4.36s\n",
      "46:\tlearn: 1679.3520014\ttotal: 3.8s\tremaining: 4.28s\n",
      "47:\tlearn: 1675.9308853\ttotal: 3.88s\tremaining: 4.2s\n",
      "48:\tlearn: 1671.5927962\ttotal: 3.95s\tremaining: 4.12s\n",
      "49:\tlearn: 1668.5102364\ttotal: 4.03s\tremaining: 4.03s\n",
      "50:\tlearn: 1664.4285598\ttotal: 4.12s\tremaining: 3.95s\n",
      "51:\tlearn: 1661.5313798\ttotal: 4.19s\tremaining: 3.87s\n",
      "52:\tlearn: 1657.4268090\ttotal: 4.28s\tremaining: 3.8s\n",
      "53:\tlearn: 1654.2465808\ttotal: 4.37s\tremaining: 3.72s\n",
      "54:\tlearn: 1652.0015574\ttotal: 4.45s\tremaining: 3.64s\n",
      "55:\tlearn: 1649.0367083\ttotal: 4.53s\tremaining: 3.56s\n",
      "56:\tlearn: 1645.6327145\ttotal: 4.61s\tremaining: 3.48s\n",
      "57:\tlearn: 1643.2451381\ttotal: 4.69s\tremaining: 3.4s\n",
      "58:\tlearn: 1641.6198094\ttotal: 4.78s\tremaining: 3.32s\n",
      "59:\tlearn: 1640.3305026\ttotal: 4.86s\tremaining: 3.24s\n",
      "60:\tlearn: 1637.2431334\ttotal: 4.94s\tremaining: 3.16s\n",
      "61:\tlearn: 1634.7694844\ttotal: 5.02s\tremaining: 3.08s\n",
      "62:\tlearn: 1632.1835449\ttotal: 5.1s\tremaining: 2.99s\n",
      "63:\tlearn: 1630.2803718\ttotal: 5.18s\tremaining: 2.91s\n",
      "64:\tlearn: 1626.0301968\ttotal: 5.26s\tremaining: 2.83s\n",
      "65:\tlearn: 1622.6540883\ttotal: 5.38s\tremaining: 2.77s\n",
      "66:\tlearn: 1620.0965759\ttotal: 5.47s\tremaining: 2.69s\n",
      "67:\tlearn: 1617.3431947\ttotal: 5.55s\tremaining: 2.61s\n",
      "68:\tlearn: 1614.8737824\ttotal: 5.63s\tremaining: 2.53s\n",
      "69:\tlearn: 1612.1235037\ttotal: 5.71s\tremaining: 2.45s\n",
      "70:\tlearn: 1610.2743284\ttotal: 5.8s\tremaining: 2.37s\n",
      "71:\tlearn: 1607.8563138\ttotal: 5.88s\tremaining: 2.29s\n",
      "72:\tlearn: 1605.8926445\ttotal: 5.96s\tremaining: 2.21s\n",
      "73:\tlearn: 1602.7344069\ttotal: 6.04s\tremaining: 2.12s\n",
      "74:\tlearn: 1600.8305651\ttotal: 6.12s\tremaining: 2.04s\n",
      "75:\tlearn: 1599.2633060\ttotal: 6.2s\tremaining: 1.96s\n",
      "76:\tlearn: 1598.2375432\ttotal: 6.28s\tremaining: 1.87s\n",
      "77:\tlearn: 1596.8503595\ttotal: 6.35s\tremaining: 1.79s\n",
      "78:\tlearn: 1595.2214025\ttotal: 6.44s\tremaining: 1.71s\n",
      "79:\tlearn: 1592.5946081\ttotal: 6.52s\tremaining: 1.63s\n",
      "80:\tlearn: 1590.5814437\ttotal: 6.61s\tremaining: 1.55s\n",
      "81:\tlearn: 1588.6272766\ttotal: 6.69s\tremaining: 1.47s\n",
      "82:\tlearn: 1587.5337149\ttotal: 6.77s\tremaining: 1.39s\n",
      "83:\tlearn: 1585.1463766\ttotal: 6.86s\tremaining: 1.3s\n",
      "84:\tlearn: 1582.9438899\ttotal: 6.93s\tremaining: 1.22s\n",
      "85:\tlearn: 1581.6001896\ttotal: 7.01s\tremaining: 1.14s\n",
      "86:\tlearn: 1579.9832352\ttotal: 7.08s\tremaining: 1.06s\n",
      "87:\tlearn: 1578.8559519\ttotal: 7.16s\tremaining: 977ms\n",
      "88:\tlearn: 1577.2506683\ttotal: 7.24s\tremaining: 895ms\n",
      "89:\tlearn: 1576.6696420\ttotal: 7.32s\tremaining: 813ms\n",
      "90:\tlearn: 1575.4816212\ttotal: 7.4s\tremaining: 732ms\n",
      "91:\tlearn: 1574.1861916\ttotal: 7.48s\tremaining: 651ms\n",
      "92:\tlearn: 1571.8420432\ttotal: 7.56s\tremaining: 569ms\n",
      "93:\tlearn: 1571.1182203\ttotal: 7.64s\tremaining: 488ms\n",
      "94:\tlearn: 1569.7888224\ttotal: 7.72s\tremaining: 407ms\n",
      "95:\tlearn: 1568.5871051\ttotal: 7.82s\tremaining: 326ms\n",
      "96:\tlearn: 1567.8037368\ttotal: 7.9s\tremaining: 244ms\n",
      "97:\tlearn: 1565.9701665\ttotal: 8s\tremaining: 163ms\n",
      "98:\tlearn: 1565.2085382\ttotal: 8.08s\tremaining: 81.6ms\n",
      "99:\tlearn: 1564.4711703\ttotal: 8.16s\tremaining: 0us\n"
     ]
    },
    {
     "data": {
      "text/plain": [
       "'best params'"
      ]
     },
     "metadata": {},
     "output_type": "display_data"
    },
    {
     "data": {
      "text/plain": [
       "{'depth': 10, 'learning_rate': 0.1}"
      ]
     },
     "metadata": {},
     "output_type": "display_data"
    },
    {
     "name": "stdout",
     "output_type": "stream",
     "text": [
      "CPU times: user 1min 50s, sys: 1.06 s, total: 1min 51s\n",
      "Wall time: 2min\n"
     ]
    }
   ],
   "source": [
    "%%time\n",
    "parametrs_grid = {'learning_rate': [0.03, 0.1],\n",
    "        'depth': [4, 10]}\n",
    "\n",
    "model_CAT = CatBoostRegressor(loss_function=\"RMSE\",\n",
    "                              iterations=100, \n",
    "                              random_state=1234,\n",
    "                              cat_features=['VehicleType', 'Gearbox', 'Model', 'FuelType', 'Brand', 'Repaired'])\n",
    "\n",
    "grid_cv = GridSearchCV(model_CAT, parametrs_grid, scoring='neg_root_mean_squared_error')\n",
    "\n",
    "grid_cv.fit(CB_train, t_train)\n",
    "display('best params', grid_cv.best_params_)"
   ]
  },
  {
   "cell_type": "code",
   "execution_count": 42,
   "metadata": {},
   "outputs": [
    {
     "data": {
      "text/html": [
       "<div>\n",
       "<style scoped>\n",
       "    .dataframe tbody tr th:only-of-type {\n",
       "        vertical-align: middle;\n",
       "    }\n",
       "\n",
       "    .dataframe tbody tr th {\n",
       "        vertical-align: top;\n",
       "    }\n",
       "\n",
       "    .dataframe thead th {\n",
       "        text-align: right;\n",
       "    }\n",
       "</style>\n",
       "<table border=\"1\" class=\"dataframe\">\n",
       "  <thead>\n",
       "    <tr style=\"text-align: right;\">\n",
       "      <th></th>\n",
       "      <th>mean_fit_time</th>\n",
       "      <th>std_fit_time</th>\n",
       "      <th>mean_score_time</th>\n",
       "      <th>std_score_time</th>\n",
       "      <th>param_depth</th>\n",
       "      <th>param_learning_rate</th>\n",
       "      <th>params</th>\n",
       "      <th>split0_test_score</th>\n",
       "      <th>split1_test_score</th>\n",
       "      <th>split2_test_score</th>\n",
       "      <th>split3_test_score</th>\n",
       "      <th>split4_test_score</th>\n",
       "      <th>mean_test_score</th>\n",
       "      <th>std_test_score</th>\n",
       "      <th>rank_test_score</th>\n",
       "    </tr>\n",
       "  </thead>\n",
       "  <tbody>\n",
       "    <tr>\n",
       "      <th>3</th>\n",
       "      <td>7.284228</td>\n",
       "      <td>0.20808</td>\n",
       "      <td>0.050238</td>\n",
       "      <td>0.004595</td>\n",
       "      <td>10</td>\n",
       "      <td>0.1</td>\n",
       "      <td>{'depth': 10, 'learning_rate': 0.1}</td>\n",
       "      <td>-1634.863775</td>\n",
       "      <td>-1611.573361</td>\n",
       "      <td>-1634.367289</td>\n",
       "      <td>-1615.388974</td>\n",
       "      <td>-1580.643709</td>\n",
       "      <td>-1615.367422</td>\n",
       "      <td>19.805223</td>\n",
       "      <td>1</td>\n",
       "    </tr>\n",
       "  </tbody>\n",
       "</table>\n",
       "</div>"
      ],
      "text/plain": [
       "   mean_fit_time  std_fit_time  mean_score_time  std_score_time param_depth  \\\n",
       "3       7.284228       0.20808         0.050238        0.004595          10   \n",
       "\n",
       "  param_learning_rate                               params  split0_test_score  \\\n",
       "3                 0.1  {'depth': 10, 'learning_rate': 0.1}       -1634.863775   \n",
       "\n",
       "   split1_test_score  split2_test_score  split3_test_score  split4_test_score  \\\n",
       "3       -1611.573361       -1634.367289       -1615.388974       -1580.643709   \n",
       "\n",
       "   mean_test_score  std_test_score  rank_test_score  \n",
       "3     -1615.367422       19.805223                1  "
      ]
     },
     "metadata": {},
     "output_type": "display_data"
    },
    {
     "data": {
      "text/plain": [
       "7.284227752685547"
      ]
     },
     "metadata": {},
     "output_type": "display_data"
    },
    {
     "data": {
      "text/plain": [
       "0.0502377986907959"
      ]
     },
     "metadata": {},
     "output_type": "display_data"
    },
    {
     "data": {
      "text/plain": [
       "-1615.3674217340747"
      ]
     },
     "metadata": {},
     "output_type": "display_data"
    }
   ],
   "source": [
    "results_CB=pd.DataFrame(grid_cv.cv_results_)\n",
    "best_score_CB=grid_cv.best_score_\n",
    "display(results_CB.loc[results_CB['rank_test_score'] == 1])\n",
    "display(results_CB.loc[results_CB['rank_test_score'] == 1]['mean_fit_time'].values[0])\n",
    "display(results_CB.loc[results_CB['rank_test_score'] == 1]['mean_score_time'].values[0])\n",
    "display(best_score_CB)"
   ]
  },
  {
   "cell_type": "markdown",
   "metadata": {},
   "source": [
    "RMSE хуже, чем у LGBM, и скорость обучения хуже, однако скорость предсказаний- лучше."
   ]
  },
  {
   "cell_type": "markdown",
   "metadata": {},
   "source": [
    "**Обучение модели SGDRegressor**"
   ]
  },
  {
   "cell_type": "code",
   "execution_count": 44,
   "metadata": {},
   "outputs": [
    {
     "data": {
      "text/plain": [
       "'best params'"
      ]
     },
     "metadata": {},
     "output_type": "display_data"
    },
    {
     "data": {
      "text/plain": [
       "{'max_iter': 1000}"
      ]
     },
     "metadata": {},
     "output_type": "display_data"
    },
    {
     "name": "stdout",
     "output_type": "stream",
     "text": [
      "CPU times: user 6.94 s, sys: 1.51 s, total: 8.44 s\n",
      "Wall time: 8.45 s\n"
     ]
    }
   ],
   "source": [
    "%%time\n",
    "\n",
    "parametrs_grid = {'max_iter': [100, 500, 1000]}\n",
    "model_SGD = SGDRegressor()\n",
    "\n",
    "grid_cv = GridSearchCV(model_SGD, param_grid=parametrs_grid, scoring='neg_root_mean_squared_error')\n",
    "\n",
    "grid_cv.fit(SGD_train, t_train)\n",
    "display('best params', grid_cv.best_params_)"
   ]
  },
  {
   "cell_type": "code",
   "execution_count": 45,
   "metadata": {},
   "outputs": [
    {
     "data": {
      "text/html": [
       "<div>\n",
       "<style scoped>\n",
       "    .dataframe tbody tr th:only-of-type {\n",
       "        vertical-align: middle;\n",
       "    }\n",
       "\n",
       "    .dataframe tbody tr th {\n",
       "        vertical-align: top;\n",
       "    }\n",
       "\n",
       "    .dataframe thead th {\n",
       "        text-align: right;\n",
       "    }\n",
       "</style>\n",
       "<table border=\"1\" class=\"dataframe\">\n",
       "  <thead>\n",
       "    <tr style=\"text-align: right;\">\n",
       "      <th></th>\n",
       "      <th>mean_fit_time</th>\n",
       "      <th>std_fit_time</th>\n",
       "      <th>mean_score_time</th>\n",
       "      <th>std_score_time</th>\n",
       "      <th>param_max_iter</th>\n",
       "      <th>params</th>\n",
       "      <th>split0_test_score</th>\n",
       "      <th>split1_test_score</th>\n",
       "      <th>split2_test_score</th>\n",
       "      <th>split3_test_score</th>\n",
       "      <th>split4_test_score</th>\n",
       "      <th>mean_test_score</th>\n",
       "      <th>std_test_score</th>\n",
       "      <th>rank_test_score</th>\n",
       "    </tr>\n",
       "  </thead>\n",
       "  <tbody>\n",
       "    <tr>\n",
       "      <th>2</th>\n",
       "      <td>0.511523</td>\n",
       "      <td>0.118603</td>\n",
       "      <td>0.003158</td>\n",
       "      <td>0.00009</td>\n",
       "      <td>1000</td>\n",
       "      <td>{'max_iter': 1000}</td>\n",
       "      <td>-2834.64164</td>\n",
       "      <td>-2769.685822</td>\n",
       "      <td>-2797.777546</td>\n",
       "      <td>-2800.055485</td>\n",
       "      <td>-2784.521016</td>\n",
       "      <td>-2797.336302</td>\n",
       "      <td>21.578033</td>\n",
       "      <td>1</td>\n",
       "    </tr>\n",
       "  </tbody>\n",
       "</table>\n",
       "</div>"
      ],
      "text/plain": [
       "   mean_fit_time  std_fit_time  mean_score_time  std_score_time  \\\n",
       "2       0.511523      0.118603         0.003158         0.00009   \n",
       "\n",
       "  param_max_iter              params  split0_test_score  split1_test_score  \\\n",
       "2           1000  {'max_iter': 1000}        -2834.64164       -2769.685822   \n",
       "\n",
       "   split2_test_score  split3_test_score  split4_test_score  mean_test_score  \\\n",
       "2       -2797.777546       -2800.055485       -2784.521016     -2797.336302   \n",
       "\n",
       "   std_test_score  rank_test_score  \n",
       "2       21.578033                1  "
      ]
     },
     "metadata": {},
     "output_type": "display_data"
    },
    {
     "data": {
      "text/plain": [
       "0.5115225315093994"
      ]
     },
     "metadata": {},
     "output_type": "display_data"
    },
    {
     "data": {
      "text/plain": [
       "0.0031577587127685548"
      ]
     },
     "metadata": {},
     "output_type": "display_data"
    },
    {
     "data": {
      "text/plain": [
       "-2797.3363017537936"
      ]
     },
     "metadata": {},
     "output_type": "display_data"
    }
   ],
   "source": [
    "results_SGD=pd.DataFrame(grid_cv.cv_results_)\n",
    "best_score_SGD=grid_cv.best_score_\n",
    "display(results_SGD.loc[results_SGD['rank_test_score'] == 1])\n",
    "display(results_SGD.loc[results_SGD['rank_test_score'] == 1]['mean_fit_time'].values[0])\n",
    "display(results_SGD.loc[results_SGD['rank_test_score'] == 1]['mean_score_time'].values[0])\n",
    "display(best_score_SGD)"
   ]
  },
  {
   "cell_type": "markdown",
   "metadata": {},
   "source": [
    "Скорость обучения у модели высокая, но RMSE худший из всех."
   ]
  },
  {
   "cell_type": "markdown",
   "metadata": {},
   "source": [
    "Дополнительно, сравним результаты с константной моделью."
   ]
  },
  {
   "cell_type": "code",
   "execution_count": 52,
   "metadata": {},
   "outputs": [
    {
     "data": {
      "text/plain": [
       "'rmse ='"
      ]
     },
     "metadata": {},
     "output_type": "display_data"
    },
    {
     "data": {
      "text/plain": [
       "4864.304950025063"
      ]
     },
     "metadata": {},
     "output_type": "display_data"
    },
    {
     "name": "stdout",
     "output_type": "stream",
     "text": [
      "CPU times: user 7.58 ms, sys: 45 µs, total: 7.62 ms\n",
      "Wall time: 6.07 ms\n"
     ]
    }
   ],
   "source": [
    "%%time\n",
    "model_dummy = DummyRegressor(strategy='median')\n",
    "model_dummy.fit(RF_train, t_train)\n",
    "predict_model_dummy = model_dummy.predict(RF_valid)\n",
    "rmse_model_dummy = mse(t_valid, predict_model_dummy)**0.5\n",
    "display('rmse =', rmse_model_dummy)"
   ]
  },
  {
   "cell_type": "markdown",
   "metadata": {},
   "source": [
    "Ожидаемо, времени нужно немного, но при этом результат хуждший из всех- все использованные ранее модели эффективнее константной."
   ]
  },
  {
   "cell_type": "markdown",
   "metadata": {},
   "source": [
    "Лучшая модель по сочетанию скорости и качества- LGBM. Проверим ее на тестовой выборке."
   ]
  },
  {
   "cell_type": "code",
   "execution_count": 56,
   "metadata": {},
   "outputs": [
    {
     "data": {
      "text/plain": [
       "'rmse ='"
      ]
     },
     "metadata": {},
     "output_type": "display_data"
    },
    {
     "data": {
      "text/plain": [
       "1573.018990302318"
      ]
     },
     "metadata": {},
     "output_type": "display_data"
    },
    {
     "name": "stdout",
     "output_type": "stream",
     "text": [
      "CPU times: user 2min 12s, sys: 558 ms, total: 2min 12s\n",
      "Wall time: 2min 13s\n"
     ]
    }
   ],
   "source": [
    "%%time\n",
    "model_LGBM = lgb.LGBMRegressor(learning_rate=0.1, \n",
    "                              max_depth=10, \n",
    "                              random_state=1234)\n",
    "model_LGBM.fit(LGBM_train, t_train)\n",
    "predict_model_LGBM = model_LGBM.predict(LGBM_test)\n",
    "t_rmse_model_LGBM = mse(t_test, predict_model_LGBM)**0.5\n",
    "display('rmse =', t_rmse_model_LGBM)"
   ]
  },
  {
   "cell_type": "markdown",
   "metadata": {},
   "source": [
    "Проверку тестовой выборкой модель прошла."
   ]
  },
  {
   "cell_type": "markdown",
   "metadata": {},
   "source": [
    "**Вывод:**\n",
    "\n",
    "1) Создали выборки, масштабировали признаки\n",
    "\n",
    "2) Обучили 4 модели\n",
    "\n",
    "3) Лучший RMSE- у RandomForestRegressor\n",
    "\n",
    "4) Лучшее время- у SGDRegressor\n",
    "\n",
    "5) Модели, которые долго обучаются, больше времени тратят и на предсказания.\n",
    "\n",
    "6) Результаты на тестовой выборке, в целом, повторяют результаты на валидационной"
   ]
  },
  {
   "cell_type": "markdown",
   "metadata": {},
   "source": [
    "## Анализ моделей"
   ]
  },
  {
   "cell_type": "code",
   "execution_count": 62,
   "metadata": {},
   "outputs": [
    {
     "data": {
      "text/plain": [
       "'Результаты моделей по RMSE:'"
      ]
     },
     "metadata": {},
     "output_type": "display_data"
    },
    {
     "data": {
      "text/plain": [
       "'Модель RF'"
      ]
     },
     "metadata": {},
     "output_type": "display_data"
    },
    {
     "data": {
      "text/plain": [
       "-1608.45841586049"
      ]
     },
     "metadata": {},
     "output_type": "display_data"
    },
    {
     "data": {
      "text/plain": [
       "'Модель CatBoost'"
      ]
     },
     "metadata": {},
     "output_type": "display_data"
    },
    {
     "data": {
      "text/plain": [
       "-1615.3674217340747"
      ]
     },
     "metadata": {},
     "output_type": "display_data"
    },
    {
     "data": {
      "text/plain": [
       "'Модель LGBM'"
      ]
     },
     "metadata": {},
     "output_type": "display_data"
    },
    {
     "data": {
      "text/plain": [
       "-1581.104631603846"
      ]
     },
     "metadata": {},
     "output_type": "display_data"
    },
    {
     "data": {
      "text/plain": [
       "'Модель SGD'"
      ]
     },
     "metadata": {},
     "output_type": "display_data"
    },
    {
     "data": {
      "text/plain": [
       "-2797.3363017537936"
      ]
     },
     "metadata": {},
     "output_type": "display_data"
    }
   ],
   "source": [
    "display('Результаты моделей по RMSE:')\n",
    "display('Модель RF', best_score_RF)\n",
    "display('Модель CatBoost', best_score_CB)\n",
    "display('Модель LGBM', best_score_LGBM)\n",
    "display('Модель SGD', best_score_SGD)"
   ]
  },
  {
   "cell_type": "code",
   "execution_count": 60,
   "metadata": {},
   "outputs": [
    {
     "data": {
      "text/plain": [
       "'Результаты моделей по времени обучения:'"
      ]
     },
     "metadata": {},
     "output_type": "display_data"
    },
    {
     "data": {
      "text/plain": [
       "'Модель RF'"
      ]
     },
     "metadata": {},
     "output_type": "display_data"
    },
    {
     "data": {
      "text/plain": [
       "10.39611382484436"
      ]
     },
     "metadata": {},
     "output_type": "display_data"
    },
    {
     "data": {
      "text/plain": [
       "'Модель CatBoost'"
      ]
     },
     "metadata": {},
     "output_type": "display_data"
    },
    {
     "data": {
      "text/plain": [
       "7.284227752685547"
      ]
     },
     "metadata": {},
     "output_type": "display_data"
    },
    {
     "data": {
      "text/plain": [
       "'Модель LGBM'"
      ]
     },
     "metadata": {},
     "output_type": "display_data"
    },
    {
     "data": {
      "text/plain": [
       "3.9332820892333986"
      ]
     },
     "metadata": {},
     "output_type": "display_data"
    },
    {
     "data": {
      "text/plain": [
       "'Модель SGD'"
      ]
     },
     "metadata": {},
     "output_type": "display_data"
    },
    {
     "data": {
      "text/plain": [
       "0.5115225315093994"
      ]
     },
     "metadata": {},
     "output_type": "display_data"
    }
   ],
   "source": [
    "display('Результаты моделей по среднему времени обучения:')\n",
    "display('Модель RF', results_RF.loc[results_RF['rank_test_score'] == 1]['mean_fit_time'].values[0])\n",
    "display('Модель CatBoost', results_CB.loc[results_CB['rank_test_score'] == 1]['mean_fit_time'].values[0])\n",
    "display('Модель LGBM', results_LGBM.loc[results_LGBM['rank_test_score'] == 1]['mean_fit_time'].values[0])\n",
    "display('Модель SGD', results_SGD.loc[results_SGD['rank_test_score'] == 1]['mean_fit_time'].values[0])"
   ]
  },
  {
   "cell_type": "code",
   "execution_count": 61,
   "metadata": {},
   "outputs": [
    {
     "data": {
      "text/plain": [
       "'Результаты моделей по среднему времени предсказания:'"
      ]
     },
     "metadata": {},
     "output_type": "display_data"
    },
    {
     "data": {
      "text/plain": [
       "'Модель RF'"
      ]
     },
     "metadata": {},
     "output_type": "display_data"
    },
    {
     "data": {
      "text/plain": [
       "0.38844804763793944"
      ]
     },
     "metadata": {},
     "output_type": "display_data"
    },
    {
     "data": {
      "text/plain": [
       "'Модель CatBoost'"
      ]
     },
     "metadata": {},
     "output_type": "display_data"
    },
    {
     "data": {
      "text/plain": [
       "0.0502377986907959"
      ]
     },
     "metadata": {},
     "output_type": "display_data"
    },
    {
     "data": {
      "text/plain": [
       "'Модель LGBM'"
      ]
     },
     "metadata": {},
     "output_type": "display_data"
    },
    {
     "data": {
      "text/plain": [
       "0.3846573352813721"
      ]
     },
     "metadata": {},
     "output_type": "display_data"
    },
    {
     "data": {
      "text/plain": [
       "'Модель SGD'"
      ]
     },
     "metadata": {},
     "output_type": "display_data"
    },
    {
     "data": {
      "text/plain": [
       "0.0031577587127685548"
      ]
     },
     "metadata": {},
     "output_type": "display_data"
    }
   ],
   "source": [
    "display('Результаты моделей по среднему времени предсказания:')\n",
    "display('Модель RF', results_RF.loc[results_RF['rank_test_score'] == 1]['mean_score_time'].values[0])\n",
    "display('Модель CatBoost', results_CB.loc[results_CB['rank_test_score'] == 1]['mean_score_time'].values[0])\n",
    "display('Модель LGBM', results_LGBM.loc[results_LGBM['rank_test_score'] == 1]['mean_score_time'].values[0])\n",
    "display('Модель SGD', results_SGD.loc[results_SGD['rank_test_score'] == 1]['mean_score_time'].values[0])"
   ]
  },
  {
   "cell_type": "markdown",
   "metadata": {},
   "source": [
    "**Вывод**\n",
    "\n",
    "1) Самое лучшее сочетание скорости и качества- у модели LGBM\n",
    "\n",
    "2) Самый лучший RMSE- у LGBM\n",
    "\n",
    "3) Самая быстрая модель- SGDRegressor, однако ее RMSE сильно ниже конкурентов.\n",
    "\n",
    "4) Если важна именно скорость предсказаний у уже обученной модели, а RMSE не так критичен- можно также использовать CatBoost\n",
    "\n",
    "4) Все модели работают лучше константной.\n",
    "\n",
    "**Итого**\n",
    "\n",
    "В качестве лучшей модели, можно рекомендовать LGBM. Эта модель имеет лучшее качество предсказаний, и при этом демонстрирует хорошую скорость работы."
   ]
  },
  {
   "cell_type": "code",
   "execution_count": null,
   "metadata": {},
   "outputs": [],
   "source": []
  }
 ],
 "metadata": {
  "ExecuteTimeLog": [
   {
    "duration": 54,
    "start_time": "2022-11-18T13:44:25.875Z"
   },
   {
    "duration": 437,
    "start_time": "2022-11-18T13:44:29.235Z"
   },
   {
    "duration": 3012,
    "start_time": "2022-11-18T13:44:30.648Z"
   },
   {
    "duration": 106,
    "start_time": "2022-11-18T13:46:43.096Z"
   },
   {
    "duration": 62,
    "start_time": "2022-11-18T13:56:23.390Z"
   },
   {
    "duration": 98,
    "start_time": "2022-11-18T13:56:38.802Z"
   },
   {
    "duration": 95,
    "start_time": "2022-11-18T13:57:26.887Z"
   },
   {
    "duration": 449,
    "start_time": "2022-11-18T13:58:50.713Z"
   },
   {
    "duration": 817,
    "start_time": "2022-11-18T13:58:51.164Z"
   },
   {
    "duration": 122,
    "start_time": "2022-11-18T13:58:51.983Z"
   },
   {
    "duration": 134,
    "start_time": "2022-11-18T13:58:52.108Z"
   },
   {
    "duration": 99,
    "start_time": "2022-11-18T13:58:52.244Z"
   },
   {
    "duration": 12,
    "start_time": "2022-11-18T13:59:57.142Z"
   },
   {
    "duration": 6,
    "start_time": "2022-11-18T14:01:27.548Z"
   },
   {
    "duration": 94,
    "start_time": "2022-11-18T14:03:02.096Z"
   },
   {
    "duration": 62,
    "start_time": "2022-11-18T14:07:45.309Z"
   },
   {
    "duration": 7,
    "start_time": "2022-11-18T14:08:29.522Z"
   },
   {
    "duration": 3,
    "start_time": "2022-11-18T14:09:06.100Z"
   },
   {
    "duration": 4,
    "start_time": "2022-11-18T14:09:14.700Z"
   },
   {
    "duration": 12,
    "start_time": "2022-11-18T14:09:38.600Z"
   },
   {
    "duration": 165,
    "start_time": "2022-11-18T14:11:45.981Z"
   },
   {
    "duration": 170,
    "start_time": "2022-11-18T14:14:01.668Z"
   },
   {
    "duration": 167,
    "start_time": "2022-11-18T14:16:04.056Z"
   },
   {
    "duration": 73,
    "start_time": "2022-11-18T14:18:33.391Z"
   },
   {
    "duration": 77,
    "start_time": "2022-11-18T14:19:07.512Z"
   },
   {
    "duration": 19,
    "start_time": "2022-11-18T14:22:36.412Z"
   },
   {
    "duration": 35,
    "start_time": "2022-11-18T14:27:39.599Z"
   },
   {
    "duration": 76,
    "start_time": "2022-11-18T14:27:48.907Z"
   },
   {
    "duration": 4,
    "start_time": "2022-11-18T14:27:56.218Z"
   },
   {
    "duration": 425,
    "start_time": "2022-11-18T14:29:05.266Z"
   },
   {
    "duration": 8556,
    "start_time": "2022-11-18T14:31:15.940Z"
   },
   {
    "duration": 191,
    "start_time": "2022-11-18T14:36:50.254Z"
   },
   {
    "duration": 155,
    "start_time": "2022-11-18T14:37:10.395Z"
   },
   {
    "duration": 121,
    "start_time": "2022-11-18T14:38:10.434Z"
   },
   {
    "duration": 5,
    "start_time": "2022-11-18T14:39:16.660Z"
   },
   {
    "duration": 18,
    "start_time": "2022-11-18T14:40:13.961Z"
   },
   {
    "duration": 971,
    "start_time": "2022-11-18T14:40:35.103Z"
   },
   {
    "duration": 232,
    "start_time": "2022-11-18T15:23:31.956Z"
   },
   {
    "duration": 11,
    "start_time": "2022-11-18T15:23:50.336Z"
   },
   {
    "duration": 9,
    "start_time": "2022-11-18T15:23:56.162Z"
   },
   {
    "duration": 10,
    "start_time": "2022-11-18T15:25:02.314Z"
   },
   {
    "duration": 33,
    "start_time": "2022-11-18T15:25:11.077Z"
   },
   {
    "duration": 1114,
    "start_time": "2022-11-18T15:28:41.955Z"
   },
   {
    "duration": 77,
    "start_time": "2022-11-18T15:28:58.449Z"
   },
   {
    "duration": 69,
    "start_time": "2022-11-18T15:29:27.135Z"
   },
   {
    "duration": 26,
    "start_time": "2022-11-18T15:30:00.059Z"
   },
   {
    "duration": 686,
    "start_time": "2022-11-18T15:30:41.914Z"
   },
   {
    "duration": 883,
    "start_time": "2022-11-18T15:30:42.601Z"
   },
   {
    "duration": 121,
    "start_time": "2022-11-18T15:30:43.486Z"
   },
   {
    "duration": 129,
    "start_time": "2022-11-18T15:30:43.609Z"
   },
   {
    "duration": 13,
    "start_time": "2022-11-18T15:30:43.739Z"
   },
   {
    "duration": 8,
    "start_time": "2022-11-18T15:30:43.753Z"
   },
   {
    "duration": 123,
    "start_time": "2022-11-18T15:30:43.763Z"
   },
   {
    "duration": 85,
    "start_time": "2022-11-18T15:30:43.888Z"
   },
   {
    "duration": 135,
    "start_time": "2022-11-18T15:30:43.974Z"
   },
   {
    "duration": 953,
    "start_time": "2022-11-18T15:30:44.112Z"
   },
   {
    "duration": 30,
    "start_time": "2022-11-18T15:30:45.067Z"
   },
   {
    "duration": 92,
    "start_time": "2022-11-18T15:30:45.099Z"
   },
   {
    "duration": 143,
    "start_time": "2022-11-18T15:30:55.571Z"
   },
   {
    "duration": 164,
    "start_time": "2022-11-18T15:31:53.133Z"
   },
   {
    "duration": 258,
    "start_time": "2022-11-18T15:32:42.080Z"
   },
   {
    "duration": 69,
    "start_time": "2022-11-18T15:33:33.516Z"
   },
   {
    "duration": 72,
    "start_time": "2022-11-18T15:40:22.797Z"
   },
   {
    "duration": 515,
    "start_time": "2022-11-18T15:40:51.658Z"
   },
   {
    "duration": 44,
    "start_time": "2022-11-18T15:40:57.471Z"
   },
   {
    "duration": 18496,
    "start_time": "2022-11-18T15:41:05.122Z"
   },
   {
    "duration": 3,
    "start_time": "2022-11-18T15:41:28.674Z"
   },
   {
    "duration": 18556,
    "start_time": "2022-11-18T15:41:34.523Z"
   },
   {
    "duration": 11,
    "start_time": "2022-11-18T15:52:52.029Z"
   },
   {
    "duration": 12,
    "start_time": "2022-11-18T15:53:10.457Z"
   },
   {
    "duration": 82,
    "start_time": "2022-11-18T15:57:53.111Z"
   },
   {
    "duration": 9,
    "start_time": "2022-11-18T15:58:09.983Z"
   },
   {
    "duration": 95465,
    "start_time": "2022-11-18T15:58:29.874Z"
   },
   {
    "duration": 26,
    "start_time": "2022-11-18T16:00:27.386Z"
   },
   {
    "duration": 44,
    "start_time": "2022-11-18T16:00:49.151Z"
   },
   {
    "duration": 29,
    "start_time": "2022-11-18T16:01:12.715Z"
   },
   {
    "duration": 13,
    "start_time": "2022-11-18T16:01:28.683Z"
   },
   {
    "duration": 97,
    "start_time": "2022-11-18T16:02:49.265Z"
   },
   {
    "duration": 26,
    "start_time": "2022-11-18T16:02:55.643Z"
   },
   {
    "duration": 8,
    "start_time": "2022-11-18T16:05:23.216Z"
   },
   {
    "duration": 6,
    "start_time": "2022-11-18T16:05:34.874Z"
   },
   {
    "duration": 28,
    "start_time": "2022-11-18T16:08:16.796Z"
   },
   {
    "duration": 13,
    "start_time": "2022-11-18T16:08:26.319Z"
   },
   {
    "duration": 6,
    "start_time": "2022-11-18T16:10:17.360Z"
   },
   {
    "duration": 1074,
    "start_time": "2022-11-18T16:11:19.251Z"
   },
   {
    "duration": 836,
    "start_time": "2022-11-18T16:11:20.327Z"
   },
   {
    "duration": 120,
    "start_time": "2022-11-18T16:11:21.165Z"
   },
   {
    "duration": 137,
    "start_time": "2022-11-18T16:11:21.287Z"
   },
   {
    "duration": 13,
    "start_time": "2022-11-18T16:11:21.425Z"
   },
   {
    "duration": 8,
    "start_time": "2022-11-18T16:11:21.439Z"
   },
   {
    "duration": 124,
    "start_time": "2022-11-18T16:11:21.449Z"
   },
   {
    "duration": 98,
    "start_time": "2022-11-18T16:11:21.575Z"
   },
   {
    "duration": 104,
    "start_time": "2022-11-18T16:11:21.675Z"
   },
   {
    "duration": 869,
    "start_time": "2022-11-18T16:11:21.782Z"
   },
   {
    "duration": 31,
    "start_time": "2022-11-18T16:11:22.653Z"
   },
   {
    "duration": 171,
    "start_time": "2022-11-18T16:11:22.686Z"
   },
   {
    "duration": 171,
    "start_time": "2022-11-18T16:11:22.859Z"
   },
   {
    "duration": 261,
    "start_time": "2022-11-18T16:11:23.031Z"
   },
   {
    "duration": 71,
    "start_time": "2022-11-18T16:11:23.293Z"
   },
   {
    "duration": 19251,
    "start_time": "2022-11-18T16:11:23.366Z"
   },
   {
    "duration": 13,
    "start_time": "2022-11-18T16:11:42.622Z"
   },
   {
    "duration": 47,
    "start_time": "2022-11-18T16:11:42.636Z"
   },
   {
    "duration": 0,
    "start_time": "2022-11-18T16:11:42.684Z"
   },
   {
    "duration": 0,
    "start_time": "2022-11-18T16:11:42.685Z"
   },
   {
    "duration": 26,
    "start_time": "2022-11-18T16:12:03.574Z"
   },
   {
    "duration": 14,
    "start_time": "2022-11-18T16:12:07.403Z"
   },
   {
    "duration": 5,
    "start_time": "2022-11-18T16:12:18.728Z"
   },
   {
    "duration": 29,
    "start_time": "2022-11-18T16:12:53.668Z"
   },
   {
    "duration": 11,
    "start_time": "2022-11-18T16:15:01.403Z"
   },
   {
    "duration": 17,
    "start_time": "2022-11-18T16:15:26.829Z"
   },
   {
    "duration": 77,
    "start_time": "2022-11-18T16:16:38.659Z"
   },
   {
    "duration": 96,
    "start_time": "2022-11-18T16:16:50.951Z"
   },
   {
    "duration": 7,
    "start_time": "2022-11-18T16:19:02.380Z"
   },
   {
    "duration": 19049,
    "start_time": "2022-11-18T16:19:34.385Z"
   },
   {
    "duration": 1319,
    "start_time": "2022-11-19T04:06:05.048Z"
   },
   {
    "duration": 2773,
    "start_time": "2022-11-19T04:06:06.369Z"
   },
   {
    "duration": 154,
    "start_time": "2022-11-19T04:06:09.144Z"
   },
   {
    "duration": 151,
    "start_time": "2022-11-19T04:06:09.300Z"
   },
   {
    "duration": 13,
    "start_time": "2022-11-19T04:06:09.452Z"
   },
   {
    "duration": 8,
    "start_time": "2022-11-19T04:06:09.466Z"
   },
   {
    "duration": 162,
    "start_time": "2022-11-19T04:06:09.476Z"
   },
   {
    "duration": 125,
    "start_time": "2022-11-19T04:06:09.641Z"
   },
   {
    "duration": 139,
    "start_time": "2022-11-19T04:06:09.768Z"
   },
   {
    "duration": 875,
    "start_time": "2022-11-19T04:06:09.910Z"
   },
   {
    "duration": 63,
    "start_time": "2022-11-19T04:06:10.787Z"
   },
   {
    "duration": 177,
    "start_time": "2022-11-19T04:06:10.852Z"
   },
   {
    "duration": 179,
    "start_time": "2022-11-19T04:06:11.030Z"
   },
   {
    "duration": 286,
    "start_time": "2022-11-19T04:06:11.211Z"
   },
   {
    "duration": 72,
    "start_time": "2022-11-19T04:06:11.499Z"
   },
   {
    "duration": 19050,
    "start_time": "2022-11-19T04:06:11.573Z"
   },
   {
    "duration": 13,
    "start_time": "2022-11-19T04:06:30.625Z"
   },
   {
    "duration": 29,
    "start_time": "2022-11-19T04:06:30.651Z"
   },
   {
    "duration": 14,
    "start_time": "2022-11-19T04:06:30.682Z"
   },
   {
    "duration": 21,
    "start_time": "2022-11-19T04:06:30.698Z"
   },
   {
    "duration": 41,
    "start_time": "2022-11-19T04:06:30.721Z"
   },
   {
    "duration": 119,
    "start_time": "2022-11-19T04:06:30.764Z"
   },
   {
    "duration": 6,
    "start_time": "2022-11-19T04:06:30.885Z"
   },
   {
    "duration": 18483,
    "start_time": "2022-11-19T04:06:30.893Z"
   },
   {
    "duration": 12,
    "start_time": "2022-11-19T07:22:03.707Z"
   },
   {
    "duration": 1388,
    "start_time": "2022-11-19T07:24:57.179Z"
   },
   {
    "duration": 1055,
    "start_time": "2022-11-19T07:24:58.569Z"
   },
   {
    "duration": 219,
    "start_time": "2022-11-19T07:24:59.626Z"
   },
   {
    "duration": 183,
    "start_time": "2022-11-19T07:24:59.848Z"
   },
   {
    "duration": 32,
    "start_time": "2022-11-19T07:25:00.033Z"
   },
   {
    "duration": 53,
    "start_time": "2022-11-19T07:25:00.068Z"
   },
   {
    "duration": 206,
    "start_time": "2022-11-19T07:25:00.123Z"
   },
   {
    "duration": 131,
    "start_time": "2022-11-19T07:25:00.332Z"
   },
   {
    "duration": 191,
    "start_time": "2022-11-19T07:25:00.472Z"
   },
   {
    "duration": 1097,
    "start_time": "2022-11-19T07:25:00.669Z"
   },
   {
    "duration": 48,
    "start_time": "2022-11-19T07:25:01.767Z"
   },
   {
    "duration": 285,
    "start_time": "2022-11-19T07:25:01.817Z"
   },
   {
    "duration": 235,
    "start_time": "2022-11-19T07:25:02.104Z"
   },
   {
    "duration": 481,
    "start_time": "2022-11-19T07:25:02.341Z"
   },
   {
    "duration": 90,
    "start_time": "2022-11-19T07:25:02.824Z"
   },
   {
    "duration": 22708,
    "start_time": "2022-11-19T07:25:02.916Z"
   },
   {
    "duration": 12,
    "start_time": "2022-11-19T07:25:25.626Z"
   },
   {
    "duration": 42,
    "start_time": "2022-11-19T07:25:25.639Z"
   },
   {
    "duration": 13,
    "start_time": "2022-11-19T07:25:25.683Z"
   },
   {
    "duration": 23,
    "start_time": "2022-11-19T07:25:25.698Z"
   },
   {
    "duration": 52,
    "start_time": "2022-11-19T07:25:25.723Z"
   },
   {
    "duration": 9,
    "start_time": "2022-11-19T07:25:25.777Z"
   },
   {
    "duration": 21,
    "start_time": "2022-11-19T07:25:25.788Z"
   },
   {
    "duration": 133,
    "start_time": "2022-11-19T07:25:25.811Z"
   },
   {
    "duration": 18,
    "start_time": "2022-11-19T07:25:25.946Z"
   },
   {
    "duration": 20775,
    "start_time": "2022-11-19T07:25:25.966Z"
   },
   {
    "duration": 1740,
    "start_time": "2022-11-19T07:44:53.578Z"
   },
   {
    "duration": 1089,
    "start_time": "2022-11-19T07:44:55.321Z"
   },
   {
    "duration": 172,
    "start_time": "2022-11-19T07:44:56.412Z"
   },
   {
    "duration": 201,
    "start_time": "2022-11-19T07:44:56.586Z"
   },
   {
    "duration": 14,
    "start_time": "2022-11-19T07:44:56.790Z"
   },
   {
    "duration": 11,
    "start_time": "2022-11-19T07:44:56.806Z"
   },
   {
    "duration": 191,
    "start_time": "2022-11-19T07:44:56.818Z"
   },
   {
    "duration": 135,
    "start_time": "2022-11-19T07:44:57.010Z"
   },
   {
    "duration": 170,
    "start_time": "2022-11-19T07:44:57.146Z"
   },
   {
    "duration": 1181,
    "start_time": "2022-11-19T07:44:57.318Z"
   },
   {
    "duration": 69,
    "start_time": "2022-11-19T07:44:58.501Z"
   },
   {
    "duration": 242,
    "start_time": "2022-11-19T07:44:58.575Z"
   },
   {
    "duration": 293,
    "start_time": "2022-11-19T07:44:58.820Z"
   },
   {
    "duration": 635,
    "start_time": "2022-11-19T07:44:59.117Z"
   },
   {
    "duration": 97,
    "start_time": "2022-11-19T07:44:59.757Z"
   },
   {
    "duration": 25877,
    "start_time": "2022-11-19T07:44:59.857Z"
   },
   {
    "duration": 23,
    "start_time": "2022-11-19T07:45:25.737Z"
   },
   {
    "duration": 48,
    "start_time": "2022-11-19T07:45:25.762Z"
   },
   {
    "duration": 15,
    "start_time": "2022-11-19T07:45:25.812Z"
   },
   {
    "duration": 42,
    "start_time": "2022-11-19T07:45:25.829Z"
   },
   {
    "duration": 29,
    "start_time": "2022-11-19T07:45:25.879Z"
   },
   {
    "duration": 10,
    "start_time": "2022-11-19T07:45:25.910Z"
   },
   {
    "duration": 28,
    "start_time": "2022-11-19T07:45:25.922Z"
   },
   {
    "duration": 165,
    "start_time": "2022-11-19T07:45:25.953Z"
   },
   {
    "duration": 7,
    "start_time": "2022-11-19T07:45:26.120Z"
   },
   {
    "duration": 22050,
    "start_time": "2022-11-19T07:45:26.129Z"
   },
   {
    "duration": 1587,
    "start_time": "2022-11-19T07:56:28.223Z"
   },
   {
    "duration": 1117,
    "start_time": "2022-11-19T07:56:29.812Z"
   },
   {
    "duration": 183,
    "start_time": "2022-11-19T07:56:30.931Z"
   },
   {
    "duration": 196,
    "start_time": "2022-11-19T07:56:31.116Z"
   },
   {
    "duration": 13,
    "start_time": "2022-11-19T07:56:31.314Z"
   },
   {
    "duration": 36,
    "start_time": "2022-11-19T07:56:31.329Z"
   },
   {
    "duration": 207,
    "start_time": "2022-11-19T07:56:31.367Z"
   },
   {
    "duration": 155,
    "start_time": "2022-11-19T07:56:31.576Z"
   },
   {
    "duration": 156,
    "start_time": "2022-11-19T07:56:31.733Z"
   },
   {
    "duration": 1039,
    "start_time": "2022-11-19T07:56:31.892Z"
   },
   {
    "duration": 61,
    "start_time": "2022-11-19T07:56:32.934Z"
   },
   {
    "duration": 234,
    "start_time": "2022-11-19T07:56:32.997Z"
   },
   {
    "duration": 269,
    "start_time": "2022-11-19T07:56:33.233Z"
   },
   {
    "duration": 419,
    "start_time": "2022-11-19T07:56:33.504Z"
   },
   {
    "duration": 217,
    "start_time": "2022-11-19T07:56:33.925Z"
   },
   {
    "duration": 0,
    "start_time": "2022-11-19T07:56:34.144Z"
   },
   {
    "duration": 0,
    "start_time": "2022-11-19T07:56:34.145Z"
   },
   {
    "duration": 0,
    "start_time": "2022-11-19T07:56:34.146Z"
   },
   {
    "duration": 0,
    "start_time": "2022-11-19T07:56:34.151Z"
   },
   {
    "duration": 0,
    "start_time": "2022-11-19T07:56:34.152Z"
   },
   {
    "duration": 0,
    "start_time": "2022-11-19T07:56:34.153Z"
   },
   {
    "duration": 0,
    "start_time": "2022-11-19T07:56:34.155Z"
   },
   {
    "duration": 0,
    "start_time": "2022-11-19T07:56:34.156Z"
   },
   {
    "duration": 0,
    "start_time": "2022-11-19T07:56:34.156Z"
   },
   {
    "duration": 0,
    "start_time": "2022-11-19T07:56:34.157Z"
   },
   {
    "duration": 0,
    "start_time": "2022-11-19T07:56:34.158Z"
   },
   {
    "duration": 1304,
    "start_time": "2022-11-19T07:56:45.132Z"
   },
   {
    "duration": 94,
    "start_time": "2022-11-19T07:56:55.400Z"
   },
   {
    "duration": 140,
    "start_time": "2022-11-19T07:57:19.228Z"
   },
   {
    "duration": 1477,
    "start_time": "2022-11-19T07:59:52.915Z"
   },
   {
    "duration": 931,
    "start_time": "2022-11-19T07:59:54.394Z"
   },
   {
    "duration": 156,
    "start_time": "2022-11-19T07:59:55.327Z"
   },
   {
    "duration": 171,
    "start_time": "2022-11-19T07:59:55.485Z"
   },
   {
    "duration": 13,
    "start_time": "2022-11-19T07:59:55.658Z"
   },
   {
    "duration": 5,
    "start_time": "2022-11-19T07:59:55.673Z"
   },
   {
    "duration": 154,
    "start_time": "2022-11-19T07:59:55.680Z"
   },
   {
    "duration": 135,
    "start_time": "2022-11-19T07:59:55.835Z"
   },
   {
    "duration": 132,
    "start_time": "2022-11-19T07:59:55.972Z"
   },
   {
    "duration": 942,
    "start_time": "2022-11-19T07:59:56.106Z"
   },
   {
    "duration": 46,
    "start_time": "2022-11-19T07:59:57.049Z"
   },
   {
    "duration": 236,
    "start_time": "2022-11-19T07:59:57.098Z"
   },
   {
    "duration": 237,
    "start_time": "2022-11-19T07:59:57.336Z"
   },
   {
    "duration": 345,
    "start_time": "2022-11-19T07:59:57.574Z"
   },
   {
    "duration": 109,
    "start_time": "2022-11-19T07:59:57.920Z"
   },
   {
    "duration": 69,
    "start_time": "2022-11-19T07:59:58.031Z"
   },
   {
    "duration": 6144,
    "start_time": "2022-11-19T07:59:58.101Z"
   },
   {
    "duration": 0,
    "start_time": "2022-11-19T08:00:04.247Z"
   },
   {
    "duration": 0,
    "start_time": "2022-11-19T08:00:04.248Z"
   },
   {
    "duration": 0,
    "start_time": "2022-11-19T08:00:04.250Z"
   },
   {
    "duration": 0,
    "start_time": "2022-11-19T08:00:04.251Z"
   },
   {
    "duration": 0,
    "start_time": "2022-11-19T08:00:04.252Z"
   },
   {
    "duration": 0,
    "start_time": "2022-11-19T08:00:04.253Z"
   },
   {
    "duration": 0,
    "start_time": "2022-11-19T08:00:04.258Z"
   },
   {
    "duration": 0,
    "start_time": "2022-11-19T08:00:04.259Z"
   },
   {
    "duration": 0,
    "start_time": "2022-11-19T08:00:04.260Z"
   },
   {
    "duration": 1564,
    "start_time": "2022-11-19T08:01:31.744Z"
   },
   {
    "duration": 910,
    "start_time": "2022-11-19T08:01:33.310Z"
   },
   {
    "duration": 162,
    "start_time": "2022-11-19T08:01:34.222Z"
   },
   {
    "duration": 171,
    "start_time": "2022-11-19T08:01:34.386Z"
   },
   {
    "duration": 16,
    "start_time": "2022-11-19T08:01:34.562Z"
   },
   {
    "duration": 9,
    "start_time": "2022-11-19T08:01:34.581Z"
   },
   {
    "duration": 151,
    "start_time": "2022-11-19T08:01:34.592Z"
   },
   {
    "duration": 132,
    "start_time": "2022-11-19T08:01:34.745Z"
   },
   {
    "duration": 115,
    "start_time": "2022-11-19T08:01:34.879Z"
   },
   {
    "duration": 1007,
    "start_time": "2022-11-19T08:01:34.997Z"
   },
   {
    "duration": 46,
    "start_time": "2022-11-19T08:01:36.006Z"
   },
   {
    "duration": 250,
    "start_time": "2022-11-19T08:01:36.054Z"
   },
   {
    "duration": 235,
    "start_time": "2022-11-19T08:01:36.306Z"
   },
   {
    "duration": 389,
    "start_time": "2022-11-19T08:01:36.543Z"
   },
   {
    "duration": 130,
    "start_time": "2022-11-19T08:01:36.934Z"
   },
   {
    "duration": 56,
    "start_time": "2022-11-19T08:01:37.070Z"
   },
   {
    "duration": 17844,
    "start_time": "2022-11-19T08:01:37.128Z"
   },
   {
    "duration": 11,
    "start_time": "2022-11-19T08:01:54.974Z"
   },
   {
    "duration": 27,
    "start_time": "2022-11-19T08:01:54.986Z"
   },
   {
    "duration": 161,
    "start_time": "2022-11-19T08:01:55.015Z"
   },
   {
    "duration": 0,
    "start_time": "2022-11-19T08:01:55.178Z"
   },
   {
    "duration": 0,
    "start_time": "2022-11-19T08:01:55.180Z"
   },
   {
    "duration": 0,
    "start_time": "2022-11-19T08:01:55.181Z"
   },
   {
    "duration": 0,
    "start_time": "2022-11-19T08:01:55.183Z"
   },
   {
    "duration": 0,
    "start_time": "2022-11-19T08:01:55.185Z"
   },
   {
    "duration": 0,
    "start_time": "2022-11-19T08:01:55.186Z"
   },
   {
    "duration": 14,
    "start_time": "2022-11-19T08:05:59.993Z"
   },
   {
    "duration": 14,
    "start_time": "2022-11-19T08:06:10.074Z"
   },
   {
    "duration": 11,
    "start_time": "2022-11-19T08:07:04.690Z"
   },
   {
    "duration": 11,
    "start_time": "2022-11-19T08:08:46.962Z"
   },
   {
    "duration": 16,
    "start_time": "2022-11-19T08:09:04.021Z"
   },
   {
    "duration": 14,
    "start_time": "2022-11-19T08:10:42.848Z"
   },
   {
    "duration": 24,
    "start_time": "2022-11-19T08:15:16.490Z"
   },
   {
    "duration": 13,
    "start_time": "2022-11-19T08:15:18.927Z"
   },
   {
    "duration": 1339,
    "start_time": "2022-11-19T08:16:55.430Z"
   },
   {
    "duration": 828,
    "start_time": "2022-11-19T08:16:56.771Z"
   },
   {
    "duration": 134,
    "start_time": "2022-11-19T08:16:57.601Z"
   },
   {
    "duration": 160,
    "start_time": "2022-11-19T08:16:57.736Z"
   },
   {
    "duration": 14,
    "start_time": "2022-11-19T08:16:57.898Z"
   },
   {
    "duration": 8,
    "start_time": "2022-11-19T08:16:57.913Z"
   },
   {
    "duration": 163,
    "start_time": "2022-11-19T08:16:57.923Z"
   },
   {
    "duration": 139,
    "start_time": "2022-11-19T08:16:58.088Z"
   },
   {
    "duration": 103,
    "start_time": "2022-11-19T08:16:58.228Z"
   },
   {
    "duration": 873,
    "start_time": "2022-11-19T08:16:58.332Z"
   },
   {
    "duration": 48,
    "start_time": "2022-11-19T08:16:59.207Z"
   },
   {
    "duration": 205,
    "start_time": "2022-11-19T08:16:59.256Z"
   },
   {
    "duration": 220,
    "start_time": "2022-11-19T08:16:59.463Z"
   },
   {
    "duration": 350,
    "start_time": "2022-11-19T08:16:59.686Z"
   },
   {
    "duration": 104,
    "start_time": "2022-11-19T08:17:00.038Z"
   },
   {
    "duration": 65,
    "start_time": "2022-11-19T08:17:00.143Z"
   },
   {
    "duration": 15981,
    "start_time": "2022-11-19T08:17:00.210Z"
   },
   {
    "duration": 10,
    "start_time": "2022-11-19T08:17:16.193Z"
   },
   {
    "duration": 40,
    "start_time": "2022-11-19T08:17:16.204Z"
   },
   {
    "duration": 17,
    "start_time": "2022-11-19T08:17:16.246Z"
   },
   {
    "duration": 25,
    "start_time": "2022-11-19T08:17:16.264Z"
   },
   {
    "duration": 13,
    "start_time": "2022-11-19T08:17:16.291Z"
   },
   {
    "duration": 160,
    "start_time": "2022-11-19T08:17:16.306Z"
   },
   {
    "duration": 5576,
    "start_time": "2022-11-19T08:17:16.470Z"
   },
   {
    "duration": 14323,
    "start_time": "2022-11-19T08:18:17.436Z"
   },
   {
    "duration": 11,
    "start_time": "2022-11-19T08:20:46.212Z"
   },
   {
    "duration": 733,
    "start_time": "2022-11-19T08:21:26.627Z"
   },
   {
    "duration": 19,
    "start_time": "2022-11-19T08:24:46.000Z"
   },
   {
    "duration": 23,
    "start_time": "2022-11-19T08:24:59.517Z"
   },
   {
    "duration": 94,
    "start_time": "2022-11-19T08:25:33.498Z"
   },
   {
    "duration": 1359,
    "start_time": "2022-11-19T08:26:22.324Z"
   },
   {
    "duration": 850,
    "start_time": "2022-11-19T08:26:23.685Z"
   },
   {
    "duration": 143,
    "start_time": "2022-11-19T08:26:24.537Z"
   },
   {
    "duration": 156,
    "start_time": "2022-11-19T08:26:24.682Z"
   },
   {
    "duration": 16,
    "start_time": "2022-11-19T08:26:24.839Z"
   },
   {
    "duration": 13,
    "start_time": "2022-11-19T08:26:24.856Z"
   },
   {
    "duration": 147,
    "start_time": "2022-11-19T08:26:24.871Z"
   },
   {
    "duration": 113,
    "start_time": "2022-11-19T08:26:25.020Z"
   },
   {
    "duration": 118,
    "start_time": "2022-11-19T08:26:25.135Z"
   },
   {
    "duration": 868,
    "start_time": "2022-11-19T08:26:25.255Z"
   },
   {
    "duration": 42,
    "start_time": "2022-11-19T08:26:26.125Z"
   },
   {
    "duration": 202,
    "start_time": "2022-11-19T08:26:26.169Z"
   },
   {
    "duration": 199,
    "start_time": "2022-11-19T08:26:26.372Z"
   },
   {
    "duration": 321,
    "start_time": "2022-11-19T08:26:26.573Z"
   },
   {
    "duration": 106,
    "start_time": "2022-11-19T08:26:26.896Z"
   },
   {
    "duration": 69,
    "start_time": "2022-11-19T08:26:27.004Z"
   },
   {
    "duration": 15741,
    "start_time": "2022-11-19T08:26:27.074Z"
   },
   {
    "duration": 10,
    "start_time": "2022-11-19T08:26:42.817Z"
   },
   {
    "duration": 43,
    "start_time": "2022-11-19T08:26:42.829Z"
   },
   {
    "duration": 14,
    "start_time": "2022-11-19T08:26:42.874Z"
   },
   {
    "duration": 25,
    "start_time": "2022-11-19T08:26:42.890Z"
   },
   {
    "duration": 38,
    "start_time": "2022-11-19T08:26:42.917Z"
   },
   {
    "duration": 20,
    "start_time": "2022-11-19T08:26:42.957Z"
   },
   {
    "duration": 14889,
    "start_time": "2022-11-19T08:26:42.979Z"
   },
   {
    "duration": 98,
    "start_time": "2022-11-19T08:26:57.870Z"
   },
   {
    "duration": 114,
    "start_time": "2022-11-19T08:27:27.896Z"
   },
   {
    "duration": 31,
    "start_time": "2022-11-19T08:27:56.413Z"
   },
   {
    "duration": 46,
    "start_time": "2022-11-19T08:28:47.945Z"
   },
   {
    "duration": 95,
    "start_time": "2022-11-19T08:29:02.144Z"
   },
   {
    "duration": 1387,
    "start_time": "2022-11-19T08:29:15.288Z"
   },
   {
    "duration": 858,
    "start_time": "2022-11-19T08:29:16.677Z"
   },
   {
    "duration": 184,
    "start_time": "2022-11-19T08:29:17.537Z"
   },
   {
    "duration": 175,
    "start_time": "2022-11-19T08:29:17.724Z"
   },
   {
    "duration": 13,
    "start_time": "2022-11-19T08:29:17.901Z"
   },
   {
    "duration": 10,
    "start_time": "2022-11-19T08:29:17.916Z"
   },
   {
    "duration": 159,
    "start_time": "2022-11-19T08:29:17.928Z"
   },
   {
    "duration": 126,
    "start_time": "2022-11-19T08:29:18.089Z"
   },
   {
    "duration": 105,
    "start_time": "2022-11-19T08:29:18.217Z"
   },
   {
    "duration": 892,
    "start_time": "2022-11-19T08:29:18.324Z"
   },
   {
    "duration": 43,
    "start_time": "2022-11-19T08:29:19.218Z"
   },
   {
    "duration": 227,
    "start_time": "2022-11-19T08:29:19.263Z"
   },
   {
    "duration": 235,
    "start_time": "2022-11-19T08:29:19.492Z"
   },
   {
    "duration": 361,
    "start_time": "2022-11-19T08:29:19.729Z"
   },
   {
    "duration": 111,
    "start_time": "2022-11-19T08:29:20.092Z"
   },
   {
    "duration": 65,
    "start_time": "2022-11-19T08:29:20.204Z"
   },
   {
    "duration": 16008,
    "start_time": "2022-11-19T08:29:20.270Z"
   },
   {
    "duration": 9,
    "start_time": "2022-11-19T08:29:36.280Z"
   },
   {
    "duration": 26,
    "start_time": "2022-11-19T08:29:36.291Z"
   },
   {
    "duration": 33,
    "start_time": "2022-11-19T08:29:36.319Z"
   },
   {
    "duration": 25,
    "start_time": "2022-11-19T08:29:36.354Z"
   },
   {
    "duration": 13,
    "start_time": "2022-11-19T08:29:36.381Z"
   },
   {
    "duration": 59,
    "start_time": "2022-11-19T08:29:36.395Z"
   },
   {
    "duration": 15322,
    "start_time": "2022-11-19T08:29:36.455Z"
   },
   {
    "duration": 96,
    "start_time": "2022-11-19T08:29:51.779Z"
   },
   {
    "duration": 143,
    "start_time": "2022-11-19T08:30:09.258Z"
   },
   {
    "duration": 658,
    "start_time": "2022-11-19T08:30:27.683Z"
   },
   {
    "duration": 660,
    "start_time": "2022-11-19T08:30:40.350Z"
   },
   {
    "duration": 725,
    "start_time": "2022-11-19T08:31:25.348Z"
   },
   {
    "duration": 22,
    "start_time": "2022-11-19T08:35:44.265Z"
   },
   {
    "duration": 25,
    "start_time": "2022-11-19T08:38:20.469Z"
   },
   {
    "duration": 679,
    "start_time": "2022-11-19T08:39:50.501Z"
   },
   {
    "duration": 590,
    "start_time": "2022-11-19T08:40:08.633Z"
   },
   {
    "duration": 17,
    "start_time": "2022-11-19T09:08:19.564Z"
   },
   {
    "duration": 19,
    "start_time": "2022-11-19T09:08:31.721Z"
   },
   {
    "duration": 55,
    "start_time": "2022-11-19T09:08:36.607Z"
   },
   {
    "duration": 4,
    "start_time": "2022-11-19T09:10:32.996Z"
   },
   {
    "duration": 72,
    "start_time": "2022-11-19T09:14:17.168Z"
   },
   {
    "duration": 102,
    "start_time": "2022-11-19T09:19:32.969Z"
   },
   {
    "duration": 58,
    "start_time": "2022-11-19T09:20:44.128Z"
   },
   {
    "duration": 57,
    "start_time": "2022-11-19T09:20:49.851Z"
   },
   {
    "duration": 1411,
    "start_time": "2022-11-19T09:21:05.401Z"
   },
   {
    "duration": 859,
    "start_time": "2022-11-19T09:21:06.814Z"
   },
   {
    "duration": 152,
    "start_time": "2022-11-19T09:21:07.675Z"
   },
   {
    "duration": 167,
    "start_time": "2022-11-19T09:21:07.829Z"
   },
   {
    "duration": 14,
    "start_time": "2022-11-19T09:21:07.997Z"
   },
   {
    "duration": 8,
    "start_time": "2022-11-19T09:21:08.013Z"
   },
   {
    "duration": 165,
    "start_time": "2022-11-19T09:21:08.022Z"
   },
   {
    "duration": 117,
    "start_time": "2022-11-19T09:21:08.188Z"
   },
   {
    "duration": 105,
    "start_time": "2022-11-19T09:21:08.307Z"
   },
   {
    "duration": 895,
    "start_time": "2022-11-19T09:21:08.415Z"
   },
   {
    "duration": 63,
    "start_time": "2022-11-19T09:21:09.312Z"
   },
   {
    "duration": 204,
    "start_time": "2022-11-19T09:21:09.377Z"
   },
   {
    "duration": 249,
    "start_time": "2022-11-19T09:21:09.583Z"
   },
   {
    "duration": 386,
    "start_time": "2022-11-19T09:21:09.834Z"
   },
   {
    "duration": 118,
    "start_time": "2022-11-19T09:21:10.222Z"
   },
   {
    "duration": 60,
    "start_time": "2022-11-19T09:21:10.341Z"
   },
   {
    "duration": 16279,
    "start_time": "2022-11-19T09:21:10.403Z"
   },
   {
    "duration": 10,
    "start_time": "2022-11-19T09:21:26.684Z"
   },
   {
    "duration": 23,
    "start_time": "2022-11-19T09:21:26.695Z"
   },
   {
    "duration": 34,
    "start_time": "2022-11-19T09:21:26.720Z"
   },
   {
    "duration": 24,
    "start_time": "2022-11-19T09:21:26.756Z"
   },
   {
    "duration": 16,
    "start_time": "2022-11-19T09:21:26.782Z"
   },
   {
    "duration": 63,
    "start_time": "2022-11-19T09:21:26.800Z"
   },
   {
    "duration": 15103,
    "start_time": "2022-11-19T09:21:26.865Z"
   },
   {
    "duration": 26,
    "start_time": "2022-11-19T09:21:41.969Z"
   },
   {
    "duration": 577,
    "start_time": "2022-11-19T09:21:41.996Z"
   },
   {
    "duration": 59,
    "start_time": "2022-11-19T09:21:42.575Z"
   },
   {
    "duration": 164,
    "start_time": "2022-11-19T09:21:42.653Z"
   },
   {
    "duration": 68,
    "start_time": "2022-11-19T09:21:58.374Z"
   },
   {
    "duration": 1341,
    "start_time": "2022-11-19T09:22:50.685Z"
   },
   {
    "duration": 873,
    "start_time": "2022-11-19T09:22:52.028Z"
   },
   {
    "duration": 145,
    "start_time": "2022-11-19T09:22:52.902Z"
   },
   {
    "duration": 161,
    "start_time": "2022-11-19T09:22:53.051Z"
   },
   {
    "duration": 13,
    "start_time": "2022-11-19T09:22:53.213Z"
   },
   {
    "duration": 9,
    "start_time": "2022-11-19T09:22:53.227Z"
   },
   {
    "duration": 139,
    "start_time": "2022-11-19T09:22:53.250Z"
   },
   {
    "duration": 114,
    "start_time": "2022-11-19T09:22:53.391Z"
   },
   {
    "duration": 110,
    "start_time": "2022-11-19T09:22:53.507Z"
   },
   {
    "duration": 878,
    "start_time": "2022-11-19T09:22:53.619Z"
   },
   {
    "duration": 34,
    "start_time": "2022-11-19T09:22:54.498Z"
   },
   {
    "duration": 205,
    "start_time": "2022-11-19T09:22:54.534Z"
   },
   {
    "duration": 206,
    "start_time": "2022-11-19T09:22:54.740Z"
   },
   {
    "duration": 333,
    "start_time": "2022-11-19T09:22:54.950Z"
   },
   {
    "duration": 111,
    "start_time": "2022-11-19T09:22:55.285Z"
   },
   {
    "duration": 70,
    "start_time": "2022-11-19T09:22:55.397Z"
   },
   {
    "duration": 16120,
    "start_time": "2022-11-19T09:22:55.469Z"
   },
   {
    "duration": 10,
    "start_time": "2022-11-19T09:23:11.591Z"
   },
   {
    "duration": 32,
    "start_time": "2022-11-19T09:23:11.603Z"
   },
   {
    "duration": 26,
    "start_time": "2022-11-19T09:23:11.637Z"
   },
   {
    "duration": 25,
    "start_time": "2022-11-19T09:23:11.664Z"
   },
   {
    "duration": 15,
    "start_time": "2022-11-19T09:23:11.691Z"
   },
   {
    "duration": 63,
    "start_time": "2022-11-19T09:23:11.707Z"
   },
   {
    "duration": 15624,
    "start_time": "2022-11-19T09:23:11.771Z"
   },
   {
    "duration": 25,
    "start_time": "2022-11-19T09:23:27.397Z"
   },
   {
    "duration": 579,
    "start_time": "2022-11-19T09:23:27.424Z"
   },
   {
    "duration": 67,
    "start_time": "2022-11-19T09:23:28.005Z"
   },
   {
    "duration": 109,
    "start_time": "2022-11-19T09:23:28.076Z"
   },
   {
    "duration": 163,
    "start_time": "2022-11-19T09:28:46.927Z"
   },
   {
    "duration": 42,
    "start_time": "2022-11-19T09:30:52.454Z"
   },
   {
    "duration": 37,
    "start_time": "2022-11-19T09:31:05.113Z"
   },
   {
    "duration": 296,
    "start_time": "2022-11-19T09:31:23.241Z"
   },
   {
    "duration": 204,
    "start_time": "2022-11-19T09:31:31.252Z"
   },
   {
    "duration": 4,
    "start_time": "2022-11-19T09:32:27.829Z"
   },
   {
    "duration": 229,
    "start_time": "2022-11-19T09:32:32.969Z"
   },
   {
    "duration": 19,
    "start_time": "2022-11-19T09:35:49.989Z"
   },
   {
    "duration": 34,
    "start_time": "2022-11-19T09:36:21.826Z"
   },
   {
    "duration": 43474,
    "start_time": "2022-11-19T09:38:47.029Z"
   },
   {
    "duration": 43839,
    "start_time": "2022-11-19T09:44:38.469Z"
   },
   {
    "duration": 11,
    "start_time": "2022-11-19T09:50:19.177Z"
   },
   {
    "duration": 45740,
    "start_time": "2022-11-19T09:50:40.237Z"
   },
   {
    "duration": 5,
    "start_time": "2022-11-19T09:52:16.345Z"
   },
   {
    "duration": 1223546,
    "start_time": "2022-11-19T09:52:44.987Z"
   },
   {
    "duration": 692,
    "start_time": "2022-11-19T10:14:49.877Z"
   },
   {
    "duration": 731,
    "start_time": "2022-11-19T10:15:10.907Z"
   },
   {
    "duration": 689,
    "start_time": "2022-11-19T10:16:35.170Z"
   },
   {
    "duration": 92,
    "start_time": "2022-11-19T10:21:29.710Z"
   },
   {
    "duration": 82,
    "start_time": "2022-11-19T10:24:26.904Z"
   },
   {
    "duration": 87675,
    "start_time": "2022-11-19T10:24:35.882Z"
   },
   {
    "duration": 16282,
    "start_time": "2022-11-19T10:28:43.909Z"
   },
   {
    "duration": 46033,
    "start_time": "2022-11-19T10:30:04.814Z"
   },
   {
    "duration": 16304,
    "start_time": "2022-11-19T10:31:02.593Z"
   },
   {
    "duration": 17685,
    "start_time": "2022-11-19T10:35:07.593Z"
   },
   {
    "duration": 3593,
    "start_time": "2022-11-19T10:35:35.773Z"
   },
   {
    "duration": 110,
    "start_time": "2022-11-19T10:42:12.979Z"
   },
   {
    "duration": 587,
    "start_time": "2022-11-19T10:42:22.516Z"
   },
   {
    "duration": 81,
    "start_time": "2022-11-19T10:42:39.272Z"
   },
   {
    "duration": 60020,
    "start_time": "2022-11-19T10:42:51.906Z"
   },
   {
    "duration": 141309,
    "start_time": "2022-11-19T10:50:42.015Z"
   },
   {
    "duration": 45433,
    "start_time": "2022-11-19T10:54:02.760Z"
   },
   {
    "duration": 3025,
    "start_time": "2022-11-19T10:57:33.435Z"
   },
   {
    "duration": 10342,
    "start_time": "2022-11-19T10:57:56.594Z"
   },
   {
    "duration": 3224,
    "start_time": "2022-11-19T10:59:06.790Z"
   },
   {
    "duration": 846,
    "start_time": "2022-11-19T11:44:04.105Z"
   },
   {
    "duration": 537,
    "start_time": "2022-11-19T11:45:25.425Z"
   },
   {
    "duration": 1280,
    "start_time": "2022-11-19T11:48:45.176Z"
   },
   {
    "duration": 1041,
    "start_time": "2022-11-19T11:53:28.419Z"
   },
   {
    "duration": 99,
    "start_time": "2022-11-19T12:00:15.659Z"
   },
   {
    "duration": 11,
    "start_time": "2022-11-19T12:00:20.889Z"
   },
   {
    "duration": 6,
    "start_time": "2022-11-19T12:01:12.300Z"
   },
   {
    "duration": 74,
    "start_time": "2022-11-19T12:01:29.948Z"
   },
   {
    "duration": 3,
    "start_time": "2022-11-19T12:01:35.544Z"
   },
   {
    "duration": 169164,
    "start_time": "2022-11-19T12:01:47.401Z"
   },
   {
    "duration": 78,
    "start_time": "2022-11-19T12:06:16.641Z"
   },
   {
    "duration": 73811,
    "start_time": "2022-11-19T12:06:27.575Z"
   },
   {
    "duration": 3721,
    "start_time": "2022-11-19T12:10:31.145Z"
   },
   {
    "duration": 20352,
    "start_time": "2022-11-19T12:11:13.209Z"
   },
   {
    "duration": 5424,
    "start_time": "2022-11-19T12:11:47.396Z"
   },
   {
    "duration": 1054,
    "start_time": "2022-11-19T12:12:05.307Z"
   },
   {
    "duration": 16244,
    "start_time": "2022-11-19T12:15:03.507Z"
   },
   {
    "duration": 16481,
    "start_time": "2022-11-19T12:15:38.807Z"
   },
   {
    "duration": 15340,
    "start_time": "2022-11-19T12:16:34.803Z"
   },
   {
    "duration": 4,
    "start_time": "2022-11-19T12:22:41.557Z"
   },
   {
    "duration": 10,
    "start_time": "2022-11-19T12:22:48.010Z"
   },
   {
    "duration": 11603,
    "start_time": "2022-11-19T12:25:36.051Z"
   },
   {
    "duration": 4,
    "start_time": "2022-11-19T12:31:37.594Z"
   },
   {
    "duration": 4,
    "start_time": "2022-11-19T12:31:43.400Z"
   },
   {
    "duration": 4,
    "start_time": "2022-11-19T12:32:58.094Z"
   },
   {
    "duration": 11,
    "start_time": "2022-11-19T12:34:06.757Z"
   },
   {
    "duration": 6,
    "start_time": "2022-11-19T12:34:39.176Z"
   },
   {
    "duration": 6,
    "start_time": "2022-11-19T12:36:51.225Z"
   },
   {
    "duration": 755,
    "start_time": "2022-11-19T12:43:06.343Z"
   },
   {
    "duration": 794,
    "start_time": "2022-11-19T12:44:16.577Z"
   },
   {
    "duration": 326,
    "start_time": "2022-11-19T12:44:41.878Z"
   },
   {
    "duration": 39,
    "start_time": "2022-11-19T12:45:48.830Z"
   },
   {
    "duration": 12,
    "start_time": "2022-11-19T12:46:48.430Z"
   },
   {
    "duration": 1783,
    "start_time": "2022-11-19T12:55:24.320Z"
   },
   {
    "duration": 0,
    "start_time": "2022-11-19T12:55:26.106Z"
   },
   {
    "duration": 0,
    "start_time": "2022-11-19T12:55:26.108Z"
   },
   {
    "duration": 1,
    "start_time": "2022-11-19T12:55:26.109Z"
   },
   {
    "duration": 0,
    "start_time": "2022-11-19T12:55:26.111Z"
   },
   {
    "duration": 0,
    "start_time": "2022-11-19T12:55:26.113Z"
   },
   {
    "duration": 0,
    "start_time": "2022-11-19T12:55:26.114Z"
   },
   {
    "duration": 0,
    "start_time": "2022-11-19T12:55:26.116Z"
   },
   {
    "duration": 0,
    "start_time": "2022-11-19T12:55:26.118Z"
   },
   {
    "duration": 0,
    "start_time": "2022-11-19T12:55:26.119Z"
   },
   {
    "duration": 0,
    "start_time": "2022-11-19T12:55:26.120Z"
   },
   {
    "duration": 0,
    "start_time": "2022-11-19T12:55:26.122Z"
   },
   {
    "duration": 0,
    "start_time": "2022-11-19T12:55:26.123Z"
   },
   {
    "duration": 0,
    "start_time": "2022-11-19T12:55:26.164Z"
   },
   {
    "duration": 0,
    "start_time": "2022-11-19T12:55:26.165Z"
   },
   {
    "duration": 0,
    "start_time": "2022-11-19T12:55:26.166Z"
   },
   {
    "duration": 0,
    "start_time": "2022-11-19T12:55:26.169Z"
   },
   {
    "duration": 0,
    "start_time": "2022-11-19T12:55:26.170Z"
   },
   {
    "duration": 0,
    "start_time": "2022-11-19T12:55:26.171Z"
   },
   {
    "duration": 0,
    "start_time": "2022-11-19T12:55:26.172Z"
   },
   {
    "duration": 0,
    "start_time": "2022-11-19T12:55:26.173Z"
   },
   {
    "duration": 0,
    "start_time": "2022-11-19T12:55:26.174Z"
   },
   {
    "duration": 0,
    "start_time": "2022-11-19T12:55:26.175Z"
   },
   {
    "duration": 0,
    "start_time": "2022-11-19T12:55:26.176Z"
   },
   {
    "duration": 0,
    "start_time": "2022-11-19T12:55:26.177Z"
   },
   {
    "duration": 0,
    "start_time": "2022-11-19T12:55:26.179Z"
   },
   {
    "duration": 0,
    "start_time": "2022-11-19T12:55:26.180Z"
   },
   {
    "duration": 0,
    "start_time": "2022-11-19T12:55:26.180Z"
   },
   {
    "duration": 0,
    "start_time": "2022-11-19T12:55:26.181Z"
   },
   {
    "duration": 1,
    "start_time": "2022-11-19T12:55:26.182Z"
   },
   {
    "duration": 0,
    "start_time": "2022-11-19T12:55:26.184Z"
   },
   {
    "duration": 0,
    "start_time": "2022-11-19T12:55:26.185Z"
   },
   {
    "duration": 0,
    "start_time": "2022-11-19T12:55:26.186Z"
   },
   {
    "duration": 1,
    "start_time": "2022-11-19T12:55:26.186Z"
   },
   {
    "duration": 0,
    "start_time": "2022-11-19T12:55:26.188Z"
   },
   {
    "duration": 0,
    "start_time": "2022-11-19T12:55:26.189Z"
   },
   {
    "duration": 0,
    "start_time": "2022-11-19T12:55:26.190Z"
   },
   {
    "duration": 0,
    "start_time": "2022-11-19T12:55:26.191Z"
   },
   {
    "duration": 0,
    "start_time": "2022-11-19T12:55:26.192Z"
   },
   {
    "duration": 0,
    "start_time": "2022-11-19T12:55:26.193Z"
   },
   {
    "duration": 0,
    "start_time": "2022-11-19T12:55:26.195Z"
   },
   {
    "duration": 0,
    "start_time": "2022-11-19T12:55:26.196Z"
   },
   {
    "duration": 1689,
    "start_time": "2022-11-19T12:58:17.339Z"
   },
   {
    "duration": 1089,
    "start_time": "2022-11-19T12:58:19.030Z"
   },
   {
    "duration": 186,
    "start_time": "2022-11-19T12:58:20.121Z"
   },
   {
    "duration": 192,
    "start_time": "2022-11-19T12:58:20.309Z"
   },
   {
    "duration": 15,
    "start_time": "2022-11-19T12:58:20.504Z"
   },
   {
    "duration": 13,
    "start_time": "2022-11-19T12:58:20.521Z"
   },
   {
    "duration": 198,
    "start_time": "2022-11-19T12:58:20.536Z"
   },
   {
    "duration": 165,
    "start_time": "2022-11-19T12:58:20.736Z"
   },
   {
    "duration": 129,
    "start_time": "2022-11-19T12:58:20.903Z"
   },
   {
    "duration": 1143,
    "start_time": "2022-11-19T12:58:21.034Z"
   },
   {
    "duration": 40,
    "start_time": "2022-11-19T12:58:22.183Z"
   },
   {
    "duration": 225,
    "start_time": "2022-11-19T12:58:22.225Z"
   },
   {
    "duration": 259,
    "start_time": "2022-11-19T12:58:22.457Z"
   },
   {
    "duration": 389,
    "start_time": "2022-11-19T12:58:22.719Z"
   },
   {
    "duration": 114,
    "start_time": "2022-11-19T12:58:23.110Z"
   },
   {
    "duration": 66,
    "start_time": "2022-11-19T12:58:23.226Z"
   },
   {
    "duration": 17763,
    "start_time": "2022-11-19T12:58:23.294Z"
   },
   {
    "duration": 14,
    "start_time": "2022-11-19T12:58:41.060Z"
   },
   {
    "duration": 34,
    "start_time": "2022-11-19T12:58:41.076Z"
   },
   {
    "duration": 14,
    "start_time": "2022-11-19T12:58:41.112Z"
   },
   {
    "duration": 48,
    "start_time": "2022-11-19T12:58:41.128Z"
   },
   {
    "duration": 14,
    "start_time": "2022-11-19T12:58:41.177Z"
   },
   {
    "duration": 36,
    "start_time": "2022-11-19T12:58:41.192Z"
   },
   {
    "duration": 17143,
    "start_time": "2022-11-19T12:58:41.229Z"
   },
   {
    "duration": 27,
    "start_time": "2022-11-19T12:58:58.374Z"
   },
   {
    "duration": 659,
    "start_time": "2022-11-19T12:58:58.403Z"
   },
   {
    "duration": 66,
    "start_time": "2022-11-19T12:58:59.063Z"
   },
   {
    "duration": 105,
    "start_time": "2022-11-19T12:58:59.131Z"
   },
   {
    "duration": 16,
    "start_time": "2022-11-19T12:58:59.237Z"
   },
   {
    "duration": 1317133,
    "start_time": "2022-11-19T12:58:59.257Z"
   },
   {
    "duration": 17620,
    "start_time": "2022-11-19T13:20:56.392Z"
   },
   {
    "duration": 1571245,
    "start_time": "2022-11-19T13:21:14.014Z"
   },
   {
    "duration": 311909,
    "start_time": "2022-11-19T13:47:25.260Z"
   },
   {
    "duration": 84913,
    "start_time": "2022-11-19T13:52:37.171Z"
   },
   {
    "duration": 6255,
    "start_time": "2022-11-19T13:54:02.086Z"
   },
   {
    "duration": 1331,
    "start_time": "2022-11-19T13:54:08.343Z"
   },
   {
    "duration": 21,
    "start_time": "2022-11-19T13:54:09.750Z"
   },
   {
    "duration": 802,
    "start_time": "2022-11-19T13:54:09.773Z"
   },
   {
    "duration": 381,
    "start_time": "2022-11-19T13:54:10.577Z"
   },
   {
    "duration": 39,
    "start_time": "2022-11-19T13:54:10.969Z"
   },
   {
    "duration": 53,
    "start_time": "2022-11-19T13:54:11.012Z"
   },
   {
    "duration": 126,
    "start_time": "2022-11-19T13:54:11.067Z"
   },
   {
    "duration": 76,
    "start_time": "2022-11-19T13:59:35.669Z"
   },
   {
    "duration": 38,
    "start_time": "2022-11-19T14:02:32.271Z"
   },
   {
    "duration": 17910,
    "start_time": "2022-11-19T14:11:32.651Z"
   },
   {
    "duration": 16399,
    "start_time": "2022-11-19T14:11:59.712Z"
   },
   {
    "duration": 5527,
    "start_time": "2022-11-19T14:13:08.367Z"
   },
   {
    "duration": 3631,
    "start_time": "2022-11-20T00:03:11.340Z"
   },
   {
    "duration": 3170,
    "start_time": "2022-11-20T00:03:16.548Z"
   },
   {
    "duration": 151,
    "start_time": "2022-11-20T00:03:19.720Z"
   },
   {
    "duration": 165,
    "start_time": "2022-11-20T00:03:21.837Z"
   },
   {
    "duration": 14,
    "start_time": "2022-11-20T00:03:22.261Z"
   },
   {
    "duration": 7,
    "start_time": "2022-11-20T00:03:22.556Z"
   },
   {
    "duration": 160,
    "start_time": "2022-11-20T00:03:22.842Z"
   },
   {
    "duration": 111,
    "start_time": "2022-11-20T00:03:23.125Z"
   },
   {
    "duration": 104,
    "start_time": "2022-11-20T00:03:23.695Z"
   },
   {
    "duration": 1096,
    "start_time": "2022-11-20T00:03:23.984Z"
   },
   {
    "duration": 38,
    "start_time": "2022-11-20T00:03:25.082Z"
   },
   {
    "duration": 221,
    "start_time": "2022-11-20T00:03:25.124Z"
   },
   {
    "duration": 213,
    "start_time": "2022-11-20T00:03:25.534Z"
   },
   {
    "duration": 339,
    "start_time": "2022-11-20T00:03:26.071Z"
   },
   {
    "duration": 113,
    "start_time": "2022-11-20T00:03:26.924Z"
   },
   {
    "duration": 69,
    "start_time": "2022-11-20T00:03:27.216Z"
   },
   {
    "duration": 16738,
    "start_time": "2022-11-20T00:03:27.545Z"
   },
   {
    "duration": 12,
    "start_time": "2022-11-20T00:03:44.285Z"
   },
   {
    "duration": 51,
    "start_time": "2022-11-20T00:03:44.299Z"
   },
   {
    "duration": 32,
    "start_time": "2022-11-20T00:03:44.353Z"
   },
   {
    "duration": 40,
    "start_time": "2022-11-20T00:03:44.388Z"
   },
   {
    "duration": 16,
    "start_time": "2022-11-20T00:03:44.431Z"
   },
   {
    "duration": 56,
    "start_time": "2022-11-20T00:03:44.450Z"
   },
   {
    "duration": 15367,
    "start_time": "2022-11-20T00:03:44.508Z"
   },
   {
    "duration": 68,
    "start_time": "2022-11-20T00:03:59.879Z"
   },
   {
    "duration": 1779,
    "start_time": "2022-11-20T04:55:49.828Z"
   },
   {
    "duration": 1206,
    "start_time": "2022-11-20T04:55:52.207Z"
   },
   {
    "duration": 130,
    "start_time": "2022-11-20T04:55:55.619Z"
   },
   {
    "duration": 148,
    "start_time": "2022-11-20T04:56:00.269Z"
   },
   {
    "duration": 13,
    "start_time": "2022-11-20T04:56:04.065Z"
   },
   {
    "duration": 7,
    "start_time": "2022-11-20T04:56:08.302Z"
   },
   {
    "duration": 138,
    "start_time": "2022-11-20T04:56:10.688Z"
   },
   {
    "duration": 108,
    "start_time": "2022-11-20T04:56:20.237Z"
   },
   {
    "duration": 97,
    "start_time": "2022-11-20T04:56:24.126Z"
   },
   {
    "duration": 966,
    "start_time": "2022-11-20T04:56:29.931Z"
   },
   {
    "duration": 34,
    "start_time": "2022-11-20T04:56:34.123Z"
   },
   {
    "duration": 203,
    "start_time": "2022-11-20T04:56:37.018Z"
   },
   {
    "duration": 215,
    "start_time": "2022-11-20T04:56:41.886Z"
   },
   {
    "duration": 313,
    "start_time": "2022-11-20T04:56:44.308Z"
   },
   {
    "duration": 4844,
    "start_time": "2022-11-20T04:57:13.847Z"
   },
   {
    "duration": 138,
    "start_time": "2022-11-20T04:57:24.256Z"
   },
   {
    "duration": 16190,
    "start_time": "2022-11-20T04:57:28.225Z"
   },
   {
    "duration": 10,
    "start_time": "2022-11-20T04:57:51.989Z"
   },
   {
    "duration": 26,
    "start_time": "2022-11-20T04:57:55.770Z"
   },
   {
    "duration": 14,
    "start_time": "2022-11-20T04:57:58.233Z"
   },
   {
    "duration": 24,
    "start_time": "2022-11-20T04:58:13.000Z"
   },
   {
    "duration": 12,
    "start_time": "2022-11-20T04:59:12.966Z"
   },
   {
    "duration": 71,
    "start_time": "2022-11-20T05:01:26.811Z"
   },
   {
    "duration": 32,
    "start_time": "2022-11-20T05:01:43.096Z"
   },
   {
    "duration": 83,
    "start_time": "2022-11-20T05:34:40.975Z"
   },
   {
    "duration": 51,
    "start_time": "2022-11-20T05:35:11.457Z"
   },
   {
    "duration": 14143,
    "start_time": "2022-11-20T05:35:16.859Z"
   },
   {
    "duration": 31,
    "start_time": "2022-11-20T05:37:28.802Z"
   },
   {
    "duration": 1435,
    "start_time": "2022-11-20T05:38:19.195Z"
   },
   {
    "duration": 834,
    "start_time": "2022-11-20T05:38:20.632Z"
   },
   {
    "duration": 149,
    "start_time": "2022-11-20T05:38:21.468Z"
   },
   {
    "duration": 158,
    "start_time": "2022-11-20T05:38:21.619Z"
   },
   {
    "duration": 11,
    "start_time": "2022-11-20T05:38:21.778Z"
   },
   {
    "duration": 26,
    "start_time": "2022-11-20T05:38:21.791Z"
   },
   {
    "duration": 147,
    "start_time": "2022-11-20T05:38:21.818Z"
   },
   {
    "duration": 110,
    "start_time": "2022-11-20T05:38:21.967Z"
   },
   {
    "duration": 103,
    "start_time": "2022-11-20T05:38:22.079Z"
   },
   {
    "duration": 962,
    "start_time": "2022-11-20T05:38:22.185Z"
   },
   {
    "duration": 33,
    "start_time": "2022-11-20T05:38:23.149Z"
   },
   {
    "duration": 209,
    "start_time": "2022-11-20T05:38:23.183Z"
   },
   {
    "duration": 203,
    "start_time": "2022-11-20T05:38:23.394Z"
   },
   {
    "duration": 300,
    "start_time": "2022-11-20T05:38:23.598Z"
   },
   {
    "duration": 101,
    "start_time": "2022-11-20T05:38:23.900Z"
   },
   {
    "duration": 64,
    "start_time": "2022-11-20T05:38:24.003Z"
   },
   {
    "duration": 15401,
    "start_time": "2022-11-20T05:38:24.069Z"
   },
   {
    "duration": 9,
    "start_time": "2022-11-20T05:38:39.472Z"
   },
   {
    "duration": 31,
    "start_time": "2022-11-20T05:38:39.482Z"
   },
   {
    "duration": 21,
    "start_time": "2022-11-20T05:38:39.515Z"
   },
   {
    "duration": 36,
    "start_time": "2022-11-20T05:38:39.538Z"
   },
   {
    "duration": 24,
    "start_time": "2022-11-20T05:38:39.576Z"
   },
   {
    "duration": 47,
    "start_time": "2022-11-20T05:38:39.602Z"
   },
   {
    "duration": 31,
    "start_time": "2022-11-20T05:38:39.650Z"
   },
   {
    "duration": 64,
    "start_time": "2022-11-20T05:38:39.682Z"
   },
   {
    "duration": 20,
    "start_time": "2022-11-20T05:38:42.554Z"
   },
   {
    "duration": 1395,
    "start_time": "2022-11-20T05:39:44.838Z"
   },
   {
    "duration": 842,
    "start_time": "2022-11-20T05:39:46.235Z"
   },
   {
    "duration": 143,
    "start_time": "2022-11-20T05:39:47.079Z"
   },
   {
    "duration": 154,
    "start_time": "2022-11-20T05:39:47.224Z"
   },
   {
    "duration": 12,
    "start_time": "2022-11-20T05:39:47.380Z"
   },
   {
    "duration": 15,
    "start_time": "2022-11-20T05:39:47.394Z"
   },
   {
    "duration": 139,
    "start_time": "2022-11-20T05:39:47.410Z"
   },
   {
    "duration": 108,
    "start_time": "2022-11-20T05:39:47.551Z"
   },
   {
    "duration": 100,
    "start_time": "2022-11-20T05:39:47.661Z"
   },
   {
    "duration": 920,
    "start_time": "2022-11-20T05:39:47.762Z"
   },
   {
    "duration": 34,
    "start_time": "2022-11-20T05:39:48.684Z"
   },
   {
    "duration": 199,
    "start_time": "2022-11-20T05:39:48.720Z"
   },
   {
    "duration": 211,
    "start_time": "2022-11-20T05:39:48.921Z"
   },
   {
    "duration": 331,
    "start_time": "2022-11-20T05:39:49.137Z"
   },
   {
    "duration": 112,
    "start_time": "2022-11-20T05:39:49.469Z"
   },
   {
    "duration": 64,
    "start_time": "2022-11-20T05:39:49.583Z"
   },
   {
    "duration": 15484,
    "start_time": "2022-11-20T05:39:49.649Z"
   },
   {
    "duration": 10,
    "start_time": "2022-11-20T05:40:05.135Z"
   },
   {
    "duration": 24,
    "start_time": "2022-11-20T05:40:05.147Z"
   },
   {
    "duration": 14,
    "start_time": "2022-11-20T05:40:05.173Z"
   },
   {
    "duration": 46,
    "start_time": "2022-11-20T05:40:05.189Z"
   },
   {
    "duration": 13,
    "start_time": "2022-11-20T05:40:05.237Z"
   },
   {
    "duration": 34,
    "start_time": "2022-11-20T05:40:05.251Z"
   },
   {
    "duration": 49,
    "start_time": "2022-11-20T05:40:05.287Z"
   },
   {
    "duration": 48,
    "start_time": "2022-11-20T05:40:24.618Z"
   },
   {
    "duration": 13,
    "start_time": "2022-11-20T05:50:20.190Z"
   },
   {
    "duration": 56,
    "start_time": "2022-11-20T05:50:26.222Z"
   },
   {
    "duration": 140,
    "start_time": "2022-11-20T05:51:15.601Z"
   },
   {
    "duration": 57,
    "start_time": "2022-11-20T05:52:08.057Z"
   },
   {
    "duration": 15,
    "start_time": "2022-11-20T05:52:11.049Z"
   },
   {
    "duration": 80,
    "start_time": "2022-11-20T05:52:31.967Z"
   },
   {
    "duration": 22,
    "start_time": "2022-11-20T05:56:04.056Z"
   },
   {
    "duration": 13,
    "start_time": "2022-11-20T06:03:09.033Z"
   },
   {
    "duration": 14,
    "start_time": "2022-11-20T06:03:28.504Z"
   },
   {
    "duration": 44,
    "start_time": "2022-11-20T06:03:53.120Z"
   },
   {
    "duration": 59,
    "start_time": "2022-11-20T06:04:39.314Z"
   },
   {
    "duration": 1371,
    "start_time": "2022-11-20T06:05:07.565Z"
   },
   {
    "duration": 815,
    "start_time": "2022-11-20T06:05:08.938Z"
   },
   {
    "duration": 135,
    "start_time": "2022-11-20T06:05:09.755Z"
   },
   {
    "duration": 168,
    "start_time": "2022-11-20T06:05:09.892Z"
   },
   {
    "duration": 13,
    "start_time": "2022-11-20T06:05:10.062Z"
   },
   {
    "duration": 11,
    "start_time": "2022-11-20T06:05:10.076Z"
   },
   {
    "duration": 155,
    "start_time": "2022-11-20T06:05:10.089Z"
   },
   {
    "duration": 111,
    "start_time": "2022-11-20T06:05:10.246Z"
   },
   {
    "duration": 97,
    "start_time": "2022-11-20T06:05:10.359Z"
   },
   {
    "duration": 880,
    "start_time": "2022-11-20T06:05:10.459Z"
   },
   {
    "duration": 34,
    "start_time": "2022-11-20T06:05:11.341Z"
   },
   {
    "duration": 185,
    "start_time": "2022-11-20T06:05:11.377Z"
   },
   {
    "duration": 187,
    "start_time": "2022-11-20T06:05:11.564Z"
   },
   {
    "duration": 316,
    "start_time": "2022-11-20T06:05:11.753Z"
   },
   {
    "duration": 103,
    "start_time": "2022-11-20T06:05:12.070Z"
   },
   {
    "duration": 65,
    "start_time": "2022-11-20T06:05:12.174Z"
   },
   {
    "duration": 15409,
    "start_time": "2022-11-20T06:05:12.241Z"
   },
   {
    "duration": 9,
    "start_time": "2022-11-20T06:05:27.653Z"
   },
   {
    "duration": 21,
    "start_time": "2022-11-20T06:05:27.664Z"
   },
   {
    "duration": 13,
    "start_time": "2022-11-20T06:05:27.687Z"
   },
   {
    "duration": 48,
    "start_time": "2022-11-20T06:05:27.702Z"
   },
   {
    "duration": 13,
    "start_time": "2022-11-20T06:05:27.751Z"
   },
   {
    "duration": 33,
    "start_time": "2022-11-20T06:05:27.765Z"
   },
   {
    "duration": 49,
    "start_time": "2022-11-20T06:05:27.799Z"
   },
   {
    "duration": 58,
    "start_time": "2022-11-20T06:05:27.850Z"
   },
   {
    "duration": 1356,
    "start_time": "2022-11-20T06:13:53.546Z"
   },
   {
    "duration": 866,
    "start_time": "2022-11-20T06:13:54.904Z"
   },
   {
    "duration": 128,
    "start_time": "2022-11-20T06:13:55.771Z"
   },
   {
    "duration": 173,
    "start_time": "2022-11-20T06:13:55.902Z"
   },
   {
    "duration": 13,
    "start_time": "2022-11-20T06:13:56.077Z"
   },
   {
    "duration": 15,
    "start_time": "2022-11-20T06:13:56.092Z"
   },
   {
    "duration": 146,
    "start_time": "2022-11-20T06:13:56.109Z"
   },
   {
    "duration": 107,
    "start_time": "2022-11-20T06:13:56.256Z"
   },
   {
    "duration": 101,
    "start_time": "2022-11-20T06:13:56.365Z"
   },
   {
    "duration": 980,
    "start_time": "2022-11-20T06:13:56.469Z"
   },
   {
    "duration": 36,
    "start_time": "2022-11-20T06:13:57.451Z"
   },
   {
    "duration": 221,
    "start_time": "2022-11-20T06:13:57.489Z"
   },
   {
    "duration": 220,
    "start_time": "2022-11-20T06:13:57.712Z"
   },
   {
    "duration": 345,
    "start_time": "2022-11-20T06:13:57.934Z"
   },
   {
    "duration": 107,
    "start_time": "2022-11-20T06:13:58.281Z"
   },
   {
    "duration": 75,
    "start_time": "2022-11-20T06:13:58.389Z"
   },
   {
    "duration": 16476,
    "start_time": "2022-11-20T06:13:58.466Z"
   },
   {
    "duration": 10,
    "start_time": "2022-11-20T06:14:14.944Z"
   },
   {
    "duration": 25,
    "start_time": "2022-11-20T06:14:14.955Z"
   },
   {
    "duration": 15,
    "start_time": "2022-11-20T06:14:14.982Z"
   },
   {
    "duration": 43,
    "start_time": "2022-11-20T06:14:14.998Z"
   },
   {
    "duration": 12,
    "start_time": "2022-11-20T06:14:15.043Z"
   },
   {
    "duration": 32,
    "start_time": "2022-11-20T06:14:15.056Z"
   },
   {
    "duration": 48,
    "start_time": "2022-11-20T06:14:15.090Z"
   },
   {
    "duration": 47,
    "start_time": "2022-11-20T06:14:15.140Z"
   },
   {
    "duration": 40,
    "start_time": "2022-11-20T06:14:21.703Z"
   },
   {
    "duration": 72,
    "start_time": "2022-11-20T06:14:24.605Z"
   },
   {
    "duration": 83,
    "start_time": "2022-11-20T06:14:29.856Z"
   },
   {
    "duration": 63,
    "start_time": "2022-11-20T06:15:10.786Z"
   },
   {
    "duration": 1496,
    "start_time": "2022-11-20T06:15:34.225Z"
   },
   {
    "duration": 814,
    "start_time": "2022-11-20T06:15:35.723Z"
   },
   {
    "duration": 132,
    "start_time": "2022-11-20T06:15:36.539Z"
   },
   {
    "duration": 167,
    "start_time": "2022-11-20T06:15:36.673Z"
   },
   {
    "duration": 12,
    "start_time": "2022-11-20T06:15:36.842Z"
   },
   {
    "duration": 7,
    "start_time": "2022-11-20T06:15:36.856Z"
   },
   {
    "duration": 146,
    "start_time": "2022-11-20T06:15:36.864Z"
   },
   {
    "duration": 101,
    "start_time": "2022-11-20T06:15:37.012Z"
   },
   {
    "duration": 124,
    "start_time": "2022-11-20T06:15:37.115Z"
   },
   {
    "duration": 921,
    "start_time": "2022-11-20T06:15:37.241Z"
   },
   {
    "duration": 32,
    "start_time": "2022-11-20T06:15:38.164Z"
   },
   {
    "duration": 201,
    "start_time": "2022-11-20T06:15:38.197Z"
   },
   {
    "duration": 213,
    "start_time": "2022-11-20T06:15:38.400Z"
   },
   {
    "duration": 320,
    "start_time": "2022-11-20T06:15:38.616Z"
   },
   {
    "duration": 100,
    "start_time": "2022-11-20T06:15:38.938Z"
   },
   {
    "duration": 53,
    "start_time": "2022-11-20T06:15:39.040Z"
   },
   {
    "duration": 15946,
    "start_time": "2022-11-20T06:15:39.095Z"
   },
   {
    "duration": 10,
    "start_time": "2022-11-20T06:15:55.043Z"
   },
   {
    "duration": 48,
    "start_time": "2022-11-20T06:15:55.055Z"
   },
   {
    "duration": 36,
    "start_time": "2022-11-20T06:15:55.105Z"
   },
   {
    "duration": 48,
    "start_time": "2022-11-20T06:15:55.143Z"
   },
   {
    "duration": 15,
    "start_time": "2022-11-20T06:15:55.193Z"
   },
   {
    "duration": 54,
    "start_time": "2022-11-20T06:15:55.210Z"
   },
   {
    "duration": 34,
    "start_time": "2022-11-20T06:15:55.265Z"
   },
   {
    "duration": 61,
    "start_time": "2022-11-20T06:15:55.300Z"
   },
   {
    "duration": 87,
    "start_time": "2022-11-20T06:15:55.363Z"
   },
   {
    "duration": 103,
    "start_time": "2022-11-20T06:15:55.452Z"
   },
   {
    "duration": 88,
    "start_time": "2022-11-20T06:16:05.476Z"
   },
   {
    "duration": 1371,
    "start_time": "2022-11-20T06:16:30.701Z"
   },
   {
    "duration": 859,
    "start_time": "2022-11-20T06:16:32.073Z"
   },
   {
    "duration": 143,
    "start_time": "2022-11-20T06:16:32.936Z"
   },
   {
    "duration": 165,
    "start_time": "2022-11-20T06:16:33.082Z"
   },
   {
    "duration": 12,
    "start_time": "2022-11-20T06:16:33.249Z"
   },
   {
    "duration": 7,
    "start_time": "2022-11-20T06:16:33.263Z"
   },
   {
    "duration": 145,
    "start_time": "2022-11-20T06:16:33.272Z"
   },
   {
    "duration": 106,
    "start_time": "2022-11-20T06:16:33.419Z"
   },
   {
    "duration": 110,
    "start_time": "2022-11-20T06:16:33.527Z"
   },
   {
    "duration": 907,
    "start_time": "2022-11-20T06:16:33.639Z"
   },
   {
    "duration": 35,
    "start_time": "2022-11-20T06:16:34.547Z"
   },
   {
    "duration": 195,
    "start_time": "2022-11-20T06:16:34.584Z"
   },
   {
    "duration": 204,
    "start_time": "2022-11-20T06:16:34.781Z"
   },
   {
    "duration": 326,
    "start_time": "2022-11-20T06:16:34.986Z"
   },
   {
    "duration": 107,
    "start_time": "2022-11-20T06:16:35.313Z"
   },
   {
    "duration": 62,
    "start_time": "2022-11-20T06:16:35.421Z"
   },
   {
    "duration": 15786,
    "start_time": "2022-11-20T06:16:35.484Z"
   },
   {
    "duration": 10,
    "start_time": "2022-11-20T06:16:51.272Z"
   },
   {
    "duration": 23,
    "start_time": "2022-11-20T06:16:51.283Z"
   },
   {
    "duration": 33,
    "start_time": "2022-11-20T06:16:51.308Z"
   },
   {
    "duration": 24,
    "start_time": "2022-11-20T06:16:51.343Z"
   },
   {
    "duration": 14,
    "start_time": "2022-11-20T06:16:51.369Z"
   },
   {
    "duration": 56,
    "start_time": "2022-11-20T06:16:51.385Z"
   },
   {
    "duration": 30,
    "start_time": "2022-11-20T06:16:51.442Z"
   },
   {
    "duration": 63,
    "start_time": "2022-11-20T06:16:51.474Z"
   },
   {
    "duration": 40,
    "start_time": "2022-11-20T06:16:51.539Z"
   },
   {
    "duration": 103,
    "start_time": "2022-11-20T06:16:51.580Z"
   },
   {
    "duration": 14159,
    "start_time": "2022-11-20T06:17:27.954Z"
   },
   {
    "duration": 38,
    "start_time": "2022-11-20T06:19:46.781Z"
   },
   {
    "duration": 227,
    "start_time": "2022-11-20T06:20:51.380Z"
   },
   {
    "duration": 1224,
    "start_time": "2022-11-20T06:21:17.789Z"
   },
   {
    "duration": 602,
    "start_time": "2022-11-20T06:21:32.953Z"
   },
   {
    "duration": 10,
    "start_time": "2022-11-20T06:22:25.919Z"
   },
   {
    "duration": 86,
    "start_time": "2022-11-20T06:24:43.066Z"
   },
   {
    "duration": 520,
    "start_time": "2022-11-20T06:25:27.849Z"
   },
   {
    "duration": 682,
    "start_time": "2022-11-20T06:25:45.728Z"
   },
   {
    "duration": 749,
    "start_time": "2022-11-20T06:25:56.808Z"
   },
   {
    "duration": 1399,
    "start_time": "2022-11-20T06:26:35.185Z"
   },
   {
    "duration": 9,
    "start_time": "2022-11-20T06:29:48.965Z"
   },
   {
    "duration": 1465,
    "start_time": "2022-11-20T06:32:57.431Z"
   },
   {
    "duration": 806,
    "start_time": "2022-11-20T06:32:58.898Z"
   },
   {
    "duration": 171,
    "start_time": "2022-11-20T06:32:59.706Z"
   },
   {
    "duration": 191,
    "start_time": "2022-11-20T06:32:59.879Z"
   },
   {
    "duration": 13,
    "start_time": "2022-11-20T06:33:00.072Z"
   },
   {
    "duration": 14,
    "start_time": "2022-11-20T06:33:00.087Z"
   },
   {
    "duration": 144,
    "start_time": "2022-11-20T06:33:00.103Z"
   },
   {
    "duration": 110,
    "start_time": "2022-11-20T06:33:00.249Z"
   },
   {
    "duration": 106,
    "start_time": "2022-11-20T06:33:00.360Z"
   },
   {
    "duration": 951,
    "start_time": "2022-11-20T06:33:00.470Z"
   },
   {
    "duration": 59,
    "start_time": "2022-11-20T06:33:01.423Z"
   },
   {
    "duration": 201,
    "start_time": "2022-11-20T06:33:01.484Z"
   },
   {
    "duration": 197,
    "start_time": "2022-11-20T06:33:01.687Z"
   },
   {
    "duration": 326,
    "start_time": "2022-11-20T06:33:01.886Z"
   },
   {
    "duration": 100,
    "start_time": "2022-11-20T06:33:02.214Z"
   },
   {
    "duration": 65,
    "start_time": "2022-11-20T06:33:02.315Z"
   },
   {
    "duration": 15668,
    "start_time": "2022-11-20T06:33:02.382Z"
   },
   {
    "duration": 10,
    "start_time": "2022-11-20T06:33:18.051Z"
   },
   {
    "duration": 1585,
    "start_time": "2022-11-20T06:33:18.062Z"
   },
   {
    "duration": 11,
    "start_time": "2022-11-20T06:33:19.649Z"
   },
   {
    "duration": 21,
    "start_time": "2022-11-20T06:33:19.662Z"
   },
   {
    "duration": 17,
    "start_time": "2022-11-20T06:33:19.685Z"
   },
   {
    "duration": 50,
    "start_time": "2022-11-20T06:33:19.704Z"
   },
   {
    "duration": 12,
    "start_time": "2022-11-20T06:33:19.756Z"
   },
   {
    "duration": 46,
    "start_time": "2022-11-20T06:33:19.770Z"
   },
   {
    "duration": 36,
    "start_time": "2022-11-20T06:33:19.817Z"
   },
   {
    "duration": 37,
    "start_time": "2022-11-20T06:33:19.854Z"
   },
   {
    "duration": 13811,
    "start_time": "2022-11-20T06:33:19.894Z"
   },
   {
    "duration": 62,
    "start_time": "2022-11-20T06:33:33.707Z"
   },
   {
    "duration": 59,
    "start_time": "2022-11-20T07:48:07.793Z"
   },
   {
    "duration": 12,
    "start_time": "2022-11-20T07:48:45.530Z"
   },
   {
    "duration": 111,
    "start_time": "2022-11-20T08:20:04.287Z"
   },
   {
    "duration": 10,
    "start_time": "2022-11-20T08:20:09.018Z"
   },
   {
    "duration": 22,
    "start_time": "2022-11-20T08:20:13.938Z"
   },
   {
    "duration": 106,
    "start_time": "2022-11-20T08:20:27.972Z"
   },
   {
    "duration": 63,
    "start_time": "2022-11-20T08:20:33.807Z"
   },
   {
    "duration": 76,
    "start_time": "2022-11-20T08:20:53.211Z"
   },
   {
    "duration": 68,
    "start_time": "2022-11-20T08:21:29.127Z"
   },
   {
    "duration": 144,
    "start_time": "2022-11-20T08:21:56.254Z"
   },
   {
    "duration": 33,
    "start_time": "2022-11-20T08:22:12.582Z"
   },
   {
    "duration": 102,
    "start_time": "2022-11-20T08:22:16.924Z"
   },
   {
    "duration": 74,
    "start_time": "2022-11-20T08:22:20.247Z"
   },
   {
    "duration": 125,
    "start_time": "2022-11-20T08:23:21.283Z"
   },
   {
    "duration": 31,
    "start_time": "2022-11-20T08:23:41.819Z"
   },
   {
    "duration": 100,
    "start_time": "2022-11-20T08:23:45.905Z"
   },
   {
    "duration": 200,
    "start_time": "2022-11-20T08:24:33.449Z"
   },
   {
    "duration": 28,
    "start_time": "2022-11-20T08:24:46.814Z"
   },
   {
    "duration": 165,
    "start_time": "2022-11-20T08:24:52.020Z"
   },
   {
    "duration": 244,
    "start_time": "2022-11-20T08:24:57.193Z"
   },
   {
    "duration": 60,
    "start_time": "2022-11-20T08:26:35.333Z"
   },
   {
    "duration": 104,
    "start_time": "2022-11-20T08:32:09.018Z"
   },
   {
    "duration": 31,
    "start_time": "2022-11-20T08:32:25.709Z"
   },
   {
    "duration": 156,
    "start_time": "2022-11-20T08:33:28.050Z"
   },
   {
    "duration": 30,
    "start_time": "2022-11-20T08:33:48.470Z"
   },
   {
    "duration": 109,
    "start_time": "2022-11-20T08:33:54.208Z"
   },
   {
    "duration": 163,
    "start_time": "2022-11-20T08:34:11.239Z"
   },
   {
    "duration": 24,
    "start_time": "2022-11-20T08:34:43.860Z"
   },
   {
    "duration": 110,
    "start_time": "2022-11-20T08:34:47.878Z"
   },
   {
    "duration": 44,
    "start_time": "2022-11-20T08:34:52.075Z"
   },
   {
    "duration": 151,
    "start_time": "2022-11-20T08:35:38.746Z"
   },
   {
    "duration": 25,
    "start_time": "2022-11-20T08:35:53.191Z"
   },
   {
    "duration": 104,
    "start_time": "2022-11-20T08:35:57.194Z"
   },
   {
    "duration": 11,
    "start_time": "2022-11-20T08:36:09.954Z"
   },
   {
    "duration": 175,
    "start_time": "2022-11-20T08:37:09.971Z"
   },
   {
    "duration": 13,
    "start_time": "2022-11-20T08:37:21.459Z"
   },
   {
    "duration": 1473,
    "start_time": "2022-11-20T08:38:20.116Z"
   },
   {
    "duration": 864,
    "start_time": "2022-11-20T08:38:21.591Z"
   },
   {
    "duration": 167,
    "start_time": "2022-11-20T08:38:22.459Z"
   },
   {
    "duration": 182,
    "start_time": "2022-11-20T08:38:22.634Z"
   },
   {
    "duration": 18,
    "start_time": "2022-11-20T08:38:22.818Z"
   },
   {
    "duration": 8,
    "start_time": "2022-11-20T08:38:22.838Z"
   },
   {
    "duration": 151,
    "start_time": "2022-11-20T08:38:22.848Z"
   },
   {
    "duration": 104,
    "start_time": "2022-11-20T08:38:23.001Z"
   },
   {
    "duration": 96,
    "start_time": "2022-11-20T08:38:23.106Z"
   },
   {
    "duration": 980,
    "start_time": "2022-11-20T08:38:23.204Z"
   },
   {
    "duration": 34,
    "start_time": "2022-11-20T08:38:24.186Z"
   },
   {
    "duration": 189,
    "start_time": "2022-11-20T08:38:24.236Z"
   },
   {
    "duration": 187,
    "start_time": "2022-11-20T08:38:24.427Z"
   },
   {
    "duration": 345,
    "start_time": "2022-11-20T08:38:24.616Z"
   },
   {
    "duration": 114,
    "start_time": "2022-11-20T08:38:24.963Z"
   },
   {
    "duration": 57,
    "start_time": "2022-11-20T08:38:25.078Z"
   },
   {
    "duration": 15567,
    "start_time": "2022-11-20T08:38:25.137Z"
   },
   {
    "duration": 10,
    "start_time": "2022-11-20T08:38:40.706Z"
   },
   {
    "duration": 1458,
    "start_time": "2022-11-20T08:38:40.717Z"
   },
   {
    "duration": 11,
    "start_time": "2022-11-20T08:38:42.176Z"
   },
   {
    "duration": 21,
    "start_time": "2022-11-20T08:38:42.189Z"
   },
   {
    "duration": 14,
    "start_time": "2022-11-20T08:38:42.211Z"
   },
   {
    "duration": 23,
    "start_time": "2022-11-20T08:38:42.235Z"
   },
   {
    "duration": 12,
    "start_time": "2022-11-20T08:38:42.260Z"
   },
   {
    "duration": 80,
    "start_time": "2022-11-20T08:38:42.275Z"
   },
   {
    "duration": 40,
    "start_time": "2022-11-20T08:38:42.357Z"
   },
   {
    "duration": 13678,
    "start_time": "2022-11-20T08:38:42.400Z"
   },
   {
    "duration": 57,
    "start_time": "2022-11-20T08:38:56.079Z"
   },
   {
    "duration": 23,
    "start_time": "2022-11-20T08:38:56.138Z"
   },
   {
    "duration": 3,
    "start_time": "2022-11-20T08:38:56.163Z"
   },
   {
    "duration": 122,
    "start_time": "2022-11-20T08:38:56.167Z"
   },
   {
    "duration": 10,
    "start_time": "2022-11-20T08:38:56.291Z"
   },
   {
    "duration": 121,
    "start_time": "2022-11-20T08:39:24.534Z"
   },
   {
    "duration": 3,
    "start_time": "2022-11-20T08:39:28.660Z"
   },
   {
    "duration": 147,
    "start_time": "2022-11-20T08:39:40.101Z"
   },
   {
    "duration": 103,
    "start_time": "2022-11-20T08:41:17.368Z"
   },
   {
    "duration": 26,
    "start_time": "2022-11-20T08:41:26.646Z"
   },
   {
    "duration": 5,
    "start_time": "2022-11-20T08:45:01.446Z"
   },
   {
    "duration": 20,
    "start_time": "2022-11-20T08:45:08.850Z"
   },
   {
    "duration": 196,
    "start_time": "2022-11-20T08:45:12.742Z"
   },
   {
    "duration": 103,
    "start_time": "2022-11-20T08:52:38.662Z"
   },
   {
    "duration": 12,
    "start_time": "2022-11-20T08:52:41.929Z"
   },
   {
    "duration": 5,
    "start_time": "2022-11-20T08:52:47.226Z"
   },
   {
    "duration": 169,
    "start_time": "2022-11-20T08:52:52.253Z"
   },
   {
    "duration": 107,
    "start_time": "2022-11-20T08:57:10.331Z"
   },
   {
    "duration": 138,
    "start_time": "2022-11-20T08:57:12.423Z"
   },
   {
    "duration": 157,
    "start_time": "2022-11-20T08:57:39.782Z"
   },
   {
    "duration": 20,
    "start_time": "2022-11-20T08:59:36.524Z"
   },
   {
    "duration": 3,
    "start_time": "2022-11-20T09:06:31.317Z"
   },
   {
    "duration": 69,
    "start_time": "2022-11-20T09:09:52.269Z"
   },
   {
    "duration": 273,
    "start_time": "2022-11-20T09:12:56.431Z"
   },
   {
    "duration": 277,
    "start_time": "2022-11-20T09:13:14.889Z"
   },
   {
    "duration": 293,
    "start_time": "2022-11-20T09:14:32.703Z"
   },
   {
    "duration": 434,
    "start_time": "2022-11-20T09:15:02.322Z"
   },
   {
    "duration": 99,
    "start_time": "2022-11-20T09:16:55.576Z"
   },
   {
    "duration": 104,
    "start_time": "2022-11-20T09:16:57.610Z"
   },
   {
    "duration": 142,
    "start_time": "2022-11-20T09:17:01.504Z"
   },
   {
    "duration": 573,
    "start_time": "2022-11-20T09:17:08.765Z"
   },
   {
    "duration": 3,
    "start_time": "2022-11-20T10:06:43.000Z"
   },
   {
    "duration": 50,
    "start_time": "2022-11-20T10:07:25.387Z"
   },
   {
    "duration": 5,
    "start_time": "2022-11-20T10:07:42.850Z"
   },
   {
    "duration": 120,
    "start_time": "2022-11-20T10:10:16.649Z"
   },
   {
    "duration": 54,
    "start_time": "2022-11-20T10:11:17.107Z"
   },
   {
    "duration": 47,
    "start_time": "2022-11-20T10:12:07.978Z"
   },
   {
    "duration": 44,
    "start_time": "2022-11-20T10:12:28.783Z"
   },
   {
    "duration": 1336,
    "start_time": "2022-11-20T10:13:10.644Z"
   },
   {
    "duration": 847,
    "start_time": "2022-11-20T10:13:11.982Z"
   },
   {
    "duration": 132,
    "start_time": "2022-11-20T10:13:12.831Z"
   },
   {
    "duration": 149,
    "start_time": "2022-11-20T10:13:12.964Z"
   },
   {
    "duration": 12,
    "start_time": "2022-11-20T10:13:13.115Z"
   },
   {
    "duration": 6,
    "start_time": "2022-11-20T10:13:13.135Z"
   },
   {
    "duration": 165,
    "start_time": "2022-11-20T10:13:13.142Z"
   },
   {
    "duration": 102,
    "start_time": "2022-11-20T10:13:13.308Z"
   },
   {
    "duration": 100,
    "start_time": "2022-11-20T10:13:13.411Z"
   },
   {
    "duration": 850,
    "start_time": "2022-11-20T10:13:13.513Z"
   },
   {
    "duration": 30,
    "start_time": "2022-11-20T10:13:14.365Z"
   },
   {
    "duration": 185,
    "start_time": "2022-11-20T10:13:14.397Z"
   },
   {
    "duration": 199,
    "start_time": "2022-11-20T10:13:14.583Z"
   },
   {
    "duration": 318,
    "start_time": "2022-11-20T10:13:14.783Z"
   },
   {
    "duration": 101,
    "start_time": "2022-11-20T10:13:15.102Z"
   },
   {
    "duration": 62,
    "start_time": "2022-11-20T10:13:15.204Z"
   },
   {
    "duration": 15048,
    "start_time": "2022-11-20T10:13:15.267Z"
   },
   {
    "duration": 10,
    "start_time": "2022-11-20T10:13:30.316Z"
   },
   {
    "duration": 1491,
    "start_time": "2022-11-20T10:13:30.327Z"
   },
   {
    "duration": 18,
    "start_time": "2022-11-20T10:13:31.819Z"
   },
   {
    "duration": 39,
    "start_time": "2022-11-20T10:13:31.838Z"
   },
   {
    "duration": 54,
    "start_time": "2022-11-20T10:13:31.879Z"
   },
   {
    "duration": 37,
    "start_time": "2022-11-20T10:13:31.935Z"
   },
   {
    "duration": 24,
    "start_time": "2022-11-20T10:13:31.974Z"
   },
   {
    "duration": 46,
    "start_time": "2022-11-20T10:13:32.000Z"
   },
   {
    "duration": 53,
    "start_time": "2022-11-20T10:13:32.048Z"
   },
   {
    "duration": 13456,
    "start_time": "2022-11-20T10:13:32.103Z"
   },
   {
    "duration": 52,
    "start_time": "2022-11-20T10:13:45.562Z"
   },
   {
    "duration": 41,
    "start_time": "2022-11-20T10:13:45.615Z"
   },
   {
    "duration": 14,
    "start_time": "2022-11-20T10:13:45.657Z"
   },
   {
    "duration": 14,
    "start_time": "2022-11-20T10:13:45.672Z"
   },
   {
    "duration": 22,
    "start_time": "2022-11-20T10:13:45.687Z"
   },
   {
    "duration": 5,
    "start_time": "2022-11-20T10:13:59.114Z"
   },
   {
    "duration": 62,
    "start_time": "2022-11-20T10:14:01.184Z"
   },
   {
    "duration": 100,
    "start_time": "2022-11-20T10:14:10.842Z"
   },
   {
    "duration": 116,
    "start_time": "2022-11-20T10:14:13.553Z"
   },
   {
    "duration": 116,
    "start_time": "2022-11-20T10:14:20.107Z"
   },
   {
    "duration": 73,
    "start_time": "2022-11-20T10:15:14.973Z"
   },
   {
    "duration": 53,
    "start_time": "2022-11-20T10:15:45.475Z"
   },
   {
    "duration": 58,
    "start_time": "2022-11-20T10:15:50.376Z"
   },
   {
    "duration": 217,
    "start_time": "2022-11-20T10:15:58.575Z"
   },
   {
    "duration": 375,
    "start_time": "2022-11-20T10:16:05.971Z"
   },
   {
    "duration": 349,
    "start_time": "2022-11-20T10:16:25.584Z"
   },
   {
    "duration": 308,
    "start_time": "2022-11-20T10:20:54.817Z"
   },
   {
    "duration": 2,
    "start_time": "2022-11-20T10:21:11.626Z"
   },
   {
    "duration": 277,
    "start_time": "2022-11-20T10:21:14.105Z"
   },
   {
    "duration": 5,
    "start_time": "2022-11-20T10:21:45.537Z"
   },
   {
    "duration": 2112,
    "start_time": "2022-11-20T10:21:50.752Z"
   },
   {
    "duration": 6,
    "start_time": "2022-11-20T10:30:02.293Z"
   },
   {
    "duration": 1124,
    "start_time": "2022-11-20T10:30:07.184Z"
   },
   {
    "duration": 3,
    "start_time": "2022-11-20T10:30:17.823Z"
   },
   {
    "duration": 2036,
    "start_time": "2022-11-20T10:30:21.726Z"
   },
   {
    "duration": 41,
    "start_time": "2022-11-20T10:31:50.428Z"
   },
   {
    "duration": 65,
    "start_time": "2022-11-20T10:36:52.396Z"
   },
   {
    "duration": 52,
    "start_time": "2022-11-20T10:37:00.891Z"
   },
   {
    "duration": 56,
    "start_time": "2022-11-20T10:39:10.716Z"
   },
   {
    "duration": 57,
    "start_time": "2022-11-20T10:40:27.628Z"
   },
   {
    "duration": 61,
    "start_time": "2022-11-20T10:40:41.429Z"
   },
   {
    "duration": 80,
    "start_time": "2022-11-20T10:41:03.548Z"
   },
   {
    "duration": 1867,
    "start_time": "2022-11-20T10:41:14.389Z"
   },
   {
    "duration": 1085371,
    "start_time": "2022-11-20T10:41:19.829Z"
   },
   {
    "duration": 4,
    "start_time": "2022-11-20T11:13:08.477Z"
   },
   {
    "duration": 30,
    "start_time": "2022-11-20T11:13:26.899Z"
   },
   {
    "duration": 13827,
    "start_time": "2022-11-20T11:21:25.023Z"
   },
   {
    "duration": 13381,
    "start_time": "2022-11-20T11:22:04.619Z"
   },
   {
    "duration": 12,
    "start_time": "2022-11-20T11:25:15.814Z"
   },
   {
    "duration": 4,
    "start_time": "2022-11-20T11:25:46.737Z"
   },
   {
    "duration": 91,
    "start_time": "2022-11-20T11:42:42.705Z"
   },
   {
    "duration": 20,
    "start_time": "2022-11-20T11:42:55.821Z"
   },
   {
    "duration": 11,
    "start_time": "2022-11-20T11:53:12.287Z"
   },
   {
    "duration": 7,
    "start_time": "2022-11-20T11:53:16.672Z"
   },
   {
    "duration": 106,
    "start_time": "2022-11-20T11:53:18.354Z"
   },
   {
    "duration": 2138,
    "start_time": "2022-11-20T11:53:32.006Z"
   },
   {
    "duration": 409,
    "start_time": "2022-11-20T11:55:30.904Z"
   },
   {
    "duration": 50,
    "start_time": "2022-11-20T11:56:02.354Z"
   },
   {
    "duration": 2234,
    "start_time": "2022-11-20T11:56:20.262Z"
   },
   {
    "duration": 27,
    "start_time": "2022-11-20T11:56:33.769Z"
   },
   {
    "duration": 67752,
    "start_time": "2022-11-20T11:56:36.293Z"
   },
   {
    "duration": 16,
    "start_time": "2022-11-20T11:59:20.767Z"
   },
   {
    "duration": 6120,
    "start_time": "2022-11-20T12:02:44.521Z"
   },
   {
    "duration": 24,
    "start_time": "2022-11-20T12:04:16.345Z"
   },
   {
    "duration": 25,
    "start_time": "2022-11-20T12:05:11.576Z"
   },
   {
    "duration": 54,
    "start_time": "2022-11-20T12:05:45.844Z"
   },
   {
    "duration": 71,
    "start_time": "2022-11-20T12:05:55.618Z"
   },
   {
    "duration": 53,
    "start_time": "2022-11-20T12:06:20.481Z"
   },
   {
    "duration": 118693,
    "start_time": "2022-11-20T12:06:50.514Z"
   },
   {
    "duration": 4,
    "start_time": "2022-11-20T12:10:43.302Z"
   },
   {
    "duration": 17,
    "start_time": "2022-11-20T12:11:07.194Z"
   },
   {
    "duration": 721,
    "start_time": "2022-11-20T12:11:30.410Z"
   },
   {
    "duration": 765,
    "start_time": "2022-11-20T12:12:35.053Z"
   },
   {
    "duration": 17,
    "start_time": "2022-11-20T12:12:56.831Z"
   },
   {
    "duration": 17,
    "start_time": "2022-11-20T12:13:58.394Z"
   },
   {
    "duration": 22,
    "start_time": "2022-11-20T12:17:13.778Z"
   },
   {
    "duration": 50,
    "start_time": "2022-11-20T12:20:54.174Z"
   },
   {
    "duration": 69,
    "start_time": "2022-11-20T12:29:37.326Z"
   },
   {
    "duration": 74,
    "start_time": "2022-11-20T12:30:48.401Z"
   },
   {
    "duration": 66,
    "start_time": "2022-11-20T12:31:39.373Z"
   },
   {
    "duration": 61,
    "start_time": "2022-11-20T12:34:24.574Z"
   },
   {
    "duration": 73966,
    "start_time": "2022-11-20T12:35:32.742Z"
   },
   {
    "duration": 26,
    "start_time": "2022-11-20T12:38:02.159Z"
   },
   {
    "duration": 89932,
    "start_time": "2022-11-20T12:39:25.898Z"
   },
   {
    "duration": 26,
    "start_time": "2022-11-20T12:41:47.238Z"
   },
   {
    "duration": 3792,
    "start_time": "2022-11-20T12:46:50.864Z"
   },
   {
    "duration": 2710,
    "start_time": "2022-11-20T12:47:17.133Z"
   },
   {
    "duration": 7,
    "start_time": "2022-11-20T12:54:47.434Z"
   },
   {
    "duration": 2620,
    "start_time": "2022-11-20T12:54:58.173Z"
   },
   {
    "duration": 6,
    "start_time": "2022-11-20T12:56:33.272Z"
   },
   {
    "duration": 213,
    "start_time": "2022-11-20T12:56:36.347Z"
   },
   {
    "duration": 6,
    "start_time": "2022-11-20T12:59:09.691Z"
   },
   {
    "duration": 2097,
    "start_time": "2022-11-20T12:59:12.713Z"
   },
   {
    "duration": 399,
    "start_time": "2022-11-20T12:59:36.040Z"
   },
   {
    "duration": 9122,
    "start_time": "2022-11-20T12:59:44.318Z"
   },
   {
    "duration": 20,
    "start_time": "2022-11-20T12:59:56.830Z"
   },
   {
    "duration": 1477,
    "start_time": "2022-11-20T13:01:44.608Z"
   },
   {
    "duration": 904,
    "start_time": "2022-11-20T13:01:46.087Z"
   },
   {
    "duration": 144,
    "start_time": "2022-11-20T13:01:46.992Z"
   },
   {
    "duration": 158,
    "start_time": "2022-11-20T13:01:47.138Z"
   },
   {
    "duration": 13,
    "start_time": "2022-11-20T13:01:47.298Z"
   },
   {
    "duration": 31,
    "start_time": "2022-11-20T13:01:47.312Z"
   },
   {
    "duration": 146,
    "start_time": "2022-11-20T13:01:47.345Z"
   },
   {
    "duration": 110,
    "start_time": "2022-11-20T13:01:47.493Z"
   },
   {
    "duration": 103,
    "start_time": "2022-11-20T13:01:47.605Z"
   },
   {
    "duration": 944,
    "start_time": "2022-11-20T13:01:47.710Z"
   },
   {
    "duration": 36,
    "start_time": "2022-11-20T13:01:48.655Z"
   },
   {
    "duration": 210,
    "start_time": "2022-11-20T13:01:48.693Z"
   },
   {
    "duration": 199,
    "start_time": "2022-11-20T13:01:48.904Z"
   },
   {
    "duration": 346,
    "start_time": "2022-11-20T13:01:49.104Z"
   },
   {
    "duration": 110,
    "start_time": "2022-11-20T13:01:49.452Z"
   },
   {
    "duration": 57,
    "start_time": "2022-11-20T13:01:49.564Z"
   },
   {
    "duration": 15803,
    "start_time": "2022-11-20T13:01:49.622Z"
   },
   {
    "duration": 15,
    "start_time": "2022-11-20T13:02:05.427Z"
   },
   {
    "duration": 1300,
    "start_time": "2022-11-20T13:02:05.444Z"
   },
   {
    "duration": 11,
    "start_time": "2022-11-20T13:02:06.746Z"
   },
   {
    "duration": 34,
    "start_time": "2022-11-20T13:02:06.759Z"
   },
   {
    "duration": 13,
    "start_time": "2022-11-20T13:02:06.795Z"
   },
   {
    "duration": 42,
    "start_time": "2022-11-20T13:02:06.810Z"
   },
   {
    "duration": 12,
    "start_time": "2022-11-20T13:02:06.854Z"
   },
   {
    "duration": 26,
    "start_time": "2022-11-20T13:02:06.867Z"
   },
   {
    "duration": 49,
    "start_time": "2022-11-20T13:02:06.895Z"
   },
   {
    "duration": 13359,
    "start_time": "2022-11-20T13:02:06.946Z"
   },
   {
    "duration": 56,
    "start_time": "2022-11-20T13:02:20.309Z"
   },
   {
    "duration": 22,
    "start_time": "2022-11-20T13:02:20.367Z"
   },
   {
    "duration": 3,
    "start_time": "2022-11-20T13:02:20.391Z"
   },
   {
    "duration": 7,
    "start_time": "2022-11-20T13:02:20.395Z"
   },
   {
    "duration": 7,
    "start_time": "2022-11-20T13:02:20.403Z"
   },
   {
    "duration": 2134,
    "start_time": "2022-11-20T13:02:20.436Z"
   },
   {
    "duration": 2,
    "start_time": "2022-11-20T13:02:22.572Z"
   },
   {
    "duration": 1067985,
    "start_time": "2022-11-20T13:02:22.577Z"
   },
   {
    "duration": 22,
    "start_time": "2022-11-20T13:20:10.564Z"
   },
   {
    "duration": 3,
    "start_time": "2022-11-20T13:20:10.588Z"
   },
   {
    "duration": 218253,
    "start_time": "2022-11-20T13:20:10.592Z"
   },
   {
    "duration": 22,
    "start_time": "2022-11-20T13:23:48.847Z"
   },
   {
    "duration": 3,
    "start_time": "2022-11-20T13:23:48.871Z"
   },
   {
    "duration": 120908,
    "start_time": "2022-11-20T13:23:48.876Z"
   },
   {
    "duration": 23,
    "start_time": "2022-11-20T13:25:49.785Z"
   },
   {
    "duration": 19,
    "start_time": "2022-11-20T13:25:49.809Z"
   },
   {
    "duration": 8467,
    "start_time": "2022-11-20T13:25:49.830Z"
   },
   {
    "duration": 23,
    "start_time": "2022-11-20T13:25:58.298Z"
   },
   {
    "duration": 154,
    "start_time": "2022-11-20T13:25:58.335Z"
   },
   {
    "duration": 2,
    "start_time": "2022-11-20T13:25:58.496Z"
   },
   {
    "duration": 21,
    "start_time": "2022-11-20T13:25:58.500Z"
   },
   {
    "duration": 10,
    "start_time": "2022-11-20T13:25:58.523Z"
   },
   {
    "duration": 11,
    "start_time": "2022-11-20T13:25:58.535Z"
   },
   {
    "duration": 7,
    "start_time": "2022-11-20T13:25:58.547Z"
   },
   {
    "duration": 10,
    "start_time": "2022-11-20T13:28:42.358Z"
   },
   {
    "duration": 91,
    "start_time": "2022-11-20T13:37:59.989Z"
   },
   {
    "duration": 55,
    "start_time": "2022-11-20T13:38:46.402Z"
   },
   {
    "duration": 52,
    "start_time": "2022-11-20T13:40:45.320Z"
   },
   {
    "duration": 133855,
    "start_time": "2022-11-20T13:40:50.591Z"
   },
   {
    "duration": 56,
    "start_time": "2022-11-20T13:43:40.849Z"
   },
   {
    "duration": 20,
    "start_time": "2022-11-20T13:46:59.483Z"
   },
   {
    "duration": 16,
    "start_time": "2022-11-20T13:47:14.436Z"
   },
   {
    "duration": 17,
    "start_time": "2022-11-20T13:48:15.114Z"
   },
   {
    "duration": 18,
    "start_time": "2022-11-20T13:49:23.455Z"
   },
   {
    "duration": 11,
    "start_time": "2022-11-20T13:50:12.692Z"
   },
   {
    "duration": 2068,
    "start_time": "2022-11-21T02:14:07.488Z"
   },
   {
    "duration": 764,
    "start_time": "2022-11-21T02:14:09.558Z"
   },
   {
    "duration": 121,
    "start_time": "2022-11-21T02:14:10.324Z"
   },
   {
    "duration": 156,
    "start_time": "2022-11-21T02:14:10.446Z"
   },
   {
    "duration": 29,
    "start_time": "2022-11-21T02:14:10.604Z"
   },
   {
    "duration": 25,
    "start_time": "2022-11-21T02:14:10.634Z"
   },
   {
    "duration": 129,
    "start_time": "2022-11-21T02:14:10.661Z"
   },
   {
    "duration": 100,
    "start_time": "2022-11-21T02:14:10.791Z"
   },
   {
    "duration": 94,
    "start_time": "2022-11-21T02:14:10.893Z"
   },
   {
    "duration": 868,
    "start_time": "2022-11-21T02:14:10.988Z"
   },
   {
    "duration": 32,
    "start_time": "2022-11-21T02:14:11.858Z"
   },
   {
    "duration": 167,
    "start_time": "2022-11-21T02:14:12.153Z"
   },
   {
    "duration": 170,
    "start_time": "2022-11-21T02:14:12.910Z"
   },
   {
    "duration": 287,
    "start_time": "2022-11-21T02:14:13.229Z"
   },
   {
    "duration": 90,
    "start_time": "2022-11-21T02:14:13.676Z"
   },
   {
    "duration": 48,
    "start_time": "2022-11-21T02:14:13.986Z"
   },
   {
    "duration": 14676,
    "start_time": "2022-11-21T02:14:14.992Z"
   },
   {
    "duration": 8,
    "start_time": "2022-11-21T02:14:29.670Z"
   },
   {
    "duration": 1193,
    "start_time": "2022-11-21T02:14:29.679Z"
   },
   {
    "duration": 10,
    "start_time": "2022-11-21T02:14:30.874Z"
   },
   {
    "duration": 30,
    "start_time": "2022-11-21T02:14:30.885Z"
   },
   {
    "duration": 17,
    "start_time": "2022-11-21T02:14:30.917Z"
   },
   {
    "duration": 28,
    "start_time": "2022-11-21T02:14:30.936Z"
   },
   {
    "duration": 11,
    "start_time": "2022-11-21T02:14:30.966Z"
   },
   {
    "duration": 23,
    "start_time": "2022-11-21T02:14:30.978Z"
   },
   {
    "duration": 48,
    "start_time": "2022-11-21T02:14:31.004Z"
   },
   {
    "duration": 85,
    "start_time": "2022-11-21T02:14:31.054Z"
   },
   {
    "duration": 48,
    "start_time": "2022-11-21T02:14:39.860Z"
   }
  ],
  "kernelspec": {
   "display_name": "Python 3 (ipykernel)",
   "language": "python",
   "name": "python3"
  },
  "language_info": {
   "codemirror_mode": {
    "name": "ipython",
    "version": 3
   },
   "file_extension": ".py",
   "mimetype": "text/x-python",
   "name": "python",
   "nbconvert_exporter": "python",
   "pygments_lexer": "ipython3",
   "version": "3.9.15"
  },
  "toc": {
   "base_numbering": 1,
   "nav_menu": {},
   "number_sections": true,
   "sideBar": true,
   "skip_h1_title": true,
   "title_cell": "Table of Contents",
   "title_sidebar": "Contents",
   "toc_cell": false,
   "toc_position": {},
   "toc_section_display": true,
   "toc_window_display": false
  }
 },
 "nbformat": 4,
 "nbformat_minor": 2
}
