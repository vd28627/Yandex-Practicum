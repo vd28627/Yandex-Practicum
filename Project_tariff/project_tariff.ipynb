{
 "cells": [
  {
   "cell_type": "markdown",
   "metadata": {},
   "source": [
    "# Рекомендация тарифов"
   ]
  },
  {
   "cell_type": "markdown",
   "metadata": {},
   "source": [
    "В вашем распоряжении данные о поведении клиентов, которые уже перешли на эти тарифы (из проекта курса «Статистический анализ данных»). Нужно построить модель для задачи классификации, которая выберет подходящий тариф. Предобработка данных не понадобится — вы её уже сделали.\n",
    "\n",
    "Постройте модель с максимально большим значением *accuracy*. Чтобы сдать проект успешно, нужно довести долю правильных ответов по крайней мере до 0.75. Проверьте *accuracy* на тестовой выборке самостоятельно."
   ]
  },
  {
   "cell_type": "markdown",
   "metadata": {},
   "source": [
    "## Откройте и изучите файл"
   ]
  },
  {
   "cell_type": "markdown",
   "metadata": {},
   "source": [
    "Импортируем все необходимые библиотеки"
   ]
  },
  {
   "cell_type": "code",
   "execution_count": 1,
   "metadata": {},
   "outputs": [],
   "source": [
    "import pandas as pd\n",
    "import numpy as np\n",
    "from sklearn.model_selection import train_test_split\n",
    "from sklearn.tree import DecisionTreeClassifier\n",
    "from sklearn.linear_model import LogisticRegression\n",
    "from sklearn.ensemble import RandomForestClassifier\n",
    "from sklearn.metrics import accuracy_score"
   ]
  },
  {
   "cell_type": "markdown",
   "metadata": {},
   "source": [
    "Загрузим датафрейм, посмотрим содержимое."
   ]
  },
  {
   "cell_type": "code",
   "execution_count": 2,
   "metadata": {},
   "outputs": [
    {
     "data": {
      "text/html": [
       "<div>\n",
       "<style scoped>\n",
       "    .dataframe tbody tr th:only-of-type {\n",
       "        vertical-align: middle;\n",
       "    }\n",
       "\n",
       "    .dataframe tbody tr th {\n",
       "        vertical-align: top;\n",
       "    }\n",
       "\n",
       "    .dataframe thead th {\n",
       "        text-align: right;\n",
       "    }\n",
       "</style>\n",
       "<table border=\"1\" class=\"dataframe\">\n",
       "  <thead>\n",
       "    <tr style=\"text-align: right;\">\n",
       "      <th></th>\n",
       "      <th>calls</th>\n",
       "      <th>minutes</th>\n",
       "      <th>messages</th>\n",
       "      <th>mb_used</th>\n",
       "      <th>is_ultra</th>\n",
       "    </tr>\n",
       "  </thead>\n",
       "  <tbody>\n",
       "    <tr>\n",
       "      <th>0</th>\n",
       "      <td>40.0</td>\n",
       "      <td>311.90</td>\n",
       "      <td>83.0</td>\n",
       "      <td>19915.42</td>\n",
       "      <td>0</td>\n",
       "    </tr>\n",
       "    <tr>\n",
       "      <th>1</th>\n",
       "      <td>85.0</td>\n",
       "      <td>516.75</td>\n",
       "      <td>56.0</td>\n",
       "      <td>22696.96</td>\n",
       "      <td>0</td>\n",
       "    </tr>\n",
       "    <tr>\n",
       "      <th>2</th>\n",
       "      <td>77.0</td>\n",
       "      <td>467.66</td>\n",
       "      <td>86.0</td>\n",
       "      <td>21060.45</td>\n",
       "      <td>0</td>\n",
       "    </tr>\n",
       "    <tr>\n",
       "      <th>3</th>\n",
       "      <td>106.0</td>\n",
       "      <td>745.53</td>\n",
       "      <td>81.0</td>\n",
       "      <td>8437.39</td>\n",
       "      <td>1</td>\n",
       "    </tr>\n",
       "    <tr>\n",
       "      <th>4</th>\n",
       "      <td>66.0</td>\n",
       "      <td>418.74</td>\n",
       "      <td>1.0</td>\n",
       "      <td>14502.75</td>\n",
       "      <td>0</td>\n",
       "    </tr>\n",
       "    <tr>\n",
       "      <th>5</th>\n",
       "      <td>58.0</td>\n",
       "      <td>344.56</td>\n",
       "      <td>21.0</td>\n",
       "      <td>15823.37</td>\n",
       "      <td>0</td>\n",
       "    </tr>\n",
       "    <tr>\n",
       "      <th>6</th>\n",
       "      <td>57.0</td>\n",
       "      <td>431.64</td>\n",
       "      <td>20.0</td>\n",
       "      <td>3738.90</td>\n",
       "      <td>1</td>\n",
       "    </tr>\n",
       "    <tr>\n",
       "      <th>7</th>\n",
       "      <td>15.0</td>\n",
       "      <td>132.40</td>\n",
       "      <td>6.0</td>\n",
       "      <td>21911.60</td>\n",
       "      <td>0</td>\n",
       "    </tr>\n",
       "    <tr>\n",
       "      <th>8</th>\n",
       "      <td>7.0</td>\n",
       "      <td>43.39</td>\n",
       "      <td>3.0</td>\n",
       "      <td>2538.67</td>\n",
       "      <td>1</td>\n",
       "    </tr>\n",
       "    <tr>\n",
       "      <th>9</th>\n",
       "      <td>90.0</td>\n",
       "      <td>665.41</td>\n",
       "      <td>38.0</td>\n",
       "      <td>17358.61</td>\n",
       "      <td>0</td>\n",
       "    </tr>\n",
       "  </tbody>\n",
       "</table>\n",
       "</div>"
      ],
      "text/plain": [
       "   calls  minutes  messages   mb_used  is_ultra\n",
       "0   40.0   311.90      83.0  19915.42         0\n",
       "1   85.0   516.75      56.0  22696.96         0\n",
       "2   77.0   467.66      86.0  21060.45         0\n",
       "3  106.0   745.53      81.0   8437.39         1\n",
       "4   66.0   418.74       1.0  14502.75         0\n",
       "5   58.0   344.56      21.0  15823.37         0\n",
       "6   57.0   431.64      20.0   3738.90         1\n",
       "7   15.0   132.40       6.0  21911.60         0\n",
       "8    7.0    43.39       3.0   2538.67         1\n",
       "9   90.0   665.41      38.0  17358.61         0"
      ]
     },
     "metadata": {},
     "output_type": "display_data"
    }
   ],
   "source": [
    "data = pd.read_csv('/datasets/users_behavior.csv')\n",
    "display(data.head(10))"
   ]
  },
  {
   "cell_type": "markdown",
   "metadata": {},
   "source": [
    "Посмотрим инфо."
   ]
  },
  {
   "cell_type": "code",
   "execution_count": 3,
   "metadata": {},
   "outputs": [
    {
     "name": "stdout",
     "output_type": "stream",
     "text": [
      "<class 'pandas.core.frame.DataFrame'>\n",
      "RangeIndex: 3214 entries, 0 to 3213\n",
      "Data columns (total 5 columns):\n",
      " #   Column    Non-Null Count  Dtype  \n",
      "---  ------    --------------  -----  \n",
      " 0   calls     3214 non-null   float64\n",
      " 1   minutes   3214 non-null   float64\n",
      " 2   messages  3214 non-null   float64\n",
      " 3   mb_used   3214 non-null   float64\n",
      " 4   is_ultra  3214 non-null   int64  \n",
      "dtypes: float64(4), int64(1)\n",
      "memory usage: 125.7 KB\n"
     ]
    }
   ],
   "source": [
    "data.info()"
   ]
  },
  {
   "cell_type": "markdown",
   "metadata": {},
   "source": [
    "Пропусков в данных нет. Проверим дубликаты"
   ]
  },
  {
   "cell_type": "code",
   "execution_count": 4,
   "metadata": {},
   "outputs": [
    {
     "data": {
      "text/plain": [
       "'Дубликатов в таблице'"
      ]
     },
     "metadata": {},
     "output_type": "display_data"
    },
    {
     "data": {
      "text/plain": [
       "0"
      ]
     },
     "metadata": {},
     "output_type": "display_data"
    }
   ],
   "source": [
    "display('Дубликатов в таблице', data.duplicated().sum())"
   ]
  },
  {
   "cell_type": "markdown",
   "metadata": {},
   "source": [
    "Дубликатов тоже нет. Можем приступать к разбивке на выборки."
   ]
  },
  {
   "cell_type": "markdown",
   "metadata": {},
   "source": [
    "Выводы: 1) Загрузили библиотеки. 2) Загрузили датафрейм. 3) Проверили датафрейм, данные в порядке: нет пропусков, нет дубликатов, столбцы названы корректно."
   ]
  },
  {
   "cell_type": "markdown",
   "metadata": {},
   "source": [
    "## Разбейте данные на выборки"
   ]
  },
  {
   "cell_type": "markdown",
   "metadata": {},
   "source": [
    "Выделим отдельно признаки и целевой признак. Целевой признак- тариф, ему соответствует столбец \"is_ultra\"."
   ]
  },
  {
   "cell_type": "code",
   "execution_count": 5,
   "metadata": {},
   "outputs": [],
   "source": [
    "features = data.drop('is_ultra', axis=1)\n",
    "target = data['is_ultra']"
   ]
  },
  {
   "cell_type": "markdown",
   "metadata": {},
   "source": [
    "Теперь разобьем данные на выборки, по соотношению 3:1:1. Начнем с выделения тестовой выборки, на нее должно придтись 20% исходных данных."
   ]
  },
  {
   "cell_type": "code",
   "execution_count": 6,
   "metadata": {},
   "outputs": [],
   "source": [
    "data_features, features_test, data_target, target_test = train_test_split(features, target, test_size=0.2, random_state=12345)"
   ]
  },
  {
   "cell_type": "markdown",
   "metadata": {},
   "source": [
    "Теперь выделим уже 0.25 от выборок data_features и data_target- под валидационную выборку."
   ]
  },
  {
   "cell_type": "code",
   "execution_count": 7,
   "metadata": {},
   "outputs": [],
   "source": [
    "features_train, features_valid, target_train, target_valid = train_test_split(data_features, \n",
    "                                                                              data_target, test_size=0.25, random_state=12345)"
   ]
  },
  {
   "cell_type": "markdown",
   "metadata": {},
   "source": [
    "Проверим результат."
   ]
  },
  {
   "cell_type": "code",
   "execution_count": 8,
   "metadata": {},
   "outputs": [
    {
     "name": "stdout",
     "output_type": "stream",
     "text": [
      "<class 'pandas.core.frame.DataFrame'>\n",
      "Int64Index: 643 entries, 1415 to 1196\n",
      "Data columns (total 4 columns):\n",
      " #   Column    Non-Null Count  Dtype  \n",
      "---  ------    --------------  -----  \n",
      " 0   calls     643 non-null    float64\n",
      " 1   minutes   643 non-null    float64\n",
      " 2   messages  643 non-null    float64\n",
      " 3   mb_used   643 non-null    float64\n",
      "dtypes: float64(4)\n",
      "memory usage: 25.1 KB\n",
      "<class 'pandas.core.frame.DataFrame'>\n",
      "Int64Index: 1928 entries, 2656 to 510\n",
      "Data columns (total 4 columns):\n",
      " #   Column    Non-Null Count  Dtype  \n",
      "---  ------    --------------  -----  \n",
      " 0   calls     1928 non-null   float64\n",
      " 1   minutes   1928 non-null   float64\n",
      " 2   messages  1928 non-null   float64\n",
      " 3   mb_used   1928 non-null   float64\n",
      "dtypes: float64(4)\n",
      "memory usage: 75.3 KB\n",
      "<class 'pandas.core.frame.DataFrame'>\n",
      "Int64Index: 643 entries, 2699 to 1806\n",
      "Data columns (total 4 columns):\n",
      " #   Column    Non-Null Count  Dtype  \n",
      "---  ------    --------------  -----  \n",
      " 0   calls     643 non-null    float64\n",
      " 1   minutes   643 non-null    float64\n",
      " 2   messages  643 non-null    float64\n",
      " 3   mb_used   643 non-null    float64\n",
      "dtypes: float64(4)\n",
      "memory usage: 25.1 KB\n"
     ]
    }
   ],
   "source": [
    "features_test.info()\n",
    "features_train.info()\n",
    "features_valid.info()"
   ]
  },
  {
   "cell_type": "markdown",
   "metadata": {},
   "source": [
    "Данные поделены корректно. Можем приступать к исследованию моделей."
   ]
  },
  {
   "cell_type": "markdown",
   "metadata": {},
   "source": [
    "## Исследуйте модели"
   ]
  },
  {
   "cell_type": "markdown",
   "metadata": {},
   "source": [
    "Начнем по порядку- с решающего дерева."
   ]
  },
  {
   "cell_type": "code",
   "execution_count": 9,
   "metadata": {
    "scrolled": true
   },
   "outputs": [
    {
     "data": {
      "text/plain": [
       "'Самая высокая точность:'"
      ]
     },
     "metadata": {},
     "output_type": "display_data"
    },
    {
     "data": {
      "text/plain": [
       "0.7916018662519441"
      ]
     },
     "metadata": {},
     "output_type": "display_data"
    },
    {
     "data": {
      "text/plain": [
       "'Лучшие значения параметров max_depth, min_samples_split, min_samples_leaf'"
      ]
     },
     "metadata": {},
     "output_type": "display_data"
    },
    {
     "data": {
      "text/plain": [
       "[7, 2, 8]"
      ]
     },
     "metadata": {},
     "output_type": "display_data"
    }
   ],
   "source": [
    "best_params = []\n",
    "best_accuracy = 0\n",
    "#создаем циклы, которые будут перебирать значения параметров.\n",
    "#цикл максимальной глубины дерева\n",
    "for max_depth in range(2,10):\n",
    "#цикл минимального колчичества объектов в узле    \n",
    "    for min_samples_split in range(2,6):\n",
    "#цикл минимального количества объектов в листе        \n",
    "        for min_samples_leaf in range(1,10):\n",
    "            # Проверим модель с текущими параметрами\n",
    "            model_classification = DecisionTreeClassifier(random_state = 123,\n",
    "                                                  max_depth = max_depth,\n",
    "                                                  min_samples_split = min_samples_split,\n",
    "                                                  min_samples_leaf = min_samples_leaf)                                                    \n",
    "            # обучение модели на тренировочной выборке\n",
    "            model_classification.fit(features_train, target_train)\n",
    "            # поиск предсказаний модели на валидационной выбоке\n",
    "            predictions = model_classification.predict(features_valid)\n",
    "            # вычисление точности модели методом accuracy_score\n",
    "            accuracy = accuracy_score(target_valid, predictions)\n",
    "            # если текущее значение точности выше предыдущего лучшего значения, \n",
    "            # сохраняем параметры модели и текущую точность\n",
    "            if accuracy > best_accuracy:\n",
    "                best_params = [max_depth, min_samples_split, min_samples_leaf]\n",
    "                best_accuracy = accuracy\n",
    "\n",
    "display('Самая высокая точность:', best_accuracy)\n",
    "display('Лучшие значения параметров max_depth, min_samples_split, min_samples_leaf', best_params)"
   ]
  },
  {
   "cell_type": "markdown",
   "metadata": {},
   "source": [
    "С первой попытки выполнили условия задачи- точность выше 0,75\n",
    "Попробуем улучшить результат на других моделях."
   ]
  },
  {
   "cell_type": "markdown",
   "metadata": {},
   "source": [
    "Теперь попробуем метод случайного леса.\n",
    "Гиперпараметры будут аналогичными, но добавим n_estimators- количество деревьев."
   ]
  },
  {
   "cell_type": "code",
   "execution_count": 10,
   "metadata": {},
   "outputs": [
    {
     "data": {
      "text/plain": [
       "'Самая высокая точность:'"
      ]
     },
     "metadata": {},
     "output_type": "display_data"
    },
    {
     "data": {
      "text/plain": [
       "0.7931570762052877"
      ]
     },
     "metadata": {},
     "output_type": "display_data"
    },
    {
     "data": {
      "text/plain": [
       "'Лучшие значения параметров max_depth, min_samples_split, min_samples_leaf, n_estimators'"
      ]
     },
     "metadata": {},
     "output_type": "display_data"
    },
    {
     "data": {
      "text/plain": [
       "[8, 2, 8, 10]"
      ]
     },
     "metadata": {},
     "output_type": "display_data"
    }
   ],
   "source": [
    "best_params = []\n",
    "best_accuracy = 0\n",
    "#создаем циклы, которые будут перебирать значения параметров.\n",
    "#цикл максимальной глубины дерева\n",
    "for max_depth in range(2,10):\n",
    "#цикл минимального колчичества объектов в узле    \n",
    "    for min_samples_split in range(2,6):\n",
    "#цикл минимального количества объектов в листе        \n",
    "        for min_samples_leaf in range(1,10):\n",
    "#цикл количества деревьев \n",
    "            for n_estimators in (1,10):\n",
    "                # Проверим модель с текущими параметрами\n",
    "                model_classification = RandomForestClassifier(random_state = 123,\n",
    "                                                      max_depth = max_depth,\n",
    "                                                      min_samples_split = min_samples_split,\n",
    "                                                      min_samples_leaf = min_samples_leaf,\n",
    "                                                      n_estimators = n_estimators)                                                    \n",
    "                # обучение модели на тренировочной выборке\n",
    "                model_classification.fit(features_train, target_train)\n",
    "                # поиск предсказаний модели на валидационной выбоке\n",
    "                predictions = model_classification.predict(features_valid)\n",
    "                # вычисление точности модели методом accuracy_score\n",
    "                accuracy = accuracy_score(target_valid, predictions)\n",
    "                # если текущее значение точности выше предыдущего лучшего значения, \n",
    "                # сохраняем параметры модели и текущую точность\n",
    "                if accuracy > best_accuracy:\n",
    "                    best_params = [max_depth, min_samples_split, min_samples_leaf, n_estimators]\n",
    "                    best_accuracy = accuracy\n",
    "\n",
    "display('Самая высокая точность:', best_accuracy)\n",
    "display('Лучшие значения параметров max_depth, min_samples_split, min_samples_leaf, n_estimators', best_params)"
   ]
  },
  {
   "cell_type": "markdown",
   "metadata": {},
   "source": [
    "Точность практически не отличается: 0.79"
   ]
  },
  {
   "cell_type": "markdown",
   "metadata": {},
   "source": [
    "Теперь попробуем логистическую регрессию.\n",
    "Используем параметр max_iter- максимум итераций, от 100 до 2000 с шагом в 100"
   ]
  },
  {
   "cell_type": "code",
   "execution_count": 11,
   "metadata": {},
   "outputs": [
    {
     "data": {
      "text/plain": [
       "'Самая высокая точность:'"
      ]
     },
     "metadata": {},
     "output_type": "display_data"
    },
    {
     "data": {
      "text/plain": [
       "0.7262830482115086"
      ]
     },
     "metadata": {},
     "output_type": "display_data"
    },
    {
     "data": {
      "text/plain": [
       "'Лучшие значения параметров max_iter'"
      ]
     },
     "metadata": {},
     "output_type": "display_data"
    },
    {
     "data": {
      "text/plain": [
       "100"
      ]
     },
     "metadata": {},
     "output_type": "display_data"
    }
   ],
   "source": [
    "# в параметрах best_params и best_accuracy будем хранить наилучшие параметры для модели и наивысшую точность соответственно\n",
    "best_params = []\n",
    "best_accuracy = 0\n",
    "\n",
    "# проходим в циклах по всем выбранным гиперпараметрам\n",
    "for max_iter in range(1, 10):\n",
    "    max_iter = max_iter * 100\n",
    "    # инициация модели с текущими гиперпараметрами\n",
    "    model_classification = LogisticRegression(random_state=123, max_iter = max_iter)\n",
    "    # обучение модели на тренировочной выборке\n",
    "    model_classification.fit(features_train, target_train)\n",
    "    # поиск предсказаний модели на валидационной выбоке\n",
    "    predictions = model_classification.predict(features_valid)\n",
    "    # вычисление точности модели методом accuracy_score\n",
    "    accuracy = accuracy_score(target_valid, predictions)\n",
    "    # если текущее значение точности выше предыдущего лучшего значения, \n",
    "    # сохраняем параметры модели и текущую точность\n",
    "    if accuracy > best_accuracy:\n",
    "        best_params = max_iter\n",
    "        best_accuracy = accuracy\n",
    "display('Самая высокая точность:', best_accuracy)\n",
    "display('Лучшие значения параметров max_iter', best_params)"
   ]
  },
  {
   "cell_type": "markdown",
   "metadata": {},
   "source": [
    "Точность получилась ниже, чем в прошлых методах."
   ]
  },
  {
   "cell_type": "markdown",
   "metadata": {},
   "source": [
    "**Выводы:**\n",
    "    \n",
    "Проверили три модели. У логистической регрессии результат получился сильно ниже, чем у двух других моделей.\n",
    "\n",
    "Для моделей \"случайный лес\" и \"решающее дерево\" использовали три и более гиперпараметров.\n",
    "\n",
    "Модели \"случайный лес\" и \"решающее дерево\" показали наибольшую точность. Поскольку результат у случайного леса чуть выше (0.793 против 0.791 у случайного леса, оставим именно его для проверки на тестовой выборке."
   ]
  },
  {
   "cell_type": "markdown",
   "metadata": {},
   "source": [
    "## Проверьте модель на тестовой выборке"
   ]
  },
  {
   "cell_type": "code",
   "execution_count": 12,
   "metadata": {},
   "outputs": [
    {
     "name": "stdout",
     "output_type": "stream",
     "text": [
      "Точность модели на тестовой выборке: 0.7978227060653188\n"
     ]
    }
   ],
   "source": [
    "model_classification = RandomForestClassifier(random_state=123,\n",
    "                                      max_depth=8,\n",
    "                                      min_samples_split=2,\n",
    "                                      min_samples_leaf=8,\n",
    "                                      n_estimators = 10)\n",
    "#обучим модель на выборке большего размера- обучающей+валидационной\n",
    "model_classification.fit(data_features, data_target)\n",
    "predictions = model_classification.predict(features_test)\n",
    "accuracy = accuracy_score(target_test, predictions)\n",
    "display('Точность модели на тестовой выборке:', accuracy)"
   ]
  },
  {
   "cell_type": "markdown",
   "metadata": {},
   "source": [
    "На тестовой выборке метод случайного леса показывает результат лучше целевого."
   ]
  },
  {
   "cell_type": "markdown",
   "metadata": {},
   "source": [
    "## (бонус) Проверьте модели на адекватность"
   ]
  },
  {
   "cell_type": "markdown",
   "metadata": {},
   "source": [
    "Сделаем проверку с помощью DummyClassifier, используем метод most_frequent."
   ]
  },
  {
   "cell_type": "code",
   "execution_count": 14,
   "metadata": {},
   "outputs": [
    {
     "data": {
      "text/plain": [
       "0.6889580093312597"
      ]
     },
     "metadata": {},
     "output_type": "display_data"
    }
   ],
   "source": [
    "from sklearn.dummy import DummyClassifier\n",
    "dummy_clf = DummyClassifier(strategy=\"most_frequent\")\n",
    "dummy_clf.fit(features_train, target_train)\n",
    "predictions = dummy_clf.predict(features_valid)\n",
    "accuracy = accuracy_score(target_valid, predictions)\n",
    "display(accuracy)"
   ]
  },
  {
   "cell_type": "markdown",
   "metadata": {},
   "source": [
    "Результат получается ниже, чему у любого их трех проверенных методов. Следовательно, все три метода эффективны, хоть и в разной степени."
   ]
  },
  {
   "cell_type": "markdown",
   "metadata": {},
   "source": [
    "Поставьте 'x' в выполненных пунктах. Далее нажмите Shift+Enter."
   ]
  },
  {
   "cell_type": "markdown",
   "metadata": {},
   "source": [
    "## Вывод"
   ]
  },
  {
   "cell_type": "markdown",
   "metadata": {},
   "source": [
    "1) Изучили данные. Дубликатов не обнаружили, аномалий не обнаружили.\n",
    "2) Разбили данные на выборки.\n",
    "3) Проанализировали три модели: Решающее дерево, Случайный лес, Логистическая регрессия. Два из них (решающее дерево и случайный лес), дали результат выше требуемого в 0,75\n",
    "4) Обнаружили на тестовой выборке, что больший результат дает случайный лес.\n",
    "5) Проверили зависимость точности от гиперпараметра n_estimators для модели Случайный лес. Результат соответсвует тому, что мы наблюдали в исследовании ранее."
   ]
  },
  {
   "cell_type": "code",
   "execution_count": null,
   "metadata": {},
   "outputs": [],
   "source": []
  }
 ],
 "metadata": {
  "ExecuteTimeLog": [
   {
    "duration": 1579,
    "start_time": "2022-08-03T12:37:52.232Z"
   },
   {
    "duration": 73,
    "start_time": "2022-08-03T12:37:55.158Z"
   },
   {
    "duration": 130,
    "start_time": "2022-08-03T12:38:16.990Z"
   },
   {
    "duration": 42,
    "start_time": "2022-08-03T12:38:26.268Z"
   },
   {
    "duration": 12,
    "start_time": "2022-08-03T12:39:14.437Z"
   },
   {
    "duration": 12,
    "start_time": "2022-08-03T12:41:44.541Z"
   },
   {
    "duration": 7,
    "start_time": "2022-08-03T12:42:35.530Z"
   },
   {
    "duration": 10,
    "start_time": "2022-08-03T12:51:15.480Z"
   },
   {
    "duration": 4,
    "start_time": "2022-08-03T12:51:21.012Z"
   },
   {
    "duration": 7,
    "start_time": "2022-08-03T12:51:23.133Z"
   },
   {
    "duration": 5,
    "start_time": "2022-08-03T12:53:30.792Z"
   },
   {
    "duration": 38,
    "start_time": "2022-08-03T12:54:51.485Z"
   },
   {
    "duration": 22,
    "start_time": "2022-08-03T12:55:15.639Z"
   },
   {
    "duration": 1655,
    "start_time": "2022-09-29T18:03:15.404Z"
   },
   {
    "duration": 76,
    "start_time": "2022-09-29T18:03:17.061Z"
   },
   {
    "duration": 12,
    "start_time": "2022-09-29T18:03:17.139Z"
   },
   {
    "duration": 12,
    "start_time": "2022-09-29T18:03:17.153Z"
   },
   {
    "duration": 4,
    "start_time": "2022-09-29T18:03:17.167Z"
   },
   {
    "duration": 12,
    "start_time": "2022-09-29T18:03:17.172Z"
   },
   {
    "duration": 5,
    "start_time": "2022-09-29T18:03:17.185Z"
   },
   {
    "duration": 26,
    "start_time": "2022-09-29T18:03:17.191Z"
   },
   {
    "duration": 3808,
    "start_time": "2022-09-29T18:03:17.218Z"
   },
   {
    "duration": 3909,
    "start_time": "2022-09-29T18:03:44.699Z"
   },
   {
    "duration": 3694,
    "start_time": "2022-09-29T18:06:52.336Z"
   },
   {
    "duration": 4046,
    "start_time": "2022-09-29T18:09:11.526Z"
   },
   {
    "duration": 2350,
    "start_time": "2022-09-29T18:16:30.849Z"
   },
   {
    "duration": 2217,
    "start_time": "2022-09-29T18:16:53.520Z"
   },
   {
    "duration": 2051,
    "start_time": "2022-09-29T18:18:35.685Z"
   },
   {
    "duration": 131,
    "start_time": "2022-09-29T18:37:40.317Z"
   },
   {
    "duration": 16,
    "start_time": "2022-09-29T18:38:46.290Z"
   },
   {
    "duration": 19,
    "start_time": "2022-09-29T18:39:16.615Z"
   },
   {
    "duration": 10585,
    "start_time": "2022-09-29T18:39:37.775Z"
   },
   {
    "duration": 71,
    "start_time": "2022-09-29T18:52:17.026Z"
   },
   {
    "duration": 73,
    "start_time": "2022-09-29T18:52:27.777Z"
   },
   {
    "duration": 84,
    "start_time": "2022-09-29T18:52:40.562Z"
   },
   {
    "duration": 4,
    "start_time": "2022-09-29T18:53:27.948Z"
   },
   {
    "duration": 73,
    "start_time": "2022-09-29T18:53:37.863Z"
   },
   {
    "duration": 84,
    "start_time": "2022-09-29T18:53:50.698Z"
   },
   {
    "duration": 73,
    "start_time": "2022-09-29T18:54:10.097Z"
   },
   {
    "duration": 89,
    "start_time": "2022-09-29T18:54:24.839Z"
   },
   {
    "duration": 87,
    "start_time": "2022-09-29T18:54:56.285Z"
   },
   {
    "duration": 78,
    "start_time": "2022-09-29T18:55:52.130Z"
   },
   {
    "duration": 77,
    "start_time": "2022-09-29T18:56:02.017Z"
   },
   {
    "duration": 76,
    "start_time": "2022-09-29T18:56:38.294Z"
   },
   {
    "duration": 81,
    "start_time": "2022-09-29T18:57:12.425Z"
   },
   {
    "duration": 1481,
    "start_time": "2022-09-29T18:57:26.916Z"
   },
   {
    "duration": 43,
    "start_time": "2022-09-29T18:57:28.399Z"
   },
   {
    "duration": 12,
    "start_time": "2022-09-29T18:57:28.444Z"
   },
   {
    "duration": 10,
    "start_time": "2022-09-29T18:57:28.458Z"
   },
   {
    "duration": 6,
    "start_time": "2022-09-29T18:57:28.469Z"
   },
   {
    "duration": 10,
    "start_time": "2022-09-29T18:57:28.476Z"
   },
   {
    "duration": 9,
    "start_time": "2022-09-29T18:57:28.487Z"
   },
   {
    "duration": 25,
    "start_time": "2022-09-29T18:57:28.498Z"
   },
   {
    "duration": 1744,
    "start_time": "2022-09-29T18:57:28.525Z"
   },
   {
    "duration": 9908,
    "start_time": "2022-09-29T18:57:30.271Z"
   },
   {
    "duration": 66,
    "start_time": "2022-09-29T18:57:40.181Z"
   },
   {
    "duration": 23768,
    "start_time": "2022-09-29T18:59:47.212Z"
   },
   {
    "duration": 46,
    "start_time": "2022-09-29T19:01:55.381Z"
   },
   {
    "duration": 46,
    "start_time": "2022-09-29T19:02:04.012Z"
   },
   {
    "duration": 324,
    "start_time": "2022-09-29T19:03:21.519Z"
   },
   {
    "duration": 319,
    "start_time": "2022-09-29T19:03:55.396Z"
   },
   {
    "duration": 126,
    "start_time": "2022-09-29T19:13:10.128Z"
   },
   {
    "duration": 18,
    "start_time": "2022-09-29T19:13:25.413Z"
   },
   {
    "duration": 14,
    "start_time": "2022-09-29T19:14:02.448Z"
   },
   {
    "duration": 43,
    "start_time": "2022-09-29T19:17:05.061Z"
   },
   {
    "duration": 19,
    "start_time": "2022-09-29T19:25:09.066Z"
   },
   {
    "duration": 57,
    "start_time": "2022-09-29T19:25:26.984Z"
   },
   {
    "duration": 29,
    "start_time": "2022-09-29T19:28:05.705Z"
   },
   {
    "duration": 27,
    "start_time": "2022-09-29T19:29:40.811Z"
   },
   {
    "duration": 6,
    "start_time": "2022-09-29T19:33:39.277Z"
   },
   {
    "duration": 15,
    "start_time": "2022-09-29T19:33:56.745Z"
   },
   {
    "duration": 9,
    "start_time": "2022-09-29T19:34:05.539Z"
   },
   {
    "duration": 23,
    "start_time": "2022-09-29T19:37:30.629Z"
   },
   {
    "duration": 601,
    "start_time": "2022-09-29T19:37:56.440Z"
   },
   {
    "duration": 1016,
    "start_time": "2022-09-29T19:42:28.223Z"
   },
   {
    "duration": 1263,
    "start_time": "2022-09-29T19:47:49.487Z"
   },
   {
    "duration": 45,
    "start_time": "2022-09-29T19:47:50.752Z"
   },
   {
    "duration": 18,
    "start_time": "2022-09-29T19:47:50.799Z"
   },
   {
    "duration": 23,
    "start_time": "2022-09-29T19:47:50.819Z"
   },
   {
    "duration": 8,
    "start_time": "2022-09-29T19:47:50.845Z"
   },
   {
    "duration": 10,
    "start_time": "2022-09-29T19:47:50.855Z"
   },
   {
    "duration": 8,
    "start_time": "2022-09-29T19:47:50.867Z"
   },
   {
    "duration": 33,
    "start_time": "2022-09-29T19:47:50.876Z"
   },
   {
    "duration": 2021,
    "start_time": "2022-09-29T19:47:50.910Z"
   },
   {
    "duration": 10871,
    "start_time": "2022-09-29T19:47:52.935Z"
   },
   {
    "duration": 347,
    "start_time": "2022-09-29T19:48:03.808Z"
   },
   {
    "duration": 13,
    "start_time": "2022-09-29T19:48:04.157Z"
   },
   {
    "duration": 72,
    "start_time": "2022-09-29T19:48:04.171Z"
   },
   {
    "duration": 988,
    "start_time": "2022-09-29T19:48:04.246Z"
   },
   {
    "duration": 1383,
    "start_time": "2022-09-29T20:12:43.939Z"
   },
   {
    "duration": 45,
    "start_time": "2022-09-29T20:12:45.324Z"
   },
   {
    "duration": 14,
    "start_time": "2022-09-29T20:12:45.371Z"
   },
   {
    "duration": 40,
    "start_time": "2022-09-29T20:12:45.388Z"
   },
   {
    "duration": 4,
    "start_time": "2022-09-29T20:12:45.430Z"
   },
   {
    "duration": 7,
    "start_time": "2022-09-29T20:12:45.436Z"
   },
   {
    "duration": 6,
    "start_time": "2022-09-29T20:12:45.445Z"
   },
   {
    "duration": 35,
    "start_time": "2022-09-29T20:12:45.459Z"
   },
   {
    "duration": 1822,
    "start_time": "2022-09-29T20:12:45.495Z"
   },
   {
    "duration": 10236,
    "start_time": "2022-09-29T20:12:47.320Z"
   },
   {
    "duration": 607,
    "start_time": "2022-09-29T20:12:57.591Z"
   },
   {
    "duration": 17,
    "start_time": "2022-09-29T20:12:58.200Z"
   },
   {
    "duration": 104,
    "start_time": "2022-09-29T20:12:58.218Z"
   },
   {
    "duration": 1975,
    "start_time": "2022-09-29T20:12:58.324Z"
   },
   {
    "duration": 55,
    "start_time": "2022-09-30T06:00:54.896Z"
   },
   {
    "duration": 1228,
    "start_time": "2022-09-30T06:01:34.865Z"
   },
   {
    "duration": 78,
    "start_time": "2022-09-30T06:01:40.509Z"
   },
   {
    "duration": 1186,
    "start_time": "2022-09-30T06:02:03.494Z"
   },
   {
    "duration": 133,
    "start_time": "2022-09-30T06:02:04.682Z"
   },
   {
    "duration": 12,
    "start_time": "2022-09-30T06:02:04.816Z"
   },
   {
    "duration": 10,
    "start_time": "2022-09-30T06:02:04.829Z"
   },
   {
    "duration": 5,
    "start_time": "2022-09-30T06:02:04.841Z"
   },
   {
    "duration": 26,
    "start_time": "2022-09-30T06:02:04.847Z"
   },
   {
    "duration": 14,
    "start_time": "2022-09-30T06:02:04.875Z"
   },
   {
    "duration": 31,
    "start_time": "2022-09-30T06:02:04.890Z"
   },
   {
    "duration": 1854,
    "start_time": "2022-09-30T06:02:04.922Z"
   },
   {
    "duration": 10422,
    "start_time": "2022-09-30T06:02:06.778Z"
   },
   {
    "duration": 369,
    "start_time": "2022-09-30T06:02:17.202Z"
   },
   {
    "duration": 48,
    "start_time": "2022-09-30T06:02:17.573Z"
   },
   {
    "duration": 907,
    "start_time": "2022-09-30T06:02:17.623Z"
   },
   {
    "duration": 6,
    "start_time": "2022-09-30T06:09:04.598Z"
   }
  ],
  "kernelspec": {
   "display_name": "Python 3 (ipykernel)",
   "language": "python",
   "name": "python3"
  },
  "language_info": {
   "codemirror_mode": {
    "name": "ipython",
    "version": 3
   },
   "file_extension": ".py",
   "mimetype": "text/x-python",
   "name": "python",
   "nbconvert_exporter": "python",
   "pygments_lexer": "ipython3",
   "version": "3.9.15"
  },
  "toc": {
   "base_numbering": 1,
   "nav_menu": {},
   "number_sections": true,
   "sideBar": true,
   "skip_h1_title": true,
   "title_cell": "Table of Contents",
   "title_sidebar": "Contents",
   "toc_cell": false,
   "toc_position": {},
   "toc_section_display": true,
   "toc_window_display": false
  }
 },
 "nbformat": 4,
 "nbformat_minor": 2
}
