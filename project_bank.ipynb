{
 "cells": [
  {
   "cell_type": "markdown",
   "metadata": {},
   "source": [
    "## Подготовка данных"
   ]
  },
  {
   "cell_type": "markdown",
   "metadata": {},
   "source": [
    "Импортируем библиотеки"
   ]
  },
  {
   "cell_type": "code",
   "execution_count": 1,
   "metadata": {},
   "outputs": [],
   "source": [
    "import pandas as pd\n",
    "import numpy as np\n",
    "\n",
    "from sklearn.preprocessing import StandardScaler\n",
    "from sklearn.model_selection import train_test_split\n",
    "from sklearn.tree import DecisionTreeClassifier\n",
    "from sklearn.linear_model import LogisticRegression\n",
    "from sklearn.ensemble import RandomForestClassifier\n",
    "from sklearn.metrics import accuracy_score, f1_score, roc_auc_score, r2_score, confusion_matrix, recall_score\n",
    "from sklearn.metrics import roc_curve, precision_score\n",
    "from sklearn.utils import shuffle\n",
    "\n",
    "pd.options.mode.chained_assignment = None"
   ]
  },
  {
   "cell_type": "markdown",
   "metadata": {},
   "source": [
    "Загрузим данные, и посмотрим содержимое"
   ]
  },
  {
   "cell_type": "code",
   "execution_count": 2,
   "metadata": {},
   "outputs": [
    {
     "data": {
      "text/html": [
       "<div>\n",
       "<style scoped>\n",
       "    .dataframe tbody tr th:only-of-type {\n",
       "        vertical-align: middle;\n",
       "    }\n",
       "\n",
       "    .dataframe tbody tr th {\n",
       "        vertical-align: top;\n",
       "    }\n",
       "\n",
       "    .dataframe thead th {\n",
       "        text-align: right;\n",
       "    }\n",
       "</style>\n",
       "<table border=\"1\" class=\"dataframe\">\n",
       "  <thead>\n",
       "    <tr style=\"text-align: right;\">\n",
       "      <th></th>\n",
       "      <th>RowNumber</th>\n",
       "      <th>CustomerId</th>\n",
       "      <th>Surname</th>\n",
       "      <th>CreditScore</th>\n",
       "      <th>Geography</th>\n",
       "      <th>Gender</th>\n",
       "      <th>Age</th>\n",
       "      <th>Tenure</th>\n",
       "      <th>Balance</th>\n",
       "      <th>NumOfProducts</th>\n",
       "      <th>HasCrCard</th>\n",
       "      <th>IsActiveMember</th>\n",
       "      <th>EstimatedSalary</th>\n",
       "      <th>Exited</th>\n",
       "    </tr>\n",
       "  </thead>\n",
       "  <tbody>\n",
       "    <tr>\n",
       "      <th>0</th>\n",
       "      <td>1</td>\n",
       "      <td>15634602</td>\n",
       "      <td>Hargrave</td>\n",
       "      <td>619</td>\n",
       "      <td>France</td>\n",
       "      <td>Female</td>\n",
       "      <td>42</td>\n",
       "      <td>2.0</td>\n",
       "      <td>0.00</td>\n",
       "      <td>1</td>\n",
       "      <td>1</td>\n",
       "      <td>1</td>\n",
       "      <td>101348.88</td>\n",
       "      <td>1</td>\n",
       "    </tr>\n",
       "    <tr>\n",
       "      <th>1</th>\n",
       "      <td>2</td>\n",
       "      <td>15647311</td>\n",
       "      <td>Hill</td>\n",
       "      <td>608</td>\n",
       "      <td>Spain</td>\n",
       "      <td>Female</td>\n",
       "      <td>41</td>\n",
       "      <td>1.0</td>\n",
       "      <td>83807.86</td>\n",
       "      <td>1</td>\n",
       "      <td>0</td>\n",
       "      <td>1</td>\n",
       "      <td>112542.58</td>\n",
       "      <td>0</td>\n",
       "    </tr>\n",
       "    <tr>\n",
       "      <th>2</th>\n",
       "      <td>3</td>\n",
       "      <td>15619304</td>\n",
       "      <td>Onio</td>\n",
       "      <td>502</td>\n",
       "      <td>France</td>\n",
       "      <td>Female</td>\n",
       "      <td>42</td>\n",
       "      <td>8.0</td>\n",
       "      <td>159660.80</td>\n",
       "      <td>3</td>\n",
       "      <td>1</td>\n",
       "      <td>0</td>\n",
       "      <td>113931.57</td>\n",
       "      <td>1</td>\n",
       "    </tr>\n",
       "    <tr>\n",
       "      <th>3</th>\n",
       "      <td>4</td>\n",
       "      <td>15701354</td>\n",
       "      <td>Boni</td>\n",
       "      <td>699</td>\n",
       "      <td>France</td>\n",
       "      <td>Female</td>\n",
       "      <td>39</td>\n",
       "      <td>1.0</td>\n",
       "      <td>0.00</td>\n",
       "      <td>2</td>\n",
       "      <td>0</td>\n",
       "      <td>0</td>\n",
       "      <td>93826.63</td>\n",
       "      <td>0</td>\n",
       "    </tr>\n",
       "    <tr>\n",
       "      <th>4</th>\n",
       "      <td>5</td>\n",
       "      <td>15737888</td>\n",
       "      <td>Mitchell</td>\n",
       "      <td>850</td>\n",
       "      <td>Spain</td>\n",
       "      <td>Female</td>\n",
       "      <td>43</td>\n",
       "      <td>2.0</td>\n",
       "      <td>125510.82</td>\n",
       "      <td>1</td>\n",
       "      <td>1</td>\n",
       "      <td>1</td>\n",
       "      <td>79084.10</td>\n",
       "      <td>0</td>\n",
       "    </tr>\n",
       "    <tr>\n",
       "      <th>5</th>\n",
       "      <td>6</td>\n",
       "      <td>15574012</td>\n",
       "      <td>Chu</td>\n",
       "      <td>645</td>\n",
       "      <td>Spain</td>\n",
       "      <td>Male</td>\n",
       "      <td>44</td>\n",
       "      <td>8.0</td>\n",
       "      <td>113755.78</td>\n",
       "      <td>2</td>\n",
       "      <td>1</td>\n",
       "      <td>0</td>\n",
       "      <td>149756.71</td>\n",
       "      <td>1</td>\n",
       "    </tr>\n",
       "    <tr>\n",
       "      <th>6</th>\n",
       "      <td>7</td>\n",
       "      <td>15592531</td>\n",
       "      <td>Bartlett</td>\n",
       "      <td>822</td>\n",
       "      <td>France</td>\n",
       "      <td>Male</td>\n",
       "      <td>50</td>\n",
       "      <td>7.0</td>\n",
       "      <td>0.00</td>\n",
       "      <td>2</td>\n",
       "      <td>1</td>\n",
       "      <td>1</td>\n",
       "      <td>10062.80</td>\n",
       "      <td>0</td>\n",
       "    </tr>\n",
       "    <tr>\n",
       "      <th>7</th>\n",
       "      <td>8</td>\n",
       "      <td>15656148</td>\n",
       "      <td>Obinna</td>\n",
       "      <td>376</td>\n",
       "      <td>Germany</td>\n",
       "      <td>Female</td>\n",
       "      <td>29</td>\n",
       "      <td>4.0</td>\n",
       "      <td>115046.74</td>\n",
       "      <td>4</td>\n",
       "      <td>1</td>\n",
       "      <td>0</td>\n",
       "      <td>119346.88</td>\n",
       "      <td>1</td>\n",
       "    </tr>\n",
       "    <tr>\n",
       "      <th>8</th>\n",
       "      <td>9</td>\n",
       "      <td>15792365</td>\n",
       "      <td>He</td>\n",
       "      <td>501</td>\n",
       "      <td>France</td>\n",
       "      <td>Male</td>\n",
       "      <td>44</td>\n",
       "      <td>4.0</td>\n",
       "      <td>142051.07</td>\n",
       "      <td>2</td>\n",
       "      <td>0</td>\n",
       "      <td>1</td>\n",
       "      <td>74940.50</td>\n",
       "      <td>0</td>\n",
       "    </tr>\n",
       "    <tr>\n",
       "      <th>9</th>\n",
       "      <td>10</td>\n",
       "      <td>15592389</td>\n",
       "      <td>H?</td>\n",
       "      <td>684</td>\n",
       "      <td>France</td>\n",
       "      <td>Male</td>\n",
       "      <td>27</td>\n",
       "      <td>2.0</td>\n",
       "      <td>134603.88</td>\n",
       "      <td>1</td>\n",
       "      <td>1</td>\n",
       "      <td>1</td>\n",
       "      <td>71725.73</td>\n",
       "      <td>0</td>\n",
       "    </tr>\n",
       "  </tbody>\n",
       "</table>\n",
       "</div>"
      ],
      "text/plain": [
       "   RowNumber  CustomerId   Surname  CreditScore Geography  Gender  Age  \\\n",
       "0          1    15634602  Hargrave          619    France  Female   42   \n",
       "1          2    15647311      Hill          608     Spain  Female   41   \n",
       "2          3    15619304      Onio          502    France  Female   42   \n",
       "3          4    15701354      Boni          699    France  Female   39   \n",
       "4          5    15737888  Mitchell          850     Spain  Female   43   \n",
       "5          6    15574012       Chu          645     Spain    Male   44   \n",
       "6          7    15592531  Bartlett          822    France    Male   50   \n",
       "7          8    15656148    Obinna          376   Germany  Female   29   \n",
       "8          9    15792365        He          501    France    Male   44   \n",
       "9         10    15592389        H?          684    France    Male   27   \n",
       "\n",
       "   Tenure    Balance  NumOfProducts  HasCrCard  IsActiveMember  \\\n",
       "0     2.0       0.00              1          1               1   \n",
       "1     1.0   83807.86              1          0               1   \n",
       "2     8.0  159660.80              3          1               0   \n",
       "3     1.0       0.00              2          0               0   \n",
       "4     2.0  125510.82              1          1               1   \n",
       "5     8.0  113755.78              2          1               0   \n",
       "6     7.0       0.00              2          1               1   \n",
       "7     4.0  115046.74              4          1               0   \n",
       "8     4.0  142051.07              2          0               1   \n",
       "9     2.0  134603.88              1          1               1   \n",
       "\n",
       "   EstimatedSalary  Exited  \n",
       "0        101348.88       1  \n",
       "1        112542.58       0  \n",
       "2        113931.57       1  \n",
       "3         93826.63       0  \n",
       "4         79084.10       0  \n",
       "5        149756.71       1  \n",
       "6         10062.80       0  \n",
       "7        119346.88       1  \n",
       "8         74940.50       0  \n",
       "9         71725.73       0  "
      ]
     },
     "metadata": {},
     "output_type": "display_data"
    }
   ],
   "source": [
    "data = pd.read_csv('/datasets/Churn.csv')\n",
    "display(data.head(10))"
   ]
  },
  {
   "cell_type": "markdown",
   "metadata": {},
   "source": [
    "Посмотрим инфо"
   ]
  },
  {
   "cell_type": "code",
   "execution_count": 3,
   "metadata": {},
   "outputs": [
    {
     "name": "stdout",
     "output_type": "stream",
     "text": [
      "<class 'pandas.core.frame.DataFrame'>\n",
      "RangeIndex: 10000 entries, 0 to 9999\n",
      "Data columns (total 14 columns):\n",
      " #   Column           Non-Null Count  Dtype  \n",
      "---  ------           --------------  -----  \n",
      " 0   RowNumber        10000 non-null  int64  \n",
      " 1   CustomerId       10000 non-null  int64  \n",
      " 2   Surname          10000 non-null  object \n",
      " 3   CreditScore      10000 non-null  int64  \n",
      " 4   Geography        10000 non-null  object \n",
      " 5   Gender           10000 non-null  object \n",
      " 6   Age              10000 non-null  int64  \n",
      " 7   Tenure           9091 non-null   float64\n",
      " 8   Balance          10000 non-null  float64\n",
      " 9   NumOfProducts    10000 non-null  int64  \n",
      " 10  HasCrCard        10000 non-null  int64  \n",
      " 11  IsActiveMember   10000 non-null  int64  \n",
      " 12  EstimatedSalary  10000 non-null  float64\n",
      " 13  Exited           10000 non-null  int64  \n",
      "dtypes: float64(3), int64(8), object(3)\n",
      "memory usage: 1.1+ MB\n"
     ]
    }
   ],
   "source": [
    "data.info()"
   ]
  },
  {
   "cell_type": "markdown",
   "metadata": {},
   "source": [
    "Есть пропуски в столбце Tenure- сколько лет клиент пользуется услугами банка. Посмотрим, как выглядят строки с пропуском в этом столбце"
   ]
  },
  {
   "cell_type": "code",
   "execution_count": 4,
   "metadata": {},
   "outputs": [
    {
     "data": {
      "text/html": [
       "<div>\n",
       "<style scoped>\n",
       "    .dataframe tbody tr th:only-of-type {\n",
       "        vertical-align: middle;\n",
       "    }\n",
       "\n",
       "    .dataframe tbody tr th {\n",
       "        vertical-align: top;\n",
       "    }\n",
       "\n",
       "    .dataframe thead th {\n",
       "        text-align: right;\n",
       "    }\n",
       "</style>\n",
       "<table border=\"1\" class=\"dataframe\">\n",
       "  <thead>\n",
       "    <tr style=\"text-align: right;\">\n",
       "      <th></th>\n",
       "      <th>RowNumber</th>\n",
       "      <th>CustomerId</th>\n",
       "      <th>Surname</th>\n",
       "      <th>CreditScore</th>\n",
       "      <th>Geography</th>\n",
       "      <th>Gender</th>\n",
       "      <th>Age</th>\n",
       "      <th>Tenure</th>\n",
       "      <th>Balance</th>\n",
       "      <th>NumOfProducts</th>\n",
       "      <th>HasCrCard</th>\n",
       "      <th>IsActiveMember</th>\n",
       "      <th>EstimatedSalary</th>\n",
       "      <th>Exited</th>\n",
       "    </tr>\n",
       "  </thead>\n",
       "  <tbody>\n",
       "    <tr>\n",
       "      <th>30</th>\n",
       "      <td>31</td>\n",
       "      <td>15589475</td>\n",
       "      <td>Azikiwe</td>\n",
       "      <td>591</td>\n",
       "      <td>Spain</td>\n",
       "      <td>Female</td>\n",
       "      <td>39</td>\n",
       "      <td>NaN</td>\n",
       "      <td>0.00</td>\n",
       "      <td>3</td>\n",
       "      <td>1</td>\n",
       "      <td>0</td>\n",
       "      <td>140469.38</td>\n",
       "      <td>1</td>\n",
       "    </tr>\n",
       "    <tr>\n",
       "      <th>48</th>\n",
       "      <td>49</td>\n",
       "      <td>15766205</td>\n",
       "      <td>Yin</td>\n",
       "      <td>550</td>\n",
       "      <td>Germany</td>\n",
       "      <td>Male</td>\n",
       "      <td>38</td>\n",
       "      <td>NaN</td>\n",
       "      <td>103391.38</td>\n",
       "      <td>1</td>\n",
       "      <td>0</td>\n",
       "      <td>1</td>\n",
       "      <td>90878.13</td>\n",
       "      <td>0</td>\n",
       "    </tr>\n",
       "    <tr>\n",
       "      <th>51</th>\n",
       "      <td>52</td>\n",
       "      <td>15768193</td>\n",
       "      <td>Trevisani</td>\n",
       "      <td>585</td>\n",
       "      <td>Germany</td>\n",
       "      <td>Male</td>\n",
       "      <td>36</td>\n",
       "      <td>NaN</td>\n",
       "      <td>146050.97</td>\n",
       "      <td>2</td>\n",
       "      <td>0</td>\n",
       "      <td>0</td>\n",
       "      <td>86424.57</td>\n",
       "      <td>0</td>\n",
       "    </tr>\n",
       "    <tr>\n",
       "      <th>53</th>\n",
       "      <td>54</td>\n",
       "      <td>15702298</td>\n",
       "      <td>Parkhill</td>\n",
       "      <td>655</td>\n",
       "      <td>Germany</td>\n",
       "      <td>Male</td>\n",
       "      <td>41</td>\n",
       "      <td>NaN</td>\n",
       "      <td>125561.97</td>\n",
       "      <td>1</td>\n",
       "      <td>0</td>\n",
       "      <td>0</td>\n",
       "      <td>164040.94</td>\n",
       "      <td>1</td>\n",
       "    </tr>\n",
       "    <tr>\n",
       "      <th>60</th>\n",
       "      <td>61</td>\n",
       "      <td>15651280</td>\n",
       "      <td>Hunter</td>\n",
       "      <td>742</td>\n",
       "      <td>Germany</td>\n",
       "      <td>Male</td>\n",
       "      <td>35</td>\n",
       "      <td>NaN</td>\n",
       "      <td>136857.00</td>\n",
       "      <td>1</td>\n",
       "      <td>0</td>\n",
       "      <td>0</td>\n",
       "      <td>84509.57</td>\n",
       "      <td>0</td>\n",
       "    </tr>\n",
       "    <tr>\n",
       "      <th>...</th>\n",
       "      <td>...</td>\n",
       "      <td>...</td>\n",
       "      <td>...</td>\n",
       "      <td>...</td>\n",
       "      <td>...</td>\n",
       "      <td>...</td>\n",
       "      <td>...</td>\n",
       "      <td>...</td>\n",
       "      <td>...</td>\n",
       "      <td>...</td>\n",
       "      <td>...</td>\n",
       "      <td>...</td>\n",
       "      <td>...</td>\n",
       "      <td>...</td>\n",
       "    </tr>\n",
       "    <tr>\n",
       "      <th>9944</th>\n",
       "      <td>9945</td>\n",
       "      <td>15703923</td>\n",
       "      <td>Cameron</td>\n",
       "      <td>744</td>\n",
       "      <td>Germany</td>\n",
       "      <td>Male</td>\n",
       "      <td>41</td>\n",
       "      <td>NaN</td>\n",
       "      <td>190409.34</td>\n",
       "      <td>2</td>\n",
       "      <td>1</td>\n",
       "      <td>1</td>\n",
       "      <td>138361.48</td>\n",
       "      <td>0</td>\n",
       "    </tr>\n",
       "    <tr>\n",
       "      <th>9956</th>\n",
       "      <td>9957</td>\n",
       "      <td>15707861</td>\n",
       "      <td>Nucci</td>\n",
       "      <td>520</td>\n",
       "      <td>France</td>\n",
       "      <td>Female</td>\n",
       "      <td>46</td>\n",
       "      <td>NaN</td>\n",
       "      <td>85216.61</td>\n",
       "      <td>1</td>\n",
       "      <td>1</td>\n",
       "      <td>0</td>\n",
       "      <td>117369.52</td>\n",
       "      <td>1</td>\n",
       "    </tr>\n",
       "    <tr>\n",
       "      <th>9964</th>\n",
       "      <td>9965</td>\n",
       "      <td>15642785</td>\n",
       "      <td>Douglas</td>\n",
       "      <td>479</td>\n",
       "      <td>France</td>\n",
       "      <td>Male</td>\n",
       "      <td>34</td>\n",
       "      <td>NaN</td>\n",
       "      <td>117593.48</td>\n",
       "      <td>2</td>\n",
       "      <td>0</td>\n",
       "      <td>0</td>\n",
       "      <td>113308.29</td>\n",
       "      <td>0</td>\n",
       "    </tr>\n",
       "    <tr>\n",
       "      <th>9985</th>\n",
       "      <td>9986</td>\n",
       "      <td>15586914</td>\n",
       "      <td>Nepean</td>\n",
       "      <td>659</td>\n",
       "      <td>France</td>\n",
       "      <td>Male</td>\n",
       "      <td>36</td>\n",
       "      <td>NaN</td>\n",
       "      <td>123841.49</td>\n",
       "      <td>2</td>\n",
       "      <td>1</td>\n",
       "      <td>0</td>\n",
       "      <td>96833.00</td>\n",
       "      <td>0</td>\n",
       "    </tr>\n",
       "    <tr>\n",
       "      <th>9999</th>\n",
       "      <td>10000</td>\n",
       "      <td>15628319</td>\n",
       "      <td>Walker</td>\n",
       "      <td>792</td>\n",
       "      <td>France</td>\n",
       "      <td>Female</td>\n",
       "      <td>28</td>\n",
       "      <td>NaN</td>\n",
       "      <td>130142.79</td>\n",
       "      <td>1</td>\n",
       "      <td>1</td>\n",
       "      <td>0</td>\n",
       "      <td>38190.78</td>\n",
       "      <td>0</td>\n",
       "    </tr>\n",
       "  </tbody>\n",
       "</table>\n",
       "<p>909 rows × 14 columns</p>\n",
       "</div>"
      ],
      "text/plain": [
       "      RowNumber  CustomerId    Surname  CreditScore Geography  Gender  Age  \\\n",
       "30           31    15589475    Azikiwe          591     Spain  Female   39   \n",
       "48           49    15766205        Yin          550   Germany    Male   38   \n",
       "51           52    15768193  Trevisani          585   Germany    Male   36   \n",
       "53           54    15702298   Parkhill          655   Germany    Male   41   \n",
       "60           61    15651280     Hunter          742   Germany    Male   35   \n",
       "...         ...         ...        ...          ...       ...     ...  ...   \n",
       "9944       9945    15703923    Cameron          744   Germany    Male   41   \n",
       "9956       9957    15707861      Nucci          520    France  Female   46   \n",
       "9964       9965    15642785    Douglas          479    France    Male   34   \n",
       "9985       9986    15586914     Nepean          659    France    Male   36   \n",
       "9999      10000    15628319     Walker          792    France  Female   28   \n",
       "\n",
       "      Tenure    Balance  NumOfProducts  HasCrCard  IsActiveMember  \\\n",
       "30       NaN       0.00              3          1               0   \n",
       "48       NaN  103391.38              1          0               1   \n",
       "51       NaN  146050.97              2          0               0   \n",
       "53       NaN  125561.97              1          0               0   \n",
       "60       NaN  136857.00              1          0               0   \n",
       "...      ...        ...            ...        ...             ...   \n",
       "9944     NaN  190409.34              2          1               1   \n",
       "9956     NaN   85216.61              1          1               0   \n",
       "9964     NaN  117593.48              2          0               0   \n",
       "9985     NaN  123841.49              2          1               0   \n",
       "9999     NaN  130142.79              1          1               0   \n",
       "\n",
       "      EstimatedSalary  Exited  \n",
       "30          140469.38       1  \n",
       "48           90878.13       0  \n",
       "51           86424.57       0  \n",
       "53          164040.94       1  \n",
       "60           84509.57       0  \n",
       "...               ...     ...  \n",
       "9944        138361.48       0  \n",
       "9956        117369.52       1  \n",
       "9964        113308.29       0  \n",
       "9985         96833.00       0  \n",
       "9999         38190.78       0  \n",
       "\n",
       "[909 rows x 14 columns]"
      ]
     },
     "metadata": {},
     "output_type": "display_data"
    }
   ],
   "source": [
    "display(data[data['Tenure'].isna()])"
   ]
  },
  {
   "cell_type": "code",
   "execution_count": 5,
   "metadata": {},
   "outputs": [
    {
     "data": {
      "text/plain": [
       "array([ 2.,  1.,  8.,  7.,  4.,  6.,  3., 10.,  5.,  9.,  0., nan])"
      ]
     },
     "metadata": {},
     "output_type": "display_data"
    }
   ],
   "source": [
    "display(data['Tenure'].unique())"
   ]
  },
  {
   "cell_type": "markdown",
   "metadata": {},
   "source": [
    "Между клиентами с пропусками в этом столбце нет ничего общего, у остальных диапазон значений- от 0 до 10 лет.\n",
    "\n",
    "Удалять строки с пропусками нежелательно- это примерно 10% от датафрейма, и остальные данные по этим клиентам в порядке. Заменим пропуски медианным значением."
   ]
  },
  {
   "cell_type": "code",
   "execution_count": 6,
   "metadata": {},
   "outputs": [],
   "source": [
    "data['Tenure'] = data['Tenure'].fillna(data['Tenure'].median())"
   ]
  },
  {
   "cell_type": "markdown",
   "metadata": {},
   "source": [
    "Проверим результат"
   ]
  },
  {
   "cell_type": "code",
   "execution_count": 7,
   "metadata": {},
   "outputs": [
    {
     "name": "stdout",
     "output_type": "stream",
     "text": [
      "<class 'pandas.core.frame.DataFrame'>\n",
      "RangeIndex: 10000 entries, 0 to 9999\n",
      "Data columns (total 14 columns):\n",
      " #   Column           Non-Null Count  Dtype  \n",
      "---  ------           --------------  -----  \n",
      " 0   RowNumber        10000 non-null  int64  \n",
      " 1   CustomerId       10000 non-null  int64  \n",
      " 2   Surname          10000 non-null  object \n",
      " 3   CreditScore      10000 non-null  int64  \n",
      " 4   Geography        10000 non-null  object \n",
      " 5   Gender           10000 non-null  object \n",
      " 6   Age              10000 non-null  int64  \n",
      " 7   Tenure           10000 non-null  float64\n",
      " 8   Balance          10000 non-null  float64\n",
      " 9   NumOfProducts    10000 non-null  int64  \n",
      " 10  HasCrCard        10000 non-null  int64  \n",
      " 11  IsActiveMember   10000 non-null  int64  \n",
      " 12  EstimatedSalary  10000 non-null  float64\n",
      " 13  Exited           10000 non-null  int64  \n",
      "dtypes: float64(3), int64(8), object(3)\n",
      "memory usage: 1.1+ MB\n"
     ]
    }
   ],
   "source": [
    "data.info()"
   ]
  },
  {
   "cell_type": "markdown",
   "metadata": {},
   "source": [
    "Пропусков больше нет. Для анализа, нам не нужны столбцы с индексом строки, id клиента  и его фамилией- эти данные, очевидно, не влияют на уход клиента из банка. Удалим их."
   ]
  },
  {
   "cell_type": "code",
   "execution_count": 8,
   "metadata": {},
   "outputs": [
    {
     "data": {
      "text/html": [
       "<div>\n",
       "<style scoped>\n",
       "    .dataframe tbody tr th:only-of-type {\n",
       "        vertical-align: middle;\n",
       "    }\n",
       "\n",
       "    .dataframe tbody tr th {\n",
       "        vertical-align: top;\n",
       "    }\n",
       "\n",
       "    .dataframe thead th {\n",
       "        text-align: right;\n",
       "    }\n",
       "</style>\n",
       "<table border=\"1\" class=\"dataframe\">\n",
       "  <thead>\n",
       "    <tr style=\"text-align: right;\">\n",
       "      <th></th>\n",
       "      <th>CreditScore</th>\n",
       "      <th>Geography</th>\n",
       "      <th>Gender</th>\n",
       "      <th>Age</th>\n",
       "      <th>Tenure</th>\n",
       "      <th>Balance</th>\n",
       "      <th>NumOfProducts</th>\n",
       "      <th>HasCrCard</th>\n",
       "      <th>IsActiveMember</th>\n",
       "      <th>EstimatedSalary</th>\n",
       "      <th>Exited</th>\n",
       "    </tr>\n",
       "  </thead>\n",
       "  <tbody>\n",
       "    <tr>\n",
       "      <th>0</th>\n",
       "      <td>619</td>\n",
       "      <td>France</td>\n",
       "      <td>Female</td>\n",
       "      <td>42</td>\n",
       "      <td>2.0</td>\n",
       "      <td>0.00</td>\n",
       "      <td>1</td>\n",
       "      <td>1</td>\n",
       "      <td>1</td>\n",
       "      <td>101348.88</td>\n",
       "      <td>1</td>\n",
       "    </tr>\n",
       "    <tr>\n",
       "      <th>1</th>\n",
       "      <td>608</td>\n",
       "      <td>Spain</td>\n",
       "      <td>Female</td>\n",
       "      <td>41</td>\n",
       "      <td>1.0</td>\n",
       "      <td>83807.86</td>\n",
       "      <td>1</td>\n",
       "      <td>0</td>\n",
       "      <td>1</td>\n",
       "      <td>112542.58</td>\n",
       "      <td>0</td>\n",
       "    </tr>\n",
       "    <tr>\n",
       "      <th>2</th>\n",
       "      <td>502</td>\n",
       "      <td>France</td>\n",
       "      <td>Female</td>\n",
       "      <td>42</td>\n",
       "      <td>8.0</td>\n",
       "      <td>159660.80</td>\n",
       "      <td>3</td>\n",
       "      <td>1</td>\n",
       "      <td>0</td>\n",
       "      <td>113931.57</td>\n",
       "      <td>1</td>\n",
       "    </tr>\n",
       "    <tr>\n",
       "      <th>3</th>\n",
       "      <td>699</td>\n",
       "      <td>France</td>\n",
       "      <td>Female</td>\n",
       "      <td>39</td>\n",
       "      <td>1.0</td>\n",
       "      <td>0.00</td>\n",
       "      <td>2</td>\n",
       "      <td>0</td>\n",
       "      <td>0</td>\n",
       "      <td>93826.63</td>\n",
       "      <td>0</td>\n",
       "    </tr>\n",
       "    <tr>\n",
       "      <th>4</th>\n",
       "      <td>850</td>\n",
       "      <td>Spain</td>\n",
       "      <td>Female</td>\n",
       "      <td>43</td>\n",
       "      <td>2.0</td>\n",
       "      <td>125510.82</td>\n",
       "      <td>1</td>\n",
       "      <td>1</td>\n",
       "      <td>1</td>\n",
       "      <td>79084.10</td>\n",
       "      <td>0</td>\n",
       "    </tr>\n",
       "  </tbody>\n",
       "</table>\n",
       "</div>"
      ],
      "text/plain": [
       "   CreditScore Geography  Gender  Age  Tenure    Balance  NumOfProducts  \\\n",
       "0          619    France  Female   42     2.0       0.00              1   \n",
       "1          608     Spain  Female   41     1.0   83807.86              1   \n",
       "2          502    France  Female   42     8.0  159660.80              3   \n",
       "3          699    France  Female   39     1.0       0.00              2   \n",
       "4          850     Spain  Female   43     2.0  125510.82              1   \n",
       "\n",
       "   HasCrCard  IsActiveMember  EstimatedSalary  Exited  \n",
       "0          1               1        101348.88       1  \n",
       "1          0               1        112542.58       0  \n",
       "2          1               0        113931.57       1  \n",
       "3          0               0         93826.63       0  \n",
       "4          1               1         79084.10       0  "
      ]
     },
     "metadata": {},
     "output_type": "display_data"
    }
   ],
   "source": [
    "data = data.drop(['RowNumber', 'CustomerId', 'Surname'], axis=1)\n",
    "display(data.head(5))"
   ]
  },
  {
   "cell_type": "markdown",
   "metadata": {},
   "source": [
    "Проверим дубликаты"
   ]
  },
  {
   "cell_type": "code",
   "execution_count": 9,
   "metadata": {},
   "outputs": [
    {
     "data": {
      "text/plain": [
       "0"
      ]
     },
     "metadata": {},
     "output_type": "display_data"
    }
   ],
   "source": [
    "display(data.duplicated().sum())"
   ]
  },
  {
   "cell_type": "markdown",
   "metadata": {},
   "source": [
    "Дубликатов нет.\n",
    "\n",
    "Подготовим данные методом OHE."
   ]
  },
  {
   "cell_type": "code",
   "execution_count": 10,
   "metadata": {},
   "outputs": [
    {
     "data": {
      "text/html": [
       "<div>\n",
       "<style scoped>\n",
       "    .dataframe tbody tr th:only-of-type {\n",
       "        vertical-align: middle;\n",
       "    }\n",
       "\n",
       "    .dataframe tbody tr th {\n",
       "        vertical-align: top;\n",
       "    }\n",
       "\n",
       "    .dataframe thead th {\n",
       "        text-align: right;\n",
       "    }\n",
       "</style>\n",
       "<table border=\"1\" class=\"dataframe\">\n",
       "  <thead>\n",
       "    <tr style=\"text-align: right;\">\n",
       "      <th></th>\n",
       "      <th>CreditScore</th>\n",
       "      <th>Age</th>\n",
       "      <th>Tenure</th>\n",
       "      <th>Balance</th>\n",
       "      <th>NumOfProducts</th>\n",
       "      <th>HasCrCard</th>\n",
       "      <th>IsActiveMember</th>\n",
       "      <th>EstimatedSalary</th>\n",
       "      <th>Exited</th>\n",
       "      <th>Geography_Germany</th>\n",
       "      <th>Geography_Spain</th>\n",
       "      <th>Gender_Male</th>\n",
       "    </tr>\n",
       "  </thead>\n",
       "  <tbody>\n",
       "    <tr>\n",
       "      <th>0</th>\n",
       "      <td>619</td>\n",
       "      <td>42</td>\n",
       "      <td>2.0</td>\n",
       "      <td>0.00</td>\n",
       "      <td>1</td>\n",
       "      <td>1</td>\n",
       "      <td>1</td>\n",
       "      <td>101348.88</td>\n",
       "      <td>1</td>\n",
       "      <td>0</td>\n",
       "      <td>0</td>\n",
       "      <td>0</td>\n",
       "    </tr>\n",
       "    <tr>\n",
       "      <th>1</th>\n",
       "      <td>608</td>\n",
       "      <td>41</td>\n",
       "      <td>1.0</td>\n",
       "      <td>83807.86</td>\n",
       "      <td>1</td>\n",
       "      <td>0</td>\n",
       "      <td>1</td>\n",
       "      <td>112542.58</td>\n",
       "      <td>0</td>\n",
       "      <td>0</td>\n",
       "      <td>1</td>\n",
       "      <td>0</td>\n",
       "    </tr>\n",
       "    <tr>\n",
       "      <th>2</th>\n",
       "      <td>502</td>\n",
       "      <td>42</td>\n",
       "      <td>8.0</td>\n",
       "      <td>159660.80</td>\n",
       "      <td>3</td>\n",
       "      <td>1</td>\n",
       "      <td>0</td>\n",
       "      <td>113931.57</td>\n",
       "      <td>1</td>\n",
       "      <td>0</td>\n",
       "      <td>0</td>\n",
       "      <td>0</td>\n",
       "    </tr>\n",
       "    <tr>\n",
       "      <th>3</th>\n",
       "      <td>699</td>\n",
       "      <td>39</td>\n",
       "      <td>1.0</td>\n",
       "      <td>0.00</td>\n",
       "      <td>2</td>\n",
       "      <td>0</td>\n",
       "      <td>0</td>\n",
       "      <td>93826.63</td>\n",
       "      <td>0</td>\n",
       "      <td>0</td>\n",
       "      <td>0</td>\n",
       "      <td>0</td>\n",
       "    </tr>\n",
       "    <tr>\n",
       "      <th>4</th>\n",
       "      <td>850</td>\n",
       "      <td>43</td>\n",
       "      <td>2.0</td>\n",
       "      <td>125510.82</td>\n",
       "      <td>1</td>\n",
       "      <td>1</td>\n",
       "      <td>1</td>\n",
       "      <td>79084.10</td>\n",
       "      <td>0</td>\n",
       "      <td>0</td>\n",
       "      <td>1</td>\n",
       "      <td>0</td>\n",
       "    </tr>\n",
       "  </tbody>\n",
       "</table>\n",
       "</div>"
      ],
      "text/plain": [
       "   CreditScore  Age  Tenure    Balance  NumOfProducts  HasCrCard  \\\n",
       "0          619   42     2.0       0.00              1          1   \n",
       "1          608   41     1.0   83807.86              1          0   \n",
       "2          502   42     8.0  159660.80              3          1   \n",
       "3          699   39     1.0       0.00              2          0   \n",
       "4          850   43     2.0  125510.82              1          1   \n",
       "\n",
       "   IsActiveMember  EstimatedSalary  Exited  Geography_Germany  \\\n",
       "0               1        101348.88       1                  0   \n",
       "1               1        112542.58       0                  0   \n",
       "2               0        113931.57       1                  0   \n",
       "3               0         93826.63       0                  0   \n",
       "4               1         79084.10       0                  0   \n",
       "\n",
       "   Geography_Spain  Gender_Male  \n",
       "0                0            0  \n",
       "1                1            0  \n",
       "2                0            0  \n",
       "3                0            0  \n",
       "4                1            0  "
      ]
     },
     "metadata": {},
     "output_type": "display_data"
    }
   ],
   "source": [
    "data = pd.get_dummies(data, drop_first=True)\n",
    "display(data.head(5))"
   ]
  },
  {
   "cell_type": "markdown",
   "metadata": {},
   "source": [
    "Данные подготовлены, можно перейти к разбвивке на выборки: обучающую, валидационную и тестовую, по схеме 3:1:1.\n",
    "\n",
    "Разделим датафрейм по признакам, целевой для нас- Exited."
   ]
  },
  {
   "cell_type": "code",
   "execution_count": 11,
   "metadata": {},
   "outputs": [
    {
     "data": {
      "text/html": [
       "<div>\n",
       "<style scoped>\n",
       "    .dataframe tbody tr th:only-of-type {\n",
       "        vertical-align: middle;\n",
       "    }\n",
       "\n",
       "    .dataframe tbody tr th {\n",
       "        vertical-align: top;\n",
       "    }\n",
       "\n",
       "    .dataframe thead th {\n",
       "        text-align: right;\n",
       "    }\n",
       "</style>\n",
       "<table border=\"1\" class=\"dataframe\">\n",
       "  <thead>\n",
       "    <tr style=\"text-align: right;\">\n",
       "      <th></th>\n",
       "      <th>CreditScore</th>\n",
       "      <th>Age</th>\n",
       "      <th>Tenure</th>\n",
       "      <th>Balance</th>\n",
       "      <th>NumOfProducts</th>\n",
       "      <th>HasCrCard</th>\n",
       "      <th>IsActiveMember</th>\n",
       "      <th>EstimatedSalary</th>\n",
       "      <th>Geography_Germany</th>\n",
       "      <th>Geography_Spain</th>\n",
       "      <th>Gender_Male</th>\n",
       "    </tr>\n",
       "  </thead>\n",
       "  <tbody>\n",
       "    <tr>\n",
       "      <th>0</th>\n",
       "      <td>619</td>\n",
       "      <td>42</td>\n",
       "      <td>2.0</td>\n",
       "      <td>0.00</td>\n",
       "      <td>1</td>\n",
       "      <td>1</td>\n",
       "      <td>1</td>\n",
       "      <td>101348.88</td>\n",
       "      <td>0</td>\n",
       "      <td>0</td>\n",
       "      <td>0</td>\n",
       "    </tr>\n",
       "    <tr>\n",
       "      <th>1</th>\n",
       "      <td>608</td>\n",
       "      <td>41</td>\n",
       "      <td>1.0</td>\n",
       "      <td>83807.86</td>\n",
       "      <td>1</td>\n",
       "      <td>0</td>\n",
       "      <td>1</td>\n",
       "      <td>112542.58</td>\n",
       "      <td>0</td>\n",
       "      <td>1</td>\n",
       "      <td>0</td>\n",
       "    </tr>\n",
       "    <tr>\n",
       "      <th>2</th>\n",
       "      <td>502</td>\n",
       "      <td>42</td>\n",
       "      <td>8.0</td>\n",
       "      <td>159660.80</td>\n",
       "      <td>3</td>\n",
       "      <td>1</td>\n",
       "      <td>0</td>\n",
       "      <td>113931.57</td>\n",
       "      <td>0</td>\n",
       "      <td>0</td>\n",
       "      <td>0</td>\n",
       "    </tr>\n",
       "    <tr>\n",
       "      <th>3</th>\n",
       "      <td>699</td>\n",
       "      <td>39</td>\n",
       "      <td>1.0</td>\n",
       "      <td>0.00</td>\n",
       "      <td>2</td>\n",
       "      <td>0</td>\n",
       "      <td>0</td>\n",
       "      <td>93826.63</td>\n",
       "      <td>0</td>\n",
       "      <td>0</td>\n",
       "      <td>0</td>\n",
       "    </tr>\n",
       "    <tr>\n",
       "      <th>4</th>\n",
       "      <td>850</td>\n",
       "      <td>43</td>\n",
       "      <td>2.0</td>\n",
       "      <td>125510.82</td>\n",
       "      <td>1</td>\n",
       "      <td>1</td>\n",
       "      <td>1</td>\n",
       "      <td>79084.10</td>\n",
       "      <td>0</td>\n",
       "      <td>1</td>\n",
       "      <td>0</td>\n",
       "    </tr>\n",
       "  </tbody>\n",
       "</table>\n",
       "</div>"
      ],
      "text/plain": [
       "   CreditScore  Age  Tenure    Balance  NumOfProducts  HasCrCard  \\\n",
       "0          619   42     2.0       0.00              1          1   \n",
       "1          608   41     1.0   83807.86              1          0   \n",
       "2          502   42     8.0  159660.80              3          1   \n",
       "3          699   39     1.0       0.00              2          0   \n",
       "4          850   43     2.0  125510.82              1          1   \n",
       "\n",
       "   IsActiveMember  EstimatedSalary  Geography_Germany  Geography_Spain  \\\n",
       "0               1        101348.88                  0                0   \n",
       "1               1        112542.58                  0                1   \n",
       "2               0        113931.57                  0                0   \n",
       "3               0         93826.63                  0                0   \n",
       "4               1         79084.10                  0                1   \n",
       "\n",
       "   Gender_Male  \n",
       "0            0  \n",
       "1            0  \n",
       "2            0  \n",
       "3            0  \n",
       "4            0  "
      ]
     },
     "metadata": {},
     "output_type": "display_data"
    },
    {
     "data": {
      "text/plain": [
       "0    1\n",
       "1    0\n",
       "2    1\n",
       "3    0\n",
       "4    0\n",
       "Name: Exited, dtype: int64"
      ]
     },
     "metadata": {},
     "output_type": "display_data"
    }
   ],
   "source": [
    "features = data.drop('Exited', axis=1)\n",
    "target = data['Exited']\n",
    "display(features.head(5))\n",
    "display(target.head(5))"
   ]
  },
  {
   "cell_type": "markdown",
   "metadata": {},
   "source": [
    "Успешно. Теперь выделим тестовую выборку, на нее приходится 20% от всех данных"
   ]
  },
  {
   "cell_type": "code",
   "execution_count": 12,
   "metadata": {},
   "outputs": [],
   "source": [
    "data_features, features_test, data_target, target_test = train_test_split(features, \n",
    "                                                                          target, test_size=0.2, random_state=12345)"
   ]
  },
  {
   "cell_type": "markdown",
   "metadata": {},
   "source": [
    "data_features и data_target- это сумма будущих обучающей и валидацинной выборки. Чтобы выделить из нее валидационную, согласно заявленной нами схеме 3:1:1, нам нужно выделить 25%"
   ]
  },
  {
   "cell_type": "code",
   "execution_count": 13,
   "metadata": {},
   "outputs": [],
   "source": [
    "features_train, features_valid, target_train, target_valid = train_test_split(data_features, data_target, \n",
    "                                                                              test_size=0.25, random_state=12345)"
   ]
  },
  {
   "cell_type": "markdown",
   "metadata": {},
   "source": [
    "Проверим результат"
   ]
  },
  {
   "cell_type": "code",
   "execution_count": 14,
   "metadata": {},
   "outputs": [
    {
     "data": {
      "text/plain": [
       "2000"
      ]
     },
     "metadata": {},
     "output_type": "display_data"
    },
    {
     "data": {
      "text/plain": [
       "2000"
      ]
     },
     "metadata": {},
     "output_type": "display_data"
    },
    {
     "data": {
      "text/plain": [
       "6000"
      ]
     },
     "metadata": {},
     "output_type": "display_data"
    }
   ],
   "source": [
    "display(features_test.shape[0], features_valid.shape[0], features_train.shape[0])"
   ]
  },
  {
   "cell_type": "markdown",
   "metadata": {},
   "source": [
    "Успешно.\n",
    "\n",
    "Осталось масштабировать количественные признаки. Вот их перечень:\n",
    "\n",
    "CreditScore — кредитный рейтинг\n",
    "\n",
    "Age — возраст\n",
    "\n",
    "Tenure — сколько лет человек является клиентом банка\n",
    "\n",
    "Balance — баланс на счёте\n",
    "\n",
    "NumOfProducts — количество продуктов банка, используемых клиентом\n",
    "\n",
    "EstimatedSalary — предполагаемая зарплата"
   ]
  },
  {
   "cell_type": "markdown",
   "metadata": {},
   "source": [
    "Для удобства, создадим список столбцов с этими признаками. Далее, проведем обучение на обучающей выборке, и масштабируем в ней количественные признаки"
   ]
  },
  {
   "cell_type": "code",
   "execution_count": 15,
   "metadata": {},
   "outputs": [
    {
     "data": {
      "text/html": [
       "<div>\n",
       "<style scoped>\n",
       "    .dataframe tbody tr th:only-of-type {\n",
       "        vertical-align: middle;\n",
       "    }\n",
       "\n",
       "    .dataframe tbody tr th {\n",
       "        vertical-align: top;\n",
       "    }\n",
       "\n",
       "    .dataframe thead th {\n",
       "        text-align: right;\n",
       "    }\n",
       "</style>\n",
       "<table border=\"1\" class=\"dataframe\">\n",
       "  <thead>\n",
       "    <tr style=\"text-align: right;\">\n",
       "      <th></th>\n",
       "      <th>CreditScore</th>\n",
       "      <th>Age</th>\n",
       "      <th>Tenure</th>\n",
       "      <th>Balance</th>\n",
       "      <th>NumOfProducts</th>\n",
       "      <th>HasCrCard</th>\n",
       "      <th>IsActiveMember</th>\n",
       "      <th>EstimatedSalary</th>\n",
       "      <th>Geography_Germany</th>\n",
       "      <th>Geography_Spain</th>\n",
       "      <th>Gender_Male</th>\n",
       "    </tr>\n",
       "  </thead>\n",
       "  <tbody>\n",
       "    <tr>\n",
       "      <th>492</th>\n",
       "      <td>-0.134048</td>\n",
       "      <td>-0.078068</td>\n",
       "      <td>-0.369113</td>\n",
       "      <td>0.076163</td>\n",
       "      <td>0.816929</td>\n",
       "      <td>0</td>\n",
       "      <td>1</td>\n",
       "      <td>0.331571</td>\n",
       "      <td>0</td>\n",
       "      <td>0</td>\n",
       "      <td>0</td>\n",
       "    </tr>\n",
       "    <tr>\n",
       "      <th>6655</th>\n",
       "      <td>-1.010798</td>\n",
       "      <td>0.494555</td>\n",
       "      <td>-0.007415</td>\n",
       "      <td>0.136391</td>\n",
       "      <td>-0.896909</td>\n",
       "      <td>1</td>\n",
       "      <td>1</td>\n",
       "      <td>-0.727858</td>\n",
       "      <td>0</td>\n",
       "      <td>0</td>\n",
       "      <td>1</td>\n",
       "    </tr>\n",
       "    <tr>\n",
       "      <th>4287</th>\n",
       "      <td>0.639554</td>\n",
       "      <td>1.353490</td>\n",
       "      <td>-1.454209</td>\n",
       "      <td>0.358435</td>\n",
       "      <td>-0.896909</td>\n",
       "      <td>1</td>\n",
       "      <td>1</td>\n",
       "      <td>-0.477006</td>\n",
       "      <td>1</td>\n",
       "      <td>0</td>\n",
       "      <td>1</td>\n",
       "    </tr>\n",
       "    <tr>\n",
       "      <th>42</th>\n",
       "      <td>-0.990168</td>\n",
       "      <td>2.116987</td>\n",
       "      <td>-1.092511</td>\n",
       "      <td>0.651725</td>\n",
       "      <td>-0.896909</td>\n",
       "      <td>1</td>\n",
       "      <td>1</td>\n",
       "      <td>-0.100232</td>\n",
       "      <td>0</td>\n",
       "      <td>0</td>\n",
       "      <td>0</td>\n",
       "    </tr>\n",
       "    <tr>\n",
       "      <th>8178</th>\n",
       "      <td>0.567351</td>\n",
       "      <td>0.685430</td>\n",
       "      <td>0.715982</td>\n",
       "      <td>0.813110</td>\n",
       "      <td>0.816929</td>\n",
       "      <td>1</td>\n",
       "      <td>1</td>\n",
       "      <td>0.801922</td>\n",
       "      <td>0</td>\n",
       "      <td>0</td>\n",
       "      <td>0</td>\n",
       "    </tr>\n",
       "  </tbody>\n",
       "</table>\n",
       "</div>"
      ],
      "text/plain": [
       "      CreditScore       Age    Tenure   Balance  NumOfProducts  HasCrCard  \\\n",
       "492     -0.134048 -0.078068 -0.369113  0.076163       0.816929          0   \n",
       "6655    -1.010798  0.494555 -0.007415  0.136391      -0.896909          1   \n",
       "4287     0.639554  1.353490 -1.454209  0.358435      -0.896909          1   \n",
       "42      -0.990168  2.116987 -1.092511  0.651725      -0.896909          1   \n",
       "8178     0.567351  0.685430  0.715982  0.813110       0.816929          1   \n",
       "\n",
       "      IsActiveMember  EstimatedSalary  Geography_Germany  Geography_Spain  \\\n",
       "492                1         0.331571                  0                0   \n",
       "6655               1        -0.727858                  0                0   \n",
       "4287               1        -0.477006                  1                0   \n",
       "42                 1        -0.100232                  0                0   \n",
       "8178               1         0.801922                  0                0   \n",
       "\n",
       "      Gender_Male  \n",
       "492             0  \n",
       "6655            1  \n",
       "4287            1  \n",
       "42              0  \n",
       "8178            0  "
      ]
     },
     "metadata": {},
     "output_type": "display_data"
    }
   ],
   "source": [
    "numeric = ['CreditScore', 'Age', 'Tenure', 'Balance', 'NumOfProducts', 'EstimatedSalary']\n",
    "\n",
    "scaler = StandardScaler()\n",
    "scaler.fit(features_train[numeric])\n",
    "\n",
    "features_train[numeric] = scaler.transform(features_train[numeric])\n",
    "display(features_train.head(5))"
   ]
  },
  {
   "cell_type": "markdown",
   "metadata": {},
   "source": [
    "Теперь масштабируем данные в валидационной и тестовой выборке"
   ]
  },
  {
   "cell_type": "code",
   "execution_count": 16,
   "metadata": {},
   "outputs": [
    {
     "data": {
      "text/html": [
       "<div>\n",
       "<style scoped>\n",
       "    .dataframe tbody tr th:only-of-type {\n",
       "        vertical-align: middle;\n",
       "    }\n",
       "\n",
       "    .dataframe tbody tr th {\n",
       "        vertical-align: top;\n",
       "    }\n",
       "\n",
       "    .dataframe thead th {\n",
       "        text-align: right;\n",
       "    }\n",
       "</style>\n",
       "<table border=\"1\" class=\"dataframe\">\n",
       "  <thead>\n",
       "    <tr style=\"text-align: right;\">\n",
       "      <th></th>\n",
       "      <th>CreditScore</th>\n",
       "      <th>Age</th>\n",
       "      <th>Tenure</th>\n",
       "      <th>Balance</th>\n",
       "      <th>NumOfProducts</th>\n",
       "      <th>HasCrCard</th>\n",
       "      <th>IsActiveMember</th>\n",
       "      <th>EstimatedSalary</th>\n",
       "      <th>Geography_Germany</th>\n",
       "      <th>Geography_Spain</th>\n",
       "      <th>Gender_Male</th>\n",
       "    </tr>\n",
       "  </thead>\n",
       "  <tbody>\n",
       "    <tr>\n",
       "      <th>2358</th>\n",
       "      <td>0.175393</td>\n",
       "      <td>0.399118</td>\n",
       "      <td>-1.454209</td>\n",
       "      <td>1.385698</td>\n",
       "      <td>-0.896909</td>\n",
       "      <td>0</td>\n",
       "      <td>1</td>\n",
       "      <td>-1.466761</td>\n",
       "      <td>0</td>\n",
       "      <td>0</td>\n",
       "      <td>1</td>\n",
       "    </tr>\n",
       "    <tr>\n",
       "      <th>8463</th>\n",
       "      <td>-1.299609</td>\n",
       "      <td>0.971741</td>\n",
       "      <td>-1.092511</td>\n",
       "      <td>-1.232442</td>\n",
       "      <td>-0.896909</td>\n",
       "      <td>1</td>\n",
       "      <td>0</td>\n",
       "      <td>0.254415</td>\n",
       "      <td>0</td>\n",
       "      <td>1</td>\n",
       "      <td>1</td>\n",
       "    </tr>\n",
       "    <tr>\n",
       "      <th>163</th>\n",
       "      <td>0.711757</td>\n",
       "      <td>-0.268942</td>\n",
       "      <td>-1.092511</td>\n",
       "      <td>-1.232442</td>\n",
       "      <td>0.816929</td>\n",
       "      <td>1</td>\n",
       "      <td>1</td>\n",
       "      <td>0.122863</td>\n",
       "      <td>0</td>\n",
       "      <td>1</td>\n",
       "      <td>0</td>\n",
       "    </tr>\n",
       "    <tr>\n",
       "      <th>3074</th>\n",
       "      <td>-0.391916</td>\n",
       "      <td>0.494555</td>\n",
       "      <td>0.354284</td>\n",
       "      <td>0.672529</td>\n",
       "      <td>-0.896909</td>\n",
       "      <td>1</td>\n",
       "      <td>0</td>\n",
       "      <td>0.585847</td>\n",
       "      <td>1</td>\n",
       "      <td>0</td>\n",
       "      <td>0</td>\n",
       "    </tr>\n",
       "    <tr>\n",
       "      <th>5989</th>\n",
       "      <td>0.165078</td>\n",
       "      <td>1.353490</td>\n",
       "      <td>1.801078</td>\n",
       "      <td>0.536522</td>\n",
       "      <td>-0.896909</td>\n",
       "      <td>0</td>\n",
       "      <td>0</td>\n",
       "      <td>1.462457</td>\n",
       "      <td>0</td>\n",
       "      <td>0</td>\n",
       "      <td>0</td>\n",
       "    </tr>\n",
       "  </tbody>\n",
       "</table>\n",
       "</div>"
      ],
      "text/plain": [
       "      CreditScore       Age    Tenure   Balance  NumOfProducts  HasCrCard  \\\n",
       "2358     0.175393  0.399118 -1.454209  1.385698      -0.896909          0   \n",
       "8463    -1.299609  0.971741 -1.092511 -1.232442      -0.896909          1   \n",
       "163      0.711757 -0.268942 -1.092511 -1.232442       0.816929          1   \n",
       "3074    -0.391916  0.494555  0.354284  0.672529      -0.896909          1   \n",
       "5989     0.165078  1.353490  1.801078  0.536522      -0.896909          0   \n",
       "\n",
       "      IsActiveMember  EstimatedSalary  Geography_Germany  Geography_Spain  \\\n",
       "2358               1        -1.466761                  0                0   \n",
       "8463               0         0.254415                  0                1   \n",
       "163                1         0.122863                  0                1   \n",
       "3074               0         0.585847                  1                0   \n",
       "5989               0         1.462457                  0                0   \n",
       "\n",
       "      Gender_Male  \n",
       "2358            1  \n",
       "8463            1  \n",
       "163             0  \n",
       "3074            0  \n",
       "5989            0  "
      ]
     },
     "metadata": {},
     "output_type": "display_data"
    },
    {
     "data": {
      "text/html": [
       "<div>\n",
       "<style scoped>\n",
       "    .dataframe tbody tr th:only-of-type {\n",
       "        vertical-align: middle;\n",
       "    }\n",
       "\n",
       "    .dataframe tbody tr th {\n",
       "        vertical-align: top;\n",
       "    }\n",
       "\n",
       "    .dataframe thead th {\n",
       "        text-align: right;\n",
       "    }\n",
       "</style>\n",
       "<table border=\"1\" class=\"dataframe\">\n",
       "  <thead>\n",
       "    <tr style=\"text-align: right;\">\n",
       "      <th></th>\n",
       "      <th>CreditScore</th>\n",
       "      <th>Age</th>\n",
       "      <th>Tenure</th>\n",
       "      <th>Balance</th>\n",
       "      <th>NumOfProducts</th>\n",
       "      <th>HasCrCard</th>\n",
       "      <th>IsActiveMember</th>\n",
       "      <th>EstimatedSalary</th>\n",
       "      <th>Geography_Germany</th>\n",
       "      <th>Geography_Spain</th>\n",
       "      <th>Gender_Male</th>\n",
       "    </tr>\n",
       "  </thead>\n",
       "  <tbody>\n",
       "    <tr>\n",
       "      <th>7867</th>\n",
       "      <td>-0.123733</td>\n",
       "      <td>0.685430</td>\n",
       "      <td>-0.730812</td>\n",
       "      <td>-1.232442</td>\n",
       "      <td>-0.896909</td>\n",
       "      <td>1</td>\n",
       "      <td>1</td>\n",
       "      <td>0.980212</td>\n",
       "      <td>0</td>\n",
       "      <td>1</td>\n",
       "      <td>0</td>\n",
       "    </tr>\n",
       "    <tr>\n",
       "      <th>1402</th>\n",
       "      <td>1.083087</td>\n",
       "      <td>-0.937002</td>\n",
       "      <td>1.077681</td>\n",
       "      <td>0.858518</td>\n",
       "      <td>-0.896909</td>\n",
       "      <td>1</td>\n",
       "      <td>0</td>\n",
       "      <td>-0.390486</td>\n",
       "      <td>0</td>\n",
       "      <td>0</td>\n",
       "      <td>1</td>\n",
       "    </tr>\n",
       "    <tr>\n",
       "      <th>8606</th>\n",
       "      <td>1.598822</td>\n",
       "      <td>0.303681</td>\n",
       "      <td>-0.007415</td>\n",
       "      <td>-1.232442</td>\n",
       "      <td>0.816929</td>\n",
       "      <td>1</td>\n",
       "      <td>1</td>\n",
       "      <td>-0.435169</td>\n",
       "      <td>0</td>\n",
       "      <td>1</td>\n",
       "      <td>1</td>\n",
       "    </tr>\n",
       "    <tr>\n",
       "      <th>8885</th>\n",
       "      <td>0.165078</td>\n",
       "      <td>0.589993</td>\n",
       "      <td>-0.369113</td>\n",
       "      <td>0.412100</td>\n",
       "      <td>0.816929</td>\n",
       "      <td>1</td>\n",
       "      <td>1</td>\n",
       "      <td>1.017079</td>\n",
       "      <td>0</td>\n",
       "      <td>1</td>\n",
       "      <td>1</td>\n",
       "    </tr>\n",
       "    <tr>\n",
       "      <th>6494</th>\n",
       "      <td>0.484834</td>\n",
       "      <td>-1.032439</td>\n",
       "      <td>0.715982</td>\n",
       "      <td>-1.232442</td>\n",
       "      <td>0.816929</td>\n",
       "      <td>1</td>\n",
       "      <td>1</td>\n",
       "      <td>-1.343558</td>\n",
       "      <td>0</td>\n",
       "      <td>0</td>\n",
       "      <td>1</td>\n",
       "    </tr>\n",
       "  </tbody>\n",
       "</table>\n",
       "</div>"
      ],
      "text/plain": [
       "      CreditScore       Age    Tenure   Balance  NumOfProducts  HasCrCard  \\\n",
       "7867    -0.123733  0.685430 -0.730812 -1.232442      -0.896909          1   \n",
       "1402     1.083087 -0.937002  1.077681  0.858518      -0.896909          1   \n",
       "8606     1.598822  0.303681 -0.007415 -1.232442       0.816929          1   \n",
       "8885     0.165078  0.589993 -0.369113  0.412100       0.816929          1   \n",
       "6494     0.484834 -1.032439  0.715982 -1.232442       0.816929          1   \n",
       "\n",
       "      IsActiveMember  EstimatedSalary  Geography_Germany  Geography_Spain  \\\n",
       "7867               1         0.980212                  0                1   \n",
       "1402               0        -0.390486                  0                0   \n",
       "8606               1        -0.435169                  0                1   \n",
       "8885               1         1.017079                  0                1   \n",
       "6494               1        -1.343558                  0                0   \n",
       "\n",
       "      Gender_Male  \n",
       "7867            0  \n",
       "1402            1  \n",
       "8606            1  \n",
       "8885            1  \n",
       "6494            1  "
      ]
     },
     "metadata": {},
     "output_type": "display_data"
    }
   ],
   "source": [
    "features_valid[numeric] = scaler.transform(features_valid[numeric])\n",
    "features_test[numeric] = scaler.transform(features_test[numeric])\n",
    "display(features_valid.head(5))\n",
    "display(features_test.head(5))"
   ]
  },
  {
   "cell_type": "markdown",
   "metadata": {},
   "source": [
    "Выводы:\n",
    "\n",
    "1) Импортировали библиотеки, загрузили данные\n",
    "2) Заполнили пропуски медианным значением\n",
    "3) Убрали ненужные для задачи столбцы\n",
    "4) Обработали датафрейм методом OHE\n",
    "5) Выполнили разбивку данных на обучающую, валидационную, и тестовую выборку по сотношению 3:1:1"
   ]
  },
  {
   "cell_type": "markdown",
   "metadata": {},
   "source": [
    "## Исследование задачи"
   ]
  },
  {
   "cell_type": "markdown",
   "metadata": {},
   "source": [
    "Наш целевой признак- Exited. Это категориальный признак. Следовательно, нам подойдут методы \"решающее дерево\", \"случайный лес\", \"логистическая регрессия\". Проверим их точность."
   ]
  },
  {
   "cell_type": "code",
   "execution_count": 17,
   "metadata": {},
   "outputs": [
    {
     "data": {
      "text/plain": [
       "'Точность решающего дерева:'"
      ]
     },
     "metadata": {},
     "output_type": "display_data"
    },
    {
     "data": {
      "text/plain": [
       "0.7945"
      ]
     },
     "metadata": {},
     "output_type": "display_data"
    },
    {
     "data": {
      "text/plain": [
       "'Точность случайного леса:'"
      ]
     },
     "metadata": {},
     "output_type": "display_data"
    },
    {
     "data": {
      "text/plain": [
       "0.8615"
      ]
     },
     "metadata": {},
     "output_type": "display_data"
    },
    {
     "data": {
      "text/plain": [
       "'Точность логистической регрессии:'"
      ]
     },
     "metadata": {},
     "output_type": "display_data"
    },
    {
     "data": {
      "text/plain": [
       "0.8145"
      ]
     },
     "metadata": {},
     "output_type": "display_data"
    }
   ],
   "source": [
    "model_decision_tree = DecisionTreeClassifier(random_state=123)\n",
    "decision_tree_score = model_decision_tree.fit(features_train, target_train).score(features_valid, target_valid)\n",
    "\n",
    "model_random_forest = RandomForestClassifier(random_state=123)\n",
    "random_forest_score = model_random_forest.fit(features_train, target_train).score(features_valid, target_valid)\n",
    "\n",
    "model_logistic_regression = LogisticRegression(random_state=123)\n",
    "logistic_regression_score = model_logistic_regression.fit(features_train, target_train).score(features_valid, target_valid)\n",
    "display('Точность решающего дерева:', decision_tree_score)\n",
    "display('Точность случайного леса:', random_forest_score)\n",
    "display('Точность логистической регрессии:', logistic_regression_score)"
   ]
  },
  {
   "cell_type": "markdown",
   "metadata": {},
   "source": [
    "На стандартных гиперпараметрах, лучшую точность показывает случайный лес.\n",
    "\n",
    "Проверим баланс классов."
   ]
  },
  {
   "cell_type": "code",
   "execution_count": 18,
   "metadata": {},
   "outputs": [
    {
     "data": {
      "text/plain": [
       "0    0.796833\n",
       "1    0.203167\n",
       "Name: Exited, dtype: float64"
      ]
     },
     "metadata": {},
     "output_type": "display_data"
    },
    {
     "data": {
      "text/plain": [
       "0    0.8045\n",
       "1    0.1955\n",
       "Name: Exited, dtype: float64"
      ]
     },
     "metadata": {},
     "output_type": "display_data"
    }
   ],
   "source": [
    "display(target_train.value_counts(normalize = 1))\n",
    "display(target_valid.value_counts(normalize = 1))"
   ]
  },
  {
   "cell_type": "markdown",
   "metadata": {},
   "source": [
    "Примерно 80% ответов- 0. Классы несбалансированы, это может сказаться на результате.\n",
    "\n",
    "Посмотрим для каждой модели значение f1-меры, AUC-ROC и матрицу ошибок."
   ]
  },
  {
   "cell_type": "code",
   "execution_count": 19,
   "metadata": {},
   "outputs": [
    {
     "data": {
      "text/plain": [
       "array([[1391,  218],\n",
       "       [ 193,  198]])"
      ]
     },
     "metadata": {},
     "output_type": "display_data"
    },
    {
     "data": {
      "text/plain": [
       "0.49070631970260226"
      ]
     },
     "metadata": {},
     "output_type": "display_data"
    },
    {
     "data": {
      "text/plain": [
       "0.6854529906106794"
      ]
     },
     "metadata": {},
     "output_type": "display_data"
    }
   ],
   "source": [
    "decision_tree_prediction = model_decision_tree.predict(features_valid)\n",
    "display(confusion_matrix(target_valid, decision_tree_prediction))\n",
    "display(f1_score(target_valid, decision_tree_prediction))\n",
    "display(roc_auc_score(target_valid, decision_tree_prediction))"
   ]
  },
  {
   "cell_type": "markdown",
   "metadata": {},
   "source": [
    "Значение f1-меры, у решающего дерева, ниже целевого. Количество ложно-позитивных предсказаний выше, чем количество истинно- позитивных. Модель склонна выдавать позитивные предсказания.\n",
    "\n",
    "AUC-ROC выше 0.5"
   ]
  },
  {
   "cell_type": "code",
   "execution_count": 20,
   "metadata": {},
   "outputs": [
    {
     "data": {
      "text/plain": [
       "array([[1548,   61],\n",
       "       [ 216,  175]])"
      ]
     },
     "metadata": {},
     "output_type": "display_data"
    },
    {
     "data": {
      "text/plain": [
       "0.5582137161084529"
      ]
     },
     "metadata": {},
     "output_type": "display_data"
    },
    {
     "data": {
      "text/plain": [
       "0.7048292930272333"
      ]
     },
     "metadata": {},
     "output_type": "display_data"
    }
   ],
   "source": [
    "random_forest_prediction = model_random_forest.predict(features_valid)\n",
    "display(confusion_matrix(target_valid, random_forest_prediction))\n",
    "display(f1_score(target_valid, random_forest_prediction))\n",
    "display(roc_auc_score(target_valid, random_forest_prediction))"
   ]
  },
  {
   "cell_type": "markdown",
   "metadata": {},
   "source": [
    "Значение f1-меры у случайного леса также ниже целевого. При этом, качество предсказаний выше, чем у решающего дерева, что видно и по матрице ошибок. Однако, у модели есть уклон в сторону ложно-негативных предсказаний.\n",
    "\n",
    "Значение AUC-ROC также выросло по сравнению с моделью решающего дерева."
   ]
  },
  {
   "cell_type": "code",
   "execution_count": 21,
   "metadata": {},
   "outputs": [
    {
     "data": {
      "text/plain": [
       "array([[1549,   60],\n",
       "       [ 311,   80]])"
      ]
     },
     "metadata": {},
     "output_type": "display_data"
    },
    {
     "data": {
      "text/plain": [
       "0.30131826741996237"
      ]
     },
     "metadata": {},
     "output_type": "display_data"
    },
    {
     "data": {
      "text/plain": [
       "0.5836566690880421"
      ]
     },
     "metadata": {},
     "output_type": "display_data"
    }
   ],
   "source": [
    "logistic_regression_prediction = model_logistic_regression.predict(features_valid)\n",
    "display(confusion_matrix(target_valid, logistic_regression_prediction))\n",
    "display(f1_score(target_valid, logistic_regression_prediction))\n",
    "display(roc_auc_score(target_valid, logistic_regression_prediction))"
   ]
  },
  {
   "cell_type": "markdown",
   "metadata": {},
   "source": [
    "Модель имеет очень большой перекос в сторону ложно-негативных предсказаний.\n",
    "\n",
    "Значение AUC-ROC существенно ниже, чем у прошлых моделей, но все равно выше 0.5\n",
    "\n",
    "Сравним результаты моделей с константной моделью (она будет во всех случаях давать ответ: 0)"
   ]
  },
  {
   "cell_type": "code",
   "execution_count": 22,
   "metadata": {},
   "outputs": [
    {
     "data": {
      "text/plain": [
       "0.8045"
      ]
     },
     "metadata": {},
     "output_type": "display_data"
    }
   ],
   "source": [
    "target_predict_constant = pd.Series([0]*len(target_valid))\n",
    "accuracy_score_constant = accuracy_score(target_valid, target_predict_constant)\n",
    "display(accuracy_score_constant)"
   ]
  },
  {
   "cell_type": "markdown",
   "metadata": {},
   "source": [
    "Точность выше, чем у решающего дерева, и лишь немногим ниже, чем у логистической регрессии. Только случайный лес показывает заметно лучший результат по сравнению с константной моделью.\n",
    "\n",
    "При этом, логистическая регрессия склонна выдавать негативный ответ, что объясняется несбалансированностью классов. Перейдем к борьбе с дисбалансом."
   ]
  },
  {
   "cell_type": "markdown",
   "metadata": {},
   "source": [
    "Выводы:\n",
    "\n",
    "1) Определились с выбором моделей\n",
    "\n",
    "2) Проверили метрики\n",
    "\n",
    "3) Проверили баланс классов\n",
    "\n",
    "4) Обнаружили, что во всех трех моделях, чем выше значение F1-меры, тем выше значение AUC-ROC\n",
    "\n",
    "4) Сравнили результаты метрик с константной моделью."
   ]
  },
  {
   "cell_type": "markdown",
   "metadata": {},
   "source": [
    "## Борьба с дисбалансом"
   ]
  },
  {
   "cell_type": "markdown",
   "metadata": {},
   "source": [
    "Примерное соотношение негативных и позитивных ответов- 80:20. Следовательно, нам нужно увеличить количество позитивных ответов в выборке в 4 раза.\n",
    "\n",
    "Разделим выборку на негативные и позитивные объекты, увеличим выборку с позитивными объектами в 4 раза, объединим выборки и смешаем объекты в получившейся выборке."
   ]
  },
  {
   "cell_type": "code",
   "execution_count": 23,
   "metadata": {},
   "outputs": [
    {
     "data": {
      "text/plain": [
       "1    0.504919\n",
       "0    0.495081\n",
       "Name: Exited, dtype: float64"
      ]
     },
     "metadata": {},
     "output_type": "display_data"
    }
   ],
   "source": [
    "def upsample(features, target, repeat):\n",
    "    features_zeros = features[target == 0]\n",
    "    features_ones = features[target == 1]\n",
    "    target_zeros = target[target == 0]\n",
    "    target_ones = target[target == 1]\n",
    "\n",
    "    features_upsampled = pd.concat([features_zeros] + [features_ones] * repeat)\n",
    "    target_upsampled = pd.concat([target_zeros] + [target_ones] * repeat)\n",
    "    \n",
    "    features_upsampled, target_upsampled = shuffle(\n",
    "        features_upsampled, target_upsampled, random_state=12345)\n",
    "    \n",
    "    return features_upsampled, target_upsampled\n",
    "\n",
    "features_train_upsampled, target_train_upsampled = upsample(features_train, target_train, 4)\n",
    "display(target_train_upsampled.value_counts(normalize = 1))"
   ]
  },
  {
   "cell_type": "markdown",
   "metadata": {},
   "source": [
    "Провели апсэмлинг, теперь посмотрим, как это скажется на работе моделей."
   ]
  },
  {
   "cell_type": "code",
   "execution_count": 24,
   "metadata": {},
   "outputs": [
    {
     "data": {
      "text/plain": [
       "'Точность решающего дерева:'"
      ]
     },
     "metadata": {},
     "output_type": "display_data"
    },
    {
     "data": {
      "text/plain": [
       "0.798"
      ]
     },
     "metadata": {},
     "output_type": "display_data"
    },
    {
     "data": {
      "text/plain": [
       "'Точность случайного леса:'"
      ]
     },
     "metadata": {},
     "output_type": "display_data"
    },
    {
     "data": {
      "text/plain": [
       "0.851"
      ]
     },
     "metadata": {},
     "output_type": "display_data"
    },
    {
     "data": {
      "text/plain": [
       "'Точность логистической регрессии:'"
      ]
     },
     "metadata": {},
     "output_type": "display_data"
    },
    {
     "data": {
      "text/plain": [
       "0.703"
      ]
     },
     "metadata": {},
     "output_type": "display_data"
    }
   ],
   "source": [
    "model_decision_tree = DecisionTreeClassifier(random_state=123)\n",
    "decision_tree_score = model_decision_tree.fit(features_train_upsampled, target_train_upsampled).score(\n",
    "    features_valid, target_valid)\n",
    "\n",
    "model_random_forest = RandomForestClassifier(random_state=123)\n",
    "random_forest_score = model_random_forest.fit(features_train_upsampled, target_train_upsampled).score(\n",
    "    features_valid, target_valid)\n",
    "\n",
    "model_logistic_regression = LogisticRegression(random_state=123)\n",
    "logistic_regression_score = model_logistic_regression.fit(features_train_upsampled, target_train_upsampled).score(\n",
    "    features_valid, target_valid)\n",
    "display('Точность решающего дерева:', decision_tree_score)\n",
    "display('Точность случайного леса:', random_forest_score)\n",
    "display('Точность логистической регрессии:', logistic_regression_score)"
   ]
  },
  {
   "cell_type": "markdown",
   "metadata": {},
   "source": [
    "У логистической регрессии сильно упала точность. Посмотрим на прочие метрики у всех трех моделей."
   ]
  },
  {
   "cell_type": "code",
   "execution_count": 25,
   "metadata": {},
   "outputs": [
    {
     "data": {
      "text/plain": [
       "array([[1415,  194],\n",
       "       [ 210,  181]])"
      ]
     },
     "metadata": {},
     "output_type": "display_data"
    },
    {
     "data": {
      "text/plain": [
       "0.4725848563968668"
      ]
     },
     "metadata": {},
     "output_type": "display_data"
    },
    {
     "data": {
      "text/plain": [
       "0.6711719086532119"
      ]
     },
     "metadata": {},
     "output_type": "display_data"
    }
   ],
   "source": [
    "decision_tree_prediction = model_decision_tree.predict(features_valid)\n",
    "display(confusion_matrix(target_valid, decision_tree_prediction))\n",
    "display(f1_score(target_valid, decision_tree_prediction))\n",
    "display(roc_auc_score(target_valid, decision_tree_prediction))"
   ]
  },
  {
   "cell_type": "code",
   "execution_count": 26,
   "metadata": {},
   "outputs": [
    {
     "data": {
      "text/plain": [
       "array([[1498,  111],\n",
       "       [ 187,  204]])"
      ]
     },
     "metadata": {},
     "output_type": "display_data"
    },
    {
     "data": {
      "text/plain": [
       "0.5779036827195467"
      ]
     },
     "metadata": {},
     "output_type": "display_data"
    },
    {
     "data": {
      "text/plain": [
       "0.726376091009809"
      ]
     },
     "metadata": {},
     "output_type": "display_data"
    }
   ],
   "source": [
    "random_forest_prediction = model_random_forest.predict(features_valid)\n",
    "display(confusion_matrix(target_valid, random_forest_prediction))\n",
    "display(f1_score(target_valid, random_forest_prediction))\n",
    "display(roc_auc_score(target_valid, random_forest_prediction))"
   ]
  },
  {
   "cell_type": "code",
   "execution_count": 27,
   "metadata": {},
   "outputs": [
    {
     "data": {
      "text/plain": [
       "array([[1135,  474],\n",
       "       [ 120,  271]])"
      ]
     },
     "metadata": {},
     "output_type": "display_data"
    },
    {
     "data": {
      "text/plain": [
       "0.4771126760563381"
      ]
     },
     "metadata": {},
     "output_type": "display_data"
    },
    {
     "data": {
      "text/plain": [
       "0.6992508571510319"
      ]
     },
     "metadata": {},
     "output_type": "display_data"
    }
   ],
   "source": [
    "logistic_regression_prediction = model_logistic_regression.predict(features_valid)\n",
    "display(confusion_matrix(target_valid, logistic_regression_prediction))\n",
    "display(f1_score(target_valid, logistic_regression_prediction))\n",
    "display(roc_auc_score(target_valid, logistic_regression_prediction))"
   ]
  },
  {
   "cell_type": "markdown",
   "metadata": {},
   "source": [
    "У логистичкесой регрессии показатель f1-меры сильно вырос. На прочих моделях, балансирование классов сказалось не так сильно."
   ]
  },
  {
   "cell_type": "markdown",
   "metadata": {},
   "source": [
    "Теперь попробуем, напротив, уменьшить в 4 раза количество негативных ответов. Аналогично, создадим функцию:"
   ]
  },
  {
   "cell_type": "code",
   "execution_count": 28,
   "metadata": {},
   "outputs": [
    {
     "data": {
      "text/plain": [
       "1    0.504971\n",
       "0    0.495029\n",
       "Name: Exited, dtype: float64"
      ]
     },
     "metadata": {},
     "output_type": "display_data"
    }
   ],
   "source": [
    "def downsample(features, target, fraction):\n",
    "    features_zeros = features[target == 0]\n",
    "    features_ones = features[target == 1]\n",
    "    target_zeros = target[target == 0]\n",
    "    target_ones = target[target == 1]\n",
    "\n",
    "    features_downsampled = pd.concat(\n",
    "        [features_zeros.sample(frac=fraction, random_state=12345)] + [features_ones])\n",
    "    target_downsampled = pd.concat(\n",
    "        [target_zeros.sample(frac=fraction, random_state=12345)] + [target_ones])\n",
    "    \n",
    "    features_downsampled, target_downsampled = shuffle(\n",
    "        features_downsampled, target_downsampled, random_state=12345)\n",
    "    \n",
    "    return features_downsampled, target_downsampled\n",
    "\n",
    "features_train_downsampled, target_train_downsampled = downsample(features_train, target_train, 0.25)\n",
    "display(target_train_downsampled.value_counts(normalize = 1))"
   ]
  },
  {
   "cell_type": "markdown",
   "metadata": {},
   "source": [
    "Проверим, что будет получаться на выборках после даунсэмлинга. Заново обучим модели на новой выборке"
   ]
  },
  {
   "cell_type": "code",
   "execution_count": 29,
   "metadata": {},
   "outputs": [
    {
     "data": {
      "text/plain": [
       "'Точность решающего дерева:'"
      ]
     },
     "metadata": {},
     "output_type": "display_data"
    },
    {
     "data": {
      "text/plain": [
       "0.694"
      ]
     },
     "metadata": {},
     "output_type": "display_data"
    },
    {
     "data": {
      "text/plain": [
       "'Точность случайного леса:'"
      ]
     },
     "metadata": {},
     "output_type": "display_data"
    },
    {
     "data": {
      "text/plain": [
       "0.7685"
      ]
     },
     "metadata": {},
     "output_type": "display_data"
    },
    {
     "data": {
      "text/plain": [
       "'Точность логистической регрессии:'"
      ]
     },
     "metadata": {},
     "output_type": "display_data"
    },
    {
     "data": {
      "text/plain": [
       "0.7005"
      ]
     },
     "metadata": {},
     "output_type": "display_data"
    }
   ],
   "source": [
    "model_decision_tree = DecisionTreeClassifier(random_state=123)\n",
    "decision_tree_score = model_decision_tree.fit(features_train_downsampled, target_train_downsampled).score(\n",
    "    features_valid, target_valid)\n",
    "\n",
    "model_random_forest = RandomForestClassifier(random_state=123)\n",
    "random_forest_score = model_random_forest.fit(features_train_downsampled, target_train_downsampled).score(\n",
    "    features_valid, target_valid)\n",
    "\n",
    "model_logistic_regression = LogisticRegression(random_state=123)\n",
    "logistic_regression_score = model_logistic_regression.fit(features_train_downsampled, target_train_downsampled).score(\n",
    "    features_valid, target_valid)\n",
    "display('Точность решающего дерева:', decision_tree_score)\n",
    "display('Точность случайного леса:', random_forest_score)\n",
    "display('Точность логистической регрессии:', logistic_regression_score)"
   ]
  },
  {
   "cell_type": "markdown",
   "metadata": {},
   "source": [
    "В целом, результаты ниже, чем у апсэмлинга. Проверим метрики даунсэмлинга у модели случайного леса."
   ]
  },
  {
   "cell_type": "code",
   "execution_count": 30,
   "metadata": {},
   "outputs": [
    {
     "data": {
      "text/plain": [
       "array([[1250,  359],\n",
       "       [ 104,  287]])"
      ]
     },
     "metadata": {},
     "output_type": "display_data"
    },
    {
     "data": {
      "text/plain": [
       "0.553519768563163"
      ]
     },
     "metadata": {},
     "output_type": "display_data"
    },
    {
     "data": {
      "text/plain": [
       "0.7554476974944326"
      ]
     },
     "metadata": {},
     "output_type": "display_data"
    }
   ],
   "source": [
    "random_forest_prediction = model_random_forest.predict(features_valid)\n",
    "display(confusion_matrix(target_valid, random_forest_prediction))\n",
    "display(f1_score(target_valid, random_forest_prediction))\n",
    "display(roc_auc_score(target_valid, random_forest_prediction))"
   ]
  },
  {
   "cell_type": "markdown",
   "metadata": {},
   "source": [
    "Результат ниже, чем при апсэмлинге.\n",
    "Самый высокий показатель f1-меры у модели случайного леса: 0.57, после обучения на выборке с апсэмплингом.\n",
    "\n",
    "Это очень близко к целевому значению не ниже 0.59. \n",
    "    \n",
    "Попробуем улучшить результат этой модели подбором гиперпараметров."
   ]
  },
  {
   "cell_type": "markdown",
   "metadata": {},
   "source": [
    "Выводы:\n",
    "\n",
    "1) Масштабировали выборку, методом апсэмлинга\n",
    "\n",
    "2) Масштабировали выборку методом даунсэмплинга. Обнаружили, что результат обучения модели на выборке после апсэмплинга лучше.\n",
    "\n",
    "3) Проверили метрики на моделях, обученных по новой выборке. Определились с выбором итоговой модели."
   ]
  },
  {
   "cell_type": "markdown",
   "metadata": {},
   "source": [
    "## Тестирование модели"
   ]
  },
  {
   "cell_type": "markdown",
   "metadata": {},
   "source": [
    "Создадим цикл, в котором будут перебираться гиперпараметры, и попробуем найти наилучший результат."
   ]
  },
  {
   "cell_type": "code",
   "execution_count": 31,
   "metadata": {},
   "outputs": [
    {
     "data": {
      "text/plain": [
       "'Самый высокий показатель f1-меры:'"
      ]
     },
     "metadata": {},
     "output_type": "display_data"
    },
    {
     "data": {
      "text/plain": [
       "0.6094117647058824"
      ]
     },
     "metadata": {},
     "output_type": "display_data"
    },
    {
     "data": {
      "text/plain": [
       "'Лучшие значения параметров max_depth, min_samples_split, min_samples_leaf, n_estimators'"
      ]
     },
     "metadata": {},
     "output_type": "display_data"
    },
    {
     "data": {
      "text/plain": [
       "[11, 5, 1, 20]"
      ]
     },
     "metadata": {},
     "output_type": "display_data"
    }
   ],
   "source": [
    "best_params = []\n",
    "best_f1_score = 0\n",
    "#создаем циклы, которые будут перебирать значения параметров.\n",
    "#цикл максимальной глубины дерева\n",
    "for max_depth in range(2,15):\n",
    "#цикл минимального колчичества объектов в узле    \n",
    "    for min_samples_split in range(2,8):\n",
    "#цикл минимального количества объектов в листе        \n",
    "        for min_samples_leaf in range(1,15):\n",
    "#цикл количества деревьев \n",
    "            for n_estimators in (1,20):\n",
    "                # Проверим модель с текущими параметрами\n",
    "                model_random_forest = RandomForestClassifier(random_state = 123,\n",
    "                                                      max_depth = max_depth,\n",
    "                                                      min_samples_split = min_samples_split,\n",
    "                                                      min_samples_leaf = min_samples_leaf,\n",
    "                                                      n_estimators = n_estimators)                                                    \n",
    "                # обучение модели на тренировочной выборке\n",
    "                model_random_forest.fit(features_train_upsampled, target_train_upsampled)\n",
    "                # поиск предсказаний модели на валидационной выбоке\n",
    "                predictions = model_random_forest.predict(features_valid)\n",
    "                # вычисление точности модели методом accuracy_score\n",
    "                model_f1_score = f1_score(target_valid, predictions)\n",
    "                # если текущее значение точности выше предыдущего лучшего значения, \n",
    "                # сохраняем параметры модели и текущую точность\n",
    "                if model_f1_score > best_f1_score:\n",
    "                    best_params = [max_depth, min_samples_split, min_samples_leaf, n_estimators]\n",
    "                    best_f1_score = model_f1_score\n",
    "\n",
    "display('Самый высокий показатель f1-меры:', best_f1_score)\n",
    "display('Лучшие значения параметров max_depth, min_samples_split, min_samples_leaf, n_estimators', best_params)"
   ]
  },
  {
   "cell_type": "markdown",
   "metadata": {},
   "source": [
    "Значение f1-меры превышает целевое. Обучим итоговую модель. Проверим метрики."
   ]
  },
  {
   "cell_type": "code",
   "execution_count": 32,
   "metadata": {},
   "outputs": [
    {
     "data": {
      "text/plain": [
       "array([[1380,  193],\n",
       "       [ 141,  286]])"
      ]
     },
     "metadata": {},
     "output_type": "display_data"
    },
    {
     "data": {
      "text/plain": [
       "0.6313465783664459"
      ]
     },
     "metadata": {},
     "output_type": "display_data"
    },
    {
     "data": {
      "text/plain": [
       "0.7735468704172132"
      ]
     },
     "metadata": {},
     "output_type": "display_data"
    }
   ],
   "source": [
    "model_random_forest = RandomForestClassifier(random_state = 123,\n",
    "                                                      max_depth = 11,\n",
    "                                                      min_samples_split = 5,\n",
    "                                                      min_samples_leaf = 1,\n",
    "                                                      n_estimators = 20)        \n",
    "model_random_forest.fit(features_train_upsampled, target_train_upsampled)\n",
    "random_forest_prediction = model_random_forest.predict(features_test)\n",
    "display(confusion_matrix(target_test, random_forest_prediction))\n",
    "display(f1_score(target_test, random_forest_prediction))\n",
    "display(roc_auc_score(target_test, random_forest_prediction))"
   ]
  },
  {
   "cell_type": "markdown",
   "metadata": {},
   "source": [
    "F1 на тестовой выборке выше целевого значения. Проверим модель на адекватность."
   ]
  },
  {
   "cell_type": "code",
   "execution_count": 33,
   "metadata": {},
   "outputs": [
    {
     "data": {
      "text/plain": [
       "'accuracy_score константой модели:'"
      ]
     },
     "metadata": {},
     "output_type": "display_data"
    },
    {
     "data": {
      "text/plain": [
       "0.7865"
      ]
     },
     "metadata": {},
     "output_type": "display_data"
    },
    {
     "data": {
      "text/plain": [
       "'accuracy_score финальной модели:'"
      ]
     },
     "metadata": {},
     "output_type": "display_data"
    },
    {
     "data": {
      "text/plain": [
       "0.833"
      ]
     },
     "metadata": {},
     "output_type": "display_data"
    },
    {
     "data": {
      "text/plain": [
       "'AUC-ROC константой модели:'"
      ]
     },
     "metadata": {},
     "output_type": "display_data"
    },
    {
     "data": {
      "text/plain": [
       "0.5"
      ]
     },
     "metadata": {},
     "output_type": "display_data"
    },
    {
     "data": {
      "text/plain": [
       "'AUC-ROC финальной модели:'"
      ]
     },
     "metadata": {},
     "output_type": "display_data"
    },
    {
     "data": {
      "text/plain": [
       "0.8603185190368499"
      ]
     },
     "metadata": {},
     "output_type": "display_data"
    },
    {
     "data": {
      "text/plain": [
       "'F1-score константой модели:'"
      ]
     },
     "metadata": {},
     "output_type": "display_data"
    },
    {
     "data": {
      "text/plain": [
       "0.0"
      ]
     },
     "metadata": {},
     "output_type": "display_data"
    },
    {
     "data": {
      "text/plain": [
       "'F1-score финальной модели:'"
      ]
     },
     "metadata": {},
     "output_type": "display_data"
    },
    {
     "data": {
      "text/plain": [
       "0.6313465783664459"
      ]
     },
     "metadata": {},
     "output_type": "display_data"
    }
   ],
   "source": [
    "target_predict_constant = pd.Series([0]*len(target_test))\n",
    "display('accuracy_score константой модели:', accuracy_score(target_test, target_predict_constant))\n",
    "display('accuracy_score финальной модели:', accuracy_score(target_test, random_forest_prediction))\n",
    "\n",
    "probabilities_test = model_random_forest.predict_proba(features_test)\n",
    "probabilities_one_test = probabilities_test[:, 1]\n",
    "display('AUC-ROC константой модели:', roc_auc_score(target_test, target_predict_constant))\n",
    "display('AUC-ROC финальной модели:', roc_auc_score(target_test, probabilities_one_test))\n",
    "\n",
    "display('F1-score константой модели:', f1_score(target_test, target_predict_constant))\n",
    "display('F1-score финальной модели:', f1_score(target_test, random_forest_prediction))"
   ]
  },
  {
   "cell_type": "markdown",
   "metadata": {},
   "source": [
    "Метрики финальной модели выше, чему у константной, и соответствуют заданию."
   ]
  },
  {
   "cell_type": "markdown",
   "metadata": {},
   "source": [
    "Выводы:\n",
    "\n",
    "1) Нашли подходящие гиперпараметры для финальной модели.\n",
    "\n",
    "2) Проверили модель на тестовой выборке, с найденными гиперпараметрами. Значение F1-меры на тестовой выборке превышает 0.59, что соответствует условиям задачи. Значение AUC-ROC, как и при исследовании других моделей, также выросло вместе со значением F1-меры.\n",
    "\n",
    "3) Сравнили результат с результатом константной модели."
   ]
  },
  {
   "cell_type": "code",
   "execution_count": null,
   "metadata": {},
   "outputs": [],
   "source": []
  }
 ],
 "metadata": {
  "ExecuteTimeLog": [
   {
    "duration": 1554,
    "start_time": "2022-10-01T04:17:42.368Z"
   },
   {
    "duration": 133,
    "start_time": "2022-10-01T04:17:55.974Z"
   },
   {
    "duration": 61,
    "start_time": "2022-10-01T04:18:20.919Z"
   },
   {
    "duration": 95,
    "start_time": "2022-10-01T04:18:36.032Z"
   },
   {
    "duration": 16,
    "start_time": "2022-10-01T04:19:18.880Z"
   },
   {
    "duration": 22,
    "start_time": "2022-10-01T04:26:48.509Z"
   },
   {
    "duration": 7,
    "start_time": "2022-10-01T04:28:50.650Z"
   },
   {
    "duration": 6,
    "start_time": "2022-10-01T05:32:53.650Z"
   },
   {
    "duration": 15,
    "start_time": "2022-10-01T05:33:32.818Z"
   },
   {
    "duration": 14,
    "start_time": "2022-10-01T05:39:21.902Z"
   },
   {
    "duration": 10,
    "start_time": "2022-10-01T05:42:35.846Z"
   },
   {
    "duration": 21,
    "start_time": "2022-10-01T05:45:19.946Z"
   },
   {
    "duration": 7,
    "start_time": "2022-10-01T05:49:06.166Z"
   },
   {
    "duration": 16,
    "start_time": "2022-10-01T05:49:41.293Z"
   },
   {
    "duration": 7,
    "start_time": "2022-10-01T05:53:53.517Z"
   },
   {
    "duration": 7,
    "start_time": "2022-10-01T05:56:01.746Z"
   },
   {
    "duration": 4,
    "start_time": "2022-10-01T05:56:39.888Z"
   },
   {
    "duration": 4,
    "start_time": "2022-10-01T05:57:06.504Z"
   },
   {
    "duration": 7,
    "start_time": "2022-10-01T05:57:31.894Z"
   },
   {
    "duration": 27,
    "start_time": "2022-10-01T06:05:20.594Z"
   },
   {
    "duration": 4,
    "start_time": "2022-10-01T06:06:34.749Z"
   },
   {
    "duration": 1461,
    "start_time": "2022-10-01T06:06:46.258Z"
   },
   {
    "duration": 59,
    "start_time": "2022-10-01T06:06:47.721Z"
   },
   {
    "duration": 14,
    "start_time": "2022-10-01T06:06:47.782Z"
   },
   {
    "duration": 29,
    "start_time": "2022-10-01T06:06:47.798Z"
   },
   {
    "duration": 8,
    "start_time": "2022-10-01T06:06:47.829Z"
   },
   {
    "duration": 16,
    "start_time": "2022-10-01T06:06:47.839Z"
   },
   {
    "duration": 33,
    "start_time": "2022-10-01T06:06:47.857Z"
   },
   {
    "duration": 26,
    "start_time": "2022-10-01T06:06:47.892Z"
   },
   {
    "duration": 27,
    "start_time": "2022-10-01T06:06:47.920Z"
   },
   {
    "duration": 33,
    "start_time": "2022-10-01T06:06:47.949Z"
   },
   {
    "duration": 47,
    "start_time": "2022-10-01T06:06:47.983Z"
   },
   {
    "duration": 7,
    "start_time": "2022-10-01T06:06:48.032Z"
   },
   {
    "duration": 23,
    "start_time": "2022-10-01T06:06:48.041Z"
   },
   {
    "duration": 24,
    "start_time": "2022-10-01T06:06:48.066Z"
   },
   {
    "duration": 40,
    "start_time": "2022-10-01T06:06:48.092Z"
   },
   {
    "duration": 24,
    "start_time": "2022-10-01T17:26:37.394Z"
   },
   {
    "duration": 82,
    "start_time": "2022-10-02T16:55:43.826Z"
   },
   {
    "duration": 1614,
    "start_time": "2022-10-02T16:56:07.476Z"
   },
   {
    "duration": 1508,
    "start_time": "2022-10-02T16:56:22.489Z"
   },
   {
    "duration": 178,
    "start_time": "2022-10-02T16:56:23.999Z"
   },
   {
    "duration": 14,
    "start_time": "2022-10-02T16:56:24.179Z"
   },
   {
    "duration": 23,
    "start_time": "2022-10-02T16:56:24.195Z"
   },
   {
    "duration": 5,
    "start_time": "2022-10-02T16:56:24.220Z"
   },
   {
    "duration": 6,
    "start_time": "2022-10-02T16:56:24.226Z"
   },
   {
    "duration": 14,
    "start_time": "2022-10-02T16:56:24.234Z"
   },
   {
    "duration": 14,
    "start_time": "2022-10-02T16:56:24.249Z"
   },
   {
    "duration": 34,
    "start_time": "2022-10-02T16:56:24.265Z"
   },
   {
    "duration": 20,
    "start_time": "2022-10-02T16:56:24.302Z"
   },
   {
    "duration": 16,
    "start_time": "2022-10-02T16:56:24.324Z"
   },
   {
    "duration": 6,
    "start_time": "2022-10-02T16:56:24.341Z"
   },
   {
    "duration": 9,
    "start_time": "2022-10-02T16:56:24.348Z"
   },
   {
    "duration": 39,
    "start_time": "2022-10-02T16:56:24.359Z"
   },
   {
    "duration": 26,
    "start_time": "2022-10-02T16:56:24.400Z"
   },
   {
    "duration": 32,
    "start_time": "2022-10-02T16:56:24.427Z"
   },
   {
    "duration": 37,
    "start_time": "2022-10-02T17:00:05.525Z"
   },
   {
    "duration": 1140,
    "start_time": "2022-10-02T17:03:00.058Z"
   },
   {
    "duration": 961,
    "start_time": "2022-10-02T17:03:19.443Z"
   },
   {
    "duration": 11,
    "start_time": "2022-10-02T17:05:02.107Z"
   },
   {
    "duration": 8,
    "start_time": "2022-10-02T17:12:47.126Z"
   },
   {
    "duration": 16,
    "start_time": "2022-10-02T17:13:56.816Z"
   },
   {
    "duration": 14,
    "start_time": "2022-10-02T17:14:07.565Z"
   },
   {
    "duration": 69,
    "start_time": "2022-10-02T17:22:44.846Z"
   },
   {
    "duration": 17,
    "start_time": "2022-10-02T17:23:25.840Z"
   },
   {
    "duration": 62,
    "start_time": "2022-10-02T17:23:33.629Z"
   },
   {
    "duration": 101,
    "start_time": "2022-10-02T17:27:21.705Z"
   },
   {
    "duration": 6,
    "start_time": "2022-10-02T17:31:36.159Z"
   },
   {
    "duration": 11,
    "start_time": "2022-10-02T17:41:40.231Z"
   },
   {
    "duration": 16,
    "start_time": "2022-10-02T17:43:00.296Z"
   },
   {
    "duration": 17,
    "start_time": "2022-10-02T17:43:44.011Z"
   },
   {
    "duration": 16,
    "start_time": "2022-10-02T17:47:05.092Z"
   },
   {
    "duration": 1304,
    "start_time": "2022-10-02T17:51:07.299Z"
   },
   {
    "duration": 14,
    "start_time": "2022-10-02T17:52:31.109Z"
   },
   {
    "duration": 68,
    "start_time": "2022-10-02T17:52:53.510Z"
   },
   {
    "duration": 72,
    "start_time": "2022-10-02T17:53:15.524Z"
   },
   {
    "duration": 20938,
    "start_time": "2022-10-02T18:00:48.339Z"
   },
   {
    "duration": 23,
    "start_time": "2022-10-02T18:02:45.231Z"
   },
   {
    "duration": 21193,
    "start_time": "2022-10-02T18:03:05.189Z"
   },
   {
    "duration": 20976,
    "start_time": "2022-10-02T18:04:34.181Z"
   },
   {
    "duration": 1498,
    "start_time": "2022-10-02T18:10:02.912Z"
   },
   {
    "duration": 64,
    "start_time": "2022-10-02T18:10:04.413Z"
   },
   {
    "duration": 16,
    "start_time": "2022-10-02T18:10:04.479Z"
   },
   {
    "duration": 28,
    "start_time": "2022-10-02T18:10:04.498Z"
   },
   {
    "duration": 13,
    "start_time": "2022-10-02T18:10:04.529Z"
   },
   {
    "duration": 14,
    "start_time": "2022-10-02T18:10:04.544Z"
   },
   {
    "duration": 14,
    "start_time": "2022-10-02T18:10:04.560Z"
   },
   {
    "duration": 31,
    "start_time": "2022-10-02T18:10:04.576Z"
   },
   {
    "duration": 11,
    "start_time": "2022-10-02T18:10:04.609Z"
   },
   {
    "duration": 20,
    "start_time": "2022-10-02T18:10:04.622Z"
   },
   {
    "duration": 52,
    "start_time": "2022-10-02T18:10:04.644Z"
   },
   {
    "duration": 7,
    "start_time": "2022-10-02T18:10:04.698Z"
   },
   {
    "duration": 16,
    "start_time": "2022-10-02T18:10:04.707Z"
   },
   {
    "duration": 15,
    "start_time": "2022-10-02T18:10:04.726Z"
   },
   {
    "duration": 37,
    "start_time": "2022-10-02T18:10:04.743Z"
   },
   {
    "duration": 44,
    "start_time": "2022-10-02T18:10:04.781Z"
   },
   {
    "duration": 1267,
    "start_time": "2022-10-02T18:10:04.827Z"
   },
   {
    "duration": 12,
    "start_time": "2022-10-02T18:10:06.096Z"
   },
   {
    "duration": 17,
    "start_time": "2022-10-02T18:10:06.196Z"
   },
   {
    "duration": 83,
    "start_time": "2022-10-02T18:10:06.215Z"
   },
   {
    "duration": 98,
    "start_time": "2022-10-02T18:10:06.300Z"
   },
   {
    "duration": 101,
    "start_time": "2022-10-02T18:10:06.403Z"
   },
   {
    "duration": 20,
    "start_time": "2022-10-02T18:10:06.506Z"
   },
   {
    "duration": 1581,
    "start_time": "2022-10-02T18:10:06.528Z"
   },
   {
    "duration": 14,
    "start_time": "2022-10-02T18:10:08.196Z"
   },
   {
    "duration": 88,
    "start_time": "2022-10-02T18:10:08.212Z"
   },
   {
    "duration": 16,
    "start_time": "2022-10-02T18:10:08.302Z"
   },
   {
    "duration": 126935,
    "start_time": "2022-10-02T18:10:08.395Z"
   },
   {
    "duration": 161151,
    "start_time": "2022-10-02T18:12:34.318Z"
   },
   {
    "duration": 13,
    "start_time": "2022-10-02T18:23:04.009Z"
   },
   {
    "duration": 224,
    "start_time": "2022-10-02T18:26:50.231Z"
   },
   {
    "duration": 1029,
    "start_time": "2022-10-02T18:27:11.805Z"
   },
   {
    "duration": 878,
    "start_time": "2022-10-02T18:28:11.836Z"
   },
   {
    "duration": 197,
    "start_time": "2022-10-02T18:28:41.740Z"
   },
   {
    "duration": 27,
    "start_time": "2022-10-02T18:34:11.915Z"
   },
   {
    "duration": 14,
    "start_time": "2022-10-02T18:41:40.595Z"
   },
   {
    "duration": 79,
    "start_time": "2022-10-02T18:41:48.033Z"
   },
   {
    "duration": 15,
    "start_time": "2022-10-02T18:41:55.033Z"
   },
   {
    "duration": 15,
    "start_time": "2022-10-02T18:42:08.115Z"
   },
   {
    "duration": 512,
    "start_time": "2022-10-02T18:44:22.997Z"
   },
   {
    "duration": 62,
    "start_time": "2022-10-02T18:45:46.973Z"
   },
   {
    "duration": 229,
    "start_time": "2022-10-02T18:53:58.472Z"
   },
   {
    "duration": 1245,
    "start_time": "2022-10-02T19:05:16.197Z"
   },
   {
    "duration": 81,
    "start_time": "2022-10-02T19:05:17.445Z"
   },
   {
    "duration": 12,
    "start_time": "2022-10-02T19:05:17.527Z"
   },
   {
    "duration": 20,
    "start_time": "2022-10-02T19:05:17.541Z"
   },
   {
    "duration": 4,
    "start_time": "2022-10-02T19:05:17.562Z"
   },
   {
    "duration": 33,
    "start_time": "2022-10-02T19:05:17.568Z"
   },
   {
    "duration": 13,
    "start_time": "2022-10-02T19:05:17.602Z"
   },
   {
    "duration": 15,
    "start_time": "2022-10-02T19:05:17.617Z"
   },
   {
    "duration": 22,
    "start_time": "2022-10-02T19:05:17.634Z"
   },
   {
    "duration": 27,
    "start_time": "2022-10-02T19:05:17.659Z"
   },
   {
    "duration": 22,
    "start_time": "2022-10-02T19:05:17.688Z"
   },
   {
    "duration": 6,
    "start_time": "2022-10-02T19:05:17.713Z"
   },
   {
    "duration": 17,
    "start_time": "2022-10-02T19:05:17.721Z"
   },
   {
    "duration": 16,
    "start_time": "2022-10-02T19:05:17.740Z"
   },
   {
    "duration": 44,
    "start_time": "2022-10-02T19:05:17.758Z"
   },
   {
    "duration": 30,
    "start_time": "2022-10-02T19:05:17.803Z"
   },
   {
    "duration": 968,
    "start_time": "2022-10-02T19:05:17.835Z"
   },
   {
    "duration": 98,
    "start_time": "2022-10-02T19:05:18.805Z"
   },
   {
    "duration": 109,
    "start_time": "2022-10-02T19:05:18.905Z"
   },
   {
    "duration": 69,
    "start_time": "2022-10-02T19:05:19.016Z"
   },
   {
    "duration": 103,
    "start_time": "2022-10-02T19:05:19.095Z"
   },
   {
    "duration": 107,
    "start_time": "2022-10-02T19:05:19.203Z"
   },
   {
    "duration": 32,
    "start_time": "2022-10-02T19:05:19.312Z"
   },
   {
    "duration": 1350,
    "start_time": "2022-10-02T19:05:19.345Z"
   },
   {
    "duration": 16,
    "start_time": "2022-10-02T19:05:20.697Z"
   },
   {
    "duration": 139,
    "start_time": "2022-10-02T19:05:20.715Z"
   },
   {
    "duration": 47,
    "start_time": "2022-10-02T19:05:20.856Z"
   },
   {
    "duration": 102,
    "start_time": "2022-10-02T19:05:20.906Z"
   },
   {
    "duration": 492,
    "start_time": "2022-10-02T19:05:21.009Z"
   },
   {
    "duration": 145,
    "start_time": "2022-10-02T19:05:21.503Z"
   },
   {
    "duration": 156509,
    "start_time": "2022-10-02T19:05:21.650Z"
   },
   {
    "duration": 186,
    "start_time": "2022-10-02T19:07:58.161Z"
   },
   {
    "duration": 49,
    "start_time": "2022-10-02T19:07:58.348Z"
   },
   {
    "duration": 52,
    "start_time": "2022-10-03T07:34:56.690Z"
   },
   {
    "duration": 1109,
    "start_time": "2022-10-03T07:35:21.616Z"
   },
   {
    "duration": 97,
    "start_time": "2022-10-03T07:35:22.727Z"
   },
   {
    "duration": 14,
    "start_time": "2022-10-03T07:35:22.826Z"
   },
   {
    "duration": 21,
    "start_time": "2022-10-03T07:35:22.843Z"
   },
   {
    "duration": 5,
    "start_time": "2022-10-03T07:35:22.866Z"
   },
   {
    "duration": 5,
    "start_time": "2022-10-03T07:35:22.873Z"
   },
   {
    "duration": 17,
    "start_time": "2022-10-03T07:35:22.880Z"
   },
   {
    "duration": 13,
    "start_time": "2022-10-03T07:35:22.898Z"
   },
   {
    "duration": 9,
    "start_time": "2022-10-03T07:35:22.939Z"
   },
   {
    "duration": 17,
    "start_time": "2022-10-03T07:35:22.950Z"
   },
   {
    "duration": 13,
    "start_time": "2022-10-03T07:35:22.968Z"
   },
   {
    "duration": 5,
    "start_time": "2022-10-03T07:35:22.982Z"
   },
   {
    "duration": 11,
    "start_time": "2022-10-03T07:35:22.988Z"
   },
   {
    "duration": 40,
    "start_time": "2022-10-03T07:35:23.001Z"
   },
   {
    "duration": 26,
    "start_time": "2022-10-03T07:35:23.043Z"
   },
   {
    "duration": 30,
    "start_time": "2022-10-03T07:35:23.070Z"
   },
   {
    "duration": 1140,
    "start_time": "2022-10-03T07:35:23.101Z"
   },
   {
    "duration": 11,
    "start_time": "2022-10-03T07:35:24.242Z"
   },
   {
    "duration": 16,
    "start_time": "2022-10-03T07:35:24.255Z"
   },
   {
    "duration": 103,
    "start_time": "2022-10-03T07:35:24.273Z"
   },
   {
    "duration": 162,
    "start_time": "2022-10-03T07:35:24.378Z"
   },
   {
    "duration": 6,
    "start_time": "2022-10-03T07:35:24.541Z"
   },
   {
    "duration": 15,
    "start_time": "2022-10-03T07:35:24.548Z"
   },
   {
    "duration": 1376,
    "start_time": "2022-10-03T07:35:24.565Z"
   },
   {
    "duration": 12,
    "start_time": "2022-10-03T07:35:25.943Z"
   },
   {
    "duration": 87,
    "start_time": "2022-10-03T07:35:25.956Z"
   },
   {
    "duration": 97,
    "start_time": "2022-10-03T07:35:26.044Z"
   },
   {
    "duration": 107,
    "start_time": "2022-10-03T07:35:26.145Z"
   },
   {
    "duration": 585,
    "start_time": "2022-10-03T07:35:26.254Z"
   },
   {
    "duration": 139,
    "start_time": "2022-10-03T07:35:26.841Z"
   },
   {
    "duration": 155959,
    "start_time": "2022-10-03T07:35:26.982Z"
   },
   {
    "duration": 186,
    "start_time": "2022-10-03T07:38:02.942Z"
   },
   {
    "duration": 44,
    "start_time": "2022-10-03T07:38:03.129Z"
   }
  ],
  "kernelspec": {
   "display_name": "Python 3 (ipykernel)",
   "language": "python",
   "name": "python3"
  },
  "language_info": {
   "codemirror_mode": {
    "name": "ipython",
    "version": 3
   },
   "file_extension": ".py",
   "mimetype": "text/x-python",
   "name": "python",
   "nbconvert_exporter": "python",
   "pygments_lexer": "ipython3",
   "version": "3.9.15"
  },
  "toc": {
   "base_numbering": 1,
   "nav_menu": {},
   "number_sections": true,
   "sideBar": true,
   "skip_h1_title": true,
   "title_cell": "Содержание",
   "title_sidebar": "Contents",
   "toc_cell": true,
   "toc_position": {
    "height": "calc(100% - 180px)",
    "left": "10px",
    "top": "150px",
    "width": "286.075px"
   },
   "toc_section_display": true,
   "toc_window_display": false
  }
 },
 "nbformat": 4,
 "nbformat_minor": 2
}
