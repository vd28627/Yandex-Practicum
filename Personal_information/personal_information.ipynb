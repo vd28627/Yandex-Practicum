{
 "cells": [
  {
   "cell_type": "markdown",
   "metadata": {},
   "source": [
    "# Защита персональных данных клиентов"
   ]
  },
  {
   "cell_type": "markdown",
   "metadata": {},
   "source": [
    "## Загрузка данных"
   ]
  },
  {
   "cell_type": "markdown",
   "metadata": {},
   "source": [
    "Импортируем библиотеки"
   ]
  },
  {
   "cell_type": "code",
   "execution_count": 1,
   "metadata": {},
   "outputs": [],
   "source": [
    "import pandas as pd\n",
    "import numpy as np\n",
    "import seaborn as sns\n",
    "from sklearn.model_selection import train_test_split\n",
    "import matplotlib.pyplot as plt\n",
    "from sklearn.datasets import make_spd_matrix\n",
    "from sklearn.metrics import r2_score"
   ]
  },
  {
   "cell_type": "markdown",
   "metadata": {},
   "source": [
    "Загрузим данные из файла, посмотрим содержимое"
   ]
  },
  {
   "cell_type": "code",
   "execution_count": 2,
   "metadata": {},
   "outputs": [
    {
     "data": {
      "text/html": [
       "<div>\n",
       "<style scoped>\n",
       "    .dataframe tbody tr th:only-of-type {\n",
       "        vertical-align: middle;\n",
       "    }\n",
       "\n",
       "    .dataframe tbody tr th {\n",
       "        vertical-align: top;\n",
       "    }\n",
       "\n",
       "    .dataframe thead th {\n",
       "        text-align: right;\n",
       "    }\n",
       "</style>\n",
       "<table border=\"1\" class=\"dataframe\">\n",
       "  <thead>\n",
       "    <tr style=\"text-align: right;\">\n",
       "      <th></th>\n",
       "      <th>Пол</th>\n",
       "      <th>Возраст</th>\n",
       "      <th>Зарплата</th>\n",
       "      <th>Члены семьи</th>\n",
       "      <th>Страховые выплаты</th>\n",
       "    </tr>\n",
       "  </thead>\n",
       "  <tbody>\n",
       "    <tr>\n",
       "      <th>0</th>\n",
       "      <td>1</td>\n",
       "      <td>41.0</td>\n",
       "      <td>49600.0</td>\n",
       "      <td>1</td>\n",
       "      <td>0</td>\n",
       "    </tr>\n",
       "    <tr>\n",
       "      <th>1</th>\n",
       "      <td>0</td>\n",
       "      <td>46.0</td>\n",
       "      <td>38000.0</td>\n",
       "      <td>1</td>\n",
       "      <td>1</td>\n",
       "    </tr>\n",
       "    <tr>\n",
       "      <th>2</th>\n",
       "      <td>0</td>\n",
       "      <td>29.0</td>\n",
       "      <td>21000.0</td>\n",
       "      <td>0</td>\n",
       "      <td>0</td>\n",
       "    </tr>\n",
       "    <tr>\n",
       "      <th>3</th>\n",
       "      <td>0</td>\n",
       "      <td>21.0</td>\n",
       "      <td>41700.0</td>\n",
       "      <td>2</td>\n",
       "      <td>0</td>\n",
       "    </tr>\n",
       "    <tr>\n",
       "      <th>4</th>\n",
       "      <td>1</td>\n",
       "      <td>28.0</td>\n",
       "      <td>26100.0</td>\n",
       "      <td>0</td>\n",
       "      <td>0</td>\n",
       "    </tr>\n",
       "  </tbody>\n",
       "</table>\n",
       "</div>"
      ],
      "text/plain": [
       "   Пол  Возраст  Зарплата  Члены семьи  Страховые выплаты\n",
       "0    1     41.0   49600.0            1                  0\n",
       "1    0     46.0   38000.0            1                  1\n",
       "2    0     29.0   21000.0            0                  0\n",
       "3    0     21.0   41700.0            2                  0\n",
       "4    1     28.0   26100.0            0                  0"
      ]
     },
     "metadata": {},
     "output_type": "display_data"
    }
   ],
   "source": [
    "data = pd.read_csv('/datasets/insurance.csv')\n",
    "display(data.head())"
   ]
  },
  {
   "cell_type": "markdown",
   "metadata": {},
   "source": [
    "Посмотрим информацию о датафрейме"
   ]
  },
  {
   "cell_type": "code",
   "execution_count": 3,
   "metadata": {},
   "outputs": [
    {
     "name": "stdout",
     "output_type": "stream",
     "text": [
      "<class 'pandas.core.frame.DataFrame'>\n",
      "RangeIndex: 5000 entries, 0 to 4999\n",
      "Data columns (total 5 columns):\n",
      " #   Column             Non-Null Count  Dtype  \n",
      "---  ------             --------------  -----  \n",
      " 0   Пол                5000 non-null   int64  \n",
      " 1   Возраст            5000 non-null   float64\n",
      " 2   Зарплата           5000 non-null   float64\n",
      " 3   Члены семьи        5000 non-null   int64  \n",
      " 4   Страховые выплаты  5000 non-null   int64  \n",
      "dtypes: float64(2), int64(3)\n",
      "memory usage: 195.4 KB\n"
     ]
    }
   ],
   "source": [
    "data.info()"
   ]
  },
  {
   "cell_type": "markdown",
   "metadata": {},
   "source": [
    "Пропусков нет. У столбцов \"Возраст\" и \"Зарплата\", тип данных- float, при этом значения там целочисленные. Изменим тип данных на int64"
   ]
  },
  {
   "cell_type": "code",
   "execution_count": 4,
   "metadata": {},
   "outputs": [
    {
     "name": "stdout",
     "output_type": "stream",
     "text": [
      "<class 'pandas.core.frame.DataFrame'>\n",
      "RangeIndex: 5000 entries, 0 to 4999\n",
      "Data columns (total 5 columns):\n",
      " #   Column             Non-Null Count  Dtype\n",
      "---  ------             --------------  -----\n",
      " 0   Пол                5000 non-null   int64\n",
      " 1   Возраст            5000 non-null   int64\n",
      " 2   Зарплата           5000 non-null   int64\n",
      " 3   Члены семьи        5000 non-null   int64\n",
      " 4   Страховые выплаты  5000 non-null   int64\n",
      "dtypes: int64(5)\n",
      "memory usage: 195.4 KB\n"
     ]
    }
   ],
   "source": [
    "data['Возраст'] = data['Возраст'].astype('int64')\n",
    "data['Зарплата'] = data['Зарплата'].astype('int64')\n",
    "data.info()"
   ]
  },
  {
   "cell_type": "markdown",
   "metadata": {},
   "source": [
    "Проверим на дубликаты."
   ]
  },
  {
   "cell_type": "code",
   "execution_count": 5,
   "metadata": {},
   "outputs": [
    {
     "data": {
      "text/plain": [
       "153"
      ]
     },
     "metadata": {},
     "output_type": "display_data"
    }
   ],
   "source": [
    "display(data.duplicated().sum())"
   ]
  },
  {
   "cell_type": "markdown",
   "metadata": {},
   "source": [
    "Имеем 153 дубликата. Удалим их."
   ]
  },
  {
   "cell_type": "code",
   "execution_count": 6,
   "metadata": {},
   "outputs": [
    {
     "data": {
      "text/plain": [
       "(4847, 5)"
      ]
     },
     "metadata": {},
     "output_type": "display_data"
    }
   ],
   "source": [
    "data = data.drop_duplicates().reset_index(drop=True)\n",
    "display(data.shape)"
   ]
  },
  {
   "cell_type": "code",
   "execution_count": 7,
   "metadata": {},
   "outputs": [
    {
     "data": {
      "text/html": [
       "<div>\n",
       "<style scoped>\n",
       "    .dataframe tbody tr th:only-of-type {\n",
       "        vertical-align: middle;\n",
       "    }\n",
       "\n",
       "    .dataframe tbody tr th {\n",
       "        vertical-align: top;\n",
       "    }\n",
       "\n",
       "    .dataframe thead th {\n",
       "        text-align: right;\n",
       "    }\n",
       "</style>\n",
       "<table border=\"1\" class=\"dataframe\">\n",
       "  <thead>\n",
       "    <tr style=\"text-align: right;\">\n",
       "      <th></th>\n",
       "      <th>Пол</th>\n",
       "      <th>Возраст</th>\n",
       "      <th>Зарплата</th>\n",
       "      <th>Члены семьи</th>\n",
       "      <th>Страховые выплаты</th>\n",
       "    </tr>\n",
       "  </thead>\n",
       "  <tbody>\n",
       "    <tr>\n",
       "      <th>count</th>\n",
       "      <td>4847.000000</td>\n",
       "      <td>4847.000000</td>\n",
       "      <td>4847.000000</td>\n",
       "      <td>4847.000000</td>\n",
       "      <td>4847.000000</td>\n",
       "    </tr>\n",
       "    <tr>\n",
       "      <th>mean</th>\n",
       "      <td>0.498453</td>\n",
       "      <td>31.023932</td>\n",
       "      <td>39895.811223</td>\n",
       "      <td>1.203425</td>\n",
       "      <td>0.152259</td>\n",
       "    </tr>\n",
       "    <tr>\n",
       "      <th>std</th>\n",
       "      <td>0.500049</td>\n",
       "      <td>8.487995</td>\n",
       "      <td>9972.952441</td>\n",
       "      <td>1.098664</td>\n",
       "      <td>0.468934</td>\n",
       "    </tr>\n",
       "    <tr>\n",
       "      <th>min</th>\n",
       "      <td>0.000000</td>\n",
       "      <td>18.000000</td>\n",
       "      <td>5300.000000</td>\n",
       "      <td>0.000000</td>\n",
       "      <td>0.000000</td>\n",
       "    </tr>\n",
       "    <tr>\n",
       "      <th>25%</th>\n",
       "      <td>0.000000</td>\n",
       "      <td>24.000000</td>\n",
       "      <td>33200.000000</td>\n",
       "      <td>0.000000</td>\n",
       "      <td>0.000000</td>\n",
       "    </tr>\n",
       "    <tr>\n",
       "      <th>50%</th>\n",
       "      <td>0.000000</td>\n",
       "      <td>30.000000</td>\n",
       "      <td>40200.000000</td>\n",
       "      <td>1.000000</td>\n",
       "      <td>0.000000</td>\n",
       "    </tr>\n",
       "    <tr>\n",
       "      <th>75%</th>\n",
       "      <td>1.000000</td>\n",
       "      <td>37.000000</td>\n",
       "      <td>46600.000000</td>\n",
       "      <td>2.000000</td>\n",
       "      <td>0.000000</td>\n",
       "    </tr>\n",
       "    <tr>\n",
       "      <th>max</th>\n",
       "      <td>1.000000</td>\n",
       "      <td>65.000000</td>\n",
       "      <td>79000.000000</td>\n",
       "      <td>6.000000</td>\n",
       "      <td>5.000000</td>\n",
       "    </tr>\n",
       "  </tbody>\n",
       "</table>\n",
       "</div>"
      ],
      "text/plain": [
       "               Пол      Возраст      Зарплата  Члены семьи  Страховые выплаты\n",
       "count  4847.000000  4847.000000   4847.000000  4847.000000        4847.000000\n",
       "mean      0.498453    31.023932  39895.811223     1.203425           0.152259\n",
       "std       0.500049     8.487995   9972.952441     1.098664           0.468934\n",
       "min       0.000000    18.000000   5300.000000     0.000000           0.000000\n",
       "25%       0.000000    24.000000  33200.000000     0.000000           0.000000\n",
       "50%       0.000000    30.000000  40200.000000     1.000000           0.000000\n",
       "75%       1.000000    37.000000  46600.000000     2.000000           0.000000\n",
       "max       1.000000    65.000000  79000.000000     6.000000           5.000000"
      ]
     },
     "metadata": {},
     "output_type": "display_data"
    }
   ],
   "source": [
    "display(data.describe())"
   ]
  },
  {
   "cell_type": "markdown",
   "metadata": {},
   "source": [
    "Аномальных значений нет. Возраст- от 18 до 65, зарплата- от 5300 до 79000. Можем приступать к задаче."
   ]
  },
  {
   "cell_type": "markdown",
   "metadata": {},
   "source": [
    "**Вывод:**\n",
    "1) Импортировали библиотеки, загрузили данные.\n",
    "\n",
    "2) Провели предобработку, удалили дубликаты."
   ]
  },
  {
   "cell_type": "markdown",
   "metadata": {},
   "source": [
    "Построим гистограммы:"
   ]
  },
  {
   "cell_type": "code",
   "execution_count": 8,
   "metadata": {
    "scrolled": false
   },
   "outputs": [
    {
     "data": {
      "text/plain": [
       "'Возраст'"
      ]
     },
     "metadata": {},
     "output_type": "display_data"
    },
    {
     "data": {
      "image/png": "[encoded data removed]",
      "text/plain": [
       "<Figure size 432x288 with 1 Axes>"
      ]
     },
     "metadata": {
      "needs_background": "light"
     },
     "output_type": "display_data"
    },
    {
     "data": {
      "text/plain": [
       "'Зарплата'"
      ]
     },
     "metadata": {},
     "output_type": "display_data"
    },
    {
     "data": {
      "image/png": "[encoded data removed]",
      "text/plain": [
       "<Figure size 432x288 with 1 Axes>"
      ]
     },
     "metadata": {
      "needs_background": "light"
     },
     "output_type": "display_data"
    },
    {
     "data": {
      "text/plain": [
       "'Члены семьи'"
      ]
     },
     "metadata": {},
     "output_type": "display_data"
    },
    {
     "data": {
      "image/png": "[encoded data removed]",
      "text/plain": [
       "<Figure size 432x288 with 1 Axes>"
      ]
     },
     "metadata": {
      "needs_background": "light"
     },
     "output_type": "display_data"
    },
    {
     "data": {
      "text/plain": [
       "'Страховые выплаты'"
      ]
     },
     "metadata": {},
     "output_type": "display_data"
    },
    {
     "data": {
      "image/png": "[encoded data removed]",
      "text/plain": [
       "<Figure size 432x288 with 1 Axes>"
      ]
     },
     "metadata": {
      "needs_background": "light"
     },
     "output_type": "display_data"
    }
   ],
   "source": [
    "for i in data.iloc[:,[1,2,3,4]].columns:\n",
    "    display(i)\n",
    "    data[i].hist(bins=48)\n",
    "    plt.show()"
   ]
  },
  {
   "cell_type": "markdown",
   "metadata": {},
   "source": [
    "1) Возраст- количество клиентов максимальное в возрасте примерно до 40 лет, потом начинает убывать. Нормальное распределение.\n",
    "\n",
    "2) Большинство клиентов имеет зарплату 40-45 тыс.р. Нормальное распределение\n",
    "\n",
    "3) У большинства клиентов от 0 до 2 членов семьи.\n",
    "\n",
    "4) Абсолютное большинство клиентов не получало страховые выплаты. Большинство из тех кто выплаты получал, получали только одну выплату.\n",
    "\n",
    "Построим круговые диаграммы для столбцов \"страховые выплаты\" и \"члены семьи\"."
   ]
  },
  {
   "cell_type": "code",
   "execution_count": 9,
   "metadata": {},
   "outputs": [
    {
     "data": {
      "image/png": "[encoded data removed]",
      "text/plain": [
       "<Figure size 504x504 with 1 Axes>"
      ]
     },
     "metadata": {},
     "output_type": "display_data"
    },
    {
     "data": {
      "image/png": "[encoded data removed]",
      "text/plain": [
       "<Figure size 504x504 with 1 Axes>"
      ]
     },
     "metadata": {},
     "output_type": "display_data"
    }
   ],
   "source": [
    "for i in data.iloc[:,[3,4]].columns:\n",
    "    plt.figure(figsize=(7, 7))\n",
    "    data[i].value_counts().plot(kind='pie', autopct='%1.0f%%', labeldistance=None, legend=True)\n",
    "    plt.show()"
   ]
  },
  {
   "cell_type": "markdown",
   "metadata": {},
   "source": [
    "1) 87% клиентов имеют от 0 до 2 членов семьи.\n",
    "\n",
    "2) 88% клиентов не получали страховых выплат, 9% получали по 1 страховой выплате."
   ]
  },
  {
   "cell_type": "markdown",
   "metadata": {},
   "source": [
    "## Умножение матриц"
   ]
  },
  {
   "cell_type": "markdown",
   "metadata": {},
   "source": [
    "Обозначения:\n",
    "\n",
    "- $X$ — матрица признаков (нулевой столбец состоит из единиц)\n",
    "\n",
    "- $y$ — вектор целевого признака\n",
    "\n",
    "- $P$ — матрица, на которую умножаются признаки\n",
    "\n",
    "- $w$ — вектор весов линейной регрессии (нулевой элемент равен сдвигу)"
   ]
  },
  {
   "cell_type": "markdown",
   "metadata": {},
   "source": [
    "Предсказания:\n",
    "\n",
    "$$\n",
    "a = Xw\n",
    "$$\n",
    "\n",
    "Задача обучения:\n",
    "\n",
    "$$\n",
    "w = \\arg\\min_w MSE(Xw, y)\n",
    "$$\n",
    "\n",
    "Формула обучения:\n",
    "\n",
    "$$\n",
    "w = (X^T X)^{-1} X^T y\n",
    "$$"
   ]
  },
  {
   "cell_type": "markdown",
   "metadata": {},
   "source": [
    "**Ответ:** Не изменится\n",
    "\n",
    "**Обоснование:** Обозначим обратимую матрицу как P. Формула обучения, в которой мы умножили исходную матрицу на обратимую, будет выглядеть так:\n",
    "$ w'=((XP)^{T}(XP))^{-1}(XP)^{T}y $\n",
    "\n",
    "Преобразуем формулу:\n",
    "\n",
    "$((XP)^{T}(XP))^{-1}(XP)^{T}y = (P^{T}X^{T}XP)^{-1}P^{T}X^{T}y = P^{-1}(X^{T}X)^{-1}P^{T^{-1}}P^{T}X^{T}y = P^{-1}w $\n",
    "\n",
    "Таким образом, $ w = P^{-1}w $\n",
    "\n",
    "Подставим это в формулу предсказаний:\n",
    "\n",
    "$a'= XP*w' = XPP^{-1}w = Xw = a$\n",
    "\n",
    "Получается, умножение исходной матрицы на обратимую, не влияет на предсказания."
   ]
  },
  {
   "cell_type": "markdown",
   "metadata": {},
   "source": [
    "**Вывод:**\n",
    "\n",
    "Качество линейной регрессии не изменится"
   ]
  },
  {
   "cell_type": "markdown",
   "metadata": {},
   "source": [
    "## Алгоритм преобразования"
   ]
  },
  {
   "cell_type": "markdown",
   "metadata": {},
   "source": [
    "**Алгоритм**\n",
    "\n",
    "Сгенерируем случайную обратимую матрицу P, и умножим на нее исходную матрицу X. В качестве матрицы X, у нас будет выступать матрица с признаками, которую мы выделим из исходного датафрейма (будет сохранена в переменной features).\n",
    "Результат ее умножения- features_P."
   ]
  },
  {
   "cell_type": "markdown",
   "metadata": {},
   "source": [
    "**Обоснование**\n",
    "\n",
    "Как было доказано выше, выполнив впоследствии умножение на матрицу $P^{-1}$, сможем декодировать признаки из матрицы $XP$."
   ]
  },
  {
   "cell_type": "markdown",
   "metadata": {},
   "source": [
    "**Вывод:**\n",
    "\n",
    "Выбрали алгоритм, далее проверим его."
   ]
  },
  {
   "cell_type": "markdown",
   "metadata": {},
   "source": [
    "## Проверка алгоритма"
   ]
  },
  {
   "cell_type": "markdown",
   "metadata": {},
   "source": [
    "Первым делом, отделим целевой признак."
   ]
  },
  {
   "cell_type": "code",
   "execution_count": 10,
   "metadata": {},
   "outputs": [
    {
     "data": {
      "text/html": [
       "<div>\n",
       "<style scoped>\n",
       "    .dataframe tbody tr th:only-of-type {\n",
       "        vertical-align: middle;\n",
       "    }\n",
       "\n",
       "    .dataframe tbody tr th {\n",
       "        vertical-align: top;\n",
       "    }\n",
       "\n",
       "    .dataframe thead th {\n",
       "        text-align: right;\n",
       "    }\n",
       "</style>\n",
       "<table border=\"1\" class=\"dataframe\">\n",
       "  <thead>\n",
       "    <tr style=\"text-align: right;\">\n",
       "      <th></th>\n",
       "      <th>Пол</th>\n",
       "      <th>Возраст</th>\n",
       "      <th>Зарплата</th>\n",
       "      <th>Члены семьи</th>\n",
       "    </tr>\n",
       "  </thead>\n",
       "  <tbody>\n",
       "    <tr>\n",
       "      <th>0</th>\n",
       "      <td>1</td>\n",
       "      <td>41</td>\n",
       "      <td>49600</td>\n",
       "      <td>1</td>\n",
       "    </tr>\n",
       "    <tr>\n",
       "      <th>1</th>\n",
       "      <td>0</td>\n",
       "      <td>46</td>\n",
       "      <td>38000</td>\n",
       "      <td>1</td>\n",
       "    </tr>\n",
       "    <tr>\n",
       "      <th>2</th>\n",
       "      <td>0</td>\n",
       "      <td>29</td>\n",
       "      <td>21000</td>\n",
       "      <td>0</td>\n",
       "    </tr>\n",
       "    <tr>\n",
       "      <th>3</th>\n",
       "      <td>0</td>\n",
       "      <td>21</td>\n",
       "      <td>41700</td>\n",
       "      <td>2</td>\n",
       "    </tr>\n",
       "    <tr>\n",
       "      <th>4</th>\n",
       "      <td>1</td>\n",
       "      <td>28</td>\n",
       "      <td>26100</td>\n",
       "      <td>0</td>\n",
       "    </tr>\n",
       "  </tbody>\n",
       "</table>\n",
       "</div>"
      ],
      "text/plain": [
       "   Пол  Возраст  Зарплата  Члены семьи\n",
       "0    1       41     49600            1\n",
       "1    0       46     38000            1\n",
       "2    0       29     21000            0\n",
       "3    0       21     41700            2\n",
       "4    1       28     26100            0"
      ]
     },
     "metadata": {},
     "output_type": "display_data"
    },
    {
     "data": {
      "text/plain": [
       "0    0\n",
       "1    1\n",
       "2    0\n",
       "3    0\n",
       "4    0\n",
       "Name: Страховые выплаты, dtype: int64"
      ]
     },
     "metadata": {},
     "output_type": "display_data"
    }
   ],
   "source": [
    "features = data.drop('Страховые выплаты', axis=1)\n",
    "target = data['Страховые выплаты']\n",
    "display(features.head())\n",
    "display(target.head())"
   ]
  },
  {
   "cell_type": "markdown",
   "metadata": {},
   "source": [
    "Разобьем исходные данные на обучающую и тестовую выборку. Проверим результат."
   ]
  },
  {
   "cell_type": "code",
   "execution_count": 11,
   "metadata": {},
   "outputs": [
    {
     "data": {
      "text/plain": [
       "3635"
      ]
     },
     "metadata": {},
     "output_type": "display_data"
    },
    {
     "data": {
      "text/plain": [
       "1212"
      ]
     },
     "metadata": {},
     "output_type": "display_data"
    },
    {
     "data": {
      "text/plain": [
       "3635"
      ]
     },
     "metadata": {},
     "output_type": "display_data"
    },
    {
     "data": {
      "text/plain": [
       "1212"
      ]
     },
     "metadata": {},
     "output_type": "display_data"
    }
   ],
   "source": [
    "features_train, features_test, target_train, target_test = train_test_split(features, target,\n",
    "                                                                            test_size=0.25, random_state=1234)\n",
    "display(features_train.shape[0], features_test.shape[0], target_train.shape[0], target_test.shape[0])"
   ]
  },
  {
   "cell_type": "markdown",
   "metadata": {},
   "source": [
    "Выборки создали корректно. Теперь создадим обратимую матрицу:"
   ]
  },
  {
   "cell_type": "code",
   "execution_count": 12,
   "metadata": {},
   "outputs": [
    {
     "data": {
      "text/plain": [
       "array([[1, 8, 0, 3],\n",
       "       [2, 0, 5, 1],\n",
       "       [5, 6, 3, 0],\n",
       "       [9, 2, 0, 7]])"
      ]
     },
     "metadata": {},
     "output_type": "display_data"
    }
   ],
   "source": [
    "loc = np.random.randint(2,5)\n",
    "std = np.random.randint(2,5)\n",
    "P = np.random.normal(loc, std, size=(4,4)).astype('int64')\n",
    "display(P)"
   ]
  },
  {
   "cell_type": "markdown",
   "metadata": {},
   "source": [
    "Проверим ее на обратимость:"
   ]
  },
  {
   "cell_type": "code",
   "execution_count": 13,
   "metadata": {},
   "outputs": [
    {
     "data": {
      "text/plain": [
       "'Матрица обратима'"
      ]
     },
     "metadata": {},
     "output_type": "display_data"
    }
   ],
   "source": [
    "try:\n",
    "    np.linalg.inv(P)\n",
    "    display('Матрица обратима')\n",
    "except:\n",
    "    display('Матрица не обратима')"
   ]
  },
  {
   "cell_type": "markdown",
   "metadata": {},
   "source": [
    "Теперь умножим матрицу с признаками на только что сгенерированную матрицу:"
   ]
  },
  {
   "cell_type": "code",
   "execution_count": 14,
   "metadata": {},
   "outputs": [
    {
     "data": {
      "text/html": [
       "<div>\n",
       "<style scoped>\n",
       "    .dataframe tbody tr th:only-of-type {\n",
       "        vertical-align: middle;\n",
       "    }\n",
       "\n",
       "    .dataframe tbody tr th {\n",
       "        vertical-align: top;\n",
       "    }\n",
       "\n",
       "    .dataframe thead th {\n",
       "        text-align: right;\n",
       "    }\n",
       "</style>\n",
       "<table border=\"1\" class=\"dataframe\">\n",
       "  <thead>\n",
       "    <tr style=\"text-align: right;\">\n",
       "      <th></th>\n",
       "      <th>0</th>\n",
       "      <th>1</th>\n",
       "      <th>2</th>\n",
       "      <th>3</th>\n",
       "    </tr>\n",
       "  </thead>\n",
       "  <tbody>\n",
       "    <tr>\n",
       "      <th>0</th>\n",
       "      <td>248092</td>\n",
       "      <td>297610</td>\n",
       "      <td>149005</td>\n",
       "      <td>51</td>\n",
       "    </tr>\n",
       "    <tr>\n",
       "      <th>1</th>\n",
       "      <td>190101</td>\n",
       "      <td>228002</td>\n",
       "      <td>114230</td>\n",
       "      <td>53</td>\n",
       "    </tr>\n",
       "    <tr>\n",
       "      <th>2</th>\n",
       "      <td>105058</td>\n",
       "      <td>126000</td>\n",
       "      <td>63145</td>\n",
       "      <td>29</td>\n",
       "    </tr>\n",
       "    <tr>\n",
       "      <th>3</th>\n",
       "      <td>208560</td>\n",
       "      <td>250204</td>\n",
       "      <td>125205</td>\n",
       "      <td>35</td>\n",
       "    </tr>\n",
       "    <tr>\n",
       "      <th>4</th>\n",
       "      <td>130557</td>\n",
       "      <td>156608</td>\n",
       "      <td>78440</td>\n",
       "      <td>31</td>\n",
       "    </tr>\n",
       "  </tbody>\n",
       "</table>\n",
       "</div>"
      ],
      "text/plain": [
       "        0       1       2   3\n",
       "0  248092  297610  149005  51\n",
       "1  190101  228002  114230  53\n",
       "2  105058  126000   63145  29\n",
       "3  208560  250204  125205  35\n",
       "4  130557  156608   78440  31"
      ]
     },
     "metadata": {},
     "output_type": "display_data"
    }
   ],
   "source": [
    "features_P = features@P\n",
    "display(features_P.head())"
   ]
  },
  {
   "cell_type": "markdown",
   "metadata": {},
   "source": [
    "Проверим результат умножения на обратимую матрицу, и убедимся, что удалось получить исходные признаки."
   ]
  },
  {
   "cell_type": "code",
   "execution_count": 15,
   "metadata": {},
   "outputs": [
    {
     "data": {
      "text/html": [
       "<div>\n",
       "<style scoped>\n",
       "    .dataframe tbody tr th:only-of-type {\n",
       "        vertical-align: middle;\n",
       "    }\n",
       "\n",
       "    .dataframe tbody tr th {\n",
       "        vertical-align: top;\n",
       "    }\n",
       "\n",
       "    .dataframe thead th {\n",
       "        text-align: right;\n",
       "    }\n",
       "</style>\n",
       "<table border=\"1\" class=\"dataframe\">\n",
       "  <thead>\n",
       "    <tr style=\"text-align: right;\">\n",
       "      <th></th>\n",
       "      <th>0</th>\n",
       "      <th>1</th>\n",
       "      <th>2</th>\n",
       "      <th>3</th>\n",
       "    </tr>\n",
       "  </thead>\n",
       "  <tbody>\n",
       "    <tr>\n",
       "      <th>0</th>\n",
       "      <td>1</td>\n",
       "      <td>40</td>\n",
       "      <td>49599</td>\n",
       "      <td>1</td>\n",
       "    </tr>\n",
       "    <tr>\n",
       "      <th>1</th>\n",
       "      <td>0</td>\n",
       "      <td>45</td>\n",
       "      <td>38000</td>\n",
       "      <td>1</td>\n",
       "    </tr>\n",
       "    <tr>\n",
       "      <th>2</th>\n",
       "      <td>0</td>\n",
       "      <td>28</td>\n",
       "      <td>21000</td>\n",
       "      <td>0</td>\n",
       "    </tr>\n",
       "    <tr>\n",
       "      <th>3</th>\n",
       "      <td>0</td>\n",
       "      <td>20</td>\n",
       "      <td>41700</td>\n",
       "      <td>2</td>\n",
       "    </tr>\n",
       "    <tr>\n",
       "      <th>4</th>\n",
       "      <td>1</td>\n",
       "      <td>27</td>\n",
       "      <td>26100</td>\n",
       "      <td>0</td>\n",
       "    </tr>\n",
       "  </tbody>\n",
       "</table>\n",
       "</div>"
      ],
      "text/plain": [
       "   0   1      2  3\n",
       "0  1  40  49599  1\n",
       "1  0  45  38000  1\n",
       "2  0  28  21000  0\n",
       "3  0  20  41700  2\n",
       "4  1  27  26100  0"
      ]
     },
     "metadata": {},
     "output_type": "display_data"
    },
    {
     "data": {
      "text/html": [
       "<div>\n",
       "<style scoped>\n",
       "    .dataframe tbody tr th:only-of-type {\n",
       "        vertical-align: middle;\n",
       "    }\n",
       "\n",
       "    .dataframe tbody tr th {\n",
       "        vertical-align: top;\n",
       "    }\n",
       "\n",
       "    .dataframe thead th {\n",
       "        text-align: right;\n",
       "    }\n",
       "</style>\n",
       "<table border=\"1\" class=\"dataframe\">\n",
       "  <thead>\n",
       "    <tr style=\"text-align: right;\">\n",
       "      <th></th>\n",
       "      <th>Пол</th>\n",
       "      <th>Возраст</th>\n",
       "      <th>Зарплата</th>\n",
       "      <th>Члены семьи</th>\n",
       "    </tr>\n",
       "  </thead>\n",
       "  <tbody>\n",
       "    <tr>\n",
       "      <th>0</th>\n",
       "      <td>1</td>\n",
       "      <td>41</td>\n",
       "      <td>49600</td>\n",
       "      <td>1</td>\n",
       "    </tr>\n",
       "    <tr>\n",
       "      <th>1</th>\n",
       "      <td>0</td>\n",
       "      <td>46</td>\n",
       "      <td>38000</td>\n",
       "      <td>1</td>\n",
       "    </tr>\n",
       "    <tr>\n",
       "      <th>2</th>\n",
       "      <td>0</td>\n",
       "      <td>29</td>\n",
       "      <td>21000</td>\n",
       "      <td>0</td>\n",
       "    </tr>\n",
       "    <tr>\n",
       "      <th>3</th>\n",
       "      <td>0</td>\n",
       "      <td>21</td>\n",
       "      <td>41700</td>\n",
       "      <td>2</td>\n",
       "    </tr>\n",
       "    <tr>\n",
       "      <th>4</th>\n",
       "      <td>1</td>\n",
       "      <td>28</td>\n",
       "      <td>26100</td>\n",
       "      <td>0</td>\n",
       "    </tr>\n",
       "  </tbody>\n",
       "</table>\n",
       "</div>"
      ],
      "text/plain": [
       "   Пол  Возраст  Зарплата  Члены семьи\n",
       "0    1       41     49600            1\n",
       "1    0       46     38000            1\n",
       "2    0       29     21000            0\n",
       "3    0       21     41700            2\n",
       "4    1       28     26100            0"
      ]
     },
     "metadata": {},
     "output_type": "display_data"
    }
   ],
   "source": [
    "check_matrix = features_P@np.linalg.inv(P)\n",
    "check_matrix = check_matrix.astype('int64')\n",
    "display(check_matrix.head())\n",
    "display(features.head())"
   ]
  },
  {
   "cell_type": "markdown",
   "metadata": {},
   "source": [
    "Результат соответствует ожиданиям. Разобьем шифрованные данные на выборки:"
   ]
  },
  {
   "cell_type": "code",
   "execution_count": 16,
   "metadata": {},
   "outputs": [],
   "source": [
    "features_P_train, features_P_test = train_test_split(features_P, test_size=0.25, random_state=1234)"
   ]
  },
  {
   "cell_type": "markdown",
   "metadata": {},
   "source": [
    "Теперь можем создать модель линейной регрессии."
   ]
  },
  {
   "cell_type": "code",
   "execution_count": 17,
   "metadata": {},
   "outputs": [],
   "source": [
    "class LinearRegression:\n",
    "    def fit(self, f_train, t_train):\n",
    "        f_train_matrix = np.concatenate((np.ones((f_train.shape[0], 1)), f_train), axis=1)\n",
    "        t_train_vector = np.array(t_train)       \n",
    "        w = np.linalg.inv(f_train_matrix.T @ f_train_matrix) @ f_train_matrix.T @ t_train_vector\n",
    "        self.w = w[1:]\n",
    "        self.w0 = w[0]\n",
    "        print(self.w)\n",
    "        print()\n",
    "        return self.w, self.w0  \n",
    " \n",
    "    def predict(self, f_test):\n",
    "        f_test_matrix = f_test.values\n",
    "        a = f_test_matrix @ self.w + self.w0 \n",
    "        return a    "
   ]
  },
  {
   "cell_type": "markdown",
   "metadata": {},
   "source": [
    "Проверим r2 на исходных данных"
   ]
  },
  {
   "cell_type": "code",
   "execution_count": 18,
   "metadata": {},
   "outputs": [
    {
     "name": "stdout",
     "output_type": "stream",
     "text": [
      "[-2.01781615e-03  3.63699909e-02 -9.82822884e-08 -1.24040362e-02]\n",
      "\n"
     ]
    },
    {
     "data": {
      "text/plain": [
       "'R2-Score:'"
      ]
     },
     "metadata": {},
     "output_type": "display_data"
    },
    {
     "data": {
      "text/plain": [
       "0.4214584788072573"
      ]
     },
     "metadata": {},
     "output_type": "display_data"
    }
   ],
   "source": [
    "model = LinearRegression()\n",
    "model.fit(features_train, target_train)\n",
    "predicted = pd.Series(model.predict(features_test))\n",
    "r2 = r2_score(target_test, predicted)\n",
    "display('R2-Score:', r2)"
   ]
  },
  {
   "cell_type": "markdown",
   "metadata": {},
   "source": [
    "Теперь проверим на шифрованных данных:"
   ]
  },
  {
   "cell_type": "code",
   "execution_count": 19,
   "metadata": {},
   "outputs": [
    {
     "name": "stdout",
     "output_type": "stream",
     "text": [
      "[-0.00365553 -0.00100046  0.00809345  0.00321381]\n",
      "\n"
     ]
    },
    {
     "data": {
      "text/plain": [
       "'R2-Score из зашифрованных данных'"
      ]
     },
     "metadata": {},
     "output_type": "display_data"
    },
    {
     "data": {
      "text/plain": [
       "0.42145847835117867"
      ]
     },
     "metadata": {},
     "output_type": "display_data"
    }
   ],
   "source": [
    "model.fit(features_P_train, target_train)\n",
    "predicted = pd.Series(model.predict(features_P_test))\n",
    "r2_cripto = r2_score(target_test, predicted)\n",
    "display('R2-Score из зашифрованных данных', r2_cripto)"
   ]
  },
  {
   "cell_type": "markdown",
   "metadata": {},
   "source": [
    "**Вывод:**\n",
    "1) Разбили данные на тестовую и обучающую выборки.\n",
    "\n",
    "2) Создали обратимую матрицу\n",
    "\n",
    "3) Создали алгоритм линейной регрессии и проверили гипотезу.\n",
    "\n",
    "4) Гипотеза о том, что данные можно шифровать с помощью умножения на обратимую матрицу, не теряя в качестве предсказаний, подтвердилась: r2-score практически идентичен."
   ]
  }
 ],
 "metadata": {
  "ExecuteTimeLog": [
   {
    "duration": 380,
    "start_time": "2022-11-14T14:00:17.377Z"
   },
   {
    "duration": 102,
    "start_time": "2022-11-14T14:00:48.193Z"
   },
   {
    "duration": 522,
    "start_time": "2022-11-16T14:26:18.482Z"
   },
   {
    "duration": 173,
    "start_time": "2022-11-16T14:26:20.482Z"
   },
   {
    "duration": 18,
    "start_time": "2022-11-16T14:26:57.217Z"
   },
   {
    "duration": 106,
    "start_time": "2022-11-16T14:28:36.805Z"
   },
   {
    "duration": 9,
    "start_time": "2022-11-16T14:30:21.883Z"
   },
   {
    "duration": 8,
    "start_time": "2022-11-16T14:30:30.010Z"
   },
   {
    "duration": 16,
    "start_time": "2022-11-16T14:32:07.673Z"
   },
   {
    "duration": 13,
    "start_time": "2022-11-16T14:32:32.030Z"
   },
   {
    "duration": 13,
    "start_time": "2022-11-16T14:32:57.880Z"
   },
   {
    "duration": 12,
    "start_time": "2022-11-16T14:33:03.676Z"
   },
   {
    "duration": 9,
    "start_time": "2022-11-16T14:33:17.727Z"
   },
   {
    "duration": 23,
    "start_time": "2022-11-16T14:38:21.543Z"
   },
   {
    "duration": 34,
    "start_time": "2022-11-16T14:40:15.710Z"
   },
   {
    "duration": 42,
    "start_time": "2022-11-16T14:40:26.745Z"
   },
   {
    "duration": 73,
    "start_time": "2022-11-18T07:02:43.665Z"
   },
   {
    "duration": 395,
    "start_time": "2022-11-18T07:02:50.572Z"
   },
   {
    "duration": 110,
    "start_time": "2022-11-18T07:02:50.970Z"
   },
   {
    "duration": 11,
    "start_time": "2022-11-18T07:02:51.082Z"
   },
   {
    "duration": 14,
    "start_time": "2022-11-18T07:02:51.095Z"
   },
   {
    "duration": 17,
    "start_time": "2022-11-18T07:02:51.112Z"
   },
   {
    "duration": 7,
    "start_time": "2022-11-18T07:02:51.132Z"
   },
   {
    "duration": 23,
    "start_time": "2022-11-18T07:02:51.141Z"
   },
   {
    "duration": 3,
    "start_time": "2022-11-18T07:02:51.166Z"
   },
   {
    "duration": 10,
    "start_time": "2022-11-18T07:03:20.830Z"
   },
   {
    "duration": 5,
    "start_time": "2022-11-18T07:09:03.072Z"
   },
   {
    "duration": 6,
    "start_time": "2022-11-18T07:11:11.645Z"
   },
   {
    "duration": 77,
    "start_time": "2022-11-18T07:17:21.553Z"
   },
   {
    "duration": 795,
    "start_time": "2022-11-18T07:17:49.566Z"
   },
   {
    "duration": 11,
    "start_time": "2022-11-18T07:17:56.038Z"
   },
   {
    "duration": 45,
    "start_time": "2022-11-18T07:21:40.628Z"
   },
   {
    "duration": 33,
    "start_time": "2022-11-18T07:21:59.476Z"
   },
   {
    "duration": 4,
    "start_time": "2022-11-18T07:22:04.291Z"
   },
   {
    "duration": 6,
    "start_time": "2022-11-18T07:22:15.601Z"
   },
   {
    "duration": 7,
    "start_time": "2022-11-18T07:24:52.872Z"
   },
   {
    "duration": 21,
    "start_time": "2022-11-18T07:26:07.799Z"
   },
   {
    "duration": 23,
    "start_time": "2022-11-18T07:26:46.808Z"
   },
   {
    "duration": 7,
    "start_time": "2022-11-18T07:27:23.663Z"
   },
   {
    "duration": 7,
    "start_time": "2022-11-18T07:27:27.932Z"
   },
   {
    "duration": 14,
    "start_time": "2022-11-18T07:27:31.831Z"
   },
   {
    "duration": 12,
    "start_time": "2022-11-18T07:29:08.650Z"
   },
   {
    "duration": 20,
    "start_time": "2022-11-18T07:29:35.409Z"
   },
   {
    "duration": 14,
    "start_time": "2022-11-18T07:30:01.061Z"
   },
   {
    "duration": 16,
    "start_time": "2022-11-18T07:32:46.491Z"
   },
   {
    "duration": 17,
    "start_time": "2022-11-18T07:33:19.830Z"
   },
   {
    "duration": 18,
    "start_time": "2022-11-18T07:33:32.584Z"
   },
   {
    "duration": 15,
    "start_time": "2022-11-18T07:34:02.726Z"
   },
   {
    "duration": 7,
    "start_time": "2022-11-18T07:41:46.540Z"
   },
   {
    "duration": 48,
    "start_time": "2022-11-18T07:43:21.841Z"
   },
   {
    "duration": 26,
    "start_time": "2022-11-18T07:43:30.620Z"
   },
   {
    "duration": 4,
    "start_time": "2022-11-18T07:43:45.454Z"
   },
   {
    "duration": 15,
    "start_time": "2022-11-18T07:43:47.536Z"
   },
   {
    "duration": 3,
    "start_time": "2022-11-18T07:44:20.590Z"
   },
   {
    "duration": 10,
    "start_time": "2022-11-18T07:44:26.291Z"
   },
   {
    "duration": 1228,
    "start_time": "2022-11-18T07:46:05.507Z"
   },
   {
    "duration": 50,
    "start_time": "2022-11-18T07:46:06.737Z"
   },
   {
    "duration": 12,
    "start_time": "2022-11-18T07:46:06.789Z"
   },
   {
    "duration": 38,
    "start_time": "2022-11-18T07:46:06.803Z"
   },
   {
    "duration": 7,
    "start_time": "2022-11-18T07:46:06.843Z"
   },
   {
    "duration": 29,
    "start_time": "2022-11-18T07:46:06.852Z"
   },
   {
    "duration": 35,
    "start_time": "2022-11-18T07:46:06.883Z"
   },
   {
    "duration": 24,
    "start_time": "2022-11-18T07:46:06.922Z"
   },
   {
    "duration": 21,
    "start_time": "2022-11-18T07:46:06.948Z"
   },
   {
    "duration": 7,
    "start_time": "2022-11-18T07:46:06.972Z"
   },
   {
    "duration": 24,
    "start_time": "2022-11-18T07:46:06.980Z"
   },
   {
    "duration": 113,
    "start_time": "2022-11-18T07:46:07.013Z"
   },
   {
    "duration": 89,
    "start_time": "2022-11-18T07:46:07.128Z"
   },
   {
    "duration": 98,
    "start_time": "2022-11-18T07:46:07.222Z"
   },
   {
    "duration": 39,
    "start_time": "2022-11-18T07:46:07.322Z"
   },
   {
    "duration": 116,
    "start_time": "2022-11-18T07:55:14.969Z"
   },
   {
    "duration": 12,
    "start_time": "2022-11-18T07:58:47.012Z"
   },
   {
    "duration": 8,
    "start_time": "2022-11-18T07:59:02.807Z"
   },
   {
    "duration": 5,
    "start_time": "2022-11-18T07:59:21.664Z"
   },
   {
    "duration": 12,
    "start_time": "2022-11-18T08:01:47.428Z"
   },
   {
    "duration": 13,
    "start_time": "2022-11-18T08:02:03.784Z"
   },
   {
    "duration": 17,
    "start_time": "2022-11-18T08:02:10.670Z"
   },
   {
    "duration": 8,
    "start_time": "2022-11-18T08:02:34.432Z"
   },
   {
    "duration": 10,
    "start_time": "2022-11-18T08:03:12.635Z"
   },
   {
    "duration": 1191,
    "start_time": "2022-11-18T08:10:06.876Z"
   },
   {
    "duration": 43,
    "start_time": "2022-11-18T08:10:08.070Z"
   },
   {
    "duration": 14,
    "start_time": "2022-11-18T08:10:08.122Z"
   },
   {
    "duration": 15,
    "start_time": "2022-11-18T08:10:08.138Z"
   },
   {
    "duration": 6,
    "start_time": "2022-11-18T08:10:08.155Z"
   },
   {
    "duration": 8,
    "start_time": "2022-11-18T08:10:08.163Z"
   },
   {
    "duration": 69,
    "start_time": "2022-11-18T08:10:08.173Z"
   },
   {
    "duration": 18,
    "start_time": "2022-11-18T08:10:08.244Z"
   },
   {
    "duration": 13,
    "start_time": "2022-11-18T08:10:08.264Z"
   },
   {
    "duration": 5,
    "start_time": "2022-11-18T08:10:08.279Z"
   },
   {
    "duration": 27,
    "start_time": "2022-11-18T08:10:08.286Z"
   },
   {
    "duration": 109,
    "start_time": "2022-11-18T08:10:08.315Z"
   },
   {
    "duration": 27,
    "start_time": "2022-11-18T08:10:08.426Z"
   },
   {
    "duration": 17,
    "start_time": "2022-11-18T08:10:08.516Z"
   },
   {
    "duration": 80,
    "start_time": "2022-11-18T08:10:08.536Z"
   },
   {
    "duration": 27,
    "start_time": "2022-11-18T08:10:08.621Z"
   },
   {
    "duration": 85,
    "start_time": "2022-11-18T08:10:08.650Z"
   },
   {
    "duration": 1883,
    "start_time": "2022-11-18T09:11:36.159Z"
   },
   {
    "duration": 39,
    "start_time": "2022-11-18T09:11:38.044Z"
   },
   {
    "duration": 11,
    "start_time": "2022-11-18T09:11:55.370Z"
   },
   {
    "duration": 11,
    "start_time": "2022-11-18T09:11:57.146Z"
   },
   {
    "duration": 6,
    "start_time": "2022-11-18T09:12:01.425Z"
   },
   {
    "duration": 6,
    "start_time": "2022-11-18T09:12:01.918Z"
   },
   {
    "duration": 20,
    "start_time": "2022-11-18T09:12:02.429Z"
   },
   {
    "duration": 9,
    "start_time": "2022-11-18T09:16:44.491Z"
   },
   {
    "duration": 8,
    "start_time": "2022-11-18T09:16:49.585Z"
   },
   {
    "duration": 4,
    "start_time": "2022-11-18T09:16:52.973Z"
   },
   {
    "duration": 4,
    "start_time": "2022-11-18T09:16:56.046Z"
   },
   {
    "duration": 7,
    "start_time": "2022-11-18T09:17:30.241Z"
   },
   {
    "duration": 12,
    "start_time": "2022-11-18T09:17:32.728Z"
   },
   {
    "duration": 5,
    "start_time": "2022-11-18T09:17:59.511Z"
   },
   {
    "duration": 4,
    "start_time": "2022-11-18T09:18:01.143Z"
   },
   {
    "duration": 8,
    "start_time": "2022-11-18T09:18:03.743Z"
   },
   {
    "duration": 9,
    "start_time": "2022-11-18T09:18:09.146Z"
   },
   {
    "duration": 53,
    "start_time": "2022-11-18T09:31:56.061Z"
   },
   {
    "duration": 1106,
    "start_time": "2022-11-18T09:32:01.786Z"
   },
   {
    "duration": 99,
    "start_time": "2022-11-18T09:32:02.895Z"
   },
   {
    "duration": 18,
    "start_time": "2022-11-18T09:32:02.996Z"
   },
   {
    "duration": 36,
    "start_time": "2022-11-18T09:32:03.016Z"
   },
   {
    "duration": 12,
    "start_time": "2022-11-18T09:32:03.054Z"
   },
   {
    "duration": 16,
    "start_time": "2022-11-18T09:32:03.067Z"
   },
   {
    "duration": 38,
    "start_time": "2022-11-18T09:32:03.084Z"
   },
   {
    "duration": 102,
    "start_time": "2022-11-18T09:32:03.124Z"
   },
   {
    "duration": 0,
    "start_time": "2022-11-18T09:32:03.228Z"
   },
   {
    "duration": 0,
    "start_time": "2022-11-18T09:32:03.229Z"
   },
   {
    "duration": 0,
    "start_time": "2022-11-18T09:32:03.230Z"
   },
   {
    "duration": 0,
    "start_time": "2022-11-18T09:32:03.231Z"
   },
   {
    "duration": 0,
    "start_time": "2022-11-18T09:32:03.232Z"
   },
   {
    "duration": 0,
    "start_time": "2022-11-18T09:32:03.233Z"
   },
   {
    "duration": 0,
    "start_time": "2022-11-18T09:32:03.234Z"
   },
   {
    "duration": 0,
    "start_time": "2022-11-18T09:32:03.235Z"
   },
   {
    "duration": 0,
    "start_time": "2022-11-18T09:32:03.236Z"
   },
   {
    "duration": 0,
    "start_time": "2022-11-18T09:32:03.237Z"
   },
   {
    "duration": 501,
    "start_time": "2022-11-18T09:32:50.592Z"
   },
   {
    "duration": 1243,
    "start_time": "2022-11-18T09:32:55.999Z"
   },
   {
    "duration": 812,
    "start_time": "2022-11-18T09:33:21.434Z"
   },
   {
    "duration": 421,
    "start_time": "2022-11-18T09:43:10.265Z"
   },
   {
    "duration": 874,
    "start_time": "2022-11-18T09:44:13.137Z"
   },
   {
    "duration": 686,
    "start_time": "2022-11-18T09:44:30.525Z"
   },
   {
    "duration": 696,
    "start_time": "2022-11-18T09:47:22.486Z"
   },
   {
    "duration": 777,
    "start_time": "2022-11-18T09:47:34.555Z"
   },
   {
    "duration": 719,
    "start_time": "2022-11-18T09:48:02.907Z"
   },
   {
    "duration": 828,
    "start_time": "2022-11-18T09:48:18.026Z"
   },
   {
    "duration": 778,
    "start_time": "2022-11-18T09:48:28.406Z"
   },
   {
    "duration": 96,
    "start_time": "2022-11-18T09:52:38.022Z"
   },
   {
    "duration": 192,
    "start_time": "2022-11-18T09:53:34.096Z"
   },
   {
    "duration": 77,
    "start_time": "2022-11-18T09:54:47.603Z"
   },
   {
    "duration": 28,
    "start_time": "2022-11-18T09:55:41.326Z"
   },
   {
    "duration": 1547,
    "start_time": "2022-11-18T09:57:11.901Z"
   },
   {
    "duration": 49,
    "start_time": "2022-11-18T09:57:13.449Z"
   },
   {
    "duration": 12,
    "start_time": "2022-11-18T09:57:13.500Z"
   },
   {
    "duration": 17,
    "start_time": "2022-11-18T09:57:13.514Z"
   },
   {
    "duration": 15,
    "start_time": "2022-11-18T09:57:13.533Z"
   },
   {
    "duration": 26,
    "start_time": "2022-11-18T09:57:13.551Z"
   },
   {
    "duration": 38,
    "start_time": "2022-11-18T09:57:13.579Z"
   },
   {
    "duration": 915,
    "start_time": "2022-11-18T09:57:13.619Z"
   },
   {
    "duration": 361,
    "start_time": "2022-11-18T09:57:14.537Z"
   },
   {
    "duration": 12,
    "start_time": "2022-11-18T09:57:14.901Z"
   },
   {
    "duration": 35,
    "start_time": "2022-11-18T09:57:14.915Z"
   },
   {
    "duration": 24,
    "start_time": "2022-11-18T09:57:14.954Z"
   },
   {
    "duration": 20,
    "start_time": "2022-11-18T09:57:14.980Z"
   },
   {
    "duration": 58,
    "start_time": "2022-11-18T09:57:15.002Z"
   },
   {
    "duration": 101,
    "start_time": "2022-11-18T09:57:15.068Z"
   },
   {
    "duration": 82,
    "start_time": "2022-11-18T09:57:15.171Z"
   },
   {
    "duration": 7,
    "start_time": "2022-11-18T09:57:15.256Z"
   },
   {
    "duration": 93,
    "start_time": "2022-11-18T09:57:15.265Z"
   },
   {
    "duration": 109,
    "start_time": "2022-11-18T09:57:15.361Z"
   },
   {
    "duration": 256,
    "start_time": "2022-11-18T09:57:36.191Z"
   },
   {
    "duration": 328,
    "start_time": "2022-11-18T09:58:49.189Z"
   },
   {
    "duration": 206,
    "start_time": "2022-11-18T09:59:11.163Z"
   },
   {
    "duration": 785,
    "start_time": "2022-11-18T09:59:20.780Z"
   },
   {
    "duration": 407,
    "start_time": "2022-11-18T10:00:33.125Z"
   },
   {
    "duration": 379,
    "start_time": "2022-11-18T10:01:04.148Z"
   },
   {
    "duration": 232,
    "start_time": "2022-11-18T10:01:16.762Z"
   },
   {
    "duration": 314,
    "start_time": "2022-11-18T10:04:48.924Z"
   },
   {
    "duration": 250,
    "start_time": "2022-11-18T10:04:57.330Z"
   },
   {
    "duration": 219,
    "start_time": "2022-11-18T10:05:40.176Z"
   },
   {
    "duration": 18,
    "start_time": "2022-11-18T10:09:17.547Z"
   },
   {
    "duration": 14836,
    "start_time": "2022-11-18T10:09:41.105Z"
   },
   {
    "duration": 238,
    "start_time": "2022-11-18T10:15:59.397Z"
   },
   {
    "duration": 77,
    "start_time": "2022-11-18T10:21:38.130Z"
   },
   {
    "duration": 74,
    "start_time": "2022-11-18T10:21:49.996Z"
   },
   {
    "duration": 733,
    "start_time": "2022-11-18T10:22:05.003Z"
   },
   {
    "duration": 52713,
    "start_time": "2022-11-18T10:25:29.635Z"
   },
   {
    "duration": 54696,
    "start_time": "2022-11-18T10:27:41.821Z"
   },
   {
    "duration": 74094,
    "start_time": "2022-11-18T10:42:07.069Z"
   },
   {
    "duration": 16,
    "start_time": "2022-11-18T10:46:38.146Z"
   },
   {
    "duration": 7,
    "start_time": "2022-11-18T10:46:41.156Z"
   },
   {
    "duration": 7,
    "start_time": "2022-11-18T10:47:29.136Z"
   },
   {
    "duration": 171,
    "start_time": "2022-11-18T10:48:47.835Z"
   },
   {
    "duration": 531,
    "start_time": "2022-11-18T10:50:18.777Z"
   },
   {
    "duration": 422,
    "start_time": "2022-11-18T10:50:27.535Z"
   },
   {
    "duration": 1392,
    "start_time": "2022-11-18T10:51:04.979Z"
   },
   {
    "duration": 34,
    "start_time": "2022-11-18T10:51:06.374Z"
   },
   {
    "duration": 11,
    "start_time": "2022-11-18T10:51:06.410Z"
   },
   {
    "duration": 13,
    "start_time": "2022-11-18T10:51:06.423Z"
   },
   {
    "duration": 5,
    "start_time": "2022-11-18T10:51:06.438Z"
   },
   {
    "duration": 9,
    "start_time": "2022-11-18T10:51:06.445Z"
   },
   {
    "duration": 23,
    "start_time": "2022-11-18T10:51:06.455Z"
   },
   {
    "duration": 717,
    "start_time": "2022-11-18T10:51:06.479Z"
   },
   {
    "duration": 564,
    "start_time": "2022-11-18T10:51:07.197Z"
   },
   {
    "duration": 10,
    "start_time": "2022-11-18T10:51:07.764Z"
   },
   {
    "duration": 10,
    "start_time": "2022-11-18T10:51:07.776Z"
   },
   {
    "duration": 5,
    "start_time": "2022-11-18T10:51:07.789Z"
   },
   {
    "duration": 54,
    "start_time": "2022-11-18T10:51:07.796Z"
   },
   {
    "duration": 12,
    "start_time": "2022-11-18T10:51:07.852Z"
   },
   {
    "duration": 96,
    "start_time": "2022-11-18T10:51:07.866Z"
   },
   {
    "duration": 86,
    "start_time": "2022-11-18T10:51:07.965Z"
   },
   {
    "duration": 5,
    "start_time": "2022-11-18T10:51:08.054Z"
   },
   {
    "duration": 92,
    "start_time": "2022-11-18T10:51:08.061Z"
   },
   {
    "duration": 97,
    "start_time": "2022-11-18T10:51:08.156Z"
   },
   {
    "duration": 747,
    "start_time": "2022-11-18T10:56:00.788Z"
   },
   {
    "duration": 778,
    "start_time": "2022-11-18T10:56:06.562Z"
   },
   {
    "duration": 917,
    "start_time": "2022-11-18T10:56:14.097Z"
   },
   {
    "duration": 146,
    "start_time": "2022-11-18T10:56:58.012Z"
   },
   {
    "duration": 709,
    "start_time": "2022-11-18T11:00:56.718Z"
   },
   {
    "duration": 1417,
    "start_time": "2022-11-18T11:05:42.429Z"
   },
   {
    "duration": 49,
    "start_time": "2022-11-18T11:05:43.848Z"
   },
   {
    "duration": 11,
    "start_time": "2022-11-18T11:05:43.899Z"
   },
   {
    "duration": 12,
    "start_time": "2022-11-18T11:05:43.913Z"
   },
   {
    "duration": 9,
    "start_time": "2022-11-18T11:05:43.926Z"
   },
   {
    "duration": 6,
    "start_time": "2022-11-18T11:05:43.937Z"
   },
   {
    "duration": 27,
    "start_time": "2022-11-18T11:05:43.945Z"
   },
   {
    "duration": 792,
    "start_time": "2022-11-18T11:05:43.974Z"
   },
   {
    "duration": 625,
    "start_time": "2022-11-18T11:05:44.768Z"
   },
   {
    "duration": 15,
    "start_time": "2022-11-18T11:05:45.396Z"
   },
   {
    "duration": 16,
    "start_time": "2022-11-18T11:05:45.413Z"
   },
   {
    "duration": 6,
    "start_time": "2022-11-18T11:05:45.451Z"
   },
   {
    "duration": 39,
    "start_time": "2022-11-18T11:05:45.459Z"
   },
   {
    "duration": 57,
    "start_time": "2022-11-18T11:05:45.501Z"
   },
   {
    "duration": 106,
    "start_time": "2022-11-18T11:05:45.560Z"
   },
   {
    "duration": 83,
    "start_time": "2022-11-18T11:05:45.668Z"
   },
   {
    "duration": 6,
    "start_time": "2022-11-18T11:05:45.753Z"
   },
   {
    "duration": 98,
    "start_time": "2022-11-18T11:05:45.761Z"
   },
   {
    "duration": 97,
    "start_time": "2022-11-18T11:05:45.863Z"
   }
  ],
  "kernelspec": {
   "display_name": "Python 3 (ipykernel)",
   "language": "python",
   "name": "python3"
  },
  "language_info": {
   "codemirror_mode": {
    "name": "ipython",
    "version": 3
   },
   "file_extension": ".py",
   "mimetype": "text/x-python",
   "name": "python",
   "nbconvert_exporter": "python",
   "pygments_lexer": "ipython3",
   "version": "3.9.15"
  },
  "toc": {
   "base_numbering": 1,
   "nav_menu": {},
   "number_sections": true,
   "sideBar": true,
   "skip_h1_title": true,
   "title_cell": "Содержание",
   "title_sidebar": "Contents",
   "toc_cell": true,
   "toc_position": {},
   "toc_section_display": true,
   "toc_window_display": true
  }
 },
 "nbformat": 4,
 "nbformat_minor": 2
}
