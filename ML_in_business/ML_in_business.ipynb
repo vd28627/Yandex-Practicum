{
 "cells": [
  {
   "cell_type": "markdown",
   "metadata": {},
   "source": [
    "# Выбор локации для скважины"
   ]
  },
  {
   "cell_type": "markdown",
   "metadata": {},
   "source": [
    "Допустим, вы работаете в добывающей компании «ГлавРосГосНефть». Нужно решить, где бурить новую скважину.\n",
    "\n",
    "Вам предоставлены пробы нефти в трёх регионах: в каждом 10 000 месторождений, где измерили качество нефти и объём её запасов. Постройте модель машинного обучения, которая поможет определить регион, где добыча принесёт наибольшую прибыль. Проанализируйте возможную прибыль и риски техникой *Bootstrap.*\n",
    "\n",
    "Шаги для выбора локации:\n",
    "\n",
    "- В избранном регионе ищут месторождения, для каждого определяют значения признаков;\n",
    "- Строят модель и оценивают объём запасов;\n",
    "- Выбирают месторождения с самым высокими оценками значений. Количество месторождений зависит от бюджета компании и стоимости разработки одной скважины;\n",
    "- Прибыль равна суммарной прибыли отобранных месторождений."
   ]
  },
  {
   "cell_type": "markdown",
   "metadata": {},
   "source": [
    "## Загрузка и подготовка данных"
   ]
  },
  {
   "cell_type": "markdown",
   "metadata": {},
   "source": [
    "Подключаем библиотеки:"
   ]
  },
  {
   "cell_type": "code",
   "execution_count": 1,
   "metadata": {},
   "outputs": [],
   "source": [
    "import pandas as pd\n",
    "import numpy as np\n",
    "from numpy.random import RandomState\n",
    "from scipy import stats\n",
    "\n",
    "from sklearn.preprocessing import StandardScaler\n",
    "from sklearn.model_selection import train_test_split\n",
    "from sklearn.linear_model import LinearRegression\n",
    "from sklearn.metrics import mean_squared_error"
   ]
  },
  {
   "cell_type": "markdown",
   "metadata": {},
   "source": [
    "Загрузим данные из файлов"
   ]
  },
  {
   "cell_type": "code",
   "execution_count": 2,
   "metadata": {},
   "outputs": [],
   "source": [
    "data_0 = pd.read_csv('/datasets/geo_data_0.csv')\n",
    "data_1 = pd.read_csv('/datasets/geo_data_1.csv')\n",
    "data_2 = pd.read_csv('/datasets/geo_data_2.csv')"
   ]
  },
  {
   "cell_type": "markdown",
   "metadata": {},
   "source": [
    "Изучим содержимое файлов. Для удобства, напишем функцию, которая будет выводить первые десять строк датафрейма, инфо, и количество дубликатов"
   ]
  },
  {
   "cell_type": "code",
   "execution_count": 3,
   "metadata": {},
   "outputs": [
    {
     "data": {
      "text/html": [
       "<div>\n",
       "<style scoped>\n",
       "    .dataframe tbody tr th:only-of-type {\n",
       "        vertical-align: middle;\n",
       "    }\n",
       "\n",
       "    .dataframe tbody tr th {\n",
       "        vertical-align: top;\n",
       "    }\n",
       "\n",
       "    .dataframe thead th {\n",
       "        text-align: right;\n",
       "    }\n",
       "</style>\n",
       "<table border=\"1\" class=\"dataframe\">\n",
       "  <thead>\n",
       "    <tr style=\"text-align: right;\">\n",
       "      <th></th>\n",
       "      <th>id</th>\n",
       "      <th>f0</th>\n",
       "      <th>f1</th>\n",
       "      <th>f2</th>\n",
       "      <th>product</th>\n",
       "    </tr>\n",
       "  </thead>\n",
       "  <tbody>\n",
       "    <tr>\n",
       "      <th>0</th>\n",
       "      <td>txEyH</td>\n",
       "      <td>0.705745</td>\n",
       "      <td>-0.497823</td>\n",
       "      <td>1.221170</td>\n",
       "      <td>105.280062</td>\n",
       "    </tr>\n",
       "    <tr>\n",
       "      <th>1</th>\n",
       "      <td>2acmU</td>\n",
       "      <td>1.334711</td>\n",
       "      <td>-0.340164</td>\n",
       "      <td>4.365080</td>\n",
       "      <td>73.037750</td>\n",
       "    </tr>\n",
       "    <tr>\n",
       "      <th>2</th>\n",
       "      <td>409Wp</td>\n",
       "      <td>1.022732</td>\n",
       "      <td>0.151990</td>\n",
       "      <td>1.419926</td>\n",
       "      <td>85.265647</td>\n",
       "    </tr>\n",
       "    <tr>\n",
       "      <th>3</th>\n",
       "      <td>iJLyR</td>\n",
       "      <td>-0.032172</td>\n",
       "      <td>0.139033</td>\n",
       "      <td>2.978566</td>\n",
       "      <td>168.620776</td>\n",
       "    </tr>\n",
       "    <tr>\n",
       "      <th>4</th>\n",
       "      <td>Xdl7t</td>\n",
       "      <td>1.988431</td>\n",
       "      <td>0.155413</td>\n",
       "      <td>4.751769</td>\n",
       "      <td>154.036647</td>\n",
       "    </tr>\n",
       "    <tr>\n",
       "      <th>5</th>\n",
       "      <td>wX4Hy</td>\n",
       "      <td>0.969570</td>\n",
       "      <td>0.489775</td>\n",
       "      <td>-0.735383</td>\n",
       "      <td>64.741541</td>\n",
       "    </tr>\n",
       "    <tr>\n",
       "      <th>6</th>\n",
       "      <td>tL6pL</td>\n",
       "      <td>0.645075</td>\n",
       "      <td>0.530656</td>\n",
       "      <td>1.780266</td>\n",
       "      <td>49.055285</td>\n",
       "    </tr>\n",
       "    <tr>\n",
       "      <th>7</th>\n",
       "      <td>BYPU6</td>\n",
       "      <td>-0.400648</td>\n",
       "      <td>0.808337</td>\n",
       "      <td>-5.624670</td>\n",
       "      <td>72.943292</td>\n",
       "    </tr>\n",
       "    <tr>\n",
       "      <th>8</th>\n",
       "      <td>j9Oui</td>\n",
       "      <td>0.643105</td>\n",
       "      <td>-0.551583</td>\n",
       "      <td>2.372141</td>\n",
       "      <td>113.356160</td>\n",
       "    </tr>\n",
       "    <tr>\n",
       "      <th>9</th>\n",
       "      <td>OLuZU</td>\n",
       "      <td>2.173381</td>\n",
       "      <td>0.563698</td>\n",
       "      <td>9.441852</td>\n",
       "      <td>127.910945</td>\n",
       "    </tr>\n",
       "  </tbody>\n",
       "</table>\n",
       "</div>"
      ],
      "text/plain": [
       "      id        f0        f1        f2     product\n",
       "0  txEyH  0.705745 -0.497823  1.221170  105.280062\n",
       "1  2acmU  1.334711 -0.340164  4.365080   73.037750\n",
       "2  409Wp  1.022732  0.151990  1.419926   85.265647\n",
       "3  iJLyR -0.032172  0.139033  2.978566  168.620776\n",
       "4  Xdl7t  1.988431  0.155413  4.751769  154.036647\n",
       "5  wX4Hy  0.969570  0.489775 -0.735383   64.741541\n",
       "6  tL6pL  0.645075  0.530656  1.780266   49.055285\n",
       "7  BYPU6 -0.400648  0.808337 -5.624670   72.943292\n",
       "8  j9Oui  0.643105 -0.551583  2.372141  113.356160\n",
       "9  OLuZU  2.173381  0.563698  9.441852  127.910945"
      ]
     },
     "metadata": {},
     "output_type": "display_data"
    },
    {
     "name": "stdout",
     "output_type": "stream",
     "text": [
      "<class 'pandas.core.frame.DataFrame'>\n",
      "RangeIndex: 100000 entries, 0 to 99999\n",
      "Data columns (total 5 columns):\n",
      " #   Column   Non-Null Count   Dtype  \n",
      "---  ------   --------------   -----  \n",
      " 0   id       100000 non-null  object \n",
      " 1   f0       100000 non-null  float64\n",
      " 2   f1       100000 non-null  float64\n",
      " 3   f2       100000 non-null  float64\n",
      " 4   product  100000 non-null  float64\n",
      "dtypes: float64(4), object(1)\n",
      "memory usage: 3.8+ MB\n"
     ]
    },
    {
     "data": {
      "text/plain": [
       "'Количество дубликатов'"
      ]
     },
     "metadata": {},
     "output_type": "display_data"
    },
    {
     "data": {
      "text/plain": [
       "0"
      ]
     },
     "metadata": {},
     "output_type": "display_data"
    },
    {
     "data": {
      "text/html": [
       "<div>\n",
       "<style scoped>\n",
       "    .dataframe tbody tr th:only-of-type {\n",
       "        vertical-align: middle;\n",
       "    }\n",
       "\n",
       "    .dataframe tbody tr th {\n",
       "        vertical-align: top;\n",
       "    }\n",
       "\n",
       "    .dataframe thead th {\n",
       "        text-align: right;\n",
       "    }\n",
       "</style>\n",
       "<table border=\"1\" class=\"dataframe\">\n",
       "  <thead>\n",
       "    <tr style=\"text-align: right;\">\n",
       "      <th></th>\n",
       "      <th>id</th>\n",
       "      <th>f0</th>\n",
       "      <th>f1</th>\n",
       "      <th>f2</th>\n",
       "      <th>product</th>\n",
       "    </tr>\n",
       "  </thead>\n",
       "  <tbody>\n",
       "    <tr>\n",
       "      <th>0</th>\n",
       "      <td>kBEdx</td>\n",
       "      <td>-15.001348</td>\n",
       "      <td>-8.276000</td>\n",
       "      <td>-0.005876</td>\n",
       "      <td>3.179103</td>\n",
       "    </tr>\n",
       "    <tr>\n",
       "      <th>1</th>\n",
       "      <td>62mP7</td>\n",
       "      <td>14.272088</td>\n",
       "      <td>-3.475083</td>\n",
       "      <td>0.999183</td>\n",
       "      <td>26.953261</td>\n",
       "    </tr>\n",
       "    <tr>\n",
       "      <th>2</th>\n",
       "      <td>vyE1P</td>\n",
       "      <td>6.263187</td>\n",
       "      <td>-5.948386</td>\n",
       "      <td>5.001160</td>\n",
       "      <td>134.766305</td>\n",
       "    </tr>\n",
       "    <tr>\n",
       "      <th>3</th>\n",
       "      <td>KcrkZ</td>\n",
       "      <td>-13.081196</td>\n",
       "      <td>-11.506057</td>\n",
       "      <td>4.999415</td>\n",
       "      <td>137.945408</td>\n",
       "    </tr>\n",
       "    <tr>\n",
       "      <th>4</th>\n",
       "      <td>AHL4O</td>\n",
       "      <td>12.702195</td>\n",
       "      <td>-8.147433</td>\n",
       "      <td>5.004363</td>\n",
       "      <td>134.766305</td>\n",
       "    </tr>\n",
       "    <tr>\n",
       "      <th>5</th>\n",
       "      <td>HHckp</td>\n",
       "      <td>-3.327590</td>\n",
       "      <td>-2.205276</td>\n",
       "      <td>3.003647</td>\n",
       "      <td>84.038886</td>\n",
       "    </tr>\n",
       "    <tr>\n",
       "      <th>6</th>\n",
       "      <td>h5Ujo</td>\n",
       "      <td>-11.142655</td>\n",
       "      <td>-10.133399</td>\n",
       "      <td>4.002382</td>\n",
       "      <td>110.992147</td>\n",
       "    </tr>\n",
       "    <tr>\n",
       "      <th>7</th>\n",
       "      <td>muH9x</td>\n",
       "      <td>4.234715</td>\n",
       "      <td>-0.001354</td>\n",
       "      <td>2.004588</td>\n",
       "      <td>53.906522</td>\n",
       "    </tr>\n",
       "    <tr>\n",
       "      <th>8</th>\n",
       "      <td>YiRkx</td>\n",
       "      <td>13.355129</td>\n",
       "      <td>-0.332068</td>\n",
       "      <td>4.998647</td>\n",
       "      <td>134.766305</td>\n",
       "    </tr>\n",
       "    <tr>\n",
       "      <th>9</th>\n",
       "      <td>jG6Gi</td>\n",
       "      <td>1.069227</td>\n",
       "      <td>-11.025667</td>\n",
       "      <td>4.997844</td>\n",
       "      <td>137.945408</td>\n",
       "    </tr>\n",
       "  </tbody>\n",
       "</table>\n",
       "</div>"
      ],
      "text/plain": [
       "      id         f0         f1        f2     product\n",
       "0  kBEdx -15.001348  -8.276000 -0.005876    3.179103\n",
       "1  62mP7  14.272088  -3.475083  0.999183   26.953261\n",
       "2  vyE1P   6.263187  -5.948386  5.001160  134.766305\n",
       "3  KcrkZ -13.081196 -11.506057  4.999415  137.945408\n",
       "4  AHL4O  12.702195  -8.147433  5.004363  134.766305\n",
       "5  HHckp  -3.327590  -2.205276  3.003647   84.038886\n",
       "6  h5Ujo -11.142655 -10.133399  4.002382  110.992147\n",
       "7  muH9x   4.234715  -0.001354  2.004588   53.906522\n",
       "8  YiRkx  13.355129  -0.332068  4.998647  134.766305\n",
       "9  jG6Gi   1.069227 -11.025667  4.997844  137.945408"
      ]
     },
     "metadata": {},
     "output_type": "display_data"
    },
    {
     "name": "stdout",
     "output_type": "stream",
     "text": [
      "<class 'pandas.core.frame.DataFrame'>\n",
      "RangeIndex: 100000 entries, 0 to 99999\n",
      "Data columns (total 5 columns):\n",
      " #   Column   Non-Null Count   Dtype  \n",
      "---  ------   --------------   -----  \n",
      " 0   id       100000 non-null  object \n",
      " 1   f0       100000 non-null  float64\n",
      " 2   f1       100000 non-null  float64\n",
      " 3   f2       100000 non-null  float64\n",
      " 4   product  100000 non-null  float64\n",
      "dtypes: float64(4), object(1)\n",
      "memory usage: 3.8+ MB\n"
     ]
    },
    {
     "data": {
      "text/plain": [
       "'Количество дубликатов'"
      ]
     },
     "metadata": {},
     "output_type": "display_data"
    },
    {
     "data": {
      "text/plain": [
       "0"
      ]
     },
     "metadata": {},
     "output_type": "display_data"
    },
    {
     "data": {
      "text/html": [
       "<div>\n",
       "<style scoped>\n",
       "    .dataframe tbody tr th:only-of-type {\n",
       "        vertical-align: middle;\n",
       "    }\n",
       "\n",
       "    .dataframe tbody tr th {\n",
       "        vertical-align: top;\n",
       "    }\n",
       "\n",
       "    .dataframe thead th {\n",
       "        text-align: right;\n",
       "    }\n",
       "</style>\n",
       "<table border=\"1\" class=\"dataframe\">\n",
       "  <thead>\n",
       "    <tr style=\"text-align: right;\">\n",
       "      <th></th>\n",
       "      <th>id</th>\n",
       "      <th>f0</th>\n",
       "      <th>f1</th>\n",
       "      <th>f2</th>\n",
       "      <th>product</th>\n",
       "    </tr>\n",
       "  </thead>\n",
       "  <tbody>\n",
       "    <tr>\n",
       "      <th>0</th>\n",
       "      <td>fwXo0</td>\n",
       "      <td>-1.146987</td>\n",
       "      <td>0.963328</td>\n",
       "      <td>-0.828965</td>\n",
       "      <td>27.758673</td>\n",
       "    </tr>\n",
       "    <tr>\n",
       "      <th>1</th>\n",
       "      <td>WJtFt</td>\n",
       "      <td>0.262778</td>\n",
       "      <td>0.269839</td>\n",
       "      <td>-2.530187</td>\n",
       "      <td>56.069697</td>\n",
       "    </tr>\n",
       "    <tr>\n",
       "      <th>2</th>\n",
       "      <td>ovLUW</td>\n",
       "      <td>0.194587</td>\n",
       "      <td>0.289035</td>\n",
       "      <td>-5.586433</td>\n",
       "      <td>62.871910</td>\n",
       "    </tr>\n",
       "    <tr>\n",
       "      <th>3</th>\n",
       "      <td>q6cA6</td>\n",
       "      <td>2.236060</td>\n",
       "      <td>-0.553760</td>\n",
       "      <td>0.930038</td>\n",
       "      <td>114.572842</td>\n",
       "    </tr>\n",
       "    <tr>\n",
       "      <th>4</th>\n",
       "      <td>WPMUX</td>\n",
       "      <td>-0.515993</td>\n",
       "      <td>1.716266</td>\n",
       "      <td>5.899011</td>\n",
       "      <td>149.600746</td>\n",
       "    </tr>\n",
       "    <tr>\n",
       "      <th>5</th>\n",
       "      <td>LzZXx</td>\n",
       "      <td>-0.758092</td>\n",
       "      <td>0.710691</td>\n",
       "      <td>2.585887</td>\n",
       "      <td>90.222465</td>\n",
       "    </tr>\n",
       "    <tr>\n",
       "      <th>6</th>\n",
       "      <td>WBHRv</td>\n",
       "      <td>-0.574891</td>\n",
       "      <td>0.317727</td>\n",
       "      <td>1.773745</td>\n",
       "      <td>45.641478</td>\n",
       "    </tr>\n",
       "    <tr>\n",
       "      <th>7</th>\n",
       "      <td>XO8fn</td>\n",
       "      <td>-1.906649</td>\n",
       "      <td>-2.458350</td>\n",
       "      <td>-0.177097</td>\n",
       "      <td>72.480640</td>\n",
       "    </tr>\n",
       "    <tr>\n",
       "      <th>8</th>\n",
       "      <td>ybmQ5</td>\n",
       "      <td>1.776292</td>\n",
       "      <td>-0.279356</td>\n",
       "      <td>3.004156</td>\n",
       "      <td>106.616832</td>\n",
       "    </tr>\n",
       "    <tr>\n",
       "      <th>9</th>\n",
       "      <td>OilcN</td>\n",
       "      <td>-1.214452</td>\n",
       "      <td>-0.439314</td>\n",
       "      <td>5.922514</td>\n",
       "      <td>52.954532</td>\n",
       "    </tr>\n",
       "  </tbody>\n",
       "</table>\n",
       "</div>"
      ],
      "text/plain": [
       "      id        f0        f1        f2     product\n",
       "0  fwXo0 -1.146987  0.963328 -0.828965   27.758673\n",
       "1  WJtFt  0.262778  0.269839 -2.530187   56.069697\n",
       "2  ovLUW  0.194587  0.289035 -5.586433   62.871910\n",
       "3  q6cA6  2.236060 -0.553760  0.930038  114.572842\n",
       "4  WPMUX -0.515993  1.716266  5.899011  149.600746\n",
       "5  LzZXx -0.758092  0.710691  2.585887   90.222465\n",
       "6  WBHRv -0.574891  0.317727  1.773745   45.641478\n",
       "7  XO8fn -1.906649 -2.458350 -0.177097   72.480640\n",
       "8  ybmQ5  1.776292 -0.279356  3.004156  106.616832\n",
       "9  OilcN -1.214452 -0.439314  5.922514   52.954532"
      ]
     },
     "metadata": {},
     "output_type": "display_data"
    },
    {
     "name": "stdout",
     "output_type": "stream",
     "text": [
      "<class 'pandas.core.frame.DataFrame'>\n",
      "RangeIndex: 100000 entries, 0 to 99999\n",
      "Data columns (total 5 columns):\n",
      " #   Column   Non-Null Count   Dtype  \n",
      "---  ------   --------------   -----  \n",
      " 0   id       100000 non-null  object \n",
      " 1   f0       100000 non-null  float64\n",
      " 2   f1       100000 non-null  float64\n",
      " 3   f2       100000 non-null  float64\n",
      " 4   product  100000 non-null  float64\n",
      "dtypes: float64(4), object(1)\n",
      "memory usage: 3.8+ MB\n"
     ]
    },
    {
     "data": {
      "text/plain": [
       "'Количество дубликатов'"
      ]
     },
     "metadata": {},
     "output_type": "display_data"
    },
    {
     "data": {
      "text/plain": [
       "0"
      ]
     },
     "metadata": {},
     "output_type": "display_data"
    }
   ],
   "source": [
    "def data_info(data_name):\n",
    "    display(data_name.head(10))\n",
    "    data_name.info()\n",
    "    display('Количество дубликатов', sum(data_name.duplicated()))\n",
    "    \n",
    "data_info(data_0)\n",
    "data_info(data_1)\n",
    "data_info(data_2)"
   ]
  },
  {
   "cell_type": "markdown",
   "metadata": {},
   "source": [
    "Все три датафрейма имеют одинаковый размер, в них нет дубликатов и пропусков, и нет необходимости в предобработке. Необходимо только произвести разбивку на выборки. Product- целевой признак, f0, f1 и f2 - признаки, id для нашей задачи не нужен."
   ]
  },
  {
   "cell_type": "code",
   "execution_count": 4,
   "metadata": {},
   "outputs": [],
   "source": [
    "feature_names = ['f0', 'f1', 'f2']\n",
    "features_0 = data_0[feature_names]\n",
    "target_0 = data_0['product']\n",
    "features_1 = data_1[feature_names]\n",
    "target_1 = data_1['product']\n",
    "features_2 = data_2[feature_names]\n",
    "target_2 = data_2['product']"
   ]
  },
  {
   "cell_type": "markdown",
   "metadata": {},
   "source": [
    "Выводы:\n",
    "\n",
    "1) Импортированы библиотеки, загружены данные.\n",
    "\n",
    "2) Содержимое датафреймов проанализировано, предобработка данным не требуется, нет пропусков и дубликатов.\n",
    "\n",
    "3) Выполнена разбивка на признаки и целевой признак."
   ]
  },
  {
   "cell_type": "markdown",
   "metadata": {},
   "source": [
    "## Обучение и проверка модели"
   ]
  },
  {
   "cell_type": "markdown",
   "metadata": {},
   "source": [
    "Разделим данные на обучающую и валидационную выборку с соотношением 75:25. Для разбивки, создадим функцию.\n",
    "\n",
    "Хранить промежуточные данные (результаты разбивки)- нам необязательно. По условиям задачи, нам надо сохранить предсказания на валидационной выборке и правильные ответы. Включим в функцию обучение модели, результат, который она будет выводить- предсказания (predict) и правильные ответы(target_valid). "
   ]
  },
  {
   "cell_type": "code",
   "execution_count": 5,
   "metadata": {},
   "outputs": [],
   "source": [
    "def model_split(features, target):\n",
    "    features_train, features_valid, target_train, target_valid = train_test_split(features, target, \n",
    "                                                                                  test_size=0.25, random_state=12345)\n",
    "    model = LinearRegression()\n",
    "    model.fit(features_train, target_train)\n",
    "    predict = model.predict(features_valid)\n",
    "\n",
    "    return predict, target_valid"
   ]
  },
  {
   "cell_type": "markdown",
   "metadata": {},
   "source": [
    "Теперь нужно сохранить для каждого региона результаты в отдельную переменную, и вывести на экран средний запас предсказанного сырья и RMSE модели."
   ]
  },
  {
   "cell_type": "code",
   "execution_count": 6,
   "metadata": {},
   "outputs": [
    {
     "data": {
      "text/plain": [
       "'Cредний запас предсказанного сырья в регионе 0'"
      ]
     },
     "metadata": {},
     "output_type": "display_data"
    },
    {
     "data": {
      "text/plain": [
       "92.59256778438035"
      ]
     },
     "metadata": {},
     "output_type": "display_data"
    },
    {
     "data": {
      "text/plain": [
       "'RMSE модели'"
      ]
     },
     "metadata": {},
     "output_type": "display_data"
    },
    {
     "data": {
      "text/plain": [
       "37.5794217150813"
      ]
     },
     "metadata": {},
     "output_type": "display_data"
    }
   ],
   "source": [
    "predict_0, target_0_valid = model_split(features_0, target_0)\n",
    "predict_0_mean = predict_0.mean()\n",
    "rmse_0 = mean_squared_error(target_0_valid, predict_0)**.5\n",
    "display('Cредний запас предсказанного сырья в регионе 0', predict_0_mean)\n",
    "display('RMSE модели', rmse_0)"
   ]
  },
  {
   "cell_type": "markdown",
   "metadata": {},
   "source": [
    "Сделаем то же самое для региона 1"
   ]
  },
  {
   "cell_type": "code",
   "execution_count": 7,
   "metadata": {},
   "outputs": [
    {
     "data": {
      "text/plain": [
       "'Cредний запас предсказанного сырья в регионе 1'"
      ]
     },
     "metadata": {},
     "output_type": "display_data"
    },
    {
     "data": {
      "text/plain": [
       "68.728546895446"
      ]
     },
     "metadata": {},
     "output_type": "display_data"
    },
    {
     "data": {
      "text/plain": [
       "'RMSE модели'"
      ]
     },
     "metadata": {},
     "output_type": "display_data"
    },
    {
     "data": {
      "text/plain": [
       "0.893099286775617"
      ]
     },
     "metadata": {},
     "output_type": "display_data"
    }
   ],
   "source": [
    "predict_1, target_1_valid = model_split(features_1, target_1)\n",
    "predict_1_mean = predict_1.mean()\n",
    "rmse_1 = mean_squared_error(target_1_valid, predict_1)**.5\n",
    "display('Cредний запас предсказанного сырья в регионе 1', predict_1_mean)\n",
    "display('RMSE модели', rmse_1)"
   ]
  },
  {
   "cell_type": "markdown",
   "metadata": {},
   "source": [
    "Сделаем то же самое для региона 2"
   ]
  },
  {
   "cell_type": "code",
   "execution_count": 8,
   "metadata": {},
   "outputs": [
    {
     "data": {
      "text/plain": [
       "'Cредний запас предсказанного сырья в регионе 2'"
      ]
     },
     "metadata": {},
     "output_type": "display_data"
    },
    {
     "data": {
      "text/plain": [
       "94.96504596800489"
      ]
     },
     "metadata": {},
     "output_type": "display_data"
    },
    {
     "data": {
      "text/plain": [
       "'RMSE модели'"
      ]
     },
     "metadata": {},
     "output_type": "display_data"
    },
    {
     "data": {
      "text/plain": [
       "40.02970873393434"
      ]
     },
     "metadata": {},
     "output_type": "display_data"
    }
   ],
   "source": [
    "predict_2, target_2_valid = model_split(features_2, target_2)\n",
    "predict_2_mean = predict_2.mean()\n",
    "rmse_2 = mean_squared_error(target_2_valid, predict_2)**.5\n",
    "display('Cредний запас предсказанного сырья в регионе 2', predict_2_mean)\n",
    "display('RMSE модели', rmse_2)"
   ]
  },
  {
   "cell_type": "markdown",
   "metadata": {},
   "source": [
    "Выводы:\n",
    "\n",
    "1) Провели разбивку на выборки, обучение модели\n",
    "\n",
    "2) Сохранили результаты в отдельные переменные, вывели на экран средние предсказанные запасы и RMSE.\n",
    "\n",
    "3) У регионов 0 и 2 высокие значения предсказанных запасов, и высокий RMSE- как следствие, низкая надежность результатов\n",
    "\n",
    "4) У региона 1 предсказанные запасы ниже, но и RMSE низкий- что говорит о хорошей точности предсказаний"
   ]
  },
  {
   "cell_type": "markdown",
   "metadata": {},
   "source": [
    "## Подготовка к расчёту прибыли"
   ]
  },
  {
   "cell_type": "markdown",
   "metadata": {},
   "source": [
    "Посчитаем минимальный объем продукта для безубыточности скважин.\n",
    "\n",
    "Формула выглядит так:\n",
    "\n",
    "минимальный объем продукта = бюджет / (количество скважин * цена единицы продукта)\n",
    "\n",
    "Все ключевые параметры, используемые для расчета прибыли, сохраним в отдельных переменных.\n",
    "\n",
    "В исходных данных, единица объема- это тысяча баррелей, поэтому и цену сразу укажем за тысячу баррелей\n",
    "\n",
    "Кроме того, создадим переменную с количеством разведываемых скважин в регионе (500). Она не нужна на данном этапе, но понадобится на следующем."
   ]
  },
  {
   "cell_type": "code",
   "execution_count": 9,
   "metadata": {},
   "outputs": [
    {
     "data": {
      "text/plain": [
       "'Минимальный объем продукта'"
      ]
     },
     "metadata": {},
     "output_type": "display_data"
    },
    {
     "data": {
      "text/plain": [
       "111.11111111111111"
      ]
     },
     "metadata": {},
     "output_type": "display_data"
    }
   ],
   "source": [
    "BUDGET = 10000000000 #бюджет\n",
    "BEST_WELLS = 200 #количество лучших скважин, отобранных после разведки\n",
    "PRICE = 450000 #цена тысячи баррелей нефти\n",
    "NUMBER_OF_WELLS = 500 #количество разведываемых скважин.\n",
    "min_volume_product = BUDGET / (BEST_WELLS * PRICE)\n",
    "display('Минимальный объем продукта', min_volume_product)"
   ]
  },
  {
   "cell_type": "markdown",
   "metadata": {},
   "source": [
    "Выводы: \n",
    "Результат превышает средний объем скважин в любом из регионов."
   ]
  },
  {
   "cell_type": "markdown",
   "metadata": {},
   "source": [
    "## Расчёт прибыли и рисков "
   ]
  },
  {
   "cell_type": "markdown",
   "metadata": {},
   "source": [
    "Для каждого региона, нам нужно случайно отбирать по 500 скважин, и считать средний объем 200 лучших, суммарный объем 200 лучших, и размер прибыли. Напишем функцию, которая будет это делать:"
   ]
  },
  {
   "cell_type": "code",
   "execution_count": 10,
   "metadata": {},
   "outputs": [],
   "source": [
    "def predicted_income(target, predicts):\n",
    "\n",
    "    sample_predictions = predicts.sample(n = NUMBER_OF_WELLS, random_state=12345)\n",
    "    top_predictions = sample_predictions.sort_values(ascending=False)[:BEST_WELLS]\n",
    "    top_targets = target[top_predictions.index]\n",
    "    top_wells_mean = top_targets.mean()\n",
    "    volume = sum(top_targets)\n",
    "    income = volume * PRICE - BUDGET\n",
    "    display('Средний запас сырья среди скважин с максимальным показателем:', top_wells_mean)\n",
    "    display('Суммарный целевой объём сырья:', volume)\n",
    "    display('Прибыль для полученного объёма сырья:', income)"
   ]
  },
  {
   "cell_type": "markdown",
   "metadata": {},
   "source": [
    "Подготовим исходные данные, чтобы функция могла с ними работать: удалим индексы в target_valid, применим reshape к predict, чтобы изменить форму массива."
   ]
  },
  {
   "cell_type": "code",
   "execution_count": 11,
   "metadata": {},
   "outputs": [],
   "source": [
    "predict_0 = pd.Series(*predict_0.reshape(1,-1))\n",
    "predict_1 = pd.Series(*predict_1.reshape(1,-1))\n",
    "predict_2 = pd.Series(*predict_2.reshape(1,-1))\n",
    "target_0_valid = pd.Series(target_0_valid).reset_index(drop=True)\n",
    "target_1_valid = pd.Series(target_1_valid).reset_index(drop=True)\n",
    "target_2_valid = pd.Series(target_2_valid).reset_index(drop=True)"
   ]
  },
  {
   "cell_type": "markdown",
   "metadata": {},
   "source": [
    "Теперь посчитаем результаты для нулевого региона:"
   ]
  },
  {
   "cell_type": "code",
   "execution_count": 12,
   "metadata": {},
   "outputs": [
    {
     "data": {
      "text/plain": [
       "'Средний запас сырья среди скважин с максимальным показателем:'"
      ]
     },
     "metadata": {},
     "output_type": "display_data"
    },
    {
     "data": {
      "text/plain": [
       "118.65632064324916"
      ]
     },
     "metadata": {},
     "output_type": "display_data"
    },
    {
     "data": {
      "text/plain": [
       "'Суммарный целевой объём сырья:'"
      ]
     },
     "metadata": {},
     "output_type": "display_data"
    },
    {
     "data": {
      "text/plain": [
       "23731.26412864983"
      ]
     },
     "metadata": {},
     "output_type": "display_data"
    },
    {
     "data": {
      "text/plain": [
       "'Прибыль для полученного объёма сырья:'"
      ]
     },
     "metadata": {},
     "output_type": "display_data"
    },
    {
     "data": {
      "text/plain": [
       "679068857.8924236"
      ]
     },
     "metadata": {},
     "output_type": "display_data"
    }
   ],
   "source": [
    "predicted_income(target_0_valid, predict_0)"
   ]
  },
  {
   "cell_type": "markdown",
   "metadata": {},
   "source": [
    "Для первого региона:"
   ]
  },
  {
   "cell_type": "code",
   "execution_count": 13,
   "metadata": {},
   "outputs": [
    {
     "data": {
      "text/plain": [
       "'Средний запас сырья среди скважин с максимальным показателем:'"
      ]
     },
     "metadata": {},
     "output_type": "display_data"
    },
    {
     "data": {
      "text/plain": [
       "119.77199871307573"
      ]
     },
     "metadata": {},
     "output_type": "display_data"
    },
    {
     "data": {
      "text/plain": [
       "'Суммарный целевой объём сырья:'"
      ]
     },
     "metadata": {},
     "output_type": "display_data"
    },
    {
     "data": {
      "text/plain": [
       "23954.3997426152"
      ]
     },
     "metadata": {},
     "output_type": "display_data"
    },
    {
     "data": {
      "text/plain": [
       "'Прибыль для полученного объёма сырья:'"
      ]
     },
     "metadata": {},
     "output_type": "display_data"
    },
    {
     "data": {
      "text/plain": [
       "779479884.1768398"
      ]
     },
     "metadata": {},
     "output_type": "display_data"
    }
   ],
   "source": [
    "predicted_income(target_1_valid, predict_1)"
   ]
  },
  {
   "cell_type": "markdown",
   "metadata": {},
   "source": [
    "Для второго региона:"
   ]
  },
  {
   "cell_type": "code",
   "execution_count": 14,
   "metadata": {},
   "outputs": [
    {
     "data": {
      "text/plain": [
       "'Средний запас сырья среди скважин с максимальным показателем:'"
      ]
     },
     "metadata": {},
     "output_type": "display_data"
    },
    {
     "data": {
      "text/plain": [
       "115.99989047802423"
      ]
     },
     "metadata": {},
     "output_type": "display_data"
    },
    {
     "data": {
      "text/plain": [
       "'Суммарный целевой объём сырья:'"
      ]
     },
     "metadata": {},
     "output_type": "display_data"
    },
    {
     "data": {
      "text/plain": [
       "23199.978095604856"
      ]
     },
     "metadata": {},
     "output_type": "display_data"
    },
    {
     "data": {
      "text/plain": [
       "'Прибыль для полученного объёма сырья:'"
      ]
     },
     "metadata": {},
     "output_type": "display_data"
    },
    {
     "data": {
      "text/plain": [
       "439990143.0221844"
      ]
     },
     "metadata": {},
     "output_type": "display_data"
    }
   ],
   "source": [
    "predicted_income(target_2_valid, predict_2)"
   ]
  },
  {
   "cell_type": "markdown",
   "metadata": {},
   "source": [
    "Теперь используем Bootstrap, и найдем распределение прибыли на 1000 выборок. \n",
    "\n",
    "Согласно условиям, нам надо найти 95-% доверительный интервал. Риск убытков в искомом регионе должен не превышать 2,5%\n",
    "\n",
    "Нам понадобится модифицированная функция predicted_income: она должна не выводить результат на экран, а возвращать переменную income."
   ]
  },
  {
   "cell_type": "code",
   "execution_count": 15,
   "metadata": {},
   "outputs": [],
   "source": [
    "def predicted_income_m(target, predicts, state):\n",
    "\n",
    "    sample_predictions = predicts.sample(n = NUMBER_OF_WELLS, replace = True, random_state = state)\n",
    "    top_predictions = sample_predictions.sort_values(ascending=False)[:BEST_WELLS]\n",
    "    top_targets = target[top_predictions.index]\n",
    "    volume = sum(top_targets)\n",
    "    income = volume * PRICE - BUDGET\n",
    "    return income"
   ]
  },
  {
   "cell_type": "markdown",
   "metadata": {},
   "source": [
    "Теперь создадим еще одну функцию risks_calc- для расчета рисков. В ней будет цикл, который сделает нам 1000 выборок, для каждой из них будет вызываться функция predicted_income_m, результаты которой будут записываться в переменную incomes. Далее, функция risks_calc расчитает доверительный интервал и риск убытков, на основе полученных данных."
   ]
  },
  {
   "cell_type": "code",
   "execution_count": 16,
   "metadata": {},
   "outputs": [],
   "source": [
    "def risks_calc(target, predicts):\n",
    "    bootstrap_s = 1000 #количество выборок, получаемых по технике bootstrap\n",
    "    alpha = 0.05 \n",
    "    incomes = []\n",
    "    state = np.random.RandomState(12345)\n",
    "    for n in range(bootstrap_s):\n",
    "        income = predicted_income_m(target, predicts, state)\n",
    "        incomes.append(income)\n",
    "    incomes = pd.Series(incomes)\n",
    "    income_mean = incomes.mean()\n",
    "    conf_int_left = incomes.quantile(alpha/2)\n",
    "    conf_int_right = incomes.quantile(1 - alpha/2)\n",
    "    \n",
    "    #loss_count = 0\n",
    "    #for inc in incomes :\n",
    "    #    if inc < 0 :\n",
    "    #        loss_count += 1\n",
    "    risk_rate = (incomes < 0).mean()\n",
    "        \n",
    "    display('Средняя прибыль {:.2f} (млн. Р)'.format(income_mean / 10**6))\n",
    "    display('95% доверительный интервал: {:.2f} : {:.2f} (млн. Р)'.format(conf_int_left / 10**6, conf_int_right / 10**6))\n",
    "    display('Риск убытков: {:.2f} %'.format(risk_rate * 100))"
   ]
  },
  {
   "cell_type": "markdown",
   "metadata": {},
   "source": [
    "Посчитаем с помощью этой функции риски для каждого из трех регионов:"
   ]
  },
  {
   "cell_type": "code",
   "execution_count": 17,
   "metadata": {},
   "outputs": [
    {
     "data": {
      "text/plain": [
       "'Средняя прибыль 396.16 (млн. Р)'"
      ]
     },
     "metadata": {},
     "output_type": "display_data"
    },
    {
     "data": {
      "text/plain": [
       "'95% доверительный интервал: -111.22 : 909.77 (млн. Р)'"
      ]
     },
     "metadata": {},
     "output_type": "display_data"
    },
    {
     "data": {
      "text/plain": [
       "'Риск убытков: 6.90 %'"
      ]
     },
     "metadata": {},
     "output_type": "display_data"
    }
   ],
   "source": [
    "risks_calc(target_0_valid, predict_0)"
   ]
  },
  {
   "cell_type": "code",
   "execution_count": 18,
   "metadata": {},
   "outputs": [
    {
     "data": {
      "text/plain": [
       "'Средняя прибыль 456.05 (млн. Р)'"
      ]
     },
     "metadata": {},
     "output_type": "display_data"
    },
    {
     "data": {
      "text/plain": [
       "'95% доверительный интервал: 33.82 : 852.29 (млн. Р)'"
      ]
     },
     "metadata": {},
     "output_type": "display_data"
    },
    {
     "data": {
      "text/plain": [
       "'Риск убытков: 1.50 %'"
      ]
     },
     "metadata": {},
     "output_type": "display_data"
    }
   ],
   "source": [
    "risks_calc(target_1_valid, predict_1)"
   ]
  },
  {
   "cell_type": "code",
   "execution_count": 19,
   "metadata": {},
   "outputs": [
    {
     "data": {
      "text/plain": [
       "'Средняя прибыль 404.40 (млн. Р)'"
      ]
     },
     "metadata": {},
     "output_type": "display_data"
    },
    {
     "data": {
      "text/plain": [
       "'95% доверительный интервал: -163.35 : 950.36 (млн. Р)'"
      ]
     },
     "metadata": {},
     "output_type": "display_data"
    },
    {
     "data": {
      "text/plain": [
       "'Риск убытков: 7.60 %'"
      ]
     },
     "metadata": {},
     "output_type": "display_data"
    }
   ],
   "source": [
    "risks_calc(target_2_valid, predict_2)"
   ]
  },
  {
   "cell_type": "markdown",
   "metadata": {},
   "source": [
    "Выводы:\n",
    "\n",
    "1) Создали функцию, с помощью посчитали прибыльность 200 лучших скважин из случайных 500.\n",
    "\n",
    "2) При выборке случайных 500 скважин, удалось найти 200 со средним содержанием объема сырья выше целевого, во всех трех регионах.\n",
    "\n",
    "3) Как результат, во всех трех выборках, была прибыль, а не убыток.\n",
    "\n",
    "4) После этого, с помощью техники Bootstrap, посчитали риск убытков во всех трех регионах.\n",
    "\n",
    "5) В регионах 0 и 2, риск убытков выше 2,5%\n",
    "\n",
    "6) В регионе 1, риск убытков 1,5%\n",
    "\n",
    "7) Как результат, для разработки реомендуется регион 1."
   ]
  },
  {
   "cell_type": "markdown",
   "metadata": {},
   "source": [
    "## Чек-лист готовности проекта"
   ]
  },
  {
   "cell_type": "markdown",
   "metadata": {},
   "source": [
    "Поставьте 'x' в выполненных пунктах. Далее нажмите Shift+Enter."
   ]
  },
  {
   "cell_type": "markdown",
   "metadata": {},
   "source": [
    "- [x]  Jupyter Notebook открыт\n",
    "- [x]  Весь код выполняется без ошибок\n",
    "- [x]  Ячейки с кодом расположены в порядке исполнения\n",
    "- [x]  Выполнен шаг 1: данные подготовлены\n",
    "- [x]  Выполнен шаг 2: модели обучены и проверены\n",
    "    - [x]  Данные корректно разбиты на обучающую и валидационную выборки\n",
    "    - [x]  Модели обучены, предсказания сделаны\n",
    "    - [x]  Предсказания и правильные ответы на валидационной выборке сохранены\n",
    "    - [x]  На экране напечатаны результаты\n",
    "    - [x]  Сделаны выводы\n",
    "- [x]  Выполнен шаг 3: проведена подготовка к расчёту прибыли\n",
    "    - [x]  Для всех ключевых значений созданы константы Python\n",
    "    - [x]  Посчитано минимальное среднее количество продукта в месторождениях региона, достаточное для разработки\n",
    "    - [x]  По предыдущему пункту сделаны выводы\n",
    "    - [x]  Написана функция расчёта прибыли\n",
    "- [x]  Выполнен шаг 4: посчитаны риски и прибыль\n",
    "    - [x]  Проведена процедура *Bootstrap*\n",
    "    - [x]  Все параметры бутстрепа соответствуют условию\n",
    "    - [x]  Найдены все нужные величины\n",
    "    - [x]  Предложен регион для разработки месторождения\n",
    "    - [x]  Выбор региона обоснован"
   ]
  },
  {
   "cell_type": "code",
   "execution_count": null,
   "metadata": {},
   "outputs": [],
   "source": []
  }
 ],
 "metadata": {
  "ExecuteTimeLog": [
   {
    "duration": 42,
    "start_time": "2022-10-04T08:56:31.448Z"
   },
   {
    "duration": 1496,
    "start_time": "2022-10-04T08:56:43.458Z"
   },
   {
    "duration": 1900,
    "start_time": "2022-10-04T08:56:45.621Z"
   },
   {
    "duration": 208,
    "start_time": "2022-10-04T09:01:03.340Z"
   },
   {
    "duration": 55,
    "start_time": "2022-10-04T13:01:40.112Z"
   },
   {
    "duration": 1742,
    "start_time": "2022-10-04T13:01:44.521Z"
   },
   {
    "duration": 791,
    "start_time": "2022-10-04T13:01:46.616Z"
   },
   {
    "duration": 99,
    "start_time": "2022-10-04T13:01:48.868Z"
   },
   {
    "duration": 241,
    "start_time": "2022-10-04T13:02:17.910Z"
   },
   {
    "duration": 4,
    "start_time": "2022-10-04T13:28:29.939Z"
   },
   {
    "duration": 13,
    "start_time": "2022-10-04T13:32:55.828Z"
   },
   {
    "duration": 759,
    "start_time": "2022-10-04T13:33:10.593Z"
   },
   {
    "duration": 843,
    "start_time": "2022-10-04T13:33:46.821Z"
   },
   {
    "duration": 18,
    "start_time": "2022-10-04T13:33:56.263Z"
   },
   {
    "duration": 8,
    "start_time": "2022-10-04T13:34:06.929Z"
   },
   {
    "duration": 1015,
    "start_time": "2022-10-04T13:34:16.124Z"
   },
   {
    "duration": 4,
    "start_time": "2022-10-04T13:34:41.714Z"
   },
   {
    "duration": 502,
    "start_time": "2022-10-04T13:34:51.219Z"
   },
   {
    "duration": 10,
    "start_time": "2022-10-04T13:35:21.445Z"
   },
   {
    "duration": 25,
    "start_time": "2022-10-04T13:35:38.680Z"
   },
   {
    "duration": 33,
    "start_time": "2022-10-04T13:36:08.856Z"
   },
   {
    "duration": 3,
    "start_time": "2022-10-04T13:36:17.196Z"
   },
   {
    "duration": 107,
    "start_time": "2022-10-04T13:36:19.521Z"
   },
   {
    "duration": 97,
    "start_time": "2022-10-04T13:36:29.125Z"
   },
   {
    "duration": 31,
    "start_time": "2022-10-04T13:36:38.137Z"
   },
   {
    "duration": 38,
    "start_time": "2022-10-04T13:37:47.831Z"
   },
   {
    "duration": 79,
    "start_time": "2022-10-04T13:38:39.244Z"
   },
   {
    "duration": 5,
    "start_time": "2022-10-04T15:12:40.598Z"
   },
   {
    "duration": 5,
    "start_time": "2022-10-04T15:17:16.031Z"
   },
   {
    "duration": 4,
    "start_time": "2022-10-04T15:36:17.210Z"
   },
   {
    "duration": 14,
    "start_time": "2022-10-04T15:37:00.832Z"
   },
   {
    "duration": 4,
    "start_time": "2022-10-04T15:40:22.365Z"
   },
   {
    "duration": 11,
    "start_time": "2022-10-04T15:40:24.921Z"
   },
   {
    "duration": 682,
    "start_time": "2022-10-04T15:42:56.465Z"
   },
   {
    "duration": 5,
    "start_time": "2022-10-04T15:43:15.245Z"
   },
   {
    "duration": 6,
    "start_time": "2022-10-04T15:43:44.081Z"
   },
   {
    "duration": 6,
    "start_time": "2022-10-04T15:43:54.603Z"
   },
   {
    "duration": 6,
    "start_time": "2022-10-04T15:44:03.645Z"
   },
   {
    "duration": 2166,
    "start_time": "2022-10-04T15:44:33.274Z"
   },
   {
    "duration": 366,
    "start_time": "2022-10-04T15:44:35.442Z"
   },
   {
    "duration": 237,
    "start_time": "2022-10-04T15:44:35.810Z"
   },
   {
    "duration": 10,
    "start_time": "2022-10-04T15:44:36.050Z"
   },
   {
    "duration": 6,
    "start_time": "2022-10-04T15:44:36.062Z"
   },
   {
    "duration": 56,
    "start_time": "2022-10-04T15:44:36.070Z"
   },
   {
    "duration": 197,
    "start_time": "2022-10-04T15:44:36.128Z"
   },
   {
    "duration": 196,
    "start_time": "2022-10-04T15:44:36.327Z"
   },
   {
    "duration": 7,
    "start_time": "2022-10-04T15:44:36.525Z"
   },
   {
    "duration": 95,
    "start_time": "2022-10-04T15:44:36.534Z"
   },
   {
    "duration": 11,
    "start_time": "2022-10-04T15:44:36.631Z"
   },
   {
    "duration": 8,
    "start_time": "2022-10-04T15:44:36.643Z"
   },
   {
    "duration": 10,
    "start_time": "2022-10-04T15:44:36.652Z"
   },
   {
    "duration": 5,
    "start_time": "2022-10-04T15:44:55.525Z"
   },
   {
    "duration": 5,
    "start_time": "2022-10-04T15:45:13.683Z"
   },
   {
    "duration": 7,
    "start_time": "2022-10-04T15:45:31.793Z"
   },
   {
    "duration": 146,
    "start_time": "2022-10-04T15:45:48.886Z"
   },
   {
    "duration": 1003,
    "start_time": "2022-10-04T15:49:28.257Z"
   },
   {
    "duration": 653,
    "start_time": "2022-10-04T15:49:36.690Z"
   },
   {
    "duration": 990,
    "start_time": "2022-10-04T15:49:44.540Z"
   },
   {
    "duration": 7,
    "start_time": "2022-10-04T15:49:53.051Z"
   },
   {
    "duration": 5,
    "start_time": "2022-10-04T15:49:59.577Z"
   },
   {
    "duration": 5,
    "start_time": "2022-10-04T15:50:20.189Z"
   },
   {
    "duration": 11,
    "start_time": "2022-10-04T15:50:34.828Z"
   },
   {
    "duration": 92,
    "start_time": "2022-10-04T15:50:39.224Z"
   },
   {
    "duration": 4,
    "start_time": "2022-10-04T15:50:43.125Z"
   },
   {
    "duration": 5,
    "start_time": "2022-10-04T15:50:50.406Z"
   },
   {
    "duration": 5,
    "start_time": "2022-10-04T15:50:56.588Z"
   },
   {
    "duration": 90,
    "start_time": "2022-10-04T15:51:04.829Z"
   },
   {
    "duration": 7,
    "start_time": "2022-10-04T15:51:08.788Z"
   },
   {
    "duration": 644,
    "start_time": "2022-10-04T15:53:21.660Z"
   },
   {
    "duration": 9,
    "start_time": "2022-10-04T15:53:31.050Z"
   },
   {
    "duration": 14,
    "start_time": "2022-10-04T15:53:53.610Z"
   },
   {
    "duration": 5,
    "start_time": "2022-10-04T15:54:24.312Z"
   },
   {
    "duration": 6,
    "start_time": "2022-10-04T15:54:30.444Z"
   },
   {
    "duration": 5,
    "start_time": "2022-10-04T15:54:35.455Z"
   },
   {
    "duration": 6,
    "start_time": "2022-10-04T15:54:45.946Z"
   },
   {
    "duration": 7,
    "start_time": "2022-10-04T15:56:02.139Z"
   },
   {
    "duration": 5,
    "start_time": "2022-10-04T15:58:12.079Z"
   },
   {
    "duration": 10,
    "start_time": "2022-10-04T15:58:54.883Z"
   },
   {
    "duration": 6,
    "start_time": "2022-10-04T16:03:10.366Z"
   },
   {
    "duration": 1474,
    "start_time": "2022-10-04T16:05:50.494Z"
   },
   {
    "duration": 379,
    "start_time": "2022-10-04T16:05:51.970Z"
   },
   {
    "duration": 229,
    "start_time": "2022-10-04T16:05:52.351Z"
   },
   {
    "duration": 10,
    "start_time": "2022-10-04T16:05:52.582Z"
   },
   {
    "duration": 7,
    "start_time": "2022-10-04T16:05:52.595Z"
   },
   {
    "duration": 126,
    "start_time": "2022-10-04T16:05:52.604Z"
   },
   {
    "duration": 187,
    "start_time": "2022-10-04T16:05:52.732Z"
   },
   {
    "duration": 198,
    "start_time": "2022-10-04T16:05:52.922Z"
   },
   {
    "duration": 107,
    "start_time": "2022-10-04T16:05:53.122Z"
   },
   {
    "duration": 8,
    "start_time": "2022-10-04T16:05:53.231Z"
   },
   {
    "duration": 6,
    "start_time": "2022-10-04T16:05:53.241Z"
   },
   {
    "duration": 121,
    "start_time": "2022-10-04T16:05:53.249Z"
   },
   {
    "duration": 14,
    "start_time": "2022-10-04T16:06:05.693Z"
   },
   {
    "duration": 5,
    "start_time": "2022-10-04T16:06:53.739Z"
   },
   {
    "duration": 12,
    "start_time": "2022-10-04T16:06:56.807Z"
   },
   {
    "duration": 1450,
    "start_time": "2022-10-04T16:07:54.109Z"
   },
   {
    "duration": 380,
    "start_time": "2022-10-04T16:07:55.561Z"
   },
   {
    "duration": 241,
    "start_time": "2022-10-04T16:07:55.943Z"
   },
   {
    "duration": 10,
    "start_time": "2022-10-04T16:07:56.186Z"
   },
   {
    "duration": 4,
    "start_time": "2022-10-04T16:07:56.199Z"
   },
   {
    "duration": 101,
    "start_time": "2022-10-04T16:07:56.221Z"
   },
   {
    "duration": 116,
    "start_time": "2022-10-04T16:07:56.323Z"
   },
   {
    "duration": 200,
    "start_time": "2022-10-04T16:07:56.440Z"
   },
   {
    "duration": 6,
    "start_time": "2022-10-04T16:07:56.721Z"
   },
   {
    "duration": 98,
    "start_time": "2022-10-04T16:07:56.729Z"
   },
   {
    "duration": 8,
    "start_time": "2022-10-04T16:07:56.828Z"
   },
   {
    "duration": 14,
    "start_time": "2022-10-04T16:07:56.837Z"
   },
   {
    "duration": 13,
    "start_time": "2022-10-04T16:08:17.578Z"
   },
   {
    "duration": 11,
    "start_time": "2022-10-04T16:09:23.610Z"
   },
   {
    "duration": 4,
    "start_time": "2022-10-04T16:09:56.845Z"
   },
   {
    "duration": 12,
    "start_time": "2022-10-04T16:09:59.610Z"
   },
   {
    "duration": 12,
    "start_time": "2022-10-04T16:10:11.066Z"
   },
   {
    "duration": 11,
    "start_time": "2022-10-04T16:10:20.956Z"
   },
   {
    "duration": 1428,
    "start_time": "2022-10-04T16:11:09.877Z"
   },
   {
    "duration": 388,
    "start_time": "2022-10-04T16:11:11.307Z"
   },
   {
    "duration": 244,
    "start_time": "2022-10-04T16:11:11.697Z"
   },
   {
    "duration": 10,
    "start_time": "2022-10-04T16:11:11.943Z"
   },
   {
    "duration": 11,
    "start_time": "2022-10-04T16:11:11.955Z"
   },
   {
    "duration": 58,
    "start_time": "2022-10-04T16:11:11.968Z"
   },
   {
    "duration": 199,
    "start_time": "2022-10-04T16:11:12.027Z"
   },
   {
    "duration": 122,
    "start_time": "2022-10-04T16:11:12.228Z"
   },
   {
    "duration": 75,
    "start_time": "2022-10-04T16:11:12.351Z"
   },
   {
    "duration": 109,
    "start_time": "2022-10-04T16:11:12.429Z"
   },
   {
    "duration": 9,
    "start_time": "2022-10-04T16:11:12.540Z"
   },
   {
    "duration": 20,
    "start_time": "2022-10-04T16:11:12.550Z"
   },
   {
    "duration": 13,
    "start_time": "2022-10-04T16:11:12.572Z"
   },
   {
    "duration": 39,
    "start_time": "2022-10-04T16:11:12.587Z"
   },
   {
    "duration": 4,
    "start_time": "2022-10-04T16:23:15.639Z"
   },
   {
    "duration": 4,
    "start_time": "2022-10-04T16:32:00.932Z"
   },
   {
    "duration": 16029,
    "start_time": "2022-10-04T16:32:25.052Z"
   },
   {
    "duration": 5,
    "start_time": "2022-10-04T16:32:41.456Z"
   },
   {
    "duration": 1286,
    "start_time": "2022-10-04T16:32:44.036Z"
   },
   {
    "duration": 5,
    "start_time": "2022-10-04T16:33:00.295Z"
   },
   {
    "duration": 1278,
    "start_time": "2022-10-04T16:33:02.577Z"
   },
   {
    "duration": 4,
    "start_time": "2022-10-04T16:33:14.856Z"
   },
   {
    "duration": 1347,
    "start_time": "2022-10-04T16:33:17.052Z"
   },
   {
    "duration": 1287,
    "start_time": "2022-10-04T16:35:27.628Z"
   },
   {
    "duration": 5,
    "start_time": "2022-10-04T16:35:35.234Z"
   },
   {
    "duration": 1294,
    "start_time": "2022-10-04T16:35:37.460Z"
   },
   {
    "duration": 5,
    "start_time": "2022-10-04T16:35:52.716Z"
   },
   {
    "duration": 5,
    "start_time": "2022-10-04T16:35:56.910Z"
   },
   {
    "duration": 1271,
    "start_time": "2022-10-04T16:36:00.711Z"
   },
   {
    "duration": 1261,
    "start_time": "2022-10-04T16:36:43.587Z"
   },
   {
    "duration": 1289,
    "start_time": "2022-10-04T16:36:53.288Z"
   },
   {
    "duration": 4,
    "start_time": "2022-10-04T16:37:52.359Z"
   },
   {
    "duration": 5,
    "start_time": "2022-10-04T16:37:54.546Z"
   },
   {
    "duration": 870,
    "start_time": "2022-10-04T16:37:56.591Z"
   },
   {
    "duration": 4,
    "start_time": "2022-10-04T16:39:39.880Z"
   },
   {
    "duration": 4,
    "start_time": "2022-10-04T16:40:12.829Z"
   },
   {
    "duration": 8,
    "start_time": "2022-10-04T16:40:16.534Z"
   },
   {
    "duration": 30,
    "start_time": "2022-10-04T16:40:19.577Z"
   },
   {
    "duration": 4,
    "start_time": "2022-10-04T16:41:38.328Z"
   },
   {
    "duration": 6,
    "start_time": "2022-10-04T16:41:43.732Z"
   },
   {
    "duration": 8,
    "start_time": "2022-10-04T16:41:47.473Z"
   },
   {
    "duration": 30,
    "start_time": "2022-10-04T16:41:54.685Z"
   },
   {
    "duration": 5,
    "start_time": "2022-10-04T16:43:16.139Z"
   },
   {
    "duration": 4,
    "start_time": "2022-10-04T16:43:21.552Z"
   },
   {
    "duration": 19,
    "start_time": "2022-10-04T16:43:24.643Z"
   },
   {
    "duration": 4,
    "start_time": "2022-10-04T16:43:44.421Z"
   },
   {
    "duration": 5,
    "start_time": "2022-10-04T16:43:46.775Z"
   },
   {
    "duration": 610,
    "start_time": "2022-10-04T16:43:49.262Z"
   },
   {
    "duration": 5,
    "start_time": "2022-10-04T17:12:02.448Z"
   },
   {
    "duration": 735,
    "start_time": "2022-10-04T17:12:08.450Z"
   },
   {
    "duration": 635,
    "start_time": "2022-10-04T17:12:22.287Z"
   },
   {
    "duration": 655,
    "start_time": "2022-10-04T17:12:34.505Z"
   },
   {
    "duration": 1404,
    "start_time": "2022-10-04T18:06:45.868Z"
   },
   {
    "duration": 387,
    "start_time": "2022-10-04T18:06:47.274Z"
   },
   {
    "duration": 235,
    "start_time": "2022-10-04T18:06:47.663Z"
   },
   {
    "duration": 25,
    "start_time": "2022-10-04T18:06:47.901Z"
   },
   {
    "duration": 24,
    "start_time": "2022-10-04T18:06:47.928Z"
   },
   {
    "duration": 70,
    "start_time": "2022-10-04T18:06:47.954Z"
   },
   {
    "duration": 196,
    "start_time": "2022-10-04T18:06:48.026Z"
   },
   {
    "duration": 118,
    "start_time": "2022-10-04T18:06:48.224Z"
   },
   {
    "duration": 8,
    "start_time": "2022-10-04T18:06:48.420Z"
   },
   {
    "duration": 17,
    "start_time": "2022-10-04T18:06:48.521Z"
   },
   {
    "duration": 36,
    "start_time": "2022-10-04T18:06:48.540Z"
   },
   {
    "duration": 35,
    "start_time": "2022-10-04T18:06:48.578Z"
   },
   {
    "duration": 10,
    "start_time": "2022-10-04T18:06:48.614Z"
   },
   {
    "duration": 16,
    "start_time": "2022-10-04T18:06:48.626Z"
   },
   {
    "duration": 16,
    "start_time": "2022-10-04T18:06:48.643Z"
   },
   {
    "duration": 23,
    "start_time": "2022-10-04T18:06:48.661Z"
   },
   {
    "duration": 739,
    "start_time": "2022-10-04T18:06:48.686Z"
   },
   {
    "duration": 697,
    "start_time": "2022-10-04T18:06:49.427Z"
   },
   {
    "duration": 646,
    "start_time": "2022-10-04T18:06:50.126Z"
   },
   {
    "duration": 1943,
    "start_time": "2022-10-05T12:00:22.069Z"
   },
   {
    "duration": 951,
    "start_time": "2022-10-05T12:00:24.014Z"
   },
   {
    "duration": 193,
    "start_time": "2022-10-05T12:00:24.966Z"
   },
   {
    "duration": 8,
    "start_time": "2022-10-05T12:00:25.161Z"
   },
   {
    "duration": 12,
    "start_time": "2022-10-05T12:00:25.170Z"
   },
   {
    "duration": 130,
    "start_time": "2022-10-05T12:00:25.183Z"
   },
   {
    "duration": 202,
    "start_time": "2022-10-05T12:00:25.314Z"
   },
   {
    "duration": 196,
    "start_time": "2022-10-05T12:00:25.518Z"
   },
   {
    "duration": 604,
    "start_time": "2022-10-05T12:00:25.716Z"
   },
   {
    "duration": 0,
    "start_time": "2022-10-05T12:00:26.322Z"
   },
   {
    "duration": 0,
    "start_time": "2022-10-05T12:00:26.323Z"
   },
   {
    "duration": 0,
    "start_time": "2022-10-05T12:00:26.325Z"
   },
   {
    "duration": 0,
    "start_time": "2022-10-05T12:00:26.326Z"
   },
   {
    "duration": 0,
    "start_time": "2022-10-05T12:00:26.327Z"
   },
   {
    "duration": 0,
    "start_time": "2022-10-05T12:00:26.328Z"
   },
   {
    "duration": 0,
    "start_time": "2022-10-05T12:00:26.329Z"
   },
   {
    "duration": 0,
    "start_time": "2022-10-05T12:00:26.330Z"
   },
   {
    "duration": 0,
    "start_time": "2022-10-05T12:00:26.331Z"
   },
   {
    "duration": 0,
    "start_time": "2022-10-05T12:00:26.332Z"
   },
   {
    "duration": 1564,
    "start_time": "2022-10-05T12:00:48.415Z"
   },
   {
    "duration": 416,
    "start_time": "2022-10-05T12:00:49.983Z"
   },
   {
    "duration": 222,
    "start_time": "2022-10-05T12:00:50.401Z"
   },
   {
    "duration": 9,
    "start_time": "2022-10-05T12:00:50.626Z"
   },
   {
    "duration": 15,
    "start_time": "2022-10-05T12:00:50.639Z"
   },
   {
    "duration": 67,
    "start_time": "2022-10-05T12:00:50.656Z"
   },
   {
    "duration": 299,
    "start_time": "2022-10-05T12:00:50.724Z"
   },
   {
    "duration": 106,
    "start_time": "2022-10-05T12:00:51.028Z"
   },
   {
    "duration": 273,
    "start_time": "2022-10-05T12:00:51.136Z"
   },
   {
    "duration": 0,
    "start_time": "2022-10-05T12:00:51.412Z"
   },
   {
    "duration": 0,
    "start_time": "2022-10-05T12:00:51.413Z"
   },
   {
    "duration": 0,
    "start_time": "2022-10-05T12:00:51.415Z"
   },
   {
    "duration": 0,
    "start_time": "2022-10-05T12:00:51.416Z"
   },
   {
    "duration": 0,
    "start_time": "2022-10-05T12:00:51.417Z"
   },
   {
    "duration": 0,
    "start_time": "2022-10-05T12:00:51.419Z"
   },
   {
    "duration": 1,
    "start_time": "2022-10-05T12:00:51.420Z"
   },
   {
    "duration": 0,
    "start_time": "2022-10-05T12:00:51.422Z"
   },
   {
    "duration": 0,
    "start_time": "2022-10-05T12:00:51.423Z"
   },
   {
    "duration": 0,
    "start_time": "2022-10-05T12:00:51.424Z"
   },
   {
    "duration": 1365,
    "start_time": "2022-10-05T12:01:21.560Z"
   },
   {
    "duration": 362,
    "start_time": "2022-10-05T12:01:22.926Z"
   },
   {
    "duration": 232,
    "start_time": "2022-10-05T12:01:23.290Z"
   },
   {
    "duration": 8,
    "start_time": "2022-10-05T12:01:23.525Z"
   },
   {
    "duration": 7,
    "start_time": "2022-10-05T12:01:23.535Z"
   },
   {
    "duration": 77,
    "start_time": "2022-10-05T12:01:23.545Z"
   },
   {
    "duration": 103,
    "start_time": "2022-10-05T12:01:23.710Z"
   },
   {
    "duration": 197,
    "start_time": "2022-10-05T12:01:23.815Z"
   },
   {
    "duration": 99,
    "start_time": "2022-10-05T12:01:24.013Z"
   },
   {
    "duration": 5,
    "start_time": "2022-10-05T12:01:24.115Z"
   },
   {
    "duration": 6,
    "start_time": "2022-10-05T12:01:24.122Z"
   },
   {
    "duration": 21,
    "start_time": "2022-10-05T12:01:24.129Z"
   },
   {
    "duration": 11,
    "start_time": "2022-10-05T12:01:24.152Z"
   },
   {
    "duration": 47,
    "start_time": "2022-10-05T12:01:24.165Z"
   },
   {
    "duration": 3,
    "start_time": "2022-10-05T12:01:24.214Z"
   },
   {
    "duration": 12,
    "start_time": "2022-10-05T12:01:24.218Z"
   },
   {
    "duration": 599,
    "start_time": "2022-10-05T12:01:24.232Z"
   },
   {
    "duration": 483,
    "start_time": "2022-10-05T12:01:24.833Z"
   },
   {
    "duration": 471,
    "start_time": "2022-10-05T12:01:25.318Z"
   },
   {
    "duration": 1123,
    "start_time": "2022-10-05T12:02:42.369Z"
   },
   {
    "duration": 363,
    "start_time": "2022-10-05T12:02:43.494Z"
   },
   {
    "duration": 270,
    "start_time": "2022-10-05T12:02:43.859Z"
   },
   {
    "duration": 15,
    "start_time": "2022-10-05T12:02:44.131Z"
   },
   {
    "duration": 8,
    "start_time": "2022-10-05T12:02:44.148Z"
   },
   {
    "duration": 77,
    "start_time": "2022-10-05T12:02:44.158Z"
   },
   {
    "duration": 173,
    "start_time": "2022-10-05T12:02:44.237Z"
   },
   {
    "duration": 119,
    "start_time": "2022-10-05T12:02:44.414Z"
   },
   {
    "duration": 82,
    "start_time": "2022-10-05T12:02:44.535Z"
   },
   {
    "duration": 21,
    "start_time": "2022-10-05T12:02:44.708Z"
   },
   {
    "duration": 23,
    "start_time": "2022-10-05T12:02:44.731Z"
   },
   {
    "duration": 16,
    "start_time": "2022-10-05T12:02:44.756Z"
   },
   {
    "duration": 11,
    "start_time": "2022-10-05T12:02:44.773Z"
   },
   {
    "duration": 23,
    "start_time": "2022-10-05T12:02:44.786Z"
   },
   {
    "duration": 3,
    "start_time": "2022-10-05T12:02:44.811Z"
   },
   {
    "duration": 14,
    "start_time": "2022-10-05T12:02:44.815Z"
   },
   {
    "duration": 507,
    "start_time": "2022-10-05T12:02:44.831Z"
   },
   {
    "duration": 524,
    "start_time": "2022-10-05T12:02:45.341Z"
   },
   {
    "duration": 486,
    "start_time": "2022-10-05T12:02:45.866Z"
   }
  ],
  "kernelspec": {
   "display_name": "Python 3 (ipykernel)",
   "language": "python",
   "name": "python3"
  },
  "language_info": {
   "codemirror_mode": {
    "name": "ipython",
    "version": 3
   },
   "file_extension": ".py",
   "mimetype": "text/x-python",
   "name": "python",
   "nbconvert_exporter": "python",
   "pygments_lexer": "ipython3",
   "version": "3.9.15"
  },
  "toc": {
   "base_numbering": 1,
   "nav_menu": {},
   "number_sections": true,
   "sideBar": true,
   "skip_h1_title": true,
   "title_cell": "Table of Contents",
   "title_sidebar": "Contents",
   "toc_cell": false,
   "toc_position": {},
   "toc_section_display": true,
   "toc_window_display": false
  }
 },
 "nbformat": 4,
 "nbformat_minor": 2
}
